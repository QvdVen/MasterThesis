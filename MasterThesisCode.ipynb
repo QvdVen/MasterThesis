{
  "cells": [
    {
      "cell_type": "code",
      "execution_count": 1,
      "metadata": {
        "colab": {
          "base_uri": "https://localhost:8080/"
        },
        "id": "360JHdLyQcIE",
        "outputId": "47ec6a02-564a-4f2f-dbb1-6d2c8a998be7"
      },
      "outputs": [
        {
          "name": "stdout",
          "output_type": "stream",
          "text": [
            "Looking in indexes: https://pypi.org/simple, https://us-python.pkg.dev/colab-wheels/public/simple/\n",
            "Collecting nilearn\n",
            "  Downloading nilearn-0.10.1-py3-none-any.whl (10.3 MB)\n",
            "\u001b[2K     \u001b[90m━━━━━━━━━━━━━━━━━━━━━━━━━━━━━━━━━━━━━━━━\u001b[0m \u001b[32m10.3/10.3 MB\u001b[0m \u001b[31m83.3 MB/s\u001b[0m eta \u001b[36m0:00:00\u001b[0m\n",
            "\u001b[?25hRequirement already satisfied: joblib>=1.0.0 in /usr/local/lib/python3.10/dist-packages (from nilearn) (1.2.0)\n",
            "Requirement already satisfied: lxml in /usr/local/lib/python3.10/dist-packages (from nilearn) (4.9.2)\n",
            "Collecting nibabel>=3.2.0 (from nilearn)\n",
            "  Downloading nibabel-5.1.0-py3-none-any.whl (3.3 MB)\n",
            "\u001b[2K     \u001b[90m━━━━━━━━━━━━━━━━━━━━━━━━━━━━━━━━━━━━━━━━\u001b[0m \u001b[32m3.3/3.3 MB\u001b[0m \u001b[31m62.2 MB/s\u001b[0m eta \u001b[36m0:00:00\u001b[0m\n",
            "\u001b[?25hRequirement already satisfied: numpy>=1.19.0 in /usr/local/lib/python3.10/dist-packages (from nilearn) (1.22.4)\n",
            "Requirement already satisfied: packaging in /usr/local/lib/python3.10/dist-packages (from nilearn) (23.1)\n",
            "Requirement already satisfied: pandas>=1.1.5 in /usr/local/lib/python3.10/dist-packages (from nilearn) (1.5.3)\n",
            "Requirement already satisfied: requests>=2.25.0 in /usr/local/lib/python3.10/dist-packages (from nilearn) (2.27.1)\n",
            "Requirement already satisfied: scikit-learn>=1.0.0 in /usr/local/lib/python3.10/dist-packages (from nilearn) (1.2.2)\n",
            "Requirement already satisfied: scipy>=1.6.0 in /usr/local/lib/python3.10/dist-packages (from nilearn) (1.10.1)\n",
            "Requirement already satisfied: python-dateutil>=2.8.1 in /usr/local/lib/python3.10/dist-packages (from pandas>=1.1.5->nilearn) (2.8.2)\n",
            "Requirement already satisfied: pytz>=2020.1 in /usr/local/lib/python3.10/dist-packages (from pandas>=1.1.5->nilearn) (2022.7.1)\n",
            "Requirement already satisfied: urllib3<1.27,>=1.21.1 in /usr/local/lib/python3.10/dist-packages (from requests>=2.25.0->nilearn) (1.26.15)\n",
            "Requirement already satisfied: certifi>=2017.4.17 in /usr/local/lib/python3.10/dist-packages (from requests>=2.25.0->nilearn) (2022.12.7)\n",
            "Requirement already satisfied: charset-normalizer~=2.0.0 in /usr/local/lib/python3.10/dist-packages (from requests>=2.25.0->nilearn) (2.0.12)\n",
            "Requirement already satisfied: idna<4,>=2.5 in /usr/local/lib/python3.10/dist-packages (from requests>=2.25.0->nilearn) (3.4)\n",
            "Requirement already satisfied: threadpoolctl>=2.0.0 in /usr/local/lib/python3.10/dist-packages (from scikit-learn>=1.0.0->nilearn) (3.1.0)\n",
            "Requirement already satisfied: six>=1.5 in /usr/local/lib/python3.10/dist-packages (from python-dateutil>=2.8.1->pandas>=1.1.5->nilearn) (1.16.0)\n",
            "Installing collected packages: nibabel, nilearn\n",
            "  Attempting uninstall: nibabel\n",
            "    Found existing installation: nibabel 3.0.2\n",
            "    Uninstalling nibabel-3.0.2:\n",
            "      Successfully uninstalled nibabel-3.0.2\n",
            "Successfully installed nibabel-5.1.0 nilearn-0.10.1\n"
          ]
        }
      ],
      "source": [
        "# Installing the nilearn package\n",
        "!pip install nilearn"
      ]
    },
    {
      "cell_type": "code",
      "execution_count": 2,
      "metadata": {
        "colab": {
          "base_uri": "https://localhost:8080/"
        },
        "id": "Esoso8a0Chjk",
        "outputId": "a92cbdfb-fc51-4211-ac1a-dff2f6b23cf3"
      },
      "outputs": [
        {
          "name": "stdout",
          "output_type": "stream",
          "text": [
            "Mounted at /content/drive\n"
          ]
        }
      ],
      "source": [
        "# Mounting the google drive to the notebook\n",
        "from google.colab import drive\n",
        "drive.mount('/content/drive')"
      ]
    },
    {
      "cell_type": "code",
      "execution_count": 3,
      "metadata": {
        "id": "bdOHCrMfQSHL"
      },
      "outputs": [],
      "source": [
        "# This line allows plotting directly in the notebook\n",
        "%matplotlib inline\n",
        "\n",
        "# Importing the important packages\n",
        "import numpy as np\n",
        "import pandas as pd\n",
        "import matplotlib.pyplot as plt\n",
        "import tensorflow as tf\n",
        "import os\n",
        "import gc\n",
        "\n",
        "from sklearn.model_selection import train_test_split, GridSearchCV, cross_val_score\n",
        "from sklearn.svm import SVC\n",
        "from sklearn.metrics import classification_report, accuracy_score, confusion_matrix, ConfusionMatrixDisplay\n",
        "from sklearn.metrics import roc_auc_score, roc_curve\n",
        "\n",
        "from nilearn import image, plotting\n",
        "from nilearn.image import mean_img\n",
        "from nilearn.datasets import fetch_abide_pcp\n",
        "\n",
        "from tensorflow import keras\n",
        "from keras.models import Sequential\n",
        "from tensorflow.keras import layers\n",
        "from tensorflow.keras.optimizers import SGD\n",
        "from tensorflow.keras.callbacks import EarlyStopping\n",
        "from keras.utils.np_utils import to_categorical"
      ]
    },
    {
      "cell_type": "code",
      "execution_count": null,
      "metadata": {
        "colab": {
          "base_uri": "https://localhost:8080/"
        },
        "id": "qQvvtxFKCG04",
        "outputId": "253e8205-4664-4083-b3e7-f67602c19800"
      },
      "outputs": [
        {
          "name": "stdout",
          "output_type": "stream",
          "text": [
            "Package                       Version\n",
            "----------------------------- --------------------\n",
            "absl-py                       1.4.0\n",
            "alabaster                     0.7.13\n",
            "albumentations                1.2.1\n",
            "altair                        4.2.2\n",
            "anyio                         3.6.2\n",
            "appdirs                       1.4.4\n",
            "argon2-cffi                   21.3.0\n",
            "argon2-cffi-bindings          21.2.0\n",
            "array-record                  0.2.0\n",
            "arviz                         0.15.1\n",
            "astropy                       5.2.2\n",
            "astunparse                    1.6.3\n",
            "attrs                         23.1.0\n",
            "audioread                     3.0.0\n",
            "autograd                      1.5\n",
            "Babel                         2.12.1\n",
            "backcall                      0.2.0\n",
            "beautifulsoup4                4.11.2\n",
            "bleach                        6.0.0\n",
            "blis                          0.7.9\n",
            "blosc2                        2.0.0\n",
            "bokeh                         2.4.3\n",
            "branca                        0.6.0\n",
            "build                         0.10.0\n",
            "CacheControl                  0.12.11\n",
            "cached-property               1.5.2\n",
            "cachetools                    5.3.0\n",
            "catalogue                     2.0.8\n",
            "certifi                       2022.12.7\n",
            "cffi                          1.15.1\n",
            "chardet                       4.0.0\n",
            "charset-normalizer            2.0.12\n",
            "chex                          0.1.7\n",
            "click                         8.1.3\n",
            "cloudpickle                   2.2.1\n",
            "cmake                         3.25.2\n",
            "cmdstanpy                     1.1.0\n",
            "colorcet                      3.0.1\n",
            "colorlover                    0.3.0\n",
            "community                     1.0.0b1\n",
            "confection                    0.0.4\n",
            "cons                          0.4.5\n",
            "contextlib2                   0.6.0.post1\n",
            "contourpy                     1.0.7\n",
            "convertdate                   2.4.0\n",
            "cryptography                  40.0.2\n",
            "cufflinks                     0.17.3\n",
            "cvxopt                        1.3.0\n",
            "cvxpy                         1.3.1\n",
            "cycler                        0.11.0\n",
            "cymem                         2.0.7\n",
            "Cython                        0.29.34\n",
            "dask                          2022.12.1\n",
            "datascience                   0.17.6\n",
            "db-dtypes                     1.1.1\n",
            "dbus-python                   1.2.16\n",
            "debugpy                       1.6.6\n",
            "decorator                     4.4.2\n",
            "defusedxml                    0.7.1\n",
            "distributed                   2022.12.1\n",
            "dlib                          19.24.1\n",
            "dm-tree                       0.1.8\n",
            "docutils                      0.16\n",
            "dopamine-rl                   4.0.6\n",
            "duckdb                        0.7.1\n",
            "earthengine-api               0.1.350\n",
            "easydict                      1.10\n",
            "ecos                          2.0.12\n",
            "editdistance                  0.6.2\n",
            "en-core-web-sm                3.5.0\n",
            "entrypoints                   0.4\n",
            "ephem                         4.1.4\n",
            "et-xmlfile                    1.1.0\n",
            "etils                         1.2.0\n",
            "etuples                       0.3.8\n",
            "exceptiongroup                1.1.1\n",
            "fastai                        2.7.12\n",
            "fastcore                      1.5.29\n",
            "fastdownload                  0.0.7\n",
            "fastjsonschema                2.16.3\n",
            "fastprogress                  1.0.3\n",
            "fastrlock                     0.8.1\n",
            "filelock                      3.12.0\n",
            "firebase-admin                5.3.0\n",
            "Flask                         2.2.4\n",
            "flatbuffers                   23.3.3\n",
            "flax                          0.6.9\n",
            "folium                        0.14.0\n",
            "fonttools                     4.39.3\n",
            "frozendict                    2.3.7\n",
            "fsspec                        2023.4.0\n",
            "future                        0.18.3\n",
            "gast                          0.4.0\n",
            "GDAL                          3.3.2\n",
            "gdown                         4.6.6\n",
            "gensim                        4.3.1\n",
            "geographiclib                 2.0\n",
            "geopy                         2.3.0\n",
            "gin-config                    0.5.0\n",
            "glob2                         0.7\n",
            "google                        2.0.3\n",
            "google-api-core               2.11.0\n",
            "google-api-python-client      2.84.0\n",
            "google-auth                   2.17.3\n",
            "google-auth-httplib2          0.1.0\n",
            "google-auth-oauthlib          1.0.0\n",
            "google-cloud-bigquery         3.9.0\n",
            "google-cloud-bigquery-storage 2.19.1\n",
            "google-cloud-core             2.3.2\n",
            "google-cloud-datastore        2.15.1\n",
            "google-cloud-firestore        2.11.0\n",
            "google-cloud-language         2.9.1\n",
            "google-cloud-storage          2.8.0\n",
            "google-cloud-translate        3.11.1\n",
            "google-colab                  1.0.0\n",
            "google-crc32c                 1.5.0\n",
            "google-pasta                  0.2.0\n",
            "google-resumable-media        2.5.0\n",
            "googleapis-common-protos      1.59.0\n",
            "googledrivedownloader         0.4\n",
            "graphviz                      0.20.1\n",
            "greenlet                      2.0.2\n",
            "grpcio                        1.54.0\n",
            "grpcio-status                 1.48.2\n",
            "gspread                       3.4.2\n",
            "gspread-dataframe             3.0.8\n",
            "gym                           0.25.2\n",
            "gym-notices                   0.0.8\n",
            "h5netcdf                      1.1.0\n",
            "h5py                          3.8.0\n",
            "hijri-converter               2.3.1\n",
            "holidays                      0.23\n",
            "holoviews                     1.15.4\n",
            "html5lib                      1.1\n",
            "httpimport                    1.3.0\n",
            "httplib2                      0.21.0\n",
            "humanize                      4.6.0\n",
            "hyperopt                      0.2.7\n",
            "idna                          3.4\n",
            "imageio                       2.25.1\n",
            "imageio-ffmpeg                0.4.8\n",
            "imagesize                     1.4.1\n",
            "imbalanced-learn              0.10.1\n",
            "imgaug                        0.4.0\n",
            "importlib-resources           5.12.0\n",
            "imutils                       0.5.4\n",
            "inflect                       6.0.4\n",
            "iniconfig                     2.0.0\n",
            "intel-openmp                  2023.1.0\n",
            "ipykernel                     5.5.6\n",
            "ipython                       7.34.0\n",
            "ipython-genutils              0.2.0\n",
            "ipython-sql                   0.4.1\n",
            "ipywidgets                    7.7.1\n",
            "itsdangerous                  2.1.2\n",
            "jax                           0.4.8\n",
            "jaxlib                        0.4.7+cuda11.cudnn86\n",
            "jieba                         0.42.1\n",
            "Jinja2                        3.1.2\n",
            "joblib                        1.2.0\n",
            "jsonpickle                    3.0.1\n",
            "jsonschema                    4.3.3\n",
            "jupyter-client                6.1.12\n",
            "jupyter-console               6.1.0\n",
            "jupyter_core                  5.3.0\n",
            "jupyter-server                1.24.0\n",
            "jupyterlab-pygments           0.2.2\n",
            "jupyterlab-widgets            3.0.7\n",
            "kaggle                        1.5.13\n",
            "keras                         2.12.0\n",
            "kiwisolver                    1.4.4\n",
            "korean-lunar-calendar         0.3.1\n",
            "langcodes                     3.3.0\n",
            "lazy_loader                   0.2\n",
            "libclang                      16.0.0\n",
            "librosa                       0.10.0.post2\n",
            "lightgbm                      3.3.5\n",
            "lit                           16.0.3\n",
            "llvmlite                      0.39.1\n",
            "locket                        1.0.0\n",
            "logical-unification           0.4.5\n",
            "LunarCalendar                 0.0.9\n",
            "lxml                          4.9.2\n",
            "Markdown                      3.4.3\n",
            "markdown-it-py                2.2.0\n",
            "MarkupSafe                    2.1.2\n",
            "matplotlib                    3.7.1\n",
            "matplotlib-inline             0.1.6\n",
            "matplotlib-venn               0.11.9\n",
            "mdurl                         0.1.2\n",
            "miniKanren                    1.0.3\n",
            "missingno                     0.5.2\n",
            "mistune                       0.8.4\n",
            "mizani                        0.8.1\n",
            "mkl                           2019.0\n",
            "ml-dtypes                     0.1.0\n",
            "mlxtend                       0.14.0\n",
            "more-itertools                9.1.0\n",
            "moviepy                       1.0.3\n",
            "mpmath                        1.3.0\n",
            "msgpack                       1.0.5\n",
            "multipledispatch              0.6.0\n",
            "multitasking                  0.0.11\n",
            "murmurhash                    1.0.9\n",
            "music21                       8.1.0\n",
            "natsort                       8.3.1\n",
            "nbclient                      0.7.4\n",
            "nbconvert                     6.5.4\n",
            "nbformat                      5.8.0\n",
            "nest-asyncio                  1.5.6\n",
            "networkx                      3.1\n",
            "nibabel                       5.1.0\n",
            "nilearn                       0.10.1\n",
            "nltk                          3.8.1\n",
            "notebook                      6.4.8\n",
            "numba                         0.56.4\n",
            "numexpr                       2.8.4\n",
            "numpy                         1.22.4\n",
            "oauth2client                  4.1.3\n",
            "oauthlib                      3.2.2\n",
            "opencv-contrib-python         4.7.0.72\n",
            "opencv-python                 4.7.0.72\n",
            "opencv-python-headless        4.7.0.72\n",
            "openpyxl                      3.0.10\n",
            "opt-einsum                    3.3.0\n",
            "optax                         0.1.5\n",
            "orbax-checkpoint              0.2.1\n",
            "osqp                          0.6.2.post8\n",
            "packaging                     23.1\n",
            "palettable                    3.3.3\n",
            "pandas                        1.5.3\n",
            "pandas-datareader             0.10.0\n",
            "pandas-gbq                    0.17.9\n",
            "pandocfilters                 1.5.0\n",
            "panel                         0.14.4\n",
            "param                         1.13.0\n",
            "parso                         0.8.3\n",
            "partd                         1.4.0\n",
            "pathlib                       1.0.1\n",
            "pathy                         0.10.1\n",
            "patsy                         0.5.3\n",
            "pexpect                       4.8.0\n",
            "pickleshare                   0.7.5\n",
            "Pillow                        8.4.0\n",
            "pip                           23.1.2\n",
            "pip-tools                     6.13.0\n",
            "platformdirs                  3.3.0\n",
            "plotly                        5.13.1\n",
            "plotnine                      0.10.1\n",
            "pluggy                        1.0.0\n",
            "polars                        0.17.3\n",
            "pooch                         1.6.0\n",
            "portpicker                    1.3.9\n",
            "prefetch-generator            1.0.3\n",
            "preshed                       3.0.8\n",
            "prettytable                   0.7.2\n",
            "proglog                       0.1.10\n",
            "progressbar2                  4.2.0\n",
            "prometheus-client             0.16.0\n",
            "promise                       2.3\n",
            "prompt-toolkit                3.0.38\n",
            "prophet                       1.1.2\n",
            "proto-plus                    1.22.2\n",
            "protobuf                      3.20.3\n",
            "psutil                        5.9.5\n",
            "psycopg2                      2.9.6\n",
            "ptyprocess                    0.7.0\n",
            "py-cpuinfo                    9.0.0\n",
            "py4j                          0.10.9.7\n",
            "pyarrow                       9.0.0\n",
            "pyasn1                        0.5.0\n",
            "pyasn1-modules                0.3.0\n",
            "pycocotools                   2.0.6\n",
            "pycparser                     2.21\n",
            "pyct                          0.5.0\n",
            "pydantic                      1.10.7\n",
            "pydata-google-auth            1.7.0\n",
            "pydot                         1.4.2\n",
            "pydot-ng                      2.0.0\n",
            "pydotplus                     2.0.2\n",
            "PyDrive                       1.3.1\n",
            "pyerfa                        2.0.0.3\n",
            "pygame                        2.3.0\n",
            "Pygments                      2.14.0\n",
            "PyGObject                     3.36.0\n",
            "pymc                          5.1.2\n",
            "PyMeeus                       0.5.12\n",
            "pymystem3                     0.2.0\n",
            "PyOpenGL                      3.1.6\n",
            "pyparsing                     3.0.9\n",
            "pyproject_hooks               1.0.0\n",
            "pyrsistent                    0.19.3\n",
            "PySocks                       1.7.1\n",
            "pytensor                      2.10.1\n",
            "pytest                        7.2.2\n",
            "python-apt                    0.0.0\n",
            "python-dateutil               2.8.2\n",
            "python-louvain                0.16\n",
            "python-slugify                8.0.1\n",
            "python-utils                  3.5.2\n",
            "pytz                          2022.7.1\n",
            "pytz-deprecation-shim         0.1.0.post0\n",
            "pyviz-comms                   2.2.1\n",
            "PyWavelets                    1.4.1\n",
            "PyYAML                        6.0\n",
            "pyzmq                         23.2.1\n",
            "qdldl                         0.1.7\n",
            "qudida                        0.0.4\n",
            "regex                         2022.10.31\n",
            "requests                      2.27.1\n",
            "requests-oauthlib             1.3.1\n",
            "requests-unixsocket           0.2.0\n",
            "rich                          13.3.4\n",
            "rpy2                          3.5.5\n",
            "rsa                           4.9\n",
            "scikit-image                  0.19.3\n",
            "scikit-learn                  1.2.2\n",
            "scipy                         1.10.1\n",
            "scs                           3.2.3\n",
            "seaborn                       0.12.2\n",
            "Send2Trash                    1.8.0\n",
            "setuptools                    67.7.2\n",
            "shapely                       2.0.1\n",
            "six                           1.16.0\n",
            "sklearn-pandas                2.2.0\n",
            "smart-open                    6.3.0\n",
            "sniffio                       1.3.0\n",
            "snowballstemmer               2.2.0\n",
            "sortedcontainers              2.4.0\n",
            "soundfile                     0.12.1\n",
            "soupsieve                     2.4.1\n",
            "soxr                          0.3.5\n",
            "spacy                         3.5.2\n",
            "spacy-legacy                  3.0.12\n",
            "spacy-loggers                 1.0.4\n",
            "Sphinx                        3.5.4\n",
            "sphinxcontrib-applehelp       1.0.4\n",
            "sphinxcontrib-devhelp         1.0.2\n",
            "sphinxcontrib-htmlhelp        2.0.1\n",
            "sphinxcontrib-jsmath          1.0.1\n",
            "sphinxcontrib-qthelp          1.0.3\n",
            "sphinxcontrib-serializinghtml 1.1.5\n",
            "SQLAlchemy                    2.0.10\n",
            "sqlparse                      0.4.4\n",
            "srsly                         2.4.6\n",
            "statsmodels                   0.13.5\n",
            "sympy                         1.11.1\n",
            "tables                        3.8.0\n",
            "tabulate                      0.8.10\n",
            "tblib                         1.7.0\n",
            "tenacity                      8.2.2\n",
            "tensorboard                   2.12.2\n",
            "tensorboard-data-server       0.7.0\n",
            "tensorboard-plugin-wit        1.8.1\n",
            "tensorflow                    2.12.0\n",
            "tensorflow-datasets           4.9.2\n",
            "tensorflow-estimator          2.12.0\n",
            "tensorflow-gcs-config         2.12.0\n",
            "tensorflow-hub                0.13.0\n",
            "tensorflow-io-gcs-filesystem  0.32.0\n",
            "tensorflow-metadata           1.13.1\n",
            "tensorflow-probability        0.19.0\n",
            "tensorstore                   0.1.36\n",
            "termcolor                     2.3.0\n",
            "terminado                     0.17.1\n",
            "text-unidecode                1.3\n",
            "textblob                      0.17.1\n",
            "tf-slim                       1.1.0\n",
            "thinc                         8.1.9\n",
            "threadpoolctl                 3.1.0\n",
            "tifffile                      2023.4.12\n",
            "tinycss2                      1.2.1\n",
            "toml                          0.10.2\n",
            "tomli                         2.0.1\n",
            "toolz                         0.12.0\n",
            "torch                         2.0.0+cu118\n",
            "torchaudio                    2.0.1+cu118\n",
            "torchdata                     0.6.0\n",
            "torchsummary                  1.5.1\n",
            "torchtext                     0.15.1\n",
            "torchvision                   0.15.1+cu118\n",
            "tornado                       6.2\n",
            "tqdm                          4.65.0\n",
            "traitlets                     5.7.1\n",
            "triton                        2.0.0\n",
            "tweepy                        4.13.0\n",
            "typer                         0.7.0\n",
            "typing_extensions             4.5.0\n",
            "tzdata                        2023.3\n",
            "tzlocal                       4.3\n",
            "uritemplate                   4.1.1\n",
            "urllib3                       1.26.15\n",
            "vega-datasets                 0.9.0\n",
            "wasabi                        1.1.1\n",
            "wcwidth                       0.2.6\n",
            "webcolors                     1.13\n",
            "webencodings                  0.5.1\n",
            "websocket-client              1.5.1\n",
            "Werkzeug                      2.3.0\n",
            "wheel                         0.40.0\n",
            "widgetsnbextension            3.6.4\n",
            "wordcloud                     1.8.2.2\n",
            "wrapt                         1.14.1\n",
            "xarray                        2022.12.0\n",
            "xarray-einstats               0.5.1\n",
            "xgboost                       1.7.5\n",
            "xlrd                          2.0.1\n",
            "yellowbrick                   1.5\n",
            "yfinance                      0.2.18\n",
            "zict                          3.0.0\n",
            "zipp                          3.15.0\n"
          ]
        }
      ],
      "source": [
        "# Checking the versions of the packages\n",
        "!pip list"
      ]
    },
    {
      "cell_type": "code",
      "execution_count": null,
      "metadata": {
        "colab": {
          "base_uri": "https://localhost:8080/"
        },
        "id": "yGFsrnU70hms",
        "outputId": "974792ea-a8ab-4106-e218-3ce20f654d5e"
      },
      "outputs": [
        {
          "name": "stdout",
          "output_type": "stream",
          "text": [
            "Tue May  2 11:00:57 2023       \n",
            "+-----------------------------------------------------------------------------+\n",
            "| NVIDIA-SMI 525.85.12    Driver Version: 525.85.12    CUDA Version: 12.0     |\n",
            "|-------------------------------+----------------------+----------------------+\n",
            "| GPU  Name        Persistence-M| Bus-Id        Disp.A | Volatile Uncorr. ECC |\n",
            "| Fan  Temp  Perf  Pwr:Usage/Cap|         Memory-Usage | GPU-Util  Compute M. |\n",
            "|                               |                      |               MIG M. |\n",
            "|===============================+======================+======================|\n",
            "|   0  Tesla T4            Off  | 00000000:00:04.0 Off |                    0 |\n",
            "| N/A   63C    P0    31W /  70W |    373MiB / 15360MiB |      1%      Default |\n",
            "|                               |                      |                  N/A |\n",
            "+-------------------------------+----------------------+----------------------+\n",
            "                                                                               \n",
            "+-----------------------------------------------------------------------------+\n",
            "| Processes:                                                                  |\n",
            "|  GPU   GI   CI        PID   Type   Process name                  GPU Memory |\n",
            "|        ID   ID                                                   Usage      |\n",
            "|=============================================================================|\n",
            "+-----------------------------------------------------------------------------+\n"
          ]
        }
      ],
      "source": [
        "# Checking the GPU Google Colab uses\n",
        "!nvidia-smi"
      ]
    },
    {
      "cell_type": "code",
      "execution_count": 4,
      "metadata": {
        "colab": {
          "base_uri": "https://localhost:8080/"
        },
        "id": "eNHogbINQg67",
        "outputId": "e64e0497-f4f0-4a74-ca32-05d15decc75f"
      },
      "outputs": [
        {
          "name": "stderr",
          "output_type": "stream",
          "text": [
            "/usr/local/lib/python3.10/dist-packages/nilearn/datasets/func.py:1192: UserWarning: `legacy_format` will default to `False` in release 0.11. Dataset fetchers will then return pandas dataframes by default instead of recarrays.\n",
            "  warnings.warn(_LEGACY_FORMAT_MSG)\n"
          ]
        },
        {
          "name": "stdout",
          "output_type": "stream",
          "text": [
            "dict_keys(['description', 'phenotypic', 'func_preproc', 'reho'])\n"
          ]
        }
      ],
      "source": [
        "# The abide datset is imported here. We specify where we want the data to be loaded \n",
        "# and which preprocessing pipeline to use,which derivatives to download, and\n",
        "# the number of subjects we want to download.\n",
        "abide = fetch_abide_pcp(data_dir = r'/content/drive/MyDrive/MasterThesis/Data',\n",
        "                        pipeline = 'cpac',\n",
        "                        derivatives=['func_preproc','reho'],\n",
        "                        \n",
        "                        band_pass_filtering = True,\n",
        "                        global_signal_regression = True,\n",
        "                        verbose = 1,\n",
        "                        n_subjects = 500\n",
        "                        )\n",
        "                    \n",
        "                                         \n",
        "# We look at the available data in this dataset\n",
        "print(abide.keys())"
      ]
    },
    {
      "cell_type": "code",
      "execution_count": 6,
      "metadata": {
        "colab": {
          "base_uri": "https://localhost:8080/"
        },
        "id": "3Yeq-4Q7TYZK",
        "outputId": "4b70fbb2-0033-48a3-a780-bdd8e7a49b27"
      },
      "outputs": [
        {
          "name": "stdout",
          "output_type": "stream",
          "text": [
            "500\n"
          ]
        }
      ],
      "source": [
        "# Assigning the fMRI scans, reho images and phenotypical data to variables\n",
        "func = abide.func_preproc\n",
        "pheno = abide.phenotypic\n",
        "reho = abide.reho\n",
        "\n",
        "# Checking how many instances we have\n",
        "print(len(func))"
      ]
    },
    {
      "cell_type": "code",
      "execution_count": 7,
      "metadata": {
        "id": "O7f-LXulRB_c"
      },
      "outputs": [],
      "source": [
        "# Turning the phenotypical data into a pandas DataFrame\n",
        "pheno_pd = pd.DataFrame(pheno)"
      ]
    },
    {
      "cell_type": "code",
      "execution_count": 8,
      "metadata": {
        "id": "hT6eMRZxRLh7"
      },
      "outputs": [],
      "source": [
        "# Transforming the labels of the DX_GROUP for ease of analysis where\n",
        "# 0 = TD and 1 = ASD\n",
        "adj_dx = pheno_pd['DX_GROUP'].replace([1, 2], [1, 0])\n",
        "pheno_pd['DX_GROUP'] = adj_dx"
      ]
    },
    {
      "cell_type": "code",
      "execution_count": 9,
      "metadata": {
        "colab": {
          "base_uri": "https://localhost:8080/"
        },
        "id": "m-IRdaHFRNi7",
        "outputId": "032086a4-e9bc-4b32-a1c6-5db4f2d1848f"
      },
      "outputs": [
        {
          "data": {
            "text/plain": [
              "0    258\n",
              "1    242\n",
              "Name: DX_GROUP, dtype: int64"
            ]
          },
          "execution_count": 9,
          "metadata": {},
          "output_type": "execute_result"
        }
      ],
      "source": [
        "# Looking how many instances we have of each group\n",
        "pheno_pd['DX_GROUP'].value_counts()"
      ]
    },
    {
      "cell_type": "code",
      "execution_count": 10,
      "metadata": {
        "colab": {
          "base_uri": "https://localhost:8080/"
        },
        "id": "hBQSHsbZa5Rx",
        "outputId": "aebe803d-41c1-4ef8-ac14-47a1f07b921b"
      },
      "outputs": [
        {
          "data": {
            "text/plain": [
              "UM_1        86\n",
              "USM         67\n",
              "PITT        50\n",
              "YALE        41\n",
              "UM_2        34\n",
              "TRINITY     33\n",
              "KKI         33\n",
              "OLIN        28\n",
              "LEUVEN_1    28\n",
              "LEUVEN_2    28\n",
              "SDSU        27\n",
              "OHSU        25\n",
              "CMU         11\n",
              "NYU          9\n",
              "Name: SITE_ID, dtype: int64"
            ]
          },
          "execution_count": 10,
          "metadata": {},
          "output_type": "execute_result"
        }
      ],
      "source": [
        "# Checking the number of subjects per data collection site\n",
        "pheno_pd['SITE_ID'].value_counts()"
      ]
    },
    {
      "cell_type": "code",
      "execution_count": 11,
      "metadata": {
        "colab": {
          "base_uri": "https://localhost:8080/",
          "height": 334
        },
        "id": "KAS8ZNr4ZTKu",
        "outputId": "1f86e2e1-4144-4139-c2cb-a52dff7c7ffe"
      },
      "outputs": [
        {
          "data": {
            "text/html": [
              "\n",
              "  <div id=\"df-04a6018e-60ac-49f7-9ee8-b89e4d0a32d2\">\n",
              "    <div class=\"colab-df-container\">\n",
              "      <div>\n",
              "<style scoped>\n",
              "    .dataframe tbody tr th:only-of-type {\n",
              "        vertical-align: middle;\n",
              "    }\n",
              "\n",
              "    .dataframe tbody tr th {\n",
              "        vertical-align: top;\n",
              "    }\n",
              "\n",
              "    .dataframe thead th {\n",
              "        text-align: right;\n",
              "    }\n",
              "</style>\n",
              "<table border=\"1\" class=\"dataframe\">\n",
              "  <thead>\n",
              "    <tr style=\"text-align: right;\">\n",
              "      <th></th>\n",
              "      <th>i</th>\n",
              "      <th>Unnamed: 0</th>\n",
              "      <th>SUB_ID</th>\n",
              "      <th>X</th>\n",
              "      <th>subject</th>\n",
              "      <th>SITE_ID</th>\n",
              "      <th>FILE_ID</th>\n",
              "      <th>DX_GROUP</th>\n",
              "      <th>DSM_IV_TR</th>\n",
              "      <th>AGE_AT_SCAN</th>\n",
              "      <th>...</th>\n",
              "      <th>qc_notes_rater_1</th>\n",
              "      <th>qc_anat_rater_2</th>\n",
              "      <th>qc_anat_notes_rater_2</th>\n",
              "      <th>qc_func_rater_2</th>\n",
              "      <th>qc_func_notes_rater_2</th>\n",
              "      <th>qc_anat_rater_3</th>\n",
              "      <th>qc_anat_notes_rater_3</th>\n",
              "      <th>qc_func_rater_3</th>\n",
              "      <th>qc_func_notes_rater_3</th>\n",
              "      <th>SUB_IN_SMP</th>\n",
              "    </tr>\n",
              "  </thead>\n",
              "  <tbody>\n",
              "    <tr>\n",
              "      <th>0</th>\n",
              "      <td>1</td>\n",
              "      <td>2</td>\n",
              "      <td>50003</td>\n",
              "      <td>2</td>\n",
              "      <td>50003</td>\n",
              "      <td>PITT</td>\n",
              "      <td>Pitt_0050003</td>\n",
              "      <td>1</td>\n",
              "      <td>1</td>\n",
              "      <td>24.45</td>\n",
              "      <td>...</td>\n",
              "      <td>NaN</td>\n",
              "      <td>OK</td>\n",
              "      <td>NaN</td>\n",
              "      <td>OK</td>\n",
              "      <td>NaN</td>\n",
              "      <td>OK</td>\n",
              "      <td>NaN</td>\n",
              "      <td>OK</td>\n",
              "      <td>NaN</td>\n",
              "      <td>1</td>\n",
              "    </tr>\n",
              "    <tr>\n",
              "      <th>1</th>\n",
              "      <td>2</td>\n",
              "      <td>3</td>\n",
              "      <td>50004</td>\n",
              "      <td>3</td>\n",
              "      <td>50004</td>\n",
              "      <td>PITT</td>\n",
              "      <td>Pitt_0050004</td>\n",
              "      <td>1</td>\n",
              "      <td>1</td>\n",
              "      <td>19.09</td>\n",
              "      <td>...</td>\n",
              "      <td>NaN</td>\n",
              "      <td>OK</td>\n",
              "      <td>NaN</td>\n",
              "      <td>OK</td>\n",
              "      <td>NaN</td>\n",
              "      <td>OK</td>\n",
              "      <td>NaN</td>\n",
              "      <td>OK</td>\n",
              "      <td>NaN</td>\n",
              "      <td>1</td>\n",
              "    </tr>\n",
              "    <tr>\n",
              "      <th>2</th>\n",
              "      <td>3</td>\n",
              "      <td>4</td>\n",
              "      <td>50005</td>\n",
              "      <td>4</td>\n",
              "      <td>50005</td>\n",
              "      <td>PITT</td>\n",
              "      <td>Pitt_0050005</td>\n",
              "      <td>1</td>\n",
              "      <td>1</td>\n",
              "      <td>13.73</td>\n",
              "      <td>...</td>\n",
              "      <td>NaN</td>\n",
              "      <td>OK</td>\n",
              "      <td>NaN</td>\n",
              "      <td>maybe</td>\n",
              "      <td>ic-parietal-cerebellum</td>\n",
              "      <td>OK</td>\n",
              "      <td>NaN</td>\n",
              "      <td>OK</td>\n",
              "      <td>NaN</td>\n",
              "      <td>0</td>\n",
              "    </tr>\n",
              "    <tr>\n",
              "      <th>3</th>\n",
              "      <td>4</td>\n",
              "      <td>5</td>\n",
              "      <td>50006</td>\n",
              "      <td>5</td>\n",
              "      <td>50006</td>\n",
              "      <td>PITT</td>\n",
              "      <td>Pitt_0050006</td>\n",
              "      <td>1</td>\n",
              "      <td>1</td>\n",
              "      <td>13.37</td>\n",
              "      <td>...</td>\n",
              "      <td>NaN</td>\n",
              "      <td>OK</td>\n",
              "      <td>NaN</td>\n",
              "      <td>maybe</td>\n",
              "      <td>ic-parietal slight</td>\n",
              "      <td>OK</td>\n",
              "      <td>NaN</td>\n",
              "      <td>OK</td>\n",
              "      <td>NaN</td>\n",
              "      <td>1</td>\n",
              "    </tr>\n",
              "    <tr>\n",
              "      <th>4</th>\n",
              "      <td>5</td>\n",
              "      <td>6</td>\n",
              "      <td>50007</td>\n",
              "      <td>6</td>\n",
              "      <td>50007</td>\n",
              "      <td>PITT</td>\n",
              "      <td>Pitt_0050007</td>\n",
              "      <td>1</td>\n",
              "      <td>1</td>\n",
              "      <td>17.78</td>\n",
              "      <td>...</td>\n",
              "      <td>NaN</td>\n",
              "      <td>OK</td>\n",
              "      <td>NaN</td>\n",
              "      <td>maybe</td>\n",
              "      <td>ic-cerebellum_temporal_lob</td>\n",
              "      <td>OK</td>\n",
              "      <td>NaN</td>\n",
              "      <td>OK</td>\n",
              "      <td>NaN</td>\n",
              "      <td>1</td>\n",
              "    </tr>\n",
              "  </tbody>\n",
              "</table>\n",
              "<p>5 rows × 106 columns</p>\n",
              "</div>\n",
              "      <button class=\"colab-df-convert\" onclick=\"convertToInteractive('df-04a6018e-60ac-49f7-9ee8-b89e4d0a32d2')\"\n",
              "              title=\"Convert this dataframe to an interactive table.\"\n",
              "              style=\"display:none;\">\n",
              "        \n",
              "  <svg xmlns=\"http://www.w3.org/2000/svg\" height=\"24px\"viewBox=\"0 0 24 24\"\n",
              "       width=\"24px\">\n",
              "    <path d=\"M0 0h24v24H0V0z\" fill=\"none\"/>\n",
              "    <path d=\"M18.56 5.44l.94 2.06.94-2.06 2.06-.94-2.06-.94-.94-2.06-.94 2.06-2.06.94zm-11 1L8.5 8.5l.94-2.06 2.06-.94-2.06-.94L8.5 2.5l-.94 2.06-2.06.94zm10 10l.94 2.06.94-2.06 2.06-.94-2.06-.94-.94-2.06-.94 2.06-2.06.94z\"/><path d=\"M17.41 7.96l-1.37-1.37c-.4-.4-.92-.59-1.43-.59-.52 0-1.04.2-1.43.59L10.3 9.45l-7.72 7.72c-.78.78-.78 2.05 0 2.83L4 21.41c.39.39.9.59 1.41.59.51 0 1.02-.2 1.41-.59l7.78-7.78 2.81-2.81c.8-.78.8-2.07 0-2.86zM5.41 20L4 18.59l7.72-7.72 1.47 1.35L5.41 20z\"/>\n",
              "  </svg>\n",
              "      </button>\n",
              "      \n",
              "  <style>\n",
              "    .colab-df-container {\n",
              "      display:flex;\n",
              "      flex-wrap:wrap;\n",
              "      gap: 12px;\n",
              "    }\n",
              "\n",
              "    .colab-df-convert {\n",
              "      background-color: #E8F0FE;\n",
              "      border: none;\n",
              "      border-radius: 50%;\n",
              "      cursor: pointer;\n",
              "      display: none;\n",
              "      fill: #1967D2;\n",
              "      height: 32px;\n",
              "      padding: 0 0 0 0;\n",
              "      width: 32px;\n",
              "    }\n",
              "\n",
              "    .colab-df-convert:hover {\n",
              "      background-color: #E2EBFA;\n",
              "      box-shadow: 0px 1px 2px rgba(60, 64, 67, 0.3), 0px 1px 3px 1px rgba(60, 64, 67, 0.15);\n",
              "      fill: #174EA6;\n",
              "    }\n",
              "\n",
              "    [theme=dark] .colab-df-convert {\n",
              "      background-color: #3B4455;\n",
              "      fill: #D2E3FC;\n",
              "    }\n",
              "\n",
              "    [theme=dark] .colab-df-convert:hover {\n",
              "      background-color: #434B5C;\n",
              "      box-shadow: 0px 1px 3px 1px rgba(0, 0, 0, 0.15);\n",
              "      filter: drop-shadow(0px 1px 2px rgba(0, 0, 0, 0.3));\n",
              "      fill: #FFFFFF;\n",
              "    }\n",
              "  </style>\n",
              "\n",
              "      <script>\n",
              "        const buttonEl =\n",
              "          document.querySelector('#df-04a6018e-60ac-49f7-9ee8-b89e4d0a32d2 button.colab-df-convert');\n",
              "        buttonEl.style.display =\n",
              "          google.colab.kernel.accessAllowed ? 'block' : 'none';\n",
              "\n",
              "        async function convertToInteractive(key) {\n",
              "          const element = document.querySelector('#df-04a6018e-60ac-49f7-9ee8-b89e4d0a32d2');\n",
              "          const dataTable =\n",
              "            await google.colab.kernel.invokeFunction('convertToInteractive',\n",
              "                                                     [key], {});\n",
              "          if (!dataTable) return;\n",
              "\n",
              "          const docLinkHtml = 'Like what you see? Visit the ' +\n",
              "            '<a target=\"_blank\" href=https://colab.research.google.com/notebooks/data_table.ipynb>data table notebook</a>'\n",
              "            + ' to learn more about interactive tables.';\n",
              "          element.innerHTML = '';\n",
              "          dataTable['output_type'] = 'display_data';\n",
              "          await google.colab.output.renderOutput(dataTable, element);\n",
              "          const docLink = document.createElement('div');\n",
              "          docLink.innerHTML = docLinkHtml;\n",
              "          element.appendChild(docLink);\n",
              "        }\n",
              "      </script>\n",
              "    </div>\n",
              "  </div>\n",
              "  "
            ],
            "text/plain": [
              "   i  Unnamed: 0  SUB_ID  X  subject SITE_ID       FILE_ID  DX_GROUP  \\\n",
              "0  1           2   50003  2    50003    PITT  Pitt_0050003         1   \n",
              "1  2           3   50004  3    50004    PITT  Pitt_0050004         1   \n",
              "2  3           4   50005  4    50005    PITT  Pitt_0050005         1   \n",
              "3  4           5   50006  5    50006    PITT  Pitt_0050006         1   \n",
              "4  5           6   50007  6    50007    PITT  Pitt_0050007         1   \n",
              "\n",
              "   DSM_IV_TR  AGE_AT_SCAN  ...  qc_notes_rater_1 qc_anat_rater_2  \\\n",
              "0          1        24.45  ...               NaN              OK   \n",
              "1          1        19.09  ...               NaN              OK   \n",
              "2          1        13.73  ...               NaN              OK   \n",
              "3          1        13.37  ...               NaN              OK   \n",
              "4          1        17.78  ...               NaN              OK   \n",
              "\n",
              "   qc_anat_notes_rater_2  qc_func_rater_2       qc_func_notes_rater_2  \\\n",
              "0                    NaN               OK                         NaN   \n",
              "1                    NaN               OK                         NaN   \n",
              "2                    NaN            maybe      ic-parietal-cerebellum   \n",
              "3                    NaN            maybe          ic-parietal slight   \n",
              "4                    NaN            maybe  ic-cerebellum_temporal_lob   \n",
              "\n",
              "   qc_anat_rater_3 qc_anat_notes_rater_3 qc_func_rater_3  \\\n",
              "0               OK                   NaN              OK   \n",
              "1               OK                   NaN              OK   \n",
              "2               OK                   NaN              OK   \n",
              "3               OK                   NaN              OK   \n",
              "4               OK                   NaN              OK   \n",
              "\n",
              "  qc_func_notes_rater_3  SUB_IN_SMP  \n",
              "0                   NaN           1  \n",
              "1                   NaN           1  \n",
              "2                   NaN           0  \n",
              "3                   NaN           1  \n",
              "4                   NaN           1  \n",
              "\n",
              "[5 rows x 106 columns]"
            ]
          },
          "execution_count": 11,
          "metadata": {},
          "output_type": "execute_result"
        }
      ],
      "source": [
        "# Checking out the phenotypical data\n",
        "pheno_pd.head()"
      ]
    },
    {
      "cell_type": "code",
      "execution_count": 12,
      "metadata": {
        "id": "xLfc6xyXOgs6"
      },
      "outputs": [],
      "source": [
        "# Creating a vector of the labels\n",
        "labels = pheno_pd['DX_GROUP'].values"
      ]
    },
    {
      "attachments": {},
      "cell_type": "markdown",
      "metadata": {
        "id": "dHuJn84RTopT"
      },
      "source": [
        "# **Visualization**"
      ]
    },
    {
      "cell_type": "code",
      "execution_count": null,
      "metadata": {
        "colab": {
          "base_uri": "https://localhost:8080/",
          "height": 292
        },
        "id": "lOfP8KSmTs1-",
        "outputId": "088fc29d-0447-4eb5-997b-05adf2669cfc"
      },
      "outputs": [
        {
          "data": {
            "text/html": [
              "<iframe srcdoc=\"&lt;!DOCTYPE html&gt;\n",
              "&lt;html lang=&quot;en&quot;&gt;\n",
              "&lt;head&gt;\n",
              "    &lt;title&gt;Reho Image&lt;/title&gt;\n",
              "    &lt;meta charset=&quot;UTF-8&quot; /&gt;\n",
              "&lt;/head&gt;\n",
              "&lt;body&gt;\n",
              "  &lt;div id=&quot;div_viewer&quot;&gt;\n",
              "    &lt;!-- this is the canvas that will feature the brain slices --&gt;\n",
              "    &lt;canvas id=&quot;3Dviewer&quot;&gt;\n",
              "    &lt;!-- load a hidden version of the sprite image that includes all (sagittal) brain slices --&gt;\n",
              "    &lt;img id=&quot;spriteImg&quot; class=&quot;hidden&quot; src=&quot;data:image/png;base64,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&quot; alt=&quot;background&quot; /&gt;\n",
              "    &lt;!-- the colormap --&gt;\n",
              "    &lt;img id=&quot;colorMap&quot; class=&quot;hidden&quot; src=&quot;data:image/png;base64,&quot; alt=&quot;colormap&quot;&gt;\n",
              "    &lt;!-- another sprite image, with an overlay--&gt;\n",
              "    &lt;img id=&quot;overlayImg&quot; class=&quot;hidden&quot; src=&quot;data:image/png;base64,iVBORw0KGgoAAAANSUhEUgAAAkgAAAHoCAYAAACy6hDcAAAAOXRFWHRTb2Z0d2FyZQBNYXRwbG90bGliIHZlcnNpb24zLjcuMSwgaHR0cHM6Ly9tYXRwbG90bGliLm9yZy/bCgiHAAAACXBIWXMAAA9hAAAPYQGoP6dpAAEAAElEQVR4nOz9YYxk15Xnif2ioYidibfYfNWoqJ7NbEwlZqukVUmYYhvkjMVuNEcwJUNqodXCtAn3EuiW7DHtBYEF4YEIG/xSsF2wIX7Y8gKEjYIXog2UByAWIGYhQlhaAK0Gl9qmiJEK4BTNrkIrE1AGWoqE+GLR8aY73kLPH+79v3vujchiVlVkZmTy/oHIyHjx3ot3zzv3nP8599z7ICMjIyMjIyMjIyMjIyMjIyMjIyMjIyMjIyMjIyMjIyMjIyMjIyMjIyMjIyMjIyMjIyMjIyMjIyMjIyMjIyMjIyMjIyMjIyMjIyMjIyMjIyMjIyMjIyMjIyMjIyMjIyMjIyMjIyMjIyMjIyMjIyMjIyMjIyMjIyMjIyMjIyMjIyMjIyMjIyMjIyMjIyMjIyMjIyMjIyMjIyMjIyMjIyMjIyMjIyMjIyMjIyMjIyMjIyMjIyMjIyMjIyMjIyMjIyMjIyMjIyMjIyMjIyMjIyMjIyMjIyMjIyMjIyMjIyMjIyMjIyMjIyMjIyMjIyMjIyMjIyMjIyMjIyMjIyMjI2Pd0TvpC8jIyMjIyMj4ZOE6tCOg8a8Z8NKacZJPnfQFZGRkZGRkZHxy8Dy0A+C5NSNEKdb64jIyMjIyMjLOBr4G7RAogZungH/8xklfQEZGRkZGRsbZRx83nHYayFFGRkZGRkZGxpHja9B+DdqTvo6MjIyMjIyMjIyMjIyMjIyMjHXD8/fJGr0I7QvQPrummaU8DpiRkZGRkZFxbLgOrZ3ePwUq4PXMSTIyMjIyMjI+qbgJ7TWTNfpWziBlZGRkZGRkfFLxul//aAd4PvOPjIyMjIyMjAyHV9Y0W7QMeR2kjIyMjIyMjGPBOyd9ARkZGRkZGRkZGRkZGRkZGRkZGRkZGRkZGRkZGRkZGRkZGRkZGRkZGRkZGRkZGRkZGRkZGRkZGRkZGRkZGRkZGRkZGRkZGRkZGRkZGRkZGRkZGRkZGRkZGRkZGRkZGRkZGRkZGRkZGRkZGRkZGRkZGRkZGRkZGRkZGRkZGRkZGRkZGRkZGRkZGRkZGRkZGRkZGRkZGRkZGRkZGRkZGRkZGRkZGRkZGRkZGRkZGRkZGRkZGRkZGRkZGRkZGRkZGRkZGRkZGRkZGRkZGRkZGRkZGRkZGRkZGRkZGRkZGRkZGRkZGRkZGRkZGRkZGRkZGRkZGRkZGRkZGRkZGRkZGRkZGRkZGRkZGRkZGRkZGRkZGRkZGRkZGRkZGRkZGRkZGRkZGRkZGRkZGRkZGRkZGRkZGRkZGRkZGRkZGRkZGRkZGRkZGRkZGRkZGRkZGRkZJ4GXoD3pa1h3vAvta1lOHdrHadt/Ttt+gba9RNtepG03aH8F7RvQXlszWfVO+gIyMjIy1gnPQ/tKto0RbkL7mP9/4t/7wJeznDq052l5DCegOzBvYNCHjxr4zU+InF6E9jtJW38G7fYQeBx4Aqc4d4Fdv8MQmEJ7G94B7gC1/6rBiTM953HhUyfxoxkZGRknjeeg7QMj4JoxwE8DT0FbAWOcwX7tE+LgAF6F9iLOSU1w/uxx4DNGBr+Cdgp8CO0YuA288AmR0WvQbgMXcbKpgRJgC9gENoAZDHahbdx3v4L2Dk5Oz59hOYnIfOiaziZwbgPXyQZA5Xec+FeDE2Ifehtweeq+9m/0gdkxXfsyZIKUkfEJwqueFEz45Dg0i9egfca3+2mccxvhDHqJM8gDYI6T0S5QuOPOPG5BuwlcBc6dB6bwl42TwwhoP0vLiE4wg9rJqTi5Sz5W/ATay/7/oo9jSDUMxl4OezhB9YHGZZAq/7EAtt3u3IS29ttLfwicjWxce4mWAtiB+dRl0AAXaVQExj1x22ZNx48Ax5cwn/s4uf0c2qE/7D3gx8CNY5BXJkgZGWcQt6BV5FWa1ybOCO3hyNIdTi59fRJ4GjcU0u6HLH+Jc1Lnhv7DEIoKin1Hlma4epvrZ1xOT+KSH+fOA5eBCkYfuGh+Cpyb4AQCwYMRHP0tn02aE3TtG2dAZs9B+3XgsT6uURXBk+PaOwbYh3N3cEKs3G5jgnzUHwucGDdwYr7M6ca3oP0u9P4GWkoCI5z6NNLUJ4tq2NyH3nmgcUOPNomkBNMUJ6sGN/pW4sTeuwTnKmj2QyLqqJEJUsaphM0EZDi877MgDc5oaxx/iCEAQ2j33faG4zM064CfQXvuPLAFvQK2doOMAGelTQZgMIVh4zZtnsD1HhdehfYLuHYOtTEhABUw2/fZIpMyqs2uQ5zTL4Ar/tX2af+yiYfnThseBy5BN97TTl2bB967Twn9aDB25LqtnWzk6GucHPUZguMfnHeff75P+2NchuQ0kfHv+mvtA+y4bfP9kCwC97/62uY+9PpODlZ2Gq6cEMhk4/+vgcIrW4HT1euekB9lvWAmSGuIV6H9ZnLTX4F2Qlwr8UnGVwl1EIpY+7iI7fOfQBm9C+0VQnQmIy6ydE5DAoUjB9sT2PAW64Y3NHD2skkve+e/DWwplB8C8zi1XwPnLKP0X5aGIN30BPQy3egKv33K5XUD2qs4+Qz6PuIXc64DAapwWcftfRgM6AQn/QKXARgQCPngIlDCp3fg/SntaeyXr3n5bOFIT1OHrMfIF8pUOEevTMhW7WQgsiknL6I0I+idEnLgZHaZiJueCvwa2t4QaByJrggkp/T7VDgZqc+NzNCaCJAIkj5Lr6Y43RuNgyxL4DGc3r5yhG3LBGmN8Cq0I8KY9JvQalz6SZxiXDuZS1sL/A20RZ8u71rMoNz30UUf2IBzQFvTtrUriLyNC2rGwM1TaKAPi0tATwWitWvooIG+d/rzxtWMdOHXCM7N4KkP3KY9dxi3oH32DMnpEs7pXFCu3meHqMNIiV7DxqXwO+9VOtIwmjoHKec/xMmsPK5GHBFueVJ9GRh4b96D4Mmr4Oy0uQC2Zu6ftHZEXVOfmeF0bRs+twe/2Kd9h9Mz7PYutE9s4G505YKOipDdqPy76o0t6dkkjDTZLGVaazMHiiZ8J5L0JrQ7wHNrLqv2Ki2XCDP39uP6a7WzIsjB6o0ZqV0ghvb4GmfDta3E6ZoCl6OSUyZIa4RvJjf5Mq54VIYZ/1nK8gdr3nlWiZ/54uIIBfRqGCr8kKC2XQr3sbsunXsXNxPp5rFe8fHgDR/hnpPV8cqh4kdwRngODCqC1fYkqdfA1Xvu4x7OsJ0lknQZuGAzR77QYb7r6o8qv5+c+zkVjcjjly6ztOkt9QwX0Y7xhct92rZxOvYDTtcMpa8DhRifKtPV7hn8snYysgRpjCOMynzILtnov/HHbO7DoKTz+hcG8NjY6ddt1j9b+cTjuIr1CrgHvT0Y7cdtlS5YgiRd6pv/JS9l48RBLXpDKP1GHf8ytD8Fbq2rrJ7GXew9YArn/LiZsvnKBGmIzZKgwn8eEMg3BPnqfyvLxvyv/S/jMqEvHIGMjpUgpYWOr0NbcDaq91eF930WyQzzM8R1HvpwwW+7OnWk4Q6uov/aGZbh254cVUDTwFAdUVFvGpKUdGH+hR0Y3YtT2WcFIkeb4No7c/VFcvyl3yyj0k69rMBlmnwINmjg4q4zZFOccVLfbDi9RPx9aD+3gS/0IOTzx47Q7BAKQQe4tv+ygQu7xHo0itP7IgwbQDFyfXP7nkv3nxb8DbTFZ4mzamZ4TQRyh7hObQ/X7pEZwlVyTs5/4vcbAdsVoa5rGIYr7TnXEb+Clq5z0U3f79WuWL3cdUGXgorK7yYCoFitIjh/kUmRBRGsc/gdZsH5D/ymdZZVe8kv6qhCoiFw2dnmczvQnzoZTQiF13qpLMIOP6rLQehjmO2Sy9x8p1mUF1fbtA7HSpCuJ4Z2C9fZfm4c4BQnnB1OVzT2KLgJ7RaBOVcEw1PgyVGJE5b39L05bO/CvI6V6azhNZ9BU1pbyaKm9kV7/vNAxRB63/CvbadEl+45p39a0vuHwSX87I4Nv2HqorY9gkEq/VcFnjTtOyOfWuFe3zl5rT8iRya5n0ZcBsdaNGbtq40/quPsEcTTi+vGF2fXftiy7wppN/edPO4ShgzOzYFhMPA3oL3L0RaOrgy6/33iEH3m2rdDaKfscx/n9CRSJSM1K2tEIEk7mCxS6U7kR+cocYsK7rCea0z9JvTau7SdUwJ30dvABHoVNNNAjiq/S2PebXACIRviJ7l1Q1EXp64uMK3rUt8b4hYvHQOvr5Gs2nvQ+yEhZdjHMZURsAFbf+4SS/Jp1obXbhcg7ntWVsqyWV/Yx90Oycf6y5u+JvXbK5TRsQ+xveILHX2dZJdKU4Tfx8l3vnjomYWCW0VgkkvpvxuIZkPQFO/Ytu+d7hkih4UJboFgtEu8gbY5azl/WaNtN0zy2Nhlo3TO3zsrctPwTxOMrlLbNfEwCDhiOZgSPJV/DXBE0soVTueQ25u+3nggQ9KnI0gaEunINsFITwhOHODCBCeIEgYFXN4NgVwFbHnnOTPnKIBn3CMm1lZmO8Dndgh1Qr6N8jZWjwQ/egJme0k8K0sEqSaQpE+PwwZlTiAQqrWV1Y8IzqjAMe4RXYeqiKekQ1yAbYeE5OhLc3rJaAJcqMK2mpDJVfZpm/Uj3XeA7fdif1WYNJC6nLJG0hnJSl2zNu/qk2r7jECA+uY46ZEIksor7cjLKnDcGaTWGiQ1CoKwhgRhv7pkNtdZhGSiWhHJp48fCWl81K+dhQIGm/DzMe1pn01zP8yJZzt4P9fpTiejZQdJiBfdzK15szj2f1oxxjsl36CKYCzkhKRLShY09gSy7CpE3XTDB9NpOFZR72nDGJfpeewewTPNQhGpdWpz87+NYhsc6RyO/ezAEgYbjhTJMP+ycXUp6r86R3mEbXsUfA3ax/G6M3WvoiKKQNrdUD9iHZMNUOS4Z8n3aruy2lNgVrtC5I+aoKM6vvTvWktn5Q1+SLwJ7Z6/9w3uHvfk8afw0XRRjyA4dVhegGyJgj5XLPbhijAUpT74CrTrNKpSESZ3SDcu3wsBvdUhG4RAXINlbZX0ydowESfLGyqzv857FHbq2AjSNZ85gtDwkjB+3Sc4vH9vjZTgqHHDk0YZV2XSavMqzPZuGo0scv/srtHyspeN9EJNtsZmiMmAN67ouBNYRcykPBOt/MfXTvlaShXBWEAwvpJPGtXKYI8gWJM9fEWt/1zH027VP1/2wyHrFsUehAm+oLiBLVnqKizoa421Nb7gVEeJAhWYDvfhgl/4TjqoLFJJsF9D83rWp/y/t0Yy6xPqFd/2Nnlz39f0TYAqDCHaLL6ckYa7u2wkcW2JPkuWlT9tv4nJg6CAeJ1I+DVvd9QmOeXNe27to/k0DB0tg9Ul6YX0qCIEexCyRRVBthXLiVcf1w9XOYT0KLDZGunKDq4+qybU+PVZhNUtO4JSm+9l7yt8HyQmkOn5pEevm4lMjyqrYyNII4KipKk2K8BlwjzL0IgZLJQBdHVvfVwEVqg3qScpnYIrSNW09nWfHXJY2JEyCAbaFupNzeca2JxCT9ZlQlQNOK9DjZsM140jmv1w1HjxgKdei9TYqD41UqpZZurWLZnjp7cDe40zLCKfI9zIgozPi0seRrlueBZam41ta3fBszoYVjlmm72FkMWVflSEbEjlDZbql3TsoO+ImApFB8TDUesKOaQaKKauqHZCaK/NODZLjtcItvqUlefM7GMzawXxejj4fdeJeJfEBcFqzxgno4pw/0vz/bK+VtCtvNFlhCDOXqbDT6ms7bYN1gNvmUfzCDK50gUR6ZK4fZKtjh0SXFpKLnVMRcgLVARdw+wvnRvh6ptHj9A+4VgI0stmhV/b4SpCZ5RRKXAzCCToM1MncgCkKCVxHZLeIYwQzBuzTotJFyhaFh/4ln/MxFqO6z8ASsLKvGlH7BOPTfvMN3183UgBTJzM+n4I5C4hJaxJXEc1++Eo8Q1oNSom+ajvjIgdlO1v0qkKuOAtWOX3resgozFB3oO+W2BxWDtZvXeUDVsRBoR6mBG+iL2OM9ep4xcRH7BooNXV9D4hLoBn6IZfLu8HXZ2xnpMnVOT7ms+SSI80rFH5/aRLEBzXgDBPRDarIDg/HStdGxLbfKufOu864gXovevlY5257T8QJucJIgTKJEKosxJZtmTKZk0qc56PSxK8esKlJ2/6h/WqjSUhczgh1GWlfq0x220Qp+MtkUyHdysWCZHNNpF8p2u7+YhrJB0LQbLMT53CNkrRaek/N+Z145RG+IfBSz4LIENlZWQZt4zxCF9g63vY3Du1MWExRBmmdRrPf1gsG35VlGKjLKXChdG+G2rTwyIhPHhUMyDw593CLQg34fRMZx8CL/lr/TW0PW+BJC/bx2QoCkK0OsZNW4dgoJXmn5jj+vg/m26dpXNjqKbr/1wyyWEEFGIAuOg/HcoxSdjI/ti6B4iHPuzwYwHdzJLeyD2+pKrD7zc4QjsB3l4jmRW4a9zCy6jvhhE1lK8Aok9M9GxULhlYZ2flabNEEDJtkqXNUL3kg7obayIjWxMr0iubLN2wbbfZI0ucSsJkGwV1tkwAgjwkL5FOkSqrs7KDN07QL+p61F4RQuuz1EZLiiu/fWCOSQmlJYzWplf+3eqTfsOSWHs/dC8eBcc2xGaVwkYVEMaurYCVFRkf1wWeAGw0MVjyvdL9M8JS9iVuKXvV0lQEcjTDpaqfd8V87StrYmweFqoP+rkfMrEGRP+rMypqATeEtOWVyeqSnL+G6QD+CfS09tTLazS+fz8U5v+eFQQxmYS4z8kQj3EyKs2hE4J85DwH9gQlUPvCXtwDPCvWM0tZErJHnfVt/Mw94uxHRdAbm+a327XfhHj2VmfYbQfuB0MtGb+whjIa4a6vUIqjcRNB+nXsbEpiolMSZ9jk7LS9Ijgn67h0QL+JZyyX/udrXHZ3XVD6l11Is/CGuDL7jQi+axmpKontlemq0eKRIuPal+SYvtl/7n/3xgmRJJulKfCrsJdOPlvTxQBDelQSggubXbJkCQL5rJLfrIizVZKHsr86T0lIypQ8WnH7sREkpbluecNqBWVTbxLSGDeNcN3rHR4Ftm0/8wvzbRNSlRVB2VTkN8HNeFBEc4fFpftPOzGCOEshR2UNqjqMZCLHpuhjswm6pH0gGDQb8Xweem/4CPY0YNO//xxa22lkkEqimuuu/RUhhV0RR24VIVARuejjZnEVSk2OQxRYspiNWRdch95/Cu05pUE8bPRZEmqsKoJsJB/p0pA4uhWB1PYGojGSdhr0asT6LlB6BSg2CdPYTcRqM2qKwEUeYbHORmRK+0E85VoB8aCJZydZ4gDxOU8an9P4u9JcM7rn90E8nFYQ1gyrzTlsRgOC3LTNkh6bNLD7CSKhffM7NslwnPgi9No+LReJo6zK1cqWtcvWW7ut9nR9xiPNHtl2W8JUJeey57Ok08pJMh3x8FnvYyFIz0PvJ9D+DvQ0xdSOH+pmy+mBM+hnmRylGOIfieA16KM6zLix2RHr3CrObobNGoc04uz5p1+P/FPpa8LQku0YlnyDGza4jDNmNW4FcuEPoPfsAYXP64Zrvl+U0FkRGRORF+lSO3Xb9ogdm5y9RR8no00cUZcxa2tg19Un3SMM760ztpTCsZ7dIzWmKUmEeNjWGnTVN9mXVTSRdXvut6D94prI7IbPOhSbOJYETjkq/zBWv0l2piSQJBuMKECrWBwRUNvtMF0fNwNQ5NNmEaxDfHVdlnb5Cm78cUY3ra/dj2eYVYTZVX1CrZFkB4vT3JVsFDGQbbMlJpj9BLkGHach8ZPA30DLV3CPYSnonsPGxOmQ55KdjEQk1W71LUseZYtsxtEGstIXG3Q0ybFz4iyetinoexgcWwbpsT60I1rmrphREe2E+GYrwtg7rgs7ITyTLI52oY8zWD70P7cD5+65dVZs9D8gdDptP4t4yWd1LhIbht4mLrLrQ2/X1XwojasOoyhrwOLaNFeA3lU4dxd+u44N8a11MMwPgDkuYqMfP8epgK76toeboSQjITlACFJsNKssZvFZt2Gw53ac1adwQVIpgDcqaqOc2AhXF1M2IcNosxgVMcG2xrrEy+k8wWrP4xHJTYITeG1NlpR4wV9Db0yvfZy289p1nP2oCcGXCI8ljLI/KYlUe+XwRbYHPqgp9uNhlRGhPg7WY+Zf+wVansRd4C5dOqQiJoQ1flo7ce2QdMbqDsSER/IpiGWlY2TP1DeVqUozdyeB4hLuGWxP+g236Uik/LnNcFXEthlCZltZWrV1QJgIoAkoJWHZjdLsO0nOq9IJdXnMd0MeLot0LATpfWjZxIXvfbdM+4Vd6I9Dh7CR7ZT1KdY7Kogcveafp8WI8OhxUWXgwj1omjiNOCdEKSeVZj0O2FS/xrm5iLO4XiDFxA05psYjjdjUYXp2XGX3SC//yNHgCvUHPvVT4GtI5MGVZiRkO9KUv2CNex/CyspzYHz6Vrbv1fTaOa1lyb0hbNTxulHDJq4JKYkjVxEiGV8FcHO/TzSfeAZ9n9W0ujjg4SPYI0eJu7gJ9KfxYzB0z0WsbaZIQUjlPxdmO2a/At93PYksGvcctwpT69YP92HIGkzMsYajpOsLxb7zTbpuZdTk5O2h6ksVoU+VLC7rojkEI1zwNwC2x4Eoqb6mJB7e0715+STqJvvEzM1MNW6IF7eUPCp/qD4ri6SZxzptSdzfbNsL3EKtNG5WLcQPCbbD4SKoj+ofj4Ug7QKfmxCqFku6kE2CghBJHPsNP0EoqmzntF2YoBxq4Z+XQPzYJHDiW4eI9CjxDT/dFgghlq2b8MKwhqbXd7PXrE4NCcZsr4atH0Nvevplp6zHBeis9kAeXZ1pGhdKbppjK0JKu0+oc7sLfO62O2C+e4oXbp0QM5PSPRi0MdmSirhGbZN4SOmgAG6Ms2vbPnKm7zb+FvRe9VPES+Jp8WsJFWmXTne0oGNFnDGBUH9mI3l9PycskSByoH43rN0K7fJ0kmGXbWsOzpKcBGbvQXEReIpuFX5mTj4bJliQ77JOOs0aWaKjfmZJVE0ITooZjogNw8rakovt0hDL+Nixi1vvY4RPo+JnxkC5H/sqBRTpuw1gBcmnNNskt0gvytCPISaSNkNV+f/FdR8Gx0KQ/gB6P6lpH3uPbj77fOrkLAaufnraItVV4aN9N426o927wN149VVLAoqznDoyuItr96crQtGkPPmuq9Wa4offfNgyaFwmBULKtcLtdxvYWYc8/grweV/b12/g3IxQXS2rOXELP+75jyP8mkB9Z8hEEkQiC0LJRT0Fpm4I4bSit0+vnZq6Mm+BR8QTH2SH+nR2HghOzB6OOe6nwKSGDZ+JFMn65hJC+caa1bf9Atoug9qlDR3kpOTMxsR13CWBRPYJRFunssNlO/777X23Ynfjt90jyFukVM7w+RMm5P8+9Nof0nIZukLkEmdbCHXbBYvDboJ19Db7bwlUYf6f4TJr58yJlpEHwRKs5495xvKPa3jih4Qssxo7gsJnA5XNkV7oWiviLGSacdQ+ykDpJTmV09BQ7bPsXMpu2vvyMMT72GqQfgd67za0fVN/JCMF8ZijcPMRF3k6TfhN6LXv0Ipmz287Z14R9K/BO7iRI0jthHanhh+y3CifBTzr2/WzmnZ7TOiQd+GjXfc8yTl+1K1xD6WlH4hAUbtoTE5xzx16ZiAdubzvlzbYpLPI7Th2RiXOCPeGi6lnn4ACwsrIE07/JIAfN0Ekqn+BMERk2zokfsRGGvFDPGvmHo5c6Zz3c+yzg744IfwW9LgN7Q6thpxnTTwTS+2Us4Ew6qRhEGUyrD6J6NgMS0VYpPXLiZx+YtaDG7Iedn9n3z2INRqP9bDttdkgZdGU8bDZndmSY6VLU/O+6YW/g5ObzjfCDUXaZRIqv89xkiNwS6P86h7tubu4ok7LUoau5tH6dljMGIk8WfKo/SrzOSU+NTD0Aa6P4br9LEnXqzLbwK1J9voDyOtYH1b7jn9/wVzgNb/KtqrNN3ErafsEyql4tMGq8N/WcOVHTgl+iCMHL/lC5W1M6lFZlH5Yb+WGf1bWjTMqq3eA/i5s+XzqbOxkpCUObnkjWzduMbqBz8TN65DGHhGSc2cF37S1bDV8epcu9N/FOfGf4vTiNT3brl6ckjwjOCgNIY2Bm6dcn/4J9F73S2hoaKgkpP8rAhGUY9P3cuwQDG4/OVbDBVaWy7Cuw+H/7RQem4asmK2dSYeKOgdFPOV8mfOXU6sIBd02Y2KxQwgAp4QlYU4S7wCjH0BxlzAuXcVr0+neC9ZBz1isS+oTZ+Jq8y7/pyyk1T31ze0mnGPGya6vdQf4XQ2zjQhTrnGJDj+6D4S2Sx7pKJGVi4ZpJyzKqSFe5d+SsJLlQ47SZ1j+DLePw7ESpBeW3NBrZtv70MpAV37bJ4UcwfLHqlz32256IjmaQrED1GGG2xBX232W8Sz0bkF70afpv5jI6lnvCGWcijoYKhkopWsfJtW67ngP78Aat0p2hcsu/RhnzMA56TdNH/ukDGf/gHhGVUVw1hPiLJsybSJIqRNMdUekYcLH45lk5uo64Ec4u3PL9x071JpG4nJaM0JNSMXiIx9svYcljxOWE8lvrJlMwNmTV6H95i69v9l1gcWYcJ81ZARh1EOkuSIMw5UE559m2mxBcU0ITOw26//0cOExJ58F/z3osQvtf0nLJTpWM5sGomOztTbJNCW06wVorb6IgFpS2ZjvUhnqNyYsD350z+Y83CzltVLMN7zxVspbgnhhza7zJPAStI8TJnBVLD70cYxziDfOqLy+5fWjZvmjVG5Au0kwWOpQNt1d4TIrdzj92ZEUL/r2y0DcYVFOItoVcbRvjZSGVKa4YZGHMSzrild8NgmcftxjMQi76fepiIeWLObEU7qPe5jjKPGqz8aq/4xxumSHJq751edtMax1iJKXJZga0qyScwnfWtNnSN6C9tnkmvTE+IpAIJdlXF/0Wds0c2YzlZYA2IxHqlcvmGeaXl8zGX2oDL7/nGZZVc+mujTbrue8jESIMP+XxPMsdC6blWqIEy3Xff8d8+gJlrUR8vPQXiZEbtfW6NrWAc9C+xihnqIiXpMFv+0uZ5cgHQYvexIFoROlBEl1JzusnzE+DrxsHKAiPRmohsVhgB3Ohpy+4YerbxyiLS/7x9sIcvhWNjbCrfzrtJPJF/yDSNWuCfd3xi+Z+iHr7EWS5ubdDt+d5uBEQQYEErDD/fXqeUPMBWXrLCyhrDg9xPumJ8wD4nZZclThgtOD9OlZI9fUdqd1SNZ2zTg6n3esQ2z3gxThk1Rz9CC4hzO+L5marZqgbC96g35GJmg9FL4I7U8JUYc6mDqndf5D1nhtmiPEl6G9gyn8JB42knwku4KzMxR32OJMyUg6UrJ8WLYw20vOzqKtGkL7uEzFN/xDeEfEsrAkKXVu6nvfgvY0PVA79UvqI2rbjfu05WthtZaoRsZm3A4a9j8tcpoQr+9kbYatGbqfPk2JJ4ukRd72fPZlv1s11oYgCXc+fpdPJP7CK9Ztljv2TCrhLSODZ31EYzMhM+Iak7NYi/RxeDOR0TZxqnpAHAXOWN/niR0VrIyeN2saiQTIOUpOGmY7zUTyJZ95tfUjH+d4Xofe17x8JCOdA+Lo30b+dijltGATNxECFuWSDp+l+B70nvHyVeBmCZMdkkzlcpjatpOGsmM2c2QLqxXMf1xbvuf73UtGpyyJFIrk8yeKIH0vO/r7IsvncNBQx7IITHUBNz7hsrxlso8X/TalrmWE0kLRs4DnH2DdmFeM0b5McADWGVQcbibbOkMz04RldTPLYO3RS16PrLNUxkTDa5qBddqG2Oz9TodZD5O11xD1NT8CILlYGdlapNME2YqDiLUtXj8s0gB2sGSb9jtKgvQbR3jujBPA56H9/JotSneSWJaevsvJzwJZJ3wHehOcsXkJet/2n/U6K3gOWkWnD4q7hOe3XSQ8YUQZgMPOZFtX2FlZth7taw9gS3b8OUa4jMtFwiKQlihVq7jgY8TzpiDb1giJ8MHh5bRLyGSPCEO4JYsrQdvfWmeIMNoCaosH7W8T4mx2SVgk+aDs0bNH5PPWLoOU8Wh4/5RFZieBB1ko7JOCMXHB6LfPoIxuQu95Uw/yIHgNepd9FqkkltWU05kVsagI9UFq24MOhd2C3paX0RbxhBIVfM84fXWScv5DFoebJaN0/Z2D8F2vgyJGGnKDMBNOv1exPMBbN4gUWYItzM228pDn2yHOQJYs1hvZ96O0VTmDlJGRwU2fOTrp6zhqvAK98cfvthTXoXeXsNq2jH/F6Z51+zWTIVHWsCJ63OGh8R3o7RFk0+vHEwE0g/Q0oSJk2GbJCx68nvEVn6HVsaV5qTh+zOlZ0PYm9CriRVNF8ESeRHYOk+l5E3o3/DlVtJ1m2iAQyqNEziBlZGR8ovAodXzv4AxzSYhoT4sjOwgqIrbDO7aw+kHxnn/fxT2XS9mjXdy6WqetjlL1Q9eXOHet/PygcrpHvDwLhGHaMadner9Q4UiMrVuzkxlUqH3rAdpVEUi6hrErgozGHP1w7am6CRkZGRkZq8eXzQwtEaU3s3+I8PwB2Y8KR/7e/gTL6xmzjqGg/0WQdnm4YejXoH3mEyzbjIyMjIyMtcaXDyBI/zRPiunwDWi/4VYeb7+1Irm8cILyzawsIyMjIyMj45HxjzyZGZInDGVkZGRkZGRkZGRkZGRkZGRkZGRkZGRkZGRkZGRkZGRkZGRkZGRkZGRkZGRkZGRkZGRkZGRkZGRkZGRkZGRkZGRkZGRkZGRkZGRkZGRkZGRkZGRkZGRkZGRkZGRkZGRkZGRkZGRkZGRkZGRkZGRkZGRkZGRkZGRkZGRkZGRkZGRkZGRkZGRkZGRkZGRkZGRkZGRkZGRkZGRkZGRkZGRkZGRkZJw99E76AjIyMjIyMk4bfgfaGpgBP8++dCn+KbQVTkYN8ItTJqdPnfQFZGQ8Kv4ptENcB1RHfP+UdcSjxu9AO/D/S0ZCA/zVJ1ReX0sMuNAknz+p8nnGy0dE4CAZzfnkkYR/AdwFxkBlyJJk0ieWUYOT02kkCg+Kn0A7A+7415hOh9oaJ4cBQUaSCwSZzTh5OZ0oQXoN2gLYA5474wrzoLjpHdrIv2bAF7OMAKc3JU4mE1xHG/nv9oBd4P2TubS1wLvQQpDPGGdwNvz7BKj8vgO/3y6034PeZ6D98Izp2TPQvubb9C60m7g2e8fGxL9qgsGuzGfc53YMvO1lBMGgnwXy9CK03/Ht+IW3y3f9qwKm/n1mjqnN58Z9jshmSgxOO4F6Bdqngc9Ar92gnU/hNo4AVObV4PSmwMli6o8XCajdfu0yOcHp1advQfsV4H/WB64CM3jsA3gH2MHJYUawPSVBRhUx+a7p+mWbEvPjtE/HfiPehPbL0GuHtGziJLQHvX13LTegfeGUKsjD4ha0V/z/Q+Ay0FNKZARcwfWu9+Df1sGgi2XvAtfPsMxeg/arQHEe59HBWaAJ/LJ2HW1wyW1rP3BGvcbJErcbdzi7JPwVL5/tTRwLqum80mzfGac+sOU2sYuTyRCnXo3fdhe3740zJqdXff+6Cgwu4oSxCx95q2tJ5JBgnEUqS5wBl9xmOBk9B+3NMyKrn0B7Gd/HSqCCX+67Ns/pnHrn/Jvkc9/sU5vz6tgZcOuUy+oX0F64SIjG7sJfTuEern2WMJb+vSIQbZtRklxs9kQk4LTq1OvQfgkorgKKQm7DT6fO/oroyDZv4sy5AjaRSrm+ihDEQAhW4Phs1JH+yIvQXgSeN7/TPk7LFYJ3L+kMFj+FnX34MfDMKVWSB8FL0F4FngIubOI0o8QxpArnrQocQSr953ec4Zr4c0h0Xz6D8roG7TbwBeDTl6DTG+EutPegt4HzfgVwBz7adZ2wBArPkvZqF8ns+kPnwEtnQGavQnsJeBLoPY7TIaVDAMaw17jN5zx52mlcpm0EbAODIcxrp167BMfX4LbdAV47pbJ6w8unBC7IKtcwH7t2KoK1/WmKk0/jdxexVARsI34du4uT1WmT001PrreGBA81h/m+I8wTgmOSQ+8T2t3gZCunBrGj03GVed/hdJHwzvFfJDRq6nToNq49lvhYJy8ZiSBpWGno/9fpJGPFfxXOXl07JXJ6A9ovAOcUpAE0zj6/g7MhIpDK+G8SbIxIk2TXD6foApeR+X6Ak/U94A+OUEZHMsT2BrR/AL2ncY36FbTnzuMc3BO4Ft4jWGJJaw7b7zlj/bZPY0PImNhMyTegff2UKE+K16GV0S3xAYnIkRRMIYbCWdODZID6/pASeMsPASilOwG+c0rlAy7TqECthBBOCN4CNcBAYQnALHTEIVD43iUy4O0/DfAytN8+pTK6Ae2TBFtUA8UOznJUdFZ57r3WwByraHfqdxv0HUka1fEwkwz+tVMooxehfQp4nHDP5zX077k27hFItKB+JSJQme9LApmSqslwy/kNOV24Du0TeHLkU2ftOAw7yp4U5hi1V3JozPfWJg3N9jkh6SLSeeMoGnQEeMVnH4sNQpps7LKP8ks2cyRdKJLvJBsRyoJYTva9twFzjcudArzuA/1z8lETHIFsnA7Jzii4EEmEOPMml6e+VBL0SRRhBPTO0ynXSBHvEeFICNJXL0Fb0c72XWfrjLMoNYTqtj6u1cPw3YCgUAUugpvh+NV1f/jTwOtHcfHHgD86j2vzPdfRKuCcQnf1tMq92qn3Tob5SKGkSH2c8y+Jo9pXod3hdDq4L/mGfTT1jnofBjIafboUbgNQw6Byn9v9MAwywBGkQRNHccIGjiTNOH0yehr4XB9ab6jnAPvuOxmdjSY5qHH7y/lr36Lpvo7qAfS67oMVZVZOw1DJVeAScMGEotYYy3lJLyDohxyZMh4znK5ouz1WRn2A64Ov+EDlLuufTVJi2mZlK8KwhkyOons5toF/SY+sQ7NEoDK/1Zj9tnG26S7rXxpwBe+L1RlmzmZruLUiyEoZIZv9sITaZkdSW4T/3PM7DPqw2bjyix3WM9v9gs8+dnoEzgZPQyZaLxvDCtomGUlv+sn/mG29RGglbnj4Lq7PrVpOKydI7SYtV4EpFD+G2dQ7830YyOIUwNilKAEGE7oI5qM6CFVCglCb83fOxnMXZ4zeA767hspzEH4OLdt0IVX5ga/wb2C4D+ds5OBlUe5Cz1vjWRMiPKsrOkypyE3ceec4Rb5xCmSkiPZxcI3ow7kGZl4OUoaigWISjpsBgzEwDB3OinGjdp8VEUtuBaETXvMFpjdOgZzeUnat7wxG6S2PJQCpoZkBwzrYeTn4XaCo3X4VTkZGtJ1RGwAXcXp1GdprayqnF32qfwufOWriQMISP8Uidpgj/V5ZgtLvV9EFyEAgSDpP6X93E3ht9c1bCV6G9nFChD5vvG3225SBtpkRmwWZm5f6U+n309CSJQaCAl5llNY543bT26ISby9sCoRAAGfE2TQlmSCuv4JALi2JTGOYonb9VITBljytG76EKw/p/JBvVMUi0VY7FVTYPEBN0CeRTNsPMf/PGx8o+w3KAm/DAuFcBVZGkG76lDbgetic7oq7aKJ2hGBwPhyn7f06RGcSrGXZI5zRG1xy7PriB27s8uKqGnDEeNWnaksI7GbgI4baMOwGzo0JPdMrXOnJ5MS8IHRGcczLBJnUhAzcuuMVb5A6Y1DRjR8WjSOGMkBznCFhGNL989pliub+cBmuxp9mQlxXMiJ0uoowBPeKj0ZurCEBeM2nspWRndd+eEzjbNOQwk6h2MSiwslE6f1dAoksiSNhCMR7CFyF9htrKKOv4PqArl2OfbABgwJG4yALZUGWRbYQnJ66o5LcY+IZbtIzyX6Ei6rfh3YC/JD1yVC+5O30JcIQWEcANpw9Gu07vRBSZ1USRv8luwrXbpuhS52/SDiEjNvPoJ0D7wHPromMwFWCXMXbZ4gYzcB8rIllMzPfyQ1a8qRspA3gRDBF5AeEmrcCJ9cPfWbyHdYnm3QVGGz6DzK806ADFTEBkj+32UcRJatjNqhLUQPDBgovQHuOLdws1QnwU1Yjp5URpKfwjrjCVWTN3XCHhKObXgOb+67mQYKoCAJR9GIVTa8tvGPsB2O0zemoJfkKxrnLC0lTCArU4MafB8a62E44ISgexNFa6bepU/e99Rqx/sNtf4wbDvmo8cZjCueg80zFNJ7p0HoLZKO3YRPGu6V30i/pVUEwOr6cAPy2i+bYdcMb0H7Ve+RfNqHPbDbQK4ChywL0m7guqSIYavUp2TLpkwz+DjGJso5AGOFnDeJ06ptrpk//zFvhtg46ALgbvAG9GfSnoQ0VcbbDZoYglADu+P33CM5/aPZpzDZF/Rt0yfK1wdO4DG3PzgitCDd5sDisYZ2VtTdqs/RsYr7TKdOoXv1XQ5YbhJlM16FdB+f/lg9EeqoHlfOaEBkHS4xsMFERiIHNjigDqf11bEFs26zf2yBkJsER73Xwd+9Cu6WLE+vxDlw6YN8Fq1OpnbYkE+KaJJ3Hm7qFWYL4bRsEmd2E9rlHlNNKCFK7QcsIVzOzD1Ud1s2oCDfeKtNmHf6XEUo7FwThDfHR7tgdI6Oz6V/rjF9D2/ssMHZDjr9s3JAjhLZDbK807AFxp5sQp/jTIZUKN0wp5wdxwdu64sIlujGfCt9JpnDO64kIZIkjgG0dr88Cof0ikeqA2l4TZCxDPzPHFv53Ttr4LMNXwIVsd6GZhtqQPnBBzAefLfFGS6RSfWtKMNIz866+JrkpswCLwwB981IN17rIqx3ScpHIkek+Dyo6Y9MnzKCxOtPtS1xjVJnfmCSfIchQclMmQMcPcUO4dzj5uqQn8Y4fgvPHpye8TZLdsHog22wzZ5Zo14Ssk3WK9hwQ5GLJpfrlNo4k3eNkyyaewBNIGc6Sbszoo8b5HsW4KWxAbzOL8nPqtxbKGul/yVe8zNqskf//FWifP0kZbRCP/Q1xsx+bxSHaxuxiCaCVj2BlZ3VIPlC2p/Tf2QSM/Z2RP+5RSdIjE6R2g5av4lpzF3pTV08jRy7bbZUibSTEC0hBvKiWJVEQyKrOMcRF2D9lfdKPFr2ruDs2ddmhilgRrNGR4bDRl4z0mODobeeUkpTuJ9jFDGsSDLYySTrXd9ZEVn8DLSUwDoSnizCaWH8agsGQHGxHq4gJkqB9SoKuTZN9ZPBfd3WG7LE++tQ7T1cAWRGT4mLqCPXMN2bgDfvAe3lFYtKzGXEwLDJQEeQr3ewyMGbfvtlvA1f3cwcnr5+ckLzelQ75huq+yoZQQ7EbT5zt9YN+QRjWgHhWjT88qikpiJPAIkOCtul8JY6UneTs2w+hteUNdjqRDVIr/1mRuNohPYFFxyZ5WYLQP+B9YI6zzlD2fIRb4fx7JyCnX0G7sN6ajypUfLxDvLCodKFZOFtcJqK2Yva1RBFiEqBsiR2m03594HloXzlmGb0L7ROaZJQym2lcAlIR+zaL/gHbdSqbTEnl1idwAQUmmvhdEXOOhnih2AfFo2eQLvurMxa7bILBUORqCZIaX5t99H1BnElR5kAsO41mhREu/biW8OnZdhyyP2l2SO9i2OocEDt9KyfJzSQQOnkOiKM3HTcyr3XAG7jHhKhof4/lQxKVf5/hipIlL71sSrcidlrWYENsaAqzjzodhCGAdcD7WvJivFiDJhRNMK6b+1DuxzpTEaew7WdhmYEfEPRwhrs/6uqK3Ea4mpY+8JMHb95KcBE65Z/Xi/an8vtVmCGkJp6RZg1zTeyU0u8trJ6IaKjvVYSMSepTjgvPQvuf4DI0XVoC8z4Lw4iWOI/C1wuFthAPl1jifBCs/tn+aYlXnzBMcpx4Gdo/Ac5pCrm94T4lMsbJaMzyLJttg30vWJSd/d4er1siP9gnDljup4dHjbegfUJDNk3yqp1/k2xSwmiJTpFs/zg7a7+fJd/Jzw2S76WTFXEi5kHx6ASpIjxsZdfVhhRD7+DrcJFpB5sTp87k5EWGbGpbmc4RIQWZRjP4fV4zGZJraxD9/wxadt2Q0B3CQoW2LdbZiyApHanvpHQQK5jtUCVmXSWDtEMpUrvp09knlUm67hcSbQDGYeWHMXGnsDoi52M7XEVYxE/G3ab/9RoS5Fqa81fE0X7fvG76or9d3P17+5hl9YpmrPl1RUR6Kv+9ZKCsaoOTnyJ/7S+iAItj/pj/pXvSEclasrUOVBjiJ1DwaNHaw+I1aPvQWUVdq+7pHnHGdkAIUiri4f00YwaLspJMRB6H5tiKQPB1TySv0r8/5ycCvHVMcrqMI5CDtFN5Icyn4RE9FUFGkoUCXH22GSAbdKTESf8Pkn2kRyVBF2Xb5PBKXBZpj+PJSj6OXw+qTL6o/Gs3JkfpiIglN8KAIMdlNlh6JCzLwE3Nfql+FjjyOwHePAYZ/bMhLgthGbMa7rNre8RBRwptt+2WnCxHsOTSEnGdw+4zIzxAQJDPaHC39PmHzLY9EkF6E9rZPRjeC1FtAWw3wCZcqGBzGhaLsp1hQpxetGOtlgBgto0Iz5OCYPB1TkUxI3+ul6C9fkLO/yU/W2SOW8V5QojQFBnIWQ+JjbR10JYJN8SKkhqlDehWEDDBYbfvnFg5S052FuAWoUBRRrNi+di+9lEdTZoNsseljl+fpUObxNG8hlaszGTYlSHRud5+oBY+OlQuMm8WgwzJw+qKDEMqH2XYUqRGzAYjJbG+iGSlBkrHbSbbjgMv4p6t1jntvsumWfI8Ib6/A4KMbObRysc6+VRGcm6SVapvE7Nfeqzd/63DNHAFuIxZjNYyOoBJmJm3ZzZbhy/7bJ13wXLHBsuzAgMW9VMk3ELb1T/7HE9W8grQPfoKQqO8cdlrlpOjZUEGxIshKsC4n4ya5AVBd1PCaRMJJctnrR4JrhBGi9RhvIw+akL2v2I5OUrJX+rnCuKaUCvDVD4pYbLlEvZYyWnEw/GBRyJIDS7qh+DAhrjU9Zb3MmKAckISQMoMrVKUhGgsTb+qo6WdVvfKsvKTdP4206WitSlxlqJksXAtba+2S25pnYMIFcQLkdn6idSpah8ZohuczPPvLPGoWD6UIWcEoU1Vch5L/uw2+13aYWzUr9/ROSSjZdf6LLS3jklW1/2jVkriTi+DaO+xrtf2BZZsS6MxQTLSb0iXdKwlScIyQ3SR4w1MHscv5mfqIgZj6Jvstfpe2nbpmb3vEBfNLiNHerc2zI5a2UAklZH6XB/3cM/jKEa+Clw4j4tIFD351NqsDoGbtU22Dy5z3hoBSCH5pFkmey6Ihzyla5JnQdz/j6Nu68IG4eFg+uGJu8DZNB5+tMG81Q85eHvttl/awMI6/9SXWWIqsi35aGakPV+Dy5DsAkdVt/Vr/ASIggWHpcJsa7+tjIRlwZO1Z6mPS4MUK1tLksQVZgQZ2SBa9nzIg68J+NAE6bpfv6IyFzHzF7uDW/RwQOzMrBNTY2DRwUlQEnhFPAw3YXGdjYZFZYWTc/4l4QbJaEK4qRWuDRtmOyzOfFA70lStNVSWOFSEKHbMIqHSuzX0m7gx+J9yvKskXyRkBNMISQagInY0NhOJOca+p4YG4kJlRRsVi+lgS5psHYTsgu/Mx0KSnsSvxeKLRovK1V9pCCeVj3TFBiIWqfNKZQSLQx6S2zJSYeTRBScy5NeOaTHJp4BzlwhpQXmNe2G4S/KwwZPNGC3TJQiz2ex31mjPk/0tya78Nhlsu19JLLujxuc0NCKCNKN7ONYeYVXo1KmlwUVKcpbBEkftawmDJV8VIRlREnMTO8w74mifmvAhtFzGySeJnObTxdosYZnNgsU+tQwpWbBysvdAOipZWHKlzxDU/3uH+O0HxbvQ9r5AiBJ1cxo3MUR+3wafFlYnUhkNkv3Tvmj7q+xQqqd22M76Tfuu31lG6u+HhyZII0JHl3D0/xTX/0SQ7tehIBaEJQgShpj0OPlfNyRVKBnqEQ8ukFVB8rE3WDdPRkFG6SCkBllkIiWH+HPuEu6DD34WDBbEBGxAcP5D4NYDtPFR8KYfGinNtoq4qE4ySzM61pjYyBNC1m6Z85/hjJ39bKO61AEsI5J6XuVxyOkJoKcV/YbABow+iJ2Pfdf/ywikZJTKSbBEZ2L2kaxtv7QkKtWv0ryOAxcuEsaQNuk8b3Nv+ZCtjTqt49a7ldMyh2hlb4mjtlndTPuZPUfJMa5P9jhBRiM65jiv3SMxNSwipM47bTcsz6Ck9srCBohCKi9rz2WX+rg+d8vPlLy+Yjm9Ce2nLxKiNbGPyl2YfI36hM1M6D21P3Y4F2JblOpYKr9UJ2G5/golwQZeZjVr/6R4QrUbGk+VQjdxUN4n1CKm24fmMPl0S/5SEk2y/zJ5WVhd0vHSJRu4beJmKX/jkDJ6aIK0TUgV18RpsopQjCwUxAZFF22VDHM+m6bGnLMizEpZ1hFluDU+O8J1gnc43qJty1wbwnAFhBstA66gxd583dCS2PBoH5Eka7isY6v8tpLlkaqOlbH2/vfYMm72unp9VzcinZCs5IQgHvbWsKKMja5f8rYGJe1QU9ywsHX2JcuJdNpp1cEKjmf9n0L5dClzHwa7dAuAWv2vzbvVJV33iLi/pUscWMzMdzbS02fr1PS7tv/KD7/h+92qnZrwN/jHGikaKelSWZ4nHUhiUlgjavuZjHnq+G1W2J7b/q99rMG2/xeE7NILR/A4oHehfeL3calIdQ5jlCbEC18uIzcpebSBSbqfJYKwnKynSO9HSZCTDXL1edX40hC3embJ4g2chUkjdrkGWCQtB2VBSPZLSeT9SGVKSivz28qIlAS7VOJ43o1V2/AnCZnHis5Bt028htiQkMmaEBaeldpZItlwMMnGHGNJ8zK5pjKC2GcMCDXJJd2jkngN2mcOIaOHIkiv+Jk1JTFrk5GpiGsebGPTDpeyPUuQUuNWLdk+Y1FwKQMtcYJ59hjrR3SdQmqAKsI0ZLXBGgt1AOv4UwPRJO8iRnabfsN2QGsndX4RpdHhm/hImBMK9Ut/sbZzDAmykSNKo3PJx/IIq0M2ctN5IdavvtnPRitpp7YZgBFHX9/2LrT0WRBAW8d9Tm3VbqnDkYExHKuDjPwyJ2bPZe/LYYaF9JsXiR9ZsUq8BW3xOC5SmxN7j73Fwuw+i4QmdVLSIbt/Qdxmq4v23co1JVIK2vrJ/tLdhqPpd09cBL7uT6400YzOeykzIj1I761thwhwGrjqO/WfZQ5r2WeLNLukoEUQmdxitattvwstX8dl2GrCWKPXoZmf3bdHx7ujvpC2+aD+Yclln8VzGM7aIdWr1N9ZfS7N+4jVLnfTbvggRM7FFNRWxBOIdA26HuvXLIYsDk/bfSxfsIGX3deeN5XR3LyndnsInBvC1TQ9fAAeiiA9D72f+Kc96GIUDYkgpQuL2QjDdoihOV4GQ8dZ8iOBiMlrmyJm68wKYsMm4Ww/TGMfEnJa1gjrXR1+wvIZQbDcsQtSmmVGaEZcSCgZCfrtgsUHRookHTWuOT/fkUT9toU1JKkzYsnnfvLZOh99b7OcKdKOXBCiWUtOZZyOmkiO9GMKz7y3r1gcGkvlk2YrU+i71PikBlx6pN8h+V9yUd+15xnggpKtA1v4aHgSnCfoEz9or4L5B3H9ne6dbUNh/rdttpBslzl92wdTgmmJq0Vq2GUz4Yj06SmcjBpc2vQOXUrkl2MX4Vv7k8qhWLLdi7hD/4Bj7ffqb6mMBN2nZXptiav64qrwRB9X5HeZMERxF9iB2b4Tl7XR9rr1brOOqZzmBxxnbZGIEywPcCyaJfsqYy5/Y0ncSnCZMFSk9PsOfDSNZ/WJQELs4zQ6YmEJ47L2puRJ917fLQveUmgf2TD5thGujrPgcHWSjzSLzSpECRR9x5pq4nVpRGDS9CvEQhVzLAkCUOeqWF5sueya5BzlNHXOixzfzJH0mkYspgFL4uhfaMw+RXKMZF4m55dBHhMrjo00BEtG1cH0m8cxzKY2zVic1Vj6z+p0ks9BnUH6tWwISBGdjUYUCFUsOoe0s9pj5Bh0jSVHh5vQbuB+dF57h1S73x5z8HpYqfOw2Q7b1tRJ232lG1b2OkdKFFKnMCMs9SEDeVREcmA7+AS445xahXP84ks2SLLv9r7adtngwkb3EGdPLEFKgxKrp03y/4xQZzciZLhXLaf3oe28it7vwkcfhIcST/xmycIGSwNCZhZi0qzgZplMLSyJkO1O5bcsIzcjEKuDdG0l2CQepxoCY9jZD4XZDXFWUbpg22GvTXKriGtsSI6TvG3CwNp9ez47apKSCeleRRwYrQwlwehtuv9nU1e7NiG00Y526F32Q23Q/1bPdLz2sW0s/Xsqd1gszLYjNlaX9KpwNkH3Ys7h+txDEaRbvsD2gqRirGqvgo39QFCk7NZQWRYIMTvUPrrZVpi1+S7tuBB3JmuopGwjHEk66mmjN/wCiCOCMx34Bs2beFFItTPNpMhQlGa7iJR1+raTQkhf2ujeOvg0shFstmCTo52qPSKuXxMRLP33fYJBtZkbC9uZpGMQd7BlhsvuI9nofcbiDDDr/HWcOuKDFPs9KAqAITR1qFWzTltOR9donYd1PmmggfnO7mt1STppz6nv5sQ1gNLFZdHgiKOpGwH32IeeDMLMkaOfEobWrJOBRfksc06S00E6ZB2lJfnaZnVqlnyP+a2JOZ/66aoJ0ueh1+7SMiF6MvNtHEFSO+29tgQ7MesRrF5ZmaT9zdok7ZPqFcS6Y69Fjn9i9lslQertehltE4zDxGWO9szvlf4rycPC2ifrmO02a5vUNitfOHhYKbXX9nd07Ix4Xa8JK04ETOKPFU4+WjpDHLMkjNzI3o6IkxtqjzKEy14Qgt7U/uh/u79sUnqONDiZEmYAS1Yfh4ciSE8CF67ini8gFlAT0rj78f4Ni5GcjNEy5zYnZuZWmCXBubLkXBCcvXReN6zADbNVD9ziB8NV4Hdl9cTMSnehgz0oP4iNkTUsqaGuWBy+sMfZ/9VGdeqS0InkMCbmsz2XZeAFLrP6HLQ3j4AAXAQe8w3+qA7ZtKIPo8b9/l2zf2p47fVawmK/S7MpqQNQhxsRZ9I0EzDVSb0mBOJacjTZtueg978aOsNdAMV+mMEJ4T6nqX9LcNLIc1lfs31M55WuWSMs8qp0uZWz1cGZ/25ivi9xkyS+vGIZVcA5XXTf/bayIrr2gfnfttGSYhEAKxuInZndX+dKHXVKMtJzQVy0PSU8M/EiTk4vr7rwf0IQyMRF/lrtGIIeLbveZSRGbWDJvjb7nxJ16VBFbHOszPss2qMZsS4Nkn1Wgh0Ck7/rHiS+R1jQV6bb6o/uoZWRfE7qlFN5LSN4BcEWzYgno6hPWd+oY2xfrvz/Fe4er3SURHrklXZMsEciQSWLNY4lMVmx8kkDk2X3VfqhAFqPoBkR+qwuy8L2eXuP5sSliofpaw9FkLY3cZX/l3BFBhuE3P/tsCBi2nlS6GLTaK8wx1ijLWc/Ih571Xns79TEzzwTNvwlH+XDEJ8EJx/dyZH5/8cwuOfWj7CO3EbiM+KpkGOWz7AZsignW9MwIoz1yrHrGAhZCcGy+w2ObhjpMrjCyBLO7cA50frS3ZDN3fh5bFYvpCc25SwyaYmkPbYgdvw6hzqbeOyEeKgEc25roCT/kiMcatP09SFc/POQdVQbrJGGuN2D5Ls09ZxiWfRqyZj0SvJPM8D23DZLAoFcvbTijORvQq/t+0L2wcEBRLF46EJkDyFjYY8l+Wz7m+6DiCbExNT202UOYGbOW+Lku1JypAuq6MYdJ8TDhGmbdK0zc4om2ZYSzmWw9kiy0ZCGbLaVTUFcxK5ragjOT+d7YdUyGuBI0hT4kQvMlIG0pM/e24ZYD6zeWMe/TIcw31s7oiBN2ZA9FtexSwm6ZKR7o2uqDtHsw+Bn0HaFnLvADvxy111b5TdrpEgkyV5rSej/1hbpPosjWHtr+5XVNZ1ftloySpdUsLA20J7TEu+Pw8PVIG0SWm8pXd/9ekVcJ5FmMdILrgkOTOQIQgdWJyuJoxQ11Hb6gfnOwjo6OLoVRwEGF3FpJIVN8sb+ImdNHE2JkIj0SWFqYiIgY5I6RksApGAl4RaJGIksCXaIBhYN43eOSEab4IpHpUcDFgbRUwdsI/k0grORuUVqqG22YFkGb0hIF2u79DONeHSubx6VHpV0NRK9CVz8ICbQafpZsFHmQYYD87365jIZHST/Jnmlv5PKas7RTfVXnyoJZsiSNeuo0u9I9rP7LiMAVpdkYyzRsfKDoEeWWDdLttns7UoxIsw62g12RU5G16v2wOJjQBrimbG6/nSoyfZHyWnEYp2cAlrZbRGjg4isvl/Wvx8Fr0P7R4/jDO8U+Cl8NA5BdYnrfnqV/jhdf0kgTZX/riKuR4PFTFxK5AtC6UfP+4iP6ngo2x6Xvss+QfCLq+prIwizLGbAbpjoZ6/9Mv45dn039N35tQ0YlFA0UI5DdnnG8vXJ0nbpXbZ5E/8w4QGcmzg/Kpu4jEhaWJ9R4iaaHUYGD0eQ1EJ5lES7rbERh4K4qKtJ3m0KVQKxq0zbDtkHBn3v5JpwDmtkGmKWaH+3+vgWPhrSMEta7GlzStaUrbEExzLtgxSgMJ+1LR1a0vcyhpJDarDtZacP/ls1KuBcQ/BoUgx/QZYYWqQRwcC8Y7ancrPkmWTf9PuCRUJkyYLIESyfDbcyVP59E7jssmz1NNSu2cgaDs4kpZkmu086ZJHKKCVBtj+KqOq7vvkMMYmw/XCl0In70NuEbZN2tPctJUjWkcsBp45YcrCBh/+pbtssOacNQmpzvNXJlHjquo5ERjrxnvvhAeHZfiOWz9CcEHS89P/vET9jS3plsygpybE2R+e2crWZ/1Q/rd6l266taIX2AYQbNgamMdHYAB4DtvuEhwzW7on1CmYLCalyM6PumraleqZ2Yv6Xsx7hV8v39rC8t3wiUtq3YfkEnBsrGvbv2wv1F9Rvgo6PcIvZbl3C1a7MoLcLgwkh7bPt/i824MoHrgJHJLIjUv7djm6on0jEI+DcRjgfc+jvL+pJn8X+Zb8TZbl5yAU1H4og7X0AWyNcFkAtkHb142l5pflfw15pg0i2GbvXOa20s/TNBmu8JDBrvKyyLmOXq0ZvTK99z68fYdnbzL2sQYXFNORBDk2nUTuXtUlOSiQDYiKgz6mM9Dsyckfp/H8Teu2PzbN9NH5jLtI6IsFmTXSd98uSKGK1wyfqmDpuyqKzt+RRndn+jtLKR0kiex/Qay97HfJh7Gga6oB0rQcRYqsjM7OfNUop4bQyqohVNx0WSQOdZb/f9+d55qiyR3fohiEZwcVx0BsFQmnQJJmp71XEQ/FWB+SkChblZCN8K5c+i3p0UF/WeSviIeWV4S7OsHiDOvKbN/CReGn29QIb+QxA0afLeo+mTmZ7xDUfIpPqwiJOaveMuA4uJZr62YaDbY/2k05eW5Eu/QH02tu0bNHdUGUpfExCcZXwgFbPHnt3XfYCCOM+m7B9F+bTQLStL5K+laZ91uZ2DZy498oca2231cWF4wk1Nqsi23eBz+3ghOGfVXf5XmjDNrB1FfgCLtMkYmQjDnXILSimsDmO10azOmH7pdpTmlcUZdTxFH4Le45lQbG1dR+HhyJIvw29X/85ba/ESUnO32tDSTzqpo5jozE1ykYY1llXxApSmt+vCJ2pYrkhtIasYfkMhKNE+33oecVIG6nNIn7SITnyguXTaGfms9KVamdlzmfJkFARM/c5i2RBnS/NLBwFeh94EnmFkKv1XqeYwKa/obqHIoYpoU6Js31PM2aSjzVQM0K/tk7VEs1lBm3AETk1ix8SIowRDKYwmLnsW1mHEhNYTppSPUj7mDAz+1bEs/lk6yQnCLPqLCGQbgmS01HK6C934dPQObHeRdiq6KKNC2OY1TGZW+aobVbDvtvI39qiipBtqcz1DM2+llSmQYwlTQ1ORs+vmES+Au0vP4ALMi4FFOehqHEMQP2uIih9309oaYg8etG4/qh7rBodiIdeIdajNMjoE4b3muS1jDzZ/yvixwStAv92Cp/7afh8ru/a2gd6n8XVSSrlpkaXLFYF99320TR8XSW7FMRDrmrzDEcYBjXM62BvVFuTBojyE8tsvGZpXV+RLn0eeu0PaLsfGjn5XN31fuo8YYaBmLGNxKa4myblGAays8FicGtJJIQMm7bN913WSFxyYvaTbbfHLvu/JhSZHwYPvQ7SbeCxu8SPZB8Dc9egbRadkWXSBzE7CNGZlKUmRCgW6TDRQQRI1yGFXJUC3Q+/gScAsDCUVOD0atNcm7DhPxfEsxjUjtTByRiVxO23nTS9D7DYubSPznHkzh8cAYA4VeQV5HIdi812BrU5NSDqcKnBrYgdfEqkLFmymZL0nCJZ6qBHLaPe1Ee5WrZ7SNcRigo+N4aPmkCQK7+bNaAVsf5YsqARBn2W07MGuiAM6Uk2E3Mee7wlaPIhuw/b+EPgM9D7xS7thZKwSi1ED4osdqA/DbJIkQ5/zIkDEWWjINaLiiAHnUNGWqZQv2ed2rI+bSPqVeG2v54rDVyZQqEbadOwtjN5RqwakoExNPM6JnWSkdq0DJZAVoQgVXqXZiUhlrN00RLOew8igEPgHdyzDTsSuWHaLU+qG1YR6rkmbr2/3oRgu6Zxja1tjzl9B0um9TPVAdc5ICZHOrc9/1HZpP/vFP7ZOziH7lNsvQaGY8LCkTal6uUz8wSp77O6PS+Y1KZIf6SWJXG/Kwn6MiEOWCtChs7KwhJwC/W1+8k6xUMTpN+B3vsf0H7uHmFF27FjecoWCTIMPhAG4nUR1HmsE1cnlLESaUgzHxLs0BwvRilCVHG8z2ETfrwLT4wJLHsG7Ib26kZae5Xe3DRjom3qKKnDs7CZhJRc6reGBL2+ccwy6tX0fv192t4l4lTj3GXfzkEkDN1XkV3CV5Fzh8WZOdb4pqQnzaTpngzM7+k3bhyzjD667VP6UgyN75Xu+3MVlNPlgYKGs5cZbttv7LGyc7YvpsdWBBmlmTZ7H145Bln9FvR+fZu2d57Yq9p0NcGWWPtgiXZj3uH+fVA2pUr2kxOTAZ4lx1ldgxVPxU5wE3o3/f9vQ/vY2NRDjf0aUqW70HY3ZKM7HfIOTjIS2UlttGADEhFxBSU2CwzxRAAre31vA9+bXkZfhvbNFcvrNj6Yb2BzGk8f7+/6fucN5EfNIlHuexlJ91MZWdsOcZG/1Q3PKSL5WD+wjIRKpgPz27eOQJ++CL1392kf3/d1UgNXhzUGmgY2PoDig8Vaw9T+zptgJyri4dcUJYEnlIRh6F3iIW0dPyHmAkLafycEfTosHmkl7c9Djwa47VZutTe+ZHlq2f4vQ5MqXmqkFI3ajmYdoZj5C0njX4W2wpUqnAT+ieTjQ5+fQavOXxIyk5KTSEwaWVWETieiaKM5WJyBZjuVZKT7I4e56bcdReRxWPwG9H5yzy08Wvpt1tEr8hAnKFkcloUwmyRJRHUyW2Z8RdolD3sPLIkogJdOgGAD/Cvg6tgFcCUuc5R6bOvc7aRStX1IkIcMr4IVqxOz5FySkZAmHvS9nKiMz+/hM6fHhH8FXN43BZ33YOAVWkNsNSFiLQntnBETwsKctyQko0TKLUEQmiXf29eURTJ0XDL6mhvt5x5h4egCGO3CcDckSmwQJeILIXiqCLKCuD5LDt3aL6srsJzAVwTZv5bI58uJfFZNjsAR+Ff8/y/754tGz4f2aS61vyAubpcOieAoa1+x6Pi1rz2/DTZq878lUdcOaPc3vHzUF49y4eN/4s99a5+2JC6T0TVLRiVhbTlrp22WW7JSfxyYfWaEPmflMCF+sLJwbUm7n/WPQYN4+PdByRE8IkGy+AF0NbfqMEWyTz/5XLE8ynw+6Rxy/lKG1Eg1xARBuMPRTVV/GPyYIJM0hZzKxgbByzIXL0Kbkk8bldjzW9S4YWF1zhJnIFMDdZz4Hei97g2UkkgDfEdrFp20Us5Wx9RBF6I8c6x1/JYIQEw6FZXIWKUO8TjxvLkvb0M78sKQzqj9cjQairaEcUAY1hYhhODQBgSis8yw1yxGhBWLdSbmOo9Vl56VAfcr/I+BfiInXTPE91r6pv1EJu1xy0iPzmN1auK3yxB/zQdEackKHJ+Mvge975nPr/p+NiHYFvU3ObR+8oLFuhhLiNS+kri/2X7asNxB/R60y2RxFITofvi2+b1XvYzUJ2bmf0sGJQf1kSlxMCZY/yW7BrE+zVgs/fjafUj0URKig6B+dh3aK4TAAeLCfNkgtVecQPo1Ic4eCupzIlgQbPGuf103feug67y1QtmsjCBVxM5ERhXiMcOK4MyWGQ6da8Sic1uW0rUdMMU6kSOIHxkhY1wSZ8mUVVOHtIbd4jvQewnH6NUhrextytEOrzUcTSr2UXGPeDaRonFrTDD/V8TEUttSwv2yz2ymhMjCblNE+DDRxlFjl8U0tl0/S0baEgCInV2Ni8RumPa9vIRs2+Mgnp1UsX469Cy0ko3VIevIZIf6LD7nyQYUMsqpw3rFPKBbMrIZx9Q5HuVaaw+D5z1hq5Lty7I9BYFU27bZtosw3TDtfN07LpEFSyCX4bjJ9MfhBd8XrL5DLBtlyJThKIlJuGy3MpSV//yCb+vbXo8qQvZpWQZ/3fRHsDpu+4GVkWRXAIOhmxV5oXFZOdkp6+PsOUtzni9D77ob1YvqGY9LNishSM97J2QxI47AlGIbExTioDH4W9B7wZwzdWAyammm6nlol2Wk1gHXl2TFrFLI+ChNq4hth4OdtSKaYbLNOkSx98HC0euDZ7zhls5AKIauCFG+jWKVjtUQwQ7x40mEiphs24ydlRGEzrqO5OhFaOXgIQ4KrPMXbG3RjNDndlmU04Sw1IuQZgkgJmHrCkW0NiOi7dYYVyyWATSEjN2yCNUOHVmIRMDJRPYPCjkwa0NtGzD/DwnrtMmhvWTamA4V7hJ0z2ZVltXRrCtsX5J8rIzmyfe9IWzXcSZ1QhygWzm9RyDiFff3hesI3VsRIMmnJK5JVPZoMKRbcPLCHlzaj+uQ7BD013xZzCbBP750grJ5ZIL0ZU9k0myOZYXWSFf+/eMU4gb0ri0xUtaxDZLPy4zXOuA5aK2j0XVaQiCnX5nXxynGdzy7tm1PfyeVzToaqvS+2agVFgmgJd073F9O16F3w2SRZODsby3LnqwTvgGtZGBrRRSFppnWGTFq4vR0iu8kMrK/k96bNJO7LihZJHhwcPYi1a8hcXZuWYQ6I86qpOdd5yAEFjPtqR212yEEEhqiTfsOLGaAXoDey15f06zLaYC91nQYX/+nujUABn33HMlt852FldML/v9rJiN5miBfLptUEkixJZQdJAw/t39rP8zy1EtYt6zZSjJIMsoSUmooUjLzIEjT5el2/X+/NO5JQ8Z4WfutEWoO2Od+sM4yjYatzBSxrHP0v2zYYk68CkB6nw/THsnCdmIhJUfraqyWEeA0Y2Qd3czsM+Pjl7aoiB8NYftdQUy8jrs+5DBIs4FWXyBelLVPyEQ/iM2oCM4gPb8ll+uKgmhJmihoUv+w9sISbZHI8hC/UxEmWw6JA8F1hw32VVANcTbetmUGXb2bvh9xOEIoW7TuxHoZ5OftCIX18bafFdYBmu9Lf8w6Z10fmSDJ6ZYsOi85Gzko7XNYJ63jbBpvmVFTJD1hPZGOw6dkz0KG9kEiLusY9HnZ/8uyC+sAjUenbbifnMC15TB1ZnNC0d+yCFpQ7clBhaMnhdfdGojdkHM6HJIGIDZTVgPPHaIt19y08HZEXEtoidKU9TXmNcuLyRvzOZVRZfb5xiFkdMNnR0b+sx3GrFjPvrUMy4I0e+1Wv6pkv8OQwOtelwrCjMrTkkGC5bbH1hXJH82IdczK5jC6cN3XkZ4W8ngQrF7IRtkAZFZDoTn6dfxkqXUNSIVHJkhvQ6/0KVVFKGr0spRuyeGJzHU/hGSr4iEeB9ZrysnOxLofVFdksxiCSEuaDTgsKujWEUyRGrOa9ZTR9zwBkA7ZmTIQ32eIx7kPAzsenjoCS+J13nUiR8INM+Rss4M2C6BhMds3DtvXnvPn3iA8WUHynhFq5NbVoN30dYtbxAtg2mtOs6oPqkcQMuUlgViof7+yhnpjMSZcu5y89F6F6lZ2qeOuOPxq1jVhWQ7VC54GTAgTQyDM+rRZaMkJFss8Kh5spWaRhdOEiuC3lCWSfFSnNzT/T8A9w23fHT8hngW7zljJENv3oPeMWUfCzkYS0sjtQVASP8dmwvJVNdcV34PeN3ykIBJZERey2yGyNKK7H8Y4gqRITaiI19ZQNmFd8Yp3cGqDDLY+pxk4OLyMJrjHCZXmWCvnMXHB97pilzgtbwtsUxIgHFZGFXHRpc5T4eR3l8VHa6wbbkDveT+zMx1ylLFO7dKAB2tTRZAThMzaumavLb4LvWcNiUyzJHJsst9pJnrM4QtmRTTUZ9fZ9lh8F3rPeV+2LDNvHb+Vj/pNhSOR1w8pp3WcEPJxuOVlJL23Izz6X3KysH3R+vB1xsqm+b/mhQaLKW0IBmvCg61GLAHKaB8mFb6OeN2TJDllKRLE5Kj02w6rON+F3iXCAl4632GGVdYNdwiLhI1YjHLlmOxaP4fBTZ+hso5f/z9/iuR0l7CcRkFcD5MSSH13WBm9Br3LxAvBiaS+cIpkdIdQF2HfYbGuysrtW9AeZibRDehtmWGRGvjmKZLPLeh90Q9/STbWuaXbMO8PQgKV/T8soVon3ITel/3EGisPm31La5FEKivWO8haFW4meiSbo1cqH4jXYZtwOmbvrYwggVu6fcxyNilBPmiR8B3i9XBOM+7g5KPiP+uI1PkUnTxI2lVG6EVDAk4j3oTeZ7yTtjIS1AlFoua4JQIOM2xoDbWyDNWKrvu48Db0/pG/x5YkLZNRQyDbh3X+adT7op9ye5rwlpGRdfq2n2lbycMtBPptL6fnTcbzNOGuf7dZyGWk0mYq4cH7y3uPeqEniDv+XUF+GpRIPhDrmJz/JwF3iIf6rYxsWYwN/hWsKIO07lg5e/ttn0VKO9/bfhhuHWtgjhtWRtaQ6zERyrSt25TH48Zvm+URbCcTQVr36OM4YHUJgpGSLoHTpXWceXZc+C2T8bEkyT72ocYRh/c/oXKSjFKbZMlAgwvw/iLLKHL8lnDDetZ5Hidkt9OMrWQkIrkH/GTNZXUsF/db0P5izQWxDpBi/VWW1X3x2z61+2GW04HIuvTx+C2zhlvWpYNhHV6W03LYYC73ueWwBDPLKCMjIyMjIyMjIyMjIyMjIyMjIyMjIyMjIyMjIyMjIyMjIyMjIyMjIyMjIyMjIyMjIyMjIyMjIyMjIyMjIyMjIyMjIyMjIyMjIyMjIyMjIyMjIyMjIyMjIyMjIyMjIyMjIyMjIyMjIyMjIyMjIyMjIyMjIyMjIyMjIyMjIyMjIyMjIyMjIyMjIyMjIyMjIyMjIyMjIyMjIyMj41Sgd9Q/8GVoJ0ANzPy2BvjFMfz2acEXoa2AKTA327OcYnwe2gYnF2EO/DzLKMLnoQUnp4YsoxSfh7ZvPss2ZRktx+/4flcDf5VldF/8I2izjA7GZ7xt+vCUyOhIL/JDT47eA+4AE4LBlpOToVIHnJvPDWfXcL0A7ZPACCeXO8AuUPnvJaeB/zwnJpnaRzI7izJ6FtrLQIlr68S/hDmOVAozlstIenSWyeZz0A79/wNCv5LMZsT6UptjbZ88yzL6BrQjXJ8b4WRU4+Sz59+lP7JP9v2s9rMU34L2ErCFk1GFk82uf6+Ig129f5JkBPCy16c58Jxv8/PQjgm+DmJ/d5bt9TK87O1SBbwEvZegnRHsUk1sf6w+rQPRXPkFvADtl4Cv9oErQAV7u/AOroNZQQxxhgqcsOTs+gSnNvavKvmd08JAl+EFaJ8CngQu9GHewG3gpzgZqP1zoMARhIpgnPDb5ejG5rs0u3Jand7z0F4FLuN0pCG0E5zuVAR5QZCRnL+2z8yxlhicZvlAcGQvQe81kxUp/Qtgh9B/RJBEJCGWXWrY4fTL6GteRjegd8sb6xGw7d9nwD3gLrGcbKCm/jhJ9sHskxr4X51Ceb0I7Xeg9xa0mzgZDfoufbSLk9FdQvttcGvttbVTmH1EDrT/aZQRwKvQfhN6v4C28NvUrjFORupH0h3JpyImB28nMvg8tDbIO6397jVon/Eyagg6MyS25QpGJJ/a71snny3ZrDk+/7/yH3kD2seBC+dxIQjQ3oYf4hTHGpERsOn/V/ZkiDPuBU5AE+LMSt+/bpxSxQGnPFdwbT/nw/69Gn6Ma++AYKBHBIK0i5OJSNOQEAHvEGSk4yXr10+hrG757NGIuFNV/vs+wchIJyqzzerRHCe7lGirU0ofU2O17rjl9UgEsvLvG2bbXVzbUycu410SyOY9nB7Z7K7OK+dWcLrkdMPboyv+swj1Vp+OIe1N4wx3HycTcH1J/48J+0HQOwUplTsdA+AvTpGMhPeh/ZwaK0Uq6TrfTuMybepfI0K2Un1J+lbhdEWnqwh9UPI7jTICaM/TsoVrVEXw/MB837VRdnrDv1uCpEwcONk9Y+RwDVqR9YbT1dcs2iEtl4EK2l3X3gIoPKv+qAnZIzvcPcP1UUucZLdElsbAd45JLp9a5cneMkMiTHGtKkJDbTqtIDYwViDaRwYcHJkocZ1yA/hP/FimOuc/OSWK9JZPy6rdgzo2xhBYstoGMbG0GOLksc3yTgnwp9Bu+fP9zimQ05teRkOCjuA/LxuCLcw+A/MuWaSkfMhi9FsC/9ITjgb4/JrL6Q1oLxL6hTJCM+IAw/YnCLKSYbIE3BqrIUGHKoLj3wT+j9CWOLLwA+C7ayqrV30W8gow2MQJYd9/KRZkiv6kawrcBsRkSf1Wxl79bEZw/pL/n/rswjfXVDYWr3oS+blN4BIhxaHO5AXTb0JwtgmcO+8/mBTb5tQRbYiHMiucvtzGkXCAp33W89opkFGEp3CyuUMccQ1cxm3UuHYXQ+AiMILBAIoKLoxhexzs1uA8tCWtFGtv34223MH16ae9n7t22mT0OE4I96A3drrTh64zldPg23vqSF5R2mkg4dF3M2j3nWwed7wr4hITnH6tMiGwMoL0PrTb/v8GqBroT6GYxml7Ge2B3ZdAkiw5sMxSEYvXty466ckD2rGTNcUvvGOZEIIPcG2e4dpbEJxVSiwhznpYJy9CqcxJac63CWxJ0cZH0LAVQmnrPZa333YGS5KENBqR/7M6Jd3RvgVOpx4Hzl3yJ91dZatWh9d87ZolzxZq46APM7+D+tSQQHy0HWJ9Kv027WcSLRQ4snEVGGzAaArPrqHhvuWJke7r4DyOzUyD3Vlg1B7qL5+WIBs3RlATyEHf/D80x5U4mZb+HAXrixe9jC7i7uk5/aO09HTxGGtfzm0CX8AJWCk04FwNF70zPGcU7sIM+p6clgTHdlrwc2i3htCr6XEFZ4CssTFksoAQtV4lHiYBBnMYNISxXhmjKWz9FK7udx87/ToN+Btoiz70GnoaPVqKPvTOEyIQMWmAiSNURUXIiGzS9cXeGK7cjocvS4JPuLZie/TIBOllaP8E74AbmNfB+duoVgTAGnalzCriaNfWIg1xctwwvxk5Bi+pv/Opybs4hvnSGhnum9D+C6Cn6Gwaj8crmwRhOMnKTiTAOntrv/rEsrWZlQ7ewrd92r9snIy+sUYyehXaPwV6F+nyyyJ+cvANi1klCCTbbtc2qyv6TnK0JKnTS2/4/g7aHVw0/FPWQ59uQft1nMOf7y8WrIsoNjinbjNnmP83zP9V8p2ViUi3JZU6ppi6z7/wNRM7wL/m5Ie+b0L7NKG2rw8+VA/7zIHh1F9oHQ8pdiRRqcYJNNNgw1KSKZ0cEfpd3/z/NrSyX1Pg/8PJ69ILvgbyKn6ocRNHji4SB5oVccqWQARRkdImIeLzAiwbGIhJ6dhB8Hey+8Krvjas9Nvf4eT1SHgX2ifO4+SzDe1lWukF4Ah0DT1rhG00f5kg15q4QHCT2LF55Sv3Y9GBkxHEBeHrgreh/V1lHwd+eE1pw/kBB0mRVA+wRRyxWTkqDekNWm/D9d+COHHQx8lpAnx7RTJ6ZIL0FWDrIh2FUzum7mNU9yBDK8yJi7MhrglJnWA69LQBFHU4TmT0CuuFrwO9x/2HKmy32TOI5aO26pVm3aycbLRvMyqRHBsYjsO2+xH8k8AfAr2rwHzRuUtOEAhzgbv/M+L6mJIwu81mnnQcBNKl7TN//rtANQ2BTYHr83+wJgbpaWBwEZjFDhsW5WXH9wtiWQz8S9tmZnvp/6/M/kKDy+ypr5V4P9mHYQNfXAM5PYWvf6yh8Q0YqCFzd91zAsmz+pG2V7ABS8liFhPiEbuGkGAocX1tu+/0eh1KAZ7C65Iic6tEUoa5Z77e+bdNbI8X0rtGEAM5PaVBcL/R23BDKxNi+7WBk5F4xDNrICPhCaXZFCGo46mExNuqwUHKk0JKIWdVEnfMMuiY7bMb5rB1w+/a7KN0QkNCvuPIpi58kDFXx9Q2CIy6NOdu3DbpkW6DDhsRc85HxSMTpM/phstqEhyaXviv1O5lRj0lQyT7KGsyIGRHbGZBv+Xlx7vQ7rEeWZILF+miUabBIUt/5MhK3M2VLKbEtSGyZdYRLnvXOS0Zrcw+Ipc/8Wz7y2sgo3OXcBd1L76XEOSliEFyKAlEaECox4Jg62eE/phmkLQfhOJujUCKgJW4COlHrC4qeVhcuOgvaBLarbZbPVIwIZ2qCHqjdjUEez8w+w7NeQWblZsSCp0ls1Hjfu81aH8IvHKCcvr0eVxmY4cuOzQQI5rGw7EQdEZ9cYEEEPRN7wN8FsrvVpjdLceAMIli6AnGu9C+A7xwgjL6oz4usm1wCi/5SAgVXdt7fWADek0ol5gBg4qQRZHtV4TSpeGIjVvf1SjZLJvQJ8j/bWjvAD/iZOvb2j+hjTJkFaHAakbX/oFVDMlwYl4QK4Yi2pIkbQnMYTCGzXHclyHwiLegXYdgBKD9fV+wrqi0IigJQO0yuUOgp05khwUgGCebBrdRsAyxSTNe2IWJV6BUjyDMonvU9j0SQfoVtFzyH7yFlh5UxHIqzHvfHKJIwpYC2AbPCAoi2YrMKwOlPm3rLJSZO2llajdpuUo3R/ijJuhRRTx0BKHvFASZ2IhdZLHy38kRytHJ6UFMnCwZk3y2ccHRicvoqpfRXWASTzeviINU3V9lO+xQpO65DWKso4dYt1KiNCUe9tT5CpycThKdjHaAJh62lq1WBl9tgGBTJAc7Makx2y0J0P/pEKQNCiWjCWE2EzidOim0G7R8lU7hh/teDp4I7DVxUX+fkNVYqPcw44uDvhs2gphAyQ6VBHnYfZTZ3CMmqaOVtfgh8ae4iF/TYuXIK1cEawPXwjSwPw06c84QhA7qNJZRl4SOVDkjc/mDmD9VBE6hQHqbkx1Kav83tDxFTI5kmHynmXshDdSpcPvNaujXjuiwQzDIyqbJUNv/laXqu/22Zq7GD2L7rT7/uqtlZoeTK+Bu/zktTxIW8qvcBc32o3yJy1hbElh5GeGDFxkcSwhK4uEC6VDpf+8ubN9bXAIAgv7e9DLa4+GHbB+JIJ37fVwD9ujuoMhRkmHrIOcvAyX5pCywMS9rlNQvC0IkWxGvD6R7McKNs/8E2pOYvdV+1hvsGbAL82m8TogcsqC2yPBuEhJPEGbMiERZmYlkWuNm/9e9EMHU+TZwtvJDH/0fp1F6E9ovPY0bX/O9fdbEC4jp2m0fmvrrloxEEtR/ZMRFri0BjzIEBjLU6p9WB0WSXveR7UvHKKM3oP0D6PG/JFjKoXNWEO7phHh5B5sNsbapJCZBGyw6doj7KMT90QbDFYFc6Jwv+vV0Hq3lh8er0P7ZJs7xq4ZtAr0JDKbOSvr4pGtLSRgasVF6F6ipkU0Y8rWymPtziEAMgAsVUId+LL2UzmLO8TK03z5GGb0I7X8KbP8JLnuktGNJZ5Bm+2GGmXRGtoJZ6B8FxDUU+pxGw3PimTWbbnOvgQu+k4tkNCwus/A6tMc9AvAqtH/2OG4M0pO6rkON4Zd1vJzKBt75F27feR2I3lZFaJSiWkWygqK+kmhJBSqfpWtg4Mn+hGCfLGc4MTxFkBF0Q48Ts0nBeKGIq3Yy2sMTYemNHLs6igyYzi8ZqeHbrrymqNxQsOmunai3/GvzEZr4UATp76AdSIH2wlV91IQ2ViwfKrORLSwOYQ/M//Z4fZZD0G8osrX7TgnrSCijctwGqb1Ey9dxMvKzF1InbI2yHLIcu80qpm2UARFxsC/9zpxYlvpNfa4IWT7huDvblx7HkaNtXPaoOLieSjKCmCQqALNEXEa2IM52pETA6oyIhdU9dTR73HHL6Kub0P7LsKaIHM3WNOiTxuELEqfmoc+yy2nQIlh5SL5pP638Z0sgK+JRllXWABwGfwjwx7hpiIocNnG2aRpnswuSWYzNoq2qccGM2lixOLNW8o68VB/K3bgA2eqs1cvj1qMvANuPA78P3Ro+urjaZY4UmIAhzhLCNK7rmzVQ7NHd/HY/yGhgGbiilk1/8CaRwPvTOFNpg6Et4BVonz9Gu/2U/mwTRwMT59htVrrB67o62Cwk44bA5r4j6SKT87GZ3q86LUXBlhmKVPbDj/VqRwjEt/SzJWHhylXK4ePQPk3LFeLI3BBeiO2pnao/xr36wEYD53ym4KP94LfLMVwcQ6/C3QsJvfTvktEG9KaOTPbr5X5yA5dNepjg/4EJ0t9BO/hDFhZaaZtATOxNtFGphh5nLDorDjhGny3plpLalJoMDwQyKrIuh/oCtDeOQZHaz3pyVBDN8EijcQgO3jo1OecBYShJ/dR20IF5l02yDl5yWfZZzn9I7ByOi0i2F2n5iv+wR2dde376eEVsCOSHbBuVDZN+zIizl1afUp1Kybf2031I07Wd8QeuQ/vSMcjoZ9Bii/ulFKWLyMo6TBQpcLZ2k8ARZuZcapfVH5UBWOed7p/201TX7HCeZFVwfDICvx6PmJy96b4RcuzSo03MLKvKHWN1qiIEGArGZua0EORwIRWc+T6F/6ku+3TLz7y9dgxyugJuRtWW3yAF8e+Vv64NQmbknJx1ggafJdl3rwpn96VXwwb6jdPPC7vEy+GnykIYRbHlAfjPVx6hzQ+D7Q3csMOIro7Nlo/YYdg+cK5PvN6Dh+zrOZ+2/GgaFtDs44Z1R1Mvn4Yg52URof+xNBCWCh+3jABHIi8TmA7ALJaR7FIJYbisiYPRKY4MNTj57BBs7R5uOPbCLoFYqNZBcjfo4UgS4ac6vdoGXoL2+gP2tQcmSIOvECL+MdEYkRxUZTbbe6ysrnU4goRmDa41zn2zn6BzpH2uYtHg9zlGRfoqTuFvE4XcA+/UJgRnKyUXUbHXXxE7NmXNRJQg7kc24Flmt+1+IpFSUsn4Im714ReO2mg/jWvcPbPNK70IktqxgXNq1oZoeNLWjlTEz9PSO8RZOqtD2m6zbRapPhU49T+OyHZbRdmyrBAVpJV1PES/DRR+fZHBzGVBJAM5e/U/ySCVkR0x0X4iXBDbpfR8erfR/y5Hu+rth/jsWkMYQ5Ni98N16rq3+4TVNf33MqoQZ8SWESTtg9/WH8M5CamKibkCHPkGHaPvS5xNehjD/SB4HdpPnyeMNdjOb6Bgo8RnOLb9MX7/jf34PksmE0K/s8SyAK7swtYPCcZa6YPKZWTwmzeIh4d1aSNcwe07HP3U/3eh5Qmc49dN69OluGRnuqBMBlNOu3JZIzD6UrvkgeLkKmx2w74NXPmRnwUnsqHCGWvwm2B/CmL/OsJlkX7IMRa1fwH4h78Bs18H51E4wqxr1PX17IKiQxjV4T5DiP30rr4nFZ3UsHkbzu3h7k3pD7SdySANjGUfL+Ke73nrAWT04ENsVwl3d4fOu/T6LmpIL9JCGSSIU9a2Qcsir4OclyUAqeMTexSU0XxtRdXt98UVwkN5xoQ1VUawubs4tX8Zwan8ttJ8NyMukrXtFZZtk0yXBG/decX0L+Ls4i1onz1KOV3BNfIO7qK36OZpFlWY7aJoViJUQFexOENScpN8bP9Z1vZlBNLq44zFLKUM0hVMfdBR4ap/v0vwXA2dUIqJS1GDzxydJyw00yzKSe2wMrBkO4WcoByCiIYNXHROC5HaSzza+P9h8GkxZ+vwbYSw4daVGehabJot6Syp7RE5qogJkiB/trUPo/2wv9UVyUgyHBPr5Qh3m188wrqtrwM8getAaowa5CM0yWiId2hbOGNQEgj5fjinuIO1RymJrHCqyz3YmhB0c+KG6ESmhrhMTOGFMiYOokuOJ7h9YoOwAnRBiF633EX1Krf+DvgFikcEso177236tkIYOzRyg9geT3Am8PJ7UIwJ49PqvKZz9XyArQBRQfPcX8oljhFXALZh9FdBDmMYeKbcx6yCbcdQi1iP1C/UZ5JEnEq/XE3RviOgUVE8LNSPqN9Z240/ZPsBm/lABKn9U1ouAh/QafC88enqvpvpUbL8wam6cJZsh3gKd2rEUwJB8l16jDXgRXLsCOf8f8zqI5K/g3bwX+CUZYe4yMcb8nMVXJ6G61EULmOTtt1m2uQb9b915rC8jiYlAbAoL0vWasK6cTeOIJP0C2gv/O/oOlTnwT050rLNFxpo6jiDK16uV0WsB7bdVhYyxJjt9hj1X+0jsmVlLVl2wwg4//HKEWSSXof2j7QCr4phdRFDguHehG1PuC9YAlXBR3UQr43IBemdvodFXdE+Npi2fUqESbKxkw6kq1sccbZNXkEpeHuxJTCCC1Nvp0QgRY48+zkoWBGPqFgkkbYPadJAkXwv4y9SLeMvAqBsm6Lbo8Db0PY+S4guJsTr8HgP1KvcNP5oCrCMsm98bwjnLPtr3GwkG4xYmyMC0ACTqQt6JHrpY+HPS+kyMp+ewKAO5tPK7xq0145Aj274xY65Qpj18fd/AzZ/7fSrwl1Q6QrMuwsSObcCgLAYT+G29zxr1tdz8271bDSGrTEU/TAxAHymyp+vAD49djMyUxs4Ap6D9uYRBm1/A23xfwH+w98ALsL5v4bL3tjs4iaQ1P6ejliM8Cv3scQTqNJt7yckUofYfidTuOmHJ6290kKdgz5sNS5ZI92rCIn3TdxDvg+baTs0QeqmqxtL2TZ+GKgONvuyOcaTyU7JrQOyxgjiTqXXzHy3jBzd7/9lmShB9W837rPPw2DwFegK1/zFtLVbHr0z2JtwAWimwYCog1iHbtuQksGh2T5Lvk/I9NIiZcz+Ok/tf68iTN0+iqjtwu/jQmZprn6wT2wNG9j0w2+Sj6IJGQZdu94tMZa+SYdSHETCrVMrzPE2SpYflo1cNf6oj0thK8+sni5yJF2q3VDaBbEYf6GzqRu53CPuE1avBsTGx2Z3hRmx81cfx1yKdYr2XlQEPRo9WPMPhTeh/dIl4jo/pYlKAlspXQMGDfGshwrYcbOSdI8PCjZsn7T76TQVgQBZOdnPvX6YMSe5TokzpEeBLf2jAlGbFREDtsyuIC74G+PIwdgvHOnbQuOGyDT8aPuS/SyfWPn/S7+PVLgPYcqxd5jbd6Bq4oe+6rKOAi9A7+t+peqAbTgPPPZXYdq0GlUSVhLvE6ZIKiJRx/DGQku7WEgu1k7LxpRNHLwNIASQ3vBs3XYymphzHKWMhKIbqv0HwH8MlPD4605HbPrHEu2GTodm0/ieyvko82r7YE2w+/JtEAdl+lw0ZtLE0M0o7e+HlSxk6x5URofPID1NnKLth0bUhFlXIuAFYYTJNsw6Imt0RJosy7YO3XY+fS+kjl8GTQonpycisIkjctdXXUj6tP+hXTrNrXHR6zkV45U4BfcXc9fvLmUQlHpO26btamfqmPS+jEyKNPST7yRLOX/tl6Y7V4IvEStH5aZh9wr3vyuAcPv0zruhC9kg+5oTz7JKSeSAEKHXxOsbVckxM2LdlP5KB/W99GdCLPdV4i1ouynGYxzLsT9ob4yspy6kcrOJdIhqyw6C2pkGINbBLdOpPqGYF+Jhc0sAbCD0PLSvrLCvPQ10tUciSHIgGkITmuTlvdNsGtuntM1ql+SUykJG12YVa2J+NsRHytA9HqEkZNtmBM7y4oqH2V7FPfS5U1oIU+71zEFtV5YNwlREn2Js74WsV9+fr2FxWQzxAtle2+ea8DPRWm+9IWExQAnND4vqN0UUyhXI5CDMIUlZ/APgM/Af/D3YutNV78/kiEuCp90F7rpC7BoY1lDsx4GCdEx2SX7T2nwrQ33u+q8ikpE/cOSG5KS/A7PLkaLUj5Q4ZfoMfOpv4cr3u04iM9Wx4Mptn03DfJwhrlDdzjK1mVyrR1ZGIpYW8pOFPvgg6dwUdpu4XvdBZXQogtRe8lP6pgTHNlnMYAxws2su9F0KbANXp7xLbGyskz4oMtN++px2NB27LFOkc0tx7HlLQpLiiUO0/bBon/bDj2Nco++4/yWfQeNqa7qe3ndj1f39OFsGizPbbOQv2chgWwdYL/lMsl8/2Sd1CiIQFU7Pbq2wFqn9gpfRBCefu2FhuoX76I3BAGdsZAisoek6BbEx1neWPNkOB3FUobbbbKeIg76XwU+JeclqifY/60NUdDzxWchNnD2yhQYiTuBWiW4CgUwNL8RDG56DLhAoyaBiMXuSHqvjbf+0fU/3oGD1mbbeVZzwZXEHuKzIE4QMpWE+89rXR0DHuCvC8FlK8rQbxFxLpLkilo0+24xtiXlG14AojSDiLUcp0rlKPI6P+Pvmwktcavg/+k34d7/qagDnjR+qlQcq/TGTkESyBNESI+mC5KHtlnh6rhXVFQ3xgaJSmn06gVid06Xfj+w/KkrMD/QBfgv4DPC3MLzT6VAFFLpxurhZyNrOzCnk3FPHrMBF/SsNvqQm1gd0QpYezeP+DGHG8zPQvnZUw2xR8FHi0mgVjL7fNbrCZ7XtTa9c25TR0fViPit4gMXgLLXFVnalP/ZcqoxesCLYIlIjDl+sfbgMktJCY0LKYxI6iRrY3dASeiVc3g1FjjbFeBhFt7qq+7Eso2L3b5Zsr5LvSvO+UqMt+YyBHwPvwS+bRdLS/fjIvV8ALu7Hw0bLjEFKILSPlUlDWL9ERrxOjktJaJO89FtycCuVUUOYkXUb5vdM/cwmcedT+FW49KmKI2WTLFm0bbLkqCCeQeTtfVQnZwm+CNTAnGtZxq3y7xoa2XoIURwITeeZ4YY19r2TvYRz/lcIVldGqHFZuIpgYK3Tt9cOsewUuJembSJZFUF/LBGwGHEw4a5IorsV4WfQdtG7LlDTs58mTJLYCxfY+H37u8FmTVishbUOXnpkAxbp0JDF4aWKQAzk1IeNdxZmn5rYdloyv0pchpDlkPe8BPxHQ+Ap+Pu3ofyr7uY0+GzumCDXcdAH2XDrmOWPSoIeVCz2TTm2qdlnjhtO2pJA/Rcf1THJt4TshSNYquVdaLsavs6J/QOc8/9F1xjd53YKvT2CIdpdrIuUjBpCrmVEuA02qICYPOlY+flh4xfWlHGvYL4f9i3M+QrgyMgRmGK6v+c3/BbwD6K0aYMPSO7SjaTM90NAUhH202tEPLJr/aZ0STZE/FQ2SceUtU9C+OznvA46VNKVOzHj8Db78ENsVbiydjcMt1rD24eQBuy7u7S5G9Y2SB3xMgbMknOmZEAvKyTLxC3UudTfh4TaiFUabcZ0WSPuwk4THEQXPZTEs0Nm7iIu/yCMylVEI5hLHZvkVJj9MNtKwrC418+oMFCwx6bZkQ0Wx80fGTvAT3E3426Yld3N498mTt80dDMlt38U+Keu15K/1NhIDiPiiSElwUGlMhLsuVOCZPc7krS/akUg9O4NnLd7HCejyeJhvTkMzRRjm8ZPnRXEMhI3hSCTihDYWL20mWD1x9Jvs31NvmPCwbNQHxabuoCOheD61RUcSfrUFdi8E6apbzqCrfsuYqM2WZKjU+u9YLEeV9xL5MqSycq0t8u01aGeTftbewiBQKwSAz/U0DVGHohtOpfhtw2GdNF/sQuDcZierntqgwnMae2pRRBL4pWfK4LcpZNy6MOxWU9ovPBEjygjdeMInP9FCI6/M4oV8NfA33aGpBi6KecToPwABrtu/3Ya+obaJ5srW13iVHRIIE0l8WLkqX7quyFurSDdI3Ziu2X7d+oPVo5S/1REdOfvD2Gzdn3NTxxhSrTivyW8ell7MsKZOc8BO75qs7pzc66KuN8McQXsujxL6kuCfo44/NIjhyNI1sJ5Ji2joMZ1DE89pXQbtiawXcfZNnsjrYGw20USLAv3p+wi+4rQAe8XMev/CifEXcIw+8owJ6TL6ri+oMDXIQwJU8RGdJakN4HLtxcNis0aDZN3wUYrapMR/9JIFxYNnbZJicfmPCuDFMcrgXxbNF1WMpI38kMEg8otGqbD1ea0zkb6oXOrNq42+yohWhG4mCVJkpM10BD0UXom8rByo1SFRvT08NXLhB4+9NssQ27gXO3WGLH3Wu2w5DElkFsSyizUfG0SyMBdgrz1LgNljXPa/9SfKw4uln8YDGwnKH1jLuE83ad+w/1iQ5hpMHYziYbjeLimIM4gNcl3JUE1L3i9HDSwPXFyrvyxkpH0RG2tCJkFFaJWLM5igtDnV4WfQ9tlHGxjSl3Zh8BfO2W47F6j24Y0NnFxtOz9MhmJYA/Ou42DmRsWlz0Tn7f2xdqZMX5BxRnM6pgcQQjeVk0gb0D7lG9DJxulz/+DD/1ef+0aehm4Apvvhfte1G7GWa/vMmEFIXvbNy/Z5MIbo8EMtmq6NfHUl2SnIejjmI43su0FMzeyPXb08TdiB1dLAu7K/x5cquGqm6k9mwZ9kc0pWf4AdnHjTTyp77tzlNPgJtU/KhYn6VQYP9e42iyVG1iSKqSf74fDEaSRuRoCm68IszAKvOGSdzKU8NLtYBhstXo/nHIB1kFZ414S/ISpI+wULCUAHXHzqHGC2/OfX13VMu1X/AVN3IUWdYgiOwcqh2a1onHHbu/A3jREEMuQ3lgZWBkUcbDS/qY5znY++z40n3VOyalghdP9r+DCqD33o5u1J45bhOpFKxtd9DYwdlNgr3jhiNCkjs0ab5EltUWGWoZdfd12QAjJCYijk1RXZxwwhPoouEQoxCz9xV4hTvFUhMKeOVF6Z/ueS8kXxMXakpGyGiWhNtZOR2vMPradkpEgHRHxlLzscdKlitU6/+7mKVKSky+B//7XMBsHBdnGyW/ismznpm7IVgRwx59yhyAjkQIb60XZhaE7R7+JJyw15n/dFtmaNCspWFL1yoqyI9egLfVDKYsB+HdjaMbhoi8CV1yNVukj8IG334Ohi8qberG+Sqcdkdj+0peETd0MLrXTvhRATvDBWOMKsyfE/dli1QRJtnKgmVklhgD8FKcVf+su1Mho5IdpByaY29oNIrV9QcnNEeb83jAVfecnrIxKYn2S7arAPf5mGpMjEx8dKT6E9tNfIASu+7+G83+By7L9HfC3rq9ddRdb3HZZ254cdQGlGd4W1H0X+lnjjpUdZ0q3zqK1PfYlO0WzGJRVLM7SPQwOX4MEnZdRR9GFiSFGg9D6vOEeBXDZFOPOiMnRQUxYhMr6zJJABKxTs6zdKovdJsenjlnjFzJ7RLR9vwKrKP8gKDr+fWCtg/VYYjaX4Yn33P5jYoZsIeMiUcvAqGN2ikZQPFgcQmuSz5Jn3+yv0Z4XVmC4/w7/dGx5UM1ck/KoAZJHyWIK8TJ87o4zKneJF92zpMi2oSI4QhG+Tl8JeiXjmxIBG4HY+q6D9n8U/Ewr+W4SLwCliEAsryI8hdF68RK45Nb9uTBxi0je8aeQjESK5M8aguGtCCSyJMiyJNhFS0zVjwXJSdtE9BtWN1z7JrTRsuq62NL/v0cYf1ADRjhZ+cYNfFQ3AD6965y/DfhKgljVLwZKDTSuoFn9pyH0M6sHIs9V+Nnu+2VrAT6M8f5YSNHVn6T0MjD6cQhDbVLokkDWS7eQ4cTsXhLbmrb2RqLyG5p4LR/xtGUkqSI8qqQy+1tbfhQEQMF9NxSrGw6OADS/ii/Kk8xe5e35yB/rSya2KzcEZ9us/tbgJwnYRiUM0MbM8q82yNDhM7MvZn84GjmBX5D1CWIZsQP/w1+5fyu/ydiknoyy39Yr4cptd417/lqtPa6BIu0sZXwdOmXJ4vC4ZGZJmGzSxBz/IDL6WILUbnqDVNHdpYn5aMlH5/wscxoAl315yb5zbJVpjP5vzHkG5jRShoogDAlIDVbjLawOppGIJXc7HyeAw+BxuihVDK6YQNUE5dYqsZ2XgTjHftm1+8n3nFNTLbN1wJZYapvuhRz2mKB0EIzxjDh7Z3/ayhyzfe7P/+wDLs++DIPfxz2/Z2ZedozThof7BAspZ9cQDNEdN1wCgSRZUiR90fXbOhobcSlYsb5WuqH/rX4XLGbxbGd8VGxvEtY/6hP6T0nQm4owh95kfrqL3KJ7GOmnb8O0CW3SfbYZxYq4WLkiJkUloX5CGBPOaUmREha2z+nSVvUIhBE4Pdgk3KiS4DnUKHXwZRZRjMYzxM178VCpTRZ12bEGmmbxfpeEjJPfbcFh6XYJkpEI6ipJNrhnu/3voe0iBv0gBA9SEfRpn5jY1H76Pf4iRy7Lsrkf2maDDD9bu3t0COFU0SiAeD7EGRBdjo6xqq+4ycp05VDnTp3PhLhQUR1FMrIXVwIX4dIHIc4bElziHmFUQT+p7qvT6qdFtitziZ0fISQaBiwuqXAkRFsXpaEiNeq//3X8SJSKwHSlZ7bBIzeEdtHbbtlt9YM9fCDiMcQNQ8rHV2b7BrFPgyAj6WWRbLf6c/2QM48/PoOkcFN3sIlZm8hK9GBDOTQ9z+cy3eJW7DqSNCFEEKny68ZDTG60j43YZAOtw2fJMRaWsT6q4wdcGzX7SF5liJt6jUkdDv0+ewT2NyCkvzcc6778ozjAS+Wj9kLQRXWUioindUqi/n+Qkekn/9t+sBIZXYHuifSyCDsEZyavXODkorUhZJwgRCd9Nx25nMbk2BJftUOdoyKeXjvHOX2brJJv1bksJD+bedL266sqHL3iXyJItiNIkUYEK6lMwA7xdHelukawMY6HHnUq6Yv6nyVIEBdMjgikIc2KWHIqziZDbx3kqvA70Gu3aNkmnn2hHytxN7YgGJoxYRaEZGSURMTO2nKI9SaVl0jCZeLbAnEBqeIA6wysjHRfyocTx4HoQ7Ddlq0qgihwcvmAbhE/dtwMshpXizbYJTJAsvWzJW2tzekFHToiHsGSXCZmP5kAiEl2muVeJb6pfvsjaLd9IgBCur3CRavvEPrarltctMY9m+7cHQKrq0M8Y++vbJACC+1u9UyylVytXdI5bF8yI1FHnj0C6N2m137ByAg6eXTL2lT+dQ/mY2+ypl7Iuvj5Yv2v2mH4JxATTPWfktg/afBB+1jibW2W9Qtw+P52uCE23VGv6aN7cd3fFXBjj0pjT4gt54iO0WxNXBpyTChoW3ZjxSqtg9dvXujjUuQ10dN7LQ4iAzKG5ZJjHhoVcTS7Cey6YYvuGrS9IB4XUw+QjC47w1SOne6pA6SRgd0uMdsOY/mGvrOdbRksSRqyWMv0SJCB0YXZ8FON2yJYYOnRHoHxqWeV7rUxXd4mnU6yUKQhcYscz81pdVnj5LIlS/sZs20Dt1YUOBvxSGRpz78rY6uwSboCziMXOKe2Q6gQ1kN/E2VRv7EOzBKdiuUyAqeOmnAJISpOkcoozU4OWaGM8Ce8SJCNnfk3JKwSPSEsxLbjFvJr8DOCRDirOEuh9ug1JXBPyUldfYQZEupDv4nq6ztZ1sROX7+TGuxXoa1YzZC2uyjzwxCmBol4T6D3X7jf+jto1eXUzq3dMOQxq+P6GkGOWybfyg5iR6X40JIDkYe+2UdIkxAlcNM/AHllQYlQEadUG5yy/gB633e/9XNoZ+brApdV29x3GTetkyTY+20JQEoi4f4TYnSs9ks5r5X1CNfX7uIyiYdt/qEwJg5yxzjy+H3oved+62+8DktGQ1x/K8ehT0jvbbApnasIMkz9sxan1f62z4rPSi7lkuMtAR9xuPrjjydIiuBLuiWoL1Rwxa/YuwUUl3AsqTTHiM5JkLqrmy6lrdOmncV+Lgg1IOIPQ7XUR4FpR9R5MOfS7tpm93l+FSv83sE5qZJofKIYJ1P8ZaysNljI4g4D19SudjTFXr+IpGXVkoUupzLfL4v0DiKKMmY3oL3Now2T9P5reu1XzJPXZRnlfcA1ekhwfFIS6VBFSB02QSWt05FDWmasLWTgSlyx5bwOMvLJvw6pMVI2Qb+r40YPJpIF9D6g197xa/zI80gGCj91s3YJa5LtuJktDW7oseczSFqE0+qCorKKQI70bmVWmJ+zK0EPiIfpBPUzSySq5LuSFa2rJcOhi6gI9mZOYDX36GSktXUk1uEUimkwrBAPuRb+dFLPilhG2r/TLU+QhIZF/bOZtYp41pIyS6vKkvwG9NqGNhrDkIfuQ+9f0mufDo/XkMmuiHVcQxzWsZUEW2yHr3WsbbPqb5Tcw3y2ZEG6qfbr96pwyUezrIagTq7+dhd6//fY3kl/bEZRPHzohWMJjzL4FaEdE+IADkJfm5n/pRtpEsH6Rxvk6Dwb5lxHgoYQnN1elNEOQdVm0C31ITW0PlmkcNB3heoVi5M+ZF9LQrZIMtXIng00ILZPknllzlNy/0SBxccSpH87hc/9CEeAPMHhCmzfdhF8CXGNhDph7Yr0etpu2MuIECRb5yOBWuatTiHf2eCM3aAO/Ms6qcacE+IbI8zM+e32h8Uvd+HCe7ioVifdgGLoDEwBoSfN6Jz/3BO84T70dolkVBKWBZLCyLBKISyRHJp3dTApZmUuy3awZW23EY91dmnk+FD4c0KvVuQ/DVMzuUOcNalcAbGufziFwQexcm8RF8RjDk8NcGn2kWOcAU0d181Lj6zMIHYcluPhL3vnAcWxFH/uL1QE6C4hO6IfGRCqzidES/j3cY5fbbREUAa0IPQbvVv5qb1ymK0/X0VYl0Upcjn2gTlGxr0m1jHxvUdF77+k1172zn2HeFbDHYIFvQtMXL2IHLLaVJjzqe0lZkp/6YYJxoRMriWQ1klNoHvKuro4hP5oZWDJo/p1SjafX9FjWXr/ypMgRRHqexNoN2g/+oGbGKBrVECkvq/rtf2txK8w4af0l7sh8anj5sQy8j8JBBlVBDlZUlWbd7uPleGA1dRFRpgQgpAJ8MP465/4x7ZYHg6LcpKd2erTPfTzwi6M63i5AtkS6aHkYnXUZnRFECti3ZNO6nuRg+eOYrHIipCxngA/iL9+18+e1DVDkJV8sPx5CVxQCU4fzt0NAYsl48rySwcrYhlJjhB0SL9vSba9P9L3P1hFDdK/Bsof+NVOr+As4xYwcQ2qgWLHXM3YscHOiauCj+B8IK4jStmulExCHpnPMkDWQanDpYzcOnXr5MTK8e9fhPatR1Co7wN/9q9wBbZbpgEl9Gt3bRfuuQtt95enWqmdo9ahcmbaxxajqR1i4brxA4Lj38P5CimWbo9kZ43yMsJkCau5hY+G/4rgyLylaRvfiaZw7ra7CKWq7XWnbN8SQkVNVpcqs2/BIskZ44zITWgLc6w9h5UrLCeJ0sEpzpE+Kmb/CrcaLISHhPp+1h/DwN/UdhquVfdnWdsHxGtjKbu0uR8XJkPI2OLPdQ8no1vQimjb6G7h2lksGLX7TljNrFEA/m90Q2QSRCcn/DR1j8a82//Ttm/ijfZl9+UA2ByH8iWSY2rfnm96PYIQI4qY2muQflWEvijIoFesbrr/69Du/AC2h3QR6Xw/cMoC58Mv+EY1TbyOj4i1rg18dm2T7pE3vQZG40C6U92ocfJ7DnrXXXfv7B8EZ2UdIMT23AYpsm8rJUfARz/yz8ucOxv9nvnubWiv4HTql4mMRiQTu/CB2EWc8/cZzWEdBybWqVt79ILXI0ueVVKo/W1Qo31KYjm9uqrlawzmf+6LqH2b9kzq5i1oL/nrUB+AaEAlCuSLPvHSE5WrV7K22upSTUz6nvfPThbJLFkuIxsk6qV9Xof2G486xPYS9F4CPrxN++kJftlRdwUVPhrbh/5+PHwrx6JIUzdUimSzE5X5XvtI+UpicjQmFM6r8deSRr7olUyEwRKzPcJqrKuKQr4JvXlD+/U/hwubhEzSPNysqoHB/iKZk8LIQPTTkxMMh46ToVVKemTaOsYZwF3g5se07QVPDtSxJCNdo4zijRV1tF5D7+ffp93ShRvWMwEmXgEskbNGMr1WS2CWkSkdr44JgUx8x7fpoEjrGS8bGUBrfJQ2VnQEq5PRvw+9979PK7ths59jHHm05NZGSZKLskTSKfzn3jBs1OJ2dp8+YYRqRnhkwbMHtO1ZHzGOzPG6ZpFw9e8Zq10F+f+9Cxd3w/C7liAb++vYbuLI0zqlklBb1eu7DKYi1agYZMOtvWUSu10b9Vuvf4weAbxknhRvh2YE2QhYbW1NZ/xreOueI7m/Z87/vh5m6xtYTOMo/wrQu0QYbxSj1nMzGmDDEaRli+5KRtKjlw5o20ueOOklnYaYPMkOvnAE2ZHfhN6y9Obb0D6GXysJuofoyj891ifU30JwgCXhcQTDuOwSgr3+DvS+Ba3KF24saduLvp+VLGZSbACnfjfBFKCvEP8e9Ljt6oyK867JH/p7t4lfDb1PVxeMv+arwLlLOMI4JHSAwnzuLxJNqd016D1n+hDEQcS3fBa0JB7GrYhHpQT9/GEC2kM/auQzXoHeGrubZZVW2QU5VrFGpfvkC+VwZdAr4hmBYsPaBrEMx7isiAjSQTUxd4gLwKzTvGGOWWUU8py7iTCGt72MLFut/P9T87/8lc2GyMnZTlCZF6Y9FXRr+OjzmIMNUYoxoeMWZvsqjXSK34bezZp2VIeZUiXx+HxD7ESkQyPiFXuZuWhPMhoTZwblnCHo38Rsux9eMzJ4yXdAdTQZtgdr+eHxeR9tlzib8hRuSGO+7zq1DGPqTAp8RuA8oZh7jyCYJtQqQeiPkjk8WHRu97vmCaXOp/dVZUNSPOsdywahT//Cjwba9khGNtLeBorH8U9zdRnw4h7BeImtGENvHXjFgz3v6jr0XvQFvjqXPedR6pLwxSW/URIyijTBFg1x6tP7CvAVwrpctwljpOp0TVxbBWGE8zB69A0vl5K4789YzAi8cAxySnEZ3ArYvpGDPgwbZ4uuAvwh8CfAY7hG3/YvRVAVnR6pbfKP0oePq+2UT5ANsv3Wvle42/PNI5bTHeCJ2gVcl2u/3pHBgOBPrgDnvoKT0eM4IdwhTJ6o6GRks2qy9+qK9wv2pSslgSBV5vt5sm+NSyK8sJJp/gnU0W5CKxu8LPuhzmajWQly1sQL/c3McUqhapXsCWEi08elw4TvnUBHslCU9rqPPizLHxIMgQx2gXH8226nwRSKOy7zZAmjjbIglF/UwLcfsN0PYuRXCRtt/wTaC0PYqOPZCzbiV3RwEeh9Abdg2QbuERK3YfheXNApJ2Y/j/n4jNpBOErCeBAsyf0VtMVlOAfU+4u1GxAMyoXzwNdxD20d4TraD4D3YLYbnosIIRWujFHNw/eda0uO+3IS9a0a1rG8D+2F8y6bvcfiNGif7HCp/s/iZPQnOKW6A/zXuBk5d4B7zkbNCDW7FSGr+TD9JiVBNmtwUhhCzEIIQyG9x4E/Bv4XQ+B/CtyG/+6vXM3Fe3Rp6o+aMAQpHVKQexjo3iyzXS9Cexzk8X7od3/Chi1PJntfwOnQP38S+FNgF67+n+H/hetzd4F7sNcEO20zGgmvOBDNfb5TRrLyr+ePQV47uKeKgLu2UROTpCFhoOncVZxo/uf/I+A54K/hH/8foP51V2PZ+nXIpEdWd2zgfhBk422SJVHrSEY7HD6J8MAESZgS32QbfVjDLeLU09BT4aaOXr7dPYc0qvGQcKaE4aLnfLT4sNd6UlC0YF8QCI7dPujjwpUnCRXsQxj9KC4smyXngGDITyPUBptphLi4usAZ7t5FHDn6Q5ysxsC/xj19PBGAnJnOP+X0ojOQg4On2W/gs/xXcDr0x8CnnoT/yX8H5a+7IqmKEKGLHKnfTRZP/Uh48xidWwPOtkzpnoulvmWH2YvzOBl9AfiPngS+DP/4NvRf75YFkEOTjOT8V5lxvrOqE60CBTBwNmjQ4BRJGTb+DOfhPoT/8f8W7vwK3nFO7Q5BPnJsCkK+eEh7/T3oPXvAvusgo67vmSGJQh3uCf/iGeB/DezAp/5/sPm662j34N82i+tM3vAyOqxP+w70bph9pZfXEn185ph85B3i2dLgSZLPhvRKOKchtC/g7BF/Sicj/gI2vg8TmN8Lz3ivCMHIzQeQ0fccvWiV/JWfnPrPjxKIPDRB0k0SCfB9rBs3hHj4bDAkLMteuULUrd148Sxlk26a9LmM9klHWw+DijDpCIJCWeffQTlCkQAv4PJHiwRrSly/NeF4ndEqMcYV+0kH1MaSeOZDAYGBbwL/cBP+4V/Dzq+7bNKAkIIemN84Cud/nLiLmyU5b+LoqiQYqgIz9NgHPjUEPgNswJXvw0asd1Y+wl+cUh0C188u7oZhDGGIX8RWQtrETGf8W//hPw71EbM4CNG5lsnrUbAOsp7iamp6AwLDlh0aaa+/1p44If0KJnGhsI3ghQeZ9HIQ8TzpkQBw7Rzt4x6LtEnoXyUhTaK1NoTKHajJSvJrqYwexKfdJg6wqyX7HNeIwDVfTD7CaUSJKbweERYsMrPUgowq4G+7DIjNrFUsTl44rIzusmjjZ0u2PSgemiDVhBqWklhvNFYaRbt9s4MX5MZuuOnW2cPpJEQpKpxaaPhDjl6pf0hSrXZjQZdftEZoRpgdNGU9jMijwAft0VCs3knfxXTGwGf/Gv6HX3cLZ1TE9UY6j/96LRzSw+IeLrKXnxdx7IyS7WgS6NUa/vEP3TafYbMBjc6j4cvDDomsK+4RMo2KIGv80HVJvADTGPgRsPlv4LMAf68bMppNQw2EMk+piM8C3vALQ4J/SvwI5/ClXFPcUNrm63AeoIR/92+65yA1xKu7PMiQ0WnBTS+jXdxz1riIm71XEhp7F/iH/1f/YQP4b1z/uxsyu7LVj4J184dal3ZEWCaxaPwGyaj0n3eB//D/GQ7+d291NUhzgh5Vj3A9jzIL/X54aIKktLwdI7SGxEb/nXOrCPnqWTw+OPWv05oJSaHUYMUiIUpnfAwgaMg9gsbcjdOzGmMVWTrt5Oh5M+0X4kxbSZiqrYeDDsY4A/1DgF+7je/AL8eLU7Hl5Iacbjk94430XULyQ86pD4F1z1zBek8MaAhU/kGSP4D2R061NLQrfdT5TnOGDRy/ke0p/bsc1CCtQpcNAvj9f+MO+D7ww/AQTSsjE6ucCbwM7ZwwKWKjgXNKcSgFq7GOOfDU605GPwB+6Nahs1ltS9rPCp7ztqnCiWJz6tbeA0Lnq3Eksv41fOE/d0ryA+AdR7SVUKlZXA/rtON7fmaZZFTharMAJ5/LhNlVd4D5r+DKf+4U5V8DP3RLJqhvKeu/bjJ6aIIkWSibIXtjsyTKJDXgnmR8hy6P1n4QJtekQ0hnAd/1M1cKQgaoIgxFpm1tG+jtEGbRzIAfhof7Yo4RQTrtqAjR5wbBeXcZJO+lusxZ49dKAseIvIzspJE+oVBPGaTTjNegN/Lj63akqLv/XjjzqZdl7RctrQlh3g9d/fGeOU4koPSfd464HUeNV0x/g9C2BpwsfOO1ftRA6bS7fud3YMcTbfUz6ZQmm5wVfBu3blOJqftTqkQsU0MEE5weDYEfwfw9t0k6WBHb8LOCm9B7yfe7Ar+WnbLXJcFOS07Sox9C++ddCWlnu8Q955wd3ITeNd/nKvwSJBWBWA+JF5e8jRPED2B2O/jDhmCPbGCyDnhoglQRjIdqYmrCon198w7OcPfvuem0DWE00g7LnbU09h7heZHK/giSk9DHrZPU34eBrzcROSoJy7OIkD/sjKx1gmoPrnlDpJo18ES7DkZYEUZTQ/EjGP4o+LcJQX8KFpfyP+14xRtr6VHptw9xKzgrA1ThA9sGhrehuB3W+9glJos6z4jVFyCfFL7jl0eAMGTb4Aw3dbL4YA3996D0KwLexfUrOXsFNHCEj7c4ITzjn2dm29pOoScnL+OtDuaDko/G3b8daVANScNq17laB1w3M7Y3gQtjgsC0xpGiDs/M57edHimDXRFiuTlno59ZXDMyGgGflg41OOMiciRlm8HsA59UIl6iRSTyuGqpDoOHJkhjQoSu6LZgsdZGEV3KnEWqlD0QizxLuOWLzTXjb4hbaHvK4nO7RCQb/0ejAgXxWkUTwtL+ZwW2/5QEQlQSR2BK5acEaBOX0YV4ocMJx7PGzHHgDkEmJa7NVkYVQUb632aLhrjJWzYlrn2fPyMyAienKcF/zYgXWLXZW+lVmgmxMlKfe+kMyUjOSOR4gNeHOi4TneKWGaGOZz2KQ01YumTUmcNz0HsV2rpxD2of3YPCR/Mf1YszQZUVlwwnrKYOaZ3xnM9KTqaw/SPYuo0zUnV4ZI/6m0i1ZCSSpD66TnjkTv9Fk4ZUMXLJ4tLnsLj+gwRy1gxQit8zMhoRP8iwy7D5d1u7pX1LnAJ9xkx9XLeivUfFP/UZklRGti7J6s6AMEnisT7d033/snZyetk/0fosZNosfs+sXv1dkzGBxZXrISweeRU4t+HY+nvATwkB8I0zJiPp0ggXjWqoRM6/9PvNiGfhbhICF2WUKpx9OmuRv/BF85glZSm3iB8ya4mkzfhXhNq/Mae71u+weNFnSrQSu/xXY14qPC79MZLPXcLK62cdr/ismzKNFbGMwKxLhpPRDuvHAx46gyTcIS7Ssx1IpCn9riQ4vymhVOKs4q5/l5ysbESS9FLGSMolBdrFDUVdg95ZI0fgZpn9lndkA+CvoPc7Sx6FIn0SOboMbtbEZeA2fGbXjYv/mPVK1a4KymCLOP5XLC6HoKFqOf2LwLnzwGPQ24OND5zj+yln0/FbXQJXEwrhMSwlYShW/XEbJyfN3K5wwwfPQHsW9Uiws3/+NaGwuCQerpaOaaKA7JJKcD4J5AicjGwiIC0lkZwGOJO0SSjl+qSQI4D/B0FHbJJEI0oqPbmM63s7rOdafo9MkH5xwE23zg4Wh+FK//mVT4DSHCQjWJSTZKSONcYp0z2Wr1Z8lpDK6Sfms5WTdElj+/UHcNEX/d+A9h3OJjmC+8sI4LehtQGJz3JT78OVHziH9x6OaJ1FciRYOb1/gIwg9Del/cd+m4aOJnxyYOVkZWQDFMmpItRWnsWA7SB8mMgI4gSA5KRhbZGD658gGUGwS6ndtoFuQ0gErOPwGpzATUuzBMf9+6cFv20eUPh2ltNSSEaKas8qKXoU/JYZkhsRxvw/KRH/YfCbycMulYE7K0uOrAK/uWSYsiTrkcVvesIkGW3611kORB4UqR5t47K2n4RESUZGxinAb53Cx/YcN7KMPh5ZRhkZGRkZGRkZGRkZGRkZGRkZGRkZGRkZGRkZGRkZGRkZGRkZGRkZGRkZGRkZGRkZGRkZGRkZGRkZGRkZGRkZGRkZGRkZGRkZGRkZGRkZGRkZGRkZGRkZGRkZGRkZGRkZGRkZGRkZGRkZGRkZGRkZGRkZGRkZGRkZGRkZGRkZGRkZGRkZGRkZGRkZGRkZGRkZGRkZZwu94/7Bz0Cr/z88gd9fd3we2ibZluUU8E+hnQGpjBpgDvw8y4rfg7bCyURy6pv/s5zgy9BOgOmS7+b+/ZMuI3D9rSLub1l/YnzRy6gm97GPg/zbabHXR3pxL0G76f+vgQlOKAO/rfLbKv/9nNio6/2v1lyID4sXoL0MlMAMJ4spwUCDk0Hlt1d+vyb5vvHbf3HG5PQctFeATZyDnwJ7ODktI0iV/066hNmv5mzKCOAmtI/hZDQG7gI7BF0a+O/AyUC6JCNldajh7MroS8AIJ5v3gDs4fapx8pGMpEvSmca8Ur06a7J63/e5CXAb+DGwi5OHIF2pCXpE8j3Edkzbz4K83oT2Kq49O8A9nC5VBB2Z4mRUEYiT1TGIfR2cDsLwsLgF7ZjQ32bmXfYInHwK/7+1TSeVJPjUUZ34OrRPAVv+c4XrdABDnBBmOIOu76RIM3OeGrjqo71lxuo0GqoXPXHcBLaBDYKxqf0+tjNVODmNiQmSvp/i5LcHbRrFWJymzvcytBdxDq3EtbXyn2fJvgWurRNiY97HkQN9NwY2Exlh9j1tmbprnmBfJJBI6URJ0JW+/zxkkWRqf+nfBNj2Wd6UDAC8f8pkBHDDE8hNYDCE7Tr0sw1c+wqcfJRpm7BIxC0xkGwG0M79trdPoWwE2esrQO88XJjClca1ucTphoi25FAR7LZsur7XPpZ01sD3jqc5R4bXPTm6MHSfR7WTzwbBv6mtFUGPwO03wskKYqIA8N1TrD8p3jD2uyD4MBEkSyRlj8D5w02CTVdi5frxXXqEIyNITwFPAr0NaKdOKaQYJYEgbeGEV7EYpanDVQQilbJOOcs3j6ohR4CvENpWEoxIP9lPTLrCGScpmhyhjHpDIFAVcTZA6AOvrbANR4lXoX2c0A7dYzn0EcEQiwQJMtYDnNGSDEWQKhZJpu7Fh0fRmCPCLR/pq7/s+O1y3nL2EGRW4ORiCWZJMEYi2imxHpjzvbTaZhwpXob2EqGP7QDUwXao/4kEyMmnGdwSp0uSnWSs/udPy594Yvn8KXN0Nz3R3sI7qv1ga23/KMwxIpGSyQjn3NQ37fGyUTXwhz5A2QFunCI53fDE6DKuTR/VizZEBFI6skHcD7dxBPQSQW426H3aD9VVONneOEXyEV4zoyJ985L/3yIQH/UtCDbmKvAEjiT1+jBrnK48ZWQzBb59TLJZOUH6CbRDXEfpnQcK19ByPyjUsg6Xph7BCaxMtmsoate/z3DC/Tq0fZzgX1hzxZJjs2nX0mwT1NnSbZYclWb7JnGUa+VYEGTU4IZh3gHeXENZPY1r1x6B8FlnL72xxMi2We1O5bbhX/pO5xrhZPdnpj5uD/jGGspG+Ip/v0cYSrPZVZtN0vucoE9yXpKRjLsMWWE+l4TI7s98DdgE+L01lg/AH+LaNSEEWdY4iwjZPtUnzpxpP0sSJTfpjrYr2/k0tJ9Zc9lYPOXflRXSC2KbXRJn7VP9GhKCEtliCORS+/RxentjRdd/HHgad38hDs7VrjTYbfx3dnhbNqhkMcMr6DcqTpd8XoT2O9B7EnePlchQMgOcXthsv7ZbIiV59bwiFTPYnMaZ8DT7f5RYKUHS+DU4UtS1drBosO1nkv9llCTQIV5gfWAKZROOsYLTEMI64xfQlsRj9zIo1slbeczNS5DxlhEaEDqo0pIVQTbW4YlErSM5+jm0Wz5ysIY4za5ZpIZ9WQfSdjsMMCcmAUOz//1+76TxK2jPDV0UK72wTl/thGB0pCcVceZVaFiUnZW7ZGTl9T60d4Bn1lCPfgbtdh8+auI6RxlsW5ul+z4j9B9bfwTBsEtOEDJJJSFQkc36mYl47wLPraGMAP7OBwU7xLWOlf/emnFYHHKU7im7XRLs0sTvJ7nawPgSrpZH9+Yu65sx+Tm0I+I60Yogo4IQfKW2W5DNnRKCE51HcrKB7wh4C9pdQk3hrTWVD7iA7T/zyREbpMvOKJgYme9sOQmEvlUBoyn0aucHbP8VyfyJD9TGuFq5O8DrRyCflRGktz056p0nHoSGzrNbxel561s00E88mmXWHZsc0YUx5b04e2B/ClzKWFmmm2uiVK9B+wQxEZLhGCb7HkQIBkv2s/+XBJIo0iAl1NCT5DTADUHsAK+sgYyuQ/vHuCxF28TXLl1QPZF1bjLGaeExxATSki1FOHNz7JhFAv8GtHusl3N715MjWE4EbdcrCRkRGR8Z6HrJsep3hTkP/hxjFjN5JS4d/ga0f7BGMnrDkyNGUIwX62AqFiNSa0NsPaBkoGMsGbV92Wbk9D7CDclcAZ47gnY+Ct6A9qtDXIcbw6AO7dZLNqMk2A71G8nLys4OXdrhWmXfUr0qCUNyl1m/jMkb0H61j5NRBdV0uYxKYhtug5U0syuSpSyKXhDrDwTSrdt0a5WNWxFegfbrwJZnRh81wc4IsjklMFAjPWzftHo0wfGCCXHpiAI/6WWBC9CuQ/v6qhvHCgnSY0BPWtLAzFvg4dSRIZvp6ENkaa3jnzfhc4ErquzGQEqghkEDm7uBWcrw2TFzpTfXAa9D+yQhOrWG2NZbweLwiDBgkRANzL4lrlhXkZxqSiqCbKrk3EPc0Mk64KvAp/uOHI0Jw6dWRpYQKNLStmV1MxDaqv1L4kyjiKQl2Gm0uy54w2Ro2zoeUrTE0EJykJGaEcvTOiz1GdONIwJZme0lrltu4LrmuuBVX78mzyt9l/GVU5cMVK+VOvtUryqzzTo/zPY+8WyvEaEu5+fQ/vaakMhXoX0aHHPzRqlfx5G/zaANCO2ys2wtEdD+k3DKSGbSqT6xno5wdSlXcOT/HdajROIWtF/dwBXSgktRTBez1JKRhg6VOdN220f1XUGQlXxY2u8q83/pj3nNzwS7zXoUdL8M7b8ABr/vN9yBej8E6IV/2UzZRhP3RdklEUkVbctuS0byi8v63Ns+IfKKz7jtAK+tSD4rIUjtRdooR98ERSqAoW9NlxHyrW/rxSjYZjgG8vzW0nhJbY1h0oTOaWE748teeHc5mhTcYfBHPpqdjZ2j0bWJxKgTSD422pKDS52f3U9Ep/AD3Bcqd2KbJVGHtcRK3POWX5vimyfY6R7z9Wr1bmyEbMQusmIjLEW51rmnpEgyVCJyQEx80mgY4gjldWhFPE9yOOmrQzp2VxE7s+qAY2xf0LvkIZlaEmFJoc5vyaMdwlPcsokbbhsDXz5hw/2HwDkVms1i51QRB2oQ33PpgWD7SgplM/3PLGSPIPRtWC+S9IfA4BILtQ5yWOn9rohJkf3OQjKWbCwRFXnQ71hZDXA6dJXlsj4JfB1CtbCMDMHR2+uszHviBiNCPkuOr4jJliXyVr+kg+prQ+C7j9zCR8cfA4Ov4NjtGLgX2i+CJJMlHyzdUsCV9ssJwWYNiEtFJPOp+d7a+k3CcOdrq2nioxOk9gu0bONa73tF2wSGXBMK9wo86fFjHPpem2TIwBerWS9eEvKxADuw+cGiEbdZFesY+8BRpOAOhcfd23AcF50rGpuzmK1QM2Vo1JbafC9lGOHJ0TadZ79wFy7W4T7AYt2JzqNrehnab5+AAW+HtDxBNxVLxlOQwbD3FMJ4tDqi7rMMjgoiddwmoQjS7lexqEdNch519BOT0XlaGaL5flwoqhcEwgOxTpXEBNk6Ke1jh0IEyaHyn2fmc5oJGOHI5EkVt/8a2t5n6UL1to6jdN1fa1gtR6jN9nTY28LqpiUOdbLPsqDmLZ8leemEZPQraM9dJE53VcvXNbJEx8omDWoHxMEMxFkBHTdj0emDyxjgP49wmZIfcHLlET+DtvgsCyl/S7atj5Hc1Adt1jv9f8ribDdloGCxvITkc4njIy9D+0Pgeyckozeh3dY8ftOZRAQlNrVLRNva3Mrsl5JptVnyk22amfNZHdJv9nEZyZeh/SmPXrf16BkkjR2plROiAUgJqbvhvvUfNaGuQQ7Isu85sFVDYfO4oqVeChd2oamDoG3nE0Q+wC3MeOMkFOoyUEFvE7Y8W1HxGYSMhrIdNpJQ8/vmeymJIlcg7lHe0mzthlsxJXYCtvPpPBuckIwed9fLJPBhz6EjpyMZQdyJZDgKQlZOHQizv223CJUIamPOJ3WTD9ExA8IsuGOH+tlkcRjIXrsIj23vkNA3JFe9W6MEi2pUmN/Su14y9roGOYyTIJE/g7b3OK5huzCvw7orilbVbyQTCLOzJA/d/1QflkFykmla9p3NNpT+97YfsG2rwofQnrtEGIefENniiuWBJgTbYzO6gvqaJRCpzGzAIZkWxMXc6sfbOBJwEngL2m2fze4KYOZ0/U79ABYDiRRWjwTZWmvjIdiaZf0YYj8wwBW5Tzi5daWeBGeoK/MyRHJGsJ1qvyV/lkTZwDTyacQ6Iz2T/ZJ8JGNLpDZZ7JMPg0ciSO3jtFwlrgg2V6WbqZs98FZpVrsC6h2zX21Oow4zBi6PYUv0c0RgrF4KW2Mo68U6kjSaKwmLVh47ruIaXOMs9hT6Y/eVnH5JPAV9TLf448IQnIikLUy+su8K3m2apRi6LJI6n7eHC0TAkolyhc3+OLwO7R89DnyJzgiJRM6aEFlK6UuCjKxhtUbHtmtGPGbdT94HLLZXuog5TkMlhX9/0U9pfZS2HxZvQ/u7X6Aj2QyCcbAygEC07bRq2yfs8KOViz7L+KSwBDE9piI2XuqaLxwj0X4T2u1LhCkyTdD3CTGZhNgu9ZPtlmSnsMbafk6/F6zzgzj7+7KfAXhctSRvQPvp80TL9v+yDnZkQlz3kmbZ7Gd7/+3/0oP0u5QkWOJt++KYcK9KnA7d4fhm297yi2VGjn/qRkRslijtMyLXFgPiNltZzIgDD71kX/rm/2FyHgW64EjAs9DeOsZg5CVor0OvEAO5S2BvvtOIJE+WHK8+cb++0yT7WVIlees3lvVF9esRToduA289pIweLYP0dZzzHwP7dCkh3WyhY8K+N1TEiSZFWRWBGDSETlvtw+V9GGg8aRMnqZE/fwXF1DlVmw0QBmb343Ru7e/T8p8RL7DSxykVwZmUxEMbIkaK6rQvBBJZmX1VNzCaxtNEe8OYT6adsmJRXgXwPLSvHIOM/mgI/CnO+e/gqsxn7mKLsZtZA8FgSFbqHLvETkjy0/c2YlExoHRt2XCSNXZ2eERES0Zwg+OT0e9ewlWwK7+84WZ1jqZhKQxLDm2bZsSz8yAmOYreIBBDa5BtRtZm43S81SMZL13HNsdHkr7Ux9khc+NTA2zihgVIT1LSqP9TW2I/L7M36XGSiSWrG3Sz29rjGEp6CgLJHrslImRf9BKs07G6kxLN+8HqmSUHOr98hA1aJCPtt+Xf3zzkbz4qngZ6Cvh34ZdNTBonxNmx1CmrrTZYsCTTynIZeazMfuqLtl9BTBzUz44TTwH/p/O0Wjq83Y/bIvnY+1iwvL3Wxh4kJ3uMDX6bZF/Z7jSjPcL1s7ceoq3wqATps/4KdDfNFfeJ198ZJFSvT1g3AuJptdZYTcz35dQ5hgu7hGo14xkLH+pb4y3BQajXOTbWvUXs2Uc4T10EUZXEcrJpx4o47a/ttn1y5j4BExGkzTrM6BsRCJKdjitYBR0Bz0D72lHL6DJxbrnAycxr+ca9MAxmsx8QE8WG2LHPiGUFgZ8W5jwlgUCKVIgg6fjUaSpLc2x6dMVfoKwz7scLYGu6WERtr1XkRYfZYZKKuJ/Zdg7N/4LNDvWTY60uStVL3O09FiL5lP/Bu3Ry0rX6GKoTYWqcLYGWYxMZtkY+lYXOsYwcpdB9sARtAxcPjNx1HjmRLL7gf2wXfjmNi2QhzqZq2zKiaB3VMpmw5Bj9b3VN+8sGwmLWYEiotzmObNuFx3E35Uew04THYug6bTCWEmAh7U+pEz8Iy0jkjNh96DzWPpW4JVKOa0mbL/VxU9Y9OVKQKvup+1wT65F9CQo2ZH+tXqQ4aCRA5xmaF8QTey7z/2/vDUMky648v18ME7Gz8WzylagojTPFVnq2q2WVBrcGd89aWmExoBXsSsxs46Fht8GrYXFj02AamxaGAlNgGoPaH4qF/lJgpnehGWhs2l5GI9wI2hoaySs1bhVoq63J8kymmQpWikL9AhRhK5/R84d7/3HPvRFZlVkVmZWZdf4QGRnvvXjx7nnnnvM/5557X8p8HbW9j0aQRACst68CGaraSIysRW1ZPKq+Mqep47vIgBppFWJCmm48asM0/0v24OI7JRRBqpb5RDBkuepxyCILUE2TIShJkO2MlluWnVLblI1ryKv/RYx0HsldQ1A6l41S4Hhl9A3o/nNYGGzukRfJRCZ7YRyGT21Ha0jFjpbElMZYp5IsbbSiY9SJJH+RHxmlhpR5gjxTMyLv7OvGTej+04vxh5RWbcg8WdUPmVW1XfLAfJbjl+yscZcBgbz4keJ/S5pW6WPpSHXciGCcjgtvQfePnyJ40YbFmFrXJp0fkUQ4IH8W1CoCIIgc2cBBKImh/d6q46VrlqjqO4pwjxPdRTq+wIIViRzpvirraIlxSbq1XcGYPsPqmX5ln7SfrYysPuq+6PwViWyX/fdY8CUW0dWEVCOrwELXvoogHkSUW5aXHLHbbHvteaytLvus7ecyl9afHiv+PsE5fC8F8Q3JdzfksrC21+rCgLzdpV3RNsnHytZmtkuytEq/pEcPQ5IeiiD9FLpL/xWpuromeWIzlagPqfc1sG/WkdBoU00aFredTA1Xp2lITizqME0bskpWmSBF+Lajt2bfJscb2b4L3d+zM0UOYG3l5obkC61Ttml9qxzaNl+xT/Kbki9vL1lJtnZdE3tdxymjZ4Bt6cmY5bEuXUQ/X++oMe+Ske08ZZSB+a50pjRqyiop21BGIvo9iu/C8croSxAiNcif5mg9GWESw2iesiMivi2rMyA2K1acKht+pXi32Te9W2Ntf2tObpheOaYMyR9CGBcZEoZop2HmWq8fyGMVL75q03XpOmVXVnVNK4eyvbBcqGxT/pATbntOi4pcTselRz+FDq3AOs6XVlG3s07GOuJVpESOzR6jc1hYZ15uK8mj7WOC9HJG0qPjRPd5OjYJAVu7HGwINkii2C6UhKDcL7nNzTsrviMfWfrG8joG8XUduusnlfUntzVN3D0hv5eW7Ei/Sh3CHAN53yztNcU2u0/9Sf3O2ivhpSMOaT8UQbp0kbTowK9/Av52A82vgrPbYdHSnq5uCMwWtYFLTxJvV7ww+2w0Z5mnCICNgPQuI2WjJUikbPQwDT8kLmN+QD9ck8aFIoOxCqBdkk/pzCFP/ZewnaxP7uCtMtYkpRGJbMjlrv2bD2zpw2ET8qdaqrE1ib1NWMhIZFARiyVHwiq9KbMeVr9WRYJzzHIU5jeViZIu2uGm45LRFUjD11IKWcKa1OsbGM5TfXI5PLTKMJfGR23V+ypZWsNjHcSAPCNTGvOK45scMbBD/LHRc2DYxtX363BR1STMiLVDE/dzXpYw2LYeRCCsvKQblhwdNBRnicr2Edp9FFx6hvTwx1l+PTUpKLD9xTpwyEm05NLEz2X26CCCVbZf3+uTzyS1/V32HYIeXXvIYZIH4RfEZUZgybiuIsiQrxdl77clz6sIQNmusp8dNMxkdVa+TSZAcq453pq2biOudxijzTITqyAUlrM4Ml1Wjva9PF62TPtX2SO7zdod5Wxs3K3vbAJfge7dQ8ro4YbYtjEPIPr3gL8B/8F3A0m6xcKxLRBbKFvfkBeE9knOT6zZKpON6MzpsuyShAIhemQUFkzUMgD6nSr+xojjq7N5uk9a1hoSG9EULOX7TXusH2xYJjxlNKPhIGvMymgN0owcKy+lZC1JnJhL1W+OOJ4O9xyENFJNYjuyQrLYkYkMzUeRyIbVMxhK5zYgj5KtjEpCqA5mO1mfICurf9ZImdGutaOneoiGxczHBSuTjAj763tpONUa31VYZXzVVrVd7S0zCAc5+rK/NmZ7xTEujfA50mqhM+im6f5WA7IZCtVeqMmzgYfueencYLmNw2K7JZvlsXBw8AfLfVv1SMcC9bOYGbHXIofRizeonub6IZuwyh5bx6NjSgwOOKYknqVd1zGNOW4Um/KNY5hkU10m3AQ5oTbdX3W5Oh6rtpfDO7ZtkOxT2WarK/uslpslFX1zrMiTte2y6zILzxy+2UdHTTa7b5Xuyy/ZRIbsMKy2tZh9FgcFMQfBxACLa4A8KBoR4oV3D3E+eFiCJIUaAnySwJh+A658e+F1Z/GKB7GXzebJF4p9Nyw3XE5HymQj95JFWmdnydYlWFj94V76jpylzrN91HYfFs8QUgA1RdV03H8nbFP03ZA/c8ZmR0rjIgWsyQvSGvIOWBpoyXvG0iTA7D7UJOWtWD3t+1FRPUsaPmrJ2dkmKSswCrPZdB3SnzIC0f/WGA1JRfmwNHM367yCfqMlj0BqcnIlwqXfuBmnkr6xTsP9ZXKvqXx2TfIYhAse9MMDnNVfGvIi0YMgwy8eoe825EtI6DzW4JSZAxv1Y/5vCRmkt6KM1urcno0NGLMIwJq4q4J0E6OO1fNwLeoPVl+sQ1x8n9xBWuc3ZHllEzmCMnu0CjY70xLU/p24QOJa9egKmQGw5LclZvkjsx60sDFP3a8cOsR8ln2w/ajUtYrlyQ42+1qOBljdsTKtWQ7o1gr1swaYwn7h9XW9+h9WZ70g9Y2WnCDawEtttZm5Ut42w2ZR9mvdT+tibkD3ynFkkWqyMXVdb+mrrC/Wtao/2WOlH9a3ad/AbLN+zfanVSTS7tOrMdcjW/fyIYe0H44gbRGE9etD4DeBTwMb8Lf+V6h/FVoeo1rmKapsSKkzKYntOHJoaoS+J2MkSNjlUMJC6G2ozWA/j5Z0bhmnpx6q8ffHXxPHsmuSxm4Df0uy+svF9JXhnXT9pUMasFw/pRuu09Zxu3RW3y+VtjQ+Utiy0/dJ9Ur2d9eJXxDXzrpIHvqoUdZYbcLgLozuLUdbBxltdRqdbtMcY+XUsFwUao2ejI6VDeRDuboX2/HzG0cVxgq8C93f+49J09YF5ahLVjMJr1EMBCzJK42KNdI61SahO1uSUGYzS/2D5WzlKuOkbUNCXxsB3zyMEA6B7j+j47K50ElhqPVBDLcOy0aM5mmo316/hXVcVuTW0OscDfkMOOmMyKrOX8rI/obslmzTOvQIoPv7dFyMF7kHjFM2Wa+ujV4ipmo1KaIhX75B1ynY/lZuq8x2ncvaae0vZbJKhyzZHLL+ov9fQLeYXdwAk+WMsdpdmc9zkv8pnbiuf7hi+z55gAUp2zQ337Xv9vv6bY0MYH5HpvQ47PYvoctmvZDabeUF+ciGtc2wbIvUn0pCFdUxI1bWz2OOxWyzv2t1F7Ln3R8aRyZIv4IutbiOr9+Me7fh8l/CFbgwCWttaBEyOadVEGMcEAz2FRLzG5HfABnwhozMLjn57XH43JCcXQ1c6IeizZbgGA7LJA+LTcjnjG8SydGXgN+Ef6eB7Z/DVeg1cOkOtG0adbNKoHd1JEVTlwkyqlge55c8GtLMv4ac7VvDU3bMmrTW0H68/Dege3kNMnoPuupZUuquJTn7K8TqbdL0q5gZqHZgey9fO2uVU7bRqfRoVFyD1R9LAmymsiHJvTLfXeUAdNy6hki+DGGZ2prQ/jmJ8W3ERpn54eoYvX5Y/qJp07Cgrk/XDnlmZEToA1ZGOq5hmSTpXKVBPOg+DMyxg3jZ19ZQR/Jz6BapIK2/1uTLWSyyRyOytGg1DkNJFauLSe29hZwM62VP25APiavPlvJflUmyxGNG6ttrQ58gn7vAbpgL3phdfUwGaROYQu9ueIRTQ14JIPuh6161XfuszBQDlVkkWF0ScD8Spr72FnQvrslmV7phExZymrAckNXApWiI9SD2GXmtTCkjC9kra6NqXQPLZNC2uS3+t2RhyPIsthHrs9nCQJNq5HTbdG90XWqT7rf8/qr+YNta3nvpV0kibduF/orvi7xaW12b8/UJdu8bhxiuPTJB6m3aq/o38dUA/2+4DDm6GVzYgYGJ/nXT1QDIDbaeDF5dBAbxoavWwrcsHtGxSx6l6b0mkTJI0Z1VdkiKtU5yBNC7TB4eLojkNvAbwG/C5s9T6ruGrdvhQkUK5cCtopTG+VIUWGXlI2HOYHYvyGiPPCtSkiir4JArn1Ct2PYweA7CsMjF4uQXCfK4AvzNTwA/Dxe2yaLnDfpw5U4+Y0+dpuxMihJGQBVJRBdJRDWEC8BWGwzdDmnmoIyd7dAWqyLphpxkPip6nyGlvXRBSsFsk8iRLqgmRRR92PootMcWkZaGWajIn19nozsRgBHLJNL2u9Lx236mfWPyrNWjotbJ5dSasL0axvstBbDpH3mRAYxupeuRAS9J3ipH3ZKTKhnb2pwHckMt2OGkEjNSDX7LeupsPoSOOcEIjIG9ZBNVE7a4VyNCYcYA2Ak/vPlRsB0NedZCbSnthqB+afVNpsl+X9laGxTaDGD5fdmrmvUVI79lsyINsAezabpvNogcQZBRDdVduPpRiuMMZ1g5dC/d6JvzDcj7Ss1ywAvJ0VuiLblHdU7lwKRrH7Hmddo2SR2myWdDqt0jknlSyWQsfVuaGFEG9tpm/V0ZrEiGZdBX2ut9UtKkJcWWI/LcxWFqI49EkH4O3WLcvwXu/Qou/isCOfqN8L5JGh7oh+LIpyfh834b+qsapkbIji0acFAYtx9mpPTv5Y5MCmgZtnUOxO1jQrYGVnfuR8WvJJ9tiien/htC9frfAHbDdi0DED3R1u0wTDIm2HyRJSmFZcIVJJnMWBbgLBSpbo/zse2SKJVOYE5a7l8oncKjoBIRGhU/PsJkQ34Ot0lLQKverQ61Zc/eCSVcctq6VmtwbMpZ92AO9NtQZ6HhqaoJ6wgJul3W2Wk7JJk15MbOEoZHRl2cvCKNp27GzxPyJz0rs9SHapruO6yuq7GGSD/TkPStJnEKqZmVt5zblNwR2KyCzmuNWZ/1PKS1pxVmZXVFptUPdKN2SQZGcpyFusjROKhYee32XpeBlXRDWZGavE5N/ctmI+176RRhWW9a1lOnNVJjGhY3zhLfhX1sYdCQahzixIAL47Ao712WZ4xCnr2X2Fc5LN13EVJrj22kb9FfsU0ZCV3Lo5IjiNm6bfMDzfK9yvr2iKBDG8GOXLmTPzTakiDIdUH77AtSELyKMDzIR0muFatnLa+DHL0J3T+xiwfGG9GQv3QtI+DCBlyIDVc3tH6otKergiy1SaSxJOT2O/MV++25alIVh8zDPoezRUciSBc+T0j/b2JCwf+TIILfAJpkrDZJxRDRIQ3m8PQOi0dINKYRYsMzQhp80eIhee8bpKJUdVCbkbJGyirhPilTIAWdHKXxh0DvKUKaROSnjjv+719B/b3wf0OSiUUNg8thKGlzL2Q2tEop5FFHC+xPgxyVGVnKs8ZoenO+bLgtUbIdtiFFs33zW6+sM8umXoS5Xt0MeWGlQNSumoU3ujCC527B3Xme2bCGV+8TwnBKQ9K10TwM/4pMVlPYbNNl6LvWsVfmc0NOIPvxUl9dl4wsaxmROoVuxi75gwxHpFmlV8Km7e9Df5wMk2Adl4IIu8DomBRMb5lLsJdmU96Wn+ile6EXrHawjwQFAsT37eLHxqQUs/RKme8auAxXx/n6VlbfRQLLQELy2ifFiJuk26TsSZ/l+gcro9LIWyd6P4d4FGzp5pmOrvKChmQ3x8D2bRKBFEZw2RCk8vqtfGw7bbsgObqanKBreRbb50QW9Ds6ryWcE+4/S/Mo2IZsuZFumuuv+oqCogu7ZIZhRAoi1EXL7JolTqWcVgV10iP9ZmOuQdBxIhD296Sflvw/Cr4OvX9SxbKaSI70LNUxKaCu7ZfmqU01aZKN5DlYPnSx3RJq6Y5IDeR9x5LsVcRoQK5/usaj9LOjDbFdJU1fl7bf+xVM52lgVlRf3guWwqztOyFyscaijyExbYj2ITiw0ZTFg267+DMVqT7JFjhbciTSJaOuYywhWCtGBBmNyK3EhGSwbVjSkMJRVbHWaThJX7Wdtk8aVegbranvwea98Py1RbjWTzZSt8U6yH3yKd7yxbb4b10Ge4EByfs2poFWZ9RrrAWNslEUt/VByripXQ1JB+6SpuRqn06zNYfLe9C7GH5jZCyuDJ1F32yzHbLMxKwFNfkYoWRzl7TOmFJouiBZnBFhdmAFW7dg81b+ANCGZPjFHVpSPY6VI5iIMDrWDfMda4DV16yzs87FBi9rgeyQfmRkGhBlNYvEeHgnEuJNgt7FXHvvmUC01XZBhtw6OEh1FY3Zp64sWwS5E7d6UTr9tjiP/e214EuETP4OWcFL/166J/qt/j3Y+i4pbRgvckQQmc0UqdtK/yEvoSgdOeSTJgbx+7ssTyawJEznLQl+C7y2pmBk6yJBl+KFNCTzo2J2XcsUqD+C3pjsxsos2ZmxlrDYdpF/NbO/6vIa9pmSlhS05KAkkCIKupcyF6+uM6jVRTfQjcN17bKccOjH6x60+Vdr0kiPfNlBZNGSTEsAS92C1NdmxX77fZs3sEF0c8imP/yjRqzm3Cat1aKrvk2gmZCsSzxejwKoWR67H7M6Aqnmy6k3K0zMOZpinwSkm7RPzvHWBllKGWxhRhrQt3LbJS11rYvppzcxbxkjtU2+0RxORVDc0Ty8LkWtGvRh2C5nR+ToJSMRSclHGLJmaDDYegU5NuvNpfEKNS+TSrnmwF4YKhnO03W35GTA2jLp2JRkzJ6OstfDX+fmWJ2r1DF1Vqu3aydI8iaQvLKK1i3LJf5/l2SJ9BRUoLcPo4/SYRJnQwoi5Mit7Ig/I6evGrDBHNr5cnRqnWW5Xecrnd0j4QrJsUlnxOyUBouYA0zhgi5GKZ9NGOyHWpIdcqevvmGJkm2j1SmJfXARqMJwVTtdbdBLWDVXn2yOIof74RkCSeqT9IZ8UktN0uW789CX6nEcwqzC+1PTFLiWmS6JuSSCkDs81ZZeiDKqxmEyASu+J2j3zOwXqV8brgCfJ/iqH+aTN+Qj1BVFDDFrRUmGm+barK7YISUrD/mwmlQHWJFUE7JbtoAlIjZT1Zj9sxXfe2RsxovdSclZ6862SLVHffLsooIsbStR3nfbPslfJNLaW7V7Tu4nrT9UnmA/HivO0HB4GR2NIDXmKtVD7hLKa35IGhOKTOdn8dh6RaNkbAakmy07J0WzTkkOXAprndis+Dw0L8Eaa52rBt6H7gPWNIykH7fTiCA5t13SnWxICx/VZItI7t/Ja4HUEfW1GfnU4n5x3GXCwaPYYHV8fVeZItth41ey2ysF/RZ0PwSuP6KMevfoddNYGPnrvwb9Xy2nHWzDZiRP3pBbjyYkLRuWDXVbfNWiIUVudQuXlMEz35FO2ShnlS5JRjXhgZqvrkOHbpN7TqV8GtLNqcgthvRrSJKdrANJrOp3pZNb5ZwsSRhIsQgbSwKh7xxEptdKICHISB14bC54wiIjW/VhODXt0zHWcm8Fkq2FNufmEJsd0dfVX1jxv83ht9PU10oZlU7CnncOvL2uyP8W8E9J3p3wA7Ip1hnbqL4llkBExb4AXJkmAtAU7ZBtFlYRgYqQhbSZ43aa223M+VbJSXgQ6TwKet+n1/03dIshavPbFWm+0UCTSuZhBEPyUre4wnJ2DfICdOv4JRNLjur46l0MX+qvGEe057DXKijjP2PNqFmMI8uWzOJ1XyXMu7mkhkQjut8mUmL1oPRraoc+2+yPXGkd99sAa8Dy0K8l53bwQaZB9/UoJPJoBEk3TSHFLvAR8Gew//1ko/ukmWQ2nabozHaeEYlATUi2vonfkfB0rNii9Z+6YVJGbZOgRCx0Tt00/e66DHjv+/S6cVxXw/7oHQKBvEMWqnbRMA/28ghpQq5EardkdJulQBlIDsrKFfI6rZJpQ5KxLrfs1JZEPSp6/5Re9yU6Rr/KmdvEvNSwmflf6aAopNk4qJ+uF1JE1rA8kwtS55NuNsCl+GV7uxqSrEQoanISv8pQv7CGldl7H9DrbtMtVvYt2Y2UWiitpOQ0Be4mkVreOTKnblidKYMk/gvm/PaW6Ry6DNvXSycK6zPcvW/T6/5rOiDdyIY8ZO1DbxaG6BcXIf2xrLCCfizUt1FuxXKGR6dXf7BR/IIkzHL5lA6rlLHF2oYggd536HVzunKhGfGUapNFprGaQGWZsxAbe6mF+TydZpVjsm3SZ5vp79pwPyDUT+q2iWhYEmnftW+ddjpDyyJNYUYiw2j1BvAPSLUcE+hNQgasatKFXSLUOm6QanOsjGy8YvtZ2edmsBgCtWS0JEawXHMpfb0fuXxoSDDDROr2CXr094He75NmZd8FxjAYw6VxKqXZjC/JR+1Tm6xMJI/SR1l3ALnttz7KnmNm3qW7+xy+ju1IBKn3nejchqRW/hB+9lFw2pCycUoxlk4KUqcZEYsJnwobt3ZgMs2r3gUpmNifBNYUx2m7hCTBNKRyH3tsw/oK2gD4F8A/ij98h9CYHeA27N/LMxO6fjkaG5XrhtfEaf1RSTfHaQzfGvQ+aeLc3LRpQD7LAvLsge10upZ9UsZKROHuQwnjAPxzQvp/zkI2i6r0Jl1g15rOvpdk1JhrFWzKWm0tiaaOG5r9VRsyCCIRNsmA+Q3p0yqSuW+2rQO9f0qv+2d0i5uwS7gBNkPbkt/UhhSRxBv3cZvXsMnB2/bb9spIVaT+1hDXDZrDrE31byVJtOfQvpIwlYT+kXAnXqxC0tLIqKEDcm+iTifE/20/kHMX7L21/VJJ34YwW5dxWPttj3x5kar4vmB16Ficv2QjwVdxdpFs7lWSkbQdqyyoGYWaPem5ta/W+WO+UpEnOifA6E74f4dk4wfkGeyDhmKEdZJIICh0HS6kJg0VbUKwUV9mMfuRCeHm7pCCXQhD0CN4ei/U35RqVvapklhaQjSOn+Ve2+K7dtjO3geLtRMkE2TUhCqHLYIK9X6f4O+2SY7pDgtCMGhYsKoL8zA7ctimYa/Sx0tnbGDSkAe1rdmv71tyJJRkcW62N4ds+tFrkP5H0vj/XeBOKtSqyavWrQ3XfgmhJqZ4NwnSjlZ7dCsJySoD8VxfNxH6Nehs/y+ZdulLIJ8O2cTXa2ssaOv9Cb2OuMqvnP9eGg7Sb8PyjbdtUKdQQCzm2euHWW41OQu2jujFoj3XoWvM8db4z0hKJjJbKuccuLFOGf239Lo2EoAd4IPwPpvnGQnbAaxDt47Xyiv2w4XMhuTFpTa1PSOMQnwxtuv1KKNJ8R1hFSeB3Gm8s87CyP+BYKBHJMN8m8VcCP126XhtNtXqvdUPzHdKfSudv1T4hZbeG9BNyJN8VXG++2Gt8vnvSMsq1/FdnkXbrBVt00vEW7vEGWqWCXLpzCpSdlb9aAzstjBt4avQuxblpONLY65Lpfi8dsf23xMc14Q8ZT4xL7sYjFhsQ26QCJM/RvOk6xPztTKpOSDXoRlBj3ZIMZG4fk3qq9Zn2H4uvVo7yQb4Z4SZ2U0Y3rqkH1Gq0Do2q1/75NFuHd6290Ig0ZCL0Gan7H22ZKp04JJxTT5FXfKx5LpvvqffXRd634k+bZLKQSFM5188KeIpUmX7mNwY2I4zhO2Plhf9tSNE6itqR0Wa5yTSWPp6a98lC/kyC6n3zeN6WG3vFr1uh46rBGIzgM/uwmy6XJ2uTj8k1VUuFpoURubzME2dVOPlzK5B7yViWj3CEpvnodMajdJt6bolabouOY491o/en9DrvhyHSbbCtmoM/Wk+hi+F1rXUpFpkXWtFnJkmDJOBlhGWcbl2wE2/bra/AJ3t+/odyclixnLAvTZ8m0AAIN1wcgNgnYq9PjlzoTSikGyabF1NkrkI6a45x6uF7F6AriZX1dKJtaSsU3NgQx8OvVv0un5cV4twIfvzNO1avy/5lEFBKQ8bcJQkyZIia2A0j0B95OUDZKTzQE4C3oLeCzGIWbfz792hxx3oLtItVh7vBwJ5F2C+nJnAfD5IRrY/QNIzK6eafOh+QpryDMkuvQBd2c/KDMjNKKOWNRNIoPfn9P7qz+m2+6TZtbOgR+1HwSZlU8uaMPxlg85yaEi2w2K/2L7Krtj5O8qOyKFhvmf1xJJ6nWPtMvqI3k8/otPCu5pg092D3vfjRYzjxe4RoqrbsD9O/KhqyOo16jYlCqRnpY2yAUxDPgwOSW4VuTwtrLz0PmGNdWwG//o7SVXULuYsCtwXxuU2IeC9FWTUEDLQi/XnCDPSR/O8HqkiH7K2RHjO8qr+kou+KxtfyqS0OzOOlhB5qFls//Mc/uGE1On6UO1C/17uZHXRTwFPPwX8QfzOPiENt0NeP1B4aMu64f6sryHdQMssrVOwwmtI0cxx4O53YOvLhMbHqbODGEKpmbqmKh7yOaD6DOlxGzbPKu0gN+5i3jaiux9EqiCXrY1K1AG07bBs+yj4s1vwD3YIg9hb4cKG03zIsVR0BSFaaUJGU1mAhjSzonTKMsS7JFG+dZ92jeM5RRos2db5ZhyPMRJ6H9DjA+h+P6xD0icvOLTO1gYmqyIpwTo/a6gV3Ihsy5ldv0/7NCJqhw1Ko3Sc8oFQ+M+/jM8da8P1KDsB+QibdVKrnI51WmWwYG0K5DLSqEvpvN8uAjiKY74Wtx2njP5d6NECt6DbCDKaEPrBYAob07yes9SpVYGUvb/qe4PiOPWXhrzEUBnzPz1Cm5+PJPvdY5LTJ6OMfnGPrqrDtjGhzvHKn0Dvh4QOdRd+di+frdYH6nl4yK+1m5DLozHbJD8dJ7nIZqk/tuZ7ShLcrx0vxszlceC3oXcTuucI9ncA3G1h9OdBjxaB3G3ovp9sA/F9axyJZAz0ZM/Vj5QxsjKAVNKgc9k+WAavTTz2lTXqyUMRpOeh9/M9usXCWZNwZVZp5Li3gO2LhHHK/wK4+HvAT+B/H4fhuu8Shldi5LKXTgccvjj4PeiNoKtIUzRbcsWDPBU54XicP8CnoNf9MNZrxR/bnx9cz3AFqP4jEomcAN8Dvh8egz4m8UhFYQ1pFuBhU8/vFe19OUavOrcdgvzjYzTcX4Uec+i+H7OR09RZLFmzRmZEkFPvGcI07QYu7MHH47z4zxoXtQuCnGSoH+SU3i/2fw26Py2c21GM/CPhA2AjNyDWgVunr343IvWBhnyJqTHLRZ76vy6+cz/8q5Nq/2FwG0SQRJwt1O8VbYpArnJYkJNH9dOGfB0pyembh5DDqszHiemPEFl/Q6p1KUmi2mqz8MqUwOraM8lNcrV9WO+K2r8Wh7KPgnVnjQ7C94C/14T/5Yv2CLVTQ/L19mz2SzbFkiGrS9bJ1+Szsibk+mQDU70fdpTjfgHfOvCd+G5tyy1g4xZs30qjtwpQFFTMCYRcS/Uoa7ZP6oM28KtIy3FJHpZXlFmmBxHHR8FDr4P0feDLf756PFTGpyak0/gCYTjl4vPAPwF24T/8L+G7v4IG7k5TMsnW5DQE4/N8MbR2EI4aif2dQ573YfGjKXzu2yyeH1fWjChdOQSqy4RVuL8M/PufgP/v54txtPZWvvaEOps67GEM9EF44zE7ub8Yw5VxIsaKSEtUhI7Ze4qwdskzccdHcOHPYHInRcY2Em7jNqsbD3PfS2d2ks5tdxwejXGb1Wuj2P9r4iyly8CVMEW/msDmB2negM0i6ft3WTawXzzm/rFO/GwvGeiybRayT5vEmcuyuvMQEU+K71ny1LIcUH3lDMloPy4+27B6+MGiZrlmZp/lIUI5qiksJl7CwcMYd4EPTxOxNvgK9H55j27Qz7PYDXlmTP5N2eWG5Yk2CoQV0IowKWmgTO2rhSxejGsh65ynKQh5G3pvE57zV5OyPiJFVkbybyI6yraWMtonDeXbwPV16EbkfVEkXb9pSdJx4aEJ0ndJimMNTg1p0bQ+6VEIFeQlZL8B7RwmKRsyIS3kNyMJ67giiONWvu8CkzZFYFrTwTJkIDxRemR2sg2/vg1P/R9QJeVqyDvjPicXXR0Xvku+6JiN7O2QyGK4VWmk50hW/DZwJy+Yxny3JM6nyegcBt8jNLMhychmVq2j6wPVBoFAPkd4EPBenPL+0eqMAaye9lpm0U4zJKNx/Gz7lw1MZLxHwOAyqehvApvfX0xoWhqmPSj4Oq5hn+PA90hr0UCSkQ0mrH7URNsUQ/ZZmzt+OfKjBKanlRwJtwizrO6XYRM0JK3sksi5siEN4TxHycQfdxZoHRiTgpEmbivttbXhGpUoZdOQCGQZeLyafH9n++4+650w9CA8NEG6TbhYMWLVtw2GBEK0SXJgI4IU/p/34G/GE/xfc7gNH0/TkJgikfOCHVIn2yRfMXUgtqSwf5MgiLvA3/4R8BuLsbSpOY9Sm5CPx55V3CFlIKUykpMtxK6Ii6jVLI+9Nclw2++syiCcRdwmrfe3xerVZdX2EaR5ypq1cC8cYFPV9iXDc5Zxm/RMNNkikUjbvoGO04OT9dzEGIra7CMcfw3VSeIW6dFDGiJSEbYlSRWGHEk+U+iPkyyvnyO5WPyINMxsnb41N5jtFSERMGjzOpoyM3SesEue6bdESP9ru17apyxkw+F0SMFgEz83Bx55PHhogvSncVaZOswiiq1JBnqbNN1jJ+5/6r3w/i+B7wUOIIGKjZ8XxzYhT1VrmGiwyTIb0BduAfwKmIeZXj9MaxCJHKljHnd68SQwIXdoI/0vZbAWSumlCUGfBoSx3lt5xCeSpCzAWUdD4tCaWVuT14tBaG/vIkszk7gdhlc0hFmRzxiZcrYyIaswJSVgpUM1edqf+PmCgjjl8OfA3bzOD85GNH8UjMmXcqhJ/cXqw5D4qCJl1wCmqR7kPAWxJe6QzyS2pkey04SGmpgQ6IcJJjaDcp6xw3K2X6+aJCMLK8cph68thtSf+5whgvR7kRzp1RCd0YzcK8mhjYkPC4tf+A7c3UsEyY6J9zkfxsm2STJqIKxaC/ncxClp+ec7BA37Dvzrab7+DyR5nQfMyNP2DaYA0lolky3iNmkc9jvwozaNSQ/Ih0hunAM9asz/clLij71hHMpW6KbFZ+6SqiG/G3j3JO6yWYNr50A+EJr5FDlpnJMvXQBxyQxrbRtgAl3xTLajGPCzgia+22ge8uL1xZCIlt6Qwk2CSk04H0HHQfgm9G7EpVBsBlJ9DlZMvW/zmWcQJr+8cU76Vokb0Hst1iHZfiIbLgIpeczNfjhaEuQr0PtxnHxlHztyUnhogvQe9DRNVYIZENY8uHSbJJmaFPFPWERsPxunhcMgX2/nvBgnZZCWoth78RlgDSHaVw5xQpqaNgvF63vkq5HbIZLzYKisjGS0Z8B8DqO9mEmqSZnIlrSKchNkNCYZ+1WzHM463oozNPW5Ja5MTJhiLOfWG5JC/D0WjHN3nsiRHbp86RwZ8JthibWFPZqSPSFhoWPVPDwGYVHQNQ9rJ+2QPyJiyPnDTehdic7GBqPKRttht+oeDOMjWFQ3Us4wPq9oSGuoQbK5JeGeA/15IlAN+YKP5xnXCAvH2rYq5qhZJkAy3TOS7r0EXVl7tAqSP5y8z3tkA/nFyLZHhKz1VUKKcgvY7rNYpn12L4xdSlDiAmq8FV7D+Rnj/juxGl/sVyOPShteJjzIsWvTdFGrTA350gAa+x3zaLPXThu+FuUkWWmIZGRekE8rFglSFkokaU7QtfOSHRFeiFHbiOT09bkmj8xs5tJm6SSjMcsLP54XvFxEnBp2K5ORtk+pyNbq0nnTH4uX4yKWIkS1eVk9siShIejNXc5HZvZBeMks9KlhSVsfabMk0qWYbOM252MU5H54MfYzyMl1zXI/s0Nu0qXD9q9vQbcZv/e7JyzTh84gCTuk7P4dUiHgCNhswzN8bDmEZYMas1TGey+e7/o5UqxdgkFR6romdbSa+KSVNl+gD9JMtxFJ2RqCjO9wvsgRhOJItbMmj/ylTzaq12jSFoGUV6Rp/nucT+f2ASm7IYNtZVSTp/4lS9VrD0jJ3PNKjiCs11IabL3s7DbI5Sn9mnM+9cfiOyTHb58ob+eO2OJtOUJbnHve8V2Wa2ss6S6zjJLZlPNPjiCUf8rWrLJJdphSkDwnHB5fhd7r0D2OiSSPTJB+ahThL+P7pyKztMZJsJ1yi5BNeYZUgPzDR72gU4afHtBRShlZxq2M3BVSlqkmRCVfP8K6UGcJf13I6ZMxerPE0haT1iSnf5UwtX02hd87x4bpLw+QkSWW5efNeKwtu3nxHMsI4CemfaWM1Oesbin7rXV8Xj3n8oHVMpI8ShlJlzZYvRbUecWDZGSHYiuzvTnZy3xsKO0RBL8mnSkDDyu75oi/9bj65In8qJQL8qhuRFiq5fPx828/IR1vFUoZ1QQCcJX0RJfz7PwPg1JGI4JsnuV81dM8ClbJ6AqhgPm8Z0UOi0/GAEMOT8Haia9sfcqxihSctTXEjhtWRiIFLfBjl9MCZ1lGj+UCP2GiuhFp2vJxPtrirOETsbarJg2zuQHP8UlTa3LaF6B7XPikyVSeBYP0uPAp6MospiPHJ6E7KCPuCPgEdD93GTkcDofD4XA4HA6Hw+FwOBwOh8PhcDgcDofD4XA4HA6Hw+FwOBwOh8PhcDgcDofD4XA4HA6Hw+FwOBwOh8PhcDgcDofD4XA4HA6Hw+FwOBwOh8PhcDgcDofD4XA4HA6Hw+FwOBwOh8PhcDgcDofD4XA4HA6Hw+FwOBwOh8PhcDgcDofD4XA4HI5Hxm9B9ynoHvd1nHb8lsvI4XA4HI4Txa+f5I/diI5+AjTxBdBCN46f+8AAGKZ9vA+9E7zMx45Xopxa4A3ofRm4Gfd9Me4bAu8+YXJZhRehe8vl4HA4HI4141gdyzXorgBPASMC8WlIBGlOIEQAu3H7IB6/FffNgOfPuQP8BnRq8waBGM2B/fh/TZDFBBgTyNE2sBn3/845l4/FdehG8f+XofcWdEOgIsioIenVKG5vgFvAXeDGEyQrCLr1zfu0+XXo+gS9ut9xDofD8aThWAzia5EYjQhOfERw8i05OWpIBGkSXzXwLPD0Rvxi/NLP5nCbYMgbgnM8jms/SVyPcrpMIDx13N4QiOE0vlcE4jSPn0fA00PgKkGAY+j2YAf4NPReg27K+XF416HbJBDIywR5iDwS30WSIIikBgabBAWcwN29oD87nA/duR9uRHm9AL0fQLcRt89JMtsgyEuZ2j2eLKJd4r2YmZ0T7NA+QT4vPsEyOQivQycZwZMXdDieHKx9iO116D5PcGaQCFAT34ekSH9GMNh9DoA8YQ31PPi6PuH9rOPNmDWqCe2pgV4fuujB5Lhm8SUZDQgy6+bQEzMYQm8YZPR+JEf7wE3oXjrDxus6dNsEUnSFIKfekDAm2wY5NASHNifIRo5/YJWqhq0JzObhOzejjGbx+zfOsIyE16F7NbbjDwhy+CV0gz7Qh/15CC72CQT7QtQbBuH7FybwYUt3i0AiGxayOvOyuR8+hO4qMLgMNPCzaZBTTdC3fxS6GhNClvs2KVB755zLRngNuucIgWtNINO7cV8N3HgcF3WK8U404xPOfzB23rF2gvR5QjakT4pY9a7I/kIfqjZlRIj7+qQs09YUqt2wbz8aLTnBCvhJNFyKel+A7u0zpIzPkjIeAwI5giSnKgpDZEe+rCHIYQ/Yvk3wdk3IsI3jMSKSV4BvQffVMyQXiy8R9KUGtvoEphRZUW8eSNBonmQCaaht1gJjqCbARiAIOmZEkA0sCNKZx5eAX0BXXYwb1FgpzjxF/JW2Q4pcCHIeEfrkZjzuJucXP4Fui5hpvAz0oT8N+jMEBheBKtiqqoFhJNga9n7nMV33SeJGzHI/A1x4CujD5Y/Cvj6hX3YjOmbw8RS+D/wQuH5Gbc6j4gcx8J0SutaPY0lARehXOwQZvfqEykc4K8H72gjS+9B9Lv4/I9XQ1ISOpIh9CFRDqOZQt+n7itJmpOG2/jR8HsfPkIiUJUp7wFfOgLDfgk5RGKThjqrPYgytjRsHBCK52QYZ1IR275MyAbSwOQ4dcYcgo4pUeyNZvRdl9PUzICMIEdhVEoEcQhqnjQqy3yZiKT3aAAaxiGsWCeOwhfpekJH0aINEvGbAu3GSwC5nz7C/D11FHHq8TGA2c0LB1TQe1E/Bh3QCwv6ftYlLafgb0vD4h0Y2e5zdYVvp1NNDwo1vYhbWRmZtCuZaSPJrw7Hqr0OCbN6Kzm9GyqrcOKPyeTHKR5miimSPK+CS5DYLchDZ7tqY1R2FLOTVcfjetVjbVsfjXjmjcjkI70NXk/eZ56H3LNDbgME09bMR0Lsc/N6lcdj3pOFGHMJ+JerBlwi2RTZJcdw+oUzk8VzlMtZCkH4M3Wc/Q2jhTnBO+/FjDQyGMJinQuy6UBANI2nIpE+w7/sEg2VnuNXxO31Cx60I2YD3IwnYIRTknrb09zvQ/UPVVY2DjER8uJy2sxfb2ga5WRIpw92Y/zVMtMfykKVs/zbBoH8Lutuc7ujlB5FE9obBKc0JhgXVE43DcTOAKKOqTc5LgmnSoQxZ5gwNyS+qnOvyMbZr3Xg/RvYikdUGaaw2CqNrQ6ZNUHvnhABl1ibSaHWpTadYGC+d+qzhW7Eea0TMQl4hDUtPzIExnS059Enk2g6xKZMtvqCXldlZwzVTC/kcUD0FVLBlO0wd3+fJzmgyxNYeMApMWrVJNSEQUanFzWifXzvFtudBeDnK6QvAc4Zoy991fbpFCpbU3xoCeWSUtt+IgYdqJ2ecveDsfng9ltp8MbbpDwmy+EeRWMJy0kNB/U+h+wD4HklfHtcI0VoI0mefJVDC3fCak4bDBtG6VnshO9KQpvErW9SYl4zRHmkITgZczkAZqppU06TMCZxORfuHGwQtiQ3en8dMmLzPFqGRe8lAj6JzUycjfl3pWxW6T0nKZofhIBlyJameWn/T1ornPk+4mbvQ24v3XOSoZiEItW/QJkI4NTskE0W6dlLAPklG2l/Hn30HujucbhIJ8Hd1I9U5RmSZEEQa54syI+LHIJd5kpECEGUGKnOs5DYn6M+70O0CZyE9/tfQbfVTvdrC6MiASF7W45OG+fskG6TgqyFlr6VLc3O6N2JG7+tnQD7CH5Ii+D4kY1ymHKPtUpYt8gD6LVTjEIAok63gWCO5NUHfvhEzCfucvWzbl0mZ1YVchnGygwxSE/rWzHxvTkgQDPdSzWRL6E+j+JoTar2uQe956GJm+0zJx+JZ4HNAd5FOTmnfBGvqchsk+yR1q0iyuRb1pc/jwSMTpJ9Dx1ViqihsUyS6qlEKSCqSsiiVawtnbabEKpscmkiCDJU97s04y+JUObkvEKJXk8qHMIyWebB0yMKBNyQZycE1JPKo7aq73TfnUIQSa5uBMDQgo3+aIrruM3R8meCxd8MwWp/lYRBIutW1uf0WUbxLvtaWJYwtqbZL+qgOSXy/Ad0rp0g2Ft3vx0j1FkFWVmHk0Ukik8yqeLgyl+pj0ifpi+TZkM/q0jmUFTjN+BV0vS8T6tVuhWxZOw2Zs3yckZV6pXaLII7N51FxXEPqj1ucrUkkynrMIsHZJWTNZDN6drYIwDwvcxCZbMhlJLK10EFSkFZx9rKRfx0dtRz7x1O4IF0iTbBREsD2JenIzLzbrIleLYEkyTZdiX7sLNXWfivOmh0RybEcdNSfhnykaEAoMdlvk1zs6BMkH/ZmDM72SH3uvWOWzSMRpPegu3CRVARzl1BHg7HV81Aou9+mCNUaHvuSbR+YY2SY1RmtXZPsre8ss0mnAepcNkffEK53cxpT/WJCEbJHUiZF+SWRtG3fT1/PjJLlYDHoWQxNnha8T3T6xmtPCNd6QamOAQumU5FP9bfZSH1uSHIW+uS6Jhu3b/6XjN6IBur6KTJQ3UU6tlk08OMojwsKS41H6vVDdN+16X/I5dSQD3HLHyrgkK5hjhuQgpC7nL5MwI9FjuLMtI/bYFSHhOHYujV1f5DYM2nIbE5ou/RE8rGQjJr4v0jBkDBU/CNOd6btl8SAZBIIkrj2lGA/L0PyUrGzdG3aJBttkidAzj9bcttck7Iw70L3XU5XkLYKv4Kutwkfj1MGf5+Qva7MUFs7zclRHb8vf6h3yImjPm+Qhie1LRKkM4Efx7ozKGL+Km6bBwIpU7VB1JNhqDeGvM5P8tCIk0j7iETG3zumtgiPRJCegUXdkdJomqY+IzSuTyABcuBSEilZQ+6wVhkhyMmSfrYlOUoda5n5m5Fx3ubxsvBNSKF7JItq7w7w9G0W04fskJCOGZPqZ0oZ2f+NnV+gWrGvJpHIN6H7+ikwUFsQGngbGIeZi8oGDcZQaezHNFhcSkZdDnsVLHeQbC2J1DHapijo1GUDKpIy7CWnNp+HZR4qdYD4atuURVKbG3J5lElMOX71WRvpWmc3InGM04CvQPcu9K5A8i67gRyNyZ3WsDVK38ZZj+Q2piEPyPrFe5mprUkTJNr4/+tm+YXTghfj6vODpwgX3piJMSRn3RPba0NaQ/3RysHKADLVW0D7apLe1KQZt38E3R+fMhlZ9J5hMTum9E+Lm97CbJr6o/RAclB/skS6REUqVNYxFfASdDdPsXyEz8ZMUEPRPg1tTBKJlD+aEYgTLNfxDcjtkvqYqi1i8NqNOb7lSB6aIH2o7JEMkWmZDK82K+q0Tl/CsOPZOoVVoH5xrLYNiu9ZcoT5/3E6uDeg+0Ogd5HEGA1TUSQ/beHyOFyvrS9S+2S8zKSklQbI/q/OZZ2/Op5kJvm8GYu3v/kYO+FlSOnFST70MwE274WXnE9DPgQrEikjrrbreDk+vdtMkUikPU5DKVuESPcWj3fI9kbUJfqExo5htw0Ee06y0xstjNp8YVbd74Y8Aq5JbYdiBleEojYdu09OLkeEtPouj3/Nl21CVnuwwUJBfnYvJG6n5GSuD1yKHepnbdIbyLNqFflwUEOyRba+RpGt9E5ZtxGnb7j2CmH278J2j1P2VNffEkhjFVP9cdQbyOq1F7ogHbHbpCPyj/b8sksjQl3kaSUBP4dOdQsKKsHYXzW0SXVqkOxI5J+Z77L+S9tqs6/sg1fW1ZhjxC+gYzNk1S7NDjhonmoerW5o5raSIIPia5LXgDS8XZP8Q8Xx4aEJ0uf6BO8h62scv25yQ+owQ/KxWMGyasjHrku0ZrvNGpWZJTucVMfPb0C3w8kOBzwHXFKBMSxkpfbNyYuurYykLG3xGZYjWVhO18qxUZxLMrTFyUNz7EnjJnT/GOh9hrRyepuuVR1KJLGO32vIybbkOCV1KFsDYHUEkm7ofHKINtOm/zd5fEWCwheArYukis5xkokdBqpJZKA1+/fT17KC/pp8FpYIp/RnRDJKVo/Uh3XM1fU3+ci4Ssxqb7JYLGyPFFjIKSlwm8dOs0s2ur3ol/qO0v3at4+Z6UaSkci4DdrgdGVqIcjpaRmJSSiDgLSav3Rll7CMyJy0OKaCOJFA2ZMR+eK2lihJPrXZ38T/awIBqHnwY3FOGt9SEgDCZId+kBHDkOFuYLHW2t0YrGgoF/IsrUiklhhpyG1STVDbwTDM3pXzHxKCxzfiLMDTJB/hfegqGdshyd81ZFOsd9tUZaJDx6SJDyJHGnpTn9sn+agRIUu+2eZk6zp0149BNg9FkH4OHZptFC3ufrQG4krqZJY5y3goWoFlcmMzHnCwYypZdgnLOsX8+5xsOve5PsEabRCsSmRz1hE1JINbmW2WDNqIzLLlkhTpXVGvNWI63spX221kdNL4AlA9Q5peF4ciRXzl/CF3bg1Jt3ScsiU206H22g6ojrZJmizQkGQinWxIa3fVPN5FN58bEqaF9MOFzdr8mk0gmxWm6xjI6/9koFrzv9UVOb0rpMUjx+S1W/oNneNxZ5KeAS5oyYzo+Ju4T0OmUXzcjS9LIqUrtn2yWzUpatV+9ZurxJXJ25SNsnKp4/vbMUi79pid3BVIrH8e9EJT8quN4Px3WCQqF7P4GlJ/gaRzdjaWbJSCPm3f2mSxqO1wLw9a1Be3w7m6xy0f4TKExkjphywucrAH7AWH37aLFVoWdZOQ2ydlP2qSvGyANwIGnwG2oNfApdvQzoMc6/jaBr55PE19JIwg7yiX43tUotm9VKYsQlSTZ6IFyU62WccTP1eRMfZauLQXghz1w+vHQJIeiiBd+AyhlzVpm3X4uyRDAqtTh/a9LY6z2+9Hglbtm5Gi58qcU45xuuI7x4ZnSGzasMYJaZbVzBzekBNMSNP2ywwILBMkmzkqM0KlvC0RgONNU94Pnx0SyFHNglGr3sHWXClib0jFw/b6bXtslqMy+6QDNWn4THpZEnHdh4Yk18dab3OVxXPlmOYzzyCRHEj1WA1Jv0QQrVESqVR/seeqCQb5CovygaxGxcqrIRn+K4/WykfCwvEPWDh+yGsXFOg25LNhIB9qtfqmdlsZKaq9QiRldTiwGqff0Ms+967i8a8ivAkpXd2mTGK1AVyFQQPbH6XlVmSvSrthCcCY1Nf6cZuO2+oTbOEoHNhrYWOcL9+iNciGhLqtHR7/Y276kIiRnIkenFnBpQlM5mn4UT4v8s4suFN/EWGUrqk/Vn2CMl1hwUrrj5LuiQR8CN3vnBICKbSQDFBNkI/Y8h7s7+X2SDok2UiPFLDVJBs0o6jgqQmGOxqz4TgPftaNIxOk94jrGlgNaFPBtQoilTCxjtc2QEJaRXL6LDtwyNdLYMX/+jw1vytyZJXsxLJINoUTw87ZPKUZdePvRwQtgVqlAJb4DDn4PBZSTt0+9f0P4/T/L55kB6zju9jILDktReKQhkcsgVylB31zrLaXw4uwLEvpS0Nu+KVL0uUfQHeXsGrukdr5qJAuNWTT+AVlSmF5uQxIbbffmRWf58WxItq92CHruL8in/qve6Ljv/WYMm21LqYBZnnNggjKhUgMJsCdeKiGjBbnIGUhp+Q1E+o3Q3Pcgh3OQoS7Pc8Ja00ewGwQhkxefkyOroaseKi6CJVSFdGDV3PY3ksZJKsbkGpKde81bKKATscv7Jec5yyc/8IMLk/z4vnBEPrzlL28ueZ2HwVvQjeA1BApUk1i2g1c+f6KomSSD9MpRLbvxm2z4qUnAwALgVQXQ92ldGeTwM/eh+5EbfQDIBEt9KcmJQYmcKGB+TRNRC5lZW255NSQiKZ0aKaDTeRzqR8yeNK7ddueIxOkWhd5l0UedX+eR9xNPNZGUVYw6nD75MIqDTjkqW97HOQkSsolox/74QLiKX3guMnRDej+E0ghuoQzS45fm62MBBlWtU2GFfNZ76uIpIJDyIfRrCLa9K5kVsXX29C9cAId8F3ossWImvCSHq3Kmq2C5FhzMAmyDk7yacw2GWU5fyubhiTrESFAevOEakq+obqMhsV4UDdNCzrW5CT6fhCJsjpT6o/6ZIPJnrT5kFITj7EEX9egaO5xkKQGFs9v7O6lgL9mud5DhMnaJf1fk5MCSyTLDMoEqO6SjcdWNVwZh2Nsxlr9XJmn68dUN/EgTAgPb16MNW+TZtIohL8Ml/dSZqRhecgQloe/LXEifu9nbRgyyozeNlzaBaamzw7hAnB1Hs7z+mOcAaggsptDT0zbpuZHLLJtVz8KbS4n0QxJ/UlZRSUOZH/0PiY+W9Ma5i241LKYAj+IxOm58fG0+ZGgNKQKiMTongm7t26zeErEQYkP6dSclLkck0j0BNi/F4c31RE3YGseZvA2cfMPoPvdNenNkQmSiGFpWRvyolHI08qSWUs+RV8dSUMg1hBhvgfL1e2rtkn5NMxQm/PrnMcdvV0mEhqbupgFo60bLuI3MO8WJSmsVmxflXlS+8v9kqN1/JKRHTMvydhxotY/TXyfhA6wy/Lw0b55x2y3JHNAri92P+Z8lrdCPvwWEwHZcKcl6XIQJ/VYkg3gr6BbdKxxXnhsh1Kb+K57DHkk2y+Ov5/OyeFZ/RqRgg7tm5H6t9R9wMkPR74GXUOIuOV0lJmoSffz43kenEkm0hPZLN1nCx1jg7FdgHvhJZ/Qu5yexyV9tSsGi4xvP3KrHw4TwsrP1RwGFWHIQsxXbKgJmcNRm2rQlGmTnHSf1e+kDzNyErkD8BFU8SG31cX4m1U4qfrbhZiaq+fhvJs8vtltL0HvB3HVmoHGU2tCI3dJTmwrrNN2dZw7f8lIfq4mD8w0oUTD3rtA/w7Ud8L3KylTFbJ7M1h0xsEG/GRKd1qeWTaE1JEqUsGihHAl7NsCru4lNSsTBPbrIt6qZatJdUz1XtinftTbCJnb/nx1ucSj4EgE6VvQXbK/XgMt9M3zihryToT5bP8vGzE0+0vyVKJf7CsNu42om2K/lPU4SdIWke3rx+IFN6SITNfSN++wTHpkVGW05chtO8vhppKhl59tdCfFVOSn63n7BApKR5DPo25S1GAJQCmb1nwW5NgkH+meMgGlzsyKz0NzjI2AbUa3HII6iUxbTSQbNQtBzEg6VLNcaK53zLvus05j9Ui6VMpoQjLiti+LPM3MNqvD2v5OXD7iOHVIkI/vRS+k+3shWtELDfxsntcdWcJj5aS2So8kU2tX1C/H5P25BbbHwbM2cV9FrpP6rQ3S4yUeqfFHwJvxWViLIEiNEvPdAcYhc9LETTWpRFCQvRZJkk4o2LBtvUPuL6/ei+uezZOMIBI2c14luB4H3ozP8BvIqKhRDXnlcAsM09OQ5AN1j9UvRqSsqyUAkBfBE3/qchvIRG9o6nBaGI0Dca04PdiGvLBKkbeNOrbC9u29MCOyJEiQz7xuyGe9S3aQ6inFvS5Pg0xkx1rCMORtHn2h1iMRpKcglZcbi9gbQ1t0KDW0NNQlAegX/1tCYLe3rJ6qbffb31AUY4Wuy7bXdxy4DGksdsRivFo3PPapzKnoum3SCfJ1Iazz3y++BykyLjNxNsIr74MUqiSuNcdfcLsJKS0xjBdzJ7XD3jtLjkoZ6Zoln5plvbKFyJZY6ntygnZ4T3ZRsOSp5mQel7ANXNiI//TDBfT3ljMTau+E1csaCDZLIocuA6T9Vk4iqq3ZpwAxBvzZyIO9LxUnlyV5hrikxigMedVx5sziafPDEJ0rdS85Weja1Q9qlvuaRlt0fGPOs0GUQ5uyS1OWM3X7JFu5xclOb/88sG3nmkPqEPEmfjzPZyzabJvth9Kj2pzfylCfRZwgdfX6XppVKR2rCNkjDW+pn70M3RsnnC15lrisxjbLBmVCWoAsbpc8bJClzwq+1N+sHSH+fze+ZMMgco55rq9zoB/J91vQvfiYs0gfQlddJtVlqVNYElmzsO+Sg0hOmSwp7a2gUaFStxpSn2vIZbtqxOmoOBJBerpPIki6QnNxc/KhSMjHWlcZ7XbFNkhOzaaztX0VrLPX79oOLeOl1wbHp2CXlB/W3Y8eWNkMSMWaUhTJZ5U8lOG1nyGP3KU4arclDfrOvDhW2yz0XZu5OS4MLpKUxXh5276a1K6GnESvIt2W6JVRHCzrRdlB7TBR2X7bMaVTx22kNiEY6c24YRRSzNIbSLotZwTLheoyrq3Zb0mRJU46HpaNlPpZE7etCjTK+3cSuKo/sQbi0jRE3HOgip52sAHDaWqf7IWuV+2ymQvZi1X6ZWdSqi9J/vb/su815KRKt/a48Q50T28QFmhTSN7EnVL6aNsnBB+H2a33hqQ7NrNt9UYQydb3lVzYNZ9thqAh6XHL48kivQvdZ4eENUj042rwLLz2Y4G5lrdR+62/skGIJd0zUkZJOlj2N+liSxqOk87quJbwMNcxx19XexA+1yfNsK1Jir9LfhOjIPRR/mdVv9pguawBlmuWZYvkO23QI2L/qMHH0WqQrhKMdUPKFU7CIlmKEuT4pVfqHDJEViD3gwy4DPAqpy9YAwR5Z9a2ijS1e8UjmNaLbfIVDWPEMSbvLKsyPasIktpbKgekYaXy+L7ZZ51++X1Bx9fmdRB5XRsUTkpBpnmauXTg9iXH1BafD2pjv9inDJElgiIAlnCtIkwiEhXH79xGYFITOUpiKGduyWFJAOYsr9oLeS2c5LR4VhLLfcvq1dRss+fSNd08gWntA3lSpQp3YRizFFXD4oZV09w4Wx2xzl9cwd5zSERSKPXQOndLCiDnIpDkVR+tqQ+N56HX1XSLynU5soL1yA5JX6wMyvtdOjhrryk+iwhZ8qjf0O+VAXHNCdihAl+BXneFjueAi4Qas4bEbOfpei0HgFSvJWctmVhfVMd3ESb5r5nZDsl3zsw+S5D2OTndORCfJ6Rva5Lyx9d+VJR2Dv17qV0jgt2UP4RcfyryvlfHd9nscpSkIRHxcsTlUWshD02QfgLdwmJGQXR7IWV9m9z5rzKUdvuDSJIclxyR3bYKluiIkQtipDXpxpTR9tqhH1EYNoHde0FWNq1oSZ+utSLvBIPiuFXH65ZYZy+iah1ZY76n//UbIkeSUR33vX0MdTY39OiF2lzMBLidj00Llrjcj+TZzMUq2P3qjCPyOhNtl4Gzjs4SIxm340atHx6wMNKWZEPSf13vQfplje2IvD9KL2fm+IpEpqyMBLtOlYx1zfLssPoI7X1oWOsaL7i6F++dPPI8D9IsebQE0GaXWvL6G22TPZP+YPbvm2Mks4bcpundOtcTQZ/UyXXDyyg2wmZta/KFNqVLDfkjVkqSpLbqOzpmVaapIXeMq3T4xDAirc8mI9qQGR2jVgwJcbEeb7fDss7Y7L66tCCS1Jr9lnxTfN8S9VUjMycG6VJFHhnMc92fkxYj/Wwf6hZukXxwGYCpjTX5CKcdibJEvvQFkk0DvALdjYf0YYcmSFPM1UxgPxZb7ZIKzNQZYDmKLCM121lWESZ9rzbHFP13cS51qlUETEZ+ozjuuKKSX+oZR7CYwrE7hx+RL4xWdvqSAOmml+QSlgmgOlMpSxEfBdU61uqxVcQRqXRKRu04UAPdBt3CS98F7oSl6G2Hse0pHTckdYR8KLEkWLB6KFGRSl38piDjNyNfvMxm7Y5Lj4RK7F455CY5basrcmbl/S+vryXvS/a90W+SO7eaNANH58B8tyFFbtIf2wWOW0ZAbiji58EszCQDYAoft/kSDn2Wo1EbnMyKd/uyJMeSzYbUv7RNOqRz22Ep/daJoSYp+ohFtm0xXWiSkgAlSRxBFiND0hvpR2v2ST41eabVElDr5PX9mpMZ4r8vxPJq8mh6H5glGY1J9mGTQJK2SHZWfWtGTgIkI/kli9J+1Sv2WRtYjiCcJHr/E73uyzF50sSN+6H2TzLaJRHpEVBdha39sBDmDsl+iSSrf0kfNCJlg/1Vdq1v3uX7tF7d89C98xAk6dAE6Xeh183pmAJ3Q8N2SLVYMhTqRKWC64LV8bRNjVrFgsugUIq2KvqQwMqUd82yI9F5xods+1GwUNg2/MDdeZKTSIw1rnb4zN70mdleRlKrCKXtMAfJUsfU5BkTe56WJKOG4xmG7OsidCET2B+n1XpLQlhmfmB1Zs06HEue9g/4Tmm47PVVLM9msw7Sfv+48G58AGRW/DgP16c+Zg1LQ64bQ5bH7UsigDmHRV0cL73SS/sqcnnHEYiFf1kV3R0LavLUteQWM7j78+XibNsn1M7K/K8MgeTcsJy9q0hObsZyhtieu9QfSwpODJb1jki6FdOBBy2zIdTx3dqFxmzT/dZwr/h9TbJxkecvjtd2e1/Un1fZ+xOBJZFD0gqP0yCju6SnIcjm6zqrYVjLSe3Ue+lv1I9rlv2c9WPqT/14HjuaYjMqjw3SJw0jzRMxit1vYV/GwIV9YDt87XN7MJsvYuRF0b7Nqqp/1St+urQvNvhpCSMgtwjJnIfB0WqQInvWow4UKW0TZm4p0ybdUoRg7bs1PjpOwrCdRBiQR7DWgZfOUv9LYPa8doEunes4CNI+YeaBIn4RyIpcNmqTbLqyPJac2GNr8kxaaWxl7JVo0Hk09CGUDlTbGvP7+m39fyywntrUHllivSri0me1T/e+Js8S2mh2Famy5MZ2qDIKLp2l5KnjG8JU7e8C7655KHLIigb188J1WD1sqzZYAm4JgW2nddTWMFm9KHXPGia7b2Kv3Rzz8nHPRJJHhjQWVCixva+SQ9kOSwbUl/Rd6/xtf7OyHpAPKVkyaeXXkCLifU5wJpvtMJJXXFeGeZ41svqia1Z7huY4FRFbWcq21fFzn7g2FLA5TcEyJJK0yr49FnIEacaRZGTGc6LJWlybJS+7hIULIc+2NSwHnDY5rICnN4RBn7AOUhTAfpvbZ+kcrM6mnCS6Z+kWEZqJ1hryonuJb0xYWLMHi0CmamB0b/FM26zuTRlI9SWZw14UegULoXZt6u5Wjx9FRkcjSFW6EH3cJDxDc1uLf2GucB4itzpulsGpyCdQ2GzBsNhm2bHS+SJmdkivjNgUgUCKaqXEFbkxXydaSG2PchqRiOIqUmdvXhPf91l+blxJHPTdGcvTrHWemuX6LZtR0XfsLAmb2ZsBX4PuT9dovFvIOpOmf26RIvFSPjPz/YZE4mTI++TXvSrjo4hNkF5YYoX5PuQyalg9IcA6gmOBGhHTtFUL/XnKXtQk5yzDMGM5srR9ZJ/ciGhb6aQgD2ZK56XfqMw5GvLMQJnFOhZYBtg3FxLJwKANU8hHLOtEQ94HLVm2wZiVhwyx9MHaIshtT0m2LTE/cQcnIqkGqePHG1mRD7frOhviquos9zV14xINOZEaTYPz7/WDDs/Jy58Eqy/Sr5dOeMHI3rfpdb8fh46mpBV+m9QVa/Igd06qxy3tvWRos2SQL9TbEnR0oOLRqFD9aR78SLXLcz4W7ADfIT19dxyKs+2q4kPz/wT4ALj8UbRbxiiVgasll5O4XXK91JI5tf02l5EC2gnwKIHH0QhStBRaYbVPHHN9hlDNPgINwWmAdjAOxolhYMUX5kEJbpMaL2NqdCIzUjpmQj57sCZlQAUpZb84B6Q6AFW7HwdBaoBLDYser2m8W32SxVGvn+cLsonIWGdiI/3WHAe5MuknG3LyCXlwLUhxFcVa42+JmRRznWgIc1N7YxYNrAmL+ikK0HXrGpri2iUX62ysYW3NNsG2zRIdS6YFOcXhAfsa8xsNx2OkJvpjFbUOPzqYxP4yhAst1NPQ7SQX9ZEy2yrYDCOs1inr2Etdsd+V0dJ5bL9Tv50Cfwe6f3VcTq5sqAyHIZZb4/BZJGlGilqtg7aEUf+Ld+mz7RORgy1k1JBsTfl9q2vSnYZjnDBSQjcmOnvuEJxcZCqDPmy2ub0YkwI22261qWGZBEq+Y1KtziahOFcZ/IYkK52vvNQWePVxrfXzEWEGmxzPLhDJyoi8T2n5Attda1LgJF2w37EcfkKaab05DWQSVttyS0r1WncQe1j8xRSe/pekGUGTvP1WH9RFd0nEsG7DS/YYlmU0KbaPgHkbsk4N8CnovQ/dFsnFSvdeOcmFIrtb0NsMTqwm3NCtIWH6/3Px6hRmGCvdtfGBl/HqL41hPs07B+TjsDPyIZ4+icRLYOqUtTmHgkgRDTlBKacM9ozjeVr0p6H3y4/oBsOUCRlBkNFTpDA/9qTeGAZRM4YEElkZay2nJ+c/JK0TMTPvJdtWuyty563/1RmtsSo7nra/t2Y5vQK9Z6H7u7fCRe7PYyQxCqnThaGMN/DSGPpGJkrX6p6uIgDW2JZZSEua7XZ1UmuwJSPJxpL2ifn/OIzT89D7qz267ZY89WUtdBUuvAK2p4m4bBTt0aF9cwpLCiAnN43ZXpFnjWbm+Mg9suEm9btdksN4+5iN9/4HMBgRvPCcFKRZpjuCrQa2YsM/ju+NaQ/k9R9WRibYzUiyzQBI5tqnn5ZNas2x8rsT4K2Tcm63SEo9Ia2cqZsan221pYbNWSxMh0QoDwAAJOdJREFUKDvUstz/dLjVMWXaINXDjcy+pthfx/+t3mr077Hgz0gLak5CZqQltPEKOZEW0Zb9bEmkqU+eUbFkuyWtMi7/JN2QGk9Jhcqya5KR+tfjIEcA3wfGbZgxKvQJ11suzjshyURtrkn3/S4pI1+OiNgAQtvukspkvgi9t6B7hnz4/FFxJIL0J8Az43wKYjeHnmiujLbu+l54UCGEhdvsHNfRNCWcymgM8khWaMhT1lb4+p6Eq2ucme8oCnqUlNuD8DJ0f0Yo0rPXOICU8irC/IUDi9a0mocoTtc8NudRG9ti24zkyGDZyFsZiLTJWOn2SZZjjoc8WnybcFG6hlEbHlS5WGMAsrx+1cax5/i/DLUIXjmcZGEJlJWZvjMz+3RekaPN+BsqIJRjvMPJLM72vwDPjsPjK0bE9Ltunhq1Hy54QMwq9cNKxXJQDXnmwmZGSqzabofeGnOMyNE2wRjaAGYMvHaCRvufA3/w7bhIq21syQRrFtb3QgPb95azN9Z5CZLBKmJp7ZAlR/G2UJEemiviOObxZEZ6Y3q//Bd0A9OY/Tb1pZ70S558BttmBXLZEqGUhZVRa7bps7L3mjSnIHKTNFxsZXSctvpB6N2h9xPoINlPOxowiA2rZiHgjy6Pa9B7CTqRPqsz8k+KkyVL2SiRHkg1TdeMDD6EbhSP3wPeeMwraX8deq9BNyDo841IUqTvkJfFaLTyNei9HNui42xgakmO9V0VeR+zBPpF6N2E7mr8XAbND4MjEaQX4814Oz6npiI0/NIPSSmeGSFKuRWmbTdxV7+FCxMWxkk2zDZCBhhyQ1wqkR3TxBynTihS8cpjUJ43oPdGeO/k62ugkteA1AvGgUA2mCxYbGA9TYpgjYkOsW2FPMMBB09dlgy1b0JQ8kdo8kMhOs9OHekqUT8kNFniScgwtUSDtBnadmVvkdHNpiXLuFijtEpPRBJENhtyUq4MnGavfvUxGaJX4u++Ad0V4JkpXCotyIT0JNFocXo1XL2TIq3SiUtXLMdahf4B39NPQ3ICE5KNOGm8FJzSIlT/BXSV0shtCOQgEgBTdLZ5b/GYqKwmy7Zzlf5oe0m8lUXQNjkGG7RNeIzDRsDfgB4tvN+GYQlIzkd1Qlmhe0RDuPY3IgHQ7jLit+9985KjU3+TTk1IBNRmMU+SYB+Eb7O8DMioJTzA1jSsIfSznXjsTei9EMt1K3I5QLI/Clh1fqs7lkBBKOTf4fE95PggfJ90/1+B3jux3b3Y2LYN/WuPUFojGe2Q1wdDXiJT+jjMZ1sG8kfQKVj9bjzfJgcHgUfB0WqQIl6A3puRKbbAz6ZQfxsG3wv7Z9OU4YagAFOAeciOqINIx2Q4mnAIr0ZWKsWyEa8EKFiH9jijjRIvF2RyfxzWZVFUpqXqG5Kj3m9jvVZsrGSj9oowQT6jGZYzSlIyO3TU8PgjDgsZwOsxkpi1UO2wINrdtJiWLfkMg6PbmKb2NSQDfiOe1+qQOpYllJjPp1VGwnfj+ybxgZXRg+/PzVBPG7Ii6iSDIYzm2YjuUtAgGUEuo1XBi301nE45CXdJs4lmpH4zmsYH2MJCsZRpfvmA9qySkc0ECJZ06/SrnPyLMSvxuPFF6H0Yic6cFIht3gu1ohpe2iU4s2umLTbD/DJ0dj0fZXRXycg6vEE89sYKnZxwOvAK9F6P2SAFAbvA1j0YxoVIdwmFxy8V7dCw8h9FH7CKTMMyeZqZcwzN/9a/XY+PGDkNKIf3xkTy06Zkxe+t6AfvGvlIf6zdsX5f261NEn+wMnorDLWh8z5Cs4CHJEgQsg4/iExxQhDIYJo7I0idRKxPEVVDcn7aZ0nVtaiYtflNsfEZaajsxRgcNg/bkGOGoqYxcQw7Ut8y0pIRr6Z5QWQZjSobUJM/59WmIe1vw+kijqtwPUYddwk6pLH+VYRvNA4R7qxNiRNlNiaEoS9hj5DqHZHXT2De9b90sll769aDt6H3DHQNMa08TRGm7nkdt1+Y5wu1NaQ+WmJCGvmWHGF5eYCW3ECtIzo7LrwRuHU2jKGM0BS4fC8MQbYEmXzxAf1DXAFzHsnHGufSAR6Et05Rf7T2R/aiIZDL4Tzox28/4Hon5DPeLFEss0v94rszlnHtFMkH0lAypLoo9ZsZD9afu+QTZUSObJ9S9gyW9ejlFUtkXD9lMoI003BOXpLwwiHkYzNpkNs2S45sxlJ2qWJ1kfo6SiAemiBBGtZoSDdbxlaNsv/LQMlo6zUnEIiyQa9Gx1mRHNci2xI/nyZjswoNaWRNxkAy0rtuunXSkpHkdZfQMcvVQG9EEjkgX6cE8pkBpx1KwVqSV7H83LCGkLKdkDJw+n+PPJpRlPtGjABbluWxymifVqj/lO2wQxgTYGoitz1ChHv9gH5yI26/aaItGXBlBGyWF5anxZ82SE/kqC2JFBSc7R7ifCIApYMTqZT81ZfLocjTjNJeQP5w2cNkct6O9STWjun7ivIh2TwRi4azYZ8q8pmP0ill3B6Ed8OI9yILCbm/tORIdUuweqmO04xNQvYPVs96PAg2k2SJJCyvqwj52kjHbb8fmiB9I0azYnqW4dlGlRFEORwy5v4FwcqW2OjVRrqnHTMSQdI4v16WPNq2NeS1NfeT0ZhU4FiO1Q45wenDjwhdp03Nr9IpGamGw9dPvRyL98qOZs/dFvtOI0SArEGo47ttmwx4w+Hry14KtXOdPYfVJxkuZWVOs+GWjhxkI7RPROpBuAm9a3GYRAQA8hmhcv7lb5xmvBmz77Y2yNqhowRYb0QZ2SESmwmRL6jNvlXE9bTCZqBtwH9Ye6Hhtm/E4SSbTLCBSE0q/5L9Pwsk0kL3VG08LJQgeS0G/dY+Q9IjjZyo/x5nX3togqSbp5uphtioX8pjowmrUH0e3LAX4jj5iDQB5SxF/ROSPOT4a5YNKuQRipycnOJB+GZ0bNukBQMVzYpcXg/PFT6RWVcPC0Xk0qWanGhbSD5H7RSSSZmhEoFv4v7nH/K5PceNhrygX9ct3bIk6WEdj8iiXhomsfdCRP+0Qo7d6s0qGcHh27Eb36Wj+h2K7ZZgnGa8HCN96Yq9XjvU0cc8XPoB2CU9M8tmxu3vQCq5OO0BCcC1KCclAiDPFg4J8tnhcDV5u6Tp+rI/ys7KrykQmXD4LNXjxO/FCSRWPhqW7hMy+C8fwZ7eJj3TcZt8+QedX1nIGcs1bOvEQxOkP4beNyLTK4eLyrStHJkiFZtdOgxa8pmnZ6FjCTdiLZVS9DWpA9g22IhWclKm5EFE4GXovRvvhY1KbMbqtMtLRFLXbx2RYI35w5BkmymSLtlVtBW1nVbcjJMXdH/7xUvQvT5s/7LfW0VIBcnsNMsIcl2ytqa0OwogDoO3igLZkiQpmLHDA6e5z70RdancXuqUHQF4EN4qHNUbZrhFutXEfQr8TrsuvWaG6a3NscHuUfC2kdHrxn/aYVnpkgqbv3hKivoPwnvQe49Qg2R1R/I5ajBl9ehmzLgpc62gTSNRZWH8uvFrj/Llb5olkOxw0JhUcG233yURAA0BlJ3qIFgSBuEG3DzliiO8GuWkNjekGiORINUa2eLs62FoqPfuIWSkrEv58EPJ67Sn+98wuiT9UNQmYrRvtj8MyuyddQCKesYs13mdJoxJulPWupTE5ih95Pk4ZC4DVMJmXqSrpxU3oKdCWslHREZESfd9gzDT9LDnfj7OsJJe6h7opcBG9+g04xr0dlmuXbSZjA3CMgjvPIStfRl6IkeSi+zdmJBNefsU9zXhj+KMsYb8fktONaHM4ag4KMsr/RHePwMygmSbZL+V/XqUYdQyEysbNyGfkHNceKQibYDvkVJpNQcPIdkhEWVKmkP+xoT8wX4q6D1u9rhO/IhU7FeTMhfKJkE+vHbU6HNOyhbJkamjff2MyOkWaXzZPgVcMoP7L3J4EF6ItRbWoKmjiRg1PL41fI6C26Sh7Zp87VFlKQVlfA6DdwiL5JffE3kUMbpLmPl1mkkkpDR9qUuQR/0aPjws1O6XYiYPUmZSxrzh7Dh/O5xhMyJ2qOco2X6Ll+PQviVc+v8s2W6VJmg6+sjsU6b+YTAmyF82CJLfbB7ynI8TdoLMS9Bp9OiomX6LHfL6UBuo7TzCeQ+LtSjpp6Nh1c2tyQmANUASVsvqmWsPwnux093m9E9ft/itmH60aUe7fLwlShA63bWHaN/7sVBywuNb3PBR8GkzhFSTIlg5OqVXlXI9ytj2a3GsvI6fRdTPAjGy+C0jI7uw9jb5YvYa0jiqM7puiiRFuBuCrP/ILMp22vHbceaQJUib8aV2yRk9qg5cg07DMS9Cd9jM+GnA78T7rdeIsDyGZDQkkOOvn6E2HSdeiCUTst2vulwy/E6Uz4DH9wiUdeGRM0gAPymE8Ckzm8EO9dht8HBp+m9ztoiR8JcHyEgRek1ukCpCRzxKFPoKdB/Ec4wfcOxpRalLIgM1KcqVYxtyNGd0i1TPBoef5n3aUOpSKSMRSb0fVY/2CKTBEva78f2skCOAH5tr/VQkSzWJbCuju45aodvm/7NEjgA+hN4nYwCnfrVFrkenuZ7qpPEBiXSv+zmV5wEfniOZnFhD1AFtseScZWP/JEOkCRKJ/LHLJ0NJvltcRiVK8n2eDNa6YDO64DJaBemR22iH4zHgE2ekyNrhcDgcDofD4XA4HA6Hw+FwOBwOh8PhcDgcDofD4XA4HA6Hw+FwOBwOh8PhcDgcDofD4XA4HA6Hw+FwOBwOh8PhcDgcDofD4XA4HA6Hw+FwOBwOh8PhcDgcDofD4XA4HA6Hw+FwOBwOh8PhcDgcDofD4XA4HA6Hw+FwOBwOh8PhcDgcDofD4XA4HA6Hw+FwOBwOh8PhcDgcDofD4XA4HA6Hw+FwOBwOh8PhcDgcDofD4XA4HA6Hw+FwOBwOh2MN6J3kj70EXR+ogG9C703oZsA87t8Hrp3wNTkcDofD4XCUOFEy8l4kSANgg0CUJkBjjmmBr5jreh66d55g0vQt6O4CYwKR/OYTLAuHw+FwOE4KJ+Js/wq6TaBPcPJ98/+EkDmqzPF9AlG6DXwX2AHefgKIwdtRTjVBHiOCbPYIBGlmju3H9zvAq0+AbO6Hb0H31SdcBg6Hw+FYL47dqfw1dFsXCV6/Aaaw34Z9yh5VhIwShOxSFRnU7jwQpF0CYerH42+cM2f4BnTPAZcJYuoDPZNi222DrACG8ZhRPO4W8DvnTB4PwlvQXQa2gU9B7xfQ7RD0ZEoglXV8feUJk43D4XA41oNfP64TvwPdNrDVB7YInh1gDm0bsiENgfgIAx02BPowmsNTcd9+3L9/XBf8GPAydFeALwCfE/MRhuTCIRCiCtgEek+FDVc/ChmU2wQSpZquPz7HxOALBDLZewq6io5d2JwGcVUE0W0TdO8XLd2/dY5lcT+8Bd1Vgjw+HWXwFnQN8PITKpMH4UXoZGdanozMtcPhWI1jI0hfIPr7TVLBUUtgRfPw1sRjNeSm/wfztEHZJW0aEQhBA7x4xo3Xl4GrwNMb8Z8+KQXShtd+m0jhjMQzxZYGF+HqvXCMOJUdijtP+CV0gz6hoSMCCwJooJ4mgqjhSTbD/7/Yo/se8EOerEkAzwJPXwQq+NUe3R6hz02Ad6GrCWr0pGUgS7wF3ZAgF9mZFnjlCZeLw/GkY+0E6cfQfbZPIEY1wZlVJBbUJiM9N99rSQ6+aqEfiUE/nmYQ/9fpRgTDNo7nOmvFy9+C7ktA9RngCqGRYjYSTpM27ZNqtkbAhQmLDNMonqIiZeVuRNmcNbmswl9Bt32RkInsFztNSlG7GoKctmZADdUmfGG8/NXzjJ9Cd2mDhWL0gMt7SQYzUpf8ELonkSRdjxncZ0kVABrKtsnba7Evnees7FFxLU64ue4ycZxjrJ0g1RDGP+T09wlZkQaYwGwaCo7l36u4W5HbnMSrlDHSdhmtIWk4bpNwvrOGq0D1DMk6z+KrBabBIqtGS21vSSSpugeDWJhVbcBn5zCKtUoTgmyGnG1ch+4PgO2LBIEN4g5l2Jr4GudZM+3avAe9yKyrTfjSGH4C3R1CvdJ5Hma6dJHUeQoSKZKkur7fgd5PoJvzZGWTrhLM1Ai4MIRLLdRt6GN2KL8GXnuC5HI/vAVd++DDHI5zgeMhSDWBJI0I7GUM7AWnvwvcJZAiyKN+EaEY+LMJXOoHx29JFYRhtxFp5O4GdLc4O1HeZQgFVtsEayxm04SX/QihjfskvjkhDCtVYol9uDQOO0WoBoSZcRPOJhnYjK9FbZa8lpjiDBjDx+3qjGRDzLSNgA3oDeHpvUAs+8DNmBm4fgZl80BUJEIZx11tkDEwh/51HG6DQCA/fR7lsQI1IYi40Cd0yBZGd1IW6cPYd8YE+yL79KTOGn0fOpl0yehc9yHHE49fW+fJfgxdpWLjLYJ3G8Wd+8lAy7dp2Eif9a6E04Bwjt7F4NCUZIFUjGtndZ0VcgTQ2yQvXlf2qA2hvDJF0/iyji3yAu4Sw/6KBYlQ9NsnkMiaIJvXoTveFq0fI2KztHhWiQb250lOyoiohmQC/ExMacBCaXRMHX/j2hmUzSq8B91Poes26BZ6pQ43TypWQsPb1Ubg6z84J/K4H1R3NIAUbfWTuMTF+2b3NmnSyJOIq6RYRXKC0K1eeQJ0xvHkYa0ZJBXGsgkoxd8SLMs81BbV02CMG9KwUYmZea9iT5QTpPiehuHO3Ow2kUcVXtUsGGRvA5jmBdeawSbnLrI4Ai7E1NL+NMlJxl+kYfNkWrVWjICByNGQtBZES2CI7WLliEVNTWW+r6Hbeg4DKcg8J9nW0J91XAEuqf+JJcaoY3+ezxq1u4n/D/owGMLmPGQLxoQ1yM5jYftlUn9aIMpIRFJ6UpNikH1CVlZZlAkhK/7uOZTRKsTSyKUZyKNVBzscZxxrJUgVpLC8IlVTP8Vi5tH2D2EyTVkiOTYVYUMaHtkBGIdOuUeqrbHGS9HvVc7Y8MAmqeJcn2sWY2obH4R369BEAJR50yKSF+6EwoDbhKwS5PVHg/h6F7qztC5QDakYrSKlxCSUMbTTJI8N8kVIZ+kwtmOh2s/afHhXhf/Xobt+hmSzCosA5TLhhsuDz3MyVNYh6X1gxuAGBFGfR3IEyUQt+kk0SA1p+EjQcXXc1zefAW6eUxmVEDmS7VbwJV25GeuTzuJwvsOxCmslSH1IFqcxOzRWEtMYT30nOPKGfFjEQsNIcnR78djN+Fk1J/uk9He9tpacAMQC1XhZ7FiAfGEHhtN0KCQZSSYaRvqLWFi6E09Zx+P2zbHiqj+A7nfPkgFT4+WRbHZkB/rj5UNFoEUIZoTJAfvhK0zICTnx/+uRJL0C3Y2zJKOIRf+rSSuOxrFs6cs+iZOLQKrLdvNFzftihfvzioq4npiWIJlBZwI3yHVEJkw6ZgO8JwHvxqVVJuYFKbk7ZPUkU4fjLGOtNUgDjeuI3ewQmM2cNOXsKbhw8WAyYwtJ5yzquxdr3LRm+11SZ50BvT78HLoPoXszjol/7bSOjUtGsbAaSMUOscC9Lr4ix2/KlRan2SURSnv8fvEuZ/gadC+cVtlEtIShoUWDlUmqWaytVRrkuXmpFktcVI6/nCAAuTOs19qKk0NPN1cFVjULAUgH7BCJrSGx5Nsknrh5ynXkYfEp6PW0HHsc85+QMiQlAeoThiA3SCbuNei1wGnvR4+CG+FZmF2ffOLIDejdgF7D8tDtm+dYHo4nC+udxabhENWI2EF8ZUjmwCClrUWIbCRmU99ljdJ+PFb1NS1pVlfbpozJ12MGYINTiilBRg1BNluk0D56cKXyVYAspy/HZkforJxsLY4lDE3c9m5cefvtU54laeLrkgQgFmNqayDVb1tyLR2xyx1IDoLk1Jhtr0F3DXovQ/fGKZfPEjTeMSB1FCMU9TPtHpiv9QkBBm36am2Osfg96N47a7K5HyIjkqiUOdO7+Dkk23Q9tv/M6cgR0Qeeh947cfisIbc1dnjxzTjLrU94SsB5l43j/GOtBKl3j17Xp1sM5CsPOyLNJIrpHjl369QgH++Pme8F5NAq81mwJGJqtr91yjrpm3GBSHYJMlFuGpLzj/vk61RTI0IIKdk0MtuVZNF2Obqy6NQa/NOM34Peh9CNxtDTmI+s9C4L/ZIeWF0Rn1LCSbokeY1I9WySsSWfZ0E+Jbop9LQWhNKs4zB0ZoexSzkt2toPC7TaPrYK54Ycxc7R3ctX9S8JpLJqVZuOeVKgeqLn4/tN6L4Z/38lPpZFn79+XvTC4YhYK0HqnompVWVH9shTQSYEqQkjbjYqkRHXvpq0gGRdvNtMgd6tg3sLuhdPaSZgnzDjbGC9sWohGoLcpmlUUu0qieQWSYaqMYq18ItTaSaXJUktYS2XV85Arc2EoEpbu6SpRxPgTnBskNbZFH+ycqoJ8ugNYXuek2sR6iF50T+czcLbPWIx+ohw43dgP9ZoKbiYFt+xw6+Dfup7Q4KYnz+DcjgsunuJ/ChbOyL1kYq09tiYJMMvnmOZPAhbpCcYwNlfjPY48GIcYjxtwbnj6FjvEJumEc0Ia9TE8a8BhEg2prGrPmxtxIUOCckAO4ZtM0UyVDVpYTeRKh3frvi+UBMUdg94/xQorAzKjDAkuA9cGJOmyIzjUs/ApWFa3XeXfGZWn1gPsRGI1n4bPl/QjhaqaRpisuRRdQK7x9jOdaEliGXzDvSUidwLq4I2hPZe6MNwnmpDJKfF0FEUwqAPW2Li87DAJOa4lvzRLC9Cd5aM3C5BTgMIQ2V7UXbAhRVLR4h0S16DeZDRdhtke56JwLvRJkhfLhMWpaXNCdKMVHdjh66fVGj9X2W1hwRbcpfzO+PxqDhLNsNxf6yXINmCmDYZn/40jbj1gS+00LsKVQXP/Sg8EqIhz3hodE5DRBo2GvTDYLiM1Yz0fFdIwyUV4XlnO5yuxwRY8rYgLXO4cCu0a48ghytAdRXYhO3bsHEnFRg3JAN1IZIj+X27AJIybnYIjrhbM+ZPM16PkVhLzCLdAm7Dx9PweQRhCYkrcGkHqo/SKu0ZUS7HIKMOSZaqTbpu9OTluAbnWUJDIElbd9Li7DXQi4/+uXAbNsf5ivRWNF0b6pBizfK5RkPQlZYgo0t9YBNGe/lDa/WyNXxPKt6Nxdqa/KD+JXv7yhnISDscR8HaCFLXj8Nrsrbz5ND3SYXUQ6Kz6xOcWx+2bsPWOKxRs0My4I05nbID/WjZa9KyQdoHeYRnh05OC+SM7RDhDJhHkiOjvQ9UNfGhbXABuLAXZKQk3QQWRFSLQzINmbnWnNsOOWm7yNNrsSj5uNr7KFANlRy2skR22JUtgoz6UE1g616qY1NbP25hMM2H4BqCHn7lgLY3nL06JM2+UvtHmMdobAINjMb59H7JsonvgzYtfnieoXs7wqzW3i4XakPKZOv1Lei+ekr7zHHC9pU3YvAiklTaGYfjPGBtBOnjNqzdo4KQWZtIkYyNhpfGBFK0YDMxZ3tpDyZtmo5dzqCJI0fZLDc7sckeB7mROy14EXrfMsalMftqwqzjhtieXVIRUgWM4FIDzNPSB/HjgvQ0pBqkGUmWDeF+vBqN3JsxGjzNQwbXoCdDXBGLri9CJUYsBiRGPQjDt8M2jVhKBjrU1uA09/nts5gm/zr0fgzdlkhRxdJULAUbNjOiTK+GnGJt97nOCLwY2/XLqF9djFzUV2y2VYlHEevmZC/1VGJMPot2zvmf0ed48rA2gvQJ6HEHfgVdr58MjRy3OpL82V/cg6e/Q1oaILIhRSSqjbDokzIlFcloTYDfLTrnX5sHTZ42fDVOm1VkquZfil6rjoZ6dgcqCcGkwmzbG/JnR0luddx3UIbk69C7GWV0mqFh2RmB/PAcgQFOgFuElGMck90fp7WebO2VhtL0Esk+jQT6UfC6Hjr7LEFOEJZXVyp3J/XLmvT0FpuR1NwKDTOddwwuE3RnnlbRbkjESDMhIQ2znUabctIos0WnqYzB4VgX1luDBHwbGLX5g2UVsQoz4A4wbcNq0RUpO6Tp+oIdilI2RIRLQwRluvsH0fHvAa+c0o57i5AcUj2QxT7JWG+M07Rjtdmu9ivYIQDVcN1vePHlWAv+zVMqH0HOaKQNWgOiCa+P5zC4lz8ioibpBuRF2HaI7bQNvz4qXoXeH0K36FDy6DshQzImTYhQv7LrRKnvqe+exZl8R0YbyNGYpEN2CFyiHJF05vqTIJcHwAYXPpPNcV6xdoIksnIzLhpWk+qGG5JzmhDqbWrymhFFcJhtcvqWONUEp/diYaxeiYsgbrD8TKXThOvxul+PTxVvCPVFbRucmIq1ZaA13KhovywiheWlD+6XATgr6fCbRk5/0casYwWzMfyQlOq3o26WQCvbJlhycB4zJN8DNr4DF34ETOFft0GXIOmNyHZDemayJZFwdvTjUfG/jdMEEulGn2R7+oT+p2xk/4DzPGlQrZvs0reg2+d8LwvhePKwdoIkTAkzsRT52ynFUwI5ugG9a2b1VUWvkIiTCJXWI4H7D4/cMB30G2dgyXsVDqvuo8yGQSikrkkGXIvYjVjOPukYjVyeF7waZut3n57SW1rMh/AcNasXko/W07LESDiPke8iYLi3ev9189gIW1hrh3vPk948CL+3or+9Em2SCLQN1Aac7okNJ4U/ht5Lxr4O8IUiHecPa30Wm0VDMiq/Db0dQjnEj+LrRuxMO6SsUcODnzguKHJ5LXbSL64gQ6d9+AgSAfwq9L57wDFK/89IxdYlQRRxslNwa5J8zgNevs/93CE5fA1BzsxL8oHzK5/DYEz++BnpVEO+/s91I5dT+zzDY4JqsPSydVkzgnyuPWEyWYUxofboVejdXrH/SdMbx/nDsRKI12Mk9vUH/M5L8ThFsDUpOyJnZ8mRylBELl6B3lege/cMEKJVeAm6+9V7vAjdlfi/CKTNjsjJ2SECDS2NSTPXzjteiY8+0BCSho8q8uEliymBsJ/FWWsPi5fisO6IMGtSWd6GXI8UuDwpw20WL8SMpO1nkIik6vyeiDqth8Dz8dltf+rycZxhHNsQGxzeMY9JD9G0CxiKFB2UTdK2V874dOQHGVk7a+at+IgQfV48JoJUzG2zSfvAH0H3x2dYPofFHZJBfsUsMmnJkTKPypY0PHnrt9w0MqrJF0JUhkQ4j3Vah8HbRX95PdbYaGjt5UgAHKvxzhNgbxznH8dKkA4LG2X8EXRbxf5VNREiTeexjqRE+XDQCSnqL+uSND35SXRsVo/G5NmjKekJ9eWEgCdRVhAI5Q3ovQ6dpvnPSY8FtDNRn3S8Cr0XzXD+DsvrtDkcjvOFU0GQLP4Yet+IQwBCuRjkgDTMBk9eBkBZpJoU/UO+oJ3+L5dYeFLwNvRqE+U3pLq31+J2ZZaeVIhQ3ib0O7tPZKDMpDzJ0DDsaXimo8PhOH6cyo7+Fei2CQRIa5DUcZ8c3ohAkvZYnur/pEJLBsj5a8jtDssO8EnHy9C9Ab2vQdfgTs/hcDgcOU5dBgnAFlu/CN3nSNP+7YrRU3xVW4sJadq/nc3l5CjH1+KT3MGLSB0Oh8OxGmfGObxhhpQ0jBSfF3Vm2nCSeOWMF647HA6Hw/E4cSozSKvwAWnxQy1qd/exXtHpxp3HfQEOh8PhcDgcDofD4XA4HA6Hw+FwOBwOh8PhcDgcDofD4XA4HA6Hw+FwOBwOh8PhcDgcDofD4XA4HA6Hw+FwOBwOh8PhcDgcDofD4XA4HA6Hw+FwOByONcOf1eVwOBxnCP82dI/7GhyOJwG/9rgvwOFwOBwOh+O0wQmSw+FwOBwORwEnSA6Hw+FwOBwFnCA5HA6Hw+FwFHCC5HA4HA6Hw1HACZLD4XA4HA5HASdIDofD4XA4HAWcIDkcDofD4XAUcILkcDgcDofDUcAJksPhcDgcDkcBJ0gOh8PhcDgcBZwgORwOh8PhcBRwguRwOBwOh8NRwAmSw+FwOBwORwEnSA6Hw+FwOBwFnCA5HA6Hw+FwFHCC5HA4HA6Hw1HACZLD4XA4HA5HASdIDofD4XA4HAWcIDkcDofD4XAUcILkcDgcDofDUcAJksPhcDgcDkcBJ0gOh8PhcDgcBZwgORwOh8PhcBRwguRwOBwOh8NRwAmSw+FwOBwORwEnSA6Hw+FwOBwFnCA5HA6Hw+FwFHCC5HA4HA6Hw1HACZLD4XA4HA5HASdIDofD4XA4HAWcIDkcDofD4XAUcILkcDgcDofDUcAJksPhcDgcDkcBJ0gOh8PhcDgcBZwgORwOh8PhcBRwguRwOBwOh8NRwAmSw+FwOBwORwEnSA6Hw+FwOBwFnCA5HA6Hw+FwFHCC5HA4HA6Hw1HACZLD4XA4HA5HASdIDofD4XA4HAWcIDkcDofD4XAUcILkcDgcDofDUcAJksPhcDgcDkcBJ0gOh8PhcDgcBZwgORwOh8PhcBRwguRwOBwOh8NRwAmSw+FwOBwORwEnSA6Hw+FwOBwFnCA5HA6Hw+FwFHCC5HA4HA6Hw1HACZLD4XA4HA5HASdIDofD4XA4HAWcIDkcDofD4XAUcILkcDgcDofDUcAJksPhcDgcDkcBJ0gOh8PhcDgcBZwgORwOh8PhcBT4/wGt9lKbRCOg4gAAAABJRU5ErkJggg==&quot; alt=&quot;overlay&quot;&gt;\n",
              "    &lt;/canvas&gt;\n",
              "  &lt;/div&gt;\n",
              "\n",
              "  &lt;script&gt;\n",
              "    /*! jQuery v3.6.0 | (c) OpenJS Foundation and other contributors | jquery.org/license */\n",
              "!function(e,t){&quot;use strict&quot;;&quot;object&quot;==typeof module&amp;&amp;&quot;object&quot;==typeof module.exports?module.exports=e.document?t(e,!0):function(e){if(!e.document)throw new Error(&quot;jQuery requires a window with a document&quot;);return t(e)}:t(e)}(&quot;undefined&quot;!=typeof window?window:this,function(C,e){&quot;use strict&quot;;var t=[],r=Object.getPrototypeOf,s=t.slice,g=t.flat?function(e){return t.flat.call(e)}:function(e){return t.concat.apply([],e)},u=t.push,i=t.indexOf,n={},o=n.toString,v=n.hasOwnProperty,a=v.toString,l=a.call(Object),y={},m=function(e){return&quot;function&quot;==typeof e&amp;&amp;&quot;number&quot;!=typeof e.nodeType&amp;&amp;&quot;function&quot;!=typeof e.item},x=function(e){return null!=e&amp;&amp;e===e.window},E=C.document,c={type:!0,src:!0,nonce:!0,noModule:!0};function b(e,t,n){var r,i,o=(n=n||E).createElement(&quot;script&quot;);if(o.text=e,t)for(r in c)(i=t[r]||t.getAttribute&amp;&amp;t.getAttribute(r))&amp;&amp;o.setAttribute(r,i);n.head.appendChild(o).parentNode.removeChild(o)}function w(e){return null==e?e+&quot;&quot;:&quot;object&quot;==typeof e||&quot;function&quot;==typeof e?n[o.call(e)]||&quot;object&quot;:typeof e}var f=&quot;3.6.0&quot;,S=function(e,t){return new S.fn.init(e,t)};function p(e){var t=!!e&amp;&amp;&quot;length&quot;in e&amp;&amp;e.length,n=w(e);return!m(e)&amp;&amp;!x(e)&amp;&amp;(&quot;array&quot;===n||0===t||&quot;number&quot;==typeof t&amp;&amp;0&lt;t&amp;&amp;t-1 in e)}S.fn=S.prototype={jquery:f,constructor:S,length:0,toArray:function(){return s.call(this)},get:function(e){return null==e?s.call(this):e&lt;0?this[e+this.length]:this[e]},pushStack:function(e){var t=S.merge(this.constructor(),e);return t.prevObject=this,t},each:function(e){return S.each(this,e)},map:function(n){return this.pushStack(S.map(this,function(e,t){return n.call(e,t,e)}))},slice:function(){return this.pushStack(s.apply(this,arguments))},first:function(){return this.eq(0)},last:function(){return this.eq(-1)},even:function(){return this.pushStack(S.grep(this,function(e,t){return(t+1)%2}))},odd:function(){return this.pushStack(S.grep(this,function(e,t){return t%2}))},eq:function(e){var t=this.length,n=+e+(e&lt;0?t:0);return this.pushStack(0&lt;=n&amp;&amp;n&lt;t?[this[n]]:[])},end:function(){return this.prevObject||this.constructor()},push:u,sort:t.sort,splice:t.splice},S.extend=S.fn.extend=function(){var e,t,n,r,i,o,a=arguments[0]||{},s=1,u=arguments.length,l=!1;for(&quot;boolean&quot;==typeof a&amp;&amp;(l=a,a=arguments[s]||{},s++),&quot;object&quot;==typeof a||m(a)||(a={}),s===u&amp;&amp;(a=this,s--);s&lt;u;s++)if(null!=(e=arguments[s]))for(t in e)r=e[t],&quot;__proto__&quot;!==t&amp;&amp;a!==r&amp;&amp;(l&amp;&amp;r&amp;&amp;(S.isPlainObject(r)||(i=Array.isArray(r)))?(n=a[t],o=i&amp;&amp;!Array.isArray(n)?[]:i||S.isPlainObject(n)?n:{},i=!1,a[t]=S.extend(l,o,r)):void 0!==r&amp;&amp;(a[t]=r));return a},S.extend({expando:&quot;jQuery&quot;+(f+Math.random()).replace(/\\D/g,&quot;&quot;),isReady:!0,error:function(e){throw new Error(e)},noop:function(){},isPlainObject:function(e){var t,n;return!(!e||&quot;[object Object]&quot;!==o.call(e))&amp;&amp;(!(t=r(e))||&quot;function&quot;==typeof(n=v.call(t,&quot;constructor&quot;)&amp;&amp;t.constructor)&amp;&amp;a.call(n)===l)},isEmptyObject:function(e){var t;for(t in e)return!1;return!0},globalEval:function(e,t,n){b(e,{nonce:t&amp;&amp;t.nonce},n)},each:function(e,t){var n,r=0;if(p(e)){for(n=e.length;r&lt;n;r++)if(!1===t.call(e[r],r,e[r]))break}else for(r in e)if(!1===t.call(e[r],r,e[r]))break;return e},makeArray:function(e,t){var n=t||[];return null!=e&amp;&amp;(p(Object(e))?S.merge(n,&quot;string&quot;==typeof e?[e]:e):u.call(n,e)),n},inArray:function(e,t,n){return null==t?-1:i.call(t,e,n)},merge:function(e,t){for(var n=+t.length,r=0,i=e.length;r&lt;n;r++)e[i++]=t[r];return e.length=i,e},grep:function(e,t,n){for(var r=[],i=0,o=e.length,a=!n;i&lt;o;i++)!t(e[i],i)!==a&amp;&amp;r.push(e[i]);return r},map:function(e,t,n){var r,i,o=0,a=[];if(p(e))for(r=e.length;o&lt;r;o++)null!=(i=t(e[o],o,n))&amp;&amp;a.push(i);else for(o in e)null!=(i=t(e[o],o,n))&amp;&amp;a.push(i);return g(a)},guid:1,support:y}),&quot;function&quot;==typeof Symbol&amp;&amp;(S.fn[Symbol.iterator]=t[Symbol.iterator]),S.each(&quot;Boolean Number String Function Array Date RegExp Object Error Symbol&quot;.split(&quot; &quot;),function(e,t){n[&quot;[object &quot;+t+&quot;]&quot;]=t.toLowerCase()});var d=function(n){var e,d,b,o,i,h,f,g,w,u,l,T,C,a,E,v,s,c,y,S=&quot;sizzle&quot;+1*new Date,p=n.document,k=0,r=0,m=ue(),x=ue(),A=ue(),N=ue(),j=function(e,t){return e===t&amp;&amp;(l=!0),0},D={}.hasOwnProperty,t=[],q=t.pop,L=t.push,H=t.push,O=t.slice,P=function(e,t){for(var n=0,r=e.length;n&lt;r;n++)if(e[n]===t)return n;return-1},R=&quot;checked|selected|async|autofocus|autoplay|controls|defer|disabled|hidden|ismap|loop|multiple|open|readonly|required|scoped&quot;,M=&quot;[\\\\x20\\\\t\\\\r\\\\n\\\\f]&quot;,I=&quot;(?:\\\\\\\\[\\\\da-fA-F]{1,6}&quot;+M+&quot;?|\\\\\\\\[^\\\\r\\\\n\\\\f]|[\\\\w-]|[^\\0-\\\\x7f])+&quot;,W=&quot;\\\\[&quot;+M+&quot;*(&quot;+I+&quot;)(?:&quot;+M+&quot;*([*^$|!~]?=)&quot;+M+&quot;*(?:&#x27;((?:\\\\\\\\.|[^\\\\\\\\&#x27;])*)&#x27;|\\&quot;((?:\\\\\\\\.|[^\\\\\\\\\\&quot;])*)\\&quot;|(&quot;+I+&quot;))|)&quot;+M+&quot;*\\\\]&quot;,F=&quot;:(&quot;+I+&quot;)(?:\\\\(((&#x27;((?:\\\\\\\\.|[^\\\\\\\\&#x27;])*)&#x27;|\\&quot;((?:\\\\\\\\.|[^\\\\\\\\\\&quot;])*)\\&quot;)|((?:\\\\\\\\.|[^\\\\\\\\()[\\\\]]|&quot;+W+&quot;)*)|.*)\\\\)|)&quot;,B=new RegExp(M+&quot;+&quot;,&quot;g&quot;),$=new RegExp(&quot;^&quot;+M+&quot;+|((?:^|[^\\\\\\\\])(?:\\\\\\\\.)*)&quot;+M+&quot;+$&quot;,&quot;g&quot;),_=new RegExp(&quot;^&quot;+M+&quot;*,&quot;+M+&quot;*&quot;),z=new RegExp(&quot;^&quot;+M+&quot;*([&gt;+~]|&quot;+M+&quot;)&quot;+M+&quot;*&quot;),U=new RegExp(M+&quot;|&gt;&quot;),X=new RegExp(F),V=new RegExp(&quot;^&quot;+I+&quot;$&quot;),G={ID:new RegExp(&quot;^#(&quot;+I+&quot;)&quot;),CLASS:new RegExp(&quot;^\\\\.(&quot;+I+&quot;)&quot;),TAG:new RegExp(&quot;^(&quot;+I+&quot;|[*])&quot;),ATTR:new RegExp(&quot;^&quot;+W),PSEUDO:new RegExp(&quot;^&quot;+F),CHILD:new RegExp(&quot;^:(only|first|last|nth|nth-last)-(child|of-type)(?:\\\\(&quot;+M+&quot;*(even|odd|(([+-]|)(\\\\d*)n|)&quot;+M+&quot;*(?:([+-]|)&quot;+M+&quot;*(\\\\d+)|))&quot;+M+&quot;*\\\\)|)&quot;,&quot;i&quot;),bool:new RegExp(&quot;^(?:&quot;+R+&quot;)$&quot;,&quot;i&quot;),needsContext:new RegExp(&quot;^&quot;+M+&quot;*[&gt;+~]|:(even|odd|eq|gt|lt|nth|first|last)(?:\\\\(&quot;+M+&quot;*((?:-\\\\d)?\\\\d*)&quot;+M+&quot;*\\\\)|)(?=[^-]|$)&quot;,&quot;i&quot;)},Y=/HTML$/i,Q=/^(?:input|select|textarea|button)$/i,J=/^h\\d$/i,K=/^[^{]+\\{\\s*\\[native \\w/,Z=/^(?:#([\\w-]+)|(\\w+)|\\.([\\w-]+))$/,ee=/[+~]/,te=new RegExp(&quot;\\\\\\\\[\\\\da-fA-F]{1,6}&quot;+M+&quot;?|\\\\\\\\([^\\\\r\\\\n\\\\f])&quot;,&quot;g&quot;),ne=function(e,t){var n=&quot;0x&quot;+e.slice(1)-65536;return t||(n&lt;0?String.fromCharCode(n+65536):String.fromCharCode(n&gt;&gt;10|55296,1023&amp;n|56320))},re=/([\\0-\\x1f\\x7f]|^-?\\d)|^-$|[^\\0-\\x1f\\x7f-\\uFFFF\\w-]/g,ie=function(e,t){return t?&quot;\\0&quot;===e?&quot;\\ufffd&quot;:e.slice(0,-1)+&quot;\\\\&quot;+e.charCodeAt(e.length-1).toString(16)+&quot; &quot;:&quot;\\\\&quot;+e},oe=function(){T()},ae=be(function(e){return!0===e.disabled&amp;&amp;&quot;fieldset&quot;===e.nodeName.toLowerCase()},{dir:&quot;parentNode&quot;,next:&quot;legend&quot;});try{H.apply(t=O.call(p.childNodes),p.childNodes),t[p.childNodes.length].nodeType}catch(e){H={apply:t.length?function(e,t){L.apply(e,O.call(t))}:function(e,t){var n=e.length,r=0;while(e[n++]=t[r++]);e.length=n-1}}}function se(t,e,n,r){var i,o,a,s,u,l,c,f=e&amp;&amp;e.ownerDocument,p=e?e.nodeType:9;if(n=n||[],&quot;string&quot;!=typeof t||!t||1!==p&amp;&amp;9!==p&amp;&amp;11!==p)return n;if(!r&amp;&amp;(T(e),e=e||C,E)){if(11!==p&amp;&amp;(u=Z.exec(t)))if(i=u[1]){if(9===p){if(!(a=e.getElementById(i)))return n;if(a.id===i)return n.push(a),n}else if(f&amp;&amp;(a=f.getElementById(i))&amp;&amp;y(e,a)&amp;&amp;a.id===i)return n.push(a),n}else{if(u[2])return H.apply(n,e.getElementsByTagName(t)),n;if((i=u[3])&amp;&amp;d.getElementsByClassName&amp;&amp;e.getElementsByClassName)return H.apply(n,e.getElementsByClassName(i)),n}if(d.qsa&amp;&amp;!N[t+&quot; &quot;]&amp;&amp;(!v||!v.test(t))&amp;&amp;(1!==p||&quot;object&quot;!==e.nodeName.toLowerCase())){if(c=t,f=e,1===p&amp;&amp;(U.test(t)||z.test(t))){(f=ee.test(t)&amp;&amp;ye(e.parentNode)||e)===e&amp;&amp;d.scope||((s=e.getAttribute(&quot;id&quot;))?s=s.replace(re,ie):e.setAttribute(&quot;id&quot;,s=S)),o=(l=h(t)).length;while(o--)l[o]=(s?&quot;#&quot;+s:&quot;:scope&quot;)+&quot; &quot;+xe(l[o]);c=l.join(&quot;,&quot;)}try{return H.apply(n,f.querySelectorAll(c)),n}catch(e){N(t,!0)}finally{s===S&amp;&amp;e.removeAttribute(&quot;id&quot;)}}}return g(t.replace($,&quot;$1&quot;),e,n,r)}function ue(){var r=[];return function e(t,n){return r.push(t+&quot; &quot;)&gt;b.cacheLength&amp;&amp;delete e[r.shift()],e[t+&quot; &quot;]=n}}function le(e){return e[S]=!0,e}function ce(e){var t=C.createElement(&quot;fieldset&quot;);try{return!!e(t)}catch(e){return!1}finally{t.parentNode&amp;&amp;t.parentNode.removeChild(t),t=null}}function fe(e,t){var n=e.split(&quot;|&quot;),r=n.length;while(r--)b.attrHandle[n[r]]=t}function pe(e,t){var n=t&amp;&amp;e,r=n&amp;&amp;1===e.nodeType&amp;&amp;1===t.nodeType&amp;&amp;e.sourceIndex-t.sourceIndex;if(r)return r;if(n)while(n=n.nextSibling)if(n===t)return-1;return e?1:-1}function de(t){return function(e){return&quot;input&quot;===e.nodeName.toLowerCase()&amp;&amp;e.type===t}}function he(n){return function(e){var t=e.nodeName.toLowerCase();return(&quot;input&quot;===t||&quot;button&quot;===t)&amp;&amp;e.type===n}}function ge(t){return function(e){return&quot;form&quot;in e?e.parentNode&amp;&amp;!1===e.disabled?&quot;label&quot;in e?&quot;label&quot;in e.parentNode?e.parentNode.disabled===t:e.disabled===t:e.isDisabled===t||e.isDisabled!==!t&amp;&amp;ae(e)===t:e.disabled===t:&quot;label&quot;in e&amp;&amp;e.disabled===t}}function ve(a){return le(function(o){return o=+o,le(function(e,t){var n,r=a([],e.length,o),i=r.length;while(i--)e[n=r[i]]&amp;&amp;(e[n]=!(t[n]=e[n]))})})}function ye(e){return e&amp;&amp;&quot;undefined&quot;!=typeof e.getElementsByTagName&amp;&amp;e}for(e in d=se.support={},i=se.isXML=function(e){var t=e&amp;&amp;e.namespaceURI,n=e&amp;&amp;(e.ownerDocument||e).documentElement;return!Y.test(t||n&amp;&amp;n.nodeName||&quot;HTML&quot;)},T=se.setDocument=function(e){var t,n,r=e?e.ownerDocument||e:p;return r!=C&amp;&amp;9===r.nodeType&amp;&amp;r.documentElement&amp;&amp;(a=(C=r).documentElement,E=!i(C),p!=C&amp;&amp;(n=C.defaultView)&amp;&amp;n.top!==n&amp;&amp;(n.addEventListener?n.addEventListener(&quot;unload&quot;,oe,!1):n.attachEvent&amp;&amp;n.attachEvent(&quot;onunload&quot;,oe)),d.scope=ce(function(e){return a.appendChild(e).appendChild(C.createElement(&quot;div&quot;)),&quot;undefined&quot;!=typeof e.querySelectorAll&amp;&amp;!e.querySelectorAll(&quot;:scope fieldset div&quot;).length}),d.attributes=ce(function(e){return e.className=&quot;i&quot;,!e.getAttribute(&quot;className&quot;)}),d.getElementsByTagName=ce(function(e){return e.appendChild(C.createComment(&quot;&quot;)),!e.getElementsByTagName(&quot;*&quot;).length}),d.getElementsByClassName=K.test(C.getElementsByClassName),d.getById=ce(function(e){return a.appendChild(e).id=S,!C.getElementsByName||!C.getElementsByName(S).length}),d.getById?(b.filter.ID=function(e){var t=e.replace(te,ne);return function(e){return e.getAttribute(&quot;id&quot;)===t}},b.find.ID=function(e,t){if(&quot;undefined&quot;!=typeof t.getElementById&amp;&amp;E){var n=t.getElementById(e);return n?[n]:[]}}):(b.filter.ID=function(e){var n=e.replace(te,ne);return function(e){var t=&quot;undefined&quot;!=typeof e.getAttributeNode&amp;&amp;e.getAttributeNode(&quot;id&quot;);return t&amp;&amp;t.value===n}},b.find.ID=function(e,t){if(&quot;undefined&quot;!=typeof t.getElementById&amp;&amp;E){var n,r,i,o=t.getElementById(e);if(o){if((n=o.getAttributeNode(&quot;id&quot;))&amp;&amp;n.value===e)return[o];i=t.getElementsByName(e),r=0;while(o=i[r++])if((n=o.getAttributeNode(&quot;id&quot;))&amp;&amp;n.value===e)return[o]}return[]}}),b.find.TAG=d.getElementsByTagName?function(e,t){return&quot;undefined&quot;!=typeof t.getElementsByTagName?t.getElementsByTagName(e):d.qsa?t.querySelectorAll(e):void 0}:function(e,t){var n,r=[],i=0,o=t.getElementsByTagName(e);if(&quot;*&quot;===e){while(n=o[i++])1===n.nodeType&amp;&amp;r.push(n);return r}return o},b.find.CLASS=d.getElementsByClassName&amp;&amp;function(e,t){if(&quot;undefined&quot;!=typeof t.getElementsByClassName&amp;&amp;E)return t.getElementsByClassName(e)},s=[],v=[],(d.qsa=K.test(C.querySelectorAll))&amp;&amp;(ce(function(e){var t;a.appendChild(e).innerHTML=&quot;&lt;a id=&#x27;&quot;+S+&quot;&#x27;&gt;&lt;/a&gt;&lt;select id=&#x27;&quot;+S+&quot;-\\r\\\\&#x27; msallowcapture=&#x27;&#x27;&gt;&lt;option selected=&#x27;&#x27;&gt;&lt;/option&gt;&lt;/select&gt;&quot;,e.querySelectorAll(&quot;[msallowcapture^=&#x27;&#x27;]&quot;).length&amp;&amp;v.push(&quot;[*^$]=&quot;+M+&quot;*(?:&#x27;&#x27;|\\&quot;\\&quot;)&quot;),e.querySelectorAll(&quot;[selected]&quot;).length||v.push(&quot;\\\\[&quot;+M+&quot;*(?:value|&quot;+R+&quot;)&quot;),e.querySelectorAll(&quot;[id~=&quot;+S+&quot;-]&quot;).length||v.push(&quot;~=&quot;),(t=C.createElement(&quot;input&quot;)).setAttribute(&quot;name&quot;,&quot;&quot;),e.appendChild(t),e.querySelectorAll(&quot;[name=&#x27;&#x27;]&quot;).length||v.push(&quot;\\\\[&quot;+M+&quot;*name&quot;+M+&quot;*=&quot;+M+&quot;*(?:&#x27;&#x27;|\\&quot;\\&quot;)&quot;),e.querySelectorAll(&quot;:checked&quot;).length||v.push(&quot;:checked&quot;),e.querySelectorAll(&quot;a#&quot;+S+&quot;+*&quot;).length||v.push(&quot;.#.+[+~]&quot;),e.querySelectorAll(&quot;\\\\\\f&quot;),v.push(&quot;[\\\\r\\\\n\\\\f]&quot;)}),ce(function(e){e.innerHTML=&quot;&lt;a href=&#x27;&#x27; disabled=&#x27;disabled&#x27;&gt;&lt;/a&gt;&lt;select disabled=&#x27;disabled&#x27;&gt;&lt;option/&gt;&lt;/select&gt;&quot;;var t=C.createElement(&quot;input&quot;);t.setAttribute(&quot;type&quot;,&quot;hidden&quot;),e.appendChild(t).setAttribute(&quot;name&quot;,&quot;D&quot;),e.querySelectorAll(&quot;[name=d]&quot;).length&amp;&amp;v.push(&quot;name&quot;+M+&quot;*[*^$|!~]?=&quot;),2!==e.querySelectorAll(&quot;:enabled&quot;).length&amp;&amp;v.push(&quot;:enabled&quot;,&quot;:disabled&quot;),a.appendChild(e).disabled=!0,2!==e.querySelectorAll(&quot;:disabled&quot;).length&amp;&amp;v.push(&quot;:enabled&quot;,&quot;:disabled&quot;),e.querySelectorAll(&quot;*,:x&quot;),v.push(&quot;,.*:&quot;)})),(d.matchesSelector=K.test(c=a.matches||a.webkitMatchesSelector||a.mozMatchesSelector||a.oMatchesSelector||a.msMatchesSelector))&amp;&amp;ce(function(e){d.disconnectedMatch=c.call(e,&quot;*&quot;),c.call(e,&quot;[s!=&#x27;&#x27;]:x&quot;),s.push(&quot;!=&quot;,F)}),v=v.length&amp;&amp;new RegExp(v.join(&quot;|&quot;)),s=s.length&amp;&amp;new RegExp(s.join(&quot;|&quot;)),t=K.test(a.compareDocumentPosition),y=t||K.test(a.contains)?function(e,t){var n=9===e.nodeType?e.documentElement:e,r=t&amp;&amp;t.parentNode;return e===r||!(!r||1!==r.nodeType||!(n.contains?n.contains(r):e.compareDocumentPosition&amp;&amp;16&amp;e.compareDocumentPosition(r)))}:function(e,t){if(t)while(t=t.parentNode)if(t===e)return!0;return!1},j=t?function(e,t){if(e===t)return l=!0,0;var n=!e.compareDocumentPosition-!t.compareDocumentPosition;return n||(1&amp;(n=(e.ownerDocument||e)==(t.ownerDocument||t)?e.compareDocumentPosition(t):1)||!d.sortDetached&amp;&amp;t.compareDocumentPosition(e)===n?e==C||e.ownerDocument==p&amp;&amp;y(p,e)?-1:t==C||t.ownerDocument==p&amp;&amp;y(p,t)?1:u?P(u,e)-P(u,t):0:4&amp;n?-1:1)}:function(e,t){if(e===t)return l=!0,0;var n,r=0,i=e.parentNode,o=t.parentNode,a=[e],s=[t];if(!i||!o)return e==C?-1:t==C?1:i?-1:o?1:u?P(u,e)-P(u,t):0;if(i===o)return pe(e,t);n=e;while(n=n.parentNode)a.unshift(n);n=t;while(n=n.parentNode)s.unshift(n);while(a[r]===s[r])r++;return r?pe(a[r],s[r]):a[r]==p?-1:s[r]==p?1:0}),C},se.matches=function(e,t){return se(e,null,null,t)},se.matchesSelector=function(e,t){if(T(e),d.matchesSelector&amp;&amp;E&amp;&amp;!N[t+&quot; &quot;]&amp;&amp;(!s||!s.test(t))&amp;&amp;(!v||!v.test(t)))try{var n=c.call(e,t);if(n||d.disconnectedMatch||e.document&amp;&amp;11!==e.document.nodeType)return n}catch(e){N(t,!0)}return 0&lt;se(t,C,null,[e]).length},se.contains=function(e,t){return(e.ownerDocument||e)!=C&amp;&amp;T(e),y(e,t)},se.attr=function(e,t){(e.ownerDocument||e)!=C&amp;&amp;T(e);var n=b.attrHandle[t.toLowerCase()],r=n&amp;&amp;D.call(b.attrHandle,t.toLowerCase())?n(e,t,!E):void 0;return void 0!==r?r:d.attributes||!E?e.getAttribute(t):(r=e.getAttributeNode(t))&amp;&amp;r.specified?r.value:null},se.escape=function(e){return(e+&quot;&quot;).replace(re,ie)},se.error=function(e){throw new Error(&quot;Syntax error, unrecognized expression: &quot;+e)},se.uniqueSort=function(e){var t,n=[],r=0,i=0;if(l=!d.detectDuplicates,u=!d.sortStable&amp;&amp;e.slice(0),e.sort(j),l){while(t=e[i++])t===e[i]&amp;&amp;(r=n.push(i));while(r--)e.splice(n[r],1)}return u=null,e},o=se.getText=function(e){var t,n=&quot;&quot;,r=0,i=e.nodeType;if(i){if(1===i||9===i||11===i){if(&quot;string&quot;==typeof e.textContent)return e.textContent;for(e=e.firstChild;e;e=e.nextSibling)n+=o(e)}else if(3===i||4===i)return e.nodeValue}else while(t=e[r++])n+=o(t);return n},(b=se.selectors={cacheLength:50,createPseudo:le,match:G,attrHandle:{},find:{},relative:{&quot;&gt;&quot;:{dir:&quot;parentNode&quot;,first:!0},&quot; &quot;:{dir:&quot;parentNode&quot;},&quot;+&quot;:{dir:&quot;previousSibling&quot;,first:!0},&quot;~&quot;:{dir:&quot;previousSibling&quot;}},preFilter:{ATTR:function(e){return e[1]=e[1].replace(te,ne),e[3]=(e[3]||e[4]||e[5]||&quot;&quot;).replace(te,ne),&quot;~=&quot;===e[2]&amp;&amp;(e[3]=&quot; &quot;+e[3]+&quot; &quot;),e.slice(0,4)},CHILD:function(e){return e[1]=e[1].toLowerCase(),&quot;nth&quot;===e[1].slice(0,3)?(e[3]||se.error(e[0]),e[4]=+(e[4]?e[5]+(e[6]||1):2*(&quot;even&quot;===e[3]||&quot;odd&quot;===e[3])),e[5]=+(e[7]+e[8]||&quot;odd&quot;===e[3])):e[3]&amp;&amp;se.error(e[0]),e},PSEUDO:function(e){var t,n=!e[6]&amp;&amp;e[2];return G.CHILD.test(e[0])?null:(e[3]?e[2]=e[4]||e[5]||&quot;&quot;:n&amp;&amp;X.test(n)&amp;&amp;(t=h(n,!0))&amp;&amp;(t=n.indexOf(&quot;)&quot;,n.length-t)-n.length)&amp;&amp;(e[0]=e[0].slice(0,t),e[2]=n.slice(0,t)),e.slice(0,3))}},filter:{TAG:function(e){var t=e.replace(te,ne).toLowerCase();return&quot;*&quot;===e?function(){return!0}:function(e){return e.nodeName&amp;&amp;e.nodeName.toLowerCase()===t}},CLASS:function(e){var t=m[e+&quot; &quot;];return t||(t=new RegExp(&quot;(^|&quot;+M+&quot;)&quot;+e+&quot;(&quot;+M+&quot;|$)&quot;))&amp;&amp;m(e,function(e){return t.test(&quot;string&quot;==typeof e.className&amp;&amp;e.className||&quot;undefined&quot;!=typeof e.getAttribute&amp;&amp;e.getAttribute(&quot;class&quot;)||&quot;&quot;)})},ATTR:function(n,r,i){return function(e){var t=se.attr(e,n);return null==t?&quot;!=&quot;===r:!r||(t+=&quot;&quot;,&quot;=&quot;===r?t===i:&quot;!=&quot;===r?t!==i:&quot;^=&quot;===r?i&amp;&amp;0===t.indexOf(i):&quot;*=&quot;===r?i&amp;&amp;-1&lt;t.indexOf(i):&quot;$=&quot;===r?i&amp;&amp;t.slice(-i.length)===i:&quot;~=&quot;===r?-1&lt;(&quot; &quot;+t.replace(B,&quot; &quot;)+&quot; &quot;).indexOf(i):&quot;|=&quot;===r&amp;&amp;(t===i||t.slice(0,i.length+1)===i+&quot;-&quot;))}},CHILD:function(h,e,t,g,v){var y=&quot;nth&quot;!==h.slice(0,3),m=&quot;last&quot;!==h.slice(-4),x=&quot;of-type&quot;===e;return 1===g&amp;&amp;0===v?function(e){return!!e.parentNode}:function(e,t,n){var r,i,o,a,s,u,l=y!==m?&quot;nextSibling&quot;:&quot;previousSibling&quot;,c=e.parentNode,f=x&amp;&amp;e.nodeName.toLowerCase(),p=!n&amp;&amp;!x,d=!1;if(c){if(y){while(l){a=e;while(a=a[l])if(x?a.nodeName.toLowerCase()===f:1===a.nodeType)return!1;u=l=&quot;only&quot;===h&amp;&amp;!u&amp;&amp;&quot;nextSibling&quot;}return!0}if(u=[m?c.firstChild:c.lastChild],m&amp;&amp;p){d=(s=(r=(i=(o=(a=c)[S]||(a[S]={}))[a.uniqueID]||(o[a.uniqueID]={}))[h]||[])[0]===k&amp;&amp;r[1])&amp;&amp;r[2],a=s&amp;&amp;c.childNodes[s];while(a=++s&amp;&amp;a&amp;&amp;a[l]||(d=s=0)||u.pop())if(1===a.nodeType&amp;&amp;++d&amp;&amp;a===e){i[h]=[k,s,d];break}}else if(p&amp;&amp;(d=s=(r=(i=(o=(a=e)[S]||(a[S]={}))[a.uniqueID]||(o[a.uniqueID]={}))[h]||[])[0]===k&amp;&amp;r[1]),!1===d)while(a=++s&amp;&amp;a&amp;&amp;a[l]||(d=s=0)||u.pop())if((x?a.nodeName.toLowerCase()===f:1===a.nodeType)&amp;&amp;++d&amp;&amp;(p&amp;&amp;((i=(o=a[S]||(a[S]={}))[a.uniqueID]||(o[a.uniqueID]={}))[h]=[k,d]),a===e))break;return(d-=v)===g||d%g==0&amp;&amp;0&lt;=d/g}}},PSEUDO:function(e,o){var t,a=b.pseudos[e]||b.setFilters[e.toLowerCase()]||se.error(&quot;unsupported pseudo: &quot;+e);return a[S]?a(o):1&lt;a.length?(t=[e,e,&quot;&quot;,o],b.setFilters.hasOwnProperty(e.toLowerCase())?le(function(e,t){var n,r=a(e,o),i=r.length;while(i--)e[n=P(e,r[i])]=!(t[n]=r[i])}):function(e){return a(e,0,t)}):a}},pseudos:{not:le(function(e){var r=[],i=[],s=f(e.replace($,&quot;$1&quot;));return s[S]?le(function(e,t,n,r){var i,o=s(e,null,r,[]),a=e.length;while(a--)(i=o[a])&amp;&amp;(e[a]=!(t[a]=i))}):function(e,t,n){return r[0]=e,s(r,null,n,i),r[0]=null,!i.pop()}}),has:le(function(t){return function(e){return 0&lt;se(t,e).length}}),contains:le(function(t){return t=t.replace(te,ne),function(e){return-1&lt;(e.textContent||o(e)).indexOf(t)}}),lang:le(function(n){return V.test(n||&quot;&quot;)||se.error(&quot;unsupported lang: &quot;+n),n=n.replace(te,ne).toLowerCase(),function(e){var t;do{if(t=E?e.lang:e.getAttribute(&quot;xml:lang&quot;)||e.getAttribute(&quot;lang&quot;))return(t=t.toLowerCase())===n||0===t.indexOf(n+&quot;-&quot;)}while((e=e.parentNode)&amp;&amp;1===e.nodeType);return!1}}),target:function(e){var t=n.location&amp;&amp;n.location.hash;return t&amp;&amp;t.slice(1)===e.id},root:function(e){return e===a},focus:function(e){return e===C.activeElement&amp;&amp;(!C.hasFocus||C.hasFocus())&amp;&amp;!!(e.type||e.href||~e.tabIndex)},enabled:ge(!1),disabled:ge(!0),checked:function(e){var t=e.nodeName.toLowerCase();return&quot;input&quot;===t&amp;&amp;!!e.checked||&quot;option&quot;===t&amp;&amp;!!e.selected},selected:function(e){return e.parentNode&amp;&amp;e.parentNode.selectedIndex,!0===e.selected},empty:function(e){for(e=e.firstChild;e;e=e.nextSibling)if(e.nodeType&lt;6)return!1;return!0},parent:function(e){return!b.pseudos.empty(e)},header:function(e){return J.test(e.nodeName)},input:function(e){return Q.test(e.nodeName)},button:function(e){var t=e.nodeName.toLowerCase();return&quot;input&quot;===t&amp;&amp;&quot;button&quot;===e.type||&quot;button&quot;===t},text:function(e){var t;return&quot;input&quot;===e.nodeName.toLowerCase()&amp;&amp;&quot;text&quot;===e.type&amp;&amp;(null==(t=e.getAttribute(&quot;type&quot;))||&quot;text&quot;===t.toLowerCase())},first:ve(function(){return[0]}),last:ve(function(e,t){return[t-1]}),eq:ve(function(e,t,n){return[n&lt;0?n+t:n]}),even:ve(function(e,t){for(var n=0;n&lt;t;n+=2)e.push(n);return e}),odd:ve(function(e,t){for(var n=1;n&lt;t;n+=2)e.push(n);return e}),lt:ve(function(e,t,n){for(var r=n&lt;0?n+t:t&lt;n?t:n;0&lt;=--r;)e.push(r);return e}),gt:ve(function(e,t,n){for(var r=n&lt;0?n+t:n;++r&lt;t;)e.push(r);return e})}}).pseudos.nth=b.pseudos.eq,{radio:!0,checkbox:!0,file:!0,password:!0,image:!0})b.pseudos[e]=de(e);for(e in{submit:!0,reset:!0})b.pseudos[e]=he(e);function me(){}function xe(e){for(var t=0,n=e.length,r=&quot;&quot;;t&lt;n;t++)r+=e[t].value;return r}function be(s,e,t){var u=e.dir,l=e.next,c=l||u,f=t&amp;&amp;&quot;parentNode&quot;===c,p=r++;return e.first?function(e,t,n){while(e=e[u])if(1===e.nodeType||f)return s(e,t,n);return!1}:function(e,t,n){var r,i,o,a=[k,p];if(n){while(e=e[u])if((1===e.nodeType||f)&amp;&amp;s(e,t,n))return!0}else while(e=e[u])if(1===e.nodeType||f)if(i=(o=e[S]||(e[S]={}))[e.uniqueID]||(o[e.uniqueID]={}),l&amp;&amp;l===e.nodeName.toLowerCase())e=e[u]||e;else{if((r=i[c])&amp;&amp;r[0]===k&amp;&amp;r[1]===p)return a[2]=r[2];if((i[c]=a)[2]=s(e,t,n))return!0}return!1}}function we(i){return 1&lt;i.length?function(e,t,n){var r=i.length;while(r--)if(!i[r](e,t,n))return!1;return!0}:i[0]}function Te(e,t,n,r,i){for(var o,a=[],s=0,u=e.length,l=null!=t;s&lt;u;s++)(o=e[s])&amp;&amp;(n&amp;&amp;!n(o,r,i)||(a.push(o),l&amp;&amp;t.push(s)));return a}function Ce(d,h,g,v,y,e){return v&amp;&amp;!v[S]&amp;&amp;(v=Ce(v)),y&amp;&amp;!y[S]&amp;&amp;(y=Ce(y,e)),le(function(e,t,n,r){var i,o,a,s=[],u=[],l=t.length,c=e||function(e,t,n){for(var r=0,i=t.length;r&lt;i;r++)se(e,t[r],n);return n}(h||&quot;*&quot;,n.nodeType?[n]:n,[]),f=!d||!e&amp;&amp;h?c:Te(c,s,d,n,r),p=g?y||(e?d:l||v)?[]:t:f;if(g&amp;&amp;g(f,p,n,r),v){i=Te(p,u),v(i,[],n,r),o=i.length;while(o--)(a=i[o])&amp;&amp;(p[u[o]]=!(f[u[o]]=a))}if(e){if(y||d){if(y){i=[],o=p.length;while(o--)(a=p[o])&amp;&amp;i.push(f[o]=a);y(null,p=[],i,r)}o=p.length;while(o--)(a=p[o])&amp;&amp;-1&lt;(i=y?P(e,a):s[o])&amp;&amp;(e[i]=!(t[i]=a))}}else p=Te(p===t?p.splice(l,p.length):p),y?y(null,t,p,r):H.apply(t,p)})}function Ee(e){for(var i,t,n,r=e.length,o=b.relative[e[0].type],a=o||b.relative[&quot; &quot;],s=o?1:0,u=be(function(e){return e===i},a,!0),l=be(function(e){return-1&lt;P(i,e)},a,!0),c=[function(e,t,n){var r=!o&amp;&amp;(n||t!==w)||((i=t).nodeType?u(e,t,n):l(e,t,n));return i=null,r}];s&lt;r;s++)if(t=b.relative[e[s].type])c=[be(we(c),t)];else{if((t=b.filter[e[s].type].apply(null,e[s].matches))[S]){for(n=++s;n&lt;r;n++)if(b.relative[e[n].type])break;return Ce(1&lt;s&amp;&amp;we(c),1&lt;s&amp;&amp;xe(e.slice(0,s-1).concat({value:&quot; &quot;===e[s-2].type?&quot;*&quot;:&quot;&quot;})).replace($,&quot;$1&quot;),t,s&lt;n&amp;&amp;Ee(e.slice(s,n)),n&lt;r&amp;&amp;Ee(e=e.slice(n)),n&lt;r&amp;&amp;xe(e))}c.push(t)}return we(c)}return me.prototype=b.filters=b.pseudos,b.setFilters=new me,h=se.tokenize=function(e,t){var n,r,i,o,a,s,u,l=x[e+&quot; &quot;];if(l)return t?0:l.slice(0);a=e,s=[],u=b.preFilter;while(a){for(o in n&amp;&amp;!(r=_.exec(a))||(r&amp;&amp;(a=a.slice(r[0].length)||a),s.push(i=[])),n=!1,(r=z.exec(a))&amp;&amp;(n=r.shift(),i.push({value:n,type:r[0].replace($,&quot; &quot;)}),a=a.slice(n.length)),b.filter)!(r=G[o].exec(a))||u[o]&amp;&amp;!(r=u[o](r))||(n=r.shift(),i.push({value:n,type:o,matches:r}),a=a.slice(n.length));if(!n)break}return t?a.length:a?se.error(e):x(e,s).slice(0)},f=se.compile=function(e,t){var n,v,y,m,x,r,i=[],o=[],a=A[e+&quot; &quot;];if(!a){t||(t=h(e)),n=t.length;while(n--)(a=Ee(t[n]))[S]?i.push(a):o.push(a);(a=A(e,(v=o,m=0&lt;(y=i).length,x=0&lt;v.length,r=function(e,t,n,r,i){var o,a,s,u=0,l=&quot;0&quot;,c=e&amp;&amp;[],f=[],p=w,d=e||x&amp;&amp;b.find.TAG(&quot;*&quot;,i),h=k+=null==p?1:Math.random()||.1,g=d.length;for(i&amp;&amp;(w=t==C||t||i);l!==g&amp;&amp;null!=(o=d[l]);l++){if(x&amp;&amp;o){a=0,t||o.ownerDocument==C||(T(o),n=!E);while(s=v[a++])if(s(o,t||C,n)){r.push(o);break}i&amp;&amp;(k=h)}m&amp;&amp;((o=!s&amp;&amp;o)&amp;&amp;u--,e&amp;&amp;c.push(o))}if(u+=l,m&amp;&amp;l!==u){a=0;while(s=y[a++])s(c,f,t,n);if(e){if(0&lt;u)while(l--)c[l]||f[l]||(f[l]=q.call(r));f=Te(f)}H.apply(r,f),i&amp;&amp;!e&amp;&amp;0&lt;f.length&amp;&amp;1&lt;u+y.length&amp;&amp;se.uniqueSort(r)}return i&amp;&amp;(k=h,w=p),c},m?le(r):r))).selector=e}return a},g=se.select=function(e,t,n,r){var i,o,a,s,u,l=&quot;function&quot;==typeof e&amp;&amp;e,c=!r&amp;&amp;h(e=l.selector||e);if(n=n||[],1===c.length){if(2&lt;(o=c[0]=c[0].slice(0)).length&amp;&amp;&quot;ID&quot;===(a=o[0]).type&amp;&amp;9===t.nodeType&amp;&amp;E&amp;&amp;b.relative[o[1].type]){if(!(t=(b.find.ID(a.matches[0].replace(te,ne),t)||[])[0]))return n;l&amp;&amp;(t=t.parentNode),e=e.slice(o.shift().value.length)}i=G.needsContext.test(e)?0:o.length;while(i--){if(a=o[i],b.relative[s=a.type])break;if((u=b.find[s])&amp;&amp;(r=u(a.matches[0].replace(te,ne),ee.test(o[0].type)&amp;&amp;ye(t.parentNode)||t))){if(o.splice(i,1),!(e=r.length&amp;&amp;xe(o)))return H.apply(n,r),n;break}}}return(l||f(e,c))(r,t,!E,n,!t||ee.test(e)&amp;&amp;ye(t.parentNode)||t),n},d.sortStable=S.split(&quot;&quot;).sort(j).join(&quot;&quot;)===S,d.detectDuplicates=!!l,T(),d.sortDetached=ce(function(e){return 1&amp;e.compareDocumentPosition(C.createElement(&quot;fieldset&quot;))}),ce(function(e){return e.innerHTML=&quot;&lt;a href=&#x27;#&#x27;&gt;&lt;/a&gt;&quot;,&quot;#&quot;===e.firstChild.getAttribute(&quot;href&quot;)})||fe(&quot;type|href|height|width&quot;,function(e,t,n){if(!n)return e.getAttribute(t,&quot;type&quot;===t.toLowerCase()?1:2)}),d.attributes&amp;&amp;ce(function(e){return e.innerHTML=&quot;&lt;input/&gt;&quot;,e.firstChild.setAttribute(&quot;value&quot;,&quot;&quot;),&quot;&quot;===e.firstChild.getAttribute(&quot;value&quot;)})||fe(&quot;value&quot;,function(e,t,n){if(!n&amp;&amp;&quot;input&quot;===e.nodeName.toLowerCase())return e.defaultValue}),ce(function(e){return null==e.getAttribute(&quot;disabled&quot;)})||fe(R,function(e,t,n){var r;if(!n)return!0===e[t]?t.toLowerCase():(r=e.getAttributeNode(t))&amp;&amp;r.specified?r.value:null}),se}(C);S.find=d,S.expr=d.selectors,S.expr[&quot;:&quot;]=S.expr.pseudos,S.uniqueSort=S.unique=d.uniqueSort,S.text=d.getText,S.isXMLDoc=d.isXML,S.contains=d.contains,S.escapeSelector=d.escape;var h=function(e,t,n){var r=[],i=void 0!==n;while((e=e[t])&amp;&amp;9!==e.nodeType)if(1===e.nodeType){if(i&amp;&amp;S(e).is(n))break;r.push(e)}return r},T=function(e,t){for(var n=[];e;e=e.nextSibling)1===e.nodeType&amp;&amp;e!==t&amp;&amp;n.push(e);return n},k=S.expr.match.needsContext;function A(e,t){return e.nodeName&amp;&amp;e.nodeName.toLowerCase()===t.toLowerCase()}var N=/^&lt;([a-z][^\\/\\0&gt;:\\x20\\t\\r\\n\\f]*)[\\x20\\t\\r\\n\\f]*\\/?&gt;(?:&lt;\\/\\1&gt;|)$/i;function j(e,n,r){return m(n)?S.grep(e,function(e,t){return!!n.call(e,t,e)!==r}):n.nodeType?S.grep(e,function(e){return e===n!==r}):&quot;string&quot;!=typeof n?S.grep(e,function(e){return-1&lt;i.call(n,e)!==r}):S.filter(n,e,r)}S.filter=function(e,t,n){var r=t[0];return n&amp;&amp;(e=&quot;:not(&quot;+e+&quot;)&quot;),1===t.length&amp;&amp;1===r.nodeType?S.find.matchesSelector(r,e)?[r]:[]:S.find.matches(e,S.grep(t,function(e){return 1===e.nodeType}))},S.fn.extend({find:function(e){var t,n,r=this.length,i=this;if(&quot;string&quot;!=typeof e)return this.pushStack(S(e).filter(function(){for(t=0;t&lt;r;t++)if(S.contains(i[t],this))return!0}));for(n=this.pushStack([]),t=0;t&lt;r;t++)S.find(e,i[t],n);return 1&lt;r?S.uniqueSort(n):n},filter:function(e){return this.pushStack(j(this,e||[],!1))},not:function(e){return this.pushStack(j(this,e||[],!0))},is:function(e){return!!j(this,&quot;string&quot;==typeof e&amp;&amp;k.test(e)?S(e):e||[],!1).length}});var D,q=/^(?:\\s*(&lt;[\\w\\W]+&gt;)[^&gt;]*|#([\\w-]+))$/;(S.fn.init=function(e,t,n){var r,i;if(!e)return this;if(n=n||D,&quot;string&quot;==typeof e){if(!(r=&quot;&lt;&quot;===e[0]&amp;&amp;&quot;&gt;&quot;===e[e.length-1]&amp;&amp;3&lt;=e.length?[null,e,null]:q.exec(e))||!r[1]&amp;&amp;t)return!t||t.jquery?(t||n).find(e):this.constructor(t).find(e);if(r[1]){if(t=t instanceof S?t[0]:t,S.merge(this,S.parseHTML(r[1],t&amp;&amp;t.nodeType?t.ownerDocument||t:E,!0)),N.test(r[1])&amp;&amp;S.isPlainObject(t))for(r in t)m(this[r])?this[r](t[r]):this.attr(r,t[r]);return this}return(i=E.getElementById(r[2]))&amp;&amp;(this[0]=i,this.length=1),this}return e.nodeType?(this[0]=e,this.length=1,this):m(e)?void 0!==n.ready?n.ready(e):e(S):S.makeArray(e,this)}).prototype=S.fn,D=S(E);var L=/^(?:parents|prev(?:Until|All))/,H={children:!0,contents:!0,next:!0,prev:!0};function O(e,t){while((e=e[t])&amp;&amp;1!==e.nodeType);return e}S.fn.extend({has:function(e){var t=S(e,this),n=t.length;return this.filter(function(){for(var e=0;e&lt;n;e++)if(S.contains(this,t[e]))return!0})},closest:function(e,t){var n,r=0,i=this.length,o=[],a=&quot;string&quot;!=typeof e&amp;&amp;S(e);if(!k.test(e))for(;r&lt;i;r++)for(n=this[r];n&amp;&amp;n!==t;n=n.parentNode)if(n.nodeType&lt;11&amp;&amp;(a?-1&lt;a.index(n):1===n.nodeType&amp;&amp;S.find.matchesSelector(n,e))){o.push(n);break}return this.pushStack(1&lt;o.length?S.uniqueSort(o):o)},index:function(e){return e?&quot;string&quot;==typeof e?i.call(S(e),this[0]):i.call(this,e.jquery?e[0]:e):this[0]&amp;&amp;this[0].parentNode?this.first().prevAll().length:-1},add:function(e,t){return this.pushStack(S.uniqueSort(S.merge(this.get(),S(e,t))))},addBack:function(e){return this.add(null==e?this.prevObject:this.prevObject.filter(e))}}),S.each({parent:function(e){var t=e.parentNode;return t&amp;&amp;11!==t.nodeType?t:null},parents:function(e){return h(e,&quot;parentNode&quot;)},parentsUntil:function(e,t,n){return h(e,&quot;parentNode&quot;,n)},next:function(e){return O(e,&quot;nextSibling&quot;)},prev:function(e){return O(e,&quot;previousSibling&quot;)},nextAll:function(e){return h(e,&quot;nextSibling&quot;)},prevAll:function(e){return h(e,&quot;previousSibling&quot;)},nextUntil:function(e,t,n){return h(e,&quot;nextSibling&quot;,n)},prevUntil:function(e,t,n){return h(e,&quot;previousSibling&quot;,n)},siblings:function(e){return T((e.parentNode||{}).firstChild,e)},children:function(e){return T(e.firstChild)},contents:function(e){return null!=e.contentDocument&amp;&amp;r(e.contentDocument)?e.contentDocument:(A(e,&quot;template&quot;)&amp;&amp;(e=e.content||e),S.merge([],e.childNodes))}},function(r,i){S.fn[r]=function(e,t){var n=S.map(this,i,e);return&quot;Until&quot;!==r.slice(-5)&amp;&amp;(t=e),t&amp;&amp;&quot;string&quot;==typeof t&amp;&amp;(n=S.filter(t,n)),1&lt;this.length&amp;&amp;(H[r]||S.uniqueSort(n),L.test(r)&amp;&amp;n.reverse()),this.pushStack(n)}});var P=/[^\\x20\\t\\r\\n\\f]+/g;function R(e){return e}function M(e){throw e}function I(e,t,n,r){var i;try{e&amp;&amp;m(i=e.promise)?i.call(e).done(t).fail(n):e&amp;&amp;m(i=e.then)?i.call(e,t,n):t.apply(void 0,[e].slice(r))}catch(e){n.apply(void 0,[e])}}S.Callbacks=function(r){var e,n;r=&quot;string&quot;==typeof r?(e=r,n={},S.each(e.match(P)||[],function(e,t){n[t]=!0}),n):S.extend({},r);var i,t,o,a,s=[],u=[],l=-1,c=function(){for(a=a||r.once,o=i=!0;u.length;l=-1){t=u.shift();while(++l&lt;s.length)!1===s[l].apply(t[0],t[1])&amp;&amp;r.stopOnFalse&amp;&amp;(l=s.length,t=!1)}r.memory||(t=!1),i=!1,a&amp;&amp;(s=t?[]:&quot;&quot;)},f={add:function(){return s&amp;&amp;(t&amp;&amp;!i&amp;&amp;(l=s.length-1,u.push(t)),function n(e){S.each(e,function(e,t){m(t)?r.unique&amp;&amp;f.has(t)||s.push(t):t&amp;&amp;t.length&amp;&amp;&quot;string&quot;!==w(t)&amp;&amp;n(t)})}(arguments),t&amp;&amp;!i&amp;&amp;c()),this},remove:function(){return S.each(arguments,function(e,t){var n;while(-1&lt;(n=S.inArray(t,s,n)))s.splice(n,1),n&lt;=l&amp;&amp;l--}),this},has:function(e){return e?-1&lt;S.inArray(e,s):0&lt;s.length},empty:function(){return s&amp;&amp;(s=[]),this},disable:function(){return a=u=[],s=t=&quot;&quot;,this},disabled:function(){return!s},lock:function(){return a=u=[],t||i||(s=t=&quot;&quot;),this},locked:function(){return!!a},fireWith:function(e,t){return a||(t=[e,(t=t||[]).slice?t.slice():t],u.push(t),i||c()),this},fire:function(){return f.fireWith(this,arguments),this},fired:function(){return!!o}};return f},S.extend({Deferred:function(e){var o=[[&quot;notify&quot;,&quot;progress&quot;,S.Callbacks(&quot;memory&quot;),S.Callbacks(&quot;memory&quot;),2],[&quot;resolve&quot;,&quot;done&quot;,S.Callbacks(&quot;once memory&quot;),S.Callbacks(&quot;once memory&quot;),0,&quot;resolved&quot;],[&quot;reject&quot;,&quot;fail&quot;,S.Callbacks(&quot;once memory&quot;),S.Callbacks(&quot;once memory&quot;),1,&quot;rejected&quot;]],i=&quot;pending&quot;,a={state:function(){return i},always:function(){return s.done(arguments).fail(arguments),this},&quot;catch&quot;:function(e){return a.then(null,e)},pipe:function(){var i=arguments;return S.Deferred(function(r){S.each(o,function(e,t){var n=m(i[t[4]])&amp;&amp;i[t[4]];s[t[1]](function(){var e=n&amp;&amp;n.apply(this,arguments);e&amp;&amp;m(e.promise)?e.promise().progress(r.notify).done(r.resolve).fail(r.reject):r[t[0]+&quot;With&quot;](this,n?[e]:arguments)})}),i=null}).promise()},then:function(t,n,r){var u=0;function l(i,o,a,s){return function(){var n=this,r=arguments,e=function(){var e,t;if(!(i&lt;u)){if((e=a.apply(n,r))===o.promise())throw new TypeError(&quot;Thenable self-resolution&quot;);t=e&amp;&amp;(&quot;object&quot;==typeof e||&quot;function&quot;==typeof e)&amp;&amp;e.then,m(t)?s?t.call(e,l(u,o,R,s),l(u,o,M,s)):(u++,t.call(e,l(u,o,R,s),l(u,o,M,s),l(u,o,R,o.notifyWith))):(a!==R&amp;&amp;(n=void 0,r=[e]),(s||o.resolveWith)(n,r))}},t=s?e:function(){try{e()}catch(e){S.Deferred.exceptionHook&amp;&amp;S.Deferred.exceptionHook(e,t.stackTrace),u&lt;=i+1&amp;&amp;(a!==M&amp;&amp;(n=void 0,r=[e]),o.rejectWith(n,r))}};i?t():(S.Deferred.getStackHook&amp;&amp;(t.stackTrace=S.Deferred.getStackHook()),C.setTimeout(t))}}return S.Deferred(function(e){o[0][3].add(l(0,e,m(r)?r:R,e.notifyWith)),o[1][3].add(l(0,e,m(t)?t:R)),o[2][3].add(l(0,e,m(n)?n:M))}).promise()},promise:function(e){return null!=e?S.extend(e,a):a}},s={};return S.each(o,function(e,t){var n=t[2],r=t[5];a[t[1]]=n.add,r&amp;&amp;n.add(function(){i=r},o[3-e][2].disable,o[3-e][3].disable,o[0][2].lock,o[0][3].lock),n.add(t[3].fire),s[t[0]]=function(){return s[t[0]+&quot;With&quot;](this===s?void 0:this,arguments),this},s[t[0]+&quot;With&quot;]=n.fireWith}),a.promise(s),e&amp;&amp;e.call(s,s),s},when:function(e){var n=arguments.length,t=n,r=Array(t),i=s.call(arguments),o=S.Deferred(),a=function(t){return function(e){r[t]=this,i[t]=1&lt;arguments.length?s.call(arguments):e,--n||o.resolveWith(r,i)}};if(n&lt;=1&amp;&amp;(I(e,o.done(a(t)).resolve,o.reject,!n),&quot;pending&quot;===o.state()||m(i[t]&amp;&amp;i[t].then)))return o.then();while(t--)I(i[t],a(t),o.reject);return o.promise()}});var W=/^(Eval|Internal|Range|Reference|Syntax|Type|URI)Error$/;S.Deferred.exceptionHook=function(e,t){C.console&amp;&amp;C.console.warn&amp;&amp;e&amp;&amp;W.test(e.name)&amp;&amp;C.console.warn(&quot;jQuery.Deferred exception: &quot;+e.message,e.stack,t)},S.readyException=function(e){C.setTimeout(function(){throw e})};var F=S.Deferred();function B(){E.removeEventListener(&quot;DOMContentLoaded&quot;,B),C.removeEventListener(&quot;load&quot;,B),S.ready()}S.fn.ready=function(e){return F.then(e)[&quot;catch&quot;](function(e){S.readyException(e)}),this},S.extend({isReady:!1,readyWait:1,ready:function(e){(!0===e?--S.readyWait:S.isReady)||(S.isReady=!0)!==e&amp;&amp;0&lt;--S.readyWait||F.resolveWith(E,[S])}}),S.ready.then=F.then,&quot;complete&quot;===E.readyState||&quot;loading&quot;!==E.readyState&amp;&amp;!E.documentElement.doScroll?C.setTimeout(S.ready):(E.addEventListener(&quot;DOMContentLoaded&quot;,B),C.addEventListener(&quot;load&quot;,B));var $=function(e,t,n,r,i,o,a){var s=0,u=e.length,l=null==n;if(&quot;object&quot;===w(n))for(s in i=!0,n)$(e,t,s,n[s],!0,o,a);else if(void 0!==r&amp;&amp;(i=!0,m(r)||(a=!0),l&amp;&amp;(a?(t.call(e,r),t=null):(l=t,t=function(e,t,n){return l.call(S(e),n)})),t))for(;s&lt;u;s++)t(e[s],n,a?r:r.call(e[s],s,t(e[s],n)));return i?e:l?t.call(e):u?t(e[0],n):o},_=/^-ms-/,z=/-([a-z])/g;function U(e,t){return t.toUpperCase()}function X(e){return e.replace(_,&quot;ms-&quot;).replace(z,U)}var V=function(e){return 1===e.nodeType||9===e.nodeType||!+e.nodeType};function G(){this.expando=S.expando+G.uid++}G.uid=1,G.prototype={cache:function(e){var t=e[this.expando];return t||(t={},V(e)&amp;&amp;(e.nodeType?e[this.expando]=t:Object.defineProperty(e,this.expando,{value:t,configurable:!0}))),t},set:function(e,t,n){var r,i=this.cache(e);if(&quot;string&quot;==typeof t)i[X(t)]=n;else for(r in t)i[X(r)]=t[r];return i},get:function(e,t){return void 0===t?this.cache(e):e[this.expando]&amp;&amp;e[this.expando][X(t)]},access:function(e,t,n){return void 0===t||t&amp;&amp;&quot;string&quot;==typeof t&amp;&amp;void 0===n?this.get(e,t):(this.set(e,t,n),void 0!==n?n:t)},remove:function(e,t){var n,r=e[this.expando];if(void 0!==r){if(void 0!==t){n=(t=Array.isArray(t)?t.map(X):(t=X(t))in r?[t]:t.match(P)||[]).length;while(n--)delete r[t[n]]}(void 0===t||S.isEmptyObject(r))&amp;&amp;(e.nodeType?e[this.expando]=void 0:delete e[this.expando])}},hasData:function(e){var t=e[this.expando];return void 0!==t&amp;&amp;!S.isEmptyObject(t)}};var Y=new G,Q=new G,J=/^(?:\\{[\\w\\W]*\\}|\\[[\\w\\W]*\\])$/,K=/[A-Z]/g;function Z(e,t,n){var r,i;if(void 0===n&amp;&amp;1===e.nodeType)if(r=&quot;data-&quot;+t.replace(K,&quot;-$&amp;&quot;).toLowerCase(),&quot;string&quot;==typeof(n=e.getAttribute(r))){try{n=&quot;true&quot;===(i=n)||&quot;false&quot;!==i&amp;&amp;(&quot;null&quot;===i?null:i===+i+&quot;&quot;?+i:J.test(i)?JSON.parse(i):i)}catch(e){}Q.set(e,t,n)}else n=void 0;return n}S.extend({hasData:function(e){return Q.hasData(e)||Y.hasData(e)},data:function(e,t,n){return Q.access(e,t,n)},removeData:function(e,t){Q.remove(e,t)},_data:function(e,t,n){return Y.access(e,t,n)},_removeData:function(e,t){Y.remove(e,t)}}),S.fn.extend({data:function(n,e){var t,r,i,o=this[0],a=o&amp;&amp;o.attributes;if(void 0===n){if(this.length&amp;&amp;(i=Q.get(o),1===o.nodeType&amp;&amp;!Y.get(o,&quot;hasDataAttrs&quot;))){t=a.length;while(t--)a[t]&amp;&amp;0===(r=a[t].name).indexOf(&quot;data-&quot;)&amp;&amp;(r=X(r.slice(5)),Z(o,r,i[r]));Y.set(o,&quot;hasDataAttrs&quot;,!0)}return i}return&quot;object&quot;==typeof n?this.each(function(){Q.set(this,n)}):$(this,function(e){var t;if(o&amp;&amp;void 0===e)return void 0!==(t=Q.get(o,n))?t:void 0!==(t=Z(o,n))?t:void 0;this.each(function(){Q.set(this,n,e)})},null,e,1&lt;arguments.length,null,!0)},removeData:function(e){return this.each(function(){Q.remove(this,e)})}}),S.extend({queue:function(e,t,n){var r;if(e)return t=(t||&quot;fx&quot;)+&quot;queue&quot;,r=Y.get(e,t),n&amp;&amp;(!r||Array.isArray(n)?r=Y.access(e,t,S.makeArray(n)):r.push(n)),r||[]},dequeue:function(e,t){t=t||&quot;fx&quot;;var n=S.queue(e,t),r=n.length,i=n.shift(),o=S._queueHooks(e,t);&quot;inprogress&quot;===i&amp;&amp;(i=n.shift(),r--),i&amp;&amp;(&quot;fx&quot;===t&amp;&amp;n.unshift(&quot;inprogress&quot;),delete o.stop,i.call(e,function(){S.dequeue(e,t)},o)),!r&amp;&amp;o&amp;&amp;o.empty.fire()},_queueHooks:function(e,t){var n=t+&quot;queueHooks&quot;;return Y.get(e,n)||Y.access(e,n,{empty:S.Callbacks(&quot;once memory&quot;).add(function(){Y.remove(e,[t+&quot;queue&quot;,n])})})}}),S.fn.extend({queue:function(t,n){var e=2;return&quot;string&quot;!=typeof t&amp;&amp;(n=t,t=&quot;fx&quot;,e--),arguments.length&lt;e?S.queue(this[0],t):void 0===n?this:this.each(function(){var e=S.queue(this,t,n);S._queueHooks(this,t),&quot;fx&quot;===t&amp;&amp;&quot;inprogress&quot;!==e[0]&amp;&amp;S.dequeue(this,t)})},dequeue:function(e){return this.each(function(){S.dequeue(this,e)})},clearQueue:function(e){return this.queue(e||&quot;fx&quot;,[])},promise:function(e,t){var n,r=1,i=S.Deferred(),o=this,a=this.length,s=function(){--r||i.resolveWith(o,[o])};&quot;string&quot;!=typeof e&amp;&amp;(t=e,e=void 0),e=e||&quot;fx&quot;;while(a--)(n=Y.get(o[a],e+&quot;queueHooks&quot;))&amp;&amp;n.empty&amp;&amp;(r++,n.empty.add(s));return s(),i.promise(t)}});var ee=/[+-]?(?:\\d*\\.|)\\d+(?:[eE][+-]?\\d+|)/.source,te=new RegExp(&quot;^(?:([+-])=|)(&quot;+ee+&quot;)([a-z%]*)$&quot;,&quot;i&quot;),ne=[&quot;Top&quot;,&quot;Right&quot;,&quot;Bottom&quot;,&quot;Left&quot;],re=E.documentElement,ie=function(e){return S.contains(e.ownerDocument,e)},oe={composed:!0};re.getRootNode&amp;&amp;(ie=function(e){return S.contains(e.ownerDocument,e)||e.getRootNode(oe)===e.ownerDocument});var ae=function(e,t){return&quot;none&quot;===(e=t||e).style.display||&quot;&quot;===e.style.display&amp;&amp;ie(e)&amp;&amp;&quot;none&quot;===S.css(e,&quot;display&quot;)};function se(e,t,n,r){var i,o,a=20,s=r?function(){return r.cur()}:function(){return S.css(e,t,&quot;&quot;)},u=s(),l=n&amp;&amp;n[3]||(S.cssNumber[t]?&quot;&quot;:&quot;px&quot;),c=e.nodeType&amp;&amp;(S.cssNumber[t]||&quot;px&quot;!==l&amp;&amp;+u)&amp;&amp;te.exec(S.css(e,t));if(c&amp;&amp;c[3]!==l){u/=2,l=l||c[3],c=+u||1;while(a--)S.style(e,t,c+l),(1-o)*(1-(o=s()/u||.5))&lt;=0&amp;&amp;(a=0),c/=o;c*=2,S.style(e,t,c+l),n=n||[]}return n&amp;&amp;(c=+c||+u||0,i=n[1]?c+(n[1]+1)*n[2]:+n[2],r&amp;&amp;(r.unit=l,r.start=c,r.end=i)),i}var ue={};function le(e,t){for(var n,r,i,o,a,s,u,l=[],c=0,f=e.length;c&lt;f;c++)(r=e[c]).style&amp;&amp;(n=r.style.display,t?(&quot;none&quot;===n&amp;&amp;(l[c]=Y.get(r,&quot;display&quot;)||null,l[c]||(r.style.display=&quot;&quot;)),&quot;&quot;===r.style.display&amp;&amp;ae(r)&amp;&amp;(l[c]=(u=a=o=void 0,a=(i=r).ownerDocument,s=i.nodeName,(u=ue[s])||(o=a.body.appendChild(a.createElement(s)),u=S.css(o,&quot;display&quot;),o.parentNode.removeChild(o),&quot;none&quot;===u&amp;&amp;(u=&quot;block&quot;),ue[s]=u)))):&quot;none&quot;!==n&amp;&amp;(l[c]=&quot;none&quot;,Y.set(r,&quot;display&quot;,n)));for(c=0;c&lt;f;c++)null!=l[c]&amp;&amp;(e[c].style.display=l[c]);return e}S.fn.extend({show:function(){return le(this,!0)},hide:function(){return le(this)},toggle:function(e){return&quot;boolean&quot;==typeof e?e?this.show():this.hide():this.each(function(){ae(this)?S(this).show():S(this).hide()})}});var ce,fe,pe=/^(?:checkbox|radio)$/i,de=/&lt;([a-z][^\\/\\0&gt;\\x20\\t\\r\\n\\f]*)/i,he=/^$|^module$|\\/(?:java|ecma)script/i;ce=E.createDocumentFragment().appendChild(E.createElement(&quot;div&quot;)),(fe=E.createElement(&quot;input&quot;)).setAttribute(&quot;type&quot;,&quot;radio&quot;),fe.setAttribute(&quot;checked&quot;,&quot;checked&quot;),fe.setAttribute(&quot;name&quot;,&quot;t&quot;),ce.appendChild(fe),y.checkClone=ce.cloneNode(!0).cloneNode(!0).lastChild.checked,ce.innerHTML=&quot;&lt;textarea&gt;x&lt;/textarea&gt;&quot;,y.noCloneChecked=!!ce.cloneNode(!0).lastChild.defaultValue,ce.innerHTML=&quot;&lt;option&gt;&lt;/option&gt;&quot;,y.option=!!ce.lastChild;var ge={thead:[1,&quot;&lt;table&gt;&quot;,&quot;&lt;/table&gt;&quot;],col:[2,&quot;&lt;table&gt;&lt;colgroup&gt;&quot;,&quot;&lt;/colgroup&gt;&lt;/table&gt;&quot;],tr:[2,&quot;&lt;table&gt;&lt;tbody&gt;&quot;,&quot;&lt;/tbody&gt;&lt;/table&gt;&quot;],td:[3,&quot;&lt;table&gt;&lt;tbody&gt;&lt;tr&gt;&quot;,&quot;&lt;/tr&gt;&lt;/tbody&gt;&lt;/table&gt;&quot;],_default:[0,&quot;&quot;,&quot;&quot;]};function ve(e,t){var n;return n=&quot;undefined&quot;!=typeof e.getElementsByTagName?e.getElementsByTagName(t||&quot;*&quot;):&quot;undefined&quot;!=typeof e.querySelectorAll?e.querySelectorAll(t||&quot;*&quot;):[],void 0===t||t&amp;&amp;A(e,t)?S.merge([e],n):n}function ye(e,t){for(var n=0,r=e.length;n&lt;r;n++)Y.set(e[n],&quot;globalEval&quot;,!t||Y.get(t[n],&quot;globalEval&quot;))}ge.tbody=ge.tfoot=ge.colgroup=ge.caption=ge.thead,ge.th=ge.td,y.option||(ge.optgroup=ge.option=[1,&quot;&lt;select multiple=&#x27;multiple&#x27;&gt;&quot;,&quot;&lt;/select&gt;&quot;]);var me=/&lt;|&amp;#?\\w+;/;function xe(e,t,n,r,i){for(var o,a,s,u,l,c,f=t.createDocumentFragment(),p=[],d=0,h=e.length;d&lt;h;d++)if((o=e[d])||0===o)if(&quot;object&quot;===w(o))S.merge(p,o.nodeType?[o]:o);else if(me.test(o)){a=a||f.appendChild(t.createElement(&quot;div&quot;)),s=(de.exec(o)||[&quot;&quot;,&quot;&quot;])[1].toLowerCase(),u=ge[s]||ge._default,a.innerHTML=u[1]+S.htmlPrefilter(o)+u[2],c=u[0];while(c--)a=a.lastChild;S.merge(p,a.childNodes),(a=f.firstChild).textContent=&quot;&quot;}else p.push(t.createTextNode(o));f.textContent=&quot;&quot;,d=0;while(o=p[d++])if(r&amp;&amp;-1&lt;S.inArray(o,r))i&amp;&amp;i.push(o);else if(l=ie(o),a=ve(f.appendChild(o),&quot;script&quot;),l&amp;&amp;ye(a),n){c=0;while(o=a[c++])he.test(o.type||&quot;&quot;)&amp;&amp;n.push(o)}return f}var be=/^([^.]*)(?:\\.(.+)|)/;function we(){return!0}function Te(){return!1}function Ce(e,t){return e===function(){try{return E.activeElement}catch(e){}}()==(&quot;focus&quot;===t)}function Ee(e,t,n,r,i,o){var a,s;if(&quot;object&quot;==typeof t){for(s in&quot;string&quot;!=typeof n&amp;&amp;(r=r||n,n=void 0),t)Ee(e,s,n,r,t[s],o);return e}if(null==r&amp;&amp;null==i?(i=n,r=n=void 0):null==i&amp;&amp;(&quot;string&quot;==typeof n?(i=r,r=void 0):(i=r,r=n,n=void 0)),!1===i)i=Te;else if(!i)return e;return 1===o&amp;&amp;(a=i,(i=function(e){return S().off(e),a.apply(this,arguments)}).guid=a.guid||(a.guid=S.guid++)),e.each(function(){S.event.add(this,t,i,r,n)})}function Se(e,i,o){o?(Y.set(e,i,!1),S.event.add(e,i,{namespace:!1,handler:function(e){var t,n,r=Y.get(this,i);if(1&amp;e.isTrigger&amp;&amp;this[i]){if(r.length)(S.event.special[i]||{}).delegateType&amp;&amp;e.stopPropagation();else if(r=s.call(arguments),Y.set(this,i,r),t=o(this,i),this[i](),r!==(n=Y.get(this,i))||t?Y.set(this,i,!1):n={},r!==n)return e.stopImmediatePropagation(),e.preventDefault(),n&amp;&amp;n.value}else r.length&amp;&amp;(Y.set(this,i,{value:S.event.trigger(S.extend(r[0],S.Event.prototype),r.slice(1),this)}),e.stopImmediatePropagation())}})):void 0===Y.get(e,i)&amp;&amp;S.event.add(e,i,we)}S.event={global:{},add:function(t,e,n,r,i){var o,a,s,u,l,c,f,p,d,h,g,v=Y.get(t);if(V(t)){n.handler&amp;&amp;(n=(o=n).handler,i=o.selector),i&amp;&amp;S.find.matchesSelector(re,i),n.guid||(n.guid=S.guid++),(u=v.events)||(u=v.events=Object.create(null)),(a=v.handle)||(a=v.handle=function(e){return&quot;undefined&quot;!=typeof S&amp;&amp;S.event.triggered!==e.type?S.event.dispatch.apply(t,arguments):void 0}),l=(e=(e||&quot;&quot;).match(P)||[&quot;&quot;]).length;while(l--)d=g=(s=be.exec(e[l])||[])[1],h=(s[2]||&quot;&quot;).split(&quot;.&quot;).sort(),d&amp;&amp;(f=S.event.special[d]||{},d=(i?f.delegateType:f.bindType)||d,f=S.event.special[d]||{},c=S.extend({type:d,origType:g,data:r,handler:n,guid:n.guid,selector:i,needsContext:i&amp;&amp;S.expr.match.needsContext.test(i),namespace:h.join(&quot;.&quot;)},o),(p=u[d])||((p=u[d]=[]).delegateCount=0,f.setup&amp;&amp;!1!==f.setup.call(t,r,h,a)||t.addEventListener&amp;&amp;t.addEventListener(d,a)),f.add&amp;&amp;(f.add.call(t,c),c.handler.guid||(c.handler.guid=n.guid)),i?p.splice(p.delegateCount++,0,c):p.push(c),S.event.global[d]=!0)}},remove:function(e,t,n,r,i){var o,a,s,u,l,c,f,p,d,h,g,v=Y.hasData(e)&amp;&amp;Y.get(e);if(v&amp;&amp;(u=v.events)){l=(t=(t||&quot;&quot;).match(P)||[&quot;&quot;]).length;while(l--)if(d=g=(s=be.exec(t[l])||[])[1],h=(s[2]||&quot;&quot;).split(&quot;.&quot;).sort(),d){f=S.event.special[d]||{},p=u[d=(r?f.delegateType:f.bindType)||d]||[],s=s[2]&amp;&amp;new RegExp(&quot;(^|\\\\.)&quot;+h.join(&quot;\\\\.(?:.*\\\\.|)&quot;)+&quot;(\\\\.|$)&quot;),a=o=p.length;while(o--)c=p[o],!i&amp;&amp;g!==c.origType||n&amp;&amp;n.guid!==c.guid||s&amp;&amp;!s.test(c.namespace)||r&amp;&amp;r!==c.selector&amp;&amp;(&quot;**&quot;!==r||!c.selector)||(p.splice(o,1),c.selector&amp;&amp;p.delegateCount--,f.remove&amp;&amp;f.remove.call(e,c));a&amp;&amp;!p.length&amp;&amp;(f.teardown&amp;&amp;!1!==f.teardown.call(e,h,v.handle)||S.removeEvent(e,d,v.handle),delete u[d])}else for(d in u)S.event.remove(e,d+t[l],n,r,!0);S.isEmptyObject(u)&amp;&amp;Y.remove(e,&quot;handle events&quot;)}},dispatch:function(e){var t,n,r,i,o,a,s=new Array(arguments.length),u=S.event.fix(e),l=(Y.get(this,&quot;events&quot;)||Object.create(null))[u.type]||[],c=S.event.special[u.type]||{};for(s[0]=u,t=1;t&lt;arguments.length;t++)s[t]=arguments[t];if(u.delegateTarget=this,!c.preDispatch||!1!==c.preDispatch.call(this,u)){a=S.event.handlers.call(this,u,l),t=0;while((i=a[t++])&amp;&amp;!u.isPropagationStopped()){u.currentTarget=i.elem,n=0;while((o=i.handlers[n++])&amp;&amp;!u.isImmediatePropagationStopped())u.rnamespace&amp;&amp;!1!==o.namespace&amp;&amp;!u.rnamespace.test(o.namespace)||(u.handleObj=o,u.data=o.data,void 0!==(r=((S.event.special[o.origType]||{}).handle||o.handler).apply(i.elem,s))&amp;&amp;!1===(u.result=r)&amp;&amp;(u.preventDefault(),u.stopPropagation()))}return c.postDispatch&amp;&amp;c.postDispatch.call(this,u),u.result}},handlers:function(e,t){var n,r,i,o,a,s=[],u=t.delegateCount,l=e.target;if(u&amp;&amp;l.nodeType&amp;&amp;!(&quot;click&quot;===e.type&amp;&amp;1&lt;=e.button))for(;l!==this;l=l.parentNode||this)if(1===l.nodeType&amp;&amp;(&quot;click&quot;!==e.type||!0!==l.disabled)){for(o=[],a={},n=0;n&lt;u;n++)void 0===a[i=(r=t[n]).selector+&quot; &quot;]&amp;&amp;(a[i]=r.needsContext?-1&lt;S(i,this).index(l):S.find(i,this,null,[l]).length),a[i]&amp;&amp;o.push(r);o.length&amp;&amp;s.push({elem:l,handlers:o})}return l=this,u&lt;t.length&amp;&amp;s.push({elem:l,handlers:t.slice(u)}),s},addProp:function(t,e){Object.defineProperty(S.Event.prototype,t,{enumerable:!0,configurable:!0,get:m(e)?function(){if(this.originalEvent)return e(this.originalEvent)}:function(){if(this.originalEvent)return this.originalEvent[t]},set:function(e){Object.defineProperty(this,t,{enumerable:!0,configurable:!0,writable:!0,value:e})}})},fix:function(e){return e[S.expando]?e:new S.Event(e)},special:{load:{noBubble:!0},click:{setup:function(e){var t=this||e;return pe.test(t.type)&amp;&amp;t.click&amp;&amp;A(t,&quot;input&quot;)&amp;&amp;Se(t,&quot;click&quot;,we),!1},trigger:function(e){var t=this||e;return pe.test(t.type)&amp;&amp;t.click&amp;&amp;A(t,&quot;input&quot;)&amp;&amp;Se(t,&quot;click&quot;),!0},_default:function(e){var t=e.target;return pe.test(t.type)&amp;&amp;t.click&amp;&amp;A(t,&quot;input&quot;)&amp;&amp;Y.get(t,&quot;click&quot;)||A(t,&quot;a&quot;)}},beforeunload:{postDispatch:function(e){void 0!==e.result&amp;&amp;e.originalEvent&amp;&amp;(e.originalEvent.returnValue=e.result)}}}},S.removeEvent=function(e,t,n){e.removeEventListener&amp;&amp;e.removeEventListener(t,n)},S.Event=function(e,t){if(!(this instanceof S.Event))return new S.Event(e,t);e&amp;&amp;e.type?(this.originalEvent=e,this.type=e.type,this.isDefaultPrevented=e.defaultPrevented||void 0===e.defaultPrevented&amp;&amp;!1===e.returnValue?we:Te,this.target=e.target&amp;&amp;3===e.target.nodeType?e.target.parentNode:e.target,this.currentTarget=e.currentTarget,this.relatedTarget=e.relatedTarget):this.type=e,t&amp;&amp;S.extend(this,t),this.timeStamp=e&amp;&amp;e.timeStamp||Date.now(),this[S.expando]=!0},S.Event.prototype={constructor:S.Event,isDefaultPrevented:Te,isPropagationStopped:Te,isImmediatePropagationStopped:Te,isSimulated:!1,preventDefault:function(){var e=this.originalEvent;this.isDefaultPrevented=we,e&amp;&amp;!this.isSimulated&amp;&amp;e.preventDefault()},stopPropagation:function(){var e=this.originalEvent;this.isPropagationStopped=we,e&amp;&amp;!this.isSimulated&amp;&amp;e.stopPropagation()},stopImmediatePropagation:function(){var e=this.originalEvent;this.isImmediatePropagationStopped=we,e&amp;&amp;!this.isSimulated&amp;&amp;e.stopImmediatePropagation(),this.stopPropagation()}},S.each({altKey:!0,bubbles:!0,cancelable:!0,changedTouches:!0,ctrlKey:!0,detail:!0,eventPhase:!0,metaKey:!0,pageX:!0,pageY:!0,shiftKey:!0,view:!0,&quot;char&quot;:!0,code:!0,charCode:!0,key:!0,keyCode:!0,button:!0,buttons:!0,clientX:!0,clientY:!0,offsetX:!0,offsetY:!0,pointerId:!0,pointerType:!0,screenX:!0,screenY:!0,targetTouches:!0,toElement:!0,touches:!0,which:!0},S.event.addProp),S.each({focus:&quot;focusin&quot;,blur:&quot;focusout&quot;},function(e,t){S.event.special[e]={setup:function(){return Se(this,e,Ce),!1},trigger:function(){return Se(this,e),!0},_default:function(){return!0},delegateType:t}}),S.each({mouseenter:&quot;mouseover&quot;,mouseleave:&quot;mouseout&quot;,pointerenter:&quot;pointerover&quot;,pointerleave:&quot;pointerout&quot;},function(e,i){S.event.special[e]={delegateType:i,bindType:i,handle:function(e){var t,n=e.relatedTarget,r=e.handleObj;return n&amp;&amp;(n===this||S.contains(this,n))||(e.type=r.origType,t=r.handler.apply(this,arguments),e.type=i),t}}}),S.fn.extend({on:function(e,t,n,r){return Ee(this,e,t,n,r)},one:function(e,t,n,r){return Ee(this,e,t,n,r,1)},off:function(e,t,n){var r,i;if(e&amp;&amp;e.preventDefault&amp;&amp;e.handleObj)return r=e.handleObj,S(e.delegateTarget).off(r.namespace?r.origType+&quot;.&quot;+r.namespace:r.origType,r.selector,r.handler),this;if(&quot;object&quot;==typeof e){for(i in e)this.off(i,t,e[i]);return this}return!1!==t&amp;&amp;&quot;function&quot;!=typeof t||(n=t,t=void 0),!1===n&amp;&amp;(n=Te),this.each(function(){S.event.remove(this,e,n,t)})}});var ke=/&lt;script|&lt;style|&lt;link/i,Ae=/checked\\s*(?:[^=]|=\\s*.checked.)/i,Ne=/^\\s*&lt;!(?:\\[CDATA\\[|--)|(?:\\]\\]|--)&gt;\\s*$/g;function je(e,t){return A(e,&quot;table&quot;)&amp;&amp;A(11!==t.nodeType?t:t.firstChild,&quot;tr&quot;)&amp;&amp;S(e).children(&quot;tbody&quot;)[0]||e}function De(e){return e.type=(null!==e.getAttribute(&quot;type&quot;))+&quot;/&quot;+e.type,e}function qe(e){return&quot;true/&quot;===(e.type||&quot;&quot;).slice(0,5)?e.type=e.type.slice(5):e.removeAttribute(&quot;type&quot;),e}function Le(e,t){var n,r,i,o,a,s;if(1===t.nodeType){if(Y.hasData(e)&amp;&amp;(s=Y.get(e).events))for(i in Y.remove(t,&quot;handle events&quot;),s)for(n=0,r=s[i].length;n&lt;r;n++)S.event.add(t,i,s[i][n]);Q.hasData(e)&amp;&amp;(o=Q.access(e),a=S.extend({},o),Q.set(t,a))}}function He(n,r,i,o){r=g(r);var e,t,a,s,u,l,c=0,f=n.length,p=f-1,d=r[0],h=m(d);if(h||1&lt;f&amp;&amp;&quot;string&quot;==typeof d&amp;&amp;!y.checkClone&amp;&amp;Ae.test(d))return n.each(function(e){var t=n.eq(e);h&amp;&amp;(r[0]=d.call(this,e,t.html())),He(t,r,i,o)});if(f&amp;&amp;(t=(e=xe(r,n[0].ownerDocument,!1,n,o)).firstChild,1===e.childNodes.length&amp;&amp;(e=t),t||o)){for(s=(a=S.map(ve(e,&quot;script&quot;),De)).length;c&lt;f;c++)u=e,c!==p&amp;&amp;(u=S.clone(u,!0,!0),s&amp;&amp;S.merge(a,ve(u,&quot;script&quot;))),i.call(n[c],u,c);if(s)for(l=a[a.length-1].ownerDocument,S.map(a,qe),c=0;c&lt;s;c++)u=a[c],he.test(u.type||&quot;&quot;)&amp;&amp;!Y.access(u,&quot;globalEval&quot;)&amp;&amp;S.contains(l,u)&amp;&amp;(u.src&amp;&amp;&quot;module&quot;!==(u.type||&quot;&quot;).toLowerCase()?S._evalUrl&amp;&amp;!u.noModule&amp;&amp;S._evalUrl(u.src,{nonce:u.nonce||u.getAttribute(&quot;nonce&quot;)},l):b(u.textContent.replace(Ne,&quot;&quot;),u,l))}return n}function Oe(e,t,n){for(var r,i=t?S.filter(t,e):e,o=0;null!=(r=i[o]);o++)n||1!==r.nodeType||S.cleanData(ve(r)),r.parentNode&amp;&amp;(n&amp;&amp;ie(r)&amp;&amp;ye(ve(r,&quot;script&quot;)),r.parentNode.removeChild(r));return e}S.extend({htmlPrefilter:function(e){return e},clone:function(e,t,n){var r,i,o,a,s,u,l,c=e.cloneNode(!0),f=ie(e);if(!(y.noCloneChecked||1!==e.nodeType&amp;&amp;11!==e.nodeType||S.isXMLDoc(e)))for(a=ve(c),r=0,i=(o=ve(e)).length;r&lt;i;r++)s=o[r],u=a[r],void 0,&quot;input&quot;===(l=u.nodeName.toLowerCase())&amp;&amp;pe.test(s.type)?u.checked=s.checked:&quot;input&quot;!==l&amp;&amp;&quot;textarea&quot;!==l||(u.defaultValue=s.defaultValue);if(t)if(n)for(o=o||ve(e),a=a||ve(c),r=0,i=o.length;r&lt;i;r++)Le(o[r],a[r]);else Le(e,c);return 0&lt;(a=ve(c,&quot;script&quot;)).length&amp;&amp;ye(a,!f&amp;&amp;ve(e,&quot;script&quot;)),c},cleanData:function(e){for(var t,n,r,i=S.event.special,o=0;void 0!==(n=e[o]);o++)if(V(n)){if(t=n[Y.expando]){if(t.events)for(r in t.events)i[r]?S.event.remove(n,r):S.removeEvent(n,r,t.handle);n[Y.expando]=void 0}n[Q.expando]&amp;&amp;(n[Q.expando]=void 0)}}}),S.fn.extend({detach:function(e){return Oe(this,e,!0)},remove:function(e){return Oe(this,e)},text:function(e){return $(this,function(e){return void 0===e?S.text(this):this.empty().each(function(){1!==this.nodeType&amp;&amp;11!==this.nodeType&amp;&amp;9!==this.nodeType||(this.textContent=e)})},null,e,arguments.length)},append:function(){return He(this,arguments,function(e){1!==this.nodeType&amp;&amp;11!==this.nodeType&amp;&amp;9!==this.nodeType||je(this,e).appendChild(e)})},prepend:function(){return He(this,arguments,function(e){if(1===this.nodeType||11===this.nodeType||9===this.nodeType){var t=je(this,e);t.insertBefore(e,t.firstChild)}})},before:function(){return He(this,arguments,function(e){this.parentNode&amp;&amp;this.parentNode.insertBefore(e,this)})},after:function(){return He(this,arguments,function(e){this.parentNode&amp;&amp;this.parentNode.insertBefore(e,this.nextSibling)})},empty:function(){for(var e,t=0;null!=(e=this[t]);t++)1===e.nodeType&amp;&amp;(S.cleanData(ve(e,!1)),e.textContent=&quot;&quot;);return this},clone:function(e,t){return e=null!=e&amp;&amp;e,t=null==t?e:t,this.map(function(){return S.clone(this,e,t)})},html:function(e){return $(this,function(e){var t=this[0]||{},n=0,r=this.length;if(void 0===e&amp;&amp;1===t.nodeType)return t.innerHTML;if(&quot;string&quot;==typeof e&amp;&amp;!ke.test(e)&amp;&amp;!ge[(de.exec(e)||[&quot;&quot;,&quot;&quot;])[1].toLowerCase()]){e=S.htmlPrefilter(e);try{for(;n&lt;r;n++)1===(t=this[n]||{}).nodeType&amp;&amp;(S.cleanData(ve(t,!1)),t.innerHTML=e);t=0}catch(e){}}t&amp;&amp;this.empty().append(e)},null,e,arguments.length)},replaceWith:function(){var n=[];return He(this,arguments,function(e){var t=this.parentNode;S.inArray(this,n)&lt;0&amp;&amp;(S.cleanData(ve(this)),t&amp;&amp;t.replaceChild(e,this))},n)}}),S.each({appendTo:&quot;append&quot;,prependTo:&quot;prepend&quot;,insertBefore:&quot;before&quot;,insertAfter:&quot;after&quot;,replaceAll:&quot;replaceWith&quot;},function(e,a){S.fn[e]=function(e){for(var t,n=[],r=S(e),i=r.length-1,o=0;o&lt;=i;o++)t=o===i?this:this.clone(!0),S(r[o])[a](t),u.apply(n,t.get());return this.pushStack(n)}});var Pe=new RegExp(&quot;^(&quot;+ee+&quot;)(?!px)[a-z%]+$&quot;,&quot;i&quot;),Re=function(e){var t=e.ownerDocument.defaultView;return t&amp;&amp;t.opener||(t=C),t.getComputedStyle(e)},Me=function(e,t,n){var r,i,o={};for(i in t)o[i]=e.style[i],e.style[i]=t[i];for(i in r=n.call(e),t)e.style[i]=o[i];return r},Ie=new RegExp(ne.join(&quot;|&quot;),&quot;i&quot;);function We(e,t,n){var r,i,o,a,s=e.style;return(n=n||Re(e))&amp;&amp;(&quot;&quot;!==(a=n.getPropertyValue(t)||n[t])||ie(e)||(a=S.style(e,t)),!y.pixelBoxStyles()&amp;&amp;Pe.test(a)&amp;&amp;Ie.test(t)&amp;&amp;(r=s.width,i=s.minWidth,o=s.maxWidth,s.minWidth=s.maxWidth=s.width=a,a=n.width,s.width=r,s.minWidth=i,s.maxWidth=o)),void 0!==a?a+&quot;&quot;:a}function Fe(e,t){return{get:function(){if(!e())return(this.get=t).apply(this,arguments);delete this.get}}}!function(){function e(){if(l){u.style.cssText=&quot;position:absolute;left:-11111px;width:60px;margin-top:1px;padding:0;border:0&quot;,l.style.cssText=&quot;position:relative;display:block;box-sizing:border-box;overflow:scroll;margin:auto;border:1px;padding:1px;width:60%;top:1%&quot;,re.appendChild(u).appendChild(l);var e=C.getComputedStyle(l);n=&quot;1%&quot;!==e.top,s=12===t(e.marginLeft),l.style.right=&quot;60%&quot;,o=36===t(e.right),r=36===t(e.width),l.style.position=&quot;absolute&quot;,i=12===t(l.offsetWidth/3),re.removeChild(u),l=null}}function t(e){return Math.round(parseFloat(e))}var n,r,i,o,a,s,u=E.createElement(&quot;div&quot;),l=E.createElement(&quot;div&quot;);l.style&amp;&amp;(l.style.backgroundClip=&quot;content-box&quot;,l.cloneNode(!0).style.backgroundClip=&quot;&quot;,y.clearCloneStyle=&quot;content-box&quot;===l.style.backgroundClip,S.extend(y,{boxSizingReliable:function(){return e(),r},pixelBoxStyles:function(){return e(),o},pixelPosition:function(){return e(),n},reliableMarginLeft:function(){return e(),s},scrollboxSize:function(){return e(),i},reliableTrDimensions:function(){var e,t,n,r;return null==a&amp;&amp;(e=E.createElement(&quot;table&quot;),t=E.createElement(&quot;tr&quot;),n=E.createElement(&quot;div&quot;),e.style.cssText=&quot;position:absolute;left:-11111px;border-collapse:separate&quot;,t.style.cssText=&quot;border:1px solid&quot;,t.style.height=&quot;1px&quot;,n.style.height=&quot;9px&quot;,n.style.display=&quot;block&quot;,re.appendChild(e).appendChild(t).appendChild(n),r=C.getComputedStyle(t),a=parseInt(r.height,10)+parseInt(r.borderTopWidth,10)+parseInt(r.borderBottomWidth,10)===t.offsetHeight,re.removeChild(e)),a}}))}();var Be=[&quot;Webkit&quot;,&quot;Moz&quot;,&quot;ms&quot;],$e=E.createElement(&quot;div&quot;).style,_e={};function ze(e){var t=S.cssProps[e]||_e[e];return t||(e in $e?e:_e[e]=function(e){var t=e[0].toUpperCase()+e.slice(1),n=Be.length;while(n--)if((e=Be[n]+t)in $e)return e}(e)||e)}var Ue=/^(none|table(?!-c[ea]).+)/,Xe=/^--/,Ve={position:&quot;absolute&quot;,visibility:&quot;hidden&quot;,display:&quot;block&quot;},Ge={letterSpacing:&quot;0&quot;,fontWeight:&quot;400&quot;};function Ye(e,t,n){var r=te.exec(t);return r?Math.max(0,r[2]-(n||0))+(r[3]||&quot;px&quot;):t}function Qe(e,t,n,r,i,o){var a=&quot;width&quot;===t?1:0,s=0,u=0;if(n===(r?&quot;border&quot;:&quot;content&quot;))return 0;for(;a&lt;4;a+=2)&quot;margin&quot;===n&amp;&amp;(u+=S.css(e,n+ne[a],!0,i)),r?(&quot;content&quot;===n&amp;&amp;(u-=S.css(e,&quot;padding&quot;+ne[a],!0,i)),&quot;margin&quot;!==n&amp;&amp;(u-=S.css(e,&quot;border&quot;+ne[a]+&quot;Width&quot;,!0,i))):(u+=S.css(e,&quot;padding&quot;+ne[a],!0,i),&quot;padding&quot;!==n?u+=S.css(e,&quot;border&quot;+ne[a]+&quot;Width&quot;,!0,i):s+=S.css(e,&quot;border&quot;+ne[a]+&quot;Width&quot;,!0,i));return!r&amp;&amp;0&lt;=o&amp;&amp;(u+=Math.max(0,Math.ceil(e[&quot;offset&quot;+t[0].toUpperCase()+t.slice(1)]-o-u-s-.5))||0),u}function Je(e,t,n){var r=Re(e),i=(!y.boxSizingReliable()||n)&amp;&amp;&quot;border-box&quot;===S.css(e,&quot;boxSizing&quot;,!1,r),o=i,a=We(e,t,r),s=&quot;offset&quot;+t[0].toUpperCase()+t.slice(1);if(Pe.test(a)){if(!n)return a;a=&quot;auto&quot;}return(!y.boxSizingReliable()&amp;&amp;i||!y.reliableTrDimensions()&amp;&amp;A(e,&quot;tr&quot;)||&quot;auto&quot;===a||!parseFloat(a)&amp;&amp;&quot;inline&quot;===S.css(e,&quot;display&quot;,!1,r))&amp;&amp;e.getClientRects().length&amp;&amp;(i=&quot;border-box&quot;===S.css(e,&quot;boxSizing&quot;,!1,r),(o=s in e)&amp;&amp;(a=e[s])),(a=parseFloat(a)||0)+Qe(e,t,n||(i?&quot;border&quot;:&quot;content&quot;),o,r,a)+&quot;px&quot;}function Ke(e,t,n,r,i){return new Ke.prototype.init(e,t,n,r,i)}S.extend({cssHooks:{opacity:{get:function(e,t){if(t){var n=We(e,&quot;opacity&quot;);return&quot;&quot;===n?&quot;1&quot;:n}}}},cssNumber:{animationIterationCount:!0,columnCount:!0,fillOpacity:!0,flexGrow:!0,flexShrink:!0,fontWeight:!0,gridArea:!0,gridColumn:!0,gridColumnEnd:!0,gridColumnStart:!0,gridRow:!0,gridRowEnd:!0,gridRowStart:!0,lineHeight:!0,opacity:!0,order:!0,orphans:!0,widows:!0,zIndex:!0,zoom:!0},cssProps:{},style:function(e,t,n,r){if(e&amp;&amp;3!==e.nodeType&amp;&amp;8!==e.nodeType&amp;&amp;e.style){var i,o,a,s=X(t),u=Xe.test(t),l=e.style;if(u||(t=ze(s)),a=S.cssHooks[t]||S.cssHooks[s],void 0===n)return a&amp;&amp;&quot;get&quot;in a&amp;&amp;void 0!==(i=a.get(e,!1,r))?i:l[t];&quot;string&quot;===(o=typeof n)&amp;&amp;(i=te.exec(n))&amp;&amp;i[1]&amp;&amp;(n=se(e,t,i),o=&quot;number&quot;),null!=n&amp;&amp;n==n&amp;&amp;(&quot;number&quot;!==o||u||(n+=i&amp;&amp;i[3]||(S.cssNumber[s]?&quot;&quot;:&quot;px&quot;)),y.clearCloneStyle||&quot;&quot;!==n||0!==t.indexOf(&quot;background&quot;)||(l[t]=&quot;inherit&quot;),a&amp;&amp;&quot;set&quot;in a&amp;&amp;void 0===(n=a.set(e,n,r))||(u?l.setProperty(t,n):l[t]=n))}},css:function(e,t,n,r){var i,o,a,s=X(t);return Xe.test(t)||(t=ze(s)),(a=S.cssHooks[t]||S.cssHooks[s])&amp;&amp;&quot;get&quot;in a&amp;&amp;(i=a.get(e,!0,n)),void 0===i&amp;&amp;(i=We(e,t,r)),&quot;normal&quot;===i&amp;&amp;t in Ge&amp;&amp;(i=Ge[t]),&quot;&quot;===n||n?(o=parseFloat(i),!0===n||isFinite(o)?o||0:i):i}}),S.each([&quot;height&quot;,&quot;width&quot;],function(e,u){S.cssHooks[u]={get:function(e,t,n){if(t)return!Ue.test(S.css(e,&quot;display&quot;))||e.getClientRects().length&amp;&amp;e.getBoundingClientRect().width?Je(e,u,n):Me(e,Ve,function(){return Je(e,u,n)})},set:function(e,t,n){var r,i=Re(e),o=!y.scrollboxSize()&amp;&amp;&quot;absolute&quot;===i.position,a=(o||n)&amp;&amp;&quot;border-box&quot;===S.css(e,&quot;boxSizing&quot;,!1,i),s=n?Qe(e,u,n,a,i):0;return a&amp;&amp;o&amp;&amp;(s-=Math.ceil(e[&quot;offset&quot;+u[0].toUpperCase()+u.slice(1)]-parseFloat(i[u])-Qe(e,u,&quot;border&quot;,!1,i)-.5)),s&amp;&amp;(r=te.exec(t))&amp;&amp;&quot;px&quot;!==(r[3]||&quot;px&quot;)&amp;&amp;(e.style[u]=t,t=S.css(e,u)),Ye(0,t,s)}}}),S.cssHooks.marginLeft=Fe(y.reliableMarginLeft,function(e,t){if(t)return(parseFloat(We(e,&quot;marginLeft&quot;))||e.getBoundingClientRect().left-Me(e,{marginLeft:0},function(){return e.getBoundingClientRect().left}))+&quot;px&quot;}),S.each({margin:&quot;&quot;,padding:&quot;&quot;,border:&quot;Width&quot;},function(i,o){S.cssHooks[i+o]={expand:function(e){for(var t=0,n={},r=&quot;string&quot;==typeof e?e.split(&quot; &quot;):[e];t&lt;4;t++)n[i+ne[t]+o]=r[t]||r[t-2]||r[0];return n}},&quot;margin&quot;!==i&amp;&amp;(S.cssHooks[i+o].set=Ye)}),S.fn.extend({css:function(e,t){return $(this,function(e,t,n){var r,i,o={},a=0;if(Array.isArray(t)){for(r=Re(e),i=t.length;a&lt;i;a++)o[t[a]]=S.css(e,t[a],!1,r);return o}return void 0!==n?S.style(e,t,n):S.css(e,t)},e,t,1&lt;arguments.length)}}),((S.Tween=Ke).prototype={constructor:Ke,init:function(e,t,n,r,i,o){this.elem=e,this.prop=n,this.easing=i||S.easing._default,this.options=t,this.start=this.now=this.cur(),this.end=r,this.unit=o||(S.cssNumber[n]?&quot;&quot;:&quot;px&quot;)},cur:function(){var e=Ke.propHooks[this.prop];return e&amp;&amp;e.get?e.get(this):Ke.propHooks._default.get(this)},run:function(e){var t,n=Ke.propHooks[this.prop];return this.options.duration?this.pos=t=S.easing[this.easing](e,this.options.duration*e,0,1,this.options.duration):this.pos=t=e,this.now=(this.end-this.start)*t+this.start,this.options.step&amp;&amp;this.options.step.call(this.elem,this.now,this),n&amp;&amp;n.set?n.set(this):Ke.propHooks._default.set(this),this}}).init.prototype=Ke.prototype,(Ke.propHooks={_default:{get:function(e){var t;return 1!==e.elem.nodeType||null!=e.elem[e.prop]&amp;&amp;null==e.elem.style[e.prop]?e.elem[e.prop]:(t=S.css(e.elem,e.prop,&quot;&quot;))&amp;&amp;&quot;auto&quot;!==t?t:0},set:function(e){S.fx.step[e.prop]?S.fx.step[e.prop](e):1!==e.elem.nodeType||!S.cssHooks[e.prop]&amp;&amp;null==e.elem.style[ze(e.prop)]?e.elem[e.prop]=e.now:S.style(e.elem,e.prop,e.now+e.unit)}}}).scrollTop=Ke.propHooks.scrollLeft={set:function(e){e.elem.nodeType&amp;&amp;e.elem.parentNode&amp;&amp;(e.elem[e.prop]=e.now)}},S.easing={linear:function(e){return e},swing:function(e){return.5-Math.cos(e*Math.PI)/2},_default:&quot;swing&quot;},S.fx=Ke.prototype.init,S.fx.step={};var Ze,et,tt,nt,rt=/^(?:toggle|show|hide)$/,it=/queueHooks$/;function ot(){et&amp;&amp;(!1===E.hidden&amp;&amp;C.requestAnimationFrame?C.requestAnimationFrame(ot):C.setTimeout(ot,S.fx.interval),S.fx.tick())}function at(){return C.setTimeout(function(){Ze=void 0}),Ze=Date.now()}function st(e,t){var n,r=0,i={height:e};for(t=t?1:0;r&lt;4;r+=2-t)i[&quot;margin&quot;+(n=ne[r])]=i[&quot;padding&quot;+n]=e;return t&amp;&amp;(i.opacity=i.width=e),i}function ut(e,t,n){for(var r,i=(lt.tweeners[t]||[]).concat(lt.tweeners[&quot;*&quot;]),o=0,a=i.length;o&lt;a;o++)if(r=i[o].call(n,t,e))return r}function lt(o,e,t){var n,a,r=0,i=lt.prefilters.length,s=S.Deferred().always(function(){delete u.elem}),u=function(){if(a)return!1;for(var e=Ze||at(),t=Math.max(0,l.startTime+l.duration-e),n=1-(t/l.duration||0),r=0,i=l.tweens.length;r&lt;i;r++)l.tweens[r].run(n);return s.notifyWith(o,[l,n,t]),n&lt;1&amp;&amp;i?t:(i||s.notifyWith(o,[l,1,0]),s.resolveWith(o,[l]),!1)},l=s.promise({elem:o,props:S.extend({},e),opts:S.extend(!0,{specialEasing:{},easing:S.easing._default},t),originalProperties:e,originalOptions:t,startTime:Ze||at(),duration:t.duration,tweens:[],createTween:function(e,t){var n=S.Tween(o,l.opts,e,t,l.opts.specialEasing[e]||l.opts.easing);return l.tweens.push(n),n},stop:function(e){var t=0,n=e?l.tweens.length:0;if(a)return this;for(a=!0;t&lt;n;t++)l.tweens[t].run(1);return e?(s.notifyWith(o,[l,1,0]),s.resolveWith(o,[l,e])):s.rejectWith(o,[l,e]),this}}),c=l.props;for(!function(e,t){var n,r,i,o,a;for(n in e)if(i=t[r=X(n)],o=e[n],Array.isArray(o)&amp;&amp;(i=o[1],o=e[n]=o[0]),n!==r&amp;&amp;(e[r]=o,delete e[n]),(a=S.cssHooks[r])&amp;&amp;&quot;expand&quot;in a)for(n in o=a.expand(o),delete e[r],o)n in e||(e[n]=o[n],t[n]=i);else t[r]=i}(c,l.opts.specialEasing);r&lt;i;r++)if(n=lt.prefilters[r].call(l,o,c,l.opts))return m(n.stop)&amp;&amp;(S._queueHooks(l.elem,l.opts.queue).stop=n.stop.bind(n)),n;return S.map(c,ut,l),m(l.opts.start)&amp;&amp;l.opts.start.call(o,l),l.progress(l.opts.progress).done(l.opts.done,l.opts.complete).fail(l.opts.fail).always(l.opts.always),S.fx.timer(S.extend(u,{elem:o,anim:l,queue:l.opts.queue})),l}S.Animation=S.extend(lt,{tweeners:{&quot;*&quot;:[function(e,t){var n=this.createTween(e,t);return se(n.elem,e,te.exec(t),n),n}]},tweener:function(e,t){m(e)?(t=e,e=[&quot;*&quot;]):e=e.match(P);for(var n,r=0,i=e.length;r&lt;i;r++)n=e[r],lt.tweeners[n]=lt.tweeners[n]||[],lt.tweeners[n].unshift(t)},prefilters:[function(e,t,n){var r,i,o,a,s,u,l,c,f=&quot;width&quot;in t||&quot;height&quot;in t,p=this,d={},h=e.style,g=e.nodeType&amp;&amp;ae(e),v=Y.get(e,&quot;fxshow&quot;);for(r in n.queue||(null==(a=S._queueHooks(e,&quot;fx&quot;)).unqueued&amp;&amp;(a.unqueued=0,s=a.empty.fire,a.empty.fire=function(){a.unqueued||s()}),a.unqueued++,p.always(function(){p.always(function(){a.unqueued--,S.queue(e,&quot;fx&quot;).length||a.empty.fire()})})),t)if(i=t[r],rt.test(i)){if(delete t[r],o=o||&quot;toggle&quot;===i,i===(g?&quot;hide&quot;:&quot;show&quot;)){if(&quot;show&quot;!==i||!v||void 0===v[r])continue;g=!0}d[r]=v&amp;&amp;v[r]||S.style(e,r)}if((u=!S.isEmptyObject(t))||!S.isEmptyObject(d))for(r in f&amp;&amp;1===e.nodeType&amp;&amp;(n.overflow=[h.overflow,h.overflowX,h.overflowY],null==(l=v&amp;&amp;v.display)&amp;&amp;(l=Y.get(e,&quot;display&quot;)),&quot;none&quot;===(c=S.css(e,&quot;display&quot;))&amp;&amp;(l?c=l:(le([e],!0),l=e.style.display||l,c=S.css(e,&quot;display&quot;),le([e]))),(&quot;inline&quot;===c||&quot;inline-block&quot;===c&amp;&amp;null!=l)&amp;&amp;&quot;none&quot;===S.css(e,&quot;float&quot;)&amp;&amp;(u||(p.done(function(){h.display=l}),null==l&amp;&amp;(c=h.display,l=&quot;none&quot;===c?&quot;&quot;:c)),h.display=&quot;inline-block&quot;)),n.overflow&amp;&amp;(h.overflow=&quot;hidden&quot;,p.always(function(){h.overflow=n.overflow[0],h.overflowX=n.overflow[1],h.overflowY=n.overflow[2]})),u=!1,d)u||(v?&quot;hidden&quot;in v&amp;&amp;(g=v.hidden):v=Y.access(e,&quot;fxshow&quot;,{display:l}),o&amp;&amp;(v.hidden=!g),g&amp;&amp;le([e],!0),p.done(function(){for(r in g||le([e]),Y.remove(e,&quot;fxshow&quot;),d)S.style(e,r,d[r])})),u=ut(g?v[r]:0,r,p),r in v||(v[r]=u.start,g&amp;&amp;(u.end=u.start,u.start=0))}],prefilter:function(e,t){t?lt.prefilters.unshift(e):lt.prefilters.push(e)}}),S.speed=function(e,t,n){var r=e&amp;&amp;&quot;object&quot;==typeof e?S.extend({},e):{complete:n||!n&amp;&amp;t||m(e)&amp;&amp;e,duration:e,easing:n&amp;&amp;t||t&amp;&amp;!m(t)&amp;&amp;t};return S.fx.off?r.duration=0:&quot;number&quot;!=typeof r.duration&amp;&amp;(r.duration in S.fx.speeds?r.duration=S.fx.speeds[r.duration]:r.duration=S.fx.speeds._default),null!=r.queue&amp;&amp;!0!==r.queue||(r.queue=&quot;fx&quot;),r.old=r.complete,r.complete=function(){m(r.old)&amp;&amp;r.old.call(this),r.queue&amp;&amp;S.dequeue(this,r.queue)},r},S.fn.extend({fadeTo:function(e,t,n,r){return this.filter(ae).css(&quot;opacity&quot;,0).show().end().animate({opacity:t},e,n,r)},animate:function(t,e,n,r){var i=S.isEmptyObject(t),o=S.speed(e,n,r),a=function(){var e=lt(this,S.extend({},t),o);(i||Y.get(this,&quot;finish&quot;))&amp;&amp;e.stop(!0)};return a.finish=a,i||!1===o.queue?this.each(a):this.queue(o.queue,a)},stop:function(i,e,o){var a=function(e){var t=e.stop;delete e.stop,t(o)};return&quot;string&quot;!=typeof i&amp;&amp;(o=e,e=i,i=void 0),e&amp;&amp;this.queue(i||&quot;fx&quot;,[]),this.each(function(){var e=!0,t=null!=i&amp;&amp;i+&quot;queueHooks&quot;,n=S.timers,r=Y.get(this);if(t)r[t]&amp;&amp;r[t].stop&amp;&amp;a(r[t]);else for(t in r)r[t]&amp;&amp;r[t].stop&amp;&amp;it.test(t)&amp;&amp;a(r[t]);for(t=n.length;t--;)n[t].elem!==this||null!=i&amp;&amp;n[t].queue!==i||(n[t].anim.stop(o),e=!1,n.splice(t,1));!e&amp;&amp;o||S.dequeue(this,i)})},finish:function(a){return!1!==a&amp;&amp;(a=a||&quot;fx&quot;),this.each(function(){var e,t=Y.get(this),n=t[a+&quot;queue&quot;],r=t[a+&quot;queueHooks&quot;],i=S.timers,o=n?n.length:0;for(t.finish=!0,S.queue(this,a,[]),r&amp;&amp;r.stop&amp;&amp;r.stop.call(this,!0),e=i.length;e--;)i[e].elem===this&amp;&amp;i[e].queue===a&amp;&amp;(i[e].anim.stop(!0),i.splice(e,1));for(e=0;e&lt;o;e++)n[e]&amp;&amp;n[e].finish&amp;&amp;n[e].finish.call(this);delete t.finish})}}),S.each([&quot;toggle&quot;,&quot;show&quot;,&quot;hide&quot;],function(e,r){var i=S.fn[r];S.fn[r]=function(e,t,n){return null==e||&quot;boolean&quot;==typeof e?i.apply(this,arguments):this.animate(st(r,!0),e,t,n)}}),S.each({slideDown:st(&quot;show&quot;),slideUp:st(&quot;hide&quot;),slideToggle:st(&quot;toggle&quot;),fadeIn:{opacity:&quot;show&quot;},fadeOut:{opacity:&quot;hide&quot;},fadeToggle:{opacity:&quot;toggle&quot;}},function(e,r){S.fn[e]=function(e,t,n){return this.animate(r,e,t,n)}}),S.timers=[],S.fx.tick=function(){var e,t=0,n=S.timers;for(Ze=Date.now();t&lt;n.length;t++)(e=n[t])()||n[t]!==e||n.splice(t--,1);n.length||S.fx.stop(),Ze=void 0},S.fx.timer=function(e){S.timers.push(e),S.fx.start()},S.fx.interval=13,S.fx.start=function(){et||(et=!0,ot())},S.fx.stop=function(){et=null},S.fx.speeds={slow:600,fast:200,_default:400},S.fn.delay=function(r,e){return r=S.fx&amp;&amp;S.fx.speeds[r]||r,e=e||&quot;fx&quot;,this.queue(e,function(e,t){var n=C.setTimeout(e,r);t.stop=function(){C.clearTimeout(n)}})},tt=E.createElement(&quot;input&quot;),nt=E.createElement(&quot;select&quot;).appendChild(E.createElement(&quot;option&quot;)),tt.type=&quot;checkbox&quot;,y.checkOn=&quot;&quot;!==tt.value,y.optSelected=nt.selected,(tt=E.createElement(&quot;input&quot;)).value=&quot;t&quot;,tt.type=&quot;radio&quot;,y.radioValue=&quot;t&quot;===tt.value;var ct,ft=S.expr.attrHandle;S.fn.extend({attr:function(e,t){return $(this,S.attr,e,t,1&lt;arguments.length)},removeAttr:function(e){return this.each(function(){S.removeAttr(this,e)})}}),S.extend({attr:function(e,t,n){var r,i,o=e.nodeType;if(3!==o&amp;&amp;8!==o&amp;&amp;2!==o)return&quot;undefined&quot;==typeof e.getAttribute?S.prop(e,t,n):(1===o&amp;&amp;S.isXMLDoc(e)||(i=S.attrHooks[t.toLowerCase()]||(S.expr.match.bool.test(t)?ct:void 0)),void 0!==n?null===n?void S.removeAttr(e,t):i&amp;&amp;&quot;set&quot;in i&amp;&amp;void 0!==(r=i.set(e,n,t))?r:(e.setAttribute(t,n+&quot;&quot;),n):i&amp;&amp;&quot;get&quot;in i&amp;&amp;null!==(r=i.get(e,t))?r:null==(r=S.find.attr(e,t))?void 0:r)},attrHooks:{type:{set:function(e,t){if(!y.radioValue&amp;&amp;&quot;radio&quot;===t&amp;&amp;A(e,&quot;input&quot;)){var n=e.value;return e.setAttribute(&quot;type&quot;,t),n&amp;&amp;(e.value=n),t}}}},removeAttr:function(e,t){var n,r=0,i=t&amp;&amp;t.match(P);if(i&amp;&amp;1===e.nodeType)while(n=i[r++])e.removeAttribute(n)}}),ct={set:function(e,t,n){return!1===t?S.removeAttr(e,n):e.setAttribute(n,n),n}},S.each(S.expr.match.bool.source.match(/\\w+/g),function(e,t){var a=ft[t]||S.find.attr;ft[t]=function(e,t,n){var r,i,o=t.toLowerCase();return n||(i=ft[o],ft[o]=r,r=null!=a(e,t,n)?o:null,ft[o]=i),r}});var pt=/^(?:input|select|textarea|button)$/i,dt=/^(?:a|area)$/i;function ht(e){return(e.match(P)||[]).join(&quot; &quot;)}function gt(e){return e.getAttribute&amp;&amp;e.getAttribute(&quot;class&quot;)||&quot;&quot;}function vt(e){return Array.isArray(e)?e:&quot;string&quot;==typeof e&amp;&amp;e.match(P)||[]}S.fn.extend({prop:function(e,t){return $(this,S.prop,e,t,1&lt;arguments.length)},removeProp:function(e){return this.each(function(){delete this[S.propFix[e]||e]})}}),S.extend({prop:function(e,t,n){var r,i,o=e.nodeType;if(3!==o&amp;&amp;8!==o&amp;&amp;2!==o)return 1===o&amp;&amp;S.isXMLDoc(e)||(t=S.propFix[t]||t,i=S.propHooks[t]),void 0!==n?i&amp;&amp;&quot;set&quot;in i&amp;&amp;void 0!==(r=i.set(e,n,t))?r:e[t]=n:i&amp;&amp;&quot;get&quot;in i&amp;&amp;null!==(r=i.get(e,t))?r:e[t]},propHooks:{tabIndex:{get:function(e){var t=S.find.attr(e,&quot;tabindex&quot;);return t?parseInt(t,10):pt.test(e.nodeName)||dt.test(e.nodeName)&amp;&amp;e.href?0:-1}}},propFix:{&quot;for&quot;:&quot;htmlFor&quot;,&quot;class&quot;:&quot;className&quot;}}),y.optSelected||(S.propHooks.selected={get:function(e){var t=e.parentNode;return t&amp;&amp;t.parentNode&amp;&amp;t.parentNode.selectedIndex,null},set:function(e){var t=e.parentNode;t&amp;&amp;(t.selectedIndex,t.parentNode&amp;&amp;t.parentNode.selectedIndex)}}),S.each([&quot;tabIndex&quot;,&quot;readOnly&quot;,&quot;maxLength&quot;,&quot;cellSpacing&quot;,&quot;cellPadding&quot;,&quot;rowSpan&quot;,&quot;colSpan&quot;,&quot;useMap&quot;,&quot;frameBorder&quot;,&quot;contentEditable&quot;],function(){S.propFix[this.toLowerCase()]=this}),S.fn.extend({addClass:function(t){var e,n,r,i,o,a,s,u=0;if(m(t))return this.each(function(e){S(this).addClass(t.call(this,e,gt(this)))});if((e=vt(t)).length)while(n=this[u++])if(i=gt(n),r=1===n.nodeType&amp;&amp;&quot; &quot;+ht(i)+&quot; &quot;){a=0;while(o=e[a++])r.indexOf(&quot; &quot;+o+&quot; &quot;)&lt;0&amp;&amp;(r+=o+&quot; &quot;);i!==(s=ht(r))&amp;&amp;n.setAttribute(&quot;class&quot;,s)}return this},removeClass:function(t){var e,n,r,i,o,a,s,u=0;if(m(t))return this.each(function(e){S(this).removeClass(t.call(this,e,gt(this)))});if(!arguments.length)return this.attr(&quot;class&quot;,&quot;&quot;);if((e=vt(t)).length)while(n=this[u++])if(i=gt(n),r=1===n.nodeType&amp;&amp;&quot; &quot;+ht(i)+&quot; &quot;){a=0;while(o=e[a++])while(-1&lt;r.indexOf(&quot; &quot;+o+&quot; &quot;))r=r.replace(&quot; &quot;+o+&quot; &quot;,&quot; &quot;);i!==(s=ht(r))&amp;&amp;n.setAttribute(&quot;class&quot;,s)}return this},toggleClass:function(i,t){var o=typeof i,a=&quot;string&quot;===o||Array.isArray(i);return&quot;boolean&quot;==typeof t&amp;&amp;a?t?this.addClass(i):this.removeClass(i):m(i)?this.each(function(e){S(this).toggleClass(i.call(this,e,gt(this),t),t)}):this.each(function(){var e,t,n,r;if(a){t=0,n=S(this),r=vt(i);while(e=r[t++])n.hasClass(e)?n.removeClass(e):n.addClass(e)}else void 0!==i&amp;&amp;&quot;boolean&quot;!==o||((e=gt(this))&amp;&amp;Y.set(this,&quot;__className__&quot;,e),this.setAttribute&amp;&amp;this.setAttribute(&quot;class&quot;,e||!1===i?&quot;&quot;:Y.get(this,&quot;__className__&quot;)||&quot;&quot;))})},hasClass:function(e){var t,n,r=0;t=&quot; &quot;+e+&quot; &quot;;while(n=this[r++])if(1===n.nodeType&amp;&amp;-1&lt;(&quot; &quot;+ht(gt(n))+&quot; &quot;).indexOf(t))return!0;return!1}});var yt=/\\r/g;S.fn.extend({val:function(n){var r,e,i,t=this[0];return arguments.length?(i=m(n),this.each(function(e){var t;1===this.nodeType&amp;&amp;(null==(t=i?n.call(this,e,S(this).val()):n)?t=&quot;&quot;:&quot;number&quot;==typeof t?t+=&quot;&quot;:Array.isArray(t)&amp;&amp;(t=S.map(t,function(e){return null==e?&quot;&quot;:e+&quot;&quot;})),(r=S.valHooks[this.type]||S.valHooks[this.nodeName.toLowerCase()])&amp;&amp;&quot;set&quot;in r&amp;&amp;void 0!==r.set(this,t,&quot;value&quot;)||(this.value=t))})):t?(r=S.valHooks[t.type]||S.valHooks[t.nodeName.toLowerCase()])&amp;&amp;&quot;get&quot;in r&amp;&amp;void 0!==(e=r.get(t,&quot;value&quot;))?e:&quot;string&quot;==typeof(e=t.value)?e.replace(yt,&quot;&quot;):null==e?&quot;&quot;:e:void 0}}),S.extend({valHooks:{option:{get:function(e){var t=S.find.attr(e,&quot;value&quot;);return null!=t?t:ht(S.text(e))}},select:{get:function(e){var t,n,r,i=e.options,o=e.selectedIndex,a=&quot;select-one&quot;===e.type,s=a?null:[],u=a?o+1:i.length;for(r=o&lt;0?u:a?o:0;r&lt;u;r++)if(((n=i[r]).selected||r===o)&amp;&amp;!n.disabled&amp;&amp;(!n.parentNode.disabled||!A(n.parentNode,&quot;optgroup&quot;))){if(t=S(n).val(),a)return t;s.push(t)}return s},set:function(e,t){var n,r,i=e.options,o=S.makeArray(t),a=i.length;while(a--)((r=i[a]).selected=-1&lt;S.inArray(S.valHooks.option.get(r),o))&amp;&amp;(n=!0);return n||(e.selectedIndex=-1),o}}}}),S.each([&quot;radio&quot;,&quot;checkbox&quot;],function(){S.valHooks[this]={set:function(e,t){if(Array.isArray(t))return e.checked=-1&lt;S.inArray(S(e).val(),t)}},y.checkOn||(S.valHooks[this].get=function(e){return null===e.getAttribute(&quot;value&quot;)?&quot;on&quot;:e.value})}),y.focusin=&quot;onfocusin&quot;in C;var mt=/^(?:focusinfocus|focusoutblur)$/,xt=function(e){e.stopPropagation()};S.extend(S.event,{trigger:function(e,t,n,r){var i,o,a,s,u,l,c,f,p=[n||E],d=v.call(e,&quot;type&quot;)?e.type:e,h=v.call(e,&quot;namespace&quot;)?e.namespace.split(&quot;.&quot;):[];if(o=f=a=n=n||E,3!==n.nodeType&amp;&amp;8!==n.nodeType&amp;&amp;!mt.test(d+S.event.triggered)&amp;&amp;(-1&lt;d.indexOf(&quot;.&quot;)&amp;&amp;(d=(h=d.split(&quot;.&quot;)).shift(),h.sort()),u=d.indexOf(&quot;:&quot;)&lt;0&amp;&amp;&quot;on&quot;+d,(e=e[S.expando]?e:new S.Event(d,&quot;object&quot;==typeof e&amp;&amp;e)).isTrigger=r?2:3,e.namespace=h.join(&quot;.&quot;),e.rnamespace=e.namespace?new RegExp(&quot;(^|\\\\.)&quot;+h.join(&quot;\\\\.(?:.*\\\\.|)&quot;)+&quot;(\\\\.|$)&quot;):null,e.result=void 0,e.target||(e.target=n),t=null==t?[e]:S.makeArray(t,[e]),c=S.event.special[d]||{},r||!c.trigger||!1!==c.trigger.apply(n,t))){if(!r&amp;&amp;!c.noBubble&amp;&amp;!x(n)){for(s=c.delegateType||d,mt.test(s+d)||(o=o.parentNode);o;o=o.parentNode)p.push(o),a=o;a===(n.ownerDocument||E)&amp;&amp;p.push(a.defaultView||a.parentWindow||C)}i=0;while((o=p[i++])&amp;&amp;!e.isPropagationStopped())f=o,e.type=1&lt;i?s:c.bindType||d,(l=(Y.get(o,&quot;events&quot;)||Object.create(null))[e.type]&amp;&amp;Y.get(o,&quot;handle&quot;))&amp;&amp;l.apply(o,t),(l=u&amp;&amp;o[u])&amp;&amp;l.apply&amp;&amp;V(o)&amp;&amp;(e.result=l.apply(o,t),!1===e.result&amp;&amp;e.preventDefault());return e.type=d,r||e.isDefaultPrevented()||c._default&amp;&amp;!1!==c._default.apply(p.pop(),t)||!V(n)||u&amp;&amp;m(n[d])&amp;&amp;!x(n)&amp;&amp;((a=n[u])&amp;&amp;(n[u]=null),S.event.triggered=d,e.isPropagationStopped()&amp;&amp;f.addEventListener(d,xt),n[d](),e.isPropagationStopped()&amp;&amp;f.removeEventListener(d,xt),S.event.triggered=void 0,a&amp;&amp;(n[u]=a)),e.result}},simulate:function(e,t,n){var r=S.extend(new S.Event,n,{type:e,isSimulated:!0});S.event.trigger(r,null,t)}}),S.fn.extend({trigger:function(e,t){return this.each(function(){S.event.trigger(e,t,this)})},triggerHandler:function(e,t){var n=this[0];if(n)return S.event.trigger(e,t,n,!0)}}),y.focusin||S.each({focus:&quot;focusin&quot;,blur:&quot;focusout&quot;},function(n,r){var i=function(e){S.event.simulate(r,e.target,S.event.fix(e))};S.event.special[r]={setup:function(){var e=this.ownerDocument||this.document||this,t=Y.access(e,r);t||e.addEventListener(n,i,!0),Y.access(e,r,(t||0)+1)},teardown:function(){var e=this.ownerDocument||this.document||this,t=Y.access(e,r)-1;t?Y.access(e,r,t):(e.removeEventListener(n,i,!0),Y.remove(e,r))}}});var bt=C.location,wt={guid:Date.now()},Tt=/\\?/;S.parseXML=function(e){var t,n;if(!e||&quot;string&quot;!=typeof e)return null;try{t=(new C.DOMParser).parseFromString(e,&quot;text/xml&quot;)}catch(e){}return n=t&amp;&amp;t.getElementsByTagName(&quot;parsererror&quot;)[0],t&amp;&amp;!n||S.error(&quot;Invalid XML: &quot;+(n?S.map(n.childNodes,function(e){return e.textContent}).join(&quot;\\n&quot;):e)),t};var Ct=/\\[\\]$/,Et=/\\r?\\n/g,St=/^(?:submit|button|image|reset|file)$/i,kt=/^(?:input|select|textarea|keygen)/i;function At(n,e,r,i){var t;if(Array.isArray(e))S.each(e,function(e,t){r||Ct.test(n)?i(n,t):At(n+&quot;[&quot;+(&quot;object&quot;==typeof t&amp;&amp;null!=t?e:&quot;&quot;)+&quot;]&quot;,t,r,i)});else if(r||&quot;object&quot;!==w(e))i(n,e);else for(t in e)At(n+&quot;[&quot;+t+&quot;]&quot;,e[t],r,i)}S.param=function(e,t){var n,r=[],i=function(e,t){var n=m(t)?t():t;r[r.length]=encodeURIComponent(e)+&quot;=&quot;+encodeURIComponent(null==n?&quot;&quot;:n)};if(null==e)return&quot;&quot;;if(Array.isArray(e)||e.jquery&amp;&amp;!S.isPlainObject(e))S.each(e,function(){i(this.name,this.value)});else for(n in e)At(n,e[n],t,i);return r.join(&quot;&amp;&quot;)},S.fn.extend({serialize:function(){return S.param(this.serializeArray())},serializeArray:function(){return this.map(function(){var e=S.prop(this,&quot;elements&quot;);return e?S.makeArray(e):this}).filter(function(){var e=this.type;return this.name&amp;&amp;!S(this).is(&quot;:disabled&quot;)&amp;&amp;kt.test(this.nodeName)&amp;&amp;!St.test(e)&amp;&amp;(this.checked||!pe.test(e))}).map(function(e,t){var n=S(this).val();return null==n?null:Array.isArray(n)?S.map(n,function(e){return{name:t.name,value:e.replace(Et,&quot;\\r\\n&quot;)}}):{name:t.name,value:n.replace(Et,&quot;\\r\\n&quot;)}}).get()}});var Nt=/%20/g,jt=/#.*$/,Dt=/([?&amp;])_=[^&amp;]*/,qt=/^(.*?):[ \\t]*([^\\r\\n]*)$/gm,Lt=/^(?:GET|HEAD)$/,Ht=/^\\/\\//,Ot={},Pt={},Rt=&quot;*/&quot;.concat(&quot;*&quot;),Mt=E.createElement(&quot;a&quot;);function It(o){return function(e,t){&quot;string&quot;!=typeof e&amp;&amp;(t=e,e=&quot;*&quot;);var n,r=0,i=e.toLowerCase().match(P)||[];if(m(t))while(n=i[r++])&quot;+&quot;===n[0]?(n=n.slice(1)||&quot;*&quot;,(o[n]=o[n]||[]).unshift(t)):(o[n]=o[n]||[]).push(t)}}function Wt(t,i,o,a){var s={},u=t===Pt;function l(e){var r;return s[e]=!0,S.each(t[e]||[],function(e,t){var n=t(i,o,a);return&quot;string&quot;!=typeof n||u||s[n]?u?!(r=n):void 0:(i.dataTypes.unshift(n),l(n),!1)}),r}return l(i.dataTypes[0])||!s[&quot;*&quot;]&amp;&amp;l(&quot;*&quot;)}function Ft(e,t){var n,r,i=S.ajaxSettings.flatOptions||{};for(n in t)void 0!==t[n]&amp;&amp;((i[n]?e:r||(r={}))[n]=t[n]);return r&amp;&amp;S.extend(!0,e,r),e}Mt.href=bt.href,S.extend({active:0,lastModified:{},etag:{},ajaxSettings:{url:bt.href,type:&quot;GET&quot;,isLocal:/^(?:about|app|app-storage|.+-extension|file|res|widget):$/.test(bt.protocol),global:!0,processData:!0,async:!0,contentType:&quot;application/x-www-form-urlencoded; charset=UTF-8&quot;,accepts:{&quot;*&quot;:Rt,text:&quot;text/plain&quot;,html:&quot;text/html&quot;,xml:&quot;application/xml, text/xml&quot;,json:&quot;application/json, text/javascript&quot;},contents:{xml:/\\bxml\\b/,html:/\\bhtml/,json:/\\bjson\\b/},responseFields:{xml:&quot;responseXML&quot;,text:&quot;responseText&quot;,json:&quot;responseJSON&quot;},converters:{&quot;* text&quot;:String,&quot;text html&quot;:!0,&quot;text json&quot;:JSON.parse,&quot;text xml&quot;:S.parseXML},flatOptions:{url:!0,context:!0}},ajaxSetup:function(e,t){return t?Ft(Ft(e,S.ajaxSettings),t):Ft(S.ajaxSettings,e)},ajaxPrefilter:It(Ot),ajaxTransport:It(Pt),ajax:function(e,t){&quot;object&quot;==typeof e&amp;&amp;(t=e,e=void 0),t=t||{};var c,f,p,n,d,r,h,g,i,o,v=S.ajaxSetup({},t),y=v.context||v,m=v.context&amp;&amp;(y.nodeType||y.jquery)?S(y):S.event,x=S.Deferred(),b=S.Callbacks(&quot;once memory&quot;),w=v.statusCode||{},a={},s={},u=&quot;canceled&quot;,T={readyState:0,getResponseHeader:function(e){var t;if(h){if(!n){n={};while(t=qt.exec(p))n[t[1].toLowerCase()+&quot; &quot;]=(n[t[1].toLowerCase()+&quot; &quot;]||[]).concat(t[2])}t=n[e.toLowerCase()+&quot; &quot;]}return null==t?null:t.join(&quot;, &quot;)},getAllResponseHeaders:function(){return h?p:null},setRequestHeader:function(e,t){return null==h&amp;&amp;(e=s[e.toLowerCase()]=s[e.toLowerCase()]||e,a[e]=t),this},overrideMimeType:function(e){return null==h&amp;&amp;(v.mimeType=e),this},statusCode:function(e){var t;if(e)if(h)T.always(e[T.status]);else for(t in e)w[t]=[w[t],e[t]];return this},abort:function(e){var t=e||u;return c&amp;&amp;c.abort(t),l(0,t),this}};if(x.promise(T),v.url=((e||v.url||bt.href)+&quot;&quot;).replace(Ht,bt.protocol+&quot;//&quot;),v.type=t.method||t.type||v.method||v.type,v.dataTypes=(v.dataType||&quot;*&quot;).toLowerCase().match(P)||[&quot;&quot;],null==v.crossDomain){r=E.createElement(&quot;a&quot;);try{r.href=v.url,r.href=r.href,v.crossDomain=Mt.protocol+&quot;//&quot;+Mt.host!=r.protocol+&quot;//&quot;+r.host}catch(e){v.crossDomain=!0}}if(v.data&amp;&amp;v.processData&amp;&amp;&quot;string&quot;!=typeof v.data&amp;&amp;(v.data=S.param(v.data,v.traditional)),Wt(Ot,v,t,T),h)return T;for(i in(g=S.event&amp;&amp;v.global)&amp;&amp;0==S.active++&amp;&amp;S.event.trigger(&quot;ajaxStart&quot;),v.type=v.type.toUpperCase(),v.hasContent=!Lt.test(v.type),f=v.url.replace(jt,&quot;&quot;),v.hasContent?v.data&amp;&amp;v.processData&amp;&amp;0===(v.contentType||&quot;&quot;).indexOf(&quot;application/x-www-form-urlencoded&quot;)&amp;&amp;(v.data=v.data.replace(Nt,&quot;+&quot;)):(o=v.url.slice(f.length),v.data&amp;&amp;(v.processData||&quot;string&quot;==typeof v.data)&amp;&amp;(f+=(Tt.test(f)?&quot;&amp;&quot;:&quot;?&quot;)+v.data,delete v.data),!1===v.cache&amp;&amp;(f=f.replace(Dt,&quot;$1&quot;),o=(Tt.test(f)?&quot;&amp;&quot;:&quot;?&quot;)+&quot;_=&quot;+wt.guid+++o),v.url=f+o),v.ifModified&amp;&amp;(S.lastModified[f]&amp;&amp;T.setRequestHeader(&quot;If-Modified-Since&quot;,S.lastModified[f]),S.etag[f]&amp;&amp;T.setRequestHeader(&quot;If-None-Match&quot;,S.etag[f])),(v.data&amp;&amp;v.hasContent&amp;&amp;!1!==v.contentType||t.contentType)&amp;&amp;T.setRequestHeader(&quot;Content-Type&quot;,v.contentType),T.setRequestHeader(&quot;Accept&quot;,v.dataTypes[0]&amp;&amp;v.accepts[v.dataTypes[0]]?v.accepts[v.dataTypes[0]]+(&quot;*&quot;!==v.dataTypes[0]?&quot;, &quot;+Rt+&quot;; q=0.01&quot;:&quot;&quot;):v.accepts[&quot;*&quot;]),v.headers)T.setRequestHeader(i,v.headers[i]);if(v.beforeSend&amp;&amp;(!1===v.beforeSend.call(y,T,v)||h))return T.abort();if(u=&quot;abort&quot;,b.add(v.complete),T.done(v.success),T.fail(v.error),c=Wt(Pt,v,t,T)){if(T.readyState=1,g&amp;&amp;m.trigger(&quot;ajaxSend&quot;,[T,v]),h)return T;v.async&amp;&amp;0&lt;v.timeout&amp;&amp;(d=C.setTimeout(function(){T.abort(&quot;timeout&quot;)},v.timeout));try{h=!1,c.send(a,l)}catch(e){if(h)throw e;l(-1,e)}}else l(-1,&quot;No Transport&quot;);function l(e,t,n,r){var i,o,a,s,u,l=t;h||(h=!0,d&amp;&amp;C.clearTimeout(d),c=void 0,p=r||&quot;&quot;,T.readyState=0&lt;e?4:0,i=200&lt;=e&amp;&amp;e&lt;300||304===e,n&amp;&amp;(s=function(e,t,n){var r,i,o,a,s=e.contents,u=e.dataTypes;while(&quot;*&quot;===u[0])u.shift(),void 0===r&amp;&amp;(r=e.mimeType||t.getResponseHeader(&quot;Content-Type&quot;));if(r)for(i in s)if(s[i]&amp;&amp;s[i].test(r)){u.unshift(i);break}if(u[0]in n)o=u[0];else{for(i in n){if(!u[0]||e.converters[i+&quot; &quot;+u[0]]){o=i;break}a||(a=i)}o=o||a}if(o)return o!==u[0]&amp;&amp;u.unshift(o),n[o]}(v,T,n)),!i&amp;&amp;-1&lt;S.inArray(&quot;script&quot;,v.dataTypes)&amp;&amp;S.inArray(&quot;json&quot;,v.dataTypes)&lt;0&amp;&amp;(v.converters[&quot;text script&quot;]=function(){}),s=function(e,t,n,r){var i,o,a,s,u,l={},c=e.dataTypes.slice();if(c[1])for(a in e.converters)l[a.toLowerCase()]=e.converters[a];o=c.shift();while(o)if(e.responseFields[o]&amp;&amp;(n[e.responseFields[o]]=t),!u&amp;&amp;r&amp;&amp;e.dataFilter&amp;&amp;(t=e.dataFilter(t,e.dataType)),u=o,o=c.shift())if(&quot;*&quot;===o)o=u;else if(&quot;*&quot;!==u&amp;&amp;u!==o){if(!(a=l[u+&quot; &quot;+o]||l[&quot;* &quot;+o]))for(i in l)if((s=i.split(&quot; &quot;))[1]===o&amp;&amp;(a=l[u+&quot; &quot;+s[0]]||l[&quot;* &quot;+s[0]])){!0===a?a=l[i]:!0!==l[i]&amp;&amp;(o=s[0],c.unshift(s[1]));break}if(!0!==a)if(a&amp;&amp;e[&quot;throws&quot;])t=a(t);else try{t=a(t)}catch(e){return{state:&quot;parsererror&quot;,error:a?e:&quot;No conversion from &quot;+u+&quot; to &quot;+o}}}return{state:&quot;success&quot;,data:t}}(v,s,T,i),i?(v.ifModified&amp;&amp;((u=T.getResponseHeader(&quot;Last-Modified&quot;))&amp;&amp;(S.lastModified[f]=u),(u=T.getResponseHeader(&quot;etag&quot;))&amp;&amp;(S.etag[f]=u)),204===e||&quot;HEAD&quot;===v.type?l=&quot;nocontent&quot;:304===e?l=&quot;notmodified&quot;:(l=s.state,o=s.data,i=!(a=s.error))):(a=l,!e&amp;&amp;l||(l=&quot;error&quot;,e&lt;0&amp;&amp;(e=0))),T.status=e,T.statusText=(t||l)+&quot;&quot;,i?x.resolveWith(y,[o,l,T]):x.rejectWith(y,[T,l,a]),T.statusCode(w),w=void 0,g&amp;&amp;m.trigger(i?&quot;ajaxSuccess&quot;:&quot;ajaxError&quot;,[T,v,i?o:a]),b.fireWith(y,[T,l]),g&amp;&amp;(m.trigger(&quot;ajaxComplete&quot;,[T,v]),--S.active||S.event.trigger(&quot;ajaxStop&quot;)))}return T},getJSON:function(e,t,n){return S.get(e,t,n,&quot;json&quot;)},getScript:function(e,t){return S.get(e,void 0,t,&quot;script&quot;)}}),S.each([&quot;get&quot;,&quot;post&quot;],function(e,i){S[i]=function(e,t,n,r){return m(t)&amp;&amp;(r=r||n,n=t,t=void 0),S.ajax(S.extend({url:e,type:i,dataType:r,data:t,success:n},S.isPlainObject(e)&amp;&amp;e))}}),S.ajaxPrefilter(function(e){var t;for(t in e.headers)&quot;content-type&quot;===t.toLowerCase()&amp;&amp;(e.contentType=e.headers[t]||&quot;&quot;)}),S._evalUrl=function(e,t,n){return S.ajax({url:e,type:&quot;GET&quot;,dataType:&quot;script&quot;,cache:!0,async:!1,global:!1,converters:{&quot;text script&quot;:function(){}},dataFilter:function(e){S.globalEval(e,t,n)}})},S.fn.extend({wrapAll:function(e){var t;return this[0]&amp;&amp;(m(e)&amp;&amp;(e=e.call(this[0])),t=S(e,this[0].ownerDocument).eq(0).clone(!0),this[0].parentNode&amp;&amp;t.insertBefore(this[0]),t.map(function(){var e=this;while(e.firstElementChild)e=e.firstElementChild;return e}).append(this)),this},wrapInner:function(n){return m(n)?this.each(function(e){S(this).wrapInner(n.call(this,e))}):this.each(function(){var e=S(this),t=e.contents();t.length?t.wrapAll(n):e.append(n)})},wrap:function(t){var n=m(t);return this.each(function(e){S(this).wrapAll(n?t.call(this,e):t)})},unwrap:function(e){return this.parent(e).not(&quot;body&quot;).each(function(){S(this).replaceWith(this.childNodes)}),this}}),S.expr.pseudos.hidden=function(e){return!S.expr.pseudos.visible(e)},S.expr.pseudos.visible=function(e){return!!(e.offsetWidth||e.offsetHeight||e.getClientRects().length)},S.ajaxSettings.xhr=function(){try{return new C.XMLHttpRequest}catch(e){}};var Bt={0:200,1223:204},$t=S.ajaxSettings.xhr();y.cors=!!$t&amp;&amp;&quot;withCredentials&quot;in $t,y.ajax=$t=!!$t,S.ajaxTransport(function(i){var o,a;if(y.cors||$t&amp;&amp;!i.crossDomain)return{send:function(e,t){var n,r=i.xhr();if(r.open(i.type,i.url,i.async,i.username,i.password),i.xhrFields)for(n in i.xhrFields)r[n]=i.xhrFields[n];for(n in i.mimeType&amp;&amp;r.overrideMimeType&amp;&amp;r.overrideMimeType(i.mimeType),i.crossDomain||e[&quot;X-Requested-With&quot;]||(e[&quot;X-Requested-With&quot;]=&quot;XMLHttpRequest&quot;),e)r.setRequestHeader(n,e[n]);o=function(e){return function(){o&amp;&amp;(o=a=r.onload=r.onerror=r.onabort=r.ontimeout=r.onreadystatechange=null,&quot;abort&quot;===e?r.abort():&quot;error&quot;===e?&quot;number&quot;!=typeof r.status?t(0,&quot;error&quot;):t(r.status,r.statusText):t(Bt[r.status]||r.status,r.statusText,&quot;text&quot;!==(r.responseType||&quot;text&quot;)||&quot;string&quot;!=typeof r.responseText?{binary:r.response}:{text:r.responseText},r.getAllResponseHeaders()))}},r.onload=o(),a=r.onerror=r.ontimeout=o(&quot;error&quot;),void 0!==r.onabort?r.onabort=a:r.onreadystatechange=function(){4===r.readyState&amp;&amp;C.setTimeout(function(){o&amp;&amp;a()})},o=o(&quot;abort&quot;);try{r.send(i.hasContent&amp;&amp;i.data||null)}catch(e){if(o)throw e}},abort:function(){o&amp;&amp;o()}}}),S.ajaxPrefilter(function(e){e.crossDomain&amp;&amp;(e.contents.script=!1)}),S.ajaxSetup({accepts:{script:&quot;text/javascript, application/javascript, application/ecmascript, application/x-ecmascript&quot;},contents:{script:/\\b(?:java|ecma)script\\b/},converters:{&quot;text script&quot;:function(e){return S.globalEval(e),e}}}),S.ajaxPrefilter(&quot;script&quot;,function(e){void 0===e.cache&amp;&amp;(e.cache=!1),e.crossDomain&amp;&amp;(e.type=&quot;GET&quot;)}),S.ajaxTransport(&quot;script&quot;,function(n){var r,i;if(n.crossDomain||n.scriptAttrs)return{send:function(e,t){r=S(&quot;&lt;script&gt;&quot;).attr(n.scriptAttrs||{}).prop({charset:n.scriptCharset,src:n.url}).on(&quot;load error&quot;,i=function(e){r.remove(),i=null,e&amp;&amp;t(&quot;error&quot;===e.type?404:200,e.type)}),E.head.appendChild(r[0])},abort:function(){i&amp;&amp;i()}}});var _t,zt=[],Ut=/(=)\\?(?=&amp;|$)|\\?\\?/;S.ajaxSetup({jsonp:&quot;callback&quot;,jsonpCallback:function(){var e=zt.pop()||S.expando+&quot;_&quot;+wt.guid++;return this[e]=!0,e}}),S.ajaxPrefilter(&quot;json jsonp&quot;,function(e,t,n){var r,i,o,a=!1!==e.jsonp&amp;&amp;(Ut.test(e.url)?&quot;url&quot;:&quot;string&quot;==typeof e.data&amp;&amp;0===(e.contentType||&quot;&quot;).indexOf(&quot;application/x-www-form-urlencoded&quot;)&amp;&amp;Ut.test(e.data)&amp;&amp;&quot;data&quot;);if(a||&quot;jsonp&quot;===e.dataTypes[0])return r=e.jsonpCallback=m(e.jsonpCallback)?e.jsonpCallback():e.jsonpCallback,a?e[a]=e[a].replace(Ut,&quot;$1&quot;+r):!1!==e.jsonp&amp;&amp;(e.url+=(Tt.test(e.url)?&quot;&amp;&quot;:&quot;?&quot;)+e.jsonp+&quot;=&quot;+r),e.converters[&quot;script json&quot;]=function(){return o||S.error(r+&quot; was not called&quot;),o[0]},e.dataTypes[0]=&quot;json&quot;,i=C[r],C[r]=function(){o=arguments},n.always(function(){void 0===i?S(C).removeProp(r):C[r]=i,e[r]&amp;&amp;(e.jsonpCallback=t.jsonpCallback,zt.push(r)),o&amp;&amp;m(i)&amp;&amp;i(o[0]),o=i=void 0}),&quot;script&quot;}),y.createHTMLDocument=((_t=E.implementation.createHTMLDocument(&quot;&quot;).body).innerHTML=&quot;&lt;form&gt;&lt;/form&gt;&lt;form&gt;&lt;/form&gt;&quot;,2===_t.childNodes.length),S.parseHTML=function(e,t,n){return&quot;string&quot;!=typeof e?[]:(&quot;boolean&quot;==typeof t&amp;&amp;(n=t,t=!1),t||(y.createHTMLDocument?((r=(t=E.implementation.createHTMLDocument(&quot;&quot;)).createElement(&quot;base&quot;)).href=E.location.href,t.head.appendChild(r)):t=E),o=!n&amp;&amp;[],(i=N.exec(e))?[t.createElement(i[1])]:(i=xe([e],t,o),o&amp;&amp;o.length&amp;&amp;S(o).remove(),S.merge([],i.childNodes)));var r,i,o},S.fn.load=function(e,t,n){var r,i,o,a=this,s=e.indexOf(&quot; &quot;);return-1&lt;s&amp;&amp;(r=ht(e.slice(s)),e=e.slice(0,s)),m(t)?(n=t,t=void 0):t&amp;&amp;&quot;object&quot;==typeof t&amp;&amp;(i=&quot;POST&quot;),0&lt;a.length&amp;&amp;S.ajax({url:e,type:i||&quot;GET&quot;,dataType:&quot;html&quot;,data:t}).done(function(e){o=arguments,a.html(r?S(&quot;&lt;div&gt;&quot;).append(S.parseHTML(e)).find(r):e)}).always(n&amp;&amp;function(e,t){a.each(function(){n.apply(this,o||[e.responseText,t,e])})}),this},S.expr.pseudos.animated=function(t){return S.grep(S.timers,function(e){return t===e.elem}).length},S.offset={setOffset:function(e,t,n){var r,i,o,a,s,u,l=S.css(e,&quot;position&quot;),c=S(e),f={};&quot;static&quot;===l&amp;&amp;(e.style.position=&quot;relative&quot;),s=c.offset(),o=S.css(e,&quot;top&quot;),u=S.css(e,&quot;left&quot;),(&quot;absolute&quot;===l||&quot;fixed&quot;===l)&amp;&amp;-1&lt;(o+u).indexOf(&quot;auto&quot;)?(a=(r=c.position()).top,i=r.left):(a=parseFloat(o)||0,i=parseFloat(u)||0),m(t)&amp;&amp;(t=t.call(e,n,S.extend({},s))),null!=t.top&amp;&amp;(f.top=t.top-s.top+a),null!=t.left&amp;&amp;(f.left=t.left-s.left+i),&quot;using&quot;in t?t.using.call(e,f):c.css(f)}},S.fn.extend({offset:function(t){if(arguments.length)return void 0===t?this:this.each(function(e){S.offset.setOffset(this,t,e)});var e,n,r=this[0];return r?r.getClientRects().length?(e=r.getBoundingClientRect(),n=r.ownerDocument.defaultView,{top:e.top+n.pageYOffset,left:e.left+n.pageXOffset}):{top:0,left:0}:void 0},position:function(){if(this[0]){var e,t,n,r=this[0],i={top:0,left:0};if(&quot;fixed&quot;===S.css(r,&quot;position&quot;))t=r.getBoundingClientRect();else{t=this.offset(),n=r.ownerDocument,e=r.offsetParent||n.documentElement;while(e&amp;&amp;(e===n.body||e===n.documentElement)&amp;&amp;&quot;static&quot;===S.css(e,&quot;position&quot;))e=e.parentNode;e&amp;&amp;e!==r&amp;&amp;1===e.nodeType&amp;&amp;((i=S(e).offset()).top+=S.css(e,&quot;borderTopWidth&quot;,!0),i.left+=S.css(e,&quot;borderLeftWidth&quot;,!0))}return{top:t.top-i.top-S.css(r,&quot;marginTop&quot;,!0),left:t.left-i.left-S.css(r,&quot;marginLeft&quot;,!0)}}},offsetParent:function(){return this.map(function(){var e=this.offsetParent;while(e&amp;&amp;&quot;static&quot;===S.css(e,&quot;position&quot;))e=e.offsetParent;return e||re})}}),S.each({scrollLeft:&quot;pageXOffset&quot;,scrollTop:&quot;pageYOffset&quot;},function(t,i){var o=&quot;pageYOffset&quot;===i;S.fn[t]=function(e){return $(this,function(e,t,n){var r;if(x(e)?r=e:9===e.nodeType&amp;&amp;(r=e.defaultView),void 0===n)return r?r[i]:e[t];r?r.scrollTo(o?r.pageXOffset:n,o?n:r.pageYOffset):e[t]=n},t,e,arguments.length)}}),S.each([&quot;top&quot;,&quot;left&quot;],function(e,n){S.cssHooks[n]=Fe(y.pixelPosition,function(e,t){if(t)return t=We(e,n),Pe.test(t)?S(e).position()[n]+&quot;px&quot;:t})}),S.each({Height:&quot;height&quot;,Width:&quot;width&quot;},function(a,s){S.each({padding:&quot;inner&quot;+a,content:s,&quot;&quot;:&quot;outer&quot;+a},function(r,o){S.fn[o]=function(e,t){var n=arguments.length&amp;&amp;(r||&quot;boolean&quot;!=typeof e),i=r||(!0===e||!0===t?&quot;margin&quot;:&quot;border&quot;);return $(this,function(e,t,n){var r;return x(e)?0===o.indexOf(&quot;outer&quot;)?e[&quot;inner&quot;+a]:e.document.documentElement[&quot;client&quot;+a]:9===e.nodeType?(r=e.documentElement,Math.max(e.body[&quot;scroll&quot;+a],r[&quot;scroll&quot;+a],e.body[&quot;offset&quot;+a],r[&quot;offset&quot;+a],r[&quot;client&quot;+a])):void 0===n?S.css(e,t,i):S.style(e,t,n,i)},s,n?e:void 0,n)}})}),S.each([&quot;ajaxStart&quot;,&quot;ajaxStop&quot;,&quot;ajaxComplete&quot;,&quot;ajaxError&quot;,&quot;ajaxSuccess&quot;,&quot;ajaxSend&quot;],function(e,t){S.fn[t]=function(e){return this.on(t,e)}}),S.fn.extend({bind:function(e,t,n){return this.on(e,null,t,n)},unbind:function(e,t){return this.off(e,null,t)},delegate:function(e,t,n,r){return this.on(t,e,n,r)},undelegate:function(e,t,n){return 1===arguments.length?this.off(e,&quot;**&quot;):this.off(t,e||&quot;**&quot;,n)},hover:function(e,t){return this.mouseenter(e).mouseleave(t||e)}}),S.each(&quot;blur focus focusin focusout resize scroll click dblclick mousedown mouseup mousemove mouseover mouseout mouseenter mouseleave change select submit keydown keypress keyup contextmenu&quot;.split(&quot; &quot;),function(e,n){S.fn[n]=function(e,t){return 0&lt;arguments.length?this.on(n,null,e,t):this.trigger(n)}});var Xt=/^[\\s\\uFEFF\\xA0]+|[\\s\\uFEFF\\xA0]+$/g;S.proxy=function(e,t){var n,r,i;if(&quot;string&quot;==typeof t&amp;&amp;(n=e[t],t=e,e=n),m(e))return r=s.call(arguments,2),(i=function(){return e.apply(t||this,r.concat(s.call(arguments)))}).guid=e.guid=e.guid||S.guid++,i},S.holdReady=function(e){e?S.readyWait++:S.ready(!0)},S.isArray=Array.isArray,S.parseJSON=JSON.parse,S.nodeName=A,S.isFunction=m,S.isWindow=x,S.camelCase=X,S.type=w,S.now=Date.now,S.isNumeric=function(e){var t=S.type(e);return(&quot;number&quot;===t||&quot;string&quot;===t)&amp;&amp;!isNaN(e-parseFloat(e))},S.trim=function(e){return null==e?&quot;&quot;:(e+&quot;&quot;).replace(Xt,&quot;&quot;)},&quot;function&quot;==typeof define&amp;&amp;define.amd&amp;&amp;define(&quot;jquery&quot;,[],function(){return S});var Vt=C.jQuery,Gt=C.$;return S.noConflict=function(e){return C.$===S&amp;&amp;(C.$=Gt),e&amp;&amp;C.jQuery===S&amp;&amp;(C.jQuery=Vt),S},&quot;undefined&quot;==typeof e&amp;&amp;(C.jQuery=C.$=S),S});\n",
              "\n",
              "  &lt;/script&gt;\n",
              "  &lt;script&gt;\n",
              "    function brainsprite(d){function a(f,e){f.imageSmoothingEnabled=e;return f}var b={};var c={nanValue:false,smooth:false,flagValue:false,colorBackground:&quot;#000000&quot;,flagCoordinates:false,origin:{X:0,Y:0,Z:0},voxelSize:1,affine:false,heightColorBar:0.04,sizeFont:0.075,colorFont:&quot;#FFFFFF&quot;,nbDecimals:3,crosshair:false,colorCrosshair:&quot;#0000FF&quot;,sizeCrosshair:0.9,title:false,numSlice:false,};var b=Object.assign({},c,d);if(typeof b.affine===&quot;boolean&quot;&amp;&amp;b.affine===false){b.affine=[[b.voxelSize,0,0,-b.origin.X],[0,b.voxelSize,0,-b.origin.Y],[0,0,b.voxelSize,-b.origin.Z],[0,0,0,1]]}b.canvas=document.getElementById(d.canvas);b.context=b.canvas.getContext(&quot;2d&quot;);b.context=a(b.context,b.smooth);b.canvasY=document.createElement(&quot;canvas&quot;);b.contextY=b.canvasY.getContext(&quot;2d&quot;);b.canvasZ=document.createElement(&quot;canvas&quot;);b.contextZ=b.canvasZ.getContext(&quot;2d&quot;);b.canvasRead=document.createElement(&quot;canvas&quot;);b.contextRead=b.canvasRead.getContext(&quot;2d&quot;);b.canvasRead.width=1;b.canvasRead.height=1;b.onclick=typeof d.onclick!==&quot;undefined&quot;?d.onclick:&quot;&quot;;if(b.flagCoordinates){b.spaceFont=0.1}else{b.spaceFont=0}b.sprite=document.getElementById(d.sprite);b.nbCol=b.sprite.width/d.nbSlice.Y;b.nbRow=b.sprite.height/d.nbSlice.Z;b.nbSlice={X:typeof d.nbSlice.X!==&quot;undefined&quot;?d.nbSlice.X:b.nbCol*b.nbRow,Y:d.nbSlice.Y,Z:d.nbSlice.Z};b.widthCanvas={X:0,Y:0,Z:0};b.heightCanvas={X:0,Y:0,Z:0,max:0};if(b.numSlice==false){b.numSlice={X:Math.floor(b.nbSlice.X/2),Y:Math.floor(b.nbSlice.Y/2),Z:Math.floor(b.nbSlice.Z/2)}}b.coordinatesSlice={X:0,Y:0,Z:0};b.planes={};b.planes.canvasMaster=document.createElement(&quot;canvas&quot;);b.planes.contextMaster=b.planes.canvasMaster.getContext(&quot;2d&quot;);d.overlay=typeof d.overlay!==&quot;undefined&quot;?d.overlay:false;if(d.overlay){b.overlay={};b.overlay.sprite=document.getElementById(d.overlay.sprite);b.overlay.nbCol=b.overlay.sprite.width/d.overlay.nbSlice.Y;b.overlay.nbRow=b.overlay.sprite.height/d.overlay.nbSlice.Z;b.overlay.nbSlice={X:typeof d.overlay.nbSlice.X!==&quot;undefined&quot;?d.overlay.nbSlice.X:b.overlay.nbCol*b.overlay.nbRow,Y:d.overlay.nbSlice.Y,Z:d.overlay.nbSlice.Z};b.overlay.opacity=typeof d.overlay.opacity!==&quot;undefined&quot;?d.overlay.opacity:1}d.colorMap=typeof d.colorMap!==&quot;undefined&quot;?d.colorMap:false;if(d.colorMap){b.colorMap={};b.colorMap.img=document.getElementById(d.colorMap.img);b.colorMap.min=d.colorMap.min;b.colorMap.max=d.colorMap.max;d.colorMap.hide=typeof d.colorMap.hide!==&quot;undefined&quot;?d.colorMap.hide:false;b.colorMap.canvas=document.createElement(&quot;canvas&quot;);b.colorMap.context=b.colorMap.canvas.getContext(&quot;2d&quot;);b.colorMap.canvas.width=b.colorMap.img.width;b.colorMap.canvas.height=b.colorMap.img.height;b.colorMap.context.drawImage(b.colorMap.img,0,0,b.colorMap.img.width,b.colorMap.img.height,0,0,b.colorMap.img.width,b.colorMap.img.height)}b.getValue=function(i,h){if(!h){return NaN}var f,l,e,j,k,g;e=h.canvas.width;j=NaN;k=Infinity;for(xx=0;xx&lt;e;xx++){f=h.context.getImageData(xx,0,1,1).data;l=Math.pow(f[0]-i[0],2)+Math.pow(f[1]-i[1],2)+Math.pow(f[2]-i[2],2);if(l&lt;k){j=xx;k=l}}g=(j*(h.max-h.min)/(e-1))+h.min;return g};b.updateValue=function(){var h={};var f=[];var e=[];if(b.overlay&amp;&amp;!b.nanValue){try{h.XW=Math.round((b.numSlice.X)%b.nbCol);h.XH=Math.round((b.numSlice.X-h.XW)/b.nbCol);b.contextRead.fillStyle=&quot;#FFFFFF&quot;;b.contextRead.fillRect(0,0,1,1);b.contextRead.drawImage(b.overlay.sprite,h.XW*b.nbSlice.Y+b.numSlice.Y,h.XH*b.nbSlice.Z+b.nbSlice.Z-b.numSlice.Z-1,1,1,0,0,1,1);rgb=b.contextRead.getImageData(0,0,1,1).data;f=((rgb[0]==255)&amp;&amp;(rgb[1]==255)&amp;&amp;(rgb[2]==255));b.contextRead.fillStyle=&quot;#000000&quot;;b.contextRead.fillRect(0,0,1,1);b.contextRead.drawImage(b.overlay.sprite,h.XW*b.nbSlice.Y+b.numSlice.Y,h.XH*b.nbSlice.Z+b.nbSlice.Z-b.numSlice.Z-1,1,1,0,0,1,1);rgb=b.contextRead.getImageData(0,0,1,1).data;e=((rgb[0]==0)&amp;&amp;(rgb[1]==0)&amp;&amp;(rgb[2]==0));if(f&amp;&amp;e){b.voxelValue=NaN}else{b.voxelValue=b.getValue(rgb,b.colorMap)}}catch(g){console.warn(g.message);rgb=0;b.nanValue=true;b.voxelValue=NaN}}else{b.voxelValue=NaN}};b.multiply=function(p,o){var l=p.length,h=p[0].length,k=o.length,f=o[0].length,g=new Array(l);for(var e=0;e&lt;l;++e){g[e]=new Array(f);for(var n=0;n&lt;f;++n){g[e][n]=0;for(var j=0;j&lt;h;++j){g[e][n]+=p[e][j]*o[j][n]}}}return g};b.updateCoordinates=function(){coordVoxel=b.multiply(b.affine,[[b.numSlice.X+1],[b.numSlice.Y+1],[b.numSlice.Z+1],[1]]);b.coordinatesSlice.X=coordVoxel[0];b.coordinatesSlice.Y=coordVoxel[1];b.coordinatesSlice.Z=coordVoxel[2]};b.init=function(){b.widthCanvas.X=Math.floor(b.canvas.parentElement.clientWidth*(b.nbSlice.Y/(2*b.nbSlice.X+b.nbSlice.Y)));b.widthCanvas.Y=Math.floor(b.canvas.parentElement.clientWidth*(b.nbSlice.X/(2*b.nbSlice.X+b.nbSlice.Y)));b.widthCanvas.Z=Math.floor(b.canvas.parentElement.clientWidth*(b.nbSlice.X/(2*b.nbSlice.X+b.nbSlice.Y)));b.widthCanvas.max=Math.max(b.widthCanvas.X,b.widthCanvas.Y,b.widthCanvas.Z);b.heightCanvas.X=Math.floor(b.widthCanvas.X*b.nbSlice.Z/b.nbSlice.Y);b.heightCanvas.Y=Math.floor(b.widthCanvas.Y*b.nbSlice.Z/b.nbSlice.X);b.heightCanvas.Z=Math.floor(b.widthCanvas.Z*b.nbSlice.Y/b.nbSlice.X);b.heightCanvas.max=Math.max(b.heightCanvas.X,b.heightCanvas.Y,b.heightCanvas.Z);if(b.canvas.width!=(b.widthCanvas.X+b.widthCanvas.Y+b.widthCanvas.Z)){b.canvas.width=b.widthCanvas.X+b.widthCanvas.Y+b.widthCanvas.Z;b.canvas.height=Math.round((1+b.spaceFont)*(b.heightCanvas.max));b.context=a(b.context,b.smooth)}b.sizeFontPixels=Math.round(b.sizeFont*(b.heightCanvas.max));b.context.font=b.sizeFontPixels+&quot;px Arial&quot;;b.planes.canvasMaster.width=b.sprite.width;b.planes.canvasMaster.height=b.sprite.height;b.planes.contextMaster.globalAlpha=1;b.planes.contextMaster.drawImage(b.sprite,0,0,b.sprite.width,b.sprite.height,0,0,b.sprite.width,b.sprite.height);if(b.overlay){b.planes.contextMaster.globalAlpha=b.overlay.opacity;b.planes.contextMaster.drawImage(b.overlay.sprite,0,0,b.overlay.sprite.width,b.overlay.sprite.height,0,0,b.sprite.width,b.sprite.height)}b.planes.canvasX=document.createElement(&quot;canvas&quot;);b.planes.contextX=b.planes.canvasX.getContext(&quot;2d&quot;);b.planes.canvasX.width=b.nbSlice.Y;b.planes.canvasX.height=b.nbSlice.Z;b.planes.canvasY=document.createElement(&quot;canvas&quot;);b.planes.contextY=b.planes.canvasY.getContext(&quot;2d&quot;);b.planes.canvasY.width=b.nbSlice.X;b.planes.canvasY.height=b.nbSlice.Z;b.planes.canvasZ=document.createElement(&quot;canvas&quot;);b.planes.contextZ=b.planes.canvasZ.getContext(&quot;2d&quot;);b.planes.canvasZ.width=b.nbSlice.X;b.planes.canvasZ.height=b.nbSlice.Y;b.planes.contextZ.rotate(-Math.PI/2);b.planes.contextZ.translate(-b.nbSlice.Y,0);b.updateValue();b.updateCoordinates();b.numSlice.X=Math.round(b.numSlice.X);b.numSlice.Y=Math.round(b.numSlice.Y);b.numSlice.Z=Math.round(b.numSlice.Z)};b.draw=function(h,f){var j={},i,e,g={X:&quot;&quot;,Y:&quot;&quot;,Z:&quot;&quot;};g.X=Math.ceil((1-b.sizeCrosshair)*b.nbSlice.X/2);g.Y=Math.ceil((1-b.sizeCrosshair)*b.nbSlice.Y/2);g.Z=Math.ceil((1-b.sizeCrosshair)*b.nbSlice.Z/2);switch(f){case&quot;X&quot;:j.XW=((b.numSlice.X)%b.nbCol);j.XH=(b.numSlice.X-j.XW)/b.nbCol;b.planes.contextX.drawImage(b.planes.canvasMaster,j.XW*b.nbSlice.Y,j.XH*b.nbSlice.Z,b.nbSlice.Y,b.nbSlice.Z,0,0,b.nbSlice.Y,b.nbSlice.Z);if(b.crosshair){b.planes.contextX.fillStyle=b.colorCrosshair;b.planes.contextX.fillRect(b.numSlice.Y,g.Z,1,b.nbSlice.Z-2*g.Z);b.planes.contextX.fillRect(g.Y,b.nbSlice.Z-b.numSlice.Z-1,b.nbSlice.Y-2*g.Y,1)}b.context.fillStyle=b.colorBackground;b.context.fillRect(0,0,b.widthCanvas.X,b.canvas.height);b.context.drawImage(b.planes.canvasX,0,0,b.nbSlice.Y,b.nbSlice.Z,0,(b.heightCanvas.max-b.heightCanvas.X)/2,b.widthCanvas.X,b.heightCanvas.X);if(b.title){b.context.fillStyle=b.colorFont;b.context.fillText(b.title,Math.round(b.widthCanvas.X/10),Math.round((b.heightCanvas.max*b.heightColorBar)+(1/4)*(b.sizeFontPixels)))}if(b.flagValue){value=&quot;value = &quot;+Number.parseFloat(b.voxelValue).toPrecision(b.nbDecimals).replace(/0+$/,&quot;&quot;);valueWidth=b.context.measureText(value).width;b.context.fillStyle=b.colorFont;b.context.fillText(value,Math.round(b.widthCanvas.X/10),Math.round((b.heightCanvas.max*b.heightColorBar*2)+(3/4)*(b.sizeFontPixels)))}if(b.flagCoordinates){i=&quot;x = &quot;+Math.round(b.coordinatesSlice.X);e=b.context.measureText(i).width;b.context.fillStyle=b.colorFont;b.context.fillText(i,b.widthCanvas.X/2-e/2,Math.round(b.canvas.height-(b.sizeFontPixels/2)))}break;case&quot;Y&quot;:b.context.fillStyle=b.colorBackground;b.context.fillRect(b.widthCanvas.X,0,b.widthCanvas.Y,b.canvas.height);for(xx=0;xx&lt;b.nbSlice.X;xx++){posW=(xx%b.nbCol);posH=(xx-posW)/b.nbCol;b.planes.contextY.drawImage(b.planes.canvasMaster,posW*b.nbSlice.Y+b.numSlice.Y,posH*b.nbSlice.Z,1,b.nbSlice.Z,xx,0,1,b.nbSlice.Z)}if(b.crosshair){b.planes.contextY.fillStyle=b.colorCrosshair;b.planes.contextY.fillRect(b.numSlice.X,g.Z,1,b.nbSlice.Z-2*g.Z);b.planes.contextY.fillRect(g.X,b.nbSlice.Z-b.numSlice.Z-1,b.nbSlice.X-2*g.X,1)}b.context.drawImage(b.planes.canvasY,0,0,b.nbSlice.X,b.nbSlice.Z,b.widthCanvas.X,(b.heightCanvas.max-b.heightCanvas.Y)/2,b.widthCanvas.Y,b.heightCanvas.Y);if((b.colorMap)&amp;&amp;(!b.colorMap.hide)){b.context.drawImage(b.colorMap.img,0,0,b.colorMap.img.width,1,Math.round(b.widthCanvas.X+b.widthCanvas.Y*0.2),Math.round(b.heightCanvas.max*b.heightColorBar/2),Math.round(b.widthCanvas.Y*0.6),Math.round(b.heightCanvas.max*b.heightColorBar));b.context.fillStyle=b.colorFont;label_min=Number.parseFloat(b.colorMap.min).toPrecision(b.nbDecimals).replace(/0+$/,&quot;&quot;);label_max=Number.parseFloat(b.colorMap.max).toPrecision(b.nbDecimals).replace(/0+$/,&quot;&quot;);b.context.fillText(label_min,b.widthCanvas.X+(b.widthCanvas.Y*0.2)-b.context.measureText(label_min).width/2,Math.round((b.heightCanvas.max*b.heightColorBar*2)+(3/4)*(b.sizeFontPixels)));b.context.fillText(label_max,b.widthCanvas.X+(b.widthCanvas.Y*0.8)-b.context.measureText(label_max).width/2,Math.round((b.heightCanvas.max*b.heightColorBar*2)+(3/4)*(b.sizeFontPixels)))}if(b.flagCoordinates){b.context.font=b.sizeFontPixels+&quot;px Arial&quot;;b.context.fillStyle=b.colorFont;i=&quot;y = &quot;+Math.round(b.coordinatesSlice.Y);e=b.context.measureText(i).width;b.context.fillText(i,b.widthCanvas.X+(b.widthCanvas.Y/2)-e/2,Math.round(b.canvas.height-(b.sizeFontPixels/2)))}case&quot;Z&quot;:b.context.fillStyle=b.colorBackground;b.context.fillRect(b.widthCanvas.X+b.widthCanvas.Y,0,b.widthCanvas.Z,b.canvas.height);for(xx=0;xx&lt;b.nbSlice.X;xx++){posW=(xx%b.nbCol);posH=(xx-posW)/b.nbCol;b.planes.contextZ.drawImage(b.planes.canvasMaster,posW*b.nbSlice.Y,posH*b.nbSlice.Z+b.nbSlice.Z-b.numSlice.Z-1,b.nbSlice.Y,1,0,xx,b.nbSlice.Y,1)}if(b.crosshair){b.planes.contextZ.fillStyle=b.colorCrosshair;b.planes.contextZ.fillRect(g.Y,b.numSlice.X,b.nbSlice.Y-2*g.Y,1);b.planes.contextZ.fillRect(b.numSlice.Y,g.X,1,b.nbSlice.X-2*g.X)}b.context.drawImage(b.planes.canvasZ,0,0,b.nbSlice.X,b.nbSlice.Y,b.widthCanvas.X+b.widthCanvas.Y,(b.heightCanvas.max-b.heightCanvas.Z)/2,b.widthCanvas.Z,b.heightCanvas.Z);if(b.flagCoordinates){i=&quot;z = &quot;+Math.round(b.coordinatesSlice.Z);e=b.context.measureText(i).width;b.context.fillStyle=b.colorFont;b.context.fillText(i,b.widthCanvas.X+b.widthCanvas.Y+(b.widthCanvas.Z/2)-e/2,Math.round(b.canvas.height-(b.sizeFontPixels/2)))}}};b.clickBrain=function(h){var f=b.canvas.getBoundingClientRect();var j=h.clientX-f.left;var k=h.clientY-f.top;var i,g;if(j&lt;b.widthCanvas.X){i=Math.round((b.nbSlice.Y-1)*(j/b.widthCanvas.X));g=Math.round((b.nbSlice.Z-1)*(((b.heightCanvas.max+b.heightCanvas.X)/2)-k)/b.heightCanvas.X);b.numSlice.Y=Math.max(Math.min(i,b.nbSlice.Y-1),0);b.numSlice.Z=Math.max(Math.min(g,b.nbSlice.Z-1),0)}else{if(j&lt;(b.widthCanvas.X+b.widthCanvas.Y)){j=j-b.widthCanvas.X;sx=Math.round((b.nbSlice.X-1)*(j/b.widthCanvas.Y));g=Math.round((b.nbSlice.Z-1)*(((b.heightCanvas.max+b.heightCanvas.X)/2)-k)/b.heightCanvas.X);b.numSlice.X=Math.max(Math.min(sx,b.nbSlice.X-1),0);b.numSlice.Z=Math.max(Math.min(g,b.nbSlice.Z-1),0)}else{j=j-b.widthCanvas.X-b.widthCanvas.Y;sx=Math.round((b.nbSlice.X-1)*(j/b.widthCanvas.Z));i=Math.round((b.nbSlice.Y-1)*(((b.heightCanvas.max+b.heightCanvas.Z)/2)-k)/b.heightCanvas.Z);b.numSlice.X=Math.max(Math.min(sx,b.nbSlice.X-1),0);b.numSlice.Y=Math.max(Math.min(i,b.nbSlice.Y-1),0)}}b.updateValue();b.updateCoordinates();b.drawAll();if(b.onclick){b.onclick(h)}};b.drawAll=function(){b.draw(b.numSlice.X,&quot;X&quot;);b.draw(b.numSlice.Y,&quot;Y&quot;);b.draw(b.numSlice.Z,&quot;Z&quot;)};b.canvas.addEventListener(&quot;click&quot;,b.clickBrain,false);b.canvas.addEventListener(&quot;mousedown&quot;,function(f){b.canvas.addEventListener(&quot;mousemove&quot;,b.clickBrain,false)},false);b.canvas.addEventListener(&quot;mouseup&quot;,function(f){b.canvas.removeEventListener(&quot;mousemove&quot;,b.clickBrain,false)},false);b.sprite.addEventListener(&quot;load&quot;,function(){b.init();b.drawAll()});if(b.overlay){b.overlay.sprite.addEventListener(&quot;load&quot;,function(){b.init();b.drawAll()})}b.init();b.drawAll();return b};\n",
              "  &lt;/script&gt;\n",
              "\n",
              "  &lt;script&gt;\n",
              "  // On load: build all figures\n",
              "  $( window ).on(&#x27;load&#x27;,function() {\n",
              "    // Create brain slices\n",
              "    var brain = brainsprite(\n",
              "    {&quot;canvas&quot;: &quot;3Dviewer&quot;, &quot;sprite&quot;: &quot;spriteImg&quot;, &quot;nbSlice&quot;: {&quot;X&quot;: 61, &quot;Y&quot;: 73, &quot;Z&quot;: 61}, &quot;overlay&quot;: {&quot;sprite&quot;: &quot;overlayImg&quot;, &quot;nbSlice&quot;: {&quot;X&quot;: 61, &quot;Y&quot;: 73, &quot;Z&quot;: 61}, &quot;opacity&quot;: 1}, &quot;colorBackground&quot;: &quot;#000000&quot;, &quot;colorFont&quot;: &quot;#FFFFFF&quot;, &quot;crosshair&quot;: false, &quot;affine&quot;: [[3.0, 0.0, 0.0, -90.0], [0.0, 3.0, 0.0, -126.0], [0.0, 0.0, 3.0, -72.0], [0.0, 0.0, 0.0, 1.0]], &quot;flagCoordinates&quot;: true, &quot;title&quot;: &quot;Reho Image&quot;, &quot;flagValue&quot;: false, &quot;numSlice&quot;: {&quot;X&quot;: 29.525197993498242, &quot;Y&quot;: 26.446159501399233, &quot;Z&quot;: 28.25699171283033}}\n",
              "    );\n",
              "  });\n",
              "  &lt;/script&gt;\n",
              "&lt;/body&gt;\n",
              "&lt;/html&gt;\n",
              "\" width=\"600\" height=\"270.0\" frameBorder=\"0\"></iframe>"
            ],
            "text/plain": [
              "<nilearn.plotting.html_stat_map.StatMapView at 0x7fa100994f70>"
            ]
          },
          "execution_count": 70,
          "metadata": {},
          "output_type": "execute_result"
        }
      ],
      "source": [
        "# Plotting an interactive reho image of the first subject\n",
        "# Slices of the images can be changed by clicking on either of the three images\n",
        "img = reho[0]\n",
        "plotting.view_img(img, draw_cross = False, bg_img = False, colorbar = False, black_bg = True, annotate = True, title = 'Reho Image' )"
      ]
    },
    {
      "cell_type": "code",
      "execution_count": null,
      "metadata": {
        "id": "uVDZc5cTVdKe"
      },
      "outputs": [],
      "source": [
        "# Creating the mean_img of the functional fMRI images\n",
        "img2 = image.load_img(func[0])\n",
        "mean_image = mean_img(img2)"
      ]
    },
    {
      "cell_type": "code",
      "execution_count": null,
      "metadata": {
        "colab": {
          "base_uri": "https://localhost:8080/",
          "height": 292
        },
        "id": "tQEyeP4yVn_b",
        "outputId": "26d3cbb9-7cb8-4f54-bcc8-82384e39aab1"
      },
      "outputs": [
        {
          "data": {
            "text/html": [
              "<iframe srcdoc=\"&lt;!DOCTYPE html&gt;\n",
              "&lt;html lang=&quot;en&quot;&gt;\n",
              "&lt;head&gt;\n",
              "    &lt;title&gt;Mean Image&lt;/title&gt;\n",
              "    &lt;meta charset=&quot;UTF-8&quot; /&gt;\n",
              "&lt;/head&gt;\n",
              "&lt;body&gt;\n",
              "  &lt;div id=&quot;div_viewer&quot;&gt;\n",
              "    &lt;!-- this is the canvas that will feature the brain slices --&gt;\n",
              "    &lt;canvas id=&quot;3Dviewer&quot;&gt;\n",
              "    &lt;!-- load a hidden version of the sprite image that includes all (sagittal) brain slices --&gt;\n",
              "    &lt;img id=&quot;spriteImg&quot; class=&quot;hidden&quot; src=&quot;data:image/png;base64,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&quot; alt=&quot;background&quot; /&gt;\n",
              "    &lt;!-- the colormap --&gt;\n",
              "    &lt;img id=&quot;colorMap&quot; class=&quot;hidden&quot; src=&quot;data:image/png;base64,&quot; alt=&quot;colormap&quot;&gt;\n",
              "    &lt;!-- another sprite image, with an overlay--&gt;\n",
              "    &lt;img id=&quot;overlayImg&quot; class=&quot;hidden&quot; src=&quot;data:image/png;base64,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&quot; alt=&quot;overlay&quot;&gt;\n",
              "    &lt;/canvas&gt;\n",
              "  &lt;/div&gt;\n",
              "\n",
              "  &lt;script&gt;\n",
              "    /*! jQuery v3.6.0 | (c) OpenJS Foundation and other contributors | jquery.org/license */\n",
              "!function(e,t){&quot;use strict&quot;;&quot;object&quot;==typeof module&amp;&amp;&quot;object&quot;==typeof module.exports?module.exports=e.document?t(e,!0):function(e){if(!e.document)throw new Error(&quot;jQuery requires a window with a document&quot;);return t(e)}:t(e)}(&quot;undefined&quot;!=typeof window?window:this,function(C,e){&quot;use strict&quot;;var t=[],r=Object.getPrototypeOf,s=t.slice,g=t.flat?function(e){return t.flat.call(e)}:function(e){return t.concat.apply([],e)},u=t.push,i=t.indexOf,n={},o=n.toString,v=n.hasOwnProperty,a=v.toString,l=a.call(Object),y={},m=function(e){return&quot;function&quot;==typeof e&amp;&amp;&quot;number&quot;!=typeof e.nodeType&amp;&amp;&quot;function&quot;!=typeof e.item},x=function(e){return null!=e&amp;&amp;e===e.window},E=C.document,c={type:!0,src:!0,nonce:!0,noModule:!0};function b(e,t,n){var r,i,o=(n=n||E).createElement(&quot;script&quot;);if(o.text=e,t)for(r in c)(i=t[r]||t.getAttribute&amp;&amp;t.getAttribute(r))&amp;&amp;o.setAttribute(r,i);n.head.appendChild(o).parentNode.removeChild(o)}function w(e){return null==e?e+&quot;&quot;:&quot;object&quot;==typeof e||&quot;function&quot;==typeof e?n[o.call(e)]||&quot;object&quot;:typeof e}var f=&quot;3.6.0&quot;,S=function(e,t){return new S.fn.init(e,t)};function p(e){var t=!!e&amp;&amp;&quot;length&quot;in e&amp;&amp;e.length,n=w(e);return!m(e)&amp;&amp;!x(e)&amp;&amp;(&quot;array&quot;===n||0===t||&quot;number&quot;==typeof t&amp;&amp;0&lt;t&amp;&amp;t-1 in e)}S.fn=S.prototype={jquery:f,constructor:S,length:0,toArray:function(){return s.call(this)},get:function(e){return null==e?s.call(this):e&lt;0?this[e+this.length]:this[e]},pushStack:function(e){var t=S.merge(this.constructor(),e);return t.prevObject=this,t},each:function(e){return S.each(this,e)},map:function(n){return this.pushStack(S.map(this,function(e,t){return n.call(e,t,e)}))},slice:function(){return this.pushStack(s.apply(this,arguments))},first:function(){return this.eq(0)},last:function(){return this.eq(-1)},even:function(){return this.pushStack(S.grep(this,function(e,t){return(t+1)%2}))},odd:function(){return this.pushStack(S.grep(this,function(e,t){return t%2}))},eq:function(e){var t=this.length,n=+e+(e&lt;0?t:0);return this.pushStack(0&lt;=n&amp;&amp;n&lt;t?[this[n]]:[])},end:function(){return this.prevObject||this.constructor()},push:u,sort:t.sort,splice:t.splice},S.extend=S.fn.extend=function(){var e,t,n,r,i,o,a=arguments[0]||{},s=1,u=arguments.length,l=!1;for(&quot;boolean&quot;==typeof a&amp;&amp;(l=a,a=arguments[s]||{},s++),&quot;object&quot;==typeof a||m(a)||(a={}),s===u&amp;&amp;(a=this,s--);s&lt;u;s++)if(null!=(e=arguments[s]))for(t in e)r=e[t],&quot;__proto__&quot;!==t&amp;&amp;a!==r&amp;&amp;(l&amp;&amp;r&amp;&amp;(S.isPlainObject(r)||(i=Array.isArray(r)))?(n=a[t],o=i&amp;&amp;!Array.isArray(n)?[]:i||S.isPlainObject(n)?n:{},i=!1,a[t]=S.extend(l,o,r)):void 0!==r&amp;&amp;(a[t]=r));return a},S.extend({expando:&quot;jQuery&quot;+(f+Math.random()).replace(/\\D/g,&quot;&quot;),isReady:!0,error:function(e){throw new Error(e)},noop:function(){},isPlainObject:function(e){var t,n;return!(!e||&quot;[object Object]&quot;!==o.call(e))&amp;&amp;(!(t=r(e))||&quot;function&quot;==typeof(n=v.call(t,&quot;constructor&quot;)&amp;&amp;t.constructor)&amp;&amp;a.call(n)===l)},isEmptyObject:function(e){var t;for(t in e)return!1;return!0},globalEval:function(e,t,n){b(e,{nonce:t&amp;&amp;t.nonce},n)},each:function(e,t){var n,r=0;if(p(e)){for(n=e.length;r&lt;n;r++)if(!1===t.call(e[r],r,e[r]))break}else for(r in e)if(!1===t.call(e[r],r,e[r]))break;return e},makeArray:function(e,t){var n=t||[];return null!=e&amp;&amp;(p(Object(e))?S.merge(n,&quot;string&quot;==typeof e?[e]:e):u.call(n,e)),n},inArray:function(e,t,n){return null==t?-1:i.call(t,e,n)},merge:function(e,t){for(var n=+t.length,r=0,i=e.length;r&lt;n;r++)e[i++]=t[r];return e.length=i,e},grep:function(e,t,n){for(var r=[],i=0,o=e.length,a=!n;i&lt;o;i++)!t(e[i],i)!==a&amp;&amp;r.push(e[i]);return r},map:function(e,t,n){var r,i,o=0,a=[];if(p(e))for(r=e.length;o&lt;r;o++)null!=(i=t(e[o],o,n))&amp;&amp;a.push(i);else for(o in e)null!=(i=t(e[o],o,n))&amp;&amp;a.push(i);return g(a)},guid:1,support:y}),&quot;function&quot;==typeof Symbol&amp;&amp;(S.fn[Symbol.iterator]=t[Symbol.iterator]),S.each(&quot;Boolean Number String Function Array Date RegExp Object Error Symbol&quot;.split(&quot; &quot;),function(e,t){n[&quot;[object &quot;+t+&quot;]&quot;]=t.toLowerCase()});var d=function(n){var e,d,b,o,i,h,f,g,w,u,l,T,C,a,E,v,s,c,y,S=&quot;sizzle&quot;+1*new Date,p=n.document,k=0,r=0,m=ue(),x=ue(),A=ue(),N=ue(),j=function(e,t){return e===t&amp;&amp;(l=!0),0},D={}.hasOwnProperty,t=[],q=t.pop,L=t.push,H=t.push,O=t.slice,P=function(e,t){for(var n=0,r=e.length;n&lt;r;n++)if(e[n]===t)return n;return-1},R=&quot;checked|selected|async|autofocus|autoplay|controls|defer|disabled|hidden|ismap|loop|multiple|open|readonly|required|scoped&quot;,M=&quot;[\\\\x20\\\\t\\\\r\\\\n\\\\f]&quot;,I=&quot;(?:\\\\\\\\[\\\\da-fA-F]{1,6}&quot;+M+&quot;?|\\\\\\\\[^\\\\r\\\\n\\\\f]|[\\\\w-]|[^\\0-\\\\x7f])+&quot;,W=&quot;\\\\[&quot;+M+&quot;*(&quot;+I+&quot;)(?:&quot;+M+&quot;*([*^$|!~]?=)&quot;+M+&quot;*(?:&#x27;((?:\\\\\\\\.|[^\\\\\\\\&#x27;])*)&#x27;|\\&quot;((?:\\\\\\\\.|[^\\\\\\\\\\&quot;])*)\\&quot;|(&quot;+I+&quot;))|)&quot;+M+&quot;*\\\\]&quot;,F=&quot;:(&quot;+I+&quot;)(?:\\\\(((&#x27;((?:\\\\\\\\.|[^\\\\\\\\&#x27;])*)&#x27;|\\&quot;((?:\\\\\\\\.|[^\\\\\\\\\\&quot;])*)\\&quot;)|((?:\\\\\\\\.|[^\\\\\\\\()[\\\\]]|&quot;+W+&quot;)*)|.*)\\\\)|)&quot;,B=new RegExp(M+&quot;+&quot;,&quot;g&quot;),$=new RegExp(&quot;^&quot;+M+&quot;+|((?:^|[^\\\\\\\\])(?:\\\\\\\\.)*)&quot;+M+&quot;+$&quot;,&quot;g&quot;),_=new RegExp(&quot;^&quot;+M+&quot;*,&quot;+M+&quot;*&quot;),z=new RegExp(&quot;^&quot;+M+&quot;*([&gt;+~]|&quot;+M+&quot;)&quot;+M+&quot;*&quot;),U=new RegExp(M+&quot;|&gt;&quot;),X=new RegExp(F),V=new RegExp(&quot;^&quot;+I+&quot;$&quot;),G={ID:new RegExp(&quot;^#(&quot;+I+&quot;)&quot;),CLASS:new RegExp(&quot;^\\\\.(&quot;+I+&quot;)&quot;),TAG:new RegExp(&quot;^(&quot;+I+&quot;|[*])&quot;),ATTR:new RegExp(&quot;^&quot;+W),PSEUDO:new RegExp(&quot;^&quot;+F),CHILD:new RegExp(&quot;^:(only|first|last|nth|nth-last)-(child|of-type)(?:\\\\(&quot;+M+&quot;*(even|odd|(([+-]|)(\\\\d*)n|)&quot;+M+&quot;*(?:([+-]|)&quot;+M+&quot;*(\\\\d+)|))&quot;+M+&quot;*\\\\)|)&quot;,&quot;i&quot;),bool:new RegExp(&quot;^(?:&quot;+R+&quot;)$&quot;,&quot;i&quot;),needsContext:new RegExp(&quot;^&quot;+M+&quot;*[&gt;+~]|:(even|odd|eq|gt|lt|nth|first|last)(?:\\\\(&quot;+M+&quot;*((?:-\\\\d)?\\\\d*)&quot;+M+&quot;*\\\\)|)(?=[^-]|$)&quot;,&quot;i&quot;)},Y=/HTML$/i,Q=/^(?:input|select|textarea|button)$/i,J=/^h\\d$/i,K=/^[^{]+\\{\\s*\\[native \\w/,Z=/^(?:#([\\w-]+)|(\\w+)|\\.([\\w-]+))$/,ee=/[+~]/,te=new RegExp(&quot;\\\\\\\\[\\\\da-fA-F]{1,6}&quot;+M+&quot;?|\\\\\\\\([^\\\\r\\\\n\\\\f])&quot;,&quot;g&quot;),ne=function(e,t){var n=&quot;0x&quot;+e.slice(1)-65536;return t||(n&lt;0?String.fromCharCode(n+65536):String.fromCharCode(n&gt;&gt;10|55296,1023&amp;n|56320))},re=/([\\0-\\x1f\\x7f]|^-?\\d)|^-$|[^\\0-\\x1f\\x7f-\\uFFFF\\w-]/g,ie=function(e,t){return t?&quot;\\0&quot;===e?&quot;\\ufffd&quot;:e.slice(0,-1)+&quot;\\\\&quot;+e.charCodeAt(e.length-1).toString(16)+&quot; &quot;:&quot;\\\\&quot;+e},oe=function(){T()},ae=be(function(e){return!0===e.disabled&amp;&amp;&quot;fieldset&quot;===e.nodeName.toLowerCase()},{dir:&quot;parentNode&quot;,next:&quot;legend&quot;});try{H.apply(t=O.call(p.childNodes),p.childNodes),t[p.childNodes.length].nodeType}catch(e){H={apply:t.length?function(e,t){L.apply(e,O.call(t))}:function(e,t){var n=e.length,r=0;while(e[n++]=t[r++]);e.length=n-1}}}function se(t,e,n,r){var i,o,a,s,u,l,c,f=e&amp;&amp;e.ownerDocument,p=e?e.nodeType:9;if(n=n||[],&quot;string&quot;!=typeof t||!t||1!==p&amp;&amp;9!==p&amp;&amp;11!==p)return n;if(!r&amp;&amp;(T(e),e=e||C,E)){if(11!==p&amp;&amp;(u=Z.exec(t)))if(i=u[1]){if(9===p){if(!(a=e.getElementById(i)))return n;if(a.id===i)return n.push(a),n}else if(f&amp;&amp;(a=f.getElementById(i))&amp;&amp;y(e,a)&amp;&amp;a.id===i)return n.push(a),n}else{if(u[2])return H.apply(n,e.getElementsByTagName(t)),n;if((i=u[3])&amp;&amp;d.getElementsByClassName&amp;&amp;e.getElementsByClassName)return H.apply(n,e.getElementsByClassName(i)),n}if(d.qsa&amp;&amp;!N[t+&quot; &quot;]&amp;&amp;(!v||!v.test(t))&amp;&amp;(1!==p||&quot;object&quot;!==e.nodeName.toLowerCase())){if(c=t,f=e,1===p&amp;&amp;(U.test(t)||z.test(t))){(f=ee.test(t)&amp;&amp;ye(e.parentNode)||e)===e&amp;&amp;d.scope||((s=e.getAttribute(&quot;id&quot;))?s=s.replace(re,ie):e.setAttribute(&quot;id&quot;,s=S)),o=(l=h(t)).length;while(o--)l[o]=(s?&quot;#&quot;+s:&quot;:scope&quot;)+&quot; &quot;+xe(l[o]);c=l.join(&quot;,&quot;)}try{return H.apply(n,f.querySelectorAll(c)),n}catch(e){N(t,!0)}finally{s===S&amp;&amp;e.removeAttribute(&quot;id&quot;)}}}return g(t.replace($,&quot;$1&quot;),e,n,r)}function ue(){var r=[];return function e(t,n){return r.push(t+&quot; &quot;)&gt;b.cacheLength&amp;&amp;delete e[r.shift()],e[t+&quot; &quot;]=n}}function le(e){return e[S]=!0,e}function ce(e){var t=C.createElement(&quot;fieldset&quot;);try{return!!e(t)}catch(e){return!1}finally{t.parentNode&amp;&amp;t.parentNode.removeChild(t),t=null}}function fe(e,t){var n=e.split(&quot;|&quot;),r=n.length;while(r--)b.attrHandle[n[r]]=t}function pe(e,t){var n=t&amp;&amp;e,r=n&amp;&amp;1===e.nodeType&amp;&amp;1===t.nodeType&amp;&amp;e.sourceIndex-t.sourceIndex;if(r)return r;if(n)while(n=n.nextSibling)if(n===t)return-1;return e?1:-1}function de(t){return function(e){return&quot;input&quot;===e.nodeName.toLowerCase()&amp;&amp;e.type===t}}function he(n){return function(e){var t=e.nodeName.toLowerCase();return(&quot;input&quot;===t||&quot;button&quot;===t)&amp;&amp;e.type===n}}function ge(t){return function(e){return&quot;form&quot;in e?e.parentNode&amp;&amp;!1===e.disabled?&quot;label&quot;in e?&quot;label&quot;in e.parentNode?e.parentNode.disabled===t:e.disabled===t:e.isDisabled===t||e.isDisabled!==!t&amp;&amp;ae(e)===t:e.disabled===t:&quot;label&quot;in e&amp;&amp;e.disabled===t}}function ve(a){return le(function(o){return o=+o,le(function(e,t){var n,r=a([],e.length,o),i=r.length;while(i--)e[n=r[i]]&amp;&amp;(e[n]=!(t[n]=e[n]))})})}function ye(e){return e&amp;&amp;&quot;undefined&quot;!=typeof e.getElementsByTagName&amp;&amp;e}for(e in d=se.support={},i=se.isXML=function(e){var t=e&amp;&amp;e.namespaceURI,n=e&amp;&amp;(e.ownerDocument||e).documentElement;return!Y.test(t||n&amp;&amp;n.nodeName||&quot;HTML&quot;)},T=se.setDocument=function(e){var t,n,r=e?e.ownerDocument||e:p;return r!=C&amp;&amp;9===r.nodeType&amp;&amp;r.documentElement&amp;&amp;(a=(C=r).documentElement,E=!i(C),p!=C&amp;&amp;(n=C.defaultView)&amp;&amp;n.top!==n&amp;&amp;(n.addEventListener?n.addEventListener(&quot;unload&quot;,oe,!1):n.attachEvent&amp;&amp;n.attachEvent(&quot;onunload&quot;,oe)),d.scope=ce(function(e){return a.appendChild(e).appendChild(C.createElement(&quot;div&quot;)),&quot;undefined&quot;!=typeof e.querySelectorAll&amp;&amp;!e.querySelectorAll(&quot;:scope fieldset div&quot;).length}),d.attributes=ce(function(e){return e.className=&quot;i&quot;,!e.getAttribute(&quot;className&quot;)}),d.getElementsByTagName=ce(function(e){return e.appendChild(C.createComment(&quot;&quot;)),!e.getElementsByTagName(&quot;*&quot;).length}),d.getElementsByClassName=K.test(C.getElementsByClassName),d.getById=ce(function(e){return a.appendChild(e).id=S,!C.getElementsByName||!C.getElementsByName(S).length}),d.getById?(b.filter.ID=function(e){var t=e.replace(te,ne);return function(e){return e.getAttribute(&quot;id&quot;)===t}},b.find.ID=function(e,t){if(&quot;undefined&quot;!=typeof t.getElementById&amp;&amp;E){var n=t.getElementById(e);return n?[n]:[]}}):(b.filter.ID=function(e){var n=e.replace(te,ne);return function(e){var t=&quot;undefined&quot;!=typeof e.getAttributeNode&amp;&amp;e.getAttributeNode(&quot;id&quot;);return t&amp;&amp;t.value===n}},b.find.ID=function(e,t){if(&quot;undefined&quot;!=typeof t.getElementById&amp;&amp;E){var n,r,i,o=t.getElementById(e);if(o){if((n=o.getAttributeNode(&quot;id&quot;))&amp;&amp;n.value===e)return[o];i=t.getElementsByName(e),r=0;while(o=i[r++])if((n=o.getAttributeNode(&quot;id&quot;))&amp;&amp;n.value===e)return[o]}return[]}}),b.find.TAG=d.getElementsByTagName?function(e,t){return&quot;undefined&quot;!=typeof t.getElementsByTagName?t.getElementsByTagName(e):d.qsa?t.querySelectorAll(e):void 0}:function(e,t){var n,r=[],i=0,o=t.getElementsByTagName(e);if(&quot;*&quot;===e){while(n=o[i++])1===n.nodeType&amp;&amp;r.push(n);return r}return o},b.find.CLASS=d.getElementsByClassName&amp;&amp;function(e,t){if(&quot;undefined&quot;!=typeof t.getElementsByClassName&amp;&amp;E)return t.getElementsByClassName(e)},s=[],v=[],(d.qsa=K.test(C.querySelectorAll))&amp;&amp;(ce(function(e){var t;a.appendChild(e).innerHTML=&quot;&lt;a id=&#x27;&quot;+S+&quot;&#x27;&gt;&lt;/a&gt;&lt;select id=&#x27;&quot;+S+&quot;-\\r\\\\&#x27; msallowcapture=&#x27;&#x27;&gt;&lt;option selected=&#x27;&#x27;&gt;&lt;/option&gt;&lt;/select&gt;&quot;,e.querySelectorAll(&quot;[msallowcapture^=&#x27;&#x27;]&quot;).length&amp;&amp;v.push(&quot;[*^$]=&quot;+M+&quot;*(?:&#x27;&#x27;|\\&quot;\\&quot;)&quot;),e.querySelectorAll(&quot;[selected]&quot;).length||v.push(&quot;\\\\[&quot;+M+&quot;*(?:value|&quot;+R+&quot;)&quot;),e.querySelectorAll(&quot;[id~=&quot;+S+&quot;-]&quot;).length||v.push(&quot;~=&quot;),(t=C.createElement(&quot;input&quot;)).setAttribute(&quot;name&quot;,&quot;&quot;),e.appendChild(t),e.querySelectorAll(&quot;[name=&#x27;&#x27;]&quot;).length||v.push(&quot;\\\\[&quot;+M+&quot;*name&quot;+M+&quot;*=&quot;+M+&quot;*(?:&#x27;&#x27;|\\&quot;\\&quot;)&quot;),e.querySelectorAll(&quot;:checked&quot;).length||v.push(&quot;:checked&quot;),e.querySelectorAll(&quot;a#&quot;+S+&quot;+*&quot;).length||v.push(&quot;.#.+[+~]&quot;),e.querySelectorAll(&quot;\\\\\\f&quot;),v.push(&quot;[\\\\r\\\\n\\\\f]&quot;)}),ce(function(e){e.innerHTML=&quot;&lt;a href=&#x27;&#x27; disabled=&#x27;disabled&#x27;&gt;&lt;/a&gt;&lt;select disabled=&#x27;disabled&#x27;&gt;&lt;option/&gt;&lt;/select&gt;&quot;;var t=C.createElement(&quot;input&quot;);t.setAttribute(&quot;type&quot;,&quot;hidden&quot;),e.appendChild(t).setAttribute(&quot;name&quot;,&quot;D&quot;),e.querySelectorAll(&quot;[name=d]&quot;).length&amp;&amp;v.push(&quot;name&quot;+M+&quot;*[*^$|!~]?=&quot;),2!==e.querySelectorAll(&quot;:enabled&quot;).length&amp;&amp;v.push(&quot;:enabled&quot;,&quot;:disabled&quot;),a.appendChild(e).disabled=!0,2!==e.querySelectorAll(&quot;:disabled&quot;).length&amp;&amp;v.push(&quot;:enabled&quot;,&quot;:disabled&quot;),e.querySelectorAll(&quot;*,:x&quot;),v.push(&quot;,.*:&quot;)})),(d.matchesSelector=K.test(c=a.matches||a.webkitMatchesSelector||a.mozMatchesSelector||a.oMatchesSelector||a.msMatchesSelector))&amp;&amp;ce(function(e){d.disconnectedMatch=c.call(e,&quot;*&quot;),c.call(e,&quot;[s!=&#x27;&#x27;]:x&quot;),s.push(&quot;!=&quot;,F)}),v=v.length&amp;&amp;new RegExp(v.join(&quot;|&quot;)),s=s.length&amp;&amp;new RegExp(s.join(&quot;|&quot;)),t=K.test(a.compareDocumentPosition),y=t||K.test(a.contains)?function(e,t){var n=9===e.nodeType?e.documentElement:e,r=t&amp;&amp;t.parentNode;return e===r||!(!r||1!==r.nodeType||!(n.contains?n.contains(r):e.compareDocumentPosition&amp;&amp;16&amp;e.compareDocumentPosition(r)))}:function(e,t){if(t)while(t=t.parentNode)if(t===e)return!0;return!1},j=t?function(e,t){if(e===t)return l=!0,0;var n=!e.compareDocumentPosition-!t.compareDocumentPosition;return n||(1&amp;(n=(e.ownerDocument||e)==(t.ownerDocument||t)?e.compareDocumentPosition(t):1)||!d.sortDetached&amp;&amp;t.compareDocumentPosition(e)===n?e==C||e.ownerDocument==p&amp;&amp;y(p,e)?-1:t==C||t.ownerDocument==p&amp;&amp;y(p,t)?1:u?P(u,e)-P(u,t):0:4&amp;n?-1:1)}:function(e,t){if(e===t)return l=!0,0;var n,r=0,i=e.parentNode,o=t.parentNode,a=[e],s=[t];if(!i||!o)return e==C?-1:t==C?1:i?-1:o?1:u?P(u,e)-P(u,t):0;if(i===o)return pe(e,t);n=e;while(n=n.parentNode)a.unshift(n);n=t;while(n=n.parentNode)s.unshift(n);while(a[r]===s[r])r++;return r?pe(a[r],s[r]):a[r]==p?-1:s[r]==p?1:0}),C},se.matches=function(e,t){return se(e,null,null,t)},se.matchesSelector=function(e,t){if(T(e),d.matchesSelector&amp;&amp;E&amp;&amp;!N[t+&quot; &quot;]&amp;&amp;(!s||!s.test(t))&amp;&amp;(!v||!v.test(t)))try{var n=c.call(e,t);if(n||d.disconnectedMatch||e.document&amp;&amp;11!==e.document.nodeType)return n}catch(e){N(t,!0)}return 0&lt;se(t,C,null,[e]).length},se.contains=function(e,t){return(e.ownerDocument||e)!=C&amp;&amp;T(e),y(e,t)},se.attr=function(e,t){(e.ownerDocument||e)!=C&amp;&amp;T(e);var n=b.attrHandle[t.toLowerCase()],r=n&amp;&amp;D.call(b.attrHandle,t.toLowerCase())?n(e,t,!E):void 0;return void 0!==r?r:d.attributes||!E?e.getAttribute(t):(r=e.getAttributeNode(t))&amp;&amp;r.specified?r.value:null},se.escape=function(e){return(e+&quot;&quot;).replace(re,ie)},se.error=function(e){throw new Error(&quot;Syntax error, unrecognized expression: &quot;+e)},se.uniqueSort=function(e){var t,n=[],r=0,i=0;if(l=!d.detectDuplicates,u=!d.sortStable&amp;&amp;e.slice(0),e.sort(j),l){while(t=e[i++])t===e[i]&amp;&amp;(r=n.push(i));while(r--)e.splice(n[r],1)}return u=null,e},o=se.getText=function(e){var t,n=&quot;&quot;,r=0,i=e.nodeType;if(i){if(1===i||9===i||11===i){if(&quot;string&quot;==typeof e.textContent)return e.textContent;for(e=e.firstChild;e;e=e.nextSibling)n+=o(e)}else if(3===i||4===i)return e.nodeValue}else while(t=e[r++])n+=o(t);return n},(b=se.selectors={cacheLength:50,createPseudo:le,match:G,attrHandle:{},find:{},relative:{&quot;&gt;&quot;:{dir:&quot;parentNode&quot;,first:!0},&quot; &quot;:{dir:&quot;parentNode&quot;},&quot;+&quot;:{dir:&quot;previousSibling&quot;,first:!0},&quot;~&quot;:{dir:&quot;previousSibling&quot;}},preFilter:{ATTR:function(e){return e[1]=e[1].replace(te,ne),e[3]=(e[3]||e[4]||e[5]||&quot;&quot;).replace(te,ne),&quot;~=&quot;===e[2]&amp;&amp;(e[3]=&quot; &quot;+e[3]+&quot; &quot;),e.slice(0,4)},CHILD:function(e){return e[1]=e[1].toLowerCase(),&quot;nth&quot;===e[1].slice(0,3)?(e[3]||se.error(e[0]),e[4]=+(e[4]?e[5]+(e[6]||1):2*(&quot;even&quot;===e[3]||&quot;odd&quot;===e[3])),e[5]=+(e[7]+e[8]||&quot;odd&quot;===e[3])):e[3]&amp;&amp;se.error(e[0]),e},PSEUDO:function(e){var t,n=!e[6]&amp;&amp;e[2];return G.CHILD.test(e[0])?null:(e[3]?e[2]=e[4]||e[5]||&quot;&quot;:n&amp;&amp;X.test(n)&amp;&amp;(t=h(n,!0))&amp;&amp;(t=n.indexOf(&quot;)&quot;,n.length-t)-n.length)&amp;&amp;(e[0]=e[0].slice(0,t),e[2]=n.slice(0,t)),e.slice(0,3))}},filter:{TAG:function(e){var t=e.replace(te,ne).toLowerCase();return&quot;*&quot;===e?function(){return!0}:function(e){return e.nodeName&amp;&amp;e.nodeName.toLowerCase()===t}},CLASS:function(e){var t=m[e+&quot; &quot;];return t||(t=new RegExp(&quot;(^|&quot;+M+&quot;)&quot;+e+&quot;(&quot;+M+&quot;|$)&quot;))&amp;&amp;m(e,function(e){return t.test(&quot;string&quot;==typeof e.className&amp;&amp;e.className||&quot;undefined&quot;!=typeof e.getAttribute&amp;&amp;e.getAttribute(&quot;class&quot;)||&quot;&quot;)})},ATTR:function(n,r,i){return function(e){var t=se.attr(e,n);return null==t?&quot;!=&quot;===r:!r||(t+=&quot;&quot;,&quot;=&quot;===r?t===i:&quot;!=&quot;===r?t!==i:&quot;^=&quot;===r?i&amp;&amp;0===t.indexOf(i):&quot;*=&quot;===r?i&amp;&amp;-1&lt;t.indexOf(i):&quot;$=&quot;===r?i&amp;&amp;t.slice(-i.length)===i:&quot;~=&quot;===r?-1&lt;(&quot; &quot;+t.replace(B,&quot; &quot;)+&quot; &quot;).indexOf(i):&quot;|=&quot;===r&amp;&amp;(t===i||t.slice(0,i.length+1)===i+&quot;-&quot;))}},CHILD:function(h,e,t,g,v){var y=&quot;nth&quot;!==h.slice(0,3),m=&quot;last&quot;!==h.slice(-4),x=&quot;of-type&quot;===e;return 1===g&amp;&amp;0===v?function(e){return!!e.parentNode}:function(e,t,n){var r,i,o,a,s,u,l=y!==m?&quot;nextSibling&quot;:&quot;previousSibling&quot;,c=e.parentNode,f=x&amp;&amp;e.nodeName.toLowerCase(),p=!n&amp;&amp;!x,d=!1;if(c){if(y){while(l){a=e;while(a=a[l])if(x?a.nodeName.toLowerCase()===f:1===a.nodeType)return!1;u=l=&quot;only&quot;===h&amp;&amp;!u&amp;&amp;&quot;nextSibling&quot;}return!0}if(u=[m?c.firstChild:c.lastChild],m&amp;&amp;p){d=(s=(r=(i=(o=(a=c)[S]||(a[S]={}))[a.uniqueID]||(o[a.uniqueID]={}))[h]||[])[0]===k&amp;&amp;r[1])&amp;&amp;r[2],a=s&amp;&amp;c.childNodes[s];while(a=++s&amp;&amp;a&amp;&amp;a[l]||(d=s=0)||u.pop())if(1===a.nodeType&amp;&amp;++d&amp;&amp;a===e){i[h]=[k,s,d];break}}else if(p&amp;&amp;(d=s=(r=(i=(o=(a=e)[S]||(a[S]={}))[a.uniqueID]||(o[a.uniqueID]={}))[h]||[])[0]===k&amp;&amp;r[1]),!1===d)while(a=++s&amp;&amp;a&amp;&amp;a[l]||(d=s=0)||u.pop())if((x?a.nodeName.toLowerCase()===f:1===a.nodeType)&amp;&amp;++d&amp;&amp;(p&amp;&amp;((i=(o=a[S]||(a[S]={}))[a.uniqueID]||(o[a.uniqueID]={}))[h]=[k,d]),a===e))break;return(d-=v)===g||d%g==0&amp;&amp;0&lt;=d/g}}},PSEUDO:function(e,o){var t,a=b.pseudos[e]||b.setFilters[e.toLowerCase()]||se.error(&quot;unsupported pseudo: &quot;+e);return a[S]?a(o):1&lt;a.length?(t=[e,e,&quot;&quot;,o],b.setFilters.hasOwnProperty(e.toLowerCase())?le(function(e,t){var n,r=a(e,o),i=r.length;while(i--)e[n=P(e,r[i])]=!(t[n]=r[i])}):function(e){return a(e,0,t)}):a}},pseudos:{not:le(function(e){var r=[],i=[],s=f(e.replace($,&quot;$1&quot;));return s[S]?le(function(e,t,n,r){var i,o=s(e,null,r,[]),a=e.length;while(a--)(i=o[a])&amp;&amp;(e[a]=!(t[a]=i))}):function(e,t,n){return r[0]=e,s(r,null,n,i),r[0]=null,!i.pop()}}),has:le(function(t){return function(e){return 0&lt;se(t,e).length}}),contains:le(function(t){return t=t.replace(te,ne),function(e){return-1&lt;(e.textContent||o(e)).indexOf(t)}}),lang:le(function(n){return V.test(n||&quot;&quot;)||se.error(&quot;unsupported lang: &quot;+n),n=n.replace(te,ne).toLowerCase(),function(e){var t;do{if(t=E?e.lang:e.getAttribute(&quot;xml:lang&quot;)||e.getAttribute(&quot;lang&quot;))return(t=t.toLowerCase())===n||0===t.indexOf(n+&quot;-&quot;)}while((e=e.parentNode)&amp;&amp;1===e.nodeType);return!1}}),target:function(e){var t=n.location&amp;&amp;n.location.hash;return t&amp;&amp;t.slice(1)===e.id},root:function(e){return e===a},focus:function(e){return e===C.activeElement&amp;&amp;(!C.hasFocus||C.hasFocus())&amp;&amp;!!(e.type||e.href||~e.tabIndex)},enabled:ge(!1),disabled:ge(!0),checked:function(e){var t=e.nodeName.toLowerCase();return&quot;input&quot;===t&amp;&amp;!!e.checked||&quot;option&quot;===t&amp;&amp;!!e.selected},selected:function(e){return e.parentNode&amp;&amp;e.parentNode.selectedIndex,!0===e.selected},empty:function(e){for(e=e.firstChild;e;e=e.nextSibling)if(e.nodeType&lt;6)return!1;return!0},parent:function(e){return!b.pseudos.empty(e)},header:function(e){return J.test(e.nodeName)},input:function(e){return Q.test(e.nodeName)},button:function(e){var t=e.nodeName.toLowerCase();return&quot;input&quot;===t&amp;&amp;&quot;button&quot;===e.type||&quot;button&quot;===t},text:function(e){var t;return&quot;input&quot;===e.nodeName.toLowerCase()&amp;&amp;&quot;text&quot;===e.type&amp;&amp;(null==(t=e.getAttribute(&quot;type&quot;))||&quot;text&quot;===t.toLowerCase())},first:ve(function(){return[0]}),last:ve(function(e,t){return[t-1]}),eq:ve(function(e,t,n){return[n&lt;0?n+t:n]}),even:ve(function(e,t){for(var n=0;n&lt;t;n+=2)e.push(n);return e}),odd:ve(function(e,t){for(var n=1;n&lt;t;n+=2)e.push(n);return e}),lt:ve(function(e,t,n){for(var r=n&lt;0?n+t:t&lt;n?t:n;0&lt;=--r;)e.push(r);return e}),gt:ve(function(e,t,n){for(var r=n&lt;0?n+t:n;++r&lt;t;)e.push(r);return e})}}).pseudos.nth=b.pseudos.eq,{radio:!0,checkbox:!0,file:!0,password:!0,image:!0})b.pseudos[e]=de(e);for(e in{submit:!0,reset:!0})b.pseudos[e]=he(e);function me(){}function xe(e){for(var t=0,n=e.length,r=&quot;&quot;;t&lt;n;t++)r+=e[t].value;return r}function be(s,e,t){var u=e.dir,l=e.next,c=l||u,f=t&amp;&amp;&quot;parentNode&quot;===c,p=r++;return e.first?function(e,t,n){while(e=e[u])if(1===e.nodeType||f)return s(e,t,n);return!1}:function(e,t,n){var r,i,o,a=[k,p];if(n){while(e=e[u])if((1===e.nodeType||f)&amp;&amp;s(e,t,n))return!0}else while(e=e[u])if(1===e.nodeType||f)if(i=(o=e[S]||(e[S]={}))[e.uniqueID]||(o[e.uniqueID]={}),l&amp;&amp;l===e.nodeName.toLowerCase())e=e[u]||e;else{if((r=i[c])&amp;&amp;r[0]===k&amp;&amp;r[1]===p)return a[2]=r[2];if((i[c]=a)[2]=s(e,t,n))return!0}return!1}}function we(i){return 1&lt;i.length?function(e,t,n){var r=i.length;while(r--)if(!i[r](e,t,n))return!1;return!0}:i[0]}function Te(e,t,n,r,i){for(var o,a=[],s=0,u=e.length,l=null!=t;s&lt;u;s++)(o=e[s])&amp;&amp;(n&amp;&amp;!n(o,r,i)||(a.push(o),l&amp;&amp;t.push(s)));return a}function Ce(d,h,g,v,y,e){return v&amp;&amp;!v[S]&amp;&amp;(v=Ce(v)),y&amp;&amp;!y[S]&amp;&amp;(y=Ce(y,e)),le(function(e,t,n,r){var i,o,a,s=[],u=[],l=t.length,c=e||function(e,t,n){for(var r=0,i=t.length;r&lt;i;r++)se(e,t[r],n);return n}(h||&quot;*&quot;,n.nodeType?[n]:n,[]),f=!d||!e&amp;&amp;h?c:Te(c,s,d,n,r),p=g?y||(e?d:l||v)?[]:t:f;if(g&amp;&amp;g(f,p,n,r),v){i=Te(p,u),v(i,[],n,r),o=i.length;while(o--)(a=i[o])&amp;&amp;(p[u[o]]=!(f[u[o]]=a))}if(e){if(y||d){if(y){i=[],o=p.length;while(o--)(a=p[o])&amp;&amp;i.push(f[o]=a);y(null,p=[],i,r)}o=p.length;while(o--)(a=p[o])&amp;&amp;-1&lt;(i=y?P(e,a):s[o])&amp;&amp;(e[i]=!(t[i]=a))}}else p=Te(p===t?p.splice(l,p.length):p),y?y(null,t,p,r):H.apply(t,p)})}function Ee(e){for(var i,t,n,r=e.length,o=b.relative[e[0].type],a=o||b.relative[&quot; &quot;],s=o?1:0,u=be(function(e){return e===i},a,!0),l=be(function(e){return-1&lt;P(i,e)},a,!0),c=[function(e,t,n){var r=!o&amp;&amp;(n||t!==w)||((i=t).nodeType?u(e,t,n):l(e,t,n));return i=null,r}];s&lt;r;s++)if(t=b.relative[e[s].type])c=[be(we(c),t)];else{if((t=b.filter[e[s].type].apply(null,e[s].matches))[S]){for(n=++s;n&lt;r;n++)if(b.relative[e[n].type])break;return Ce(1&lt;s&amp;&amp;we(c),1&lt;s&amp;&amp;xe(e.slice(0,s-1).concat({value:&quot; &quot;===e[s-2].type?&quot;*&quot;:&quot;&quot;})).replace($,&quot;$1&quot;),t,s&lt;n&amp;&amp;Ee(e.slice(s,n)),n&lt;r&amp;&amp;Ee(e=e.slice(n)),n&lt;r&amp;&amp;xe(e))}c.push(t)}return we(c)}return me.prototype=b.filters=b.pseudos,b.setFilters=new me,h=se.tokenize=function(e,t){var n,r,i,o,a,s,u,l=x[e+&quot; &quot;];if(l)return t?0:l.slice(0);a=e,s=[],u=b.preFilter;while(a){for(o in n&amp;&amp;!(r=_.exec(a))||(r&amp;&amp;(a=a.slice(r[0].length)||a),s.push(i=[])),n=!1,(r=z.exec(a))&amp;&amp;(n=r.shift(),i.push({value:n,type:r[0].replace($,&quot; &quot;)}),a=a.slice(n.length)),b.filter)!(r=G[o].exec(a))||u[o]&amp;&amp;!(r=u[o](r))||(n=r.shift(),i.push({value:n,type:o,matches:r}),a=a.slice(n.length));if(!n)break}return t?a.length:a?se.error(e):x(e,s).slice(0)},f=se.compile=function(e,t){var n,v,y,m,x,r,i=[],o=[],a=A[e+&quot; &quot;];if(!a){t||(t=h(e)),n=t.length;while(n--)(a=Ee(t[n]))[S]?i.push(a):o.push(a);(a=A(e,(v=o,m=0&lt;(y=i).length,x=0&lt;v.length,r=function(e,t,n,r,i){var o,a,s,u=0,l=&quot;0&quot;,c=e&amp;&amp;[],f=[],p=w,d=e||x&amp;&amp;b.find.TAG(&quot;*&quot;,i),h=k+=null==p?1:Math.random()||.1,g=d.length;for(i&amp;&amp;(w=t==C||t||i);l!==g&amp;&amp;null!=(o=d[l]);l++){if(x&amp;&amp;o){a=0,t||o.ownerDocument==C||(T(o),n=!E);while(s=v[a++])if(s(o,t||C,n)){r.push(o);break}i&amp;&amp;(k=h)}m&amp;&amp;((o=!s&amp;&amp;o)&amp;&amp;u--,e&amp;&amp;c.push(o))}if(u+=l,m&amp;&amp;l!==u){a=0;while(s=y[a++])s(c,f,t,n);if(e){if(0&lt;u)while(l--)c[l]||f[l]||(f[l]=q.call(r));f=Te(f)}H.apply(r,f),i&amp;&amp;!e&amp;&amp;0&lt;f.length&amp;&amp;1&lt;u+y.length&amp;&amp;se.uniqueSort(r)}return i&amp;&amp;(k=h,w=p),c},m?le(r):r))).selector=e}return a},g=se.select=function(e,t,n,r){var i,o,a,s,u,l=&quot;function&quot;==typeof e&amp;&amp;e,c=!r&amp;&amp;h(e=l.selector||e);if(n=n||[],1===c.length){if(2&lt;(o=c[0]=c[0].slice(0)).length&amp;&amp;&quot;ID&quot;===(a=o[0]).type&amp;&amp;9===t.nodeType&amp;&amp;E&amp;&amp;b.relative[o[1].type]){if(!(t=(b.find.ID(a.matches[0].replace(te,ne),t)||[])[0]))return n;l&amp;&amp;(t=t.parentNode),e=e.slice(o.shift().value.length)}i=G.needsContext.test(e)?0:o.length;while(i--){if(a=o[i],b.relative[s=a.type])break;if((u=b.find[s])&amp;&amp;(r=u(a.matches[0].replace(te,ne),ee.test(o[0].type)&amp;&amp;ye(t.parentNode)||t))){if(o.splice(i,1),!(e=r.length&amp;&amp;xe(o)))return H.apply(n,r),n;break}}}return(l||f(e,c))(r,t,!E,n,!t||ee.test(e)&amp;&amp;ye(t.parentNode)||t),n},d.sortStable=S.split(&quot;&quot;).sort(j).join(&quot;&quot;)===S,d.detectDuplicates=!!l,T(),d.sortDetached=ce(function(e){return 1&amp;e.compareDocumentPosition(C.createElement(&quot;fieldset&quot;))}),ce(function(e){return e.innerHTML=&quot;&lt;a href=&#x27;#&#x27;&gt;&lt;/a&gt;&quot;,&quot;#&quot;===e.firstChild.getAttribute(&quot;href&quot;)})||fe(&quot;type|href|height|width&quot;,function(e,t,n){if(!n)return e.getAttribute(t,&quot;type&quot;===t.toLowerCase()?1:2)}),d.attributes&amp;&amp;ce(function(e){return e.innerHTML=&quot;&lt;input/&gt;&quot;,e.firstChild.setAttribute(&quot;value&quot;,&quot;&quot;),&quot;&quot;===e.firstChild.getAttribute(&quot;value&quot;)})||fe(&quot;value&quot;,function(e,t,n){if(!n&amp;&amp;&quot;input&quot;===e.nodeName.toLowerCase())return e.defaultValue}),ce(function(e){return null==e.getAttribute(&quot;disabled&quot;)})||fe(R,function(e,t,n){var r;if(!n)return!0===e[t]?t.toLowerCase():(r=e.getAttributeNode(t))&amp;&amp;r.specified?r.value:null}),se}(C);S.find=d,S.expr=d.selectors,S.expr[&quot;:&quot;]=S.expr.pseudos,S.uniqueSort=S.unique=d.uniqueSort,S.text=d.getText,S.isXMLDoc=d.isXML,S.contains=d.contains,S.escapeSelector=d.escape;var h=function(e,t,n){var r=[],i=void 0!==n;while((e=e[t])&amp;&amp;9!==e.nodeType)if(1===e.nodeType){if(i&amp;&amp;S(e).is(n))break;r.push(e)}return r},T=function(e,t){for(var n=[];e;e=e.nextSibling)1===e.nodeType&amp;&amp;e!==t&amp;&amp;n.push(e);return n},k=S.expr.match.needsContext;function A(e,t){return e.nodeName&amp;&amp;e.nodeName.toLowerCase()===t.toLowerCase()}var N=/^&lt;([a-z][^\\/\\0&gt;:\\x20\\t\\r\\n\\f]*)[\\x20\\t\\r\\n\\f]*\\/?&gt;(?:&lt;\\/\\1&gt;|)$/i;function j(e,n,r){return m(n)?S.grep(e,function(e,t){return!!n.call(e,t,e)!==r}):n.nodeType?S.grep(e,function(e){return e===n!==r}):&quot;string&quot;!=typeof n?S.grep(e,function(e){return-1&lt;i.call(n,e)!==r}):S.filter(n,e,r)}S.filter=function(e,t,n){var r=t[0];return n&amp;&amp;(e=&quot;:not(&quot;+e+&quot;)&quot;),1===t.length&amp;&amp;1===r.nodeType?S.find.matchesSelector(r,e)?[r]:[]:S.find.matches(e,S.grep(t,function(e){return 1===e.nodeType}))},S.fn.extend({find:function(e){var t,n,r=this.length,i=this;if(&quot;string&quot;!=typeof e)return this.pushStack(S(e).filter(function(){for(t=0;t&lt;r;t++)if(S.contains(i[t],this))return!0}));for(n=this.pushStack([]),t=0;t&lt;r;t++)S.find(e,i[t],n);return 1&lt;r?S.uniqueSort(n):n},filter:function(e){return this.pushStack(j(this,e||[],!1))},not:function(e){return this.pushStack(j(this,e||[],!0))},is:function(e){return!!j(this,&quot;string&quot;==typeof e&amp;&amp;k.test(e)?S(e):e||[],!1).length}});var D,q=/^(?:\\s*(&lt;[\\w\\W]+&gt;)[^&gt;]*|#([\\w-]+))$/;(S.fn.init=function(e,t,n){var r,i;if(!e)return this;if(n=n||D,&quot;string&quot;==typeof e){if(!(r=&quot;&lt;&quot;===e[0]&amp;&amp;&quot;&gt;&quot;===e[e.length-1]&amp;&amp;3&lt;=e.length?[null,e,null]:q.exec(e))||!r[1]&amp;&amp;t)return!t||t.jquery?(t||n).find(e):this.constructor(t).find(e);if(r[1]){if(t=t instanceof S?t[0]:t,S.merge(this,S.parseHTML(r[1],t&amp;&amp;t.nodeType?t.ownerDocument||t:E,!0)),N.test(r[1])&amp;&amp;S.isPlainObject(t))for(r in t)m(this[r])?this[r](t[r]):this.attr(r,t[r]);return this}return(i=E.getElementById(r[2]))&amp;&amp;(this[0]=i,this.length=1),this}return e.nodeType?(this[0]=e,this.length=1,this):m(e)?void 0!==n.ready?n.ready(e):e(S):S.makeArray(e,this)}).prototype=S.fn,D=S(E);var L=/^(?:parents|prev(?:Until|All))/,H={children:!0,contents:!0,next:!0,prev:!0};function O(e,t){while((e=e[t])&amp;&amp;1!==e.nodeType);return e}S.fn.extend({has:function(e){var t=S(e,this),n=t.length;return this.filter(function(){for(var e=0;e&lt;n;e++)if(S.contains(this,t[e]))return!0})},closest:function(e,t){var n,r=0,i=this.length,o=[],a=&quot;string&quot;!=typeof e&amp;&amp;S(e);if(!k.test(e))for(;r&lt;i;r++)for(n=this[r];n&amp;&amp;n!==t;n=n.parentNode)if(n.nodeType&lt;11&amp;&amp;(a?-1&lt;a.index(n):1===n.nodeType&amp;&amp;S.find.matchesSelector(n,e))){o.push(n);break}return this.pushStack(1&lt;o.length?S.uniqueSort(o):o)},index:function(e){return e?&quot;string&quot;==typeof e?i.call(S(e),this[0]):i.call(this,e.jquery?e[0]:e):this[0]&amp;&amp;this[0].parentNode?this.first().prevAll().length:-1},add:function(e,t){return this.pushStack(S.uniqueSort(S.merge(this.get(),S(e,t))))},addBack:function(e){return this.add(null==e?this.prevObject:this.prevObject.filter(e))}}),S.each({parent:function(e){var t=e.parentNode;return t&amp;&amp;11!==t.nodeType?t:null},parents:function(e){return h(e,&quot;parentNode&quot;)},parentsUntil:function(e,t,n){return h(e,&quot;parentNode&quot;,n)},next:function(e){return O(e,&quot;nextSibling&quot;)},prev:function(e){return O(e,&quot;previousSibling&quot;)},nextAll:function(e){return h(e,&quot;nextSibling&quot;)},prevAll:function(e){return h(e,&quot;previousSibling&quot;)},nextUntil:function(e,t,n){return h(e,&quot;nextSibling&quot;,n)},prevUntil:function(e,t,n){return h(e,&quot;previousSibling&quot;,n)},siblings:function(e){return T((e.parentNode||{}).firstChild,e)},children:function(e){return T(e.firstChild)},contents:function(e){return null!=e.contentDocument&amp;&amp;r(e.contentDocument)?e.contentDocument:(A(e,&quot;template&quot;)&amp;&amp;(e=e.content||e),S.merge([],e.childNodes))}},function(r,i){S.fn[r]=function(e,t){var n=S.map(this,i,e);return&quot;Until&quot;!==r.slice(-5)&amp;&amp;(t=e),t&amp;&amp;&quot;string&quot;==typeof t&amp;&amp;(n=S.filter(t,n)),1&lt;this.length&amp;&amp;(H[r]||S.uniqueSort(n),L.test(r)&amp;&amp;n.reverse()),this.pushStack(n)}});var P=/[^\\x20\\t\\r\\n\\f]+/g;function R(e){return e}function M(e){throw e}function I(e,t,n,r){var i;try{e&amp;&amp;m(i=e.promise)?i.call(e).done(t).fail(n):e&amp;&amp;m(i=e.then)?i.call(e,t,n):t.apply(void 0,[e].slice(r))}catch(e){n.apply(void 0,[e])}}S.Callbacks=function(r){var e,n;r=&quot;string&quot;==typeof r?(e=r,n={},S.each(e.match(P)||[],function(e,t){n[t]=!0}),n):S.extend({},r);var i,t,o,a,s=[],u=[],l=-1,c=function(){for(a=a||r.once,o=i=!0;u.length;l=-1){t=u.shift();while(++l&lt;s.length)!1===s[l].apply(t[0],t[1])&amp;&amp;r.stopOnFalse&amp;&amp;(l=s.length,t=!1)}r.memory||(t=!1),i=!1,a&amp;&amp;(s=t?[]:&quot;&quot;)},f={add:function(){return s&amp;&amp;(t&amp;&amp;!i&amp;&amp;(l=s.length-1,u.push(t)),function n(e){S.each(e,function(e,t){m(t)?r.unique&amp;&amp;f.has(t)||s.push(t):t&amp;&amp;t.length&amp;&amp;&quot;string&quot;!==w(t)&amp;&amp;n(t)})}(arguments),t&amp;&amp;!i&amp;&amp;c()),this},remove:function(){return S.each(arguments,function(e,t){var n;while(-1&lt;(n=S.inArray(t,s,n)))s.splice(n,1),n&lt;=l&amp;&amp;l--}),this},has:function(e){return e?-1&lt;S.inArray(e,s):0&lt;s.length},empty:function(){return s&amp;&amp;(s=[]),this},disable:function(){return a=u=[],s=t=&quot;&quot;,this},disabled:function(){return!s},lock:function(){return a=u=[],t||i||(s=t=&quot;&quot;),this},locked:function(){return!!a},fireWith:function(e,t){return a||(t=[e,(t=t||[]).slice?t.slice():t],u.push(t),i||c()),this},fire:function(){return f.fireWith(this,arguments),this},fired:function(){return!!o}};return f},S.extend({Deferred:function(e){var o=[[&quot;notify&quot;,&quot;progress&quot;,S.Callbacks(&quot;memory&quot;),S.Callbacks(&quot;memory&quot;),2],[&quot;resolve&quot;,&quot;done&quot;,S.Callbacks(&quot;once memory&quot;),S.Callbacks(&quot;once memory&quot;),0,&quot;resolved&quot;],[&quot;reject&quot;,&quot;fail&quot;,S.Callbacks(&quot;once memory&quot;),S.Callbacks(&quot;once memory&quot;),1,&quot;rejected&quot;]],i=&quot;pending&quot;,a={state:function(){return i},always:function(){return s.done(arguments).fail(arguments),this},&quot;catch&quot;:function(e){return a.then(null,e)},pipe:function(){var i=arguments;return S.Deferred(function(r){S.each(o,function(e,t){var n=m(i[t[4]])&amp;&amp;i[t[4]];s[t[1]](function(){var e=n&amp;&amp;n.apply(this,arguments);e&amp;&amp;m(e.promise)?e.promise().progress(r.notify).done(r.resolve).fail(r.reject):r[t[0]+&quot;With&quot;](this,n?[e]:arguments)})}),i=null}).promise()},then:function(t,n,r){var u=0;function l(i,o,a,s){return function(){var n=this,r=arguments,e=function(){var e,t;if(!(i&lt;u)){if((e=a.apply(n,r))===o.promise())throw new TypeError(&quot;Thenable self-resolution&quot;);t=e&amp;&amp;(&quot;object&quot;==typeof e||&quot;function&quot;==typeof e)&amp;&amp;e.then,m(t)?s?t.call(e,l(u,o,R,s),l(u,o,M,s)):(u++,t.call(e,l(u,o,R,s),l(u,o,M,s),l(u,o,R,o.notifyWith))):(a!==R&amp;&amp;(n=void 0,r=[e]),(s||o.resolveWith)(n,r))}},t=s?e:function(){try{e()}catch(e){S.Deferred.exceptionHook&amp;&amp;S.Deferred.exceptionHook(e,t.stackTrace),u&lt;=i+1&amp;&amp;(a!==M&amp;&amp;(n=void 0,r=[e]),o.rejectWith(n,r))}};i?t():(S.Deferred.getStackHook&amp;&amp;(t.stackTrace=S.Deferred.getStackHook()),C.setTimeout(t))}}return S.Deferred(function(e){o[0][3].add(l(0,e,m(r)?r:R,e.notifyWith)),o[1][3].add(l(0,e,m(t)?t:R)),o[2][3].add(l(0,e,m(n)?n:M))}).promise()},promise:function(e){return null!=e?S.extend(e,a):a}},s={};return S.each(o,function(e,t){var n=t[2],r=t[5];a[t[1]]=n.add,r&amp;&amp;n.add(function(){i=r},o[3-e][2].disable,o[3-e][3].disable,o[0][2].lock,o[0][3].lock),n.add(t[3].fire),s[t[0]]=function(){return s[t[0]+&quot;With&quot;](this===s?void 0:this,arguments),this},s[t[0]+&quot;With&quot;]=n.fireWith}),a.promise(s),e&amp;&amp;e.call(s,s),s},when:function(e){var n=arguments.length,t=n,r=Array(t),i=s.call(arguments),o=S.Deferred(),a=function(t){return function(e){r[t]=this,i[t]=1&lt;arguments.length?s.call(arguments):e,--n||o.resolveWith(r,i)}};if(n&lt;=1&amp;&amp;(I(e,o.done(a(t)).resolve,o.reject,!n),&quot;pending&quot;===o.state()||m(i[t]&amp;&amp;i[t].then)))return o.then();while(t--)I(i[t],a(t),o.reject);return o.promise()}});var W=/^(Eval|Internal|Range|Reference|Syntax|Type|URI)Error$/;S.Deferred.exceptionHook=function(e,t){C.console&amp;&amp;C.console.warn&amp;&amp;e&amp;&amp;W.test(e.name)&amp;&amp;C.console.warn(&quot;jQuery.Deferred exception: &quot;+e.message,e.stack,t)},S.readyException=function(e){C.setTimeout(function(){throw e})};var F=S.Deferred();function B(){E.removeEventListener(&quot;DOMContentLoaded&quot;,B),C.removeEventListener(&quot;load&quot;,B),S.ready()}S.fn.ready=function(e){return F.then(e)[&quot;catch&quot;](function(e){S.readyException(e)}),this},S.extend({isReady:!1,readyWait:1,ready:function(e){(!0===e?--S.readyWait:S.isReady)||(S.isReady=!0)!==e&amp;&amp;0&lt;--S.readyWait||F.resolveWith(E,[S])}}),S.ready.then=F.then,&quot;complete&quot;===E.readyState||&quot;loading&quot;!==E.readyState&amp;&amp;!E.documentElement.doScroll?C.setTimeout(S.ready):(E.addEventListener(&quot;DOMContentLoaded&quot;,B),C.addEventListener(&quot;load&quot;,B));var $=function(e,t,n,r,i,o,a){var s=0,u=e.length,l=null==n;if(&quot;object&quot;===w(n))for(s in i=!0,n)$(e,t,s,n[s],!0,o,a);else if(void 0!==r&amp;&amp;(i=!0,m(r)||(a=!0),l&amp;&amp;(a?(t.call(e,r),t=null):(l=t,t=function(e,t,n){return l.call(S(e),n)})),t))for(;s&lt;u;s++)t(e[s],n,a?r:r.call(e[s],s,t(e[s],n)));return i?e:l?t.call(e):u?t(e[0],n):o},_=/^-ms-/,z=/-([a-z])/g;function U(e,t){return t.toUpperCase()}function X(e){return e.replace(_,&quot;ms-&quot;).replace(z,U)}var V=function(e){return 1===e.nodeType||9===e.nodeType||!+e.nodeType};function G(){this.expando=S.expando+G.uid++}G.uid=1,G.prototype={cache:function(e){var t=e[this.expando];return t||(t={},V(e)&amp;&amp;(e.nodeType?e[this.expando]=t:Object.defineProperty(e,this.expando,{value:t,configurable:!0}))),t},set:function(e,t,n){var r,i=this.cache(e);if(&quot;string&quot;==typeof t)i[X(t)]=n;else for(r in t)i[X(r)]=t[r];return i},get:function(e,t){return void 0===t?this.cache(e):e[this.expando]&amp;&amp;e[this.expando][X(t)]},access:function(e,t,n){return void 0===t||t&amp;&amp;&quot;string&quot;==typeof t&amp;&amp;void 0===n?this.get(e,t):(this.set(e,t,n),void 0!==n?n:t)},remove:function(e,t){var n,r=e[this.expando];if(void 0!==r){if(void 0!==t){n=(t=Array.isArray(t)?t.map(X):(t=X(t))in r?[t]:t.match(P)||[]).length;while(n--)delete r[t[n]]}(void 0===t||S.isEmptyObject(r))&amp;&amp;(e.nodeType?e[this.expando]=void 0:delete e[this.expando])}},hasData:function(e){var t=e[this.expando];return void 0!==t&amp;&amp;!S.isEmptyObject(t)}};var Y=new G,Q=new G,J=/^(?:\\{[\\w\\W]*\\}|\\[[\\w\\W]*\\])$/,K=/[A-Z]/g;function Z(e,t,n){var r,i;if(void 0===n&amp;&amp;1===e.nodeType)if(r=&quot;data-&quot;+t.replace(K,&quot;-$&amp;&quot;).toLowerCase(),&quot;string&quot;==typeof(n=e.getAttribute(r))){try{n=&quot;true&quot;===(i=n)||&quot;false&quot;!==i&amp;&amp;(&quot;null&quot;===i?null:i===+i+&quot;&quot;?+i:J.test(i)?JSON.parse(i):i)}catch(e){}Q.set(e,t,n)}else n=void 0;return n}S.extend({hasData:function(e){return Q.hasData(e)||Y.hasData(e)},data:function(e,t,n){return Q.access(e,t,n)},removeData:function(e,t){Q.remove(e,t)},_data:function(e,t,n){return Y.access(e,t,n)},_removeData:function(e,t){Y.remove(e,t)}}),S.fn.extend({data:function(n,e){var t,r,i,o=this[0],a=o&amp;&amp;o.attributes;if(void 0===n){if(this.length&amp;&amp;(i=Q.get(o),1===o.nodeType&amp;&amp;!Y.get(o,&quot;hasDataAttrs&quot;))){t=a.length;while(t--)a[t]&amp;&amp;0===(r=a[t].name).indexOf(&quot;data-&quot;)&amp;&amp;(r=X(r.slice(5)),Z(o,r,i[r]));Y.set(o,&quot;hasDataAttrs&quot;,!0)}return i}return&quot;object&quot;==typeof n?this.each(function(){Q.set(this,n)}):$(this,function(e){var t;if(o&amp;&amp;void 0===e)return void 0!==(t=Q.get(o,n))?t:void 0!==(t=Z(o,n))?t:void 0;this.each(function(){Q.set(this,n,e)})},null,e,1&lt;arguments.length,null,!0)},removeData:function(e){return this.each(function(){Q.remove(this,e)})}}),S.extend({queue:function(e,t,n){var r;if(e)return t=(t||&quot;fx&quot;)+&quot;queue&quot;,r=Y.get(e,t),n&amp;&amp;(!r||Array.isArray(n)?r=Y.access(e,t,S.makeArray(n)):r.push(n)),r||[]},dequeue:function(e,t){t=t||&quot;fx&quot;;var n=S.queue(e,t),r=n.length,i=n.shift(),o=S._queueHooks(e,t);&quot;inprogress&quot;===i&amp;&amp;(i=n.shift(),r--),i&amp;&amp;(&quot;fx&quot;===t&amp;&amp;n.unshift(&quot;inprogress&quot;),delete o.stop,i.call(e,function(){S.dequeue(e,t)},o)),!r&amp;&amp;o&amp;&amp;o.empty.fire()},_queueHooks:function(e,t){var n=t+&quot;queueHooks&quot;;return Y.get(e,n)||Y.access(e,n,{empty:S.Callbacks(&quot;once memory&quot;).add(function(){Y.remove(e,[t+&quot;queue&quot;,n])})})}}),S.fn.extend({queue:function(t,n){var e=2;return&quot;string&quot;!=typeof t&amp;&amp;(n=t,t=&quot;fx&quot;,e--),arguments.length&lt;e?S.queue(this[0],t):void 0===n?this:this.each(function(){var e=S.queue(this,t,n);S._queueHooks(this,t),&quot;fx&quot;===t&amp;&amp;&quot;inprogress&quot;!==e[0]&amp;&amp;S.dequeue(this,t)})},dequeue:function(e){return this.each(function(){S.dequeue(this,e)})},clearQueue:function(e){return this.queue(e||&quot;fx&quot;,[])},promise:function(e,t){var n,r=1,i=S.Deferred(),o=this,a=this.length,s=function(){--r||i.resolveWith(o,[o])};&quot;string&quot;!=typeof e&amp;&amp;(t=e,e=void 0),e=e||&quot;fx&quot;;while(a--)(n=Y.get(o[a],e+&quot;queueHooks&quot;))&amp;&amp;n.empty&amp;&amp;(r++,n.empty.add(s));return s(),i.promise(t)}});var ee=/[+-]?(?:\\d*\\.|)\\d+(?:[eE][+-]?\\d+|)/.source,te=new RegExp(&quot;^(?:([+-])=|)(&quot;+ee+&quot;)([a-z%]*)$&quot;,&quot;i&quot;),ne=[&quot;Top&quot;,&quot;Right&quot;,&quot;Bottom&quot;,&quot;Left&quot;],re=E.documentElement,ie=function(e){return S.contains(e.ownerDocument,e)},oe={composed:!0};re.getRootNode&amp;&amp;(ie=function(e){return S.contains(e.ownerDocument,e)||e.getRootNode(oe)===e.ownerDocument});var ae=function(e,t){return&quot;none&quot;===(e=t||e).style.display||&quot;&quot;===e.style.display&amp;&amp;ie(e)&amp;&amp;&quot;none&quot;===S.css(e,&quot;display&quot;)};function se(e,t,n,r){var i,o,a=20,s=r?function(){return r.cur()}:function(){return S.css(e,t,&quot;&quot;)},u=s(),l=n&amp;&amp;n[3]||(S.cssNumber[t]?&quot;&quot;:&quot;px&quot;),c=e.nodeType&amp;&amp;(S.cssNumber[t]||&quot;px&quot;!==l&amp;&amp;+u)&amp;&amp;te.exec(S.css(e,t));if(c&amp;&amp;c[3]!==l){u/=2,l=l||c[3],c=+u||1;while(a--)S.style(e,t,c+l),(1-o)*(1-(o=s()/u||.5))&lt;=0&amp;&amp;(a=0),c/=o;c*=2,S.style(e,t,c+l),n=n||[]}return n&amp;&amp;(c=+c||+u||0,i=n[1]?c+(n[1]+1)*n[2]:+n[2],r&amp;&amp;(r.unit=l,r.start=c,r.end=i)),i}var ue={};function le(e,t){for(var n,r,i,o,a,s,u,l=[],c=0,f=e.length;c&lt;f;c++)(r=e[c]).style&amp;&amp;(n=r.style.display,t?(&quot;none&quot;===n&amp;&amp;(l[c]=Y.get(r,&quot;display&quot;)||null,l[c]||(r.style.display=&quot;&quot;)),&quot;&quot;===r.style.display&amp;&amp;ae(r)&amp;&amp;(l[c]=(u=a=o=void 0,a=(i=r).ownerDocument,s=i.nodeName,(u=ue[s])||(o=a.body.appendChild(a.createElement(s)),u=S.css(o,&quot;display&quot;),o.parentNode.removeChild(o),&quot;none&quot;===u&amp;&amp;(u=&quot;block&quot;),ue[s]=u)))):&quot;none&quot;!==n&amp;&amp;(l[c]=&quot;none&quot;,Y.set(r,&quot;display&quot;,n)));for(c=0;c&lt;f;c++)null!=l[c]&amp;&amp;(e[c].style.display=l[c]);return e}S.fn.extend({show:function(){return le(this,!0)},hide:function(){return le(this)},toggle:function(e){return&quot;boolean&quot;==typeof e?e?this.show():this.hide():this.each(function(){ae(this)?S(this).show():S(this).hide()})}});var ce,fe,pe=/^(?:checkbox|radio)$/i,de=/&lt;([a-z][^\\/\\0&gt;\\x20\\t\\r\\n\\f]*)/i,he=/^$|^module$|\\/(?:java|ecma)script/i;ce=E.createDocumentFragment().appendChild(E.createElement(&quot;div&quot;)),(fe=E.createElement(&quot;input&quot;)).setAttribute(&quot;type&quot;,&quot;radio&quot;),fe.setAttribute(&quot;checked&quot;,&quot;checked&quot;),fe.setAttribute(&quot;name&quot;,&quot;t&quot;),ce.appendChild(fe),y.checkClone=ce.cloneNode(!0).cloneNode(!0).lastChild.checked,ce.innerHTML=&quot;&lt;textarea&gt;x&lt;/textarea&gt;&quot;,y.noCloneChecked=!!ce.cloneNode(!0).lastChild.defaultValue,ce.innerHTML=&quot;&lt;option&gt;&lt;/option&gt;&quot;,y.option=!!ce.lastChild;var ge={thead:[1,&quot;&lt;table&gt;&quot;,&quot;&lt;/table&gt;&quot;],col:[2,&quot;&lt;table&gt;&lt;colgroup&gt;&quot;,&quot;&lt;/colgroup&gt;&lt;/table&gt;&quot;],tr:[2,&quot;&lt;table&gt;&lt;tbody&gt;&quot;,&quot;&lt;/tbody&gt;&lt;/table&gt;&quot;],td:[3,&quot;&lt;table&gt;&lt;tbody&gt;&lt;tr&gt;&quot;,&quot;&lt;/tr&gt;&lt;/tbody&gt;&lt;/table&gt;&quot;],_default:[0,&quot;&quot;,&quot;&quot;]};function ve(e,t){var n;return n=&quot;undefined&quot;!=typeof e.getElementsByTagName?e.getElementsByTagName(t||&quot;*&quot;):&quot;undefined&quot;!=typeof e.querySelectorAll?e.querySelectorAll(t||&quot;*&quot;):[],void 0===t||t&amp;&amp;A(e,t)?S.merge([e],n):n}function ye(e,t){for(var n=0,r=e.length;n&lt;r;n++)Y.set(e[n],&quot;globalEval&quot;,!t||Y.get(t[n],&quot;globalEval&quot;))}ge.tbody=ge.tfoot=ge.colgroup=ge.caption=ge.thead,ge.th=ge.td,y.option||(ge.optgroup=ge.option=[1,&quot;&lt;select multiple=&#x27;multiple&#x27;&gt;&quot;,&quot;&lt;/select&gt;&quot;]);var me=/&lt;|&amp;#?\\w+;/;function xe(e,t,n,r,i){for(var o,a,s,u,l,c,f=t.createDocumentFragment(),p=[],d=0,h=e.length;d&lt;h;d++)if((o=e[d])||0===o)if(&quot;object&quot;===w(o))S.merge(p,o.nodeType?[o]:o);else if(me.test(o)){a=a||f.appendChild(t.createElement(&quot;div&quot;)),s=(de.exec(o)||[&quot;&quot;,&quot;&quot;])[1].toLowerCase(),u=ge[s]||ge._default,a.innerHTML=u[1]+S.htmlPrefilter(o)+u[2],c=u[0];while(c--)a=a.lastChild;S.merge(p,a.childNodes),(a=f.firstChild).textContent=&quot;&quot;}else p.push(t.createTextNode(o));f.textContent=&quot;&quot;,d=0;while(o=p[d++])if(r&amp;&amp;-1&lt;S.inArray(o,r))i&amp;&amp;i.push(o);else if(l=ie(o),a=ve(f.appendChild(o),&quot;script&quot;),l&amp;&amp;ye(a),n){c=0;while(o=a[c++])he.test(o.type||&quot;&quot;)&amp;&amp;n.push(o)}return f}var be=/^([^.]*)(?:\\.(.+)|)/;function we(){return!0}function Te(){return!1}function Ce(e,t){return e===function(){try{return E.activeElement}catch(e){}}()==(&quot;focus&quot;===t)}function Ee(e,t,n,r,i,o){var a,s;if(&quot;object&quot;==typeof t){for(s in&quot;string&quot;!=typeof n&amp;&amp;(r=r||n,n=void 0),t)Ee(e,s,n,r,t[s],o);return e}if(null==r&amp;&amp;null==i?(i=n,r=n=void 0):null==i&amp;&amp;(&quot;string&quot;==typeof n?(i=r,r=void 0):(i=r,r=n,n=void 0)),!1===i)i=Te;else if(!i)return e;return 1===o&amp;&amp;(a=i,(i=function(e){return S().off(e),a.apply(this,arguments)}).guid=a.guid||(a.guid=S.guid++)),e.each(function(){S.event.add(this,t,i,r,n)})}function Se(e,i,o){o?(Y.set(e,i,!1),S.event.add(e,i,{namespace:!1,handler:function(e){var t,n,r=Y.get(this,i);if(1&amp;e.isTrigger&amp;&amp;this[i]){if(r.length)(S.event.special[i]||{}).delegateType&amp;&amp;e.stopPropagation();else if(r=s.call(arguments),Y.set(this,i,r),t=o(this,i),this[i](),r!==(n=Y.get(this,i))||t?Y.set(this,i,!1):n={},r!==n)return e.stopImmediatePropagation(),e.preventDefault(),n&amp;&amp;n.value}else r.length&amp;&amp;(Y.set(this,i,{value:S.event.trigger(S.extend(r[0],S.Event.prototype),r.slice(1),this)}),e.stopImmediatePropagation())}})):void 0===Y.get(e,i)&amp;&amp;S.event.add(e,i,we)}S.event={global:{},add:function(t,e,n,r,i){var o,a,s,u,l,c,f,p,d,h,g,v=Y.get(t);if(V(t)){n.handler&amp;&amp;(n=(o=n).handler,i=o.selector),i&amp;&amp;S.find.matchesSelector(re,i),n.guid||(n.guid=S.guid++),(u=v.events)||(u=v.events=Object.create(null)),(a=v.handle)||(a=v.handle=function(e){return&quot;undefined&quot;!=typeof S&amp;&amp;S.event.triggered!==e.type?S.event.dispatch.apply(t,arguments):void 0}),l=(e=(e||&quot;&quot;).match(P)||[&quot;&quot;]).length;while(l--)d=g=(s=be.exec(e[l])||[])[1],h=(s[2]||&quot;&quot;).split(&quot;.&quot;).sort(),d&amp;&amp;(f=S.event.special[d]||{},d=(i?f.delegateType:f.bindType)||d,f=S.event.special[d]||{},c=S.extend({type:d,origType:g,data:r,handler:n,guid:n.guid,selector:i,needsContext:i&amp;&amp;S.expr.match.needsContext.test(i),namespace:h.join(&quot;.&quot;)},o),(p=u[d])||((p=u[d]=[]).delegateCount=0,f.setup&amp;&amp;!1!==f.setup.call(t,r,h,a)||t.addEventListener&amp;&amp;t.addEventListener(d,a)),f.add&amp;&amp;(f.add.call(t,c),c.handler.guid||(c.handler.guid=n.guid)),i?p.splice(p.delegateCount++,0,c):p.push(c),S.event.global[d]=!0)}},remove:function(e,t,n,r,i){var o,a,s,u,l,c,f,p,d,h,g,v=Y.hasData(e)&amp;&amp;Y.get(e);if(v&amp;&amp;(u=v.events)){l=(t=(t||&quot;&quot;).match(P)||[&quot;&quot;]).length;while(l--)if(d=g=(s=be.exec(t[l])||[])[1],h=(s[2]||&quot;&quot;).split(&quot;.&quot;).sort(),d){f=S.event.special[d]||{},p=u[d=(r?f.delegateType:f.bindType)||d]||[],s=s[2]&amp;&amp;new RegExp(&quot;(^|\\\\.)&quot;+h.join(&quot;\\\\.(?:.*\\\\.|)&quot;)+&quot;(\\\\.|$)&quot;),a=o=p.length;while(o--)c=p[o],!i&amp;&amp;g!==c.origType||n&amp;&amp;n.guid!==c.guid||s&amp;&amp;!s.test(c.namespace)||r&amp;&amp;r!==c.selector&amp;&amp;(&quot;**&quot;!==r||!c.selector)||(p.splice(o,1),c.selector&amp;&amp;p.delegateCount--,f.remove&amp;&amp;f.remove.call(e,c));a&amp;&amp;!p.length&amp;&amp;(f.teardown&amp;&amp;!1!==f.teardown.call(e,h,v.handle)||S.removeEvent(e,d,v.handle),delete u[d])}else for(d in u)S.event.remove(e,d+t[l],n,r,!0);S.isEmptyObject(u)&amp;&amp;Y.remove(e,&quot;handle events&quot;)}},dispatch:function(e){var t,n,r,i,o,a,s=new Array(arguments.length),u=S.event.fix(e),l=(Y.get(this,&quot;events&quot;)||Object.create(null))[u.type]||[],c=S.event.special[u.type]||{};for(s[0]=u,t=1;t&lt;arguments.length;t++)s[t]=arguments[t];if(u.delegateTarget=this,!c.preDispatch||!1!==c.preDispatch.call(this,u)){a=S.event.handlers.call(this,u,l),t=0;while((i=a[t++])&amp;&amp;!u.isPropagationStopped()){u.currentTarget=i.elem,n=0;while((o=i.handlers[n++])&amp;&amp;!u.isImmediatePropagationStopped())u.rnamespace&amp;&amp;!1!==o.namespace&amp;&amp;!u.rnamespace.test(o.namespace)||(u.handleObj=o,u.data=o.data,void 0!==(r=((S.event.special[o.origType]||{}).handle||o.handler).apply(i.elem,s))&amp;&amp;!1===(u.result=r)&amp;&amp;(u.preventDefault(),u.stopPropagation()))}return c.postDispatch&amp;&amp;c.postDispatch.call(this,u),u.result}},handlers:function(e,t){var n,r,i,o,a,s=[],u=t.delegateCount,l=e.target;if(u&amp;&amp;l.nodeType&amp;&amp;!(&quot;click&quot;===e.type&amp;&amp;1&lt;=e.button))for(;l!==this;l=l.parentNode||this)if(1===l.nodeType&amp;&amp;(&quot;click&quot;!==e.type||!0!==l.disabled)){for(o=[],a={},n=0;n&lt;u;n++)void 0===a[i=(r=t[n]).selector+&quot; &quot;]&amp;&amp;(a[i]=r.needsContext?-1&lt;S(i,this).index(l):S.find(i,this,null,[l]).length),a[i]&amp;&amp;o.push(r);o.length&amp;&amp;s.push({elem:l,handlers:o})}return l=this,u&lt;t.length&amp;&amp;s.push({elem:l,handlers:t.slice(u)}),s},addProp:function(t,e){Object.defineProperty(S.Event.prototype,t,{enumerable:!0,configurable:!0,get:m(e)?function(){if(this.originalEvent)return e(this.originalEvent)}:function(){if(this.originalEvent)return this.originalEvent[t]},set:function(e){Object.defineProperty(this,t,{enumerable:!0,configurable:!0,writable:!0,value:e})}})},fix:function(e){return e[S.expando]?e:new S.Event(e)},special:{load:{noBubble:!0},click:{setup:function(e){var t=this||e;return pe.test(t.type)&amp;&amp;t.click&amp;&amp;A(t,&quot;input&quot;)&amp;&amp;Se(t,&quot;click&quot;,we),!1},trigger:function(e){var t=this||e;return pe.test(t.type)&amp;&amp;t.click&amp;&amp;A(t,&quot;input&quot;)&amp;&amp;Se(t,&quot;click&quot;),!0},_default:function(e){var t=e.target;return pe.test(t.type)&amp;&amp;t.click&amp;&amp;A(t,&quot;input&quot;)&amp;&amp;Y.get(t,&quot;click&quot;)||A(t,&quot;a&quot;)}},beforeunload:{postDispatch:function(e){void 0!==e.result&amp;&amp;e.originalEvent&amp;&amp;(e.originalEvent.returnValue=e.result)}}}},S.removeEvent=function(e,t,n){e.removeEventListener&amp;&amp;e.removeEventListener(t,n)},S.Event=function(e,t){if(!(this instanceof S.Event))return new S.Event(e,t);e&amp;&amp;e.type?(this.originalEvent=e,this.type=e.type,this.isDefaultPrevented=e.defaultPrevented||void 0===e.defaultPrevented&amp;&amp;!1===e.returnValue?we:Te,this.target=e.target&amp;&amp;3===e.target.nodeType?e.target.parentNode:e.target,this.currentTarget=e.currentTarget,this.relatedTarget=e.relatedTarget):this.type=e,t&amp;&amp;S.extend(this,t),this.timeStamp=e&amp;&amp;e.timeStamp||Date.now(),this[S.expando]=!0},S.Event.prototype={constructor:S.Event,isDefaultPrevented:Te,isPropagationStopped:Te,isImmediatePropagationStopped:Te,isSimulated:!1,preventDefault:function(){var e=this.originalEvent;this.isDefaultPrevented=we,e&amp;&amp;!this.isSimulated&amp;&amp;e.preventDefault()},stopPropagation:function(){var e=this.originalEvent;this.isPropagationStopped=we,e&amp;&amp;!this.isSimulated&amp;&amp;e.stopPropagation()},stopImmediatePropagation:function(){var e=this.originalEvent;this.isImmediatePropagationStopped=we,e&amp;&amp;!this.isSimulated&amp;&amp;e.stopImmediatePropagation(),this.stopPropagation()}},S.each({altKey:!0,bubbles:!0,cancelable:!0,changedTouches:!0,ctrlKey:!0,detail:!0,eventPhase:!0,metaKey:!0,pageX:!0,pageY:!0,shiftKey:!0,view:!0,&quot;char&quot;:!0,code:!0,charCode:!0,key:!0,keyCode:!0,button:!0,buttons:!0,clientX:!0,clientY:!0,offsetX:!0,offsetY:!0,pointerId:!0,pointerType:!0,screenX:!0,screenY:!0,targetTouches:!0,toElement:!0,touches:!0,which:!0},S.event.addProp),S.each({focus:&quot;focusin&quot;,blur:&quot;focusout&quot;},function(e,t){S.event.special[e]={setup:function(){return Se(this,e,Ce),!1},trigger:function(){return Se(this,e),!0},_default:function(){return!0},delegateType:t}}),S.each({mouseenter:&quot;mouseover&quot;,mouseleave:&quot;mouseout&quot;,pointerenter:&quot;pointerover&quot;,pointerleave:&quot;pointerout&quot;},function(e,i){S.event.special[e]={delegateType:i,bindType:i,handle:function(e){var t,n=e.relatedTarget,r=e.handleObj;return n&amp;&amp;(n===this||S.contains(this,n))||(e.type=r.origType,t=r.handler.apply(this,arguments),e.type=i),t}}}),S.fn.extend({on:function(e,t,n,r){return Ee(this,e,t,n,r)},one:function(e,t,n,r){return Ee(this,e,t,n,r,1)},off:function(e,t,n){var r,i;if(e&amp;&amp;e.preventDefault&amp;&amp;e.handleObj)return r=e.handleObj,S(e.delegateTarget).off(r.namespace?r.origType+&quot;.&quot;+r.namespace:r.origType,r.selector,r.handler),this;if(&quot;object&quot;==typeof e){for(i in e)this.off(i,t,e[i]);return this}return!1!==t&amp;&amp;&quot;function&quot;!=typeof t||(n=t,t=void 0),!1===n&amp;&amp;(n=Te),this.each(function(){S.event.remove(this,e,n,t)})}});var ke=/&lt;script|&lt;style|&lt;link/i,Ae=/checked\\s*(?:[^=]|=\\s*.checked.)/i,Ne=/^\\s*&lt;!(?:\\[CDATA\\[|--)|(?:\\]\\]|--)&gt;\\s*$/g;function je(e,t){return A(e,&quot;table&quot;)&amp;&amp;A(11!==t.nodeType?t:t.firstChild,&quot;tr&quot;)&amp;&amp;S(e).children(&quot;tbody&quot;)[0]||e}function De(e){return e.type=(null!==e.getAttribute(&quot;type&quot;))+&quot;/&quot;+e.type,e}function qe(e){return&quot;true/&quot;===(e.type||&quot;&quot;).slice(0,5)?e.type=e.type.slice(5):e.removeAttribute(&quot;type&quot;),e}function Le(e,t){var n,r,i,o,a,s;if(1===t.nodeType){if(Y.hasData(e)&amp;&amp;(s=Y.get(e).events))for(i in Y.remove(t,&quot;handle events&quot;),s)for(n=0,r=s[i].length;n&lt;r;n++)S.event.add(t,i,s[i][n]);Q.hasData(e)&amp;&amp;(o=Q.access(e),a=S.extend({},o),Q.set(t,a))}}function He(n,r,i,o){r=g(r);var e,t,a,s,u,l,c=0,f=n.length,p=f-1,d=r[0],h=m(d);if(h||1&lt;f&amp;&amp;&quot;string&quot;==typeof d&amp;&amp;!y.checkClone&amp;&amp;Ae.test(d))return n.each(function(e){var t=n.eq(e);h&amp;&amp;(r[0]=d.call(this,e,t.html())),He(t,r,i,o)});if(f&amp;&amp;(t=(e=xe(r,n[0].ownerDocument,!1,n,o)).firstChild,1===e.childNodes.length&amp;&amp;(e=t),t||o)){for(s=(a=S.map(ve(e,&quot;script&quot;),De)).length;c&lt;f;c++)u=e,c!==p&amp;&amp;(u=S.clone(u,!0,!0),s&amp;&amp;S.merge(a,ve(u,&quot;script&quot;))),i.call(n[c],u,c);if(s)for(l=a[a.length-1].ownerDocument,S.map(a,qe),c=0;c&lt;s;c++)u=a[c],he.test(u.type||&quot;&quot;)&amp;&amp;!Y.access(u,&quot;globalEval&quot;)&amp;&amp;S.contains(l,u)&amp;&amp;(u.src&amp;&amp;&quot;module&quot;!==(u.type||&quot;&quot;).toLowerCase()?S._evalUrl&amp;&amp;!u.noModule&amp;&amp;S._evalUrl(u.src,{nonce:u.nonce||u.getAttribute(&quot;nonce&quot;)},l):b(u.textContent.replace(Ne,&quot;&quot;),u,l))}return n}function Oe(e,t,n){for(var r,i=t?S.filter(t,e):e,o=0;null!=(r=i[o]);o++)n||1!==r.nodeType||S.cleanData(ve(r)),r.parentNode&amp;&amp;(n&amp;&amp;ie(r)&amp;&amp;ye(ve(r,&quot;script&quot;)),r.parentNode.removeChild(r));return e}S.extend({htmlPrefilter:function(e){return e},clone:function(e,t,n){var r,i,o,a,s,u,l,c=e.cloneNode(!0),f=ie(e);if(!(y.noCloneChecked||1!==e.nodeType&amp;&amp;11!==e.nodeType||S.isXMLDoc(e)))for(a=ve(c),r=0,i=(o=ve(e)).length;r&lt;i;r++)s=o[r],u=a[r],void 0,&quot;input&quot;===(l=u.nodeName.toLowerCase())&amp;&amp;pe.test(s.type)?u.checked=s.checked:&quot;input&quot;!==l&amp;&amp;&quot;textarea&quot;!==l||(u.defaultValue=s.defaultValue);if(t)if(n)for(o=o||ve(e),a=a||ve(c),r=0,i=o.length;r&lt;i;r++)Le(o[r],a[r]);else Le(e,c);return 0&lt;(a=ve(c,&quot;script&quot;)).length&amp;&amp;ye(a,!f&amp;&amp;ve(e,&quot;script&quot;)),c},cleanData:function(e){for(var t,n,r,i=S.event.special,o=0;void 0!==(n=e[o]);o++)if(V(n)){if(t=n[Y.expando]){if(t.events)for(r in t.events)i[r]?S.event.remove(n,r):S.removeEvent(n,r,t.handle);n[Y.expando]=void 0}n[Q.expando]&amp;&amp;(n[Q.expando]=void 0)}}}),S.fn.extend({detach:function(e){return Oe(this,e,!0)},remove:function(e){return Oe(this,e)},text:function(e){return $(this,function(e){return void 0===e?S.text(this):this.empty().each(function(){1!==this.nodeType&amp;&amp;11!==this.nodeType&amp;&amp;9!==this.nodeType||(this.textContent=e)})},null,e,arguments.length)},append:function(){return He(this,arguments,function(e){1!==this.nodeType&amp;&amp;11!==this.nodeType&amp;&amp;9!==this.nodeType||je(this,e).appendChild(e)})},prepend:function(){return He(this,arguments,function(e){if(1===this.nodeType||11===this.nodeType||9===this.nodeType){var t=je(this,e);t.insertBefore(e,t.firstChild)}})},before:function(){return He(this,arguments,function(e){this.parentNode&amp;&amp;this.parentNode.insertBefore(e,this)})},after:function(){return He(this,arguments,function(e){this.parentNode&amp;&amp;this.parentNode.insertBefore(e,this.nextSibling)})},empty:function(){for(var e,t=0;null!=(e=this[t]);t++)1===e.nodeType&amp;&amp;(S.cleanData(ve(e,!1)),e.textContent=&quot;&quot;);return this},clone:function(e,t){return e=null!=e&amp;&amp;e,t=null==t?e:t,this.map(function(){return S.clone(this,e,t)})},html:function(e){return $(this,function(e){var t=this[0]||{},n=0,r=this.length;if(void 0===e&amp;&amp;1===t.nodeType)return t.innerHTML;if(&quot;string&quot;==typeof e&amp;&amp;!ke.test(e)&amp;&amp;!ge[(de.exec(e)||[&quot;&quot;,&quot;&quot;])[1].toLowerCase()]){e=S.htmlPrefilter(e);try{for(;n&lt;r;n++)1===(t=this[n]||{}).nodeType&amp;&amp;(S.cleanData(ve(t,!1)),t.innerHTML=e);t=0}catch(e){}}t&amp;&amp;this.empty().append(e)},null,e,arguments.length)},replaceWith:function(){var n=[];return He(this,arguments,function(e){var t=this.parentNode;S.inArray(this,n)&lt;0&amp;&amp;(S.cleanData(ve(this)),t&amp;&amp;t.replaceChild(e,this))},n)}}),S.each({appendTo:&quot;append&quot;,prependTo:&quot;prepend&quot;,insertBefore:&quot;before&quot;,insertAfter:&quot;after&quot;,replaceAll:&quot;replaceWith&quot;},function(e,a){S.fn[e]=function(e){for(var t,n=[],r=S(e),i=r.length-1,o=0;o&lt;=i;o++)t=o===i?this:this.clone(!0),S(r[o])[a](t),u.apply(n,t.get());return this.pushStack(n)}});var Pe=new RegExp(&quot;^(&quot;+ee+&quot;)(?!px)[a-z%]+$&quot;,&quot;i&quot;),Re=function(e){var t=e.ownerDocument.defaultView;return t&amp;&amp;t.opener||(t=C),t.getComputedStyle(e)},Me=function(e,t,n){var r,i,o={};for(i in t)o[i]=e.style[i],e.style[i]=t[i];for(i in r=n.call(e),t)e.style[i]=o[i];return r},Ie=new RegExp(ne.join(&quot;|&quot;),&quot;i&quot;);function We(e,t,n){var r,i,o,a,s=e.style;return(n=n||Re(e))&amp;&amp;(&quot;&quot;!==(a=n.getPropertyValue(t)||n[t])||ie(e)||(a=S.style(e,t)),!y.pixelBoxStyles()&amp;&amp;Pe.test(a)&amp;&amp;Ie.test(t)&amp;&amp;(r=s.width,i=s.minWidth,o=s.maxWidth,s.minWidth=s.maxWidth=s.width=a,a=n.width,s.width=r,s.minWidth=i,s.maxWidth=o)),void 0!==a?a+&quot;&quot;:a}function Fe(e,t){return{get:function(){if(!e())return(this.get=t).apply(this,arguments);delete this.get}}}!function(){function e(){if(l){u.style.cssText=&quot;position:absolute;left:-11111px;width:60px;margin-top:1px;padding:0;border:0&quot;,l.style.cssText=&quot;position:relative;display:block;box-sizing:border-box;overflow:scroll;margin:auto;border:1px;padding:1px;width:60%;top:1%&quot;,re.appendChild(u).appendChild(l);var e=C.getComputedStyle(l);n=&quot;1%&quot;!==e.top,s=12===t(e.marginLeft),l.style.right=&quot;60%&quot;,o=36===t(e.right),r=36===t(e.width),l.style.position=&quot;absolute&quot;,i=12===t(l.offsetWidth/3),re.removeChild(u),l=null}}function t(e){return Math.round(parseFloat(e))}var n,r,i,o,a,s,u=E.createElement(&quot;div&quot;),l=E.createElement(&quot;div&quot;);l.style&amp;&amp;(l.style.backgroundClip=&quot;content-box&quot;,l.cloneNode(!0).style.backgroundClip=&quot;&quot;,y.clearCloneStyle=&quot;content-box&quot;===l.style.backgroundClip,S.extend(y,{boxSizingReliable:function(){return e(),r},pixelBoxStyles:function(){return e(),o},pixelPosition:function(){return e(),n},reliableMarginLeft:function(){return e(),s},scrollboxSize:function(){return e(),i},reliableTrDimensions:function(){var e,t,n,r;return null==a&amp;&amp;(e=E.createElement(&quot;table&quot;),t=E.createElement(&quot;tr&quot;),n=E.createElement(&quot;div&quot;),e.style.cssText=&quot;position:absolute;left:-11111px;border-collapse:separate&quot;,t.style.cssText=&quot;border:1px solid&quot;,t.style.height=&quot;1px&quot;,n.style.height=&quot;9px&quot;,n.style.display=&quot;block&quot;,re.appendChild(e).appendChild(t).appendChild(n),r=C.getComputedStyle(t),a=parseInt(r.height,10)+parseInt(r.borderTopWidth,10)+parseInt(r.borderBottomWidth,10)===t.offsetHeight,re.removeChild(e)),a}}))}();var Be=[&quot;Webkit&quot;,&quot;Moz&quot;,&quot;ms&quot;],$e=E.createElement(&quot;div&quot;).style,_e={};function ze(e){var t=S.cssProps[e]||_e[e];return t||(e in $e?e:_e[e]=function(e){var t=e[0].toUpperCase()+e.slice(1),n=Be.length;while(n--)if((e=Be[n]+t)in $e)return e}(e)||e)}var Ue=/^(none|table(?!-c[ea]).+)/,Xe=/^--/,Ve={position:&quot;absolute&quot;,visibility:&quot;hidden&quot;,display:&quot;block&quot;},Ge={letterSpacing:&quot;0&quot;,fontWeight:&quot;400&quot;};function Ye(e,t,n){var r=te.exec(t);return r?Math.max(0,r[2]-(n||0))+(r[3]||&quot;px&quot;):t}function Qe(e,t,n,r,i,o){var a=&quot;width&quot;===t?1:0,s=0,u=0;if(n===(r?&quot;border&quot;:&quot;content&quot;))return 0;for(;a&lt;4;a+=2)&quot;margin&quot;===n&amp;&amp;(u+=S.css(e,n+ne[a],!0,i)),r?(&quot;content&quot;===n&amp;&amp;(u-=S.css(e,&quot;padding&quot;+ne[a],!0,i)),&quot;margin&quot;!==n&amp;&amp;(u-=S.css(e,&quot;border&quot;+ne[a]+&quot;Width&quot;,!0,i))):(u+=S.css(e,&quot;padding&quot;+ne[a],!0,i),&quot;padding&quot;!==n?u+=S.css(e,&quot;border&quot;+ne[a]+&quot;Width&quot;,!0,i):s+=S.css(e,&quot;border&quot;+ne[a]+&quot;Width&quot;,!0,i));return!r&amp;&amp;0&lt;=o&amp;&amp;(u+=Math.max(0,Math.ceil(e[&quot;offset&quot;+t[0].toUpperCase()+t.slice(1)]-o-u-s-.5))||0),u}function Je(e,t,n){var r=Re(e),i=(!y.boxSizingReliable()||n)&amp;&amp;&quot;border-box&quot;===S.css(e,&quot;boxSizing&quot;,!1,r),o=i,a=We(e,t,r),s=&quot;offset&quot;+t[0].toUpperCase()+t.slice(1);if(Pe.test(a)){if(!n)return a;a=&quot;auto&quot;}return(!y.boxSizingReliable()&amp;&amp;i||!y.reliableTrDimensions()&amp;&amp;A(e,&quot;tr&quot;)||&quot;auto&quot;===a||!parseFloat(a)&amp;&amp;&quot;inline&quot;===S.css(e,&quot;display&quot;,!1,r))&amp;&amp;e.getClientRects().length&amp;&amp;(i=&quot;border-box&quot;===S.css(e,&quot;boxSizing&quot;,!1,r),(o=s in e)&amp;&amp;(a=e[s])),(a=parseFloat(a)||0)+Qe(e,t,n||(i?&quot;border&quot;:&quot;content&quot;),o,r,a)+&quot;px&quot;}function Ke(e,t,n,r,i){return new Ke.prototype.init(e,t,n,r,i)}S.extend({cssHooks:{opacity:{get:function(e,t){if(t){var n=We(e,&quot;opacity&quot;);return&quot;&quot;===n?&quot;1&quot;:n}}}},cssNumber:{animationIterationCount:!0,columnCount:!0,fillOpacity:!0,flexGrow:!0,flexShrink:!0,fontWeight:!0,gridArea:!0,gridColumn:!0,gridColumnEnd:!0,gridColumnStart:!0,gridRow:!0,gridRowEnd:!0,gridRowStart:!0,lineHeight:!0,opacity:!0,order:!0,orphans:!0,widows:!0,zIndex:!0,zoom:!0},cssProps:{},style:function(e,t,n,r){if(e&amp;&amp;3!==e.nodeType&amp;&amp;8!==e.nodeType&amp;&amp;e.style){var i,o,a,s=X(t),u=Xe.test(t),l=e.style;if(u||(t=ze(s)),a=S.cssHooks[t]||S.cssHooks[s],void 0===n)return a&amp;&amp;&quot;get&quot;in a&amp;&amp;void 0!==(i=a.get(e,!1,r))?i:l[t];&quot;string&quot;===(o=typeof n)&amp;&amp;(i=te.exec(n))&amp;&amp;i[1]&amp;&amp;(n=se(e,t,i),o=&quot;number&quot;),null!=n&amp;&amp;n==n&amp;&amp;(&quot;number&quot;!==o||u||(n+=i&amp;&amp;i[3]||(S.cssNumber[s]?&quot;&quot;:&quot;px&quot;)),y.clearCloneStyle||&quot;&quot;!==n||0!==t.indexOf(&quot;background&quot;)||(l[t]=&quot;inherit&quot;),a&amp;&amp;&quot;set&quot;in a&amp;&amp;void 0===(n=a.set(e,n,r))||(u?l.setProperty(t,n):l[t]=n))}},css:function(e,t,n,r){var i,o,a,s=X(t);return Xe.test(t)||(t=ze(s)),(a=S.cssHooks[t]||S.cssHooks[s])&amp;&amp;&quot;get&quot;in a&amp;&amp;(i=a.get(e,!0,n)),void 0===i&amp;&amp;(i=We(e,t,r)),&quot;normal&quot;===i&amp;&amp;t in Ge&amp;&amp;(i=Ge[t]),&quot;&quot;===n||n?(o=parseFloat(i),!0===n||isFinite(o)?o||0:i):i}}),S.each([&quot;height&quot;,&quot;width&quot;],function(e,u){S.cssHooks[u]={get:function(e,t,n){if(t)return!Ue.test(S.css(e,&quot;display&quot;))||e.getClientRects().length&amp;&amp;e.getBoundingClientRect().width?Je(e,u,n):Me(e,Ve,function(){return Je(e,u,n)})},set:function(e,t,n){var r,i=Re(e),o=!y.scrollboxSize()&amp;&amp;&quot;absolute&quot;===i.position,a=(o||n)&amp;&amp;&quot;border-box&quot;===S.css(e,&quot;boxSizing&quot;,!1,i),s=n?Qe(e,u,n,a,i):0;return a&amp;&amp;o&amp;&amp;(s-=Math.ceil(e[&quot;offset&quot;+u[0].toUpperCase()+u.slice(1)]-parseFloat(i[u])-Qe(e,u,&quot;border&quot;,!1,i)-.5)),s&amp;&amp;(r=te.exec(t))&amp;&amp;&quot;px&quot;!==(r[3]||&quot;px&quot;)&amp;&amp;(e.style[u]=t,t=S.css(e,u)),Ye(0,t,s)}}}),S.cssHooks.marginLeft=Fe(y.reliableMarginLeft,function(e,t){if(t)return(parseFloat(We(e,&quot;marginLeft&quot;))||e.getBoundingClientRect().left-Me(e,{marginLeft:0},function(){return e.getBoundingClientRect().left}))+&quot;px&quot;}),S.each({margin:&quot;&quot;,padding:&quot;&quot;,border:&quot;Width&quot;},function(i,o){S.cssHooks[i+o]={expand:function(e){for(var t=0,n={},r=&quot;string&quot;==typeof e?e.split(&quot; &quot;):[e];t&lt;4;t++)n[i+ne[t]+o]=r[t]||r[t-2]||r[0];return n}},&quot;margin&quot;!==i&amp;&amp;(S.cssHooks[i+o].set=Ye)}),S.fn.extend({css:function(e,t){return $(this,function(e,t,n){var r,i,o={},a=0;if(Array.isArray(t)){for(r=Re(e),i=t.length;a&lt;i;a++)o[t[a]]=S.css(e,t[a],!1,r);return o}return void 0!==n?S.style(e,t,n):S.css(e,t)},e,t,1&lt;arguments.length)}}),((S.Tween=Ke).prototype={constructor:Ke,init:function(e,t,n,r,i,o){this.elem=e,this.prop=n,this.easing=i||S.easing._default,this.options=t,this.start=this.now=this.cur(),this.end=r,this.unit=o||(S.cssNumber[n]?&quot;&quot;:&quot;px&quot;)},cur:function(){var e=Ke.propHooks[this.prop];return e&amp;&amp;e.get?e.get(this):Ke.propHooks._default.get(this)},run:function(e){var t,n=Ke.propHooks[this.prop];return this.options.duration?this.pos=t=S.easing[this.easing](e,this.options.duration*e,0,1,this.options.duration):this.pos=t=e,this.now=(this.end-this.start)*t+this.start,this.options.step&amp;&amp;this.options.step.call(this.elem,this.now,this),n&amp;&amp;n.set?n.set(this):Ke.propHooks._default.set(this),this}}).init.prototype=Ke.prototype,(Ke.propHooks={_default:{get:function(e){var t;return 1!==e.elem.nodeType||null!=e.elem[e.prop]&amp;&amp;null==e.elem.style[e.prop]?e.elem[e.prop]:(t=S.css(e.elem,e.prop,&quot;&quot;))&amp;&amp;&quot;auto&quot;!==t?t:0},set:function(e){S.fx.step[e.prop]?S.fx.step[e.prop](e):1!==e.elem.nodeType||!S.cssHooks[e.prop]&amp;&amp;null==e.elem.style[ze(e.prop)]?e.elem[e.prop]=e.now:S.style(e.elem,e.prop,e.now+e.unit)}}}).scrollTop=Ke.propHooks.scrollLeft={set:function(e){e.elem.nodeType&amp;&amp;e.elem.parentNode&amp;&amp;(e.elem[e.prop]=e.now)}},S.easing={linear:function(e){return e},swing:function(e){return.5-Math.cos(e*Math.PI)/2},_default:&quot;swing&quot;},S.fx=Ke.prototype.init,S.fx.step={};var Ze,et,tt,nt,rt=/^(?:toggle|show|hide)$/,it=/queueHooks$/;function ot(){et&amp;&amp;(!1===E.hidden&amp;&amp;C.requestAnimationFrame?C.requestAnimationFrame(ot):C.setTimeout(ot,S.fx.interval),S.fx.tick())}function at(){return C.setTimeout(function(){Ze=void 0}),Ze=Date.now()}function st(e,t){var n,r=0,i={height:e};for(t=t?1:0;r&lt;4;r+=2-t)i[&quot;margin&quot;+(n=ne[r])]=i[&quot;padding&quot;+n]=e;return t&amp;&amp;(i.opacity=i.width=e),i}function ut(e,t,n){for(var r,i=(lt.tweeners[t]||[]).concat(lt.tweeners[&quot;*&quot;]),o=0,a=i.length;o&lt;a;o++)if(r=i[o].call(n,t,e))return r}function lt(o,e,t){var n,a,r=0,i=lt.prefilters.length,s=S.Deferred().always(function(){delete u.elem}),u=function(){if(a)return!1;for(var e=Ze||at(),t=Math.max(0,l.startTime+l.duration-e),n=1-(t/l.duration||0),r=0,i=l.tweens.length;r&lt;i;r++)l.tweens[r].run(n);return s.notifyWith(o,[l,n,t]),n&lt;1&amp;&amp;i?t:(i||s.notifyWith(o,[l,1,0]),s.resolveWith(o,[l]),!1)},l=s.promise({elem:o,props:S.extend({},e),opts:S.extend(!0,{specialEasing:{},easing:S.easing._default},t),originalProperties:e,originalOptions:t,startTime:Ze||at(),duration:t.duration,tweens:[],createTween:function(e,t){var n=S.Tween(o,l.opts,e,t,l.opts.specialEasing[e]||l.opts.easing);return l.tweens.push(n),n},stop:function(e){var t=0,n=e?l.tweens.length:0;if(a)return this;for(a=!0;t&lt;n;t++)l.tweens[t].run(1);return e?(s.notifyWith(o,[l,1,0]),s.resolveWith(o,[l,e])):s.rejectWith(o,[l,e]),this}}),c=l.props;for(!function(e,t){var n,r,i,o,a;for(n in e)if(i=t[r=X(n)],o=e[n],Array.isArray(o)&amp;&amp;(i=o[1],o=e[n]=o[0]),n!==r&amp;&amp;(e[r]=o,delete e[n]),(a=S.cssHooks[r])&amp;&amp;&quot;expand&quot;in a)for(n in o=a.expand(o),delete e[r],o)n in e||(e[n]=o[n],t[n]=i);else t[r]=i}(c,l.opts.specialEasing);r&lt;i;r++)if(n=lt.prefilters[r].call(l,o,c,l.opts))return m(n.stop)&amp;&amp;(S._queueHooks(l.elem,l.opts.queue).stop=n.stop.bind(n)),n;return S.map(c,ut,l),m(l.opts.start)&amp;&amp;l.opts.start.call(o,l),l.progress(l.opts.progress).done(l.opts.done,l.opts.complete).fail(l.opts.fail).always(l.opts.always),S.fx.timer(S.extend(u,{elem:o,anim:l,queue:l.opts.queue})),l}S.Animation=S.extend(lt,{tweeners:{&quot;*&quot;:[function(e,t){var n=this.createTween(e,t);return se(n.elem,e,te.exec(t),n),n}]},tweener:function(e,t){m(e)?(t=e,e=[&quot;*&quot;]):e=e.match(P);for(var n,r=0,i=e.length;r&lt;i;r++)n=e[r],lt.tweeners[n]=lt.tweeners[n]||[],lt.tweeners[n].unshift(t)},prefilters:[function(e,t,n){var r,i,o,a,s,u,l,c,f=&quot;width&quot;in t||&quot;height&quot;in t,p=this,d={},h=e.style,g=e.nodeType&amp;&amp;ae(e),v=Y.get(e,&quot;fxshow&quot;);for(r in n.queue||(null==(a=S._queueHooks(e,&quot;fx&quot;)).unqueued&amp;&amp;(a.unqueued=0,s=a.empty.fire,a.empty.fire=function(){a.unqueued||s()}),a.unqueued++,p.always(function(){p.always(function(){a.unqueued--,S.queue(e,&quot;fx&quot;).length||a.empty.fire()})})),t)if(i=t[r],rt.test(i)){if(delete t[r],o=o||&quot;toggle&quot;===i,i===(g?&quot;hide&quot;:&quot;show&quot;)){if(&quot;show&quot;!==i||!v||void 0===v[r])continue;g=!0}d[r]=v&amp;&amp;v[r]||S.style(e,r)}if((u=!S.isEmptyObject(t))||!S.isEmptyObject(d))for(r in f&amp;&amp;1===e.nodeType&amp;&amp;(n.overflow=[h.overflow,h.overflowX,h.overflowY],null==(l=v&amp;&amp;v.display)&amp;&amp;(l=Y.get(e,&quot;display&quot;)),&quot;none&quot;===(c=S.css(e,&quot;display&quot;))&amp;&amp;(l?c=l:(le([e],!0),l=e.style.display||l,c=S.css(e,&quot;display&quot;),le([e]))),(&quot;inline&quot;===c||&quot;inline-block&quot;===c&amp;&amp;null!=l)&amp;&amp;&quot;none&quot;===S.css(e,&quot;float&quot;)&amp;&amp;(u||(p.done(function(){h.display=l}),null==l&amp;&amp;(c=h.display,l=&quot;none&quot;===c?&quot;&quot;:c)),h.display=&quot;inline-block&quot;)),n.overflow&amp;&amp;(h.overflow=&quot;hidden&quot;,p.always(function(){h.overflow=n.overflow[0],h.overflowX=n.overflow[1],h.overflowY=n.overflow[2]})),u=!1,d)u||(v?&quot;hidden&quot;in v&amp;&amp;(g=v.hidden):v=Y.access(e,&quot;fxshow&quot;,{display:l}),o&amp;&amp;(v.hidden=!g),g&amp;&amp;le([e],!0),p.done(function(){for(r in g||le([e]),Y.remove(e,&quot;fxshow&quot;),d)S.style(e,r,d[r])})),u=ut(g?v[r]:0,r,p),r in v||(v[r]=u.start,g&amp;&amp;(u.end=u.start,u.start=0))}],prefilter:function(e,t){t?lt.prefilters.unshift(e):lt.prefilters.push(e)}}),S.speed=function(e,t,n){var r=e&amp;&amp;&quot;object&quot;==typeof e?S.extend({},e):{complete:n||!n&amp;&amp;t||m(e)&amp;&amp;e,duration:e,easing:n&amp;&amp;t||t&amp;&amp;!m(t)&amp;&amp;t};return S.fx.off?r.duration=0:&quot;number&quot;!=typeof r.duration&amp;&amp;(r.duration in S.fx.speeds?r.duration=S.fx.speeds[r.duration]:r.duration=S.fx.speeds._default),null!=r.queue&amp;&amp;!0!==r.queue||(r.queue=&quot;fx&quot;),r.old=r.complete,r.complete=function(){m(r.old)&amp;&amp;r.old.call(this),r.queue&amp;&amp;S.dequeue(this,r.queue)},r},S.fn.extend({fadeTo:function(e,t,n,r){return this.filter(ae).css(&quot;opacity&quot;,0).show().end().animate({opacity:t},e,n,r)},animate:function(t,e,n,r){var i=S.isEmptyObject(t),o=S.speed(e,n,r),a=function(){var e=lt(this,S.extend({},t),o);(i||Y.get(this,&quot;finish&quot;))&amp;&amp;e.stop(!0)};return a.finish=a,i||!1===o.queue?this.each(a):this.queue(o.queue,a)},stop:function(i,e,o){var a=function(e){var t=e.stop;delete e.stop,t(o)};return&quot;string&quot;!=typeof i&amp;&amp;(o=e,e=i,i=void 0),e&amp;&amp;this.queue(i||&quot;fx&quot;,[]),this.each(function(){var e=!0,t=null!=i&amp;&amp;i+&quot;queueHooks&quot;,n=S.timers,r=Y.get(this);if(t)r[t]&amp;&amp;r[t].stop&amp;&amp;a(r[t]);else for(t in r)r[t]&amp;&amp;r[t].stop&amp;&amp;it.test(t)&amp;&amp;a(r[t]);for(t=n.length;t--;)n[t].elem!==this||null!=i&amp;&amp;n[t].queue!==i||(n[t].anim.stop(o),e=!1,n.splice(t,1));!e&amp;&amp;o||S.dequeue(this,i)})},finish:function(a){return!1!==a&amp;&amp;(a=a||&quot;fx&quot;),this.each(function(){var e,t=Y.get(this),n=t[a+&quot;queue&quot;],r=t[a+&quot;queueHooks&quot;],i=S.timers,o=n?n.length:0;for(t.finish=!0,S.queue(this,a,[]),r&amp;&amp;r.stop&amp;&amp;r.stop.call(this,!0),e=i.length;e--;)i[e].elem===this&amp;&amp;i[e].queue===a&amp;&amp;(i[e].anim.stop(!0),i.splice(e,1));for(e=0;e&lt;o;e++)n[e]&amp;&amp;n[e].finish&amp;&amp;n[e].finish.call(this);delete t.finish})}}),S.each([&quot;toggle&quot;,&quot;show&quot;,&quot;hide&quot;],function(e,r){var i=S.fn[r];S.fn[r]=function(e,t,n){return null==e||&quot;boolean&quot;==typeof e?i.apply(this,arguments):this.animate(st(r,!0),e,t,n)}}),S.each({slideDown:st(&quot;show&quot;),slideUp:st(&quot;hide&quot;),slideToggle:st(&quot;toggle&quot;),fadeIn:{opacity:&quot;show&quot;},fadeOut:{opacity:&quot;hide&quot;},fadeToggle:{opacity:&quot;toggle&quot;}},function(e,r){S.fn[e]=function(e,t,n){return this.animate(r,e,t,n)}}),S.timers=[],S.fx.tick=function(){var e,t=0,n=S.timers;for(Ze=Date.now();t&lt;n.length;t++)(e=n[t])()||n[t]!==e||n.splice(t--,1);n.length||S.fx.stop(),Ze=void 0},S.fx.timer=function(e){S.timers.push(e),S.fx.start()},S.fx.interval=13,S.fx.start=function(){et||(et=!0,ot())},S.fx.stop=function(){et=null},S.fx.speeds={slow:600,fast:200,_default:400},S.fn.delay=function(r,e){return r=S.fx&amp;&amp;S.fx.speeds[r]||r,e=e||&quot;fx&quot;,this.queue(e,function(e,t){var n=C.setTimeout(e,r);t.stop=function(){C.clearTimeout(n)}})},tt=E.createElement(&quot;input&quot;),nt=E.createElement(&quot;select&quot;).appendChild(E.createElement(&quot;option&quot;)),tt.type=&quot;checkbox&quot;,y.checkOn=&quot;&quot;!==tt.value,y.optSelected=nt.selected,(tt=E.createElement(&quot;input&quot;)).value=&quot;t&quot;,tt.type=&quot;radio&quot;,y.radioValue=&quot;t&quot;===tt.value;var ct,ft=S.expr.attrHandle;S.fn.extend({attr:function(e,t){return $(this,S.attr,e,t,1&lt;arguments.length)},removeAttr:function(e){return this.each(function(){S.removeAttr(this,e)})}}),S.extend({attr:function(e,t,n){var r,i,o=e.nodeType;if(3!==o&amp;&amp;8!==o&amp;&amp;2!==o)return&quot;undefined&quot;==typeof e.getAttribute?S.prop(e,t,n):(1===o&amp;&amp;S.isXMLDoc(e)||(i=S.attrHooks[t.toLowerCase()]||(S.expr.match.bool.test(t)?ct:void 0)),void 0!==n?null===n?void S.removeAttr(e,t):i&amp;&amp;&quot;set&quot;in i&amp;&amp;void 0!==(r=i.set(e,n,t))?r:(e.setAttribute(t,n+&quot;&quot;),n):i&amp;&amp;&quot;get&quot;in i&amp;&amp;null!==(r=i.get(e,t))?r:null==(r=S.find.attr(e,t))?void 0:r)},attrHooks:{type:{set:function(e,t){if(!y.radioValue&amp;&amp;&quot;radio&quot;===t&amp;&amp;A(e,&quot;input&quot;)){var n=e.value;return e.setAttribute(&quot;type&quot;,t),n&amp;&amp;(e.value=n),t}}}},removeAttr:function(e,t){var n,r=0,i=t&amp;&amp;t.match(P);if(i&amp;&amp;1===e.nodeType)while(n=i[r++])e.removeAttribute(n)}}),ct={set:function(e,t,n){return!1===t?S.removeAttr(e,n):e.setAttribute(n,n),n}},S.each(S.expr.match.bool.source.match(/\\w+/g),function(e,t){var a=ft[t]||S.find.attr;ft[t]=function(e,t,n){var r,i,o=t.toLowerCase();return n||(i=ft[o],ft[o]=r,r=null!=a(e,t,n)?o:null,ft[o]=i),r}});var pt=/^(?:input|select|textarea|button)$/i,dt=/^(?:a|area)$/i;function ht(e){return(e.match(P)||[]).join(&quot; &quot;)}function gt(e){return e.getAttribute&amp;&amp;e.getAttribute(&quot;class&quot;)||&quot;&quot;}function vt(e){return Array.isArray(e)?e:&quot;string&quot;==typeof e&amp;&amp;e.match(P)||[]}S.fn.extend({prop:function(e,t){return $(this,S.prop,e,t,1&lt;arguments.length)},removeProp:function(e){return this.each(function(){delete this[S.propFix[e]||e]})}}),S.extend({prop:function(e,t,n){var r,i,o=e.nodeType;if(3!==o&amp;&amp;8!==o&amp;&amp;2!==o)return 1===o&amp;&amp;S.isXMLDoc(e)||(t=S.propFix[t]||t,i=S.propHooks[t]),void 0!==n?i&amp;&amp;&quot;set&quot;in i&amp;&amp;void 0!==(r=i.set(e,n,t))?r:e[t]=n:i&amp;&amp;&quot;get&quot;in i&amp;&amp;null!==(r=i.get(e,t))?r:e[t]},propHooks:{tabIndex:{get:function(e){var t=S.find.attr(e,&quot;tabindex&quot;);return t?parseInt(t,10):pt.test(e.nodeName)||dt.test(e.nodeName)&amp;&amp;e.href?0:-1}}},propFix:{&quot;for&quot;:&quot;htmlFor&quot;,&quot;class&quot;:&quot;className&quot;}}),y.optSelected||(S.propHooks.selected={get:function(e){var t=e.parentNode;return t&amp;&amp;t.parentNode&amp;&amp;t.parentNode.selectedIndex,null},set:function(e){var t=e.parentNode;t&amp;&amp;(t.selectedIndex,t.parentNode&amp;&amp;t.parentNode.selectedIndex)}}),S.each([&quot;tabIndex&quot;,&quot;readOnly&quot;,&quot;maxLength&quot;,&quot;cellSpacing&quot;,&quot;cellPadding&quot;,&quot;rowSpan&quot;,&quot;colSpan&quot;,&quot;useMap&quot;,&quot;frameBorder&quot;,&quot;contentEditable&quot;],function(){S.propFix[this.toLowerCase()]=this}),S.fn.extend({addClass:function(t){var e,n,r,i,o,a,s,u=0;if(m(t))return this.each(function(e){S(this).addClass(t.call(this,e,gt(this)))});if((e=vt(t)).length)while(n=this[u++])if(i=gt(n),r=1===n.nodeType&amp;&amp;&quot; &quot;+ht(i)+&quot; &quot;){a=0;while(o=e[a++])r.indexOf(&quot; &quot;+o+&quot; &quot;)&lt;0&amp;&amp;(r+=o+&quot; &quot;);i!==(s=ht(r))&amp;&amp;n.setAttribute(&quot;class&quot;,s)}return this},removeClass:function(t){var e,n,r,i,o,a,s,u=0;if(m(t))return this.each(function(e){S(this).removeClass(t.call(this,e,gt(this)))});if(!arguments.length)return this.attr(&quot;class&quot;,&quot;&quot;);if((e=vt(t)).length)while(n=this[u++])if(i=gt(n),r=1===n.nodeType&amp;&amp;&quot; &quot;+ht(i)+&quot; &quot;){a=0;while(o=e[a++])while(-1&lt;r.indexOf(&quot; &quot;+o+&quot; &quot;))r=r.replace(&quot; &quot;+o+&quot; &quot;,&quot; &quot;);i!==(s=ht(r))&amp;&amp;n.setAttribute(&quot;class&quot;,s)}return this},toggleClass:function(i,t){var o=typeof i,a=&quot;string&quot;===o||Array.isArray(i);return&quot;boolean&quot;==typeof t&amp;&amp;a?t?this.addClass(i):this.removeClass(i):m(i)?this.each(function(e){S(this).toggleClass(i.call(this,e,gt(this),t),t)}):this.each(function(){var e,t,n,r;if(a){t=0,n=S(this),r=vt(i);while(e=r[t++])n.hasClass(e)?n.removeClass(e):n.addClass(e)}else void 0!==i&amp;&amp;&quot;boolean&quot;!==o||((e=gt(this))&amp;&amp;Y.set(this,&quot;__className__&quot;,e),this.setAttribute&amp;&amp;this.setAttribute(&quot;class&quot;,e||!1===i?&quot;&quot;:Y.get(this,&quot;__className__&quot;)||&quot;&quot;))})},hasClass:function(e){var t,n,r=0;t=&quot; &quot;+e+&quot; &quot;;while(n=this[r++])if(1===n.nodeType&amp;&amp;-1&lt;(&quot; &quot;+ht(gt(n))+&quot; &quot;).indexOf(t))return!0;return!1}});var yt=/\\r/g;S.fn.extend({val:function(n){var r,e,i,t=this[0];return arguments.length?(i=m(n),this.each(function(e){var t;1===this.nodeType&amp;&amp;(null==(t=i?n.call(this,e,S(this).val()):n)?t=&quot;&quot;:&quot;number&quot;==typeof t?t+=&quot;&quot;:Array.isArray(t)&amp;&amp;(t=S.map(t,function(e){return null==e?&quot;&quot;:e+&quot;&quot;})),(r=S.valHooks[this.type]||S.valHooks[this.nodeName.toLowerCase()])&amp;&amp;&quot;set&quot;in r&amp;&amp;void 0!==r.set(this,t,&quot;value&quot;)||(this.value=t))})):t?(r=S.valHooks[t.type]||S.valHooks[t.nodeName.toLowerCase()])&amp;&amp;&quot;get&quot;in r&amp;&amp;void 0!==(e=r.get(t,&quot;value&quot;))?e:&quot;string&quot;==typeof(e=t.value)?e.replace(yt,&quot;&quot;):null==e?&quot;&quot;:e:void 0}}),S.extend({valHooks:{option:{get:function(e){var t=S.find.attr(e,&quot;value&quot;);return null!=t?t:ht(S.text(e))}},select:{get:function(e){var t,n,r,i=e.options,o=e.selectedIndex,a=&quot;select-one&quot;===e.type,s=a?null:[],u=a?o+1:i.length;for(r=o&lt;0?u:a?o:0;r&lt;u;r++)if(((n=i[r]).selected||r===o)&amp;&amp;!n.disabled&amp;&amp;(!n.parentNode.disabled||!A(n.parentNode,&quot;optgroup&quot;))){if(t=S(n).val(),a)return t;s.push(t)}return s},set:function(e,t){var n,r,i=e.options,o=S.makeArray(t),a=i.length;while(a--)((r=i[a]).selected=-1&lt;S.inArray(S.valHooks.option.get(r),o))&amp;&amp;(n=!0);return n||(e.selectedIndex=-1),o}}}}),S.each([&quot;radio&quot;,&quot;checkbox&quot;],function(){S.valHooks[this]={set:function(e,t){if(Array.isArray(t))return e.checked=-1&lt;S.inArray(S(e).val(),t)}},y.checkOn||(S.valHooks[this].get=function(e){return null===e.getAttribute(&quot;value&quot;)?&quot;on&quot;:e.value})}),y.focusin=&quot;onfocusin&quot;in C;var mt=/^(?:focusinfocus|focusoutblur)$/,xt=function(e){e.stopPropagation()};S.extend(S.event,{trigger:function(e,t,n,r){var i,o,a,s,u,l,c,f,p=[n||E],d=v.call(e,&quot;type&quot;)?e.type:e,h=v.call(e,&quot;namespace&quot;)?e.namespace.split(&quot;.&quot;):[];if(o=f=a=n=n||E,3!==n.nodeType&amp;&amp;8!==n.nodeType&amp;&amp;!mt.test(d+S.event.triggered)&amp;&amp;(-1&lt;d.indexOf(&quot;.&quot;)&amp;&amp;(d=(h=d.split(&quot;.&quot;)).shift(),h.sort()),u=d.indexOf(&quot;:&quot;)&lt;0&amp;&amp;&quot;on&quot;+d,(e=e[S.expando]?e:new S.Event(d,&quot;object&quot;==typeof e&amp;&amp;e)).isTrigger=r?2:3,e.namespace=h.join(&quot;.&quot;),e.rnamespace=e.namespace?new RegExp(&quot;(^|\\\\.)&quot;+h.join(&quot;\\\\.(?:.*\\\\.|)&quot;)+&quot;(\\\\.|$)&quot;):null,e.result=void 0,e.target||(e.target=n),t=null==t?[e]:S.makeArray(t,[e]),c=S.event.special[d]||{},r||!c.trigger||!1!==c.trigger.apply(n,t))){if(!r&amp;&amp;!c.noBubble&amp;&amp;!x(n)){for(s=c.delegateType||d,mt.test(s+d)||(o=o.parentNode);o;o=o.parentNode)p.push(o),a=o;a===(n.ownerDocument||E)&amp;&amp;p.push(a.defaultView||a.parentWindow||C)}i=0;while((o=p[i++])&amp;&amp;!e.isPropagationStopped())f=o,e.type=1&lt;i?s:c.bindType||d,(l=(Y.get(o,&quot;events&quot;)||Object.create(null))[e.type]&amp;&amp;Y.get(o,&quot;handle&quot;))&amp;&amp;l.apply(o,t),(l=u&amp;&amp;o[u])&amp;&amp;l.apply&amp;&amp;V(o)&amp;&amp;(e.result=l.apply(o,t),!1===e.result&amp;&amp;e.preventDefault());return e.type=d,r||e.isDefaultPrevented()||c._default&amp;&amp;!1!==c._default.apply(p.pop(),t)||!V(n)||u&amp;&amp;m(n[d])&amp;&amp;!x(n)&amp;&amp;((a=n[u])&amp;&amp;(n[u]=null),S.event.triggered=d,e.isPropagationStopped()&amp;&amp;f.addEventListener(d,xt),n[d](),e.isPropagationStopped()&amp;&amp;f.removeEventListener(d,xt),S.event.triggered=void 0,a&amp;&amp;(n[u]=a)),e.result}},simulate:function(e,t,n){var r=S.extend(new S.Event,n,{type:e,isSimulated:!0});S.event.trigger(r,null,t)}}),S.fn.extend({trigger:function(e,t){return this.each(function(){S.event.trigger(e,t,this)})},triggerHandler:function(e,t){var n=this[0];if(n)return S.event.trigger(e,t,n,!0)}}),y.focusin||S.each({focus:&quot;focusin&quot;,blur:&quot;focusout&quot;},function(n,r){var i=function(e){S.event.simulate(r,e.target,S.event.fix(e))};S.event.special[r]={setup:function(){var e=this.ownerDocument||this.document||this,t=Y.access(e,r);t||e.addEventListener(n,i,!0),Y.access(e,r,(t||0)+1)},teardown:function(){var e=this.ownerDocument||this.document||this,t=Y.access(e,r)-1;t?Y.access(e,r,t):(e.removeEventListener(n,i,!0),Y.remove(e,r))}}});var bt=C.location,wt={guid:Date.now()},Tt=/\\?/;S.parseXML=function(e){var t,n;if(!e||&quot;string&quot;!=typeof e)return null;try{t=(new C.DOMParser).parseFromString(e,&quot;text/xml&quot;)}catch(e){}return n=t&amp;&amp;t.getElementsByTagName(&quot;parsererror&quot;)[0],t&amp;&amp;!n||S.error(&quot;Invalid XML: &quot;+(n?S.map(n.childNodes,function(e){return e.textContent}).join(&quot;\\n&quot;):e)),t};var Ct=/\\[\\]$/,Et=/\\r?\\n/g,St=/^(?:submit|button|image|reset|file)$/i,kt=/^(?:input|select|textarea|keygen)/i;function At(n,e,r,i){var t;if(Array.isArray(e))S.each(e,function(e,t){r||Ct.test(n)?i(n,t):At(n+&quot;[&quot;+(&quot;object&quot;==typeof t&amp;&amp;null!=t?e:&quot;&quot;)+&quot;]&quot;,t,r,i)});else if(r||&quot;object&quot;!==w(e))i(n,e);else for(t in e)At(n+&quot;[&quot;+t+&quot;]&quot;,e[t],r,i)}S.param=function(e,t){var n,r=[],i=function(e,t){var n=m(t)?t():t;r[r.length]=encodeURIComponent(e)+&quot;=&quot;+encodeURIComponent(null==n?&quot;&quot;:n)};if(null==e)return&quot;&quot;;if(Array.isArray(e)||e.jquery&amp;&amp;!S.isPlainObject(e))S.each(e,function(){i(this.name,this.value)});else for(n in e)At(n,e[n],t,i);return r.join(&quot;&amp;&quot;)},S.fn.extend({serialize:function(){return S.param(this.serializeArray())},serializeArray:function(){return this.map(function(){var e=S.prop(this,&quot;elements&quot;);return e?S.makeArray(e):this}).filter(function(){var e=this.type;return this.name&amp;&amp;!S(this).is(&quot;:disabled&quot;)&amp;&amp;kt.test(this.nodeName)&amp;&amp;!St.test(e)&amp;&amp;(this.checked||!pe.test(e))}).map(function(e,t){var n=S(this).val();return null==n?null:Array.isArray(n)?S.map(n,function(e){return{name:t.name,value:e.replace(Et,&quot;\\r\\n&quot;)}}):{name:t.name,value:n.replace(Et,&quot;\\r\\n&quot;)}}).get()}});var Nt=/%20/g,jt=/#.*$/,Dt=/([?&amp;])_=[^&amp;]*/,qt=/^(.*?):[ \\t]*([^\\r\\n]*)$/gm,Lt=/^(?:GET|HEAD)$/,Ht=/^\\/\\//,Ot={},Pt={},Rt=&quot;*/&quot;.concat(&quot;*&quot;),Mt=E.createElement(&quot;a&quot;);function It(o){return function(e,t){&quot;string&quot;!=typeof e&amp;&amp;(t=e,e=&quot;*&quot;);var n,r=0,i=e.toLowerCase().match(P)||[];if(m(t))while(n=i[r++])&quot;+&quot;===n[0]?(n=n.slice(1)||&quot;*&quot;,(o[n]=o[n]||[]).unshift(t)):(o[n]=o[n]||[]).push(t)}}function Wt(t,i,o,a){var s={},u=t===Pt;function l(e){var r;return s[e]=!0,S.each(t[e]||[],function(e,t){var n=t(i,o,a);return&quot;string&quot;!=typeof n||u||s[n]?u?!(r=n):void 0:(i.dataTypes.unshift(n),l(n),!1)}),r}return l(i.dataTypes[0])||!s[&quot;*&quot;]&amp;&amp;l(&quot;*&quot;)}function Ft(e,t){var n,r,i=S.ajaxSettings.flatOptions||{};for(n in t)void 0!==t[n]&amp;&amp;((i[n]?e:r||(r={}))[n]=t[n]);return r&amp;&amp;S.extend(!0,e,r),e}Mt.href=bt.href,S.extend({active:0,lastModified:{},etag:{},ajaxSettings:{url:bt.href,type:&quot;GET&quot;,isLocal:/^(?:about|app|app-storage|.+-extension|file|res|widget):$/.test(bt.protocol),global:!0,processData:!0,async:!0,contentType:&quot;application/x-www-form-urlencoded; charset=UTF-8&quot;,accepts:{&quot;*&quot;:Rt,text:&quot;text/plain&quot;,html:&quot;text/html&quot;,xml:&quot;application/xml, text/xml&quot;,json:&quot;application/json, text/javascript&quot;},contents:{xml:/\\bxml\\b/,html:/\\bhtml/,json:/\\bjson\\b/},responseFields:{xml:&quot;responseXML&quot;,text:&quot;responseText&quot;,json:&quot;responseJSON&quot;},converters:{&quot;* text&quot;:String,&quot;text html&quot;:!0,&quot;text json&quot;:JSON.parse,&quot;text xml&quot;:S.parseXML},flatOptions:{url:!0,context:!0}},ajaxSetup:function(e,t){return t?Ft(Ft(e,S.ajaxSettings),t):Ft(S.ajaxSettings,e)},ajaxPrefilter:It(Ot),ajaxTransport:It(Pt),ajax:function(e,t){&quot;object&quot;==typeof e&amp;&amp;(t=e,e=void 0),t=t||{};var c,f,p,n,d,r,h,g,i,o,v=S.ajaxSetup({},t),y=v.context||v,m=v.context&amp;&amp;(y.nodeType||y.jquery)?S(y):S.event,x=S.Deferred(),b=S.Callbacks(&quot;once memory&quot;),w=v.statusCode||{},a={},s={},u=&quot;canceled&quot;,T={readyState:0,getResponseHeader:function(e){var t;if(h){if(!n){n={};while(t=qt.exec(p))n[t[1].toLowerCase()+&quot; &quot;]=(n[t[1].toLowerCase()+&quot; &quot;]||[]).concat(t[2])}t=n[e.toLowerCase()+&quot; &quot;]}return null==t?null:t.join(&quot;, &quot;)},getAllResponseHeaders:function(){return h?p:null},setRequestHeader:function(e,t){return null==h&amp;&amp;(e=s[e.toLowerCase()]=s[e.toLowerCase()]||e,a[e]=t),this},overrideMimeType:function(e){return null==h&amp;&amp;(v.mimeType=e),this},statusCode:function(e){var t;if(e)if(h)T.always(e[T.status]);else for(t in e)w[t]=[w[t],e[t]];return this},abort:function(e){var t=e||u;return c&amp;&amp;c.abort(t),l(0,t),this}};if(x.promise(T),v.url=((e||v.url||bt.href)+&quot;&quot;).replace(Ht,bt.protocol+&quot;//&quot;),v.type=t.method||t.type||v.method||v.type,v.dataTypes=(v.dataType||&quot;*&quot;).toLowerCase().match(P)||[&quot;&quot;],null==v.crossDomain){r=E.createElement(&quot;a&quot;);try{r.href=v.url,r.href=r.href,v.crossDomain=Mt.protocol+&quot;//&quot;+Mt.host!=r.protocol+&quot;//&quot;+r.host}catch(e){v.crossDomain=!0}}if(v.data&amp;&amp;v.processData&amp;&amp;&quot;string&quot;!=typeof v.data&amp;&amp;(v.data=S.param(v.data,v.traditional)),Wt(Ot,v,t,T),h)return T;for(i in(g=S.event&amp;&amp;v.global)&amp;&amp;0==S.active++&amp;&amp;S.event.trigger(&quot;ajaxStart&quot;),v.type=v.type.toUpperCase(),v.hasContent=!Lt.test(v.type),f=v.url.replace(jt,&quot;&quot;),v.hasContent?v.data&amp;&amp;v.processData&amp;&amp;0===(v.contentType||&quot;&quot;).indexOf(&quot;application/x-www-form-urlencoded&quot;)&amp;&amp;(v.data=v.data.replace(Nt,&quot;+&quot;)):(o=v.url.slice(f.length),v.data&amp;&amp;(v.processData||&quot;string&quot;==typeof v.data)&amp;&amp;(f+=(Tt.test(f)?&quot;&amp;&quot;:&quot;?&quot;)+v.data,delete v.data),!1===v.cache&amp;&amp;(f=f.replace(Dt,&quot;$1&quot;),o=(Tt.test(f)?&quot;&amp;&quot;:&quot;?&quot;)+&quot;_=&quot;+wt.guid+++o),v.url=f+o),v.ifModified&amp;&amp;(S.lastModified[f]&amp;&amp;T.setRequestHeader(&quot;If-Modified-Since&quot;,S.lastModified[f]),S.etag[f]&amp;&amp;T.setRequestHeader(&quot;If-None-Match&quot;,S.etag[f])),(v.data&amp;&amp;v.hasContent&amp;&amp;!1!==v.contentType||t.contentType)&amp;&amp;T.setRequestHeader(&quot;Content-Type&quot;,v.contentType),T.setRequestHeader(&quot;Accept&quot;,v.dataTypes[0]&amp;&amp;v.accepts[v.dataTypes[0]]?v.accepts[v.dataTypes[0]]+(&quot;*&quot;!==v.dataTypes[0]?&quot;, &quot;+Rt+&quot;; q=0.01&quot;:&quot;&quot;):v.accepts[&quot;*&quot;]),v.headers)T.setRequestHeader(i,v.headers[i]);if(v.beforeSend&amp;&amp;(!1===v.beforeSend.call(y,T,v)||h))return T.abort();if(u=&quot;abort&quot;,b.add(v.complete),T.done(v.success),T.fail(v.error),c=Wt(Pt,v,t,T)){if(T.readyState=1,g&amp;&amp;m.trigger(&quot;ajaxSend&quot;,[T,v]),h)return T;v.async&amp;&amp;0&lt;v.timeout&amp;&amp;(d=C.setTimeout(function(){T.abort(&quot;timeout&quot;)},v.timeout));try{h=!1,c.send(a,l)}catch(e){if(h)throw e;l(-1,e)}}else l(-1,&quot;No Transport&quot;);function l(e,t,n,r){var i,o,a,s,u,l=t;h||(h=!0,d&amp;&amp;C.clearTimeout(d),c=void 0,p=r||&quot;&quot;,T.readyState=0&lt;e?4:0,i=200&lt;=e&amp;&amp;e&lt;300||304===e,n&amp;&amp;(s=function(e,t,n){var r,i,o,a,s=e.contents,u=e.dataTypes;while(&quot;*&quot;===u[0])u.shift(),void 0===r&amp;&amp;(r=e.mimeType||t.getResponseHeader(&quot;Content-Type&quot;));if(r)for(i in s)if(s[i]&amp;&amp;s[i].test(r)){u.unshift(i);break}if(u[0]in n)o=u[0];else{for(i in n){if(!u[0]||e.converters[i+&quot; &quot;+u[0]]){o=i;break}a||(a=i)}o=o||a}if(o)return o!==u[0]&amp;&amp;u.unshift(o),n[o]}(v,T,n)),!i&amp;&amp;-1&lt;S.inArray(&quot;script&quot;,v.dataTypes)&amp;&amp;S.inArray(&quot;json&quot;,v.dataTypes)&lt;0&amp;&amp;(v.converters[&quot;text script&quot;]=function(){}),s=function(e,t,n,r){var i,o,a,s,u,l={},c=e.dataTypes.slice();if(c[1])for(a in e.converters)l[a.toLowerCase()]=e.converters[a];o=c.shift();while(o)if(e.responseFields[o]&amp;&amp;(n[e.responseFields[o]]=t),!u&amp;&amp;r&amp;&amp;e.dataFilter&amp;&amp;(t=e.dataFilter(t,e.dataType)),u=o,o=c.shift())if(&quot;*&quot;===o)o=u;else if(&quot;*&quot;!==u&amp;&amp;u!==o){if(!(a=l[u+&quot; &quot;+o]||l[&quot;* &quot;+o]))for(i in l)if((s=i.split(&quot; &quot;))[1]===o&amp;&amp;(a=l[u+&quot; &quot;+s[0]]||l[&quot;* &quot;+s[0]])){!0===a?a=l[i]:!0!==l[i]&amp;&amp;(o=s[0],c.unshift(s[1]));break}if(!0!==a)if(a&amp;&amp;e[&quot;throws&quot;])t=a(t);else try{t=a(t)}catch(e){return{state:&quot;parsererror&quot;,error:a?e:&quot;No conversion from &quot;+u+&quot; to &quot;+o}}}return{state:&quot;success&quot;,data:t}}(v,s,T,i),i?(v.ifModified&amp;&amp;((u=T.getResponseHeader(&quot;Last-Modified&quot;))&amp;&amp;(S.lastModified[f]=u),(u=T.getResponseHeader(&quot;etag&quot;))&amp;&amp;(S.etag[f]=u)),204===e||&quot;HEAD&quot;===v.type?l=&quot;nocontent&quot;:304===e?l=&quot;notmodified&quot;:(l=s.state,o=s.data,i=!(a=s.error))):(a=l,!e&amp;&amp;l||(l=&quot;error&quot;,e&lt;0&amp;&amp;(e=0))),T.status=e,T.statusText=(t||l)+&quot;&quot;,i?x.resolveWith(y,[o,l,T]):x.rejectWith(y,[T,l,a]),T.statusCode(w),w=void 0,g&amp;&amp;m.trigger(i?&quot;ajaxSuccess&quot;:&quot;ajaxError&quot;,[T,v,i?o:a]),b.fireWith(y,[T,l]),g&amp;&amp;(m.trigger(&quot;ajaxComplete&quot;,[T,v]),--S.active||S.event.trigger(&quot;ajaxStop&quot;)))}return T},getJSON:function(e,t,n){return S.get(e,t,n,&quot;json&quot;)},getScript:function(e,t){return S.get(e,void 0,t,&quot;script&quot;)}}),S.each([&quot;get&quot;,&quot;post&quot;],function(e,i){S[i]=function(e,t,n,r){return m(t)&amp;&amp;(r=r||n,n=t,t=void 0),S.ajax(S.extend({url:e,type:i,dataType:r,data:t,success:n},S.isPlainObject(e)&amp;&amp;e))}}),S.ajaxPrefilter(function(e){var t;for(t in e.headers)&quot;content-type&quot;===t.toLowerCase()&amp;&amp;(e.contentType=e.headers[t]||&quot;&quot;)}),S._evalUrl=function(e,t,n){return S.ajax({url:e,type:&quot;GET&quot;,dataType:&quot;script&quot;,cache:!0,async:!1,global:!1,converters:{&quot;text script&quot;:function(){}},dataFilter:function(e){S.globalEval(e,t,n)}})},S.fn.extend({wrapAll:function(e){var t;return this[0]&amp;&amp;(m(e)&amp;&amp;(e=e.call(this[0])),t=S(e,this[0].ownerDocument).eq(0).clone(!0),this[0].parentNode&amp;&amp;t.insertBefore(this[0]),t.map(function(){var e=this;while(e.firstElementChild)e=e.firstElementChild;return e}).append(this)),this},wrapInner:function(n){return m(n)?this.each(function(e){S(this).wrapInner(n.call(this,e))}):this.each(function(){var e=S(this),t=e.contents();t.length?t.wrapAll(n):e.append(n)})},wrap:function(t){var n=m(t);return this.each(function(e){S(this).wrapAll(n?t.call(this,e):t)})},unwrap:function(e){return this.parent(e).not(&quot;body&quot;).each(function(){S(this).replaceWith(this.childNodes)}),this}}),S.expr.pseudos.hidden=function(e){return!S.expr.pseudos.visible(e)},S.expr.pseudos.visible=function(e){return!!(e.offsetWidth||e.offsetHeight||e.getClientRects().length)},S.ajaxSettings.xhr=function(){try{return new C.XMLHttpRequest}catch(e){}};var Bt={0:200,1223:204},$t=S.ajaxSettings.xhr();y.cors=!!$t&amp;&amp;&quot;withCredentials&quot;in $t,y.ajax=$t=!!$t,S.ajaxTransport(function(i){var o,a;if(y.cors||$t&amp;&amp;!i.crossDomain)return{send:function(e,t){var n,r=i.xhr();if(r.open(i.type,i.url,i.async,i.username,i.password),i.xhrFields)for(n in i.xhrFields)r[n]=i.xhrFields[n];for(n in i.mimeType&amp;&amp;r.overrideMimeType&amp;&amp;r.overrideMimeType(i.mimeType),i.crossDomain||e[&quot;X-Requested-With&quot;]||(e[&quot;X-Requested-With&quot;]=&quot;XMLHttpRequest&quot;),e)r.setRequestHeader(n,e[n]);o=function(e){return function(){o&amp;&amp;(o=a=r.onload=r.onerror=r.onabort=r.ontimeout=r.onreadystatechange=null,&quot;abort&quot;===e?r.abort():&quot;error&quot;===e?&quot;number&quot;!=typeof r.status?t(0,&quot;error&quot;):t(r.status,r.statusText):t(Bt[r.status]||r.status,r.statusText,&quot;text&quot;!==(r.responseType||&quot;text&quot;)||&quot;string&quot;!=typeof r.responseText?{binary:r.response}:{text:r.responseText},r.getAllResponseHeaders()))}},r.onload=o(),a=r.onerror=r.ontimeout=o(&quot;error&quot;),void 0!==r.onabort?r.onabort=a:r.onreadystatechange=function(){4===r.readyState&amp;&amp;C.setTimeout(function(){o&amp;&amp;a()})},o=o(&quot;abort&quot;);try{r.send(i.hasContent&amp;&amp;i.data||null)}catch(e){if(o)throw e}},abort:function(){o&amp;&amp;o()}}}),S.ajaxPrefilter(function(e){e.crossDomain&amp;&amp;(e.contents.script=!1)}),S.ajaxSetup({accepts:{script:&quot;text/javascript, application/javascript, application/ecmascript, application/x-ecmascript&quot;},contents:{script:/\\b(?:java|ecma)script\\b/},converters:{&quot;text script&quot;:function(e){return S.globalEval(e),e}}}),S.ajaxPrefilter(&quot;script&quot;,function(e){void 0===e.cache&amp;&amp;(e.cache=!1),e.crossDomain&amp;&amp;(e.type=&quot;GET&quot;)}),S.ajaxTransport(&quot;script&quot;,function(n){var r,i;if(n.crossDomain||n.scriptAttrs)return{send:function(e,t){r=S(&quot;&lt;script&gt;&quot;).attr(n.scriptAttrs||{}).prop({charset:n.scriptCharset,src:n.url}).on(&quot;load error&quot;,i=function(e){r.remove(),i=null,e&amp;&amp;t(&quot;error&quot;===e.type?404:200,e.type)}),E.head.appendChild(r[0])},abort:function(){i&amp;&amp;i()}}});var _t,zt=[],Ut=/(=)\\?(?=&amp;|$)|\\?\\?/;S.ajaxSetup({jsonp:&quot;callback&quot;,jsonpCallback:function(){var e=zt.pop()||S.expando+&quot;_&quot;+wt.guid++;return this[e]=!0,e}}),S.ajaxPrefilter(&quot;json jsonp&quot;,function(e,t,n){var r,i,o,a=!1!==e.jsonp&amp;&amp;(Ut.test(e.url)?&quot;url&quot;:&quot;string&quot;==typeof e.data&amp;&amp;0===(e.contentType||&quot;&quot;).indexOf(&quot;application/x-www-form-urlencoded&quot;)&amp;&amp;Ut.test(e.data)&amp;&amp;&quot;data&quot;);if(a||&quot;jsonp&quot;===e.dataTypes[0])return r=e.jsonpCallback=m(e.jsonpCallback)?e.jsonpCallback():e.jsonpCallback,a?e[a]=e[a].replace(Ut,&quot;$1&quot;+r):!1!==e.jsonp&amp;&amp;(e.url+=(Tt.test(e.url)?&quot;&amp;&quot;:&quot;?&quot;)+e.jsonp+&quot;=&quot;+r),e.converters[&quot;script json&quot;]=function(){return o||S.error(r+&quot; was not called&quot;),o[0]},e.dataTypes[0]=&quot;json&quot;,i=C[r],C[r]=function(){o=arguments},n.always(function(){void 0===i?S(C).removeProp(r):C[r]=i,e[r]&amp;&amp;(e.jsonpCallback=t.jsonpCallback,zt.push(r)),o&amp;&amp;m(i)&amp;&amp;i(o[0]),o=i=void 0}),&quot;script&quot;}),y.createHTMLDocument=((_t=E.implementation.createHTMLDocument(&quot;&quot;).body).innerHTML=&quot;&lt;form&gt;&lt;/form&gt;&lt;form&gt;&lt;/form&gt;&quot;,2===_t.childNodes.length),S.parseHTML=function(e,t,n){return&quot;string&quot;!=typeof e?[]:(&quot;boolean&quot;==typeof t&amp;&amp;(n=t,t=!1),t||(y.createHTMLDocument?((r=(t=E.implementation.createHTMLDocument(&quot;&quot;)).createElement(&quot;base&quot;)).href=E.location.href,t.head.appendChild(r)):t=E),o=!n&amp;&amp;[],(i=N.exec(e))?[t.createElement(i[1])]:(i=xe([e],t,o),o&amp;&amp;o.length&amp;&amp;S(o).remove(),S.merge([],i.childNodes)));var r,i,o},S.fn.load=function(e,t,n){var r,i,o,a=this,s=e.indexOf(&quot; &quot;);return-1&lt;s&amp;&amp;(r=ht(e.slice(s)),e=e.slice(0,s)),m(t)?(n=t,t=void 0):t&amp;&amp;&quot;object&quot;==typeof t&amp;&amp;(i=&quot;POST&quot;),0&lt;a.length&amp;&amp;S.ajax({url:e,type:i||&quot;GET&quot;,dataType:&quot;html&quot;,data:t}).done(function(e){o=arguments,a.html(r?S(&quot;&lt;div&gt;&quot;).append(S.parseHTML(e)).find(r):e)}).always(n&amp;&amp;function(e,t){a.each(function(){n.apply(this,o||[e.responseText,t,e])})}),this},S.expr.pseudos.animated=function(t){return S.grep(S.timers,function(e){return t===e.elem}).length},S.offset={setOffset:function(e,t,n){var r,i,o,a,s,u,l=S.css(e,&quot;position&quot;),c=S(e),f={};&quot;static&quot;===l&amp;&amp;(e.style.position=&quot;relative&quot;),s=c.offset(),o=S.css(e,&quot;top&quot;),u=S.css(e,&quot;left&quot;),(&quot;absolute&quot;===l||&quot;fixed&quot;===l)&amp;&amp;-1&lt;(o+u).indexOf(&quot;auto&quot;)?(a=(r=c.position()).top,i=r.left):(a=parseFloat(o)||0,i=parseFloat(u)||0),m(t)&amp;&amp;(t=t.call(e,n,S.extend({},s))),null!=t.top&amp;&amp;(f.top=t.top-s.top+a),null!=t.left&amp;&amp;(f.left=t.left-s.left+i),&quot;using&quot;in t?t.using.call(e,f):c.css(f)}},S.fn.extend({offset:function(t){if(arguments.length)return void 0===t?this:this.each(function(e){S.offset.setOffset(this,t,e)});var e,n,r=this[0];return r?r.getClientRects().length?(e=r.getBoundingClientRect(),n=r.ownerDocument.defaultView,{top:e.top+n.pageYOffset,left:e.left+n.pageXOffset}):{top:0,left:0}:void 0},position:function(){if(this[0]){var e,t,n,r=this[0],i={top:0,left:0};if(&quot;fixed&quot;===S.css(r,&quot;position&quot;))t=r.getBoundingClientRect();else{t=this.offset(),n=r.ownerDocument,e=r.offsetParent||n.documentElement;while(e&amp;&amp;(e===n.body||e===n.documentElement)&amp;&amp;&quot;static&quot;===S.css(e,&quot;position&quot;))e=e.parentNode;e&amp;&amp;e!==r&amp;&amp;1===e.nodeType&amp;&amp;((i=S(e).offset()).top+=S.css(e,&quot;borderTopWidth&quot;,!0),i.left+=S.css(e,&quot;borderLeftWidth&quot;,!0))}return{top:t.top-i.top-S.css(r,&quot;marginTop&quot;,!0),left:t.left-i.left-S.css(r,&quot;marginLeft&quot;,!0)}}},offsetParent:function(){return this.map(function(){var e=this.offsetParent;while(e&amp;&amp;&quot;static&quot;===S.css(e,&quot;position&quot;))e=e.offsetParent;return e||re})}}),S.each({scrollLeft:&quot;pageXOffset&quot;,scrollTop:&quot;pageYOffset&quot;},function(t,i){var o=&quot;pageYOffset&quot;===i;S.fn[t]=function(e){return $(this,function(e,t,n){var r;if(x(e)?r=e:9===e.nodeType&amp;&amp;(r=e.defaultView),void 0===n)return r?r[i]:e[t];r?r.scrollTo(o?r.pageXOffset:n,o?n:r.pageYOffset):e[t]=n},t,e,arguments.length)}}),S.each([&quot;top&quot;,&quot;left&quot;],function(e,n){S.cssHooks[n]=Fe(y.pixelPosition,function(e,t){if(t)return t=We(e,n),Pe.test(t)?S(e).position()[n]+&quot;px&quot;:t})}),S.each({Height:&quot;height&quot;,Width:&quot;width&quot;},function(a,s){S.each({padding:&quot;inner&quot;+a,content:s,&quot;&quot;:&quot;outer&quot;+a},function(r,o){S.fn[o]=function(e,t){var n=arguments.length&amp;&amp;(r||&quot;boolean&quot;!=typeof e),i=r||(!0===e||!0===t?&quot;margin&quot;:&quot;border&quot;);return $(this,function(e,t,n){var r;return x(e)?0===o.indexOf(&quot;outer&quot;)?e[&quot;inner&quot;+a]:e.document.documentElement[&quot;client&quot;+a]:9===e.nodeType?(r=e.documentElement,Math.max(e.body[&quot;scroll&quot;+a],r[&quot;scroll&quot;+a],e.body[&quot;offset&quot;+a],r[&quot;offset&quot;+a],r[&quot;client&quot;+a])):void 0===n?S.css(e,t,i):S.style(e,t,n,i)},s,n?e:void 0,n)}})}),S.each([&quot;ajaxStart&quot;,&quot;ajaxStop&quot;,&quot;ajaxComplete&quot;,&quot;ajaxError&quot;,&quot;ajaxSuccess&quot;,&quot;ajaxSend&quot;],function(e,t){S.fn[t]=function(e){return this.on(t,e)}}),S.fn.extend({bind:function(e,t,n){return this.on(e,null,t,n)},unbind:function(e,t){return this.off(e,null,t)},delegate:function(e,t,n,r){return this.on(t,e,n,r)},undelegate:function(e,t,n){return 1===arguments.length?this.off(e,&quot;**&quot;):this.off(t,e||&quot;**&quot;,n)},hover:function(e,t){return this.mouseenter(e).mouseleave(t||e)}}),S.each(&quot;blur focus focusin focusout resize scroll click dblclick mousedown mouseup mousemove mouseover mouseout mouseenter mouseleave change select submit keydown keypress keyup contextmenu&quot;.split(&quot; &quot;),function(e,n){S.fn[n]=function(e,t){return 0&lt;arguments.length?this.on(n,null,e,t):this.trigger(n)}});var Xt=/^[\\s\\uFEFF\\xA0]+|[\\s\\uFEFF\\xA0]+$/g;S.proxy=function(e,t){var n,r,i;if(&quot;string&quot;==typeof t&amp;&amp;(n=e[t],t=e,e=n),m(e))return r=s.call(arguments,2),(i=function(){return e.apply(t||this,r.concat(s.call(arguments)))}).guid=e.guid=e.guid||S.guid++,i},S.holdReady=function(e){e?S.readyWait++:S.ready(!0)},S.isArray=Array.isArray,S.parseJSON=JSON.parse,S.nodeName=A,S.isFunction=m,S.isWindow=x,S.camelCase=X,S.type=w,S.now=Date.now,S.isNumeric=function(e){var t=S.type(e);return(&quot;number&quot;===t||&quot;string&quot;===t)&amp;&amp;!isNaN(e-parseFloat(e))},S.trim=function(e){return null==e?&quot;&quot;:(e+&quot;&quot;).replace(Xt,&quot;&quot;)},&quot;function&quot;==typeof define&amp;&amp;define.amd&amp;&amp;define(&quot;jquery&quot;,[],function(){return S});var Vt=C.jQuery,Gt=C.$;return S.noConflict=function(e){return C.$===S&amp;&amp;(C.$=Gt),e&amp;&amp;C.jQuery===S&amp;&amp;(C.jQuery=Vt),S},&quot;undefined&quot;==typeof e&amp;&amp;(C.jQuery=C.$=S),S});\n",
              "\n",
              "  &lt;/script&gt;\n",
              "  &lt;script&gt;\n",
              "    function brainsprite(d){function a(f,e){f.imageSmoothingEnabled=e;return f}var b={};var c={nanValue:false,smooth:false,flagValue:false,colorBackground:&quot;#000000&quot;,flagCoordinates:false,origin:{X:0,Y:0,Z:0},voxelSize:1,affine:false,heightColorBar:0.04,sizeFont:0.075,colorFont:&quot;#FFFFFF&quot;,nbDecimals:3,crosshair:false,colorCrosshair:&quot;#0000FF&quot;,sizeCrosshair:0.9,title:false,numSlice:false,};var b=Object.assign({},c,d);if(typeof b.affine===&quot;boolean&quot;&amp;&amp;b.affine===false){b.affine=[[b.voxelSize,0,0,-b.origin.X],[0,b.voxelSize,0,-b.origin.Y],[0,0,b.voxelSize,-b.origin.Z],[0,0,0,1]]}b.canvas=document.getElementById(d.canvas);b.context=b.canvas.getContext(&quot;2d&quot;);b.context=a(b.context,b.smooth);b.canvasY=document.createElement(&quot;canvas&quot;);b.contextY=b.canvasY.getContext(&quot;2d&quot;);b.canvasZ=document.createElement(&quot;canvas&quot;);b.contextZ=b.canvasZ.getContext(&quot;2d&quot;);b.canvasRead=document.createElement(&quot;canvas&quot;);b.contextRead=b.canvasRead.getContext(&quot;2d&quot;);b.canvasRead.width=1;b.canvasRead.height=1;b.onclick=typeof d.onclick!==&quot;undefined&quot;?d.onclick:&quot;&quot;;if(b.flagCoordinates){b.spaceFont=0.1}else{b.spaceFont=0}b.sprite=document.getElementById(d.sprite);b.nbCol=b.sprite.width/d.nbSlice.Y;b.nbRow=b.sprite.height/d.nbSlice.Z;b.nbSlice={X:typeof d.nbSlice.X!==&quot;undefined&quot;?d.nbSlice.X:b.nbCol*b.nbRow,Y:d.nbSlice.Y,Z:d.nbSlice.Z};b.widthCanvas={X:0,Y:0,Z:0};b.heightCanvas={X:0,Y:0,Z:0,max:0};if(b.numSlice==false){b.numSlice={X:Math.floor(b.nbSlice.X/2),Y:Math.floor(b.nbSlice.Y/2),Z:Math.floor(b.nbSlice.Z/2)}}b.coordinatesSlice={X:0,Y:0,Z:0};b.planes={};b.planes.canvasMaster=document.createElement(&quot;canvas&quot;);b.planes.contextMaster=b.planes.canvasMaster.getContext(&quot;2d&quot;);d.overlay=typeof d.overlay!==&quot;undefined&quot;?d.overlay:false;if(d.overlay){b.overlay={};b.overlay.sprite=document.getElementById(d.overlay.sprite);b.overlay.nbCol=b.overlay.sprite.width/d.overlay.nbSlice.Y;b.overlay.nbRow=b.overlay.sprite.height/d.overlay.nbSlice.Z;b.overlay.nbSlice={X:typeof d.overlay.nbSlice.X!==&quot;undefined&quot;?d.overlay.nbSlice.X:b.overlay.nbCol*b.overlay.nbRow,Y:d.overlay.nbSlice.Y,Z:d.overlay.nbSlice.Z};b.overlay.opacity=typeof d.overlay.opacity!==&quot;undefined&quot;?d.overlay.opacity:1}d.colorMap=typeof d.colorMap!==&quot;undefined&quot;?d.colorMap:false;if(d.colorMap){b.colorMap={};b.colorMap.img=document.getElementById(d.colorMap.img);b.colorMap.min=d.colorMap.min;b.colorMap.max=d.colorMap.max;d.colorMap.hide=typeof d.colorMap.hide!==&quot;undefined&quot;?d.colorMap.hide:false;b.colorMap.canvas=document.createElement(&quot;canvas&quot;);b.colorMap.context=b.colorMap.canvas.getContext(&quot;2d&quot;);b.colorMap.canvas.width=b.colorMap.img.width;b.colorMap.canvas.height=b.colorMap.img.height;b.colorMap.context.drawImage(b.colorMap.img,0,0,b.colorMap.img.width,b.colorMap.img.height,0,0,b.colorMap.img.width,b.colorMap.img.height)}b.getValue=function(i,h){if(!h){return NaN}var f,l,e,j,k,g;e=h.canvas.width;j=NaN;k=Infinity;for(xx=0;xx&lt;e;xx++){f=h.context.getImageData(xx,0,1,1).data;l=Math.pow(f[0]-i[0],2)+Math.pow(f[1]-i[1],2)+Math.pow(f[2]-i[2],2);if(l&lt;k){j=xx;k=l}}g=(j*(h.max-h.min)/(e-1))+h.min;return g};b.updateValue=function(){var h={};var f=[];var e=[];if(b.overlay&amp;&amp;!b.nanValue){try{h.XW=Math.round((b.numSlice.X)%b.nbCol);h.XH=Math.round((b.numSlice.X-h.XW)/b.nbCol);b.contextRead.fillStyle=&quot;#FFFFFF&quot;;b.contextRead.fillRect(0,0,1,1);b.contextRead.drawImage(b.overlay.sprite,h.XW*b.nbSlice.Y+b.numSlice.Y,h.XH*b.nbSlice.Z+b.nbSlice.Z-b.numSlice.Z-1,1,1,0,0,1,1);rgb=b.contextRead.getImageData(0,0,1,1).data;f=((rgb[0]==255)&amp;&amp;(rgb[1]==255)&amp;&amp;(rgb[2]==255));b.contextRead.fillStyle=&quot;#000000&quot;;b.contextRead.fillRect(0,0,1,1);b.contextRead.drawImage(b.overlay.sprite,h.XW*b.nbSlice.Y+b.numSlice.Y,h.XH*b.nbSlice.Z+b.nbSlice.Z-b.numSlice.Z-1,1,1,0,0,1,1);rgb=b.contextRead.getImageData(0,0,1,1).data;e=((rgb[0]==0)&amp;&amp;(rgb[1]==0)&amp;&amp;(rgb[2]==0));if(f&amp;&amp;e){b.voxelValue=NaN}else{b.voxelValue=b.getValue(rgb,b.colorMap)}}catch(g){console.warn(g.message);rgb=0;b.nanValue=true;b.voxelValue=NaN}}else{b.voxelValue=NaN}};b.multiply=function(p,o){var l=p.length,h=p[0].length,k=o.length,f=o[0].length,g=new Array(l);for(var e=0;e&lt;l;++e){g[e]=new Array(f);for(var n=0;n&lt;f;++n){g[e][n]=0;for(var j=0;j&lt;h;++j){g[e][n]+=p[e][j]*o[j][n]}}}return g};b.updateCoordinates=function(){coordVoxel=b.multiply(b.affine,[[b.numSlice.X+1],[b.numSlice.Y+1],[b.numSlice.Z+1],[1]]);b.coordinatesSlice.X=coordVoxel[0];b.coordinatesSlice.Y=coordVoxel[1];b.coordinatesSlice.Z=coordVoxel[2]};b.init=function(){b.widthCanvas.X=Math.floor(b.canvas.parentElement.clientWidth*(b.nbSlice.Y/(2*b.nbSlice.X+b.nbSlice.Y)));b.widthCanvas.Y=Math.floor(b.canvas.parentElement.clientWidth*(b.nbSlice.X/(2*b.nbSlice.X+b.nbSlice.Y)));b.widthCanvas.Z=Math.floor(b.canvas.parentElement.clientWidth*(b.nbSlice.X/(2*b.nbSlice.X+b.nbSlice.Y)));b.widthCanvas.max=Math.max(b.widthCanvas.X,b.widthCanvas.Y,b.widthCanvas.Z);b.heightCanvas.X=Math.floor(b.widthCanvas.X*b.nbSlice.Z/b.nbSlice.Y);b.heightCanvas.Y=Math.floor(b.widthCanvas.Y*b.nbSlice.Z/b.nbSlice.X);b.heightCanvas.Z=Math.floor(b.widthCanvas.Z*b.nbSlice.Y/b.nbSlice.X);b.heightCanvas.max=Math.max(b.heightCanvas.X,b.heightCanvas.Y,b.heightCanvas.Z);if(b.canvas.width!=(b.widthCanvas.X+b.widthCanvas.Y+b.widthCanvas.Z)){b.canvas.width=b.widthCanvas.X+b.widthCanvas.Y+b.widthCanvas.Z;b.canvas.height=Math.round((1+b.spaceFont)*(b.heightCanvas.max));b.context=a(b.context,b.smooth)}b.sizeFontPixels=Math.round(b.sizeFont*(b.heightCanvas.max));b.context.font=b.sizeFontPixels+&quot;px Arial&quot;;b.planes.canvasMaster.width=b.sprite.width;b.planes.canvasMaster.height=b.sprite.height;b.planes.contextMaster.globalAlpha=1;b.planes.contextMaster.drawImage(b.sprite,0,0,b.sprite.width,b.sprite.height,0,0,b.sprite.width,b.sprite.height);if(b.overlay){b.planes.contextMaster.globalAlpha=b.overlay.opacity;b.planes.contextMaster.drawImage(b.overlay.sprite,0,0,b.overlay.sprite.width,b.overlay.sprite.height,0,0,b.sprite.width,b.sprite.height)}b.planes.canvasX=document.createElement(&quot;canvas&quot;);b.planes.contextX=b.planes.canvasX.getContext(&quot;2d&quot;);b.planes.canvasX.width=b.nbSlice.Y;b.planes.canvasX.height=b.nbSlice.Z;b.planes.canvasY=document.createElement(&quot;canvas&quot;);b.planes.contextY=b.planes.canvasY.getContext(&quot;2d&quot;);b.planes.canvasY.width=b.nbSlice.X;b.planes.canvasY.height=b.nbSlice.Z;b.planes.canvasZ=document.createElement(&quot;canvas&quot;);b.planes.contextZ=b.planes.canvasZ.getContext(&quot;2d&quot;);b.planes.canvasZ.width=b.nbSlice.X;b.planes.canvasZ.height=b.nbSlice.Y;b.planes.contextZ.rotate(-Math.PI/2);b.planes.contextZ.translate(-b.nbSlice.Y,0);b.updateValue();b.updateCoordinates();b.numSlice.X=Math.round(b.numSlice.X);b.numSlice.Y=Math.round(b.numSlice.Y);b.numSlice.Z=Math.round(b.numSlice.Z)};b.draw=function(h,f){var j={},i,e,g={X:&quot;&quot;,Y:&quot;&quot;,Z:&quot;&quot;};g.X=Math.ceil((1-b.sizeCrosshair)*b.nbSlice.X/2);g.Y=Math.ceil((1-b.sizeCrosshair)*b.nbSlice.Y/2);g.Z=Math.ceil((1-b.sizeCrosshair)*b.nbSlice.Z/2);switch(f){case&quot;X&quot;:j.XW=((b.numSlice.X)%b.nbCol);j.XH=(b.numSlice.X-j.XW)/b.nbCol;b.planes.contextX.drawImage(b.planes.canvasMaster,j.XW*b.nbSlice.Y,j.XH*b.nbSlice.Z,b.nbSlice.Y,b.nbSlice.Z,0,0,b.nbSlice.Y,b.nbSlice.Z);if(b.crosshair){b.planes.contextX.fillStyle=b.colorCrosshair;b.planes.contextX.fillRect(b.numSlice.Y,g.Z,1,b.nbSlice.Z-2*g.Z);b.planes.contextX.fillRect(g.Y,b.nbSlice.Z-b.numSlice.Z-1,b.nbSlice.Y-2*g.Y,1)}b.context.fillStyle=b.colorBackground;b.context.fillRect(0,0,b.widthCanvas.X,b.canvas.height);b.context.drawImage(b.planes.canvasX,0,0,b.nbSlice.Y,b.nbSlice.Z,0,(b.heightCanvas.max-b.heightCanvas.X)/2,b.widthCanvas.X,b.heightCanvas.X);if(b.title){b.context.fillStyle=b.colorFont;b.context.fillText(b.title,Math.round(b.widthCanvas.X/10),Math.round((b.heightCanvas.max*b.heightColorBar)+(1/4)*(b.sizeFontPixels)))}if(b.flagValue){value=&quot;value = &quot;+Number.parseFloat(b.voxelValue).toPrecision(b.nbDecimals).replace(/0+$/,&quot;&quot;);valueWidth=b.context.measureText(value).width;b.context.fillStyle=b.colorFont;b.context.fillText(value,Math.round(b.widthCanvas.X/10),Math.round((b.heightCanvas.max*b.heightColorBar*2)+(3/4)*(b.sizeFontPixels)))}if(b.flagCoordinates){i=&quot;x = &quot;+Math.round(b.coordinatesSlice.X);e=b.context.measureText(i).width;b.context.fillStyle=b.colorFont;b.context.fillText(i,b.widthCanvas.X/2-e/2,Math.round(b.canvas.height-(b.sizeFontPixels/2)))}break;case&quot;Y&quot;:b.context.fillStyle=b.colorBackground;b.context.fillRect(b.widthCanvas.X,0,b.widthCanvas.Y,b.canvas.height);for(xx=0;xx&lt;b.nbSlice.X;xx++){posW=(xx%b.nbCol);posH=(xx-posW)/b.nbCol;b.planes.contextY.drawImage(b.planes.canvasMaster,posW*b.nbSlice.Y+b.numSlice.Y,posH*b.nbSlice.Z,1,b.nbSlice.Z,xx,0,1,b.nbSlice.Z)}if(b.crosshair){b.planes.contextY.fillStyle=b.colorCrosshair;b.planes.contextY.fillRect(b.numSlice.X,g.Z,1,b.nbSlice.Z-2*g.Z);b.planes.contextY.fillRect(g.X,b.nbSlice.Z-b.numSlice.Z-1,b.nbSlice.X-2*g.X,1)}b.context.drawImage(b.planes.canvasY,0,0,b.nbSlice.X,b.nbSlice.Z,b.widthCanvas.X,(b.heightCanvas.max-b.heightCanvas.Y)/2,b.widthCanvas.Y,b.heightCanvas.Y);if((b.colorMap)&amp;&amp;(!b.colorMap.hide)){b.context.drawImage(b.colorMap.img,0,0,b.colorMap.img.width,1,Math.round(b.widthCanvas.X+b.widthCanvas.Y*0.2),Math.round(b.heightCanvas.max*b.heightColorBar/2),Math.round(b.widthCanvas.Y*0.6),Math.round(b.heightCanvas.max*b.heightColorBar));b.context.fillStyle=b.colorFont;label_min=Number.parseFloat(b.colorMap.min).toPrecision(b.nbDecimals).replace(/0+$/,&quot;&quot;);label_max=Number.parseFloat(b.colorMap.max).toPrecision(b.nbDecimals).replace(/0+$/,&quot;&quot;);b.context.fillText(label_min,b.widthCanvas.X+(b.widthCanvas.Y*0.2)-b.context.measureText(label_min).width/2,Math.round((b.heightCanvas.max*b.heightColorBar*2)+(3/4)*(b.sizeFontPixels)));b.context.fillText(label_max,b.widthCanvas.X+(b.widthCanvas.Y*0.8)-b.context.measureText(label_max).width/2,Math.round((b.heightCanvas.max*b.heightColorBar*2)+(3/4)*(b.sizeFontPixels)))}if(b.flagCoordinates){b.context.font=b.sizeFontPixels+&quot;px Arial&quot;;b.context.fillStyle=b.colorFont;i=&quot;y = &quot;+Math.round(b.coordinatesSlice.Y);e=b.context.measureText(i).width;b.context.fillText(i,b.widthCanvas.X+(b.widthCanvas.Y/2)-e/2,Math.round(b.canvas.height-(b.sizeFontPixels/2)))}case&quot;Z&quot;:b.context.fillStyle=b.colorBackground;b.context.fillRect(b.widthCanvas.X+b.widthCanvas.Y,0,b.widthCanvas.Z,b.canvas.height);for(xx=0;xx&lt;b.nbSlice.X;xx++){posW=(xx%b.nbCol);posH=(xx-posW)/b.nbCol;b.planes.contextZ.drawImage(b.planes.canvasMaster,posW*b.nbSlice.Y,posH*b.nbSlice.Z+b.nbSlice.Z-b.numSlice.Z-1,b.nbSlice.Y,1,0,xx,b.nbSlice.Y,1)}if(b.crosshair){b.planes.contextZ.fillStyle=b.colorCrosshair;b.planes.contextZ.fillRect(g.Y,b.numSlice.X,b.nbSlice.Y-2*g.Y,1);b.planes.contextZ.fillRect(b.numSlice.Y,g.X,1,b.nbSlice.X-2*g.X)}b.context.drawImage(b.planes.canvasZ,0,0,b.nbSlice.X,b.nbSlice.Y,b.widthCanvas.X+b.widthCanvas.Y,(b.heightCanvas.max-b.heightCanvas.Z)/2,b.widthCanvas.Z,b.heightCanvas.Z);if(b.flagCoordinates){i=&quot;z = &quot;+Math.round(b.coordinatesSlice.Z);e=b.context.measureText(i).width;b.context.fillStyle=b.colorFont;b.context.fillText(i,b.widthCanvas.X+b.widthCanvas.Y+(b.widthCanvas.Z/2)-e/2,Math.round(b.canvas.height-(b.sizeFontPixels/2)))}}};b.clickBrain=function(h){var f=b.canvas.getBoundingClientRect();var j=h.clientX-f.left;var k=h.clientY-f.top;var i,g;if(j&lt;b.widthCanvas.X){i=Math.round((b.nbSlice.Y-1)*(j/b.widthCanvas.X));g=Math.round((b.nbSlice.Z-1)*(((b.heightCanvas.max+b.heightCanvas.X)/2)-k)/b.heightCanvas.X);b.numSlice.Y=Math.max(Math.min(i,b.nbSlice.Y-1),0);b.numSlice.Z=Math.max(Math.min(g,b.nbSlice.Z-1),0)}else{if(j&lt;(b.widthCanvas.X+b.widthCanvas.Y)){j=j-b.widthCanvas.X;sx=Math.round((b.nbSlice.X-1)*(j/b.widthCanvas.Y));g=Math.round((b.nbSlice.Z-1)*(((b.heightCanvas.max+b.heightCanvas.X)/2)-k)/b.heightCanvas.X);b.numSlice.X=Math.max(Math.min(sx,b.nbSlice.X-1),0);b.numSlice.Z=Math.max(Math.min(g,b.nbSlice.Z-1),0)}else{j=j-b.widthCanvas.X-b.widthCanvas.Y;sx=Math.round((b.nbSlice.X-1)*(j/b.widthCanvas.Z));i=Math.round((b.nbSlice.Y-1)*(((b.heightCanvas.max+b.heightCanvas.Z)/2)-k)/b.heightCanvas.Z);b.numSlice.X=Math.max(Math.min(sx,b.nbSlice.X-1),0);b.numSlice.Y=Math.max(Math.min(i,b.nbSlice.Y-1),0)}}b.updateValue();b.updateCoordinates();b.drawAll();if(b.onclick){b.onclick(h)}};b.drawAll=function(){b.draw(b.numSlice.X,&quot;X&quot;);b.draw(b.numSlice.Y,&quot;Y&quot;);b.draw(b.numSlice.Z,&quot;Z&quot;)};b.canvas.addEventListener(&quot;click&quot;,b.clickBrain,false);b.canvas.addEventListener(&quot;mousedown&quot;,function(f){b.canvas.addEventListener(&quot;mousemove&quot;,b.clickBrain,false)},false);b.canvas.addEventListener(&quot;mouseup&quot;,function(f){b.canvas.removeEventListener(&quot;mousemove&quot;,b.clickBrain,false)},false);b.sprite.addEventListener(&quot;load&quot;,function(){b.init();b.drawAll()});if(b.overlay){b.overlay.sprite.addEventListener(&quot;load&quot;,function(){b.init();b.drawAll()})}b.init();b.drawAll();return b};\n",
              "  &lt;/script&gt;\n",
              "\n",
              "  &lt;script&gt;\n",
              "  // On load: build all figures\n",
              "  $( window ).on(&#x27;load&#x27;,function() {\n",
              "    // Create brain slices\n",
              "    var brain = brainsprite(\n",
              "    {&quot;canvas&quot;: &quot;3Dviewer&quot;, &quot;sprite&quot;: &quot;spriteImg&quot;, &quot;nbSlice&quot;: {&quot;X&quot;: 61, &quot;Y&quot;: 73, &quot;Z&quot;: 61}, &quot;overlay&quot;: {&quot;sprite&quot;: &quot;overlayImg&quot;, &quot;nbSlice&quot;: {&quot;X&quot;: 61, &quot;Y&quot;: 73, &quot;Z&quot;: 61}, &quot;opacity&quot;: 1}, &quot;colorBackground&quot;: &quot;#000000&quot;, &quot;colorFont&quot;: &quot;#FFFFFF&quot;, &quot;crosshair&quot;: false, &quot;affine&quot;: [[3.0, 0.0, 0.0, -90.0], [0.0, 3.0, 0.0, -126.0], [0.0, 0.0, 3.0, -72.0], [0.0, 0.0, 0.0, 1.0]], &quot;flagCoordinates&quot;: true, &quot;title&quot;: &quot;Mean Image&quot;, &quot;flagValue&quot;: false, &quot;numSlice&quot;: {&quot;X&quot;: 29.57207039592542, &quot;Y&quot;: 32.41724295762535, &quot;Z&quot;: 26.663185450574016}}\n",
              "    );\n",
              "  });\n",
              "  &lt;/script&gt;\n",
              "&lt;/body&gt;\n",
              "&lt;/html&gt;\n",
              "\" width=\"600\" height=\"270.0\" frameBorder=\"0\"></iframe>"
            ],
            "text/plain": [
              "<nilearn.plotting.html_stat_map.StatMapView at 0x7fa0fbf27bb0>"
            ]
          },
          "execution_count": 73,
          "metadata": {},
          "output_type": "execute_result"
        }
      ],
      "source": [
        "# Plotting the interactive mean fMRI image\n",
        "# Slices of the brain can be changed by clicking on either of the three images.\n",
        "plotting.view_img(mean_image, draw_cross = False, bg_img = False, colorbar = False, black_bg = True, annotate = True, title = 'Mean Image')"
      ]
    },
    {
      "attachments": {},
      "cell_type": "markdown",
      "metadata": {
        "id": "5dmpfRJ2ZySv"
      },
      "source": [
        "# **Support Vector Machine - ReHo Full**"
      ]
    },
    {
      "cell_type": "code",
      "execution_count": null,
      "metadata": {
        "colab": {
          "base_uri": "https://localhost:8080/"
        },
        "id": "kE3mEBkeZ8MG",
        "outputId": "91f60bbf-3bf5-44c4-e44e-0a1b7fabb99f"
      },
      "outputs": [
        {
          "name": "stdout",
          "output_type": "stream",
          "text": [
            "done with /content/drive/MyDrive/MasterThesis/Data/ABIDE_pcp/cpac/filt_global/Pitt_0050003_reho.nii.gz\n",
            "done with /content/drive/MyDrive/MasterThesis/Data/ABIDE_pcp/cpac/filt_global/Pitt_0050004_reho.nii.gz\n",
            "done with /content/drive/MyDrive/MasterThesis/Data/ABIDE_pcp/cpac/filt_global/Pitt_0050005_reho.nii.gz\n",
            "done with /content/drive/MyDrive/MasterThesis/Data/ABIDE_pcp/cpac/filt_global/Pitt_0050006_reho.nii.gz\n",
            "done with /content/drive/MyDrive/MasterThesis/Data/ABIDE_pcp/cpac/filt_global/Pitt_0050007_reho.nii.gz\n",
            "done with /content/drive/MyDrive/MasterThesis/Data/ABIDE_pcp/cpac/filt_global/Pitt_0050008_reho.nii.gz\n",
            "done with /content/drive/MyDrive/MasterThesis/Data/ABIDE_pcp/cpac/filt_global/Pitt_0050010_reho.nii.gz\n",
            "done with /content/drive/MyDrive/MasterThesis/Data/ABIDE_pcp/cpac/filt_global/Pitt_0050011_reho.nii.gz\n",
            "done with /content/drive/MyDrive/MasterThesis/Data/ABIDE_pcp/cpac/filt_global/Pitt_0050012_reho.nii.gz\n",
            "done with /content/drive/MyDrive/MasterThesis/Data/ABIDE_pcp/cpac/filt_global/Pitt_0050013_reho.nii.gz\n",
            "done with /content/drive/MyDrive/MasterThesis/Data/ABIDE_pcp/cpac/filt_global/Pitt_0050014_reho.nii.gz\n",
            "done with /content/drive/MyDrive/MasterThesis/Data/ABIDE_pcp/cpac/filt_global/Pitt_0050015_reho.nii.gz\n",
            "done with /content/drive/MyDrive/MasterThesis/Data/ABIDE_pcp/cpac/filt_global/Pitt_0050016_reho.nii.gz\n",
            "done with /content/drive/MyDrive/MasterThesis/Data/ABIDE_pcp/cpac/filt_global/Pitt_0050020_reho.nii.gz\n",
            "done with /content/drive/MyDrive/MasterThesis/Data/ABIDE_pcp/cpac/filt_global/Pitt_0050022_reho.nii.gz\n",
            "done with /content/drive/MyDrive/MasterThesis/Data/ABIDE_pcp/cpac/filt_global/Pitt_0050023_reho.nii.gz\n",
            "done with /content/drive/MyDrive/MasterThesis/Data/ABIDE_pcp/cpac/filt_global/Pitt_0050024_reho.nii.gz\n",
            "done with /content/drive/MyDrive/MasterThesis/Data/ABIDE_pcp/cpac/filt_global/Pitt_0050025_reho.nii.gz\n",
            "done with /content/drive/MyDrive/MasterThesis/Data/ABIDE_pcp/cpac/filt_global/Pitt_0050026_reho.nii.gz\n",
            "done with /content/drive/MyDrive/MasterThesis/Data/ABIDE_pcp/cpac/filt_global/Pitt_0050027_reho.nii.gz\n",
            "done with /content/drive/MyDrive/MasterThesis/Data/ABIDE_pcp/cpac/filt_global/Pitt_0050028_reho.nii.gz\n",
            "done with /content/drive/MyDrive/MasterThesis/Data/ABIDE_pcp/cpac/filt_global/Pitt_0050030_reho.nii.gz\n",
            "done with /content/drive/MyDrive/MasterThesis/Data/ABIDE_pcp/cpac/filt_global/Pitt_0050031_reho.nii.gz\n",
            "done with /content/drive/MyDrive/MasterThesis/Data/ABIDE_pcp/cpac/filt_global/Pitt_0050032_reho.nii.gz\n",
            "done with /content/drive/MyDrive/MasterThesis/Data/ABIDE_pcp/cpac/filt_global/Pitt_0050033_reho.nii.gz\n",
            "done with /content/drive/MyDrive/MasterThesis/Data/ABIDE_pcp/cpac/filt_global/Pitt_0050034_reho.nii.gz\n",
            "done with /content/drive/MyDrive/MasterThesis/Data/ABIDE_pcp/cpac/filt_global/Pitt_0050035_reho.nii.gz\n",
            "done with /content/drive/MyDrive/MasterThesis/Data/ABIDE_pcp/cpac/filt_global/Pitt_0050036_reho.nii.gz\n",
            "done with /content/drive/MyDrive/MasterThesis/Data/ABIDE_pcp/cpac/filt_global/Pitt_0050037_reho.nii.gz\n",
            "done with /content/drive/MyDrive/MasterThesis/Data/ABIDE_pcp/cpac/filt_global/Pitt_0050038_reho.nii.gz\n",
            "done with /content/drive/MyDrive/MasterThesis/Data/ABIDE_pcp/cpac/filt_global/Pitt_0050039_reho.nii.gz\n",
            "done with /content/drive/MyDrive/MasterThesis/Data/ABIDE_pcp/cpac/filt_global/Pitt_0050040_reho.nii.gz\n",
            "done with /content/drive/MyDrive/MasterThesis/Data/ABIDE_pcp/cpac/filt_global/Pitt_0050041_reho.nii.gz\n",
            "done with /content/drive/MyDrive/MasterThesis/Data/ABIDE_pcp/cpac/filt_global/Pitt_0050042_reho.nii.gz\n",
            "done with /content/drive/MyDrive/MasterThesis/Data/ABIDE_pcp/cpac/filt_global/Pitt_0050043_reho.nii.gz\n",
            "done with /content/drive/MyDrive/MasterThesis/Data/ABIDE_pcp/cpac/filt_global/Pitt_0050044_reho.nii.gz\n",
            "done with /content/drive/MyDrive/MasterThesis/Data/ABIDE_pcp/cpac/filt_global/Pitt_0050045_reho.nii.gz\n",
            "done with /content/drive/MyDrive/MasterThesis/Data/ABIDE_pcp/cpac/filt_global/Pitt_0050046_reho.nii.gz\n",
            "done with /content/drive/MyDrive/MasterThesis/Data/ABIDE_pcp/cpac/filt_global/Pitt_0050047_reho.nii.gz\n",
            "done with /content/drive/MyDrive/MasterThesis/Data/ABIDE_pcp/cpac/filt_global/Pitt_0050048_reho.nii.gz\n",
            "done with /content/drive/MyDrive/MasterThesis/Data/ABIDE_pcp/cpac/filt_global/Pitt_0050049_reho.nii.gz\n",
            "done with /content/drive/MyDrive/MasterThesis/Data/ABIDE_pcp/cpac/filt_global/Pitt_0050050_reho.nii.gz\n",
            "done with /content/drive/MyDrive/MasterThesis/Data/ABIDE_pcp/cpac/filt_global/Pitt_0050051_reho.nii.gz\n",
            "done with /content/drive/MyDrive/MasterThesis/Data/ABIDE_pcp/cpac/filt_global/Pitt_0050052_reho.nii.gz\n",
            "done with /content/drive/MyDrive/MasterThesis/Data/ABIDE_pcp/cpac/filt_global/Pitt_0050053_reho.nii.gz\n",
            "done with /content/drive/MyDrive/MasterThesis/Data/ABIDE_pcp/cpac/filt_global/Pitt_0050054_reho.nii.gz\n",
            "done with /content/drive/MyDrive/MasterThesis/Data/ABIDE_pcp/cpac/filt_global/Pitt_0050056_reho.nii.gz\n",
            "done with /content/drive/MyDrive/MasterThesis/Data/ABIDE_pcp/cpac/filt_global/Pitt_0050057_reho.nii.gz\n",
            "done with /content/drive/MyDrive/MasterThesis/Data/ABIDE_pcp/cpac/filt_global/Pitt_0050059_reho.nii.gz\n",
            "done with /content/drive/MyDrive/MasterThesis/Data/ABIDE_pcp/cpac/filt_global/Pitt_0050060_reho.nii.gz\n",
            "done with /content/drive/MyDrive/MasterThesis/Data/ABIDE_pcp/cpac/filt_global/Olin_0050102_reho.nii.gz\n",
            "done with /content/drive/MyDrive/MasterThesis/Data/ABIDE_pcp/cpac/filt_global/Olin_0050103_reho.nii.gz\n",
            "done with /content/drive/MyDrive/MasterThesis/Data/ABIDE_pcp/cpac/filt_global/Olin_0050104_reho.nii.gz\n",
            "done with /content/drive/MyDrive/MasterThesis/Data/ABIDE_pcp/cpac/filt_global/Olin_0050105_reho.nii.gz\n",
            "done with /content/drive/MyDrive/MasterThesis/Data/ABIDE_pcp/cpac/filt_global/Olin_0050106_reho.nii.gz\n",
            "done with /content/drive/MyDrive/MasterThesis/Data/ABIDE_pcp/cpac/filt_global/Olin_0050107_reho.nii.gz\n",
            "done with /content/drive/MyDrive/MasterThesis/Data/ABIDE_pcp/cpac/filt_global/Olin_0050109_reho.nii.gz\n",
            "done with /content/drive/MyDrive/MasterThesis/Data/ABIDE_pcp/cpac/filt_global/Olin_0050111_reho.nii.gz\n",
            "done with /content/drive/MyDrive/MasterThesis/Data/ABIDE_pcp/cpac/filt_global/Olin_0050112_reho.nii.gz\n",
            "done with /content/drive/MyDrive/MasterThesis/Data/ABIDE_pcp/cpac/filt_global/Olin_0050113_reho.nii.gz\n",
            "done with /content/drive/MyDrive/MasterThesis/Data/ABIDE_pcp/cpac/filt_global/Olin_0050114_reho.nii.gz\n",
            "done with /content/drive/MyDrive/MasterThesis/Data/ABIDE_pcp/cpac/filt_global/Olin_0050115_reho.nii.gz\n",
            "done with /content/drive/MyDrive/MasterThesis/Data/ABIDE_pcp/cpac/filt_global/Olin_0050116_reho.nii.gz\n",
            "done with /content/drive/MyDrive/MasterThesis/Data/ABIDE_pcp/cpac/filt_global/Olin_0050117_reho.nii.gz\n",
            "done with /content/drive/MyDrive/MasterThesis/Data/ABIDE_pcp/cpac/filt_global/Olin_0050118_reho.nii.gz\n",
            "done with /content/drive/MyDrive/MasterThesis/Data/ABIDE_pcp/cpac/filt_global/Olin_0050119_reho.nii.gz\n",
            "done with /content/drive/MyDrive/MasterThesis/Data/ABIDE_pcp/cpac/filt_global/Olin_0050121_reho.nii.gz\n",
            "done with /content/drive/MyDrive/MasterThesis/Data/ABIDE_pcp/cpac/filt_global/Olin_0050123_reho.nii.gz\n",
            "done with /content/drive/MyDrive/MasterThesis/Data/ABIDE_pcp/cpac/filt_global/Olin_0050124_reho.nii.gz\n",
            "done with /content/drive/MyDrive/MasterThesis/Data/ABIDE_pcp/cpac/filt_global/Olin_0050125_reho.nii.gz\n",
            "done with /content/drive/MyDrive/MasterThesis/Data/ABIDE_pcp/cpac/filt_global/Olin_0050127_reho.nii.gz\n",
            "done with /content/drive/MyDrive/MasterThesis/Data/ABIDE_pcp/cpac/filt_global/Olin_0050128_reho.nii.gz\n",
            "done with /content/drive/MyDrive/MasterThesis/Data/ABIDE_pcp/cpac/filt_global/Olin_0050129_reho.nii.gz\n",
            "done with /content/drive/MyDrive/MasterThesis/Data/ABIDE_pcp/cpac/filt_global/Olin_0050130_reho.nii.gz\n",
            "done with /content/drive/MyDrive/MasterThesis/Data/ABIDE_pcp/cpac/filt_global/Olin_0050131_reho.nii.gz\n",
            "done with /content/drive/MyDrive/MasterThesis/Data/ABIDE_pcp/cpac/filt_global/Olin_0050132_reho.nii.gz\n",
            "done with /content/drive/MyDrive/MasterThesis/Data/ABIDE_pcp/cpac/filt_global/Olin_0050134_reho.nii.gz\n",
            "done with /content/drive/MyDrive/MasterThesis/Data/ABIDE_pcp/cpac/filt_global/Olin_0050135_reho.nii.gz\n",
            "done with /content/drive/MyDrive/MasterThesis/Data/ABIDE_pcp/cpac/filt_global/OHSU_0050142_reho.nii.gz\n",
            "done with /content/drive/MyDrive/MasterThesis/Data/ABIDE_pcp/cpac/filt_global/OHSU_0050143_reho.nii.gz\n",
            "done with /content/drive/MyDrive/MasterThesis/Data/ABIDE_pcp/cpac/filt_global/OHSU_0050144_reho.nii.gz\n",
            "done with /content/drive/MyDrive/MasterThesis/Data/ABIDE_pcp/cpac/filt_global/OHSU_0050145_reho.nii.gz\n",
            "done with /content/drive/MyDrive/MasterThesis/Data/ABIDE_pcp/cpac/filt_global/OHSU_0050146_reho.nii.gz\n",
            "done with /content/drive/MyDrive/MasterThesis/Data/ABIDE_pcp/cpac/filt_global/OHSU_0050147_reho.nii.gz\n",
            "done with /content/drive/MyDrive/MasterThesis/Data/ABIDE_pcp/cpac/filt_global/OHSU_0050148_reho.nii.gz\n",
            "done with /content/drive/MyDrive/MasterThesis/Data/ABIDE_pcp/cpac/filt_global/OHSU_0050149_reho.nii.gz\n",
            "done with /content/drive/MyDrive/MasterThesis/Data/ABIDE_pcp/cpac/filt_global/OHSU_0050150_reho.nii.gz\n",
            "done with /content/drive/MyDrive/MasterThesis/Data/ABIDE_pcp/cpac/filt_global/OHSU_0050152_reho.nii.gz\n",
            "done with /content/drive/MyDrive/MasterThesis/Data/ABIDE_pcp/cpac/filt_global/OHSU_0050153_reho.nii.gz\n",
            "done with /content/drive/MyDrive/MasterThesis/Data/ABIDE_pcp/cpac/filt_global/OHSU_0050156_reho.nii.gz\n",
            "done with /content/drive/MyDrive/MasterThesis/Data/ABIDE_pcp/cpac/filt_global/OHSU_0050157_reho.nii.gz\n",
            "done with /content/drive/MyDrive/MasterThesis/Data/ABIDE_pcp/cpac/filt_global/OHSU_0050158_reho.nii.gz\n",
            "done with /content/drive/MyDrive/MasterThesis/Data/ABIDE_pcp/cpac/filt_global/OHSU_0050159_reho.nii.gz\n",
            "done with /content/drive/MyDrive/MasterThesis/Data/ABIDE_pcp/cpac/filt_global/OHSU_0050160_reho.nii.gz\n",
            "done with /content/drive/MyDrive/MasterThesis/Data/ABIDE_pcp/cpac/filt_global/OHSU_0050161_reho.nii.gz\n",
            "done with /content/drive/MyDrive/MasterThesis/Data/ABIDE_pcp/cpac/filt_global/OHSU_0050162_reho.nii.gz\n",
            "done with /content/drive/MyDrive/MasterThesis/Data/ABIDE_pcp/cpac/filt_global/OHSU_0050163_reho.nii.gz\n",
            "done with /content/drive/MyDrive/MasterThesis/Data/ABIDE_pcp/cpac/filt_global/OHSU_0050164_reho.nii.gz\n",
            "done with /content/drive/MyDrive/MasterThesis/Data/ABIDE_pcp/cpac/filt_global/OHSU_0050167_reho.nii.gz\n",
            "done with /content/drive/MyDrive/MasterThesis/Data/ABIDE_pcp/cpac/filt_global/OHSU_0050168_reho.nii.gz\n",
            "done with /content/drive/MyDrive/MasterThesis/Data/ABIDE_pcp/cpac/filt_global/OHSU_0050169_reho.nii.gz\n",
            "done with /content/drive/MyDrive/MasterThesis/Data/ABIDE_pcp/cpac/filt_global/OHSU_0050170_reho.nii.gz\n",
            "done with /content/drive/MyDrive/MasterThesis/Data/ABIDE_pcp/cpac/filt_global/OHSU_0050171_reho.nii.gz\n",
            "done with /content/drive/MyDrive/MasterThesis/Data/ABIDE_pcp/cpac/filt_global/SDSU_0050182_reho.nii.gz\n",
            "done with /content/drive/MyDrive/MasterThesis/Data/ABIDE_pcp/cpac/filt_global/SDSU_0050183_reho.nii.gz\n",
            "done with /content/drive/MyDrive/MasterThesis/Data/ABIDE_pcp/cpac/filt_global/SDSU_0050184_reho.nii.gz\n",
            "done with /content/drive/MyDrive/MasterThesis/Data/ABIDE_pcp/cpac/filt_global/SDSU_0050186_reho.nii.gz\n",
            "done with /content/drive/MyDrive/MasterThesis/Data/ABIDE_pcp/cpac/filt_global/SDSU_0050187_reho.nii.gz\n",
            "done with /content/drive/MyDrive/MasterThesis/Data/ABIDE_pcp/cpac/filt_global/SDSU_0050188_reho.nii.gz\n",
            "done with /content/drive/MyDrive/MasterThesis/Data/ABIDE_pcp/cpac/filt_global/SDSU_0050189_reho.nii.gz\n",
            "done with /content/drive/MyDrive/MasterThesis/Data/ABIDE_pcp/cpac/filt_global/SDSU_0050190_reho.nii.gz\n",
            "done with /content/drive/MyDrive/MasterThesis/Data/ABIDE_pcp/cpac/filt_global/SDSU_0050193_reho.nii.gz\n",
            "done with /content/drive/MyDrive/MasterThesis/Data/ABIDE_pcp/cpac/filt_global/SDSU_0050194_reho.nii.gz\n",
            "done with /content/drive/MyDrive/MasterThesis/Data/ABIDE_pcp/cpac/filt_global/SDSU_0050195_reho.nii.gz\n",
            "done with /content/drive/MyDrive/MasterThesis/Data/ABIDE_pcp/cpac/filt_global/SDSU_0050196_reho.nii.gz\n",
            "done with /content/drive/MyDrive/MasterThesis/Data/ABIDE_pcp/cpac/filt_global/SDSU_0050198_reho.nii.gz\n",
            "done with /content/drive/MyDrive/MasterThesis/Data/ABIDE_pcp/cpac/filt_global/SDSU_0050199_reho.nii.gz\n",
            "done with /content/drive/MyDrive/MasterThesis/Data/ABIDE_pcp/cpac/filt_global/SDSU_0050200_reho.nii.gz\n",
            "done with /content/drive/MyDrive/MasterThesis/Data/ABIDE_pcp/cpac/filt_global/SDSU_0050201_reho.nii.gz\n",
            "done with /content/drive/MyDrive/MasterThesis/Data/ABIDE_pcp/cpac/filt_global/SDSU_0050202_reho.nii.gz\n",
            "done with /content/drive/MyDrive/MasterThesis/Data/ABIDE_pcp/cpac/filt_global/SDSU_0050203_reho.nii.gz\n",
            "done with /content/drive/MyDrive/MasterThesis/Data/ABIDE_pcp/cpac/filt_global/SDSU_0050204_reho.nii.gz\n",
            "done with /content/drive/MyDrive/MasterThesis/Data/ABIDE_pcp/cpac/filt_global/SDSU_0050205_reho.nii.gz\n",
            "done with /content/drive/MyDrive/MasterThesis/Data/ABIDE_pcp/cpac/filt_global/SDSU_0050206_reho.nii.gz\n",
            "done with /content/drive/MyDrive/MasterThesis/Data/ABIDE_pcp/cpac/filt_global/SDSU_0050208_reho.nii.gz\n",
            "done with /content/drive/MyDrive/MasterThesis/Data/ABIDE_pcp/cpac/filt_global/SDSU_0050210_reho.nii.gz\n",
            "done with /content/drive/MyDrive/MasterThesis/Data/ABIDE_pcp/cpac/filt_global/SDSU_0050213_reho.nii.gz\n",
            "done with /content/drive/MyDrive/MasterThesis/Data/ABIDE_pcp/cpac/filt_global/SDSU_0050214_reho.nii.gz\n",
            "done with /content/drive/MyDrive/MasterThesis/Data/ABIDE_pcp/cpac/filt_global/SDSU_0050215_reho.nii.gz\n",
            "done with /content/drive/MyDrive/MasterThesis/Data/ABIDE_pcp/cpac/filt_global/SDSU_0050217_reho.nii.gz\n",
            "done with /content/drive/MyDrive/MasterThesis/Data/ABIDE_pcp/cpac/filt_global/Trinity_0050232_reho.nii.gz\n",
            "done with /content/drive/MyDrive/MasterThesis/Data/ABIDE_pcp/cpac/filt_global/Trinity_0050233_reho.nii.gz\n",
            "done with /content/drive/MyDrive/MasterThesis/Data/ABIDE_pcp/cpac/filt_global/Trinity_0050234_reho.nii.gz\n",
            "done with /content/drive/MyDrive/MasterThesis/Data/ABIDE_pcp/cpac/filt_global/Trinity_0050236_reho.nii.gz\n",
            "done with /content/drive/MyDrive/MasterThesis/Data/ABIDE_pcp/cpac/filt_global/Trinity_0050237_reho.nii.gz\n",
            "done with /content/drive/MyDrive/MasterThesis/Data/ABIDE_pcp/cpac/filt_global/Trinity_0050239_reho.nii.gz\n",
            "done with /content/drive/MyDrive/MasterThesis/Data/ABIDE_pcp/cpac/filt_global/Trinity_0050240_reho.nii.gz\n",
            "done with /content/drive/MyDrive/MasterThesis/Data/ABIDE_pcp/cpac/filt_global/Trinity_0050241_reho.nii.gz\n",
            "done with /content/drive/MyDrive/MasterThesis/Data/ABIDE_pcp/cpac/filt_global/Trinity_0050243_reho.nii.gz\n",
            "done with /content/drive/MyDrive/MasterThesis/Data/ABIDE_pcp/cpac/filt_global/Trinity_0050245_reho.nii.gz\n",
            "done with /content/drive/MyDrive/MasterThesis/Data/ABIDE_pcp/cpac/filt_global/Trinity_0050247_reho.nii.gz\n",
            "done with /content/drive/MyDrive/MasterThesis/Data/ABIDE_pcp/cpac/filt_global/Trinity_0050248_reho.nii.gz\n",
            "done with /content/drive/MyDrive/MasterThesis/Data/ABIDE_pcp/cpac/filt_global/Trinity_0050249_reho.nii.gz\n",
            "done with /content/drive/MyDrive/MasterThesis/Data/ABIDE_pcp/cpac/filt_global/Trinity_0050250_reho.nii.gz\n",
            "done with /content/drive/MyDrive/MasterThesis/Data/ABIDE_pcp/cpac/filt_global/Trinity_0050251_reho.nii.gz\n",
            "done with /content/drive/MyDrive/MasterThesis/Data/ABIDE_pcp/cpac/filt_global/Trinity_0050252_reho.nii.gz\n",
            "done with /content/drive/MyDrive/MasterThesis/Data/ABIDE_pcp/cpac/filt_global/Trinity_0050253_reho.nii.gz\n",
            "done with /content/drive/MyDrive/MasterThesis/Data/ABIDE_pcp/cpac/filt_global/Trinity_0050254_reho.nii.gz\n",
            "done with /content/drive/MyDrive/MasterThesis/Data/ABIDE_pcp/cpac/filt_global/Trinity_0050255_reho.nii.gz\n",
            "done with /content/drive/MyDrive/MasterThesis/Data/ABIDE_pcp/cpac/filt_global/Trinity_0050257_reho.nii.gz\n",
            "done with /content/drive/MyDrive/MasterThesis/Data/ABIDE_pcp/cpac/filt_global/Trinity_0050259_reho.nii.gz\n",
            "done with /content/drive/MyDrive/MasterThesis/Data/ABIDE_pcp/cpac/filt_global/Trinity_0050260_reho.nii.gz\n",
            "done with /content/drive/MyDrive/MasterThesis/Data/ABIDE_pcp/cpac/filt_global/Trinity_0050261_reho.nii.gz\n",
            "done with /content/drive/MyDrive/MasterThesis/Data/ABIDE_pcp/cpac/filt_global/Trinity_0050262_reho.nii.gz\n",
            "done with /content/drive/MyDrive/MasterThesis/Data/ABIDE_pcp/cpac/filt_global/Trinity_0050263_reho.nii.gz\n",
            "done with /content/drive/MyDrive/MasterThesis/Data/ABIDE_pcp/cpac/filt_global/Trinity_0050264_reho.nii.gz\n",
            "done with /content/drive/MyDrive/MasterThesis/Data/ABIDE_pcp/cpac/filt_global/Trinity_0050265_reho.nii.gz\n",
            "done with /content/drive/MyDrive/MasterThesis/Data/ABIDE_pcp/cpac/filt_global/Trinity_0050266_reho.nii.gz\n",
            "done with /content/drive/MyDrive/MasterThesis/Data/ABIDE_pcp/cpac/filt_global/Trinity_0050267_reho.nii.gz\n",
            "done with /content/drive/MyDrive/MasterThesis/Data/ABIDE_pcp/cpac/filt_global/Trinity_0050268_reho.nii.gz\n",
            "done with /content/drive/MyDrive/MasterThesis/Data/ABIDE_pcp/cpac/filt_global/Trinity_0050269_reho.nii.gz\n",
            "done with /content/drive/MyDrive/MasterThesis/Data/ABIDE_pcp/cpac/filt_global/Trinity_0050270_reho.nii.gz\n",
            "done with /content/drive/MyDrive/MasterThesis/Data/ABIDE_pcp/cpac/filt_global/Trinity_0050271_reho.nii.gz\n",
            "done with /content/drive/MyDrive/MasterThesis/Data/ABIDE_pcp/cpac/filt_global/UM_1_0050272_reho.nii.gz\n",
            "done with /content/drive/MyDrive/MasterThesis/Data/ABIDE_pcp/cpac/filt_global/UM_1_0050273_reho.nii.gz\n",
            "done with /content/drive/MyDrive/MasterThesis/Data/ABIDE_pcp/cpac/filt_global/UM_1_0050274_reho.nii.gz\n",
            "done with /content/drive/MyDrive/MasterThesis/Data/ABIDE_pcp/cpac/filt_global/UM_1_0050275_reho.nii.gz\n",
            "done with /content/drive/MyDrive/MasterThesis/Data/ABIDE_pcp/cpac/filt_global/UM_1_0050276_reho.nii.gz\n",
            "done with /content/drive/MyDrive/MasterThesis/Data/ABIDE_pcp/cpac/filt_global/UM_1_0050278_reho.nii.gz\n",
            "done with /content/drive/MyDrive/MasterThesis/Data/ABIDE_pcp/cpac/filt_global/UM_1_0050282_reho.nii.gz\n",
            "done with /content/drive/MyDrive/MasterThesis/Data/ABIDE_pcp/cpac/filt_global/UM_1_0050284_reho.nii.gz\n",
            "done with /content/drive/MyDrive/MasterThesis/Data/ABIDE_pcp/cpac/filt_global/UM_1_0050285_reho.nii.gz\n",
            "done with /content/drive/MyDrive/MasterThesis/Data/ABIDE_pcp/cpac/filt_global/UM_1_0050287_reho.nii.gz\n",
            "done with /content/drive/MyDrive/MasterThesis/Data/ABIDE_pcp/cpac/filt_global/UM_1_0050289_reho.nii.gz\n",
            "done with /content/drive/MyDrive/MasterThesis/Data/ABIDE_pcp/cpac/filt_global/UM_1_0050290_reho.nii.gz\n",
            "done with /content/drive/MyDrive/MasterThesis/Data/ABIDE_pcp/cpac/filt_global/UM_1_0050291_reho.nii.gz\n",
            "done with /content/drive/MyDrive/MasterThesis/Data/ABIDE_pcp/cpac/filt_global/UM_1_0050292_reho.nii.gz\n",
            "done with /content/drive/MyDrive/MasterThesis/Data/ABIDE_pcp/cpac/filt_global/UM_1_0050293_reho.nii.gz\n",
            "done with /content/drive/MyDrive/MasterThesis/Data/ABIDE_pcp/cpac/filt_global/UM_1_0050294_reho.nii.gz\n",
            "done with /content/drive/MyDrive/MasterThesis/Data/ABIDE_pcp/cpac/filt_global/UM_1_0050295_reho.nii.gz\n",
            "done with /content/drive/MyDrive/MasterThesis/Data/ABIDE_pcp/cpac/filt_global/UM_1_0050297_reho.nii.gz\n",
            "done with /content/drive/MyDrive/MasterThesis/Data/ABIDE_pcp/cpac/filt_global/UM_1_0050298_reho.nii.gz\n",
            "done with /content/drive/MyDrive/MasterThesis/Data/ABIDE_pcp/cpac/filt_global/UM_1_0050300_reho.nii.gz\n",
            "done with /content/drive/MyDrive/MasterThesis/Data/ABIDE_pcp/cpac/filt_global/UM_1_0050301_reho.nii.gz\n",
            "done with /content/drive/MyDrive/MasterThesis/Data/ABIDE_pcp/cpac/filt_global/UM_1_0050302_reho.nii.gz\n",
            "done with /content/drive/MyDrive/MasterThesis/Data/ABIDE_pcp/cpac/filt_global/UM_1_0050304_reho.nii.gz\n",
            "done with /content/drive/MyDrive/MasterThesis/Data/ABIDE_pcp/cpac/filt_global/UM_1_0050308_reho.nii.gz\n",
            "done with /content/drive/MyDrive/MasterThesis/Data/ABIDE_pcp/cpac/filt_global/UM_1_0050310_reho.nii.gz\n",
            "done with /content/drive/MyDrive/MasterThesis/Data/ABIDE_pcp/cpac/filt_global/UM_1_0050312_reho.nii.gz\n",
            "done with /content/drive/MyDrive/MasterThesis/Data/ABIDE_pcp/cpac/filt_global/UM_1_0050314_reho.nii.gz\n",
            "done with /content/drive/MyDrive/MasterThesis/Data/ABIDE_pcp/cpac/filt_global/UM_1_0050315_reho.nii.gz\n",
            "done with /content/drive/MyDrive/MasterThesis/Data/ABIDE_pcp/cpac/filt_global/UM_1_0050318_reho.nii.gz\n",
            "done with /content/drive/MyDrive/MasterThesis/Data/ABIDE_pcp/cpac/filt_global/UM_1_0050319_reho.nii.gz\n",
            "done with /content/drive/MyDrive/MasterThesis/Data/ABIDE_pcp/cpac/filt_global/UM_1_0050320_reho.nii.gz\n",
            "done with /content/drive/MyDrive/MasterThesis/Data/ABIDE_pcp/cpac/filt_global/UM_1_0050321_reho.nii.gz\n",
            "done with /content/drive/MyDrive/MasterThesis/Data/ABIDE_pcp/cpac/filt_global/UM_1_0050324_reho.nii.gz\n",
            "done with /content/drive/MyDrive/MasterThesis/Data/ABIDE_pcp/cpac/filt_global/UM_1_0050325_reho.nii.gz\n",
            "done with /content/drive/MyDrive/MasterThesis/Data/ABIDE_pcp/cpac/filt_global/UM_1_0050327_reho.nii.gz\n",
            "done with /content/drive/MyDrive/MasterThesis/Data/ABIDE_pcp/cpac/filt_global/UM_1_0050329_reho.nii.gz\n",
            "done with /content/drive/MyDrive/MasterThesis/Data/ABIDE_pcp/cpac/filt_global/UM_1_0050330_reho.nii.gz\n",
            "done with /content/drive/MyDrive/MasterThesis/Data/ABIDE_pcp/cpac/filt_global/UM_1_0050331_reho.nii.gz\n",
            "done with /content/drive/MyDrive/MasterThesis/Data/ABIDE_pcp/cpac/filt_global/UM_1_0050332_reho.nii.gz\n",
            "done with /content/drive/MyDrive/MasterThesis/Data/ABIDE_pcp/cpac/filt_global/UM_1_0050333_reho.nii.gz\n",
            "done with /content/drive/MyDrive/MasterThesis/Data/ABIDE_pcp/cpac/filt_global/UM_1_0050334_reho.nii.gz\n",
            "done with /content/drive/MyDrive/MasterThesis/Data/ABIDE_pcp/cpac/filt_global/UM_1_0050335_reho.nii.gz\n",
            "done with /content/drive/MyDrive/MasterThesis/Data/ABIDE_pcp/cpac/filt_global/UM_1_0050336_reho.nii.gz\n",
            "done with /content/drive/MyDrive/MasterThesis/Data/ABIDE_pcp/cpac/filt_global/UM_1_0050337_reho.nii.gz\n",
            "done with /content/drive/MyDrive/MasterThesis/Data/ABIDE_pcp/cpac/filt_global/UM_1_0050338_reho.nii.gz\n",
            "done with /content/drive/MyDrive/MasterThesis/Data/ABIDE_pcp/cpac/filt_global/UM_1_0050339_reho.nii.gz\n",
            "done with /content/drive/MyDrive/MasterThesis/Data/ABIDE_pcp/cpac/filt_global/UM_1_0050340_reho.nii.gz\n",
            "done with /content/drive/MyDrive/MasterThesis/Data/ABIDE_pcp/cpac/filt_global/UM_1_0050341_reho.nii.gz\n",
            "done with /content/drive/MyDrive/MasterThesis/Data/ABIDE_pcp/cpac/filt_global/UM_1_0050342_reho.nii.gz\n",
            "done with /content/drive/MyDrive/MasterThesis/Data/ABIDE_pcp/cpac/filt_global/UM_1_0050343_reho.nii.gz\n",
            "done with /content/drive/MyDrive/MasterThesis/Data/ABIDE_pcp/cpac/filt_global/UM_1_0050344_reho.nii.gz\n",
            "done with /content/drive/MyDrive/MasterThesis/Data/ABIDE_pcp/cpac/filt_global/UM_1_0050345_reho.nii.gz\n",
            "done with /content/drive/MyDrive/MasterThesis/Data/ABIDE_pcp/cpac/filt_global/UM_1_0050346_reho.nii.gz\n",
            "done with /content/drive/MyDrive/MasterThesis/Data/ABIDE_pcp/cpac/filt_global/UM_1_0050347_reho.nii.gz\n",
            "done with /content/drive/MyDrive/MasterThesis/Data/ABIDE_pcp/cpac/filt_global/UM_1_0050348_reho.nii.gz\n",
            "done with /content/drive/MyDrive/MasterThesis/Data/ABIDE_pcp/cpac/filt_global/UM_1_0050349_reho.nii.gz\n",
            "done with /content/drive/MyDrive/MasterThesis/Data/ABIDE_pcp/cpac/filt_global/UM_1_0050350_reho.nii.gz\n",
            "done with /content/drive/MyDrive/MasterThesis/Data/ABIDE_pcp/cpac/filt_global/UM_1_0050351_reho.nii.gz\n",
            "done with /content/drive/MyDrive/MasterThesis/Data/ABIDE_pcp/cpac/filt_global/UM_1_0050352_reho.nii.gz\n",
            "done with /content/drive/MyDrive/MasterThesis/Data/ABIDE_pcp/cpac/filt_global/UM_1_0050353_reho.nii.gz\n",
            "done with /content/drive/MyDrive/MasterThesis/Data/ABIDE_pcp/cpac/filt_global/UM_1_0050354_reho.nii.gz\n",
            "done with /content/drive/MyDrive/MasterThesis/Data/ABIDE_pcp/cpac/filt_global/UM_1_0050355_reho.nii.gz\n",
            "done with /content/drive/MyDrive/MasterThesis/Data/ABIDE_pcp/cpac/filt_global/UM_1_0050356_reho.nii.gz\n",
            "done with /content/drive/MyDrive/MasterThesis/Data/ABIDE_pcp/cpac/filt_global/UM_1_0050357_reho.nii.gz\n",
            "done with /content/drive/MyDrive/MasterThesis/Data/ABIDE_pcp/cpac/filt_global/UM_1_0050358_reho.nii.gz\n",
            "done with /content/drive/MyDrive/MasterThesis/Data/ABIDE_pcp/cpac/filt_global/UM_1_0050359_reho.nii.gz\n",
            "done with /content/drive/MyDrive/MasterThesis/Data/ABIDE_pcp/cpac/filt_global/UM_1_0050360_reho.nii.gz\n",
            "done with /content/drive/MyDrive/MasterThesis/Data/ABIDE_pcp/cpac/filt_global/UM_1_0050361_reho.nii.gz\n",
            "done with /content/drive/MyDrive/MasterThesis/Data/ABIDE_pcp/cpac/filt_global/UM_1_0050362_reho.nii.gz\n",
            "done with /content/drive/MyDrive/MasterThesis/Data/ABIDE_pcp/cpac/filt_global/UM_1_0050363_reho.nii.gz\n",
            "done with /content/drive/MyDrive/MasterThesis/Data/ABIDE_pcp/cpac/filt_global/UM_1_0050364_reho.nii.gz\n",
            "done with /content/drive/MyDrive/MasterThesis/Data/ABIDE_pcp/cpac/filt_global/UM_1_0050365_reho.nii.gz\n",
            "done with /content/drive/MyDrive/MasterThesis/Data/ABIDE_pcp/cpac/filt_global/UM_1_0050366_reho.nii.gz\n",
            "done with /content/drive/MyDrive/MasterThesis/Data/ABIDE_pcp/cpac/filt_global/UM_1_0050367_reho.nii.gz\n",
            "done with /content/drive/MyDrive/MasterThesis/Data/ABIDE_pcp/cpac/filt_global/UM_1_0050368_reho.nii.gz\n",
            "done with /content/drive/MyDrive/MasterThesis/Data/ABIDE_pcp/cpac/filt_global/UM_1_0050369_reho.nii.gz\n",
            "done with /content/drive/MyDrive/MasterThesis/Data/ABIDE_pcp/cpac/filt_global/UM_1_0050370_reho.nii.gz\n",
            "done with /content/drive/MyDrive/MasterThesis/Data/ABIDE_pcp/cpac/filt_global/UM_1_0050372_reho.nii.gz\n",
            "done with /content/drive/MyDrive/MasterThesis/Data/ABIDE_pcp/cpac/filt_global/UM_1_0050373_reho.nii.gz\n",
            "done with /content/drive/MyDrive/MasterThesis/Data/ABIDE_pcp/cpac/filt_global/UM_1_0050374_reho.nii.gz\n",
            "done with /content/drive/MyDrive/MasterThesis/Data/ABIDE_pcp/cpac/filt_global/UM_1_0050375_reho.nii.gz\n",
            "done with /content/drive/MyDrive/MasterThesis/Data/ABIDE_pcp/cpac/filt_global/UM_1_0050376_reho.nii.gz\n",
            "done with /content/drive/MyDrive/MasterThesis/Data/ABIDE_pcp/cpac/filt_global/UM_1_0050377_reho.nii.gz\n",
            "done with /content/drive/MyDrive/MasterThesis/Data/ABIDE_pcp/cpac/filt_global/UM_1_0050379_reho.nii.gz\n",
            "done with /content/drive/MyDrive/MasterThesis/Data/ABIDE_pcp/cpac/filt_global/UM_1_0050380_reho.nii.gz\n",
            "done with /content/drive/MyDrive/MasterThesis/Data/ABIDE_pcp/cpac/filt_global/UM_1_0050381_reho.nii.gz\n",
            "done with /content/drive/MyDrive/MasterThesis/Data/ABIDE_pcp/cpac/filt_global/UM_2_0050382_reho.nii.gz\n",
            "done with /content/drive/MyDrive/MasterThesis/Data/ABIDE_pcp/cpac/filt_global/UM_2_0050383_reho.nii.gz\n",
            "done with /content/drive/MyDrive/MasterThesis/Data/ABIDE_pcp/cpac/filt_global/UM_2_0050385_reho.nii.gz\n",
            "done with /content/drive/MyDrive/MasterThesis/Data/ABIDE_pcp/cpac/filt_global/UM_2_0050386_reho.nii.gz\n",
            "done with /content/drive/MyDrive/MasterThesis/Data/ABIDE_pcp/cpac/filt_global/UM_2_0050387_reho.nii.gz\n",
            "done with /content/drive/MyDrive/MasterThesis/Data/ABIDE_pcp/cpac/filt_global/UM_2_0050388_reho.nii.gz\n",
            "done with /content/drive/MyDrive/MasterThesis/Data/ABIDE_pcp/cpac/filt_global/UM_2_0050390_reho.nii.gz\n",
            "done with /content/drive/MyDrive/MasterThesis/Data/ABIDE_pcp/cpac/filt_global/UM_2_0050391_reho.nii.gz\n",
            "done with /content/drive/MyDrive/MasterThesis/Data/ABIDE_pcp/cpac/filt_global/UM_2_0050397_reho.nii.gz\n",
            "done with /content/drive/MyDrive/MasterThesis/Data/ABIDE_pcp/cpac/filt_global/UM_2_0050399_reho.nii.gz\n",
            "done with /content/drive/MyDrive/MasterThesis/Data/ABIDE_pcp/cpac/filt_global/UM_2_0050402_reho.nii.gz\n",
            "done with /content/drive/MyDrive/MasterThesis/Data/ABIDE_pcp/cpac/filt_global/UM_2_0050403_reho.nii.gz\n",
            "done with /content/drive/MyDrive/MasterThesis/Data/ABIDE_pcp/cpac/filt_global/UM_2_0050404_reho.nii.gz\n",
            "done with /content/drive/MyDrive/MasterThesis/Data/ABIDE_pcp/cpac/filt_global/UM_2_0050405_reho.nii.gz\n",
            "done with /content/drive/MyDrive/MasterThesis/Data/ABIDE_pcp/cpac/filt_global/UM_2_0050406_reho.nii.gz\n",
            "done with /content/drive/MyDrive/MasterThesis/Data/ABIDE_pcp/cpac/filt_global/UM_2_0050407_reho.nii.gz\n",
            "done with /content/drive/MyDrive/MasterThesis/Data/ABIDE_pcp/cpac/filt_global/UM_2_0050408_reho.nii.gz\n",
            "done with /content/drive/MyDrive/MasterThesis/Data/ABIDE_pcp/cpac/filt_global/UM_2_0050410_reho.nii.gz\n",
            "done with /content/drive/MyDrive/MasterThesis/Data/ABIDE_pcp/cpac/filt_global/UM_2_0050411_reho.nii.gz\n",
            "done with /content/drive/MyDrive/MasterThesis/Data/ABIDE_pcp/cpac/filt_global/UM_2_0050412_reho.nii.gz\n",
            "done with /content/drive/MyDrive/MasterThesis/Data/ABIDE_pcp/cpac/filt_global/UM_2_0050413_reho.nii.gz\n",
            "done with /content/drive/MyDrive/MasterThesis/Data/ABIDE_pcp/cpac/filt_global/UM_2_0050414_reho.nii.gz\n",
            "done with /content/drive/MyDrive/MasterThesis/Data/ABIDE_pcp/cpac/filt_global/UM_2_0050415_reho.nii.gz\n",
            "done with /content/drive/MyDrive/MasterThesis/Data/ABIDE_pcp/cpac/filt_global/UM_2_0050416_reho.nii.gz\n",
            "done with /content/drive/MyDrive/MasterThesis/Data/ABIDE_pcp/cpac/filt_global/UM_2_0050417_reho.nii.gz\n",
            "done with /content/drive/MyDrive/MasterThesis/Data/ABIDE_pcp/cpac/filt_global/UM_2_0050418_reho.nii.gz\n",
            "done with /content/drive/MyDrive/MasterThesis/Data/ABIDE_pcp/cpac/filt_global/UM_2_0050419_reho.nii.gz\n",
            "done with /content/drive/MyDrive/MasterThesis/Data/ABIDE_pcp/cpac/filt_global/UM_2_0050421_reho.nii.gz\n",
            "done with /content/drive/MyDrive/MasterThesis/Data/ABIDE_pcp/cpac/filt_global/UM_2_0050422_reho.nii.gz\n",
            "done with /content/drive/MyDrive/MasterThesis/Data/ABIDE_pcp/cpac/filt_global/UM_2_0050424_reho.nii.gz\n",
            "done with /content/drive/MyDrive/MasterThesis/Data/ABIDE_pcp/cpac/filt_global/UM_2_0050425_reho.nii.gz\n",
            "done with /content/drive/MyDrive/MasterThesis/Data/ABIDE_pcp/cpac/filt_global/UM_2_0050426_reho.nii.gz\n",
            "done with /content/drive/MyDrive/MasterThesis/Data/ABIDE_pcp/cpac/filt_global/UM_2_0050427_reho.nii.gz\n",
            "done with /content/drive/MyDrive/MasterThesis/Data/ABIDE_pcp/cpac/filt_global/UM_2_0050428_reho.nii.gz\n",
            "done with /content/drive/MyDrive/MasterThesis/Data/ABIDE_pcp/cpac/filt_global/USM_0050433_reho.nii.gz\n",
            "done with /content/drive/MyDrive/MasterThesis/Data/ABIDE_pcp/cpac/filt_global/USM_0050434_reho.nii.gz\n",
            "done with /content/drive/MyDrive/MasterThesis/Data/ABIDE_pcp/cpac/filt_global/USM_0050435_reho.nii.gz\n",
            "done with /content/drive/MyDrive/MasterThesis/Data/ABIDE_pcp/cpac/filt_global/USM_0050436_reho.nii.gz\n",
            "done with /content/drive/MyDrive/MasterThesis/Data/ABIDE_pcp/cpac/filt_global/USM_0050437_reho.nii.gz\n",
            "done with /content/drive/MyDrive/MasterThesis/Data/ABIDE_pcp/cpac/filt_global/USM_0050438_reho.nii.gz\n",
            "done with /content/drive/MyDrive/MasterThesis/Data/ABIDE_pcp/cpac/filt_global/USM_0050439_reho.nii.gz\n",
            "done with /content/drive/MyDrive/MasterThesis/Data/ABIDE_pcp/cpac/filt_global/USM_0050440_reho.nii.gz\n",
            "done with /content/drive/MyDrive/MasterThesis/Data/ABIDE_pcp/cpac/filt_global/USM_0050441_reho.nii.gz\n",
            "done with /content/drive/MyDrive/MasterThesis/Data/ABIDE_pcp/cpac/filt_global/USM_0050442_reho.nii.gz\n",
            "done with /content/drive/MyDrive/MasterThesis/Data/ABIDE_pcp/cpac/filt_global/USM_0050443_reho.nii.gz\n",
            "done with /content/drive/MyDrive/MasterThesis/Data/ABIDE_pcp/cpac/filt_global/USM_0050444_reho.nii.gz\n",
            "done with /content/drive/MyDrive/MasterThesis/Data/ABIDE_pcp/cpac/filt_global/USM_0050445_reho.nii.gz\n",
            "done with /content/drive/MyDrive/MasterThesis/Data/ABIDE_pcp/cpac/filt_global/USM_0050446_reho.nii.gz\n",
            "done with /content/drive/MyDrive/MasterThesis/Data/ABIDE_pcp/cpac/filt_global/USM_0050447_reho.nii.gz\n",
            "done with /content/drive/MyDrive/MasterThesis/Data/ABIDE_pcp/cpac/filt_global/USM_0050448_reho.nii.gz\n",
            "done with /content/drive/MyDrive/MasterThesis/Data/ABIDE_pcp/cpac/filt_global/USM_0050449_reho.nii.gz\n",
            "done with /content/drive/MyDrive/MasterThesis/Data/ABIDE_pcp/cpac/filt_global/USM_0050453_reho.nii.gz\n",
            "done with /content/drive/MyDrive/MasterThesis/Data/ABIDE_pcp/cpac/filt_global/USM_0050463_reho.nii.gz\n",
            "done with /content/drive/MyDrive/MasterThesis/Data/ABIDE_pcp/cpac/filt_global/USM_0050466_reho.nii.gz\n",
            "done with /content/drive/MyDrive/MasterThesis/Data/ABIDE_pcp/cpac/filt_global/USM_0050467_reho.nii.gz\n",
            "done with /content/drive/MyDrive/MasterThesis/Data/ABIDE_pcp/cpac/filt_global/USM_0050468_reho.nii.gz\n",
            "done with /content/drive/MyDrive/MasterThesis/Data/ABIDE_pcp/cpac/filt_global/USM_0050469_reho.nii.gz\n",
            "done with /content/drive/MyDrive/MasterThesis/Data/ABIDE_pcp/cpac/filt_global/USM_0050470_reho.nii.gz\n",
            "done with /content/drive/MyDrive/MasterThesis/Data/ABIDE_pcp/cpac/filt_global/USM_0050477_reho.nii.gz\n",
            "done with /content/drive/MyDrive/MasterThesis/Data/ABIDE_pcp/cpac/filt_global/USM_0050480_reho.nii.gz\n",
            "done with /content/drive/MyDrive/MasterThesis/Data/ABIDE_pcp/cpac/filt_global/USM_0050481_reho.nii.gz\n",
            "done with /content/drive/MyDrive/MasterThesis/Data/ABIDE_pcp/cpac/filt_global/USM_0050482_reho.nii.gz\n",
            "done with /content/drive/MyDrive/MasterThesis/Data/ABIDE_pcp/cpac/filt_global/USM_0050483_reho.nii.gz\n",
            "done with /content/drive/MyDrive/MasterThesis/Data/ABIDE_pcp/cpac/filt_global/USM_0050485_reho.nii.gz\n",
            "done with /content/drive/MyDrive/MasterThesis/Data/ABIDE_pcp/cpac/filt_global/USM_0050486_reho.nii.gz\n",
            "done with /content/drive/MyDrive/MasterThesis/Data/ABIDE_pcp/cpac/filt_global/USM_0050487_reho.nii.gz\n",
            "done with /content/drive/MyDrive/MasterThesis/Data/ABIDE_pcp/cpac/filt_global/USM_0050488_reho.nii.gz\n",
            "done with /content/drive/MyDrive/MasterThesis/Data/ABIDE_pcp/cpac/filt_global/USM_0050490_reho.nii.gz\n",
            "done with /content/drive/MyDrive/MasterThesis/Data/ABIDE_pcp/cpac/filt_global/USM_0050491_reho.nii.gz\n",
            "done with /content/drive/MyDrive/MasterThesis/Data/ABIDE_pcp/cpac/filt_global/USM_0050492_reho.nii.gz\n",
            "done with /content/drive/MyDrive/MasterThesis/Data/ABIDE_pcp/cpac/filt_global/USM_0050493_reho.nii.gz\n",
            "done with /content/drive/MyDrive/MasterThesis/Data/ABIDE_pcp/cpac/filt_global/USM_0050494_reho.nii.gz\n",
            "done with /content/drive/MyDrive/MasterThesis/Data/ABIDE_pcp/cpac/filt_global/USM_0050496_reho.nii.gz\n",
            "done with /content/drive/MyDrive/MasterThesis/Data/ABIDE_pcp/cpac/filt_global/USM_0050497_reho.nii.gz\n",
            "done with /content/drive/MyDrive/MasterThesis/Data/ABIDE_pcp/cpac/filt_global/USM_0050498_reho.nii.gz\n",
            "done with /content/drive/MyDrive/MasterThesis/Data/ABIDE_pcp/cpac/filt_global/USM_0050499_reho.nii.gz\n",
            "done with /content/drive/MyDrive/MasterThesis/Data/ABIDE_pcp/cpac/filt_global/USM_0050500_reho.nii.gz\n",
            "done with /content/drive/MyDrive/MasterThesis/Data/ABIDE_pcp/cpac/filt_global/USM_0050501_reho.nii.gz\n",
            "done with /content/drive/MyDrive/MasterThesis/Data/ABIDE_pcp/cpac/filt_global/USM_0050502_reho.nii.gz\n",
            "done with /content/drive/MyDrive/MasterThesis/Data/ABIDE_pcp/cpac/filt_global/USM_0050503_reho.nii.gz\n",
            "done with /content/drive/MyDrive/MasterThesis/Data/ABIDE_pcp/cpac/filt_global/USM_0050504_reho.nii.gz\n",
            "done with /content/drive/MyDrive/MasterThesis/Data/ABIDE_pcp/cpac/filt_global/USM_0050507_reho.nii.gz\n",
            "done with /content/drive/MyDrive/MasterThesis/Data/ABIDE_pcp/cpac/filt_global/USM_0050509_reho.nii.gz\n",
            "done with /content/drive/MyDrive/MasterThesis/Data/ABIDE_pcp/cpac/filt_global/USM_0050510_reho.nii.gz\n",
            "done with /content/drive/MyDrive/MasterThesis/Data/ABIDE_pcp/cpac/filt_global/USM_0050514_reho.nii.gz\n",
            "done with /content/drive/MyDrive/MasterThesis/Data/ABIDE_pcp/cpac/filt_global/USM_0050515_reho.nii.gz\n",
            "done with /content/drive/MyDrive/MasterThesis/Data/ABIDE_pcp/cpac/filt_global/USM_0050516_reho.nii.gz\n",
            "done with /content/drive/MyDrive/MasterThesis/Data/ABIDE_pcp/cpac/filt_global/USM_0050518_reho.nii.gz\n",
            "done with /content/drive/MyDrive/MasterThesis/Data/ABIDE_pcp/cpac/filt_global/USM_0050519_reho.nii.gz\n",
            "done with /content/drive/MyDrive/MasterThesis/Data/ABIDE_pcp/cpac/filt_global/USM_0050520_reho.nii.gz\n",
            "done with /content/drive/MyDrive/MasterThesis/Data/ABIDE_pcp/cpac/filt_global/USM_0050521_reho.nii.gz\n",
            "done with /content/drive/MyDrive/MasterThesis/Data/ABIDE_pcp/cpac/filt_global/USM_0050523_reho.nii.gz\n",
            "done with /content/drive/MyDrive/MasterThesis/Data/ABIDE_pcp/cpac/filt_global/USM_0050524_reho.nii.gz\n",
            "done with /content/drive/MyDrive/MasterThesis/Data/ABIDE_pcp/cpac/filt_global/USM_0050525_reho.nii.gz\n",
            "done with /content/drive/MyDrive/MasterThesis/Data/ABIDE_pcp/cpac/filt_global/USM_0050526_reho.nii.gz\n",
            "done with /content/drive/MyDrive/MasterThesis/Data/ABIDE_pcp/cpac/filt_global/USM_0050527_reho.nii.gz\n",
            "done with /content/drive/MyDrive/MasterThesis/Data/ABIDE_pcp/cpac/filt_global/USM_0050528_reho.nii.gz\n",
            "done with /content/drive/MyDrive/MasterThesis/Data/ABIDE_pcp/cpac/filt_global/USM_0050529_reho.nii.gz\n",
            "done with /content/drive/MyDrive/MasterThesis/Data/ABIDE_pcp/cpac/filt_global/USM_0050530_reho.nii.gz\n",
            "done with /content/drive/MyDrive/MasterThesis/Data/ABIDE_pcp/cpac/filt_global/USM_0050531_reho.nii.gz\n",
            "done with /content/drive/MyDrive/MasterThesis/Data/ABIDE_pcp/cpac/filt_global/USM_0050532_reho.nii.gz\n",
            "done with /content/drive/MyDrive/MasterThesis/Data/ABIDE_pcp/cpac/filt_global/Yale_0050551_reho.nii.gz\n",
            "done with /content/drive/MyDrive/MasterThesis/Data/ABIDE_pcp/cpac/filt_global/Yale_0050552_reho.nii.gz\n",
            "done with /content/drive/MyDrive/MasterThesis/Data/ABIDE_pcp/cpac/filt_global/Yale_0050555_reho.nii.gz\n",
            "done with /content/drive/MyDrive/MasterThesis/Data/ABIDE_pcp/cpac/filt_global/Yale_0050557_reho.nii.gz\n",
            "done with /content/drive/MyDrive/MasterThesis/Data/ABIDE_pcp/cpac/filt_global/Yale_0050558_reho.nii.gz\n",
            "done with /content/drive/MyDrive/MasterThesis/Data/ABIDE_pcp/cpac/filt_global/Yale_0050561_reho.nii.gz\n",
            "done with /content/drive/MyDrive/MasterThesis/Data/ABIDE_pcp/cpac/filt_global/Yale_0050563_reho.nii.gz\n",
            "done with /content/drive/MyDrive/MasterThesis/Data/ABIDE_pcp/cpac/filt_global/Yale_0050565_reho.nii.gz\n",
            "done with /content/drive/MyDrive/MasterThesis/Data/ABIDE_pcp/cpac/filt_global/Yale_0050568_reho.nii.gz\n",
            "done with /content/drive/MyDrive/MasterThesis/Data/ABIDE_pcp/cpac/filt_global/Yale_0050569_reho.nii.gz\n",
            "done with /content/drive/MyDrive/MasterThesis/Data/ABIDE_pcp/cpac/filt_global/Yale_0050570_reho.nii.gz\n",
            "done with /content/drive/MyDrive/MasterThesis/Data/ABIDE_pcp/cpac/filt_global/Yale_0050571_reho.nii.gz\n",
            "done with /content/drive/MyDrive/MasterThesis/Data/ABIDE_pcp/cpac/filt_global/Yale_0050572_reho.nii.gz\n",
            "done with /content/drive/MyDrive/MasterThesis/Data/ABIDE_pcp/cpac/filt_global/Yale_0050573_reho.nii.gz\n",
            "done with /content/drive/MyDrive/MasterThesis/Data/ABIDE_pcp/cpac/filt_global/Yale_0050574_reho.nii.gz\n",
            "done with /content/drive/MyDrive/MasterThesis/Data/ABIDE_pcp/cpac/filt_global/Yale_0050575_reho.nii.gz\n",
            "done with /content/drive/MyDrive/MasterThesis/Data/ABIDE_pcp/cpac/filt_global/Yale_0050576_reho.nii.gz\n",
            "done with /content/drive/MyDrive/MasterThesis/Data/ABIDE_pcp/cpac/filt_global/Yale_0050577_reho.nii.gz\n",
            "done with /content/drive/MyDrive/MasterThesis/Data/ABIDE_pcp/cpac/filt_global/Yale_0050578_reho.nii.gz\n",
            "done with /content/drive/MyDrive/MasterThesis/Data/ABIDE_pcp/cpac/filt_global/Yale_0050601_reho.nii.gz\n",
            "done with /content/drive/MyDrive/MasterThesis/Data/ABIDE_pcp/cpac/filt_global/Yale_0050602_reho.nii.gz\n",
            "done with /content/drive/MyDrive/MasterThesis/Data/ABIDE_pcp/cpac/filt_global/Yale_0050603_reho.nii.gz\n",
            "done with /content/drive/MyDrive/MasterThesis/Data/ABIDE_pcp/cpac/filt_global/Yale_0050604_reho.nii.gz\n",
            "done with /content/drive/MyDrive/MasterThesis/Data/ABIDE_pcp/cpac/filt_global/Yale_0050606_reho.nii.gz\n",
            "done with /content/drive/MyDrive/MasterThesis/Data/ABIDE_pcp/cpac/filt_global/Yale_0050607_reho.nii.gz\n",
            "done with /content/drive/MyDrive/MasterThesis/Data/ABIDE_pcp/cpac/filt_global/Yale_0050608_reho.nii.gz\n",
            "done with /content/drive/MyDrive/MasterThesis/Data/ABIDE_pcp/cpac/filt_global/Yale_0050612_reho.nii.gz\n",
            "done with /content/drive/MyDrive/MasterThesis/Data/ABIDE_pcp/cpac/filt_global/Yale_0050613_reho.nii.gz\n",
            "done with /content/drive/MyDrive/MasterThesis/Data/ABIDE_pcp/cpac/filt_global/Yale_0050614_reho.nii.gz\n",
            "done with /content/drive/MyDrive/MasterThesis/Data/ABIDE_pcp/cpac/filt_global/Yale_0050615_reho.nii.gz\n",
            "done with /content/drive/MyDrive/MasterThesis/Data/ABIDE_pcp/cpac/filt_global/Yale_0050616_reho.nii.gz\n",
            "done with /content/drive/MyDrive/MasterThesis/Data/ABIDE_pcp/cpac/filt_global/Yale_0050619_reho.nii.gz\n",
            "done with /content/drive/MyDrive/MasterThesis/Data/ABIDE_pcp/cpac/filt_global/Yale_0050620_reho.nii.gz\n",
            "done with /content/drive/MyDrive/MasterThesis/Data/ABIDE_pcp/cpac/filt_global/Yale_0050621_reho.nii.gz\n",
            "done with /content/drive/MyDrive/MasterThesis/Data/ABIDE_pcp/cpac/filt_global/Yale_0050622_reho.nii.gz\n",
            "done with /content/drive/MyDrive/MasterThesis/Data/ABIDE_pcp/cpac/filt_global/Yale_0050623_reho.nii.gz\n",
            "done with /content/drive/MyDrive/MasterThesis/Data/ABIDE_pcp/cpac/filt_global/Yale_0050624_reho.nii.gz\n",
            "done with /content/drive/MyDrive/MasterThesis/Data/ABIDE_pcp/cpac/filt_global/Yale_0050625_reho.nii.gz\n",
            "done with /content/drive/MyDrive/MasterThesis/Data/ABIDE_pcp/cpac/filt_global/Yale_0050626_reho.nii.gz\n",
            "done with /content/drive/MyDrive/MasterThesis/Data/ABIDE_pcp/cpac/filt_global/Yale_0050627_reho.nii.gz\n",
            "done with /content/drive/MyDrive/MasterThesis/Data/ABIDE_pcp/cpac/filt_global/Yale_0050628_reho.nii.gz\n",
            "done with /content/drive/MyDrive/MasterThesis/Data/ABIDE_pcp/cpac/filt_global/CMU_a_0050642_reho.nii.gz\n",
            "done with /content/drive/MyDrive/MasterThesis/Data/ABIDE_pcp/cpac/filt_global/CMU_b_0050644_reho.nii.gz\n",
            "done with /content/drive/MyDrive/MasterThesis/Data/ABIDE_pcp/cpac/filt_global/CMU_a_0050647_reho.nii.gz\n",
            "done with /content/drive/MyDrive/MasterThesis/Data/ABIDE_pcp/cpac/filt_global/CMU_b_0050648_reho.nii.gz\n",
            "done with /content/drive/MyDrive/MasterThesis/Data/ABIDE_pcp/cpac/filt_global/CMU_a_0050649_reho.nii.gz\n",
            "done with /content/drive/MyDrive/MasterThesis/Data/ABIDE_pcp/cpac/filt_global/CMU_a_0050654_reho.nii.gz\n",
            "done with /content/drive/MyDrive/MasterThesis/Data/ABIDE_pcp/cpac/filt_global/CMU_a_0050656_reho.nii.gz\n",
            "done with /content/drive/MyDrive/MasterThesis/Data/ABIDE_pcp/cpac/filt_global/CMU_a_0050659_reho.nii.gz\n",
            "done with /content/drive/MyDrive/MasterThesis/Data/ABIDE_pcp/cpac/filt_global/CMU_a_0050664_reho.nii.gz\n",
            "done with /content/drive/MyDrive/MasterThesis/Data/ABIDE_pcp/cpac/filt_global/CMU_a_0050665_reho.nii.gz\n",
            "done with /content/drive/MyDrive/MasterThesis/Data/ABIDE_pcp/cpac/filt_global/CMU_b_0050669_reho.nii.gz\n",
            "done with /content/drive/MyDrive/MasterThesis/Data/ABIDE_pcp/cpac/filt_global/Leuven_1_0050682_reho.nii.gz\n",
            "done with /content/drive/MyDrive/MasterThesis/Data/ABIDE_pcp/cpac/filt_global/Leuven_1_0050683_reho.nii.gz\n",
            "done with /content/drive/MyDrive/MasterThesis/Data/ABIDE_pcp/cpac/filt_global/Leuven_1_0050685_reho.nii.gz\n",
            "done with /content/drive/MyDrive/MasterThesis/Data/ABIDE_pcp/cpac/filt_global/Leuven_1_0050686_reho.nii.gz\n",
            "done with /content/drive/MyDrive/MasterThesis/Data/ABIDE_pcp/cpac/filt_global/Leuven_1_0050687_reho.nii.gz\n",
            "done with /content/drive/MyDrive/MasterThesis/Data/ABIDE_pcp/cpac/filt_global/Leuven_1_0050688_reho.nii.gz\n",
            "done with /content/drive/MyDrive/MasterThesis/Data/ABIDE_pcp/cpac/filt_global/Leuven_1_0050689_reho.nii.gz\n",
            "done with /content/drive/MyDrive/MasterThesis/Data/ABIDE_pcp/cpac/filt_global/Leuven_1_0050690_reho.nii.gz\n",
            "done with /content/drive/MyDrive/MasterThesis/Data/ABIDE_pcp/cpac/filt_global/Leuven_1_0050691_reho.nii.gz\n",
            "done with /content/drive/MyDrive/MasterThesis/Data/ABIDE_pcp/cpac/filt_global/Leuven_1_0050692_reho.nii.gz\n",
            "done with /content/drive/MyDrive/MasterThesis/Data/ABIDE_pcp/cpac/filt_global/Leuven_1_0050693_reho.nii.gz\n",
            "done with /content/drive/MyDrive/MasterThesis/Data/ABIDE_pcp/cpac/filt_global/Leuven_1_0050694_reho.nii.gz\n",
            "done with /content/drive/MyDrive/MasterThesis/Data/ABIDE_pcp/cpac/filt_global/Leuven_1_0050695_reho.nii.gz\n",
            "done with /content/drive/MyDrive/MasterThesis/Data/ABIDE_pcp/cpac/filt_global/Leuven_1_0050696_reho.nii.gz\n",
            "done with /content/drive/MyDrive/MasterThesis/Data/ABIDE_pcp/cpac/filt_global/Leuven_1_0050697_reho.nii.gz\n",
            "done with /content/drive/MyDrive/MasterThesis/Data/ABIDE_pcp/cpac/filt_global/Leuven_1_0050698_reho.nii.gz\n",
            "done with /content/drive/MyDrive/MasterThesis/Data/ABIDE_pcp/cpac/filt_global/Leuven_1_0050699_reho.nii.gz\n",
            "done with /content/drive/MyDrive/MasterThesis/Data/ABIDE_pcp/cpac/filt_global/Leuven_1_0050700_reho.nii.gz\n",
            "done with /content/drive/MyDrive/MasterThesis/Data/ABIDE_pcp/cpac/filt_global/Leuven_1_0050701_reho.nii.gz\n",
            "done with /content/drive/MyDrive/MasterThesis/Data/ABIDE_pcp/cpac/filt_global/Leuven_1_0050702_reho.nii.gz\n",
            "done with /content/drive/MyDrive/MasterThesis/Data/ABIDE_pcp/cpac/filt_global/Leuven_1_0050703_reho.nii.gz\n",
            "done with /content/drive/MyDrive/MasterThesis/Data/ABIDE_pcp/cpac/filt_global/Leuven_1_0050704_reho.nii.gz\n",
            "done with /content/drive/MyDrive/MasterThesis/Data/ABIDE_pcp/cpac/filt_global/Leuven_1_0050705_reho.nii.gz\n",
            "done with /content/drive/MyDrive/MasterThesis/Data/ABIDE_pcp/cpac/filt_global/Leuven_1_0050706_reho.nii.gz\n",
            "done with /content/drive/MyDrive/MasterThesis/Data/ABIDE_pcp/cpac/filt_global/Leuven_1_0050707_reho.nii.gz\n",
            "done with /content/drive/MyDrive/MasterThesis/Data/ABIDE_pcp/cpac/filt_global/Leuven_1_0050708_reho.nii.gz\n",
            "done with /content/drive/MyDrive/MasterThesis/Data/ABIDE_pcp/cpac/filt_global/Leuven_1_0050709_reho.nii.gz\n",
            "done with /content/drive/MyDrive/MasterThesis/Data/ABIDE_pcp/cpac/filt_global/Leuven_1_0050711_reho.nii.gz\n",
            "done with /content/drive/MyDrive/MasterThesis/Data/ABIDE_pcp/cpac/filt_global/Leuven_2_0050722_reho.nii.gz\n",
            "done with /content/drive/MyDrive/MasterThesis/Data/ABIDE_pcp/cpac/filt_global/Leuven_2_0050723_reho.nii.gz\n",
            "done with /content/drive/MyDrive/MasterThesis/Data/ABIDE_pcp/cpac/filt_global/Leuven_2_0050724_reho.nii.gz\n",
            "done with /content/drive/MyDrive/MasterThesis/Data/ABIDE_pcp/cpac/filt_global/Leuven_2_0050725_reho.nii.gz\n",
            "done with /content/drive/MyDrive/MasterThesis/Data/ABIDE_pcp/cpac/filt_global/Leuven_2_0050726_reho.nii.gz\n",
            "done with /content/drive/MyDrive/MasterThesis/Data/ABIDE_pcp/cpac/filt_global/Leuven_2_0050728_reho.nii.gz\n",
            "done with /content/drive/MyDrive/MasterThesis/Data/ABIDE_pcp/cpac/filt_global/Leuven_2_0050730_reho.nii.gz\n",
            "done with /content/drive/MyDrive/MasterThesis/Data/ABIDE_pcp/cpac/filt_global/Leuven_2_0050731_reho.nii.gz\n",
            "done with /content/drive/MyDrive/MasterThesis/Data/ABIDE_pcp/cpac/filt_global/Leuven_2_0050733_reho.nii.gz\n",
            "done with /content/drive/MyDrive/MasterThesis/Data/ABIDE_pcp/cpac/filt_global/Leuven_2_0050735_reho.nii.gz\n",
            "done with /content/drive/MyDrive/MasterThesis/Data/ABIDE_pcp/cpac/filt_global/Leuven_2_0050737_reho.nii.gz\n",
            "done with /content/drive/MyDrive/MasterThesis/Data/ABIDE_pcp/cpac/filt_global/Leuven_2_0050738_reho.nii.gz\n",
            "done with /content/drive/MyDrive/MasterThesis/Data/ABIDE_pcp/cpac/filt_global/Leuven_2_0050739_reho.nii.gz\n",
            "done with /content/drive/MyDrive/MasterThesis/Data/ABIDE_pcp/cpac/filt_global/Leuven_2_0050740_reho.nii.gz\n",
            "done with /content/drive/MyDrive/MasterThesis/Data/ABIDE_pcp/cpac/filt_global/Leuven_2_0050741_reho.nii.gz\n",
            "done with /content/drive/MyDrive/MasterThesis/Data/ABIDE_pcp/cpac/filt_global/Leuven_2_0050742_reho.nii.gz\n",
            "done with /content/drive/MyDrive/MasterThesis/Data/ABIDE_pcp/cpac/filt_global/Leuven_2_0050743_reho.nii.gz\n",
            "done with /content/drive/MyDrive/MasterThesis/Data/ABIDE_pcp/cpac/filt_global/Leuven_2_0050744_reho.nii.gz\n",
            "done with /content/drive/MyDrive/MasterThesis/Data/ABIDE_pcp/cpac/filt_global/Leuven_2_0050745_reho.nii.gz\n",
            "done with /content/drive/MyDrive/MasterThesis/Data/ABIDE_pcp/cpac/filt_global/Leuven_2_0050748_reho.nii.gz\n",
            "done with /content/drive/MyDrive/MasterThesis/Data/ABIDE_pcp/cpac/filt_global/Leuven_2_0050749_reho.nii.gz\n",
            "done with /content/drive/MyDrive/MasterThesis/Data/ABIDE_pcp/cpac/filt_global/Leuven_2_0050750_reho.nii.gz\n",
            "done with /content/drive/MyDrive/MasterThesis/Data/ABIDE_pcp/cpac/filt_global/Leuven_2_0050751_reho.nii.gz\n",
            "done with /content/drive/MyDrive/MasterThesis/Data/ABIDE_pcp/cpac/filt_global/Leuven_2_0050752_reho.nii.gz\n",
            "done with /content/drive/MyDrive/MasterThesis/Data/ABIDE_pcp/cpac/filt_global/Leuven_2_0050754_reho.nii.gz\n",
            "done with /content/drive/MyDrive/MasterThesis/Data/ABIDE_pcp/cpac/filt_global/Leuven_2_0050755_reho.nii.gz\n",
            "done with /content/drive/MyDrive/MasterThesis/Data/ABIDE_pcp/cpac/filt_global/Leuven_2_0050756_reho.nii.gz\n",
            "done with /content/drive/MyDrive/MasterThesis/Data/ABIDE_pcp/cpac/filt_global/Leuven_2_0050757_reho.nii.gz\n",
            "done with /content/drive/MyDrive/MasterThesis/Data/ABIDE_pcp/cpac/filt_global/KKI_0050772_reho.nii.gz\n",
            "done with /content/drive/MyDrive/MasterThesis/Data/ABIDE_pcp/cpac/filt_global/KKI_0050773_reho.nii.gz\n",
            "done with /content/drive/MyDrive/MasterThesis/Data/ABIDE_pcp/cpac/filt_global/KKI_0050774_reho.nii.gz\n",
            "done with /content/drive/MyDrive/MasterThesis/Data/ABIDE_pcp/cpac/filt_global/KKI_0050775_reho.nii.gz\n",
            "done with /content/drive/MyDrive/MasterThesis/Data/ABIDE_pcp/cpac/filt_global/KKI_0050776_reho.nii.gz\n",
            "done with /content/drive/MyDrive/MasterThesis/Data/ABIDE_pcp/cpac/filt_global/KKI_0050777_reho.nii.gz\n",
            "done with /content/drive/MyDrive/MasterThesis/Data/ABIDE_pcp/cpac/filt_global/KKI_0050778_reho.nii.gz\n",
            "done with /content/drive/MyDrive/MasterThesis/Data/ABIDE_pcp/cpac/filt_global/KKI_0050780_reho.nii.gz\n",
            "done with /content/drive/MyDrive/MasterThesis/Data/ABIDE_pcp/cpac/filt_global/KKI_0050781_reho.nii.gz\n",
            "done with /content/drive/MyDrive/MasterThesis/Data/ABIDE_pcp/cpac/filt_global/KKI_0050782_reho.nii.gz\n",
            "done with /content/drive/MyDrive/MasterThesis/Data/ABIDE_pcp/cpac/filt_global/KKI_0050783_reho.nii.gz\n",
            "done with /content/drive/MyDrive/MasterThesis/Data/ABIDE_pcp/cpac/filt_global/KKI_0050786_reho.nii.gz\n",
            "done with /content/drive/MyDrive/MasterThesis/Data/ABIDE_pcp/cpac/filt_global/KKI_0050790_reho.nii.gz\n",
            "done with /content/drive/MyDrive/MasterThesis/Data/ABIDE_pcp/cpac/filt_global/KKI_0050791_reho.nii.gz\n",
            "done with /content/drive/MyDrive/MasterThesis/Data/ABIDE_pcp/cpac/filt_global/KKI_0050792_reho.nii.gz\n",
            "done with /content/drive/MyDrive/MasterThesis/Data/ABIDE_pcp/cpac/filt_global/KKI_0050796_reho.nii.gz\n",
            "done with /content/drive/MyDrive/MasterThesis/Data/ABIDE_pcp/cpac/filt_global/KKI_0050797_reho.nii.gz\n",
            "done with /content/drive/MyDrive/MasterThesis/Data/ABIDE_pcp/cpac/filt_global/KKI_0050798_reho.nii.gz\n",
            "done with /content/drive/MyDrive/MasterThesis/Data/ABIDE_pcp/cpac/filt_global/KKI_0050799_reho.nii.gz\n",
            "done with /content/drive/MyDrive/MasterThesis/Data/ABIDE_pcp/cpac/filt_global/KKI_0050800_reho.nii.gz\n",
            "done with /content/drive/MyDrive/MasterThesis/Data/ABIDE_pcp/cpac/filt_global/KKI_0050801_reho.nii.gz\n",
            "done with /content/drive/MyDrive/MasterThesis/Data/ABIDE_pcp/cpac/filt_global/KKI_0050803_reho.nii.gz\n",
            "done with /content/drive/MyDrive/MasterThesis/Data/ABIDE_pcp/cpac/filt_global/KKI_0050807_reho.nii.gz\n",
            "done with /content/drive/MyDrive/MasterThesis/Data/ABIDE_pcp/cpac/filt_global/KKI_0050812_reho.nii.gz\n",
            "done with /content/drive/MyDrive/MasterThesis/Data/ABIDE_pcp/cpac/filt_global/KKI_0050814_reho.nii.gz\n",
            "done with /content/drive/MyDrive/MasterThesis/Data/ABIDE_pcp/cpac/filt_global/KKI_0050816_reho.nii.gz\n",
            "done with /content/drive/MyDrive/MasterThesis/Data/ABIDE_pcp/cpac/filt_global/KKI_0050817_reho.nii.gz\n",
            "done with /content/drive/MyDrive/MasterThesis/Data/ABIDE_pcp/cpac/filt_global/KKI_0050818_reho.nii.gz\n",
            "done with /content/drive/MyDrive/MasterThesis/Data/ABIDE_pcp/cpac/filt_global/KKI_0050820_reho.nii.gz\n",
            "done with /content/drive/MyDrive/MasterThesis/Data/ABIDE_pcp/cpac/filt_global/KKI_0050821_reho.nii.gz\n",
            "done with /content/drive/MyDrive/MasterThesis/Data/ABIDE_pcp/cpac/filt_global/KKI_0050822_reho.nii.gz\n",
            "done with /content/drive/MyDrive/MasterThesis/Data/ABIDE_pcp/cpac/filt_global/KKI_0050823_reho.nii.gz\n",
            "done with /content/drive/MyDrive/MasterThesis/Data/ABIDE_pcp/cpac/filt_global/KKI_0050824_reho.nii.gz\n",
            "done with /content/drive/MyDrive/MasterThesis/Data/ABIDE_pcp/cpac/filt_global/NYU_0050952_reho.nii.gz\n",
            "done with /content/drive/MyDrive/MasterThesis/Data/ABIDE_pcp/cpac/filt_global/NYU_0050954_reho.nii.gz\n",
            "done with /content/drive/MyDrive/MasterThesis/Data/ABIDE_pcp/cpac/filt_global/NYU_0050955_reho.nii.gz\n",
            "done with /content/drive/MyDrive/MasterThesis/Data/ABIDE_pcp/cpac/filt_global/NYU_0050956_reho.nii.gz\n",
            "done with /content/drive/MyDrive/MasterThesis/Data/ABIDE_pcp/cpac/filt_global/NYU_0050957_reho.nii.gz\n",
            "done with /content/drive/MyDrive/MasterThesis/Data/ABIDE_pcp/cpac/filt_global/NYU_0050958_reho.nii.gz\n",
            "done with /content/drive/MyDrive/MasterThesis/Data/ABIDE_pcp/cpac/filt_global/NYU_0050959_reho.nii.gz\n",
            "done with /content/drive/MyDrive/MasterThesis/Data/ABIDE_pcp/cpac/filt_global/NYU_0050960_reho.nii.gz\n",
            "done with /content/drive/MyDrive/MasterThesis/Data/ABIDE_pcp/cpac/filt_global/NYU_0050961_reho.nii.gz\n"
          ]
        },
        {
          "data": {
            "text/plain": [
              "(500, 271633)"
            ]
          },
          "execution_count": 13,
          "metadata": {},
          "output_type": "execute_result"
        }
      ],
      "source": [
        "# Flatten the ReHo images to create a feature vector for each subject\n",
        "X = []\n",
        "for f in reho:\n",
        "\n",
        "  # Load_img loads the file as an image and get_fdata gets the numeric values\n",
        "  # ravel flattens the (61, 73, 61) array retrieved by get_fdata\n",
        "\n",
        "  X.append(image.load_img(f).get_fdata().ravel())\n",
        "  print(\"done with\", f)\n",
        "\n",
        "# Checking if all the subjects got passed\n",
        "\n",
        "X_array = np.array(X)\n",
        "X_array.shape\n",
        "'''"
      ]
    },
    {
      "cell_type": "code",
      "execution_count": null,
      "metadata": {
        "id": "W90pR6VVuWCu"
      },
      "outputs": [],
      "source": [
        "# Saving the feature array to a file\n",
        "np.save('/content/drive/MyDrive/MasterThesis/Data/flat_reho_500.npy', X_array)"
      ]
    },
    {
      "cell_type": "code",
      "execution_count": null,
      "metadata": {
        "colab": {
          "base_uri": "https://localhost:8080/"
        },
        "id": "jJiZ3W3l1RL4",
        "outputId": "e3efa11d-1104-46d6-f7b9-074cc3d98982"
      },
      "outputs": [
        {
          "data": {
            "text/plain": [
              "163"
            ]
          },
          "execution_count": 36,
          "metadata": {},
          "output_type": "execute_result"
        }
      ],
      "source": [
        "# Freeing up some memory\n",
        "del X, X_array\n",
        "gc.collect()"
      ]
    },
    {
      "cell_type": "code",
      "execution_count": 13,
      "metadata": {
        "id": "QwqZtseWukUl"
      },
      "outputs": [],
      "source": [
        "# Loading in the flattened Reho data\n",
        "svm_data = np.load('/content/drive/MyDrive/MasterThesis/Data/flat_reho_500.npy')"
      ]
    },
    {
      "cell_type": "code",
      "execution_count": 14,
      "metadata": {
        "id": "1Lb-ykuCTS_7"
      },
      "outputs": [],
      "source": [
        "#Splitting data into a training and testing set\n",
        "x_train, x_test, y_train, y_test = train_test_split(svm_data, labels, test_size = 0.1, random_state = 60)"
      ]
    },
    {
      "cell_type": "code",
      "execution_count": 15,
      "metadata": {
        "colab": {
          "base_uri": "https://localhost:8080/"
        },
        "id": "az3ADORnd2gn",
        "outputId": "ac6b7402-e63b-4eda-d942-0e3fdd7a6bdd"
      },
      "outputs": [
        {
          "name": "stdout",
          "output_type": "stream",
          "text": [
            "(450, 271633)\n",
            "(450,)\n",
            "(50, 271633)\n",
            "(50,)\n"
          ]
        }
      ],
      "source": [
        "# Checking the shapes of the training and testing set\n",
        "print(np.array(x_train).shape)\n",
        "print(np.array(y_train).shape)\n",
        "print(np.array(x_test).shape)\n",
        "print(np.array(y_test).shape)"
      ]
    },
    {
      "cell_type": "code",
      "execution_count": 16,
      "metadata": {
        "colab": {
          "base_uri": "https://localhost:8080/"
        },
        "id": "wm_dmGTjyou4",
        "outputId": "0b576d17-10e6-48d0-8b84-7d95d486640e"
      },
      "outputs": [
        {
          "data": {
            "text/plain": [
              "11"
            ]
          },
          "execution_count": 16,
          "metadata": {},
          "output_type": "execute_result"
        }
      ],
      "source": [
        "# Deleting the svm_data array to clear up some memory\n",
        "del svm_data\n",
        "gc.collect()"
      ]
    },
    {
      "cell_type": "code",
      "execution_count": 18,
      "metadata": {
        "colab": {
          "base_uri": "https://localhost:8080/",
          "height": 655
        },
        "id": "xe_OhG8DiF3n",
        "outputId": "50459234-03e9-4069-c915-e7323564b1bc"
      },
      "outputs": [
        {
          "name": "stdout",
          "output_type": "stream",
          "text": [
            "Fitting 5 folds for each of 6 candidates, totalling 30 fits\n",
            "[CV 1/5] END ..............C=0.1, kernel=linear;, score=0.578 total time=  41.2s\n",
            "[CV 2/5] END ..............C=0.1, kernel=linear;, score=0.633 total time=  40.5s\n",
            "[CV 3/5] END ..............C=0.1, kernel=linear;, score=0.533 total time=  42.1s\n",
            "[CV 4/5] END ..............C=0.1, kernel=linear;, score=0.611 total time=  40.5s\n",
            "[CV 5/5] END ..............C=0.1, kernel=linear;, score=0.622 total time=  40.2s\n",
            "[CV 1/5] END .................C=0.1, kernel=rbf;, score=0.533 total time=  50.5s\n",
            "[CV 2/5] END .................C=0.1, kernel=rbf;, score=0.522 total time=  49.5s\n",
            "[CV 3/5] END .................C=0.1, kernel=rbf;, score=0.522 total time=  49.2s\n",
            "[CV 4/5] END .................C=0.1, kernel=rbf;, score=0.522 total time=  48.0s\n",
            "[CV 5/5] END .................C=0.1, kernel=rbf;, score=0.522 total time=  49.6s\n",
            "[CV 1/5] END ................C=1, kernel=linear;, score=0.578 total time=  40.6s\n",
            "[CV 2/5] END ................C=1, kernel=linear;, score=0.633 total time=  40.7s\n",
            "[CV 3/5] END ................C=1, kernel=linear;, score=0.533 total time=  39.9s\n",
            "[CV 4/5] END ................C=1, kernel=linear;, score=0.611 total time=  40.4s\n",
            "[CV 5/5] END ................C=1, kernel=linear;, score=0.622 total time=  41.1s\n",
            "[CV 1/5] END ...................C=1, kernel=rbf;, score=0.522 total time=  48.6s\n",
            "[CV 2/5] END ...................C=1, kernel=rbf;, score=0.600 total time=  48.3s\n",
            "[CV 3/5] END ...................C=1, kernel=rbf;, score=0.533 total time=  49.6s\n",
            "[CV 4/5] END ...................C=1, kernel=rbf;, score=0.578 total time=  48.0s\n",
            "[CV 5/5] END ...................C=1, kernel=rbf;, score=0.556 total time=  49.3s\n",
            "[CV 1/5] END ...............C=10, kernel=linear;, score=0.578 total time=  39.5s\n",
            "[CV 2/5] END ...............C=10, kernel=linear;, score=0.633 total time=  40.5s\n",
            "[CV 3/5] END ...............C=10, kernel=linear;, score=0.533 total time=  40.5s\n",
            "[CV 4/5] END ...............C=10, kernel=linear;, score=0.611 total time=  40.5s\n",
            "[CV 5/5] END ...............C=10, kernel=linear;, score=0.622 total time=  40.8s\n",
            "[CV 1/5] END ..................C=10, kernel=rbf;, score=0.567 total time=  48.0s\n",
            "[CV 2/5] END ..................C=10, kernel=rbf;, score=0.711 total time=  48.9s\n",
            "[CV 3/5] END ..................C=10, kernel=rbf;, score=0.589 total time=  48.4s\n",
            "[CV 4/5] END ..................C=10, kernel=rbf;, score=0.622 total time=  49.9s\n",
            "[CV 5/5] END ..................C=10, kernel=rbf;, score=0.678 total time=  49.0s\n"
          ]
        },
        {
          "data": {
            "text/html": [
              "<style>#sk-container-id-1 {color: black;background-color: white;}#sk-container-id-1 pre{padding: 0;}#sk-container-id-1 div.sk-toggleable {background-color: white;}#sk-container-id-1 label.sk-toggleable__label {cursor: pointer;display: block;width: 100%;margin-bottom: 0;padding: 0.3em;box-sizing: border-box;text-align: center;}#sk-container-id-1 label.sk-toggleable__label-arrow:before {content: \"▸\";float: left;margin-right: 0.25em;color: #696969;}#sk-container-id-1 label.sk-toggleable__label-arrow:hover:before {color: black;}#sk-container-id-1 div.sk-estimator:hover label.sk-toggleable__label-arrow:before {color: black;}#sk-container-id-1 div.sk-toggleable__content {max-height: 0;max-width: 0;overflow: hidden;text-align: left;background-color: #f0f8ff;}#sk-container-id-1 div.sk-toggleable__content pre {margin: 0.2em;color: black;border-radius: 0.25em;background-color: #f0f8ff;}#sk-container-id-1 input.sk-toggleable__control:checked~div.sk-toggleable__content {max-height: 200px;max-width: 100%;overflow: auto;}#sk-container-id-1 input.sk-toggleable__control:checked~label.sk-toggleable__label-arrow:before {content: \"▾\";}#sk-container-id-1 div.sk-estimator input.sk-toggleable__control:checked~label.sk-toggleable__label {background-color: #d4ebff;}#sk-container-id-1 div.sk-label input.sk-toggleable__control:checked~label.sk-toggleable__label {background-color: #d4ebff;}#sk-container-id-1 input.sk-hidden--visually {border: 0;clip: rect(1px 1px 1px 1px);clip: rect(1px, 1px, 1px, 1px);height: 1px;margin: -1px;overflow: hidden;padding: 0;position: absolute;width: 1px;}#sk-container-id-1 div.sk-estimator {font-family: monospace;background-color: #f0f8ff;border: 1px dotted black;border-radius: 0.25em;box-sizing: border-box;margin-bottom: 0.5em;}#sk-container-id-1 div.sk-estimator:hover {background-color: #d4ebff;}#sk-container-id-1 div.sk-parallel-item::after {content: \"\";width: 100%;border-bottom: 1px solid gray;flex-grow: 1;}#sk-container-id-1 div.sk-label:hover label.sk-toggleable__label {background-color: #d4ebff;}#sk-container-id-1 div.sk-serial::before {content: \"\";position: absolute;border-left: 1px solid gray;box-sizing: border-box;top: 0;bottom: 0;left: 50%;z-index: 0;}#sk-container-id-1 div.sk-serial {display: flex;flex-direction: column;align-items: center;background-color: white;padding-right: 0.2em;padding-left: 0.2em;position: relative;}#sk-container-id-1 div.sk-item {position: relative;z-index: 1;}#sk-container-id-1 div.sk-parallel {display: flex;align-items: stretch;justify-content: center;background-color: white;position: relative;}#sk-container-id-1 div.sk-item::before, #sk-container-id-1 div.sk-parallel-item::before {content: \"\";position: absolute;border-left: 1px solid gray;box-sizing: border-box;top: 0;bottom: 0;left: 50%;z-index: -1;}#sk-container-id-1 div.sk-parallel-item {display: flex;flex-direction: column;z-index: 1;position: relative;background-color: white;}#sk-container-id-1 div.sk-parallel-item:first-child::after {align-self: flex-end;width: 50%;}#sk-container-id-1 div.sk-parallel-item:last-child::after {align-self: flex-start;width: 50%;}#sk-container-id-1 div.sk-parallel-item:only-child::after {width: 0;}#sk-container-id-1 div.sk-dashed-wrapped {border: 1px dashed gray;margin: 0 0.4em 0.5em 0.4em;box-sizing: border-box;padding-bottom: 0.4em;background-color: white;}#sk-container-id-1 div.sk-label label {font-family: monospace;font-weight: bold;display: inline-block;line-height: 1.2em;}#sk-container-id-1 div.sk-label-container {text-align: center;}#sk-container-id-1 div.sk-container {/* jupyter's `normalize.less` sets `[hidden] { display: none; }` but bootstrap.min.css set `[hidden] { display: none !important; }` so we also need the `!important` here to be able to override the default hidden behavior on the sphinx rendered scikit-learn.org. See: https://github.com/scikit-learn/scikit-learn/issues/21755 */display: inline-block !important;position: relative;}#sk-container-id-1 div.sk-text-repr-fallback {display: none;}</style><div id=\"sk-container-id-1\" class=\"sk-top-container\"><div class=\"sk-text-repr-fallback\"><pre>GridSearchCV(estimator=SVC(),\n",
              "             param_grid={&#x27;C&#x27;: [0.1, 1, 10], &#x27;kernel&#x27;: [&#x27;linear&#x27;, &#x27;rbf&#x27;]},\n",
              "             verbose=4)</pre><b>In a Jupyter environment, please rerun this cell to show the HTML representation or trust the notebook. <br />On GitHub, the HTML representation is unable to render, please try loading this page with nbviewer.org.</b></div><div class=\"sk-container\" hidden><div class=\"sk-item sk-dashed-wrapped\"><div class=\"sk-label-container\"><div class=\"sk-label sk-toggleable\"><input class=\"sk-toggleable__control sk-hidden--visually\" id=\"sk-estimator-id-1\" type=\"checkbox\" ><label for=\"sk-estimator-id-1\" class=\"sk-toggleable__label sk-toggleable__label-arrow\">GridSearchCV</label><div class=\"sk-toggleable__content\"><pre>GridSearchCV(estimator=SVC(),\n",
              "             param_grid={&#x27;C&#x27;: [0.1, 1, 10], &#x27;kernel&#x27;: [&#x27;linear&#x27;, &#x27;rbf&#x27;]},\n",
              "             verbose=4)</pre></div></div></div><div class=\"sk-parallel\"><div class=\"sk-parallel-item\"><div class=\"sk-item\"><div class=\"sk-label-container\"><div class=\"sk-label sk-toggleable\"><input class=\"sk-toggleable__control sk-hidden--visually\" id=\"sk-estimator-id-2\" type=\"checkbox\" ><label for=\"sk-estimator-id-2\" class=\"sk-toggleable__label sk-toggleable__label-arrow\">estimator: SVC</label><div class=\"sk-toggleable__content\"><pre>SVC()</pre></div></div></div><div class=\"sk-serial\"><div class=\"sk-item\"><div class=\"sk-estimator sk-toggleable\"><input class=\"sk-toggleable__control sk-hidden--visually\" id=\"sk-estimator-id-3\" type=\"checkbox\" ><label for=\"sk-estimator-id-3\" class=\"sk-toggleable__label sk-toggleable__label-arrow\">SVC</label><div class=\"sk-toggleable__content\"><pre>SVC()</pre></div></div></div></div></div></div></div></div></div></div>"
            ],
            "text/plain": [
              "GridSearchCV(estimator=SVC(),\n",
              "             param_grid={'C': [0.1, 1, 10], 'kernel': ['linear', 'rbf']},\n",
              "             verbose=4)"
            ]
          },
          "execution_count": 18,
          "metadata": {},
          "output_type": "execute_result"
        }
      ],
      "source": [
        "# Executing the GridSearchCV to find the best parameters for our SVM model\n",
        "param_grid = { 'C':[0.1, 1, 10],\n",
        "              'kernel':['linear', 'rbf']}\n",
        "clf = GridSearchCV(SVC(), param_grid, verbose = 4)\n",
        "\n",
        "# Fitting the GridSearch to our training data\n",
        "clf.fit(x_train, y_train)"
      ]
    },
    {
      "cell_type": "code",
      "execution_count": 20,
      "metadata": {
        "colab": {
          "base_uri": "https://localhost:8080/"
        },
        "id": "T3dgKXTFiOvG",
        "outputId": "2ca762c3-d732-4c47-efed-c9573594e24d"
      },
      "outputs": [
        {
          "name": "stdout",
          "output_type": "stream",
          "text": [
            "{'C': 10, 'kernel': 'rbf'}\n",
            "0.64\n"
          ]
        }
      ],
      "source": [
        "# Printing the best parameters\n",
        "print(clf.best_params_)\n",
        "\n",
        "# Printing the accuracy on the testing set using said best parameters\n",
        "print(clf.score(x_test,y_test))"
      ]
    },
    {
      "cell_type": "code",
      "execution_count": 21,
      "metadata": {
        "id": "n9CiMCXDg5A0"
      },
      "outputs": [],
      "source": [
        "# Let the model predict the classes of the testing set\n",
        "y_pred = clf.predict(x_test)"
      ]
    },
    {
      "cell_type": "code",
      "execution_count": 22,
      "metadata": {
        "colab": {
          "base_uri": "https://localhost:8080/"
        },
        "id": "0A76Z5dFg2uI",
        "outputId": "f2024375-4dff-486b-83eb-b3046335add7"
      },
      "outputs": [
        {
          "name": "stdout",
          "output_type": "stream",
          "text": [
            "Accuracy: 0.64\n",
            "              precision    recall  f1-score   support\n",
            "\n",
            "           0       0.58      0.64      0.61        22\n",
            "           1       0.69      0.64      0.67        28\n",
            "\n",
            "    accuracy                           0.64        50\n",
            "   macro avg       0.64      0.64      0.64        50\n",
            "weighted avg       0.64      0.64      0.64        50\n",
            "\n"
          ]
        }
      ],
      "source": [
        "# Calculate the accuracy of the SVM model\n",
        "accuracy = accuracy_score(y_test, y_pred)\n",
        "print(\"Accuracy:\", accuracy)\n",
        "\n",
        "# Reporting the precision, recall and accuracy for the SVM model\n",
        "print(classification_report(y_test,y_pred))"
      ]
    },
    {
      "cell_type": "code",
      "execution_count": 24,
      "metadata": {
        "colab": {
          "base_uri": "https://localhost:8080/",
          "height": 489
        },
        "id": "u6H3b2CUSzd5",
        "outputId": "c38948b1-6749-433a-9a2f-35e31da555f3"
      },
      "outputs": [
        {
          "data": {
            "text/plain": [
              "Text(0.5, 1.0, 'SVM - ReHo')"
            ]
          },
          "execution_count": 24,
          "metadata": {},
          "output_type": "execute_result"
        },
        {
          "data": {
            "image/png": "[encoded data removed]",
            "text/plain": [
              "<Figure size 640x480 with 2 Axes>"
            ]
          },
          "metadata": {},
          "output_type": "display_data"
        }
      ],
      "source": [
        "# Printing the confusion matrix\n",
        "confusion = confusion_matrix(y_test, y_pred)\n",
        "cmd = ConfusionMatrixDisplay(confusion_matrix=confusion, display_labels = ['TD', 'ASD'])\n",
        "\n",
        "cmd.plot(include_values=True, cmap='Blues', ax=None, xticks_rotation='horizontal')\n",
        "cmd.ax_.set_title(\"SVM - ReHo\")"
      ]
    },
    {
      "cell_type": "code",
      "execution_count": null,
      "metadata": {
        "colab": {
          "base_uri": "https://localhost:8080/"
        },
        "id": "TvhzhuezYzOr",
        "outputId": "9a93dbad-777c-48fa-9cdf-04034c9384d4"
      },
      "outputs": [
        {
          "name": "stdout",
          "output_type": "stream",
          "text": [
            "Sensitivity ASD: 0.643\n",
            "Specificity TD: 0.636\n"
          ]
        }
      ],
      "source": [
        "# Calculating the mean sensitivity of the model\n",
        "sensitivity_asd = confusion[1][1]/(confusion[1][1] + confusion[1][0])\n",
        "\n",
        "print(\"Sensitivity ASD:\", np.round(sensitivity_asd, decimals = 3))\n",
        "\n",
        "# Calculating the mean specificity of the model\n",
        "specificity_td = confusion[0][0]/(confusion[0][0] + confusion[0][1])\n",
        "\n",
        "print(\"Specificity TD:\", np.round(specificity_td, decimals = 3))"
      ]
    },
    {
      "attachments": {},
      "cell_type": "markdown",
      "metadata": {
        "id": "alC_q2BAc9vS"
      },
      "source": [
        "# **3D Convolutional Neural Network - ReHo Full**"
      ]
    },
    {
      "cell_type": "code",
      "execution_count": null,
      "metadata": {
        "id": "a2O7htsRoReK"
      },
      "outputs": [],
      "source": [
        "# Processing of the scans and data loader is adapted from https://github.com/keras-team/keras-io/blob/master/examples/vision/3D_image_classification.py\n",
        "# 3D CNN Architecture is adapted and adjusted from Liang et al. (2022)\n",
        "\n",
        "# First two functions are created to read the nifti files and read them\n",
        "\n",
        "def read_nifti_file(filepath):\n",
        "    # read file\n",
        "    scan = image.load_img(filepath)\n",
        "    # get raw data\n",
        "    scan = scan.get_fdata()\n",
        "    return scan\n",
        "\n",
        "def process_scan(path):\n",
        "    # read scan\n",
        "    volume = read_nifti_file(path)\n",
        "    return volume"
      ]
    },
    {
      "cell_type": "code",
      "execution_count": null,
      "metadata": {
        "colab": {
          "base_uri": "https://localhost:8080/"
        },
        "id": "rgNlrhW3oReR",
        "outputId": "2ba178a2-4359-4d28-c331-048b83be5194"
      },
      "outputs": [
        {
          "name": "stdout",
          "output_type": "stream",
          "text": [
            "Done\n"
          ]
        }
      ],
      "source": [
        "# Calling the functions to read the scans and adding them to a numpy array\n",
        "reho_scans = np.array([process_scan(path) for path in reho])\n",
        "print('Done')"
      ]
    },
    {
      "cell_type": "code",
      "execution_count": null,
      "metadata": {
        "id": "u2pujk08oReR"
      },
      "outputs": [],
      "source": [
        "# Saving the numpy array so it can be used later\n",
        "np.save('/content/drive/MyDrive/MasterThesis/Data/reho_scans_500.npy', reho_scans)"
      ]
    },
    {
      "cell_type": "code",
      "execution_count": null,
      "metadata": {
        "id": "1ZZIS__soReR"
      },
      "outputs": [],
      "source": [
        "# Transforming the binary labels to categorical labels\n",
        "labels = to_categorical(labels, num_classes = 2)"
      ]
    },
    {
      "cell_type": "code",
      "execution_count": null,
      "metadata": {
        "id": "PISCxvW6oReR"
      },
      "outputs": [],
      "source": [
        "# Loading in the scans as 'reho_scans'\n",
        "reho_scans = np.load('/content/drive/MyDrive/MasterThesis/Data/reho_scans_500.npy')"
      ]
    },
    {
      "cell_type": "code",
      "execution_count": null,
      "metadata": {
        "colab": {
          "base_uri": "https://localhost:8080/"
        },
        "id": "knn5R3b0oReR",
        "outputId": "6971d1d9-43d5-4a02-e7ba-49f53a9346f8"
      },
      "outputs": [
        {
          "name": "stdout",
          "output_type": "stream",
          "text": [
            "(500, 61, 73, 61)\n",
            "(500, 2)\n"
          ]
        }
      ],
      "source": [
        "# Checking if the data is loaded in and transformed correctly\n",
        "print(reho_scans.shape)\n",
        "print(labels.shape)"
      ]
    },
    {
      "cell_type": "code",
      "execution_count": null,
      "metadata": {
        "id": "JRjmUcoLoReR"
      },
      "outputs": [],
      "source": [
        "# Defining two functions that will add an additional dimension to the training\n",
        "# and validation Data. Adapted and adjusted from Zunair (2020)\n",
        "\n",
        "def train_preprocessing(volume, labels):\n",
        "    volume = tf.expand_dims(volume, axis=3)\n",
        "    return volume, labels\n",
        "\n",
        "\n",
        "def validation_preprocessing(volume, label):\n",
        "    volume = tf.expand_dims(volume, axis=3)\n",
        "    return volume, label"
      ]
    },
    {
      "cell_type": "code",
      "execution_count": null,
      "metadata": {
        "id": "pqkIPkH_oReS"
      },
      "outputs": [],
      "source": [
        "# Creating the initial training and testing set with a 90-10 split\n",
        "x_train, x_test, y_train, y_test = train_test_split(reho_scans, labels, test_size = 0.1, \n",
        "                                                    shuffle = True, random_state = 60)"
      ]
    },
    {
      "cell_type": "code",
      "execution_count": null,
      "metadata": {
        "id": "d5wfnHn_oReS"
      },
      "outputs": [],
      "source": [
        "# The remaining 90% of the data will be used for the training and validation set\n",
        "train_x, x_val, train_y, y_val = train_test_split(x_train, y_train, test_size = 0.2, \n",
        "                                                  shuffle = True, random_state = 60)"
      ]
    },
    {
      "cell_type": "code",
      "execution_count": null,
      "metadata": {
        "id": "FOwczPVBoReS"
      },
      "outputs": [],
      "source": [
        "# Adapted and adjusted from Zunair (2020)\n",
        "# Define data loaders which create a dataset from the tensor slices of the inputs and target variables\n",
        "train_loader = tf.data.Dataset.from_tensor_slices((train_x, train_y))\n",
        "validation_loader = tf.data.Dataset.from_tensor_slices((x_val, y_val))\n",
        "\n",
        "batch_size = 6 \n",
        "# Apply the functions from above to the data loaders to get the dataset\n",
        "# We also define the batch size that the model will use here\n",
        "train_dataset = (\n",
        "    train_loader.shuffle(len(train_x), seed = 6, reshuffle_each_iteration = False)\n",
        "    .map(train_preprocessing)\n",
        "    .batch(batch_size)\n",
        "    .prefetch(6))\n",
        "\n",
        "validation_dataset = (\n",
        "    validation_loader.shuffle(len(x_val), seed = 6, reshuffle_each_iteration = False)\n",
        "    .map(validation_preprocessing)\n",
        "    .batch(batch_size)\n",
        "    .prefetch(6))"
      ]
    },
    {
      "cell_type": "code",
      "execution_count": null,
      "metadata": {
        "colab": {
          "base_uri": "https://localhost:8080/"
        },
        "id": "ySz-J4-SoReS",
        "outputId": "6a6ac998-cbe1-4d58-ade8-9eb2025cac68"
      },
      "outputs": [
        {
          "name": "stdout",
          "output_type": "stream",
          "text": [
            "Model: \"sequential\"\n",
            "_________________________________________________________________\n",
            " Layer (type)                Output Shape              Param #   \n",
            "=================================================================\n",
            " average_pooling3d (AverageP  (None, 30, 36, 30, 1)    0         \n",
            " ooling3D)                                                       \n",
            "                                                                 \n",
            " conv3d (Conv3D)             (None, 30, 36, 30, 128)   3584      \n",
            "                                                                 \n",
            " batch_normalization (BatchN  (None, 30, 36, 30, 128)  512       \n",
            " ormalization)                                                   \n",
            "                                                                 \n",
            " activation (Activation)     (None, 30, 36, 30, 128)   0         \n",
            "                                                                 \n",
            " conv3d_1 (Conv3D)           (None, 30, 36, 30, 32)    110624    \n",
            "                                                                 \n",
            " batch_normalization_1 (Batc  (None, 30, 36, 30, 32)   128       \n",
            " hNormalization)                                                 \n",
            "                                                                 \n",
            " activation_1 (Activation)   (None, 30, 36, 30, 32)    0         \n",
            "                                                                 \n",
            " max_pooling3d (MaxPooling3D  (None, 7, 9, 7, 32)      0         \n",
            " )                                                               \n",
            "                                                                 \n",
            " flatten (Flatten)           (None, 14112)             0         \n",
            "                                                                 \n",
            " dense (Dense)               (None, 200)               2822600   \n",
            "                                                                 \n",
            " batch_normalization_2 (Batc  (None, 200)              800       \n",
            " hNormalization)                                                 \n",
            "                                                                 \n",
            " activation_2 (Activation)   (None, 200)               0         \n",
            "                                                                 \n",
            " dense_1 (Dense)             (None, 32)                6432      \n",
            "                                                                 \n",
            " batch_normalization_3 (Batc  (None, 32)               128       \n",
            " hNormalization)                                                 \n",
            "                                                                 \n",
            " activation_3 (Activation)   (None, 32)                0         \n",
            "                                                                 \n",
            " dense_2 (Dense)             (None, 2)                 66        \n",
            "                                                                 \n",
            "=================================================================\n",
            "Total params: 2,944,874\n",
            "Trainable params: 2,944,090\n",
            "Non-trainable params: 784\n",
            "_________________________________________________________________\n"
          ]
        }
      ],
      "source": [
        "# The 3D CNN as described by Liang et al. (2022)\n",
        "\n",
        "# We first define the input shape which are the three axes of the 3D image + the\n",
        "# color channel\n",
        "input_shape = (61, 73, 61, 1)  # the input has a single channel\n",
        "\n",
        "# We then define the model architecture\n",
        "model = Sequential()\n",
        "\n",
        "# First layer of average pooling\n",
        "model.add(layers.AveragePooling3D(pool_size=(2, 2, 2), \n",
        "                           strides=(2, 2, 2), \n",
        "                           input_shape=input_shape))\n",
        "    \n",
        "# Two convolutional layers with batch normalization\n",
        "# We assume 'relu' activation\n",
        "model.add(layers.Conv3D(filters=128, \n",
        "                        kernel_size=(3, 3, 3), \n",
        "                        padding='same'))\n",
        "model.add(layers.BatchNormalization())\n",
        "model.add(layers.Activation('relu'))\n",
        "    \n",
        "model.add(layers.Conv3D(filters=32, \n",
        "                        kernel_size=(3, 3, 3), \n",
        "                        padding='same'))\n",
        "model.add(layers.BatchNormalization())\n",
        "model.add(layers.Activation('relu'))\n",
        "    \n",
        "# Max-pooling layer\n",
        "model.add(layers.MaxPooling3D(pool_size=(4, 4, 4), strides=(4, 4, 4))),\n",
        "    \n",
        "# Flatten the output\n",
        "model.add(layers.Flatten())\n",
        "    \n",
        "# First fully connected layer with batch normalization\n",
        "model.add(layers.Dense(units=200))\n",
        "model.add(layers.BatchNormalization())\n",
        "model.add(layers.Activation('relu'))\n",
        "    \n",
        "# Second fully connected layer with batch normalization\n",
        "model.add(layers.Dense(units=32))\n",
        "model.add(layers.BatchNormalization())\n",
        "model.add(layers.Activation('relu'))\n",
        "    \n",
        "# Output layer with softmax activation for binary classification\n",
        "# 2 units since we have two classes that can be classified\n",
        "model.add(layers.Dense(units=2, activation='softmax'))\n",
        "\n",
        "# Print the model summary\n",
        "model.summary()\n",
        "\n",
        "# We compile the model with binary cross-entropy loss and SGD optimizer with momentum\n",
        "model.compile(loss='binary_crossentropy', \n",
        "              optimizer=SGD(learning_rate=0.00005, momentum=0.9),\n",
        "              metrics = ['accuracy'])\n",
        "\n",
        "# We define the early stopping criteria that the model will stop\n",
        "# when the validation accuracy hasn't improved after 15 epochs\n",
        "early_stopping_cb = EarlyStopping(monitor=\"val_accuracy\", patience=15)\n"
      ]
    },
    {
      "cell_type": "code",
      "execution_count": null,
      "metadata": {
        "colab": {
          "base_uri": "https://localhost:8080/"
        },
        "id": "xdw5nnqjoReS",
        "outputId": "0fccd6f1-99db-4e02-e7e5-b7366ba7bb39"
      },
      "outputs": [
        {
          "data": {
            "text/plain": [
              "499"
            ]
          },
          "execution_count": 18,
          "metadata": {},
          "output_type": "execute_result"
        }
      ],
      "source": [
        "# We delete some variables that are not needed anymore to clear up some RAM \n",
        "del train_loader, validation_loader\n",
        "del x_train, y_train, x_val, y_val, train_x, train_y\n",
        "gc.collect()"
      ]
    },
    {
      "cell_type": "code",
      "execution_count": null,
      "metadata": {
        "colab": {
          "base_uri": "https://localhost:8080/"
        },
        "id": "djyyiGCvoReS",
        "outputId": "cfdcc944-6fae-4eac-95b7-b13a61535a64"
      },
      "outputs": [
        {
          "name": "stdout",
          "output_type": "stream",
          "text": [
            "Epoch 1/50\n",
            "60/60 - 17s - loss: 0.7877 - accuracy: 0.4972 - val_loss: 0.7022 - val_accuracy: 0.5222 - 17s/epoch - 288ms/step\n",
            "Epoch 2/50\n",
            "60/60 - 5s - loss: 0.6635 - accuracy: 0.6750 - val_loss: 0.7029 - val_accuracy: 0.5222 - 5s/epoch - 82ms/step\n",
            "Epoch 3/50\n",
            "60/60 - 5s - loss: 0.5813 - accuracy: 0.7889 - val_loss: 0.7063 - val_accuracy: 0.4667 - 5s/epoch - 85ms/step\n",
            "Epoch 4/50\n",
            "60/60 - 5s - loss: 0.5305 - accuracy: 0.8361 - val_loss: 0.7130 - val_accuracy: 0.4778 - 5s/epoch - 88ms/step\n",
            "Epoch 5/50\n",
            "60/60 - 5s - loss: 0.4910 - accuracy: 0.8944 - val_loss: 0.7124 - val_accuracy: 0.4778 - 5s/epoch - 87ms/step\n",
            "Epoch 6/50\n",
            "60/60 - 5s - loss: 0.4587 - accuracy: 0.9167 - val_loss: 0.7067 - val_accuracy: 0.4778 - 5s/epoch - 81ms/step\n",
            "Epoch 7/50\n",
            "60/60 - 5s - loss: 0.4355 - accuracy: 0.9306 - val_loss: 0.7046 - val_accuracy: 0.5000 - 5s/epoch - 84ms/step\n",
            "Epoch 8/50\n",
            "60/60 - 5s - loss: 0.4084 - accuracy: 0.9556 - val_loss: 0.7047 - val_accuracy: 0.5667 - 5s/epoch - 84ms/step\n",
            "Epoch 9/50\n",
            "60/60 - 5s - loss: 0.3884 - accuracy: 0.9611 - val_loss: 0.7212 - val_accuracy: 0.5111 - 5s/epoch - 84ms/step\n",
            "Epoch 10/50\n",
            "60/60 - 5s - loss: 0.3724 - accuracy: 0.9694 - val_loss: 0.7668 - val_accuracy: 0.5222 - 5s/epoch - 82ms/step\n",
            "Epoch 11/50\n",
            "60/60 - 5s - loss: 0.3576 - accuracy: 0.9722 - val_loss: 0.7767 - val_accuracy: 0.4889 - 5s/epoch - 83ms/step\n",
            "Epoch 12/50\n",
            "60/60 - 5s - loss: 0.3440 - accuracy: 0.9806 - val_loss: 0.7693 - val_accuracy: 0.4444 - 5s/epoch - 82ms/step\n",
            "Epoch 13/50\n",
            "60/60 - 5s - loss: 0.3339 - accuracy: 0.9778 - val_loss: 0.7844 - val_accuracy: 0.4556 - 5s/epoch - 80ms/step\n",
            "Epoch 14/50\n",
            "60/60 - 5s - loss: 0.3226 - accuracy: 0.9806 - val_loss: 0.7731 - val_accuracy: 0.4444 - 5s/epoch - 82ms/step\n",
            "Epoch 15/50\n",
            "60/60 - 5s - loss: 0.3129 - accuracy: 0.9806 - val_loss: 0.7731 - val_accuracy: 0.4556 - 5s/epoch - 82ms/step\n",
            "Epoch 16/50\n",
            "60/60 - 5s - loss: 0.3048 - accuracy: 0.9778 - val_loss: 0.8008 - val_accuracy: 0.4667 - 5s/epoch - 83ms/step\n",
            "Epoch 17/50\n",
            "60/60 - 5s - loss: 0.2958 - accuracy: 0.9833 - val_loss: 0.7840 - val_accuracy: 0.4889 - 5s/epoch - 78ms/step\n",
            "Epoch 18/50\n",
            "60/60 - 5s - loss: 0.2912 - accuracy: 0.9833 - val_loss: 0.7839 - val_accuracy: 0.4667 - 5s/epoch - 83ms/step\n",
            "Epoch 19/50\n",
            "60/60 - 5s - loss: 0.2843 - accuracy: 0.9861 - val_loss: 0.7842 - val_accuracy: 0.4778 - 5s/epoch - 81ms/step\n",
            "Epoch 20/50\n",
            "60/60 - 5s - loss: 0.2776 - accuracy: 0.9833 - val_loss: 0.7982 - val_accuracy: 0.5000 - 5s/epoch - 81ms/step\n",
            "Epoch 21/50\n",
            "60/60 - 5s - loss: 0.2712 - accuracy: 0.9889 - val_loss: 0.7981 - val_accuracy: 0.4444 - 5s/epoch - 83ms/step\n",
            "Epoch 22/50\n",
            "60/60 - 5s - loss: 0.2661 - accuracy: 0.9833 - val_loss: 0.7936 - val_accuracy: 0.4667 - 5s/epoch - 85ms/step\n",
            "Epoch 23/50\n",
            "60/60 - 5s - loss: 0.2616 - accuracy: 0.9861 - val_loss: 0.8068 - val_accuracy: 0.4778 - 5s/epoch - 86ms/step\n"
          ]
        },
        {
          "data": {
            "text/plain": [
              "<keras.callbacks.History at 0x7fcd885c75e0>"
            ]
          },
          "execution_count": 19,
          "metadata": {},
          "output_type": "execute_result"
        }
      ],
      "source": [
        "# We train the model, validating it at the end of each epoch\n",
        "epochs = 50\n",
        "model.fit(\n",
        "    train_dataset,\n",
        "    validation_data=validation_dataset,\n",
        "    epochs=epochs,\n",
        "    shuffle=True,\n",
        "    verbose=2,\n",
        "    callbacks=[early_stopping_cb]\n",
        ")"
      ]
    },
    {
      "cell_type": "code",
      "execution_count": null,
      "metadata": {
        "colab": {
          "base_uri": "https://localhost:8080/"
        },
        "id": "veItMoyWoReS",
        "outputId": "fa96cd82-fc61-4089-94df-724b15b142ab"
      },
      "outputs": [
        {
          "name": "stdout",
          "output_type": "stream",
          "text": [
            "2/2 [==============================] - 3s 1s/step\n"
          ]
        }
      ],
      "source": [
        "# We add a dimension to x_test so it can be fed into the model\n",
        "x_test = np.expand_dims(x_test, axis = 4)\n",
        "\n",
        "# Predicting the test labels using the model\n",
        "prediction = model.predict(x_test)\n",
        "\n",
        "# Returning the index of label with the highest score\n",
        "test_predicted_labels = np.argmax(prediction, axis = 1)\n",
        "test_true_labels = np.argmax(y_test, axis = 1)"
      ]
    },
    {
      "cell_type": "code",
      "execution_count": null,
      "metadata": {
        "colab": {
          "base_uri": "https://localhost:8080/",
          "height": 657
        },
        "id": "JhsWfQ8ToReS",
        "outputId": "89ae8eab-5a98-422b-c01b-78e8494e2771"
      },
      "outputs": [
        {
          "name": "stdout",
          "output_type": "stream",
          "text": [
            "              precision    recall  f1-score   support\n",
            "\n",
            "           0       0.59      0.73      0.65        22\n",
            "           1       0.74      0.61      0.67        28\n",
            "\n",
            "    accuracy                           0.66        50\n",
            "   macro avg       0.67      0.67      0.66        50\n",
            "weighted avg       0.67      0.66      0.66        50\n",
            "\n",
            "[[16  6]\n",
            " [11 17]]\n",
            "2/2 [==============================] - 0s 98ms/step - loss: 0.7193 - accuracy: 0.6600\n"
          ]
        },
        {
          "data": {
            "image/png": "[encoded data removed]",
            "text/plain": [
              "<Figure size 640x480 with 2 Axes>"
            ]
          },
          "metadata": {},
          "output_type": "display_data"
        }
      ],
      "source": [
        "# Calculating the precision, recall and accuracy of this run of the model\n",
        "print(classification_report(test_true_labels,test_predicted_labels))\n",
        "\n",
        "# Making the confusion matrix\n",
        "cm = confusion_matrix(test_true_labels, test_predicted_labels)\n",
        "print(cm)\n",
        "\n",
        "# Plotting the confusion matrix\n",
        "cmd = ConfusionMatrixDisplay(confusion_matrix=cm)\n",
        "cmd.plot(include_values=True, cmap='viridis', ax=None, xticks_rotation='horizontal')\n",
        "\n",
        "results = model.evaluate(x_test, y_test)"
      ]
    },
    {
      "cell_type": "code",
      "execution_count": null,
      "metadata": {
        "id": "UQuyrsOZoReT"
      },
      "outputs": [],
      "source": [
        "# We want to append the scores of 5 sequential runs\n",
        "# Make the initial test and confusion matrix list\n",
        "'''\n",
        "test_list = []\n",
        "cm_list = []\n",
        "'''"
      ]
    },
    {
      "cell_type": "code",
      "execution_count": null,
      "metadata": {
        "id": "SG6AbixsoReT"
      },
      "outputs": [],
      "source": [
        "# Add the test accuracy and confusion matrix of the run to the lists\n",
        "'''\n",
        "test_list.append(results[1])\n",
        "cm_list.append(cm)\n",
        "'''"
      ]
    },
    {
      "cell_type": "code",
      "execution_count": null,
      "metadata": {
        "id": "WE-aSdfKoReT"
      },
      "outputs": [],
      "source": [
        "# Make an array out of the list to easily save them\n",
        "'''\n",
        "test_acc_array1 = np.array(test_list)\n",
        "test_cm_array1 = np.array(cm_list)\n",
        "'''"
      ]
    },
    {
      "cell_type": "code",
      "execution_count": null,
      "metadata": {
        "id": "-LCoDy8AoReT"
      },
      "outputs": [],
      "source": [
        "# Saving the first arrays\n",
        "'''\n",
        "np.save('/content/drive/MyDrive/MasterThesis/Data/test_acc_array_reho.npy', test_acc_array1)\n",
        "np.save('/content/drive/MyDrive/MasterThesis/Data/test_cm_array_reho.npy', test_cm_array1)\n",
        "'''"
      ]
    },
    {
      "cell_type": "code",
      "execution_count": null,
      "metadata": {
        "id": "l3tQkF1soReT"
      },
      "outputs": [],
      "source": [
        "# Loading in the array again after resetting the kernel\n",
        "'''\n",
        "test_acc_array = np.load('/content/drive/MyDrive/MasterThesis/Data/test_acc_array_reho.npy')\n",
        "test_cm_array = np.load('/content/drive/MyDrive/MasterThesis/Data/test_cm_array_reho.npy')\n",
        "'''"
      ]
    },
    {
      "cell_type": "code",
      "execution_count": null,
      "metadata": {
        "colab": {
          "base_uri": "https://localhost:8080/"
        },
        "id": "l2I-cc-coReT",
        "outputId": "9394aff0-7514-437c-b7d8-0114412a8759"
      },
      "outputs": [
        {
          "name": "stdout",
          "output_type": "stream",
          "text": [
            "[0.72000003 0.54000002 0.69999999 0.62       0.66000003]\n"
          ]
        }
      ],
      "source": [
        "# Appending the new results to the array\n",
        "'''\n",
        "test_acc_array = np.append(test_acc_array, results[1])\n",
        "print(test_acc_array)\n",
        "'''"
      ]
    },
    {
      "cell_type": "code",
      "execution_count": null,
      "metadata": {
        "colab": {
          "base_uri": "https://localhost:8080/"
        },
        "id": "YyCxZlX2oReT",
        "outputId": "1e9ae1c9-ca2f-4219-dbb0-bc295d292819"
      },
      "outputs": [
        {
          "name": "stdout",
          "output_type": "stream",
          "text": [
            "[16  6  8 20 14  8 15 13 15  7  8 20 16  6 13 15 16  6 11 17]\n"
          ]
        }
      ],
      "source": [
        "# Appending the new confusion matrix to the array\n",
        "'''\n",
        "test_cm_array = np.append(test_cm_array, cm)\n",
        "print(test_cm_array)\n",
        "'''"
      ]
    },
    {
      "cell_type": "code",
      "execution_count": null,
      "metadata": {
        "id": "OBglOE-5oReT"
      },
      "outputs": [],
      "source": [
        "# Saving the array\n",
        "'''\n",
        "np.save('/content/drive/MyDrive/MasterThesis/Data/test_acc_array_reho.npy', test_acc_array)\n",
        "np.save('/content/drive/MyDrive/MasterThesis/Data/test_cm_array_reho.npy', test_cm_array)\n",
        "'''"
      ]
    },
    {
      "cell_type": "code",
      "execution_count": 25,
      "metadata": {
        "id": "fTX2FXmVoReU"
      },
      "outputs": [],
      "source": [
        "test_acc_array = np.load('/content/drive/MyDrive/MasterThesis/Data/test_acc_array_reho.npy')\n",
        "test_cm_array = np.load('/content/drive/MyDrive/MasterThesis/Data/test_cm_array_reho.npy')"
      ]
    },
    {
      "cell_type": "code",
      "execution_count": 26,
      "metadata": {
        "colab": {
          "base_uri": "https://localhost:8080/"
        },
        "id": "V9skGPS8oReU",
        "outputId": "66651b3a-2959-4583-c335-d0880ad7fbdf"
      },
      "outputs": [
        {
          "name": "stdout",
          "output_type": "stream",
          "text": [
            "[0.72000003 0.54000002 0.69999999 0.62       0.66000003]\n",
            "0.648000014\n"
          ]
        }
      ],
      "source": [
        "# Calculating the mean test accuracy\n",
        "print(test_acc_array)\n",
        "mean_test_acc = np.mean(test_acc_array)\n",
        "print(mean_test_acc)"
      ]
    },
    {
      "cell_type": "code",
      "execution_count": 27,
      "metadata": {
        "colab": {
          "base_uri": "https://localhost:8080/"
        },
        "id": "oT9XdmdooReU",
        "outputId": "1f035a6d-96d3-4382-e785-bf7937360ffa"
      },
      "outputs": [
        {
          "name": "stdout",
          "output_type": "stream",
          "text": [
            "(5, 2, 2)\n",
            "[[[16  6]\n",
            "  [ 8 20]]\n",
            "\n",
            " [[14  8]\n",
            "  [15 13]]\n",
            "\n",
            " [[15  7]\n",
            "  [ 8 20]]\n",
            "\n",
            " [[16  6]\n",
            "  [13 15]]\n",
            "\n",
            " [[16  6]\n",
            "  [11 17]]]\n"
          ]
        }
      ],
      "source": [
        "# Reshape the confusion matrix array to the correct shape\n",
        "corr_cm_array = np.reshape(test_cm_array, (5,2,2))\n",
        "print(corr_cm_array.shape)\n",
        "print(corr_cm_array)"
      ]
    },
    {
      "cell_type": "code",
      "execution_count": 28,
      "metadata": {
        "colab": {
          "base_uri": "https://localhost:8080/"
        },
        "id": "TC3j5eNgoReU",
        "outputId": "20133b5c-514f-4521-e303-8c34c7dcee01"
      },
      "outputs": [
        {
          "name": "stdout",
          "output_type": "stream",
          "text": [
            "[[15.4  6.6]\n",
            " [11.  17. ]]\n"
          ]
        }
      ],
      "source": [
        "# Calculating the mean of the confusion matrix\n",
        "mean_cm = np.mean(corr_cm_array, axis = 0)\n",
        "print(mean_cm)"
      ]
    },
    {
      "cell_type": "code",
      "execution_count": 29,
      "metadata": {
        "colab": {
          "base_uri": "https://localhost:8080/",
          "height": 489
        },
        "id": "sTCGI6DYbAYq",
        "outputId": "2130ebeb-e922-4262-ee83-a5f5630ebddf"
      },
      "outputs": [
        {
          "data": {
            "text/plain": [
              "Text(0.5, 1.0, '3D-CNN - ReHo')"
            ]
          },
          "execution_count": 29,
          "metadata": {},
          "output_type": "execute_result"
        },
        {
          "data": {
            "image/png": "[encoded data removed]",
            "text/plain": [
              "<Figure size 640x480 with 2 Axes>"
            ]
          },
          "metadata": {},
          "output_type": "display_data"
        }
      ],
      "source": [
        "# Creating the confusion matrix display\n",
        "confusion = mean_cm\n",
        "cmd = ConfusionMatrixDisplay(confusion_matrix=confusion, display_labels = ['TD', 'ASD'])\n",
        "\n",
        "cmd.plot(include_values=True, cmap='Blues', ax=None, xticks_rotation='horizontal')\n",
        "cmd.ax_.set_title(\"3D-CNN - ReHo\")"
      ]
    },
    {
      "cell_type": "code",
      "execution_count": null,
      "metadata": {
        "colab": {
          "base_uri": "https://localhost:8080/"
        },
        "id": "6G5Rnt5ooReU",
        "outputId": "2be0edde-1fde-4729-ef09-089eebfec464"
      },
      "outputs": [
        {
          "name": "stdout",
          "output_type": "stream",
          "text": [
            "Sensitivity ASD: 0.607\n",
            "Specificity TD: 0.7\n"
          ]
        }
      ],
      "source": [
        "# Calculating the mean sensitivity of the model\n",
        "sensitivity_asd = mean_cm[1][1]/(mean_cm[1][1] + mean_cm[1][0])\n",
        "\n",
        "print(\"Sensitivity ASD:\", np.round(sensitivity_asd, decimals = 3))\n",
        "\n",
        "# Calculating the mean specificity of the model\n",
        "specificity_td = mean_cm[0][0]/(mean_cm[0][0] + mean_cm[0][1])\n",
        "\n",
        "print(\"Specificity TD:\", np.round(specificity_td, decimals = 3))"
      ]
    },
    {
      "attachments": {},
      "cell_type": "markdown",
      "metadata": {
        "id": "PzgIgF0mPpbb"
      },
      "source": [
        "# **Support Vector Machine - Mean fMRI Image**"
      ]
    },
    {
      "cell_type": "code",
      "execution_count": null,
      "metadata": {
        "colab": {
          "base_uri": "https://localhost:8080/"
        },
        "id": "1DBGHJ8ab11_",
        "outputId": "8628d961-192f-414b-867b-a22021cac82b"
      },
      "outputs": [
        {
          "name": "stdout",
          "output_type": "stream",
          "text": [
            "1 of 500 done\n",
            "2 of 500 done\n",
            "3 of 500 done\n",
            "4 of 500 done\n",
            "5 of 500 done\n",
            "6 of 500 done\n",
            "7 of 500 done\n",
            "8 of 500 done\n",
            "9 of 500 done\n",
            "10 of 500 done\n",
            "11 of 500 done\n",
            "12 of 500 done\n",
            "13 of 500 done\n",
            "14 of 500 done\n",
            "15 of 500 done\n",
            "16 of 500 done\n",
            "17 of 500 done\n",
            "18 of 500 done\n",
            "19 of 500 done\n",
            "20 of 500 done\n",
            "21 of 500 done\n",
            "22 of 500 done\n",
            "23 of 500 done\n",
            "24 of 500 done\n",
            "25 of 500 done\n",
            "26 of 500 done\n",
            "27 of 500 done\n",
            "28 of 500 done\n",
            "29 of 500 done\n",
            "30 of 500 done\n",
            "31 of 500 done\n",
            "32 of 500 done\n",
            "33 of 500 done\n",
            "34 of 500 done\n",
            "35 of 500 done\n",
            "36 of 500 done\n",
            "37 of 500 done\n",
            "38 of 500 done\n",
            "39 of 500 done\n",
            "40 of 500 done\n",
            "41 of 500 done\n",
            "42 of 500 done\n",
            "43 of 500 done\n",
            "44 of 500 done\n",
            "45 of 500 done\n",
            "46 of 500 done\n",
            "47 of 500 done\n",
            "48 of 500 done\n",
            "49 of 500 done\n",
            "50 of 500 done\n",
            "51 of 500 done\n",
            "52 of 500 done\n",
            "53 of 500 done\n",
            "54 of 500 done\n",
            "55 of 500 done\n",
            "56 of 500 done\n",
            "57 of 500 done\n",
            "58 of 500 done\n",
            "59 of 500 done\n",
            "60 of 500 done\n",
            "61 of 500 done\n",
            "62 of 500 done\n",
            "63 of 500 done\n",
            "64 of 500 done\n",
            "65 of 500 done\n",
            "66 of 500 done\n",
            "67 of 500 done\n",
            "68 of 500 done\n",
            "69 of 500 done\n",
            "70 of 500 done\n",
            "71 of 500 done\n",
            "72 of 500 done\n",
            "73 of 500 done\n",
            "74 of 500 done\n",
            "75 of 500 done\n",
            "76 of 500 done\n",
            "77 of 500 done\n",
            "78 of 500 done\n",
            "79 of 500 done\n",
            "80 of 500 done\n",
            "81 of 500 done\n",
            "82 of 500 done\n",
            "83 of 500 done\n",
            "84 of 500 done\n",
            "85 of 500 done\n",
            "86 of 500 done\n",
            "87 of 500 done\n",
            "88 of 500 done\n",
            "89 of 500 done\n",
            "90 of 500 done\n",
            "91 of 500 done\n",
            "92 of 500 done\n",
            "93 of 500 done\n",
            "94 of 500 done\n",
            "95 of 500 done\n",
            "96 of 500 done\n",
            "97 of 500 done\n",
            "98 of 500 done\n",
            "99 of 500 done\n",
            "100 of 500 done\n",
            "101 of 500 done\n",
            "102 of 500 done\n",
            "103 of 500 done\n",
            "104 of 500 done\n",
            "105 of 500 done\n",
            "106 of 500 done\n",
            "107 of 500 done\n",
            "108 of 500 done\n",
            "109 of 500 done\n",
            "110 of 500 done\n",
            "111 of 500 done\n",
            "112 of 500 done\n",
            "113 of 500 done\n",
            "114 of 500 done\n",
            "115 of 500 done\n",
            "116 of 500 done\n",
            "117 of 500 done\n",
            "118 of 500 done\n",
            "119 of 500 done\n",
            "120 of 500 done\n",
            "121 of 500 done\n",
            "122 of 500 done\n",
            "123 of 500 done\n",
            "124 of 500 done\n",
            "125 of 500 done\n",
            "126 of 500 done\n",
            "127 of 500 done\n",
            "128 of 500 done\n",
            "129 of 500 done\n",
            "130 of 500 done\n",
            "131 of 500 done\n",
            "132 of 500 done\n",
            "133 of 500 done\n",
            "134 of 500 done\n",
            "135 of 500 done\n",
            "136 of 500 done\n",
            "137 of 500 done\n",
            "138 of 500 done\n",
            "139 of 500 done\n",
            "140 of 500 done\n",
            "141 of 500 done\n",
            "142 of 500 done\n",
            "143 of 500 done\n",
            "144 of 500 done\n",
            "145 of 500 done\n",
            "146 of 500 done\n",
            "147 of 500 done\n",
            "148 of 500 done\n",
            "149 of 500 done\n",
            "150 of 500 done\n",
            "151 of 500 done\n",
            "152 of 500 done\n",
            "153 of 500 done\n",
            "154 of 500 done\n",
            "155 of 500 done\n",
            "156 of 500 done\n",
            "157 of 500 done\n",
            "158 of 500 done\n",
            "159 of 500 done\n",
            "160 of 500 done\n",
            "161 of 500 done\n",
            "162 of 500 done\n",
            "163 of 500 done\n",
            "164 of 500 done\n",
            "165 of 500 done\n",
            "166 of 500 done\n",
            "167 of 500 done\n",
            "168 of 500 done\n",
            "169 of 500 done\n",
            "170 of 500 done\n",
            "171 of 500 done\n",
            "172 of 500 done\n",
            "173 of 500 done\n",
            "174 of 500 done\n",
            "175 of 500 done\n",
            "176 of 500 done\n",
            "177 of 500 done\n",
            "178 of 500 done\n",
            "179 of 500 done\n",
            "180 of 500 done\n",
            "181 of 500 done\n",
            "182 of 500 done\n",
            "183 of 500 done\n",
            "184 of 500 done\n",
            "185 of 500 done\n",
            "186 of 500 done\n",
            "187 of 500 done\n",
            "188 of 500 done\n",
            "189 of 500 done\n",
            "190 of 500 done\n",
            "191 of 500 done\n",
            "192 of 500 done\n",
            "193 of 500 done\n",
            "194 of 500 done\n",
            "195 of 500 done\n",
            "196 of 500 done\n",
            "197 of 500 done\n",
            "198 of 500 done\n",
            "199 of 500 done\n",
            "200 of 500 done\n",
            "201 of 500 done\n",
            "202 of 500 done\n",
            "203 of 500 done\n",
            "204 of 500 done\n",
            "205 of 500 done\n",
            "206 of 500 done\n",
            "207 of 500 done\n",
            "208 of 500 done\n",
            "209 of 500 done\n",
            "210 of 500 done\n",
            "211 of 500 done\n",
            "212 of 500 done\n",
            "213 of 500 done\n",
            "214 of 500 done\n",
            "215 of 500 done\n",
            "216 of 500 done\n",
            "217 of 500 done\n",
            "218 of 500 done\n",
            "219 of 500 done\n",
            "220 of 500 done\n",
            "221 of 500 done\n",
            "222 of 500 done\n",
            "223 of 500 done\n",
            "224 of 500 done\n",
            "225 of 500 done\n",
            "226 of 500 done\n",
            "227 of 500 done\n",
            "228 of 500 done\n",
            "229 of 500 done\n",
            "230 of 500 done\n",
            "231 of 500 done\n",
            "232 of 500 done\n",
            "233 of 500 done\n",
            "234 of 500 done\n",
            "235 of 500 done\n",
            "236 of 500 done\n",
            "237 of 500 done\n",
            "238 of 500 done\n",
            "239 of 500 done\n",
            "240 of 500 done\n",
            "241 of 500 done\n",
            "242 of 500 done\n",
            "243 of 500 done\n",
            "244 of 500 done\n",
            "245 of 500 done\n",
            "246 of 500 done\n",
            "247 of 500 done\n",
            "248 of 500 done\n",
            "249 of 500 done\n",
            "250 of 500 done\n",
            "251 of 500 done\n",
            "252 of 500 done\n",
            "253 of 500 done\n",
            "254 of 500 done\n",
            "255 of 500 done\n",
            "256 of 500 done\n",
            "257 of 500 done\n",
            "258 of 500 done\n",
            "259 of 500 done\n",
            "260 of 500 done\n",
            "261 of 500 done\n",
            "262 of 500 done\n",
            "263 of 500 done\n",
            "264 of 500 done\n",
            "265 of 500 done\n",
            "266 of 500 done\n",
            "267 of 500 done\n",
            "268 of 500 done\n",
            "269 of 500 done\n",
            "270 of 500 done\n",
            "271 of 500 done\n",
            "272 of 500 done\n",
            "273 of 500 done\n",
            "274 of 500 done\n",
            "275 of 500 done\n",
            "276 of 500 done\n",
            "277 of 500 done\n",
            "278 of 500 done\n",
            "279 of 500 done\n",
            "280 of 500 done\n",
            "281 of 500 done\n",
            "282 of 500 done\n",
            "283 of 500 done\n",
            "284 of 500 done\n",
            "285 of 500 done\n",
            "286 of 500 done\n",
            "287 of 500 done\n",
            "288 of 500 done\n",
            "289 of 500 done\n",
            "290 of 500 done\n",
            "291 of 500 done\n",
            "292 of 500 done\n",
            "293 of 500 done\n",
            "294 of 500 done\n",
            "295 of 500 done\n",
            "296 of 500 done\n",
            "297 of 500 done\n",
            "298 of 500 done\n",
            "299 of 500 done\n",
            "300 of 500 done\n",
            "301 of 500 done\n",
            "302 of 500 done\n",
            "303 of 500 done\n",
            "304 of 500 done\n",
            "305 of 500 done\n",
            "306 of 500 done\n",
            "307 of 500 done\n",
            "308 of 500 done\n",
            "309 of 500 done\n",
            "310 of 500 done\n",
            "311 of 500 done\n",
            "312 of 500 done\n",
            "313 of 500 done\n",
            "314 of 500 done\n",
            "315 of 500 done\n",
            "316 of 500 done\n",
            "317 of 500 done\n",
            "318 of 500 done\n",
            "319 of 500 done\n",
            "320 of 500 done\n",
            "321 of 500 done\n",
            "322 of 500 done\n",
            "323 of 500 done\n",
            "324 of 500 done\n",
            "325 of 500 done\n",
            "326 of 500 done\n",
            "327 of 500 done\n",
            "328 of 500 done\n",
            "329 of 500 done\n",
            "330 of 500 done\n",
            "331 of 500 done\n",
            "332 of 500 done\n",
            "333 of 500 done\n",
            "334 of 500 done\n",
            "335 of 500 done\n",
            "336 of 500 done\n",
            "337 of 500 done\n",
            "338 of 500 done\n",
            "339 of 500 done\n",
            "340 of 500 done\n",
            "341 of 500 done\n",
            "342 of 500 done\n",
            "343 of 500 done\n",
            "344 of 500 done\n",
            "345 of 500 done\n",
            "346 of 500 done\n",
            "347 of 500 done\n",
            "348 of 500 done\n",
            "349 of 500 done\n",
            "350 of 500 done\n",
            "351 of 500 done\n",
            "352 of 500 done\n",
            "353 of 500 done\n",
            "354 of 500 done\n",
            "355 of 500 done\n",
            "356 of 500 done\n",
            "357 of 500 done\n",
            "358 of 500 done\n",
            "359 of 500 done\n",
            "360 of 500 done\n",
            "361 of 500 done\n",
            "362 of 500 done\n",
            "363 of 500 done\n",
            "364 of 500 done\n",
            "365 of 500 done\n",
            "366 of 500 done\n",
            "367 of 500 done\n",
            "368 of 500 done\n",
            "369 of 500 done\n",
            "370 of 500 done\n",
            "371 of 500 done\n",
            "372 of 500 done\n",
            "373 of 500 done\n",
            "374 of 500 done\n",
            "375 of 500 done\n",
            "376 of 500 done\n",
            "377 of 500 done\n",
            "378 of 500 done\n",
            "379 of 500 done\n",
            "380 of 500 done\n",
            "381 of 500 done\n",
            "382 of 500 done\n",
            "383 of 500 done\n",
            "384 of 500 done\n",
            "385 of 500 done\n",
            "386 of 500 done\n",
            "387 of 500 done\n",
            "388 of 500 done\n",
            "389 of 500 done\n",
            "390 of 500 done\n",
            "391 of 500 done\n",
            "392 of 500 done\n",
            "393 of 500 done\n",
            "394 of 500 done\n",
            "395 of 500 done\n",
            "396 of 500 done\n",
            "397 of 500 done\n",
            "398 of 500 done\n",
            "399 of 500 done\n",
            "400 of 500 done\n",
            "401 of 500 done\n",
            "402 of 500 done\n",
            "403 of 500 done\n",
            "404 of 500 done\n",
            "405 of 500 done\n",
            "406 of 500 done\n",
            "407 of 500 done\n",
            "408 of 500 done\n",
            "409 of 500 done\n",
            "410 of 500 done\n",
            "411 of 500 done\n",
            "412 of 500 done\n",
            "413 of 500 done\n",
            "414 of 500 done\n",
            "415 of 500 done\n",
            "416 of 500 done\n",
            "417 of 500 done\n",
            "418 of 500 done\n",
            "419 of 500 done\n",
            "420 of 500 done\n",
            "421 of 500 done\n",
            "422 of 500 done\n",
            "423 of 500 done\n",
            "424 of 500 done\n",
            "425 of 500 done\n",
            "426 of 500 done\n",
            "427 of 500 done\n",
            "428 of 500 done\n",
            "429 of 500 done\n",
            "430 of 500 done\n",
            "431 of 500 done\n",
            "432 of 500 done\n",
            "433 of 500 done\n",
            "434 of 500 done\n",
            "435 of 500 done\n",
            "436 of 500 done\n",
            "437 of 500 done\n",
            "438 of 500 done\n",
            "439 of 500 done\n",
            "440 of 500 done\n",
            "441 of 500 done\n",
            "442 of 500 done\n",
            "443 of 500 done\n",
            "444 of 500 done\n",
            "445 of 500 done\n",
            "446 of 500 done\n",
            "447 of 500 done\n",
            "448 of 500 done\n",
            "449 of 500 done\n",
            "450 of 500 done\n",
            "451 of 500 done\n",
            "452 of 500 done\n",
            "453 of 500 done\n",
            "454 of 500 done\n",
            "455 of 500 done\n",
            "456 of 500 done\n",
            "457 of 500 done\n",
            "458 of 500 done\n",
            "459 of 500 done\n",
            "460 of 500 done\n",
            "461 of 500 done\n",
            "462 of 500 done\n",
            "463 of 500 done\n",
            "464 of 500 done\n",
            "465 of 500 done\n",
            "466 of 500 done\n",
            "467 of 500 done\n",
            "468 of 500 done\n",
            "469 of 500 done\n",
            "470 of 500 done\n",
            "471 of 500 done\n",
            "472 of 500 done\n",
            "473 of 500 done\n",
            "474 of 500 done\n",
            "475 of 500 done\n",
            "476 of 500 done\n",
            "477 of 500 done\n",
            "478 of 500 done\n",
            "479 of 500 done\n",
            "480 of 500 done\n",
            "481 of 500 done\n",
            "482 of 500 done\n",
            "483 of 500 done\n",
            "484 of 500 done\n",
            "485 of 500 done\n",
            "486 of 500 done\n",
            "487 of 500 done\n",
            "488 of 500 done\n",
            "489 of 500 done\n",
            "490 of 500 done\n",
            "491 of 500 done\n",
            "492 of 500 done\n",
            "493 of 500 done\n",
            "494 of 500 done\n",
            "495 of 500 done\n",
            "496 of 500 done\n",
            "497 of 500 done\n",
            "498 of 500 done\n",
            "499 of 500 done\n",
            "500 of 500 done\n"
          ]
        }
      ],
      "source": [
        "# Making a list of all the mean fMRI images\n",
        "mean_imgs = []\n",
        "\n",
        "for i in range(len(func)):\n",
        "  # loads the image\n",
        "  img = image.load_img(func[i])\n",
        "  # creates the mean image\n",
        "  mean_image = mean_img(img)\n",
        "  # retrieves the numeric data\n",
        "  mean_data = mean_image.get_fdata()\n",
        "  # adds it to the mean image list\n",
        "  mean_imgs.append(mean_data)\n",
        "  print(i+1, \"of\", len(func), \"done\")"
      ]
    },
    {
      "cell_type": "code",
      "execution_count": null,
      "metadata": {
        "id": "PLyB5tXTb12J"
      },
      "outputs": [],
      "source": [
        "# Creating an array of the mean image list to easily save it\n",
        "mean_img_500_array = np.array(mean_imgs)"
      ]
    },
    {
      "cell_type": "code",
      "execution_count": null,
      "metadata": {
        "id": "AU1XCZNIb12K"
      },
      "outputs": [],
      "source": [
        "# Saving the mean_img array\n",
        "np.save('/content/drive/MyDrive/MasterThesis/Data/mean_imgs_500.npy', mean_img_500_array)"
      ]
    },
    {
      "cell_type": "code",
      "execution_count": null,
      "metadata": {
        "id": "cc87RWr59OGg"
      },
      "outputs": [],
      "source": [
        "# Loading it in to use it again\n",
        "mean_img_500 = np.load('/content/drive/MyDrive/MasterThesis/Data/mean_imgs_500.npy') "
      ]
    },
    {
      "cell_type": "code",
      "execution_count": null,
      "metadata": {
        "colab": {
          "base_uri": "https://localhost:8080/"
        },
        "id": "uSVpTPjtF6Av",
        "outputId": "4b9d7807-dc89-4ece-bb43-edba6ae957c7"
      },
      "outputs": [
        {
          "data": {
            "text/plain": [
              "(500, 61, 73, 61)"
            ]
          },
          "execution_count": 22,
          "metadata": {},
          "output_type": "execute_result"
        }
      ],
      "source": [
        "# Checking if it shape is correct\n",
        "mean_img_500.shape"
      ]
    },
    {
      "cell_type": "code",
      "execution_count": null,
      "metadata": {
        "colab": {
          "base_uri": "https://localhost:8080/"
        },
        "id": "lGGevm6r8y3a",
        "outputId": "dbd2cec6-602d-40e7-8b78-f1cbbbb883aa"
      },
      "outputs": [
        {
          "name": "stdout",
          "output_type": "stream",
          "text": [
            "done with 1 of 500\n",
            "done with 2 of 500\n",
            "done with 3 of 500\n",
            "done with 4 of 500\n",
            "done with 5 of 500\n",
            "done with 6 of 500\n",
            "done with 7 of 500\n",
            "done with 8 of 500\n",
            "done with 9 of 500\n",
            "done with 10 of 500\n",
            "done with 11 of 500\n",
            "done with 12 of 500\n",
            "done with 13 of 500\n",
            "done with 14 of 500\n",
            "done with 15 of 500\n",
            "done with 16 of 500\n",
            "done with 17 of 500\n",
            "done with 18 of 500\n",
            "done with 19 of 500\n",
            "done with 20 of 500\n",
            "done with 21 of 500\n",
            "done with 22 of 500\n",
            "done with 23 of 500\n",
            "done with 24 of 500\n",
            "done with 25 of 500\n",
            "done with 26 of 500\n",
            "done with 27 of 500\n",
            "done with 28 of 500\n",
            "done with 29 of 500\n",
            "done with 30 of 500\n",
            "done with 31 of 500\n",
            "done with 32 of 500\n",
            "done with 33 of 500\n",
            "done with 34 of 500\n",
            "done with 35 of 500\n",
            "done with 36 of 500\n",
            "done with 37 of 500\n",
            "done with 38 of 500\n",
            "done with 39 of 500\n",
            "done with 40 of 500\n",
            "done with 41 of 500\n",
            "done with 42 of 500\n",
            "done with 43 of 500\n",
            "done with 44 of 500\n",
            "done with 45 of 500\n",
            "done with 46 of 500\n",
            "done with 47 of 500\n",
            "done with 48 of 500\n",
            "done with 49 of 500\n",
            "done with 50 of 500\n",
            "done with 51 of 500\n",
            "done with 52 of 500\n",
            "done with 53 of 500\n",
            "done with 54 of 500\n",
            "done with 55 of 500\n",
            "done with 56 of 500\n",
            "done with 57 of 500\n",
            "done with 58 of 500\n",
            "done with 59 of 500\n",
            "done with 60 of 500\n",
            "done with 61 of 500\n",
            "done with 62 of 500\n",
            "done with 63 of 500\n",
            "done with 64 of 500\n",
            "done with 65 of 500\n",
            "done with 66 of 500\n",
            "done with 67 of 500\n",
            "done with 68 of 500\n",
            "done with 69 of 500\n",
            "done with 70 of 500\n",
            "done with 71 of 500\n",
            "done with 72 of 500\n",
            "done with 73 of 500\n",
            "done with 74 of 500\n",
            "done with 75 of 500\n",
            "done with 76 of 500\n",
            "done with 77 of 500\n",
            "done with 78 of 500\n",
            "done with 79 of 500\n",
            "done with 80 of 500\n",
            "done with 81 of 500\n",
            "done with 82 of 500\n",
            "done with 83 of 500\n",
            "done with 84 of 500\n",
            "done with 85 of 500\n",
            "done with 86 of 500\n",
            "done with 87 of 500\n",
            "done with 88 of 500\n",
            "done with 89 of 500\n",
            "done with 90 of 500\n",
            "done with 91 of 500\n",
            "done with 92 of 500\n",
            "done with 93 of 500\n",
            "done with 94 of 500\n",
            "done with 95 of 500\n",
            "done with 96 of 500\n",
            "done with 97 of 500\n",
            "done with 98 of 500\n",
            "done with 99 of 500\n",
            "done with 100 of 500\n",
            "done with 101 of 500\n",
            "done with 102 of 500\n",
            "done with 103 of 500\n",
            "done with 104 of 500\n",
            "done with 105 of 500\n",
            "done with 106 of 500\n",
            "done with 107 of 500\n",
            "done with 108 of 500\n",
            "done with 109 of 500\n",
            "done with 110 of 500\n",
            "done with 111 of 500\n",
            "done with 112 of 500\n",
            "done with 113 of 500\n",
            "done with 114 of 500\n",
            "done with 115 of 500\n",
            "done with 116 of 500\n",
            "done with 117 of 500\n",
            "done with 118 of 500\n",
            "done with 119 of 500\n",
            "done with 120 of 500\n",
            "done with 121 of 500\n",
            "done with 122 of 500\n",
            "done with 123 of 500\n",
            "done with 124 of 500\n",
            "done with 125 of 500\n",
            "done with 126 of 500\n",
            "done with 127 of 500\n",
            "done with 128 of 500\n",
            "done with 129 of 500\n",
            "done with 130 of 500\n",
            "done with 131 of 500\n",
            "done with 132 of 500\n",
            "done with 133 of 500\n",
            "done with 134 of 500\n",
            "done with 135 of 500\n",
            "done with 136 of 500\n",
            "done with 137 of 500\n",
            "done with 138 of 500\n",
            "done with 139 of 500\n",
            "done with 140 of 500\n",
            "done with 141 of 500\n",
            "done with 142 of 500\n",
            "done with 143 of 500\n",
            "done with 144 of 500\n",
            "done with 145 of 500\n",
            "done with 146 of 500\n",
            "done with 147 of 500\n",
            "done with 148 of 500\n",
            "done with 149 of 500\n",
            "done with 150 of 500\n",
            "done with 151 of 500\n",
            "done with 152 of 500\n",
            "done with 153 of 500\n",
            "done with 154 of 500\n",
            "done with 155 of 500\n",
            "done with 156 of 500\n",
            "done with 157 of 500\n",
            "done with 158 of 500\n",
            "done with 159 of 500\n",
            "done with 160 of 500\n",
            "done with 161 of 500\n",
            "done with 162 of 500\n",
            "done with 163 of 500\n",
            "done with 164 of 500\n",
            "done with 165 of 500\n",
            "done with 166 of 500\n",
            "done with 167 of 500\n",
            "done with 168 of 500\n",
            "done with 169 of 500\n",
            "done with 170 of 500\n",
            "done with 171 of 500\n",
            "done with 172 of 500\n",
            "done with 173 of 500\n",
            "done with 174 of 500\n",
            "done with 175 of 500\n",
            "done with 176 of 500\n",
            "done with 177 of 500\n",
            "done with 178 of 500\n",
            "done with 179 of 500\n",
            "done with 180 of 500\n",
            "done with 181 of 500\n",
            "done with 182 of 500\n",
            "done with 183 of 500\n",
            "done with 184 of 500\n",
            "done with 185 of 500\n",
            "done with 186 of 500\n",
            "done with 187 of 500\n",
            "done with 188 of 500\n",
            "done with 189 of 500\n",
            "done with 190 of 500\n",
            "done with 191 of 500\n",
            "done with 192 of 500\n",
            "done with 193 of 500\n",
            "done with 194 of 500\n",
            "done with 195 of 500\n",
            "done with 196 of 500\n",
            "done with 197 of 500\n",
            "done with 198 of 500\n",
            "done with 199 of 500\n",
            "done with 200 of 500\n",
            "done with 201 of 500\n",
            "done with 202 of 500\n",
            "done with 203 of 500\n",
            "done with 204 of 500\n",
            "done with 205 of 500\n",
            "done with 206 of 500\n",
            "done with 207 of 500\n",
            "done with 208 of 500\n",
            "done with 209 of 500\n",
            "done with 210 of 500\n",
            "done with 211 of 500\n",
            "done with 212 of 500\n",
            "done with 213 of 500\n",
            "done with 214 of 500\n",
            "done with 215 of 500\n",
            "done with 216 of 500\n",
            "done with 217 of 500\n",
            "done with 218 of 500\n",
            "done with 219 of 500\n",
            "done with 220 of 500\n",
            "done with 221 of 500\n",
            "done with 222 of 500\n",
            "done with 223 of 500\n",
            "done with 224 of 500\n",
            "done with 225 of 500\n",
            "done with 226 of 500\n",
            "done with 227 of 500\n",
            "done with 228 of 500\n",
            "done with 229 of 500\n",
            "done with 230 of 500\n",
            "done with 231 of 500\n",
            "done with 232 of 500\n",
            "done with 233 of 500\n",
            "done with 234 of 500\n",
            "done with 235 of 500\n",
            "done with 236 of 500\n",
            "done with 237 of 500\n",
            "done with 238 of 500\n",
            "done with 239 of 500\n",
            "done with 240 of 500\n",
            "done with 241 of 500\n",
            "done with 242 of 500\n",
            "done with 243 of 500\n",
            "done with 244 of 500\n",
            "done with 245 of 500\n",
            "done with 246 of 500\n",
            "done with 247 of 500\n",
            "done with 248 of 500\n",
            "done with 249 of 500\n",
            "done with 250 of 500\n",
            "done with 251 of 500\n",
            "done with 252 of 500\n",
            "done with 253 of 500\n",
            "done with 254 of 500\n",
            "done with 255 of 500\n",
            "done with 256 of 500\n",
            "done with 257 of 500\n",
            "done with 258 of 500\n",
            "done with 259 of 500\n",
            "done with 260 of 500\n",
            "done with 261 of 500\n",
            "done with 262 of 500\n",
            "done with 263 of 500\n",
            "done with 264 of 500\n",
            "done with 265 of 500\n",
            "done with 266 of 500\n",
            "done with 267 of 500\n",
            "done with 268 of 500\n",
            "done with 269 of 500\n",
            "done with 270 of 500\n",
            "done with 271 of 500\n",
            "done with 272 of 500\n",
            "done with 273 of 500\n",
            "done with 274 of 500\n",
            "done with 275 of 500\n",
            "done with 276 of 500\n",
            "done with 277 of 500\n",
            "done with 278 of 500\n",
            "done with 279 of 500\n",
            "done with 280 of 500\n",
            "done with 281 of 500\n",
            "done with 282 of 500\n",
            "done with 283 of 500\n",
            "done with 284 of 500\n",
            "done with 285 of 500\n",
            "done with 286 of 500\n",
            "done with 287 of 500\n",
            "done with 288 of 500\n",
            "done with 289 of 500\n",
            "done with 290 of 500\n",
            "done with 291 of 500\n",
            "done with 292 of 500\n",
            "done with 293 of 500\n",
            "done with 294 of 500\n",
            "done with 295 of 500\n",
            "done with 296 of 500\n",
            "done with 297 of 500\n",
            "done with 298 of 500\n",
            "done with 299 of 500\n",
            "done with 300 of 500\n",
            "done with 301 of 500\n",
            "done with 302 of 500\n",
            "done with 303 of 500\n",
            "done with 304 of 500\n",
            "done with 305 of 500\n",
            "done with 306 of 500\n",
            "done with 307 of 500\n",
            "done with 308 of 500\n",
            "done with 309 of 500\n",
            "done with 310 of 500\n",
            "done with 311 of 500\n",
            "done with 312 of 500\n",
            "done with 313 of 500\n",
            "done with 314 of 500\n",
            "done with 315 of 500\n",
            "done with 316 of 500\n",
            "done with 317 of 500\n",
            "done with 318 of 500\n",
            "done with 319 of 500\n",
            "done with 320 of 500\n",
            "done with 321 of 500\n",
            "done with 322 of 500\n",
            "done with 323 of 500\n",
            "done with 324 of 500\n",
            "done with 325 of 500\n",
            "done with 326 of 500\n",
            "done with 327 of 500\n",
            "done with 328 of 500\n",
            "done with 329 of 500\n",
            "done with 330 of 500\n",
            "done with 331 of 500\n",
            "done with 332 of 500\n",
            "done with 333 of 500\n",
            "done with 334 of 500\n",
            "done with 335 of 500\n",
            "done with 336 of 500\n",
            "done with 337 of 500\n",
            "done with 338 of 500\n",
            "done with 339 of 500\n",
            "done with 340 of 500\n",
            "done with 341 of 500\n",
            "done with 342 of 500\n",
            "done with 343 of 500\n",
            "done with 344 of 500\n",
            "done with 345 of 500\n",
            "done with 346 of 500\n",
            "done with 347 of 500\n",
            "done with 348 of 500\n",
            "done with 349 of 500\n",
            "done with 350 of 500\n",
            "done with 351 of 500\n",
            "done with 352 of 500\n",
            "done with 353 of 500\n",
            "done with 354 of 500\n",
            "done with 355 of 500\n",
            "done with 356 of 500\n",
            "done with 357 of 500\n",
            "done with 358 of 500\n",
            "done with 359 of 500\n",
            "done with 360 of 500\n",
            "done with 361 of 500\n",
            "done with 362 of 500\n",
            "done with 363 of 500\n",
            "done with 364 of 500\n",
            "done with 365 of 500\n",
            "done with 366 of 500\n",
            "done with 367 of 500\n",
            "done with 368 of 500\n",
            "done with 369 of 500\n",
            "done with 370 of 500\n",
            "done with 371 of 500\n",
            "done with 372 of 500\n",
            "done with 373 of 500\n",
            "done with 374 of 500\n",
            "done with 375 of 500\n",
            "done with 376 of 500\n",
            "done with 377 of 500\n",
            "done with 378 of 500\n",
            "done with 379 of 500\n",
            "done with 380 of 500\n",
            "done with 381 of 500\n",
            "done with 382 of 500\n",
            "done with 383 of 500\n",
            "done with 384 of 500\n",
            "done with 385 of 500\n",
            "done with 386 of 500\n",
            "done with 387 of 500\n",
            "done with 388 of 500\n",
            "done with 389 of 500\n",
            "done with 390 of 500\n",
            "done with 391 of 500\n",
            "done with 392 of 500\n",
            "done with 393 of 500\n",
            "done with 394 of 500\n",
            "done with 395 of 500\n",
            "done with 396 of 500\n",
            "done with 397 of 500\n",
            "done with 398 of 500\n",
            "done with 399 of 500\n",
            "done with 400 of 500\n",
            "done with 401 of 500\n",
            "done with 402 of 500\n",
            "done with 403 of 500\n",
            "done with 404 of 500\n",
            "done with 405 of 500\n",
            "done with 406 of 500\n",
            "done with 407 of 500\n",
            "done with 408 of 500\n",
            "done with 409 of 500\n",
            "done with 410 of 500\n",
            "done with 411 of 500\n",
            "done with 412 of 500\n",
            "done with 413 of 500\n",
            "done with 414 of 500\n",
            "done with 415 of 500\n",
            "done with 416 of 500\n",
            "done with 417 of 500\n",
            "done with 418 of 500\n",
            "done with 419 of 500\n",
            "done with 420 of 500\n",
            "done with 421 of 500\n",
            "done with 422 of 500\n",
            "done with 423 of 500\n",
            "done with 424 of 500\n",
            "done with 425 of 500\n",
            "done with 426 of 500\n",
            "done with 427 of 500\n",
            "done with 428 of 500\n",
            "done with 429 of 500\n",
            "done with 430 of 500\n",
            "done with 431 of 500\n",
            "done with 432 of 500\n",
            "done with 433 of 500\n",
            "done with 434 of 500\n",
            "done with 435 of 500\n",
            "done with 436 of 500\n",
            "done with 437 of 500\n",
            "done with 438 of 500\n",
            "done with 439 of 500\n",
            "done with 440 of 500\n",
            "done with 441 of 500\n",
            "done with 442 of 500\n",
            "done with 443 of 500\n",
            "done with 444 of 500\n",
            "done with 445 of 500\n",
            "done with 446 of 500\n",
            "done with 447 of 500\n",
            "done with 448 of 500\n",
            "done with 449 of 500\n",
            "done with 450 of 500\n",
            "done with 451 of 500\n",
            "done with 452 of 500\n",
            "done with 453 of 500\n",
            "done with 454 of 500\n",
            "done with 455 of 500\n",
            "done with 456 of 500\n",
            "done with 457 of 500\n",
            "done with 458 of 500\n",
            "done with 459 of 500\n",
            "done with 460 of 500\n",
            "done with 461 of 500\n",
            "done with 462 of 500\n",
            "done with 463 of 500\n",
            "done with 464 of 500\n",
            "done with 465 of 500\n",
            "done with 466 of 500\n",
            "done with 467 of 500\n",
            "done with 468 of 500\n",
            "done with 469 of 500\n",
            "done with 470 of 500\n",
            "done with 471 of 500\n",
            "done with 472 of 500\n",
            "done with 473 of 500\n",
            "done with 474 of 500\n",
            "done with 475 of 500\n",
            "done with 476 of 500\n",
            "done with 477 of 500\n",
            "done with 478 of 500\n",
            "done with 479 of 500\n",
            "done with 480 of 500\n",
            "done with 481 of 500\n",
            "done with 482 of 500\n",
            "done with 483 of 500\n",
            "done with 484 of 500\n",
            "done with 485 of 500\n",
            "done with 486 of 500\n",
            "done with 487 of 500\n",
            "done with 488 of 500\n",
            "done with 489 of 500\n",
            "done with 490 of 500\n",
            "done with 491 of 500\n",
            "done with 492 of 500\n",
            "done with 493 of 500\n",
            "done with 494 of 500\n",
            "done with 495 of 500\n",
            "done with 496 of 500\n",
            "done with 497 of 500\n",
            "done with 498 of 500\n",
            "done with 499 of 500\n",
            "done with 500 of 500\n"
          ]
        }
      ],
      "source": [
        "# Flattening the mean_images for the SVM\n",
        "x_fmri = []\n",
        "j = 0\n",
        "\n",
        "for i in mean_img_500:\n",
        "  x_fmri.append(i.ravel())\n",
        "  j += 1\n",
        "  print(\"done with\", j, \"of\", len(mean_img_500))"
      ]
    },
    {
      "cell_type": "code",
      "execution_count": null,
      "metadata": {
        "colab": {
          "base_uri": "https://localhost:8080/"
        },
        "id": "nequZcSL-er4",
        "outputId": "5646d171-c494-4aa2-ece2-76428fffd541"
      },
      "outputs": [
        {
          "data": {
            "text/plain": [
              "(500, 271633)"
            ]
          },
          "execution_count": 23,
          "metadata": {},
          "output_type": "execute_result"
        }
      ],
      "source": [
        "# Transforming it to an array to easiliy save it and to check out the shape\n",
        "X_array = np.array(x_fmri)\n",
        "X_array.shape"
      ]
    },
    {
      "cell_type": "code",
      "execution_count": null,
      "metadata": {
        "id": "L6Pub6KL_LOq"
      },
      "outputs": [],
      "source": [
        "# Saving the flattened mean images to a file\n",
        "np.save('/content/drive/MyDrive/MasterThesis/Data/flat_fmri_500.npy', X_array)"
      ]
    },
    {
      "cell_type": "code",
      "execution_count": null,
      "metadata": {
        "id": "cQcSUUPQ_jzf"
      },
      "outputs": [],
      "source": [
        "# Loading it in to use it again\n",
        "fmri_data = np.load('/content/drive/MyDrive/MasterThesis/Data/flat_fmri_500.npy')"
      ]
    },
    {
      "cell_type": "code",
      "execution_count": null,
      "metadata": {
        "id": "t27vGBin_XrI"
      },
      "outputs": [],
      "source": [
        "#Splitting the data into a training and testing set\n",
        "x_train, x_test, y_train, y_test = train_test_split(x_fmri, labels, test_size = 0.1, random_state = 60)"
      ]
    },
    {
      "cell_type": "code",
      "execution_count": null,
      "metadata": {
        "colab": {
          "base_uri": "https://localhost:8080/"
        },
        "id": "1o0znupDKsO2",
        "outputId": "e99863e5-c7fe-4cff-e510-c3b3e1998998"
      },
      "outputs": [
        {
          "name": "stdout",
          "output_type": "stream",
          "text": [
            "(450, 271633)\n",
            "(450,)\n",
            "(50, 271633)\n",
            "(50,)\n"
          ]
        }
      ],
      "source": [
        "# Checking out the shape of the data\n",
        "print(np.array(x_train).shape)\n",
        "print(np.array(y_train).shape)\n",
        "print(np.array(x_test).shape)\n",
        "print(np.array(y_test).shape)"
      ]
    },
    {
      "cell_type": "code",
      "execution_count": null,
      "metadata": {
        "colab": {
          "base_uri": "https://localhost:8080/"
        },
        "id": "BbD5hxBlKsO4",
        "outputId": "2e116167-25d7-43d3-d41e-a37be2e0091f"
      },
      "outputs": [
        {
          "data": {
            "text/plain": [
              "114"
            ]
          },
          "execution_count": 46,
          "metadata": {},
          "output_type": "execute_result"
        }
      ],
      "source": [
        "# Clearing up memory by deleting data we do not need anymore\n",
        "del svm_data\n",
        "gc.collect()"
      ]
    },
    {
      "cell_type": "code",
      "execution_count": null,
      "metadata": {
        "colab": {
          "base_uri": "https://localhost:8080/",
          "height": 655
        },
        "id": "0a4Vl9RwKsO4",
        "outputId": "45bb2070-3e42-4364-fc1f-09a92e10e891"
      },
      "outputs": [
        {
          "name": "stdout",
          "output_type": "stream",
          "text": [
            "Fitting 5 folds for each of 6 candidates, totalling 30 fits\n",
            "[CV 1/5] END ..............C=0.1, kernel=linear;, score=0.522 total time=  45.6s\n",
            "[CV 2/5] END ..............C=0.1, kernel=linear;, score=0.411 total time=  45.2s\n",
            "[CV 3/5] END ..............C=0.1, kernel=linear;, score=0.456 total time=  45.3s\n",
            "[CV 4/5] END ..............C=0.1, kernel=linear;, score=0.433 total time=  46.1s\n",
            "[CV 5/5] END ..............C=0.1, kernel=linear;, score=0.589 total time=  44.7s\n",
            "[CV 1/5] END .................C=0.1, kernel=rbf;, score=0.533 total time=  56.0s\n",
            "[CV 2/5] END .................C=0.1, kernel=rbf;, score=0.522 total time=  57.2s\n",
            "[CV 3/5] END .................C=0.1, kernel=rbf;, score=0.522 total time=  54.9s\n",
            "[CV 4/5] END .................C=0.1, kernel=rbf;, score=0.522 total time=  56.2s\n",
            "[CV 5/5] END .................C=0.1, kernel=rbf;, score=0.522 total time=  56.7s\n",
            "[CV 1/5] END ................C=1, kernel=linear;, score=0.522 total time=  45.7s\n",
            "[CV 2/5] END ................C=1, kernel=linear;, score=0.411 total time=  45.0s\n",
            "[CV 3/5] END ................C=1, kernel=linear;, score=0.456 total time=  47.3s\n",
            "[CV 4/5] END ................C=1, kernel=linear;, score=0.433 total time=  44.7s\n",
            "[CV 5/5] END ................C=1, kernel=linear;, score=0.589 total time=  46.7s\n",
            "[CV 1/5] END ...................C=1, kernel=rbf;, score=0.533 total time=  57.1s\n",
            "[CV 2/5] END ...................C=1, kernel=rbf;, score=0.578 total time=  56.1s\n",
            "[CV 3/5] END ...................C=1, kernel=rbf;, score=0.478 total time=  57.7s\n",
            "[CV 4/5] END ...................C=1, kernel=rbf;, score=0.589 total time=  58.5s\n",
            "[CV 5/5] END ...................C=1, kernel=rbf;, score=0.611 total time=  55.7s\n",
            "[CV 1/5] END ...............C=10, kernel=linear;, score=0.522 total time=  48.2s\n",
            "[CV 2/5] END ...............C=10, kernel=linear;, score=0.411 total time=  46.2s\n",
            "[CV 3/5] END ...............C=10, kernel=linear;, score=0.456 total time=  47.3s\n",
            "[CV 4/5] END ...............C=10, kernel=linear;, score=0.433 total time=  48.4s\n",
            "[CV 5/5] END ...............C=10, kernel=linear;, score=0.589 total time=  45.8s\n",
            "[CV 1/5] END ..................C=10, kernel=rbf;, score=0.489 total time=  56.6s\n",
            "[CV 2/5] END ..................C=10, kernel=rbf;, score=0.478 total time=  57.5s\n",
            "[CV 3/5] END ..................C=10, kernel=rbf;, score=0.444 total time=  58.9s\n",
            "[CV 4/5] END ..................C=10, kernel=rbf;, score=0.489 total time=  55.7s\n",
            "[CV 5/5] END ..................C=10, kernel=rbf;, score=0.622 total time=  57.7s\n"
          ]
        },
        {
          "data": {
            "text/html": [
              "<style>#sk-container-id-1 {color: black;background-color: white;}#sk-container-id-1 pre{padding: 0;}#sk-container-id-1 div.sk-toggleable {background-color: white;}#sk-container-id-1 label.sk-toggleable__label {cursor: pointer;display: block;width: 100%;margin-bottom: 0;padding: 0.3em;box-sizing: border-box;text-align: center;}#sk-container-id-1 label.sk-toggleable__label-arrow:before {content: \"▸\";float: left;margin-right: 0.25em;color: #696969;}#sk-container-id-1 label.sk-toggleable__label-arrow:hover:before {color: black;}#sk-container-id-1 div.sk-estimator:hover label.sk-toggleable__label-arrow:before {color: black;}#sk-container-id-1 div.sk-toggleable__content {max-height: 0;max-width: 0;overflow: hidden;text-align: left;background-color: #f0f8ff;}#sk-container-id-1 div.sk-toggleable__content pre {margin: 0.2em;color: black;border-radius: 0.25em;background-color: #f0f8ff;}#sk-container-id-1 input.sk-toggleable__control:checked~div.sk-toggleable__content {max-height: 200px;max-width: 100%;overflow: auto;}#sk-container-id-1 input.sk-toggleable__control:checked~label.sk-toggleable__label-arrow:before {content: \"▾\";}#sk-container-id-1 div.sk-estimator input.sk-toggleable__control:checked~label.sk-toggleable__label {background-color: #d4ebff;}#sk-container-id-1 div.sk-label input.sk-toggleable__control:checked~label.sk-toggleable__label {background-color: #d4ebff;}#sk-container-id-1 input.sk-hidden--visually {border: 0;clip: rect(1px 1px 1px 1px);clip: rect(1px, 1px, 1px, 1px);height: 1px;margin: -1px;overflow: hidden;padding: 0;position: absolute;width: 1px;}#sk-container-id-1 div.sk-estimator {font-family: monospace;background-color: #f0f8ff;border: 1px dotted black;border-radius: 0.25em;box-sizing: border-box;margin-bottom: 0.5em;}#sk-container-id-1 div.sk-estimator:hover {background-color: #d4ebff;}#sk-container-id-1 div.sk-parallel-item::after {content: \"\";width: 100%;border-bottom: 1px solid gray;flex-grow: 1;}#sk-container-id-1 div.sk-label:hover label.sk-toggleable__label {background-color: #d4ebff;}#sk-container-id-1 div.sk-serial::before {content: \"\";position: absolute;border-left: 1px solid gray;box-sizing: border-box;top: 0;bottom: 0;left: 50%;z-index: 0;}#sk-container-id-1 div.sk-serial {display: flex;flex-direction: column;align-items: center;background-color: white;padding-right: 0.2em;padding-left: 0.2em;position: relative;}#sk-container-id-1 div.sk-item {position: relative;z-index: 1;}#sk-container-id-1 div.sk-parallel {display: flex;align-items: stretch;justify-content: center;background-color: white;position: relative;}#sk-container-id-1 div.sk-item::before, #sk-container-id-1 div.sk-parallel-item::before {content: \"\";position: absolute;border-left: 1px solid gray;box-sizing: border-box;top: 0;bottom: 0;left: 50%;z-index: -1;}#sk-container-id-1 div.sk-parallel-item {display: flex;flex-direction: column;z-index: 1;position: relative;background-color: white;}#sk-container-id-1 div.sk-parallel-item:first-child::after {align-self: flex-end;width: 50%;}#sk-container-id-1 div.sk-parallel-item:last-child::after {align-self: flex-start;width: 50%;}#sk-container-id-1 div.sk-parallel-item:only-child::after {width: 0;}#sk-container-id-1 div.sk-dashed-wrapped {border: 1px dashed gray;margin: 0 0.4em 0.5em 0.4em;box-sizing: border-box;padding-bottom: 0.4em;background-color: white;}#sk-container-id-1 div.sk-label label {font-family: monospace;font-weight: bold;display: inline-block;line-height: 1.2em;}#sk-container-id-1 div.sk-label-container {text-align: center;}#sk-container-id-1 div.sk-container {/* jupyter's `normalize.less` sets `[hidden] { display: none; }` but bootstrap.min.css set `[hidden] { display: none !important; }` so we also need the `!important` here to be able to override the default hidden behavior on the sphinx rendered scikit-learn.org. See: https://github.com/scikit-learn/scikit-learn/issues/21755 */display: inline-block !important;position: relative;}#sk-container-id-1 div.sk-text-repr-fallback {display: none;}</style><div id=\"sk-container-id-1\" class=\"sk-top-container\"><div class=\"sk-text-repr-fallback\"><pre>GridSearchCV(estimator=SVC(),\n",
              "             param_grid={&#x27;C&#x27;: [0.1, 1, 10], &#x27;kernel&#x27;: [&#x27;linear&#x27;, &#x27;rbf&#x27;]},\n",
              "             verbose=4)</pre><b>In a Jupyter environment, please rerun this cell to show the HTML representation or trust the notebook. <br />On GitHub, the HTML representation is unable to render, please try loading this page with nbviewer.org.</b></div><div class=\"sk-container\" hidden><div class=\"sk-item sk-dashed-wrapped\"><div class=\"sk-label-container\"><div class=\"sk-label sk-toggleable\"><input class=\"sk-toggleable__control sk-hidden--visually\" id=\"sk-estimator-id-1\" type=\"checkbox\" ><label for=\"sk-estimator-id-1\" class=\"sk-toggleable__label sk-toggleable__label-arrow\">GridSearchCV</label><div class=\"sk-toggleable__content\"><pre>GridSearchCV(estimator=SVC(),\n",
              "             param_grid={&#x27;C&#x27;: [0.1, 1, 10], &#x27;kernel&#x27;: [&#x27;linear&#x27;, &#x27;rbf&#x27;]},\n",
              "             verbose=4)</pre></div></div></div><div class=\"sk-parallel\"><div class=\"sk-parallel-item\"><div class=\"sk-item\"><div class=\"sk-label-container\"><div class=\"sk-label sk-toggleable\"><input class=\"sk-toggleable__control sk-hidden--visually\" id=\"sk-estimator-id-2\" type=\"checkbox\" ><label for=\"sk-estimator-id-2\" class=\"sk-toggleable__label sk-toggleable__label-arrow\">estimator: SVC</label><div class=\"sk-toggleable__content\"><pre>SVC()</pre></div></div></div><div class=\"sk-serial\"><div class=\"sk-item\"><div class=\"sk-estimator sk-toggleable\"><input class=\"sk-toggleable__control sk-hidden--visually\" id=\"sk-estimator-id-3\" type=\"checkbox\" ><label for=\"sk-estimator-id-3\" class=\"sk-toggleable__label sk-toggleable__label-arrow\">SVC</label><div class=\"sk-toggleable__content\"><pre>SVC()</pre></div></div></div></div></div></div></div></div></div></div>"
            ],
            "text/plain": [
              "GridSearchCV(estimator=SVC(),\n",
              "             param_grid={'C': [0.1, 1, 10], 'kernel': ['linear', 'rbf']},\n",
              "             verbose=4)"
            ]
          },
          "execution_count": 43,
          "metadata": {},
          "output_type": "execute_result"
        }
      ],
      "source": [
        "# Finding the best parameters for the mean_img SVM\n",
        "param_grid = { 'C':[0.1, 1, 10],\n",
        "              'kernel':['linear', 'rbf']}\n",
        "clf = GridSearchCV(SVC(), param_grid, verbose = 4)\n",
        "\n",
        "# Fitting the Gridsearch to the training data\n",
        "clf.fit(x_train, y_train)"
      ]
    },
    {
      "cell_type": "code",
      "execution_count": null,
      "metadata": {
        "colab": {
          "base_uri": "https://localhost:8080/"
        },
        "id": "7rmgMw3eKsO5",
        "outputId": "4e8a6763-fb81-4903-860a-4bc57d232440"
      },
      "outputs": [
        {
          "name": "stdout",
          "output_type": "stream",
          "text": [
            "{'C': 1, 'kernel': 'rbf'}\n",
            "0.44\n"
          ]
        }
      ],
      "source": [
        "# Printing the best parameters\n",
        "print(clf.best_params_)\n",
        "\n",
        "# Printing the accuracy score on the test set\n",
        "print(clf.score(x_test,y_test))"
      ]
    },
    {
      "cell_type": "code",
      "execution_count": null,
      "metadata": {
        "id": "IjwQNWncKsO5"
      },
      "outputs": [],
      "source": [
        "# Letting the model predict the labels of the test set\n",
        "y_pred = clf.predict(x_test)"
      ]
    },
    {
      "cell_type": "code",
      "execution_count": null,
      "metadata": {
        "colab": {
          "base_uri": "https://localhost:8080/"
        },
        "id": "l-Z3AtivKsO6",
        "outputId": "2b35f25c-9b34-433c-d48d-6129b2b23d47"
      },
      "outputs": [
        {
          "name": "stdout",
          "output_type": "stream",
          "text": [
            "Accuracy: 0.44\n",
            "              precision    recall  f1-score   support\n",
            "\n",
            "           0       0.42      0.77      0.55        22\n",
            "           1       0.50      0.18      0.26        28\n",
            "\n",
            "    accuracy                           0.44        50\n",
            "   macro avg       0.46      0.48      0.41        50\n",
            "weighted avg       0.47      0.44      0.39        50\n",
            "\n"
          ]
        }
      ],
      "source": [
        "# Calculating the accuracy of the SVM model\n",
        "accuracy = accuracy_score(y_test, y_pred)\n",
        "print(\"Accuracy:\", accuracy)\n",
        "\n",
        "# Calculating the precision, recall and accuracy of the SVM model\n",
        "print(classification_report(y_test,y_pred))"
      ]
    },
    {
      "cell_type": "code",
      "execution_count": 35,
      "metadata": {
        "colab": {
          "base_uri": "https://localhost:8080/",
          "height": 489
        },
        "id": "DefkHdDMh-8O",
        "outputId": "adbe1774-f1aa-42fa-9dc2-cb3ee0900f35"
      },
      "outputs": [
        {
          "data": {
            "text/plain": [
              "Text(0.5, 1.0, 'SVM - Mean Image')"
            ]
          },
          "execution_count": 35,
          "metadata": {},
          "output_type": "execute_result"
        },
        {
          "data": {
            "image/png": "[encoded data removed]",
            "text/plain": [
              "<Figure size 640x480 with 2 Axes>"
            ]
          },
          "metadata": {},
          "output_type": "display_data"
        }
      ],
      "source": [
        "# Printing the confusion matrix\n",
        "confusion = confusion_matrix(y_test, y_pred)\n",
        "cmd = ConfusionMatrixDisplay(confusion_matrix=confusion, display_labels = ['TD', 'ASD'])\n",
        "\n",
        "cmd.plot(include_values=True, cmap='Blues', ax=None, xticks_rotation='horizontal')\n",
        "cmd.ax_.set_title(\"SVM - Mean Image\")"
      ]
    },
    {
      "cell_type": "code",
      "execution_count": null,
      "metadata": {
        "colab": {
          "base_uri": "https://localhost:8080/"
        },
        "id": "g3OgcPaHh-8b",
        "outputId": "edce98a5-7d2d-4acd-8698-0f0c651c5cb0"
      },
      "outputs": [
        {
          "name": "stdout",
          "output_type": "stream",
          "text": [
            "Sensitivity ASD: 0.179\n",
            "Specificity TD: 0.773\n"
          ]
        }
      ],
      "source": [
        "# Calculating the mean sensitivity of the model\n",
        "sensitivity_asd = confusion[1][1]/(confusion[1][1] + confusion[1][0])\n",
        "\n",
        "print(\"Sensitivity ASD:\", np.round(sensitivity_asd, decimals = 3))\n",
        "\n",
        "# Calculating the mean specificity of the model\n",
        "specificity_td = confusion[0][0]/(confusion[0][0] + confusion[0][1])\n",
        "\n",
        "print(\"Specificity TD:\", np.round(specificity_td, decimals = 3))"
      ]
    },
    {
      "attachments": {},
      "cell_type": "markdown",
      "metadata": {
        "id": "cusU397sJ8kk"
      },
      "source": [
        "# **3D Convolutional Neural Network - Mean fMRI image** "
      ]
    },
    {
      "cell_type": "code",
      "execution_count": null,
      "metadata": {
        "id": "_iZB7Yu7X3Yh"
      },
      "outputs": [],
      "source": [
        "# Loading in the Mean images previously created\n",
        "mean_img_500 = np.load('/content/drive/MyDrive/MasterThesis/Data/mean_imgs_500.npy') "
      ]
    },
    {
      "cell_type": "code",
      "execution_count": null,
      "metadata": {
        "id": "XgUHXXuHYXaC"
      },
      "outputs": [],
      "source": [
        "# Transforming the labels to categorical\n",
        "labels = to_categorical(labels, num_classes = 2)"
      ]
    },
    {
      "cell_type": "code",
      "execution_count": null,
      "metadata": {
        "colab": {
          "base_uri": "https://localhost:8080/"
        },
        "id": "tQBu8FdwZX6d",
        "outputId": "9e50021e-00e1-4443-9f8a-611475b1bff3"
      },
      "outputs": [
        {
          "name": "stdout",
          "output_type": "stream",
          "text": [
            "(500, 61, 73, 61)\n",
            "(500, 2)\n"
          ]
        }
      ],
      "source": [
        "# Checking out the shape of the data\n",
        "print(mean_img_500.shape)\n",
        "print(labels.shape)"
      ]
    },
    {
      "cell_type": "code",
      "execution_count": null,
      "metadata": {
        "id": "uJKDd80HKyg6"
      },
      "outputs": [],
      "source": [
        "# Processing of the scans is adapted from https://github.com/keras-team/keras-io/blob/master/examples/vision/3D_image_classification.py\n",
        "# 3D CNN Architecture is adapted and adjusted from Liang et al. (2022)\n",
        "\n",
        "# First two functions are created to read the nifti files and read them\n",
        "\n",
        "def train_preprocessing(volume, label):\n",
        "    \"\"\"Process training data by  adding a channel.\"\"\"\n",
        "    volume = tf.expand_dims(volume, axis=3)\n",
        "    #volume = tf.tile(volume, [1, 1, 1, 3])\n",
        "    return volume, label\n",
        "\n",
        "\n",
        "def validation_preprocessing(volume, label):\n",
        "    \"\"\"Process validation data by adding a channel.\"\"\"\n",
        "    volume = tf.expand_dims(volume, axis=3)\n",
        "    #volume = tf.tile(volume, [1, 1, 1, 3])\n",
        "    return volume, label"
      ]
    },
    {
      "cell_type": "code",
      "execution_count": null,
      "metadata": {
        "id": "uDJCdxvRKptR"
      },
      "outputs": [],
      "source": [
        "# Creating the initial training and testing set with a 90-10 split\n",
        "x_train, x_test, y_train, y_test = train_test_split(mean_img_500, labels, test_size = 0.1, shuffle = True, random_state = 60)"
      ]
    },
    {
      "cell_type": "code",
      "execution_count": null,
      "metadata": {
        "id": "xC0XHtJKWZYB"
      },
      "outputs": [],
      "source": [
        "# The remaining 90% of the data will be used for the training and validation set\n",
        "train_x, x_val, train_y, y_val = train_test_split(x_train, y_train, test_size = 0.2, shuffle = True, random_state = 60)"
      ]
    },
    {
      "cell_type": "code",
      "execution_count": null,
      "metadata": {
        "id": "Mehq8RR1W7D7"
      },
      "outputs": [],
      "source": [
        "# Define data loaders which create a dataset from the tensor slices of the inputs and target variables\n",
        "train_loader = tf.data.Dataset.from_tensor_slices((train_x, train_y))\n",
        "validation_loader = tf.data.Dataset.from_tensor_slices((x_val, y_val))\n",
        "\n",
        "batch_size = 6 \n",
        "# Apply the functions from above to the data loaders to get the dataset\n",
        "# We also define the batch size that the model will use here\n",
        "train_dataset = (\n",
        "    train_loader.shuffle(len(train_x), seed = 6, reshuffle_each_iteration = False)\n",
        "    .map(train_preprocessing)\n",
        "    .batch(batch_size)\n",
        "    .prefetch(6))\n",
        "\n",
        "validation_dataset = (\n",
        "    validation_loader.shuffle(len(x_val), seed = 6, reshuffle_each_iteration = False)\n",
        "    .map(validation_preprocessing)\n",
        "    .batch(batch_size)\n",
        "    .prefetch(6))"
      ]
    },
    {
      "cell_type": "code",
      "execution_count": null,
      "metadata": {
        "colab": {
          "base_uri": "https://localhost:8080/"
        },
        "id": "QcQuSoq4XWFQ",
        "outputId": "04aa6a16-943c-43ba-84fe-77fdaf07bd79"
      },
      "outputs": [
        {
          "data": {
            "text/plain": [
              "0"
            ]
          },
          "execution_count": 18,
          "metadata": {},
          "output_type": "execute_result"
        }
      ],
      "source": [
        "# Delete some variables to clear up RAM space\n",
        "del mean_img_500\n",
        "del x_train, train_x, x_val, y_train, train_y, y_val\n",
        "gc.collect()"
      ]
    },
    {
      "cell_type": "code",
      "execution_count": null,
      "metadata": {
        "colab": {
          "base_uri": "https://localhost:8080/"
        },
        "id": "SS85ettvHKKm",
        "outputId": "e5c713aa-806b-4bf3-f6e0-292bd29a97e9"
      },
      "outputs": [
        {
          "name": "stdout",
          "output_type": "stream",
          "text": [
            "Model: \"sequential\"\n",
            "_________________________________________________________________\n",
            " Layer (type)                Output Shape              Param #   \n",
            "=================================================================\n",
            " average_pooling3d (AverageP  (None, 30, 36, 30, 1)    0         \n",
            " ooling3D)                                                       \n",
            "                                                                 \n",
            " conv3d (Conv3D)             (None, 30, 36, 30, 128)   3584      \n",
            "                                                                 \n",
            " batch_normalization (BatchN  (None, 30, 36, 30, 128)  512       \n",
            " ormalization)                                                   \n",
            "                                                                 \n",
            " activation (Activation)     (None, 30, 36, 30, 128)   0         \n",
            "                                                                 \n",
            " conv3d_1 (Conv3D)           (None, 30, 36, 30, 32)    110624    \n",
            "                                                                 \n",
            " batch_normalization_1 (Batc  (None, 30, 36, 30, 32)   128       \n",
            " hNormalization)                                                 \n",
            "                                                                 \n",
            " activation_1 (Activation)   (None, 30, 36, 30, 32)    0         \n",
            "                                                                 \n",
            " max_pooling3d (MaxPooling3D  (None, 7, 9, 7, 32)      0         \n",
            " )                                                               \n",
            "                                                                 \n",
            " flatten (Flatten)           (None, 14112)             0         \n",
            "                                                                 \n",
            " dense (Dense)               (None, 200)               2822600   \n",
            "                                                                 \n",
            " batch_normalization_2 (Batc  (None, 200)              800       \n",
            " hNormalization)                                                 \n",
            "                                                                 \n",
            " activation_2 (Activation)   (None, 200)               0         \n",
            "                                                                 \n",
            " dense_1 (Dense)             (None, 32)                6432      \n",
            "                                                                 \n",
            " batch_normalization_3 (Batc  (None, 32)               128       \n",
            " hNormalization)                                                 \n",
            "                                                                 \n",
            " activation_3 (Activation)   (None, 32)                0         \n",
            "                                                                 \n",
            " dense_2 (Dense)             (None, 2)                 66        \n",
            "                                                                 \n",
            "=================================================================\n",
            "Total params: 2,944,874\n",
            "Trainable params: 2,944,090\n",
            "Non-trainable params: 784\n",
            "_________________________________________________________________\n"
          ]
        }
      ],
      "source": [
        "# The 3D CNN as described by Liang et al. (2022)\n",
        "\n",
        "# We first define the input shape which are the three axes of the 3D image + the\n",
        "# color channel\n",
        "input_shape = (61, 73, 61, 1)  # the input has a single channel\n",
        "\n",
        "# We then define the model architecture\n",
        "model = Sequential()\n",
        "\n",
        "# First layer of average pooling\n",
        "model.add(layers.AveragePooling3D(pool_size=(2, 2, 2), \n",
        "                           strides=(2, 2, 2), \n",
        "                           input_shape=input_shape))\n",
        "    \n",
        "# Two convolutional layers with batch normalization\n",
        "# We assume 'relu' activation\n",
        "model.add(layers.Conv3D(filters=128, \n",
        "                        kernel_size=(3, 3, 3), \n",
        "                        padding='same'))\n",
        "model.add(layers.BatchNormalization())\n",
        "model.add(layers.Activation('relu'))\n",
        "    \n",
        "model.add(layers.Conv3D(filters=32, \n",
        "                        kernel_size=(3, 3, 3), \n",
        "                        padding='same'))\n",
        "model.add(layers.BatchNormalization())\n",
        "model.add(layers.Activation('relu'))\n",
        "    \n",
        "# Max-pooling layer\n",
        "model.add(layers.MaxPooling3D(pool_size=(4, 4, 4), strides=(4, 4, 4))),\n",
        "    \n",
        "# Flatten the output\n",
        "model.add(layers.Flatten())\n",
        "    \n",
        "# First fully connected layer with batch normalization\n",
        "model.add(layers.Dense(units=200))\n",
        "model.add(layers.BatchNormalization())\n",
        "model.add(layers.Activation('relu'))\n",
        "    \n",
        "# Second fully connected layer with batch normalization\n",
        "model.add(layers.Dense(units=32))\n",
        "model.add(layers.BatchNormalization())\n",
        "model.add(layers.Activation('relu'))\n",
        "    \n",
        "# Output layer with softmax activation for binary classification\n",
        "# 2 units since we have two classes that can be classified\n",
        "model.add(layers.Dense(units=2, activation='softmax'))\n",
        "\n",
        "# Print the model summary\n",
        "model.summary()\n",
        "\n",
        "# We compile the model with binary cross-entropy loss and SGD optimizer with momentum\n",
        "model.compile(loss='binary_crossentropy', \n",
        "              optimizer=SGD(learning_rate=0.00005, momentum=0.9),\n",
        "              metrics = ['accuracy'])\n",
        "\n",
        "# We define the early stopping criteria that the model will stop\n",
        "# when the validation accuracy hasn't improved after 15 epochs\n",
        "early_stopping_cb = EarlyStopping(monitor=\"val_accuracy\", patience=15)"
      ]
    },
    {
      "cell_type": "code",
      "execution_count": null,
      "metadata": {
        "colab": {
          "base_uri": "https://localhost:8080/"
        },
        "id": "bBGzJJ2OHk-2",
        "outputId": "2425d3dc-d4fd-4ea3-fbf9-085313b9ddc9"
      },
      "outputs": [
        {
          "data": {
            "text/plain": [
              "795"
            ]
          },
          "execution_count": 21,
          "metadata": {},
          "output_type": "execute_result"
        }
      ],
      "source": [
        "# Delete some more variables to clear up RAM\n",
        "del train_loader, validation_loader\n",
        "gc.collect()"
      ]
    },
    {
      "cell_type": "code",
      "execution_count": null,
      "metadata": {
        "colab": {
          "base_uri": "https://localhost:8080/"
        },
        "id": "dfsgFY8tHk-4",
        "outputId": "466c378c-ce06-4d03-cdb9-49ff44b0ce22"
      },
      "outputs": [
        {
          "name": "stdout",
          "output_type": "stream",
          "text": [
            "Epoch 1/50\n",
            "60/60 - 10s - loss: 0.7971 - accuracy: 0.4778 - val_loss: 0.6956 - val_accuracy: 0.4778 - 10s/epoch - 170ms/step\n",
            "Epoch 2/50\n",
            "60/60 - 5s - loss: 0.7326 - accuracy: 0.5528 - val_loss: 0.6898 - val_accuracy: 0.5333 - 5s/epoch - 75ms/step\n",
            "Epoch 3/50\n",
            "60/60 - 5s - loss: 0.7185 - accuracy: 0.5889 - val_loss: 0.6971 - val_accuracy: 0.5222 - 5s/epoch - 79ms/step\n",
            "Epoch 4/50\n",
            "60/60 - 5s - loss: 0.6718 - accuracy: 0.6694 - val_loss: 0.7128 - val_accuracy: 0.4444 - 5s/epoch - 76ms/step\n",
            "Epoch 5/50\n",
            "60/60 - 5s - loss: 0.6624 - accuracy: 0.6917 - val_loss: 0.7114 - val_accuracy: 0.4556 - 5s/epoch - 79ms/step\n",
            "Epoch 6/50\n",
            "60/60 - 5s - loss: 0.6304 - accuracy: 0.7083 - val_loss: 0.7179 - val_accuracy: 0.4778 - 5s/epoch - 82ms/step\n",
            "Epoch 7/50\n",
            "60/60 - 5s - loss: 0.6173 - accuracy: 0.7500 - val_loss: 0.7096 - val_accuracy: 0.5111 - 5s/epoch - 77ms/step\n",
            "Epoch 8/50\n",
            "60/60 - 5s - loss: 0.6012 - accuracy: 0.7611 - val_loss: 0.7263 - val_accuracy: 0.5444 - 5s/epoch - 77ms/step\n",
            "Epoch 9/50\n",
            "60/60 - 5s - loss: 0.6031 - accuracy: 0.7611 - val_loss: 0.7183 - val_accuracy: 0.6000 - 5s/epoch - 81ms/step\n",
            "Epoch 10/50\n",
            "60/60 - 5s - loss: 0.5664 - accuracy: 0.8028 - val_loss: 0.7167 - val_accuracy: 0.5667 - 5s/epoch - 77ms/step\n",
            "Epoch 11/50\n",
            "60/60 - 4s - loss: 0.5546 - accuracy: 0.8222 - val_loss: 0.7271 - val_accuracy: 0.5222 - 4s/epoch - 73ms/step\n",
            "Epoch 12/50\n",
            "60/60 - 5s - loss: 0.5442 - accuracy: 0.8083 - val_loss: 0.7371 - val_accuracy: 0.5778 - 5s/epoch - 79ms/step\n",
            "Epoch 13/50\n",
            "60/60 - 4s - loss: 0.5316 - accuracy: 0.8417 - val_loss: 0.7385 - val_accuracy: 0.5778 - 4s/epoch - 72ms/step\n",
            "Epoch 14/50\n",
            "60/60 - 5s - loss: 0.5207 - accuracy: 0.8417 - val_loss: 0.7571 - val_accuracy: 0.5556 - 5s/epoch - 79ms/step\n",
            "Epoch 15/50\n",
            "60/60 - 5s - loss: 0.5256 - accuracy: 0.8167 - val_loss: 0.7165 - val_accuracy: 0.5667 - 5s/epoch - 76ms/step\n",
            "Epoch 16/50\n",
            "60/60 - 4s - loss: 0.5039 - accuracy: 0.8361 - val_loss: 0.7420 - val_accuracy: 0.6222 - 4s/epoch - 75ms/step\n",
            "Epoch 17/50\n",
            "60/60 - 5s - loss: 0.5067 - accuracy: 0.8611 - val_loss: 0.7758 - val_accuracy: 0.5778 - 5s/epoch - 77ms/step\n",
            "Epoch 18/50\n",
            "60/60 - 5s - loss: 0.4894 - accuracy: 0.8694 - val_loss: 0.7728 - val_accuracy: 0.5000 - 5s/epoch - 77ms/step\n",
            "Epoch 19/50\n",
            "60/60 - 5s - loss: 0.4694 - accuracy: 0.8722 - val_loss: 0.7503 - val_accuracy: 0.5333 - 5s/epoch - 80ms/step\n",
            "Epoch 20/50\n",
            "60/60 - 5s - loss: 0.4655 - accuracy: 0.8500 - val_loss: 0.7815 - val_accuracy: 0.5111 - 5s/epoch - 82ms/step\n",
            "Epoch 21/50\n",
            "60/60 - 4s - loss: 0.4423 - accuracy: 0.8778 - val_loss: 0.7480 - val_accuracy: 0.5444 - 4s/epoch - 72ms/step\n",
            "Epoch 22/50\n",
            "60/60 - 4s - loss: 0.4450 - accuracy: 0.8861 - val_loss: 0.7706 - val_accuracy: 0.4778 - 4s/epoch - 71ms/step\n",
            "Epoch 23/50\n",
            "60/60 - 5s - loss: 0.4341 - accuracy: 0.8889 - val_loss: 0.7554 - val_accuracy: 0.5556 - 5s/epoch - 77ms/step\n",
            "Epoch 24/50\n",
            "60/60 - 4s - loss: 0.4240 - accuracy: 0.9028 - val_loss: 0.7528 - val_accuracy: 0.4889 - 4s/epoch - 73ms/step\n",
            "Epoch 25/50\n",
            "60/60 - 5s - loss: 0.4001 - accuracy: 0.9250 - val_loss: 0.7828 - val_accuracy: 0.4889 - 5s/epoch - 77ms/step\n",
            "Epoch 26/50\n",
            "60/60 - 5s - loss: 0.4024 - accuracy: 0.9194 - val_loss: 0.7301 - val_accuracy: 0.5333 - 5s/epoch - 80ms/step\n",
            "Epoch 27/50\n",
            "60/60 - 4s - loss: 0.3965 - accuracy: 0.9278 - val_loss: 0.7923 - val_accuracy: 0.5000 - 4s/epoch - 73ms/step\n",
            "Epoch 28/50\n",
            "60/60 - 5s - loss: 0.4026 - accuracy: 0.9139 - val_loss: 0.7463 - val_accuracy: 0.5556 - 5s/epoch - 78ms/step\n",
            "Epoch 29/50\n",
            "60/60 - 4s - loss: 0.4121 - accuracy: 0.8917 - val_loss: 0.7370 - val_accuracy: 0.5111 - 4s/epoch - 74ms/step\n",
            "Epoch 30/50\n",
            "60/60 - 4s - loss: 0.3727 - accuracy: 0.9417 - val_loss: 0.7299 - val_accuracy: 0.4889 - 4s/epoch - 71ms/step\n",
            "Epoch 31/50\n",
            "60/60 - 4s - loss: 0.3715 - accuracy: 0.9278 - val_loss: 0.7167 - val_accuracy: 0.5333 - 4s/epoch - 74ms/step\n"
          ]
        },
        {
          "data": {
            "text/plain": [
              "<keras.callbacks.History at 0x7f32505e7220>"
            ]
          },
          "execution_count": 22,
          "metadata": {},
          "output_type": "execute_result"
        }
      ],
      "source": [
        "# We train the model, validating it at the end of each epoch\n",
        "epochs = 50\n",
        "model.fit(\n",
        "    train_dataset,\n",
        "    validation_data=validation_dataset,\n",
        "    epochs=epochs,\n",
        "    shuffle=True,\n",
        "    verbose=2,\n",
        "    callbacks=[early_stopping_cb]\n",
        ")"
      ]
    },
    {
      "cell_type": "code",
      "execution_count": null,
      "metadata": {
        "colab": {
          "base_uri": "https://localhost:8080/",
          "height": 715
        },
        "id": "0WlvlVcQHk-5",
        "outputId": "b58c36bd-7ae1-4b75-a396-036bd42f7e22"
      },
      "outputs": [
        {
          "name": "stdout",
          "output_type": "stream",
          "text": [
            "2/2 [==============================] - 3s 1s/step\n",
            "[0 0 1 1 0 0 1 1 0 0 1 0 0 1 0 0 1 0 1 1 0 1 1 1 1 1 0 0 1 1 0 0 0 1 1 1 1\n",
            " 0 0 1 1 0 1 0 1 1 0 1 0 1]\n",
            "[0 1 0 1 1 1 0 1 0 1 1 0 0 1 0 1 1 1 0 0 1 1 0 0 1 0 1 1 1 1 1 1 1 0 0 0 0\n",
            " 1 1 1 1 1 0 0 0 1 0 1 0 0]\n",
            "              precision    recall  f1-score   support\n",
            "\n",
            "           0       0.35      0.36      0.36        22\n",
            "           1       0.48      0.46      0.47        28\n",
            "\n",
            "    accuracy                           0.42        50\n",
            "   macro avg       0.41      0.41      0.41        50\n",
            "weighted avg       0.42      0.42      0.42        50\n",
            "\n"
          ]
        },
        {
          "data": {
            "text/plain": [
              "<sklearn.metrics._plot.confusion_matrix.ConfusionMatrixDisplay at 0x7f331b170190>"
            ]
          },
          "execution_count": 23,
          "metadata": {},
          "output_type": "execute_result"
        },
        {
          "data": {
            "image/png": "[encoded data removed]",
            "text/plain": [
              "<Figure size 640x480 with 2 Axes>"
            ]
          },
          "metadata": {},
          "output_type": "display_data"
        }
      ],
      "source": [
        "# We add a dimension to x_test so it can be fed into the model\n",
        "x_test = np.expand_dims(x_test, axis = 4)\n",
        "\n",
        "# Predicting the test labels using the model\n",
        "prediction = model.predict(x_test)\n",
        "\n",
        "# Returning the index of label with the highest score\n",
        "test_predicted_labels = np.argmax(prediction, axis = 1)\n",
        "print(test_predicted_labels)\n",
        "test_true_labels = np.argmax(y_test, axis = 1)\n",
        "print(test_true_labels)\n",
        "\n",
        "# Calculating the precision, recall and accuracy of the model\n",
        "print(classification_report(test_true_labels,test_predicted_labels))\n",
        "\n",
        "# Making the confusion matrix\n",
        "cm = confusion_matrix(test_true_labels, test_predicted_labels)\n",
        "\n",
        "# Plotting the confusion matrix\n",
        "cmd = ConfusionMatrixDisplay(confusion_matrix=cm)\n",
        "cmd.plot(include_values=True, cmap='viridis', ax=None, xticks_rotation='horizontal')"
      ]
    },
    {
      "cell_type": "code",
      "execution_count": null,
      "metadata": {
        "colab": {
          "base_uri": "https://localhost:8080/"
        },
        "id": "WC1zIO2IU3RK",
        "outputId": "116c59af-789f-41fa-89b8-dad08e1c35d1"
      },
      "outputs": [
        {
          "name": "stdout",
          "output_type": "stream",
          "text": [
            "2/2 [==============================] - 0s 71ms/step - loss: 0.7709 - accuracy: 0.4200\n"
          ]
        }
      ],
      "source": [
        "# Save the results of the model\n",
        "results_fmri = model.evaluate(x_test, y_test)"
      ]
    },
    {
      "cell_type": "code",
      "execution_count": null,
      "metadata": {
        "id": "46MS-t3RVLrm"
      },
      "outputs": [],
      "source": [
        "# Make the initial test and confusion matrix list\n",
        "'''\n",
        "test_list = []\n",
        "cm_list = []\n",
        "'''"
      ]
    },
    {
      "cell_type": "code",
      "execution_count": null,
      "metadata": {
        "id": "Nh5usUoRVLru"
      },
      "outputs": [],
      "source": [
        "# Add the test accuracy and confusion matrix to the lists\n",
        "'''\n",
        "test_list.append(results_fmri[1])\n",
        "cm_list.append(cm)\n",
        "'''"
      ]
    },
    {
      "cell_type": "code",
      "execution_count": null,
      "metadata": {
        "colab": {
          "base_uri": "https://localhost:8080/"
        },
        "id": "lteLoIqNVLru",
        "outputId": "c753987b-de00-43c5-a9fd-a77a9a8298b8"
      },
      "outputs": [
        {
          "name": "stdout",
          "output_type": "stream",
          "text": [
            "[0.5]\n",
            "[[[20  2]\n",
            "  [23  5]]]\n"
          ]
        }
      ],
      "source": [
        "# Make an array out of the list to easily save them\n",
        "'''\n",
        "test_acc_array = np.array(test_list)\n",
        "test_cm_array = np.array(cm_list)\n",
        "\n",
        "print(test_acc_array)\n",
        "print(test_cm_array)\n",
        "'''"
      ]
    },
    {
      "cell_type": "code",
      "execution_count": null,
      "metadata": {
        "id": "zSWZRutxVLru"
      },
      "outputs": [],
      "source": [
        "# Saving the first arrays\n",
        "'''\n",
        "np.save('/content/drive/MyDrive/MasterThesis/Data/test_acc_array.npy', test_acc_array)\n",
        "np.save('/content/drive/MyDrive/MasterThesis/Data/test_cm_array.npy', test_cm_array)\n",
        "'''"
      ]
    },
    {
      "cell_type": "code",
      "execution_count": null,
      "metadata": {
        "id": "d4XsH-yhVLrv"
      },
      "outputs": [],
      "source": [
        "# Loading in the array again after resetting the kernel\n",
        "test_acc_array = np.load('/content/drive/MyDrive/MasterThesis/Data/test_acc_array.npy')\n",
        "test_cm_array = np.load('/content/drive/MyDrive/MasterThesis/Data/test_cm_array.npy')"
      ]
    },
    {
      "cell_type": "code",
      "execution_count": null,
      "metadata": {
        "id": "8KAb6FiNJRVa"
      },
      "outputs": [],
      "source": [
        "# Appending the new results to the array\n",
        "test_acc_array = np.append(test_acc_array, results_fmri[1])"
      ]
    },
    {
      "cell_type": "code",
      "execution_count": null,
      "metadata": {
        "colab": {
          "base_uri": "https://localhost:8080/"
        },
        "id": "D3UoXyf7JdUl",
        "outputId": "435020cd-a7a0-49c5-9c95-95c24006adda"
      },
      "outputs": [
        {
          "name": "stdout",
          "output_type": "stream",
          "text": [
            "[0.5        0.5        0.46000001 0.5        0.41999999]\n"
          ]
        }
      ],
      "source": [
        "print(test_acc_array)"
      ]
    },
    {
      "cell_type": "code",
      "execution_count": null,
      "metadata": {
        "colab": {
          "base_uri": "https://localhost:8080/"
        },
        "id": "ujhdWcavVLrv",
        "outputId": "161d34a6-8771-4182-a249-7fca4765c816"
      },
      "outputs": [
        {
          "name": "stdout",
          "output_type": "stream",
          "text": [
            "[0.5        0.5        0.46000001 0.5        0.41999999]\n"
          ]
        }
      ],
      "source": [
        "print(test_acc_array)"
      ]
    },
    {
      "cell_type": "code",
      "execution_count": null,
      "metadata": {
        "id": "a1H5O0pJJTe6"
      },
      "outputs": [],
      "source": [
        "# Appending the new confusion matrix to the array\n",
        "test_cm_array = np.append(test_cm_array, cm)"
      ]
    },
    {
      "cell_type": "code",
      "execution_count": null,
      "metadata": {
        "colab": {
          "base_uri": "https://localhost:8080/"
        },
        "id": "VC04GvjiVLrv",
        "outputId": "c1329be7-1156-4efa-e55a-ce8703992dc8"
      },
      "outputs": [
        {
          "name": "stdout",
          "output_type": "stream",
          "text": [
            "[20  2 23  5 19  3 22  6 17  5 22  6 10 12 13 15  8 14 15 13]\n"
          ]
        }
      ],
      "source": [
        "print(test_cm_array)"
      ]
    },
    {
      "cell_type": "code",
      "execution_count": null,
      "metadata": {
        "id": "p7vaQRKOVLrv"
      },
      "outputs": [],
      "source": [
        "# Saving the array\n",
        "np.save('/content/drive/MyDrive/MasterThesis/Data/test_acc_array_fmri.npy', test_acc_array)\n",
        "np.save('/content/drive/MyDrive/MasterThesis/Data/test_cm_array_fmri.npy', test_cm_array)"
      ]
    },
    {
      "cell_type": "code",
      "execution_count": 36,
      "metadata": {
        "id": "B9cc625mVLrv"
      },
      "outputs": [],
      "source": [
        "test_acc_array = np.load('/content/drive/MyDrive/MasterThesis/Data/test_acc_array_fmri.npy')\n",
        "test_cm_array = np.load('/content/drive/MyDrive/MasterThesis/Data/test_cm_array_fmri.npy')"
      ]
    },
    {
      "cell_type": "code",
      "execution_count": 37,
      "metadata": {
        "colab": {
          "base_uri": "https://localhost:8080/"
        },
        "id": "JkdfMl5RVLrw",
        "outputId": "00cd28e9-c155-4f83-ebef-3a27d4232df0"
      },
      "outputs": [
        {
          "name": "stdout",
          "output_type": "stream",
          "text": [
            "[0.5        0.5        0.46000001 0.5        0.41999999]\n",
            "0.4759999990463257\n"
          ]
        }
      ],
      "source": [
        "# Calculating the mean test accuracy\n",
        "print(test_acc_array)\n",
        "mean_test_acc = np.mean(test_acc_array)\n",
        "print(mean_test_acc)"
      ]
    },
    {
      "cell_type": "code",
      "execution_count": 38,
      "metadata": {
        "colab": {
          "base_uri": "https://localhost:8080/"
        },
        "id": "ORpB5ir2VLrw",
        "outputId": "1619bd2d-43d1-4cbb-fa72-c9bdd53e9ea3"
      },
      "outputs": [
        {
          "name": "stdout",
          "output_type": "stream",
          "text": [
            "(5, 2, 2)\n",
            "[[[20  2]\n",
            "  [23  5]]\n",
            "\n",
            " [[19  3]\n",
            "  [22  6]]\n",
            "\n",
            " [[17  5]\n",
            "  [22  6]]\n",
            "\n",
            " [[10 12]\n",
            "  [13 15]]\n",
            "\n",
            " [[ 8 14]\n",
            "  [15 13]]]\n"
          ]
        }
      ],
      "source": [
        "# Reshape the confusion matrix array to the correct shape\n",
        "corr_cm_array = np.reshape(test_cm_array, (5,2,2))\n",
        "print(corr_cm_array.shape)\n",
        "print(corr_cm_array)"
      ]
    },
    {
      "cell_type": "code",
      "execution_count": 39,
      "metadata": {
        "colab": {
          "base_uri": "https://localhost:8080/"
        },
        "id": "W7tYPXgCVLrx",
        "outputId": "79ec0676-aa35-41fa-aa15-a60e064faf64"
      },
      "outputs": [
        {
          "name": "stdout",
          "output_type": "stream",
          "text": [
            "[[14.8  7.2]\n",
            " [19.   9. ]]\n"
          ]
        }
      ],
      "source": [
        "# Calculating the mean of the confusion matrix\n",
        "mean_cm = np.mean(corr_cm_array, axis = 0)\n",
        "print(mean_cm)"
      ]
    },
    {
      "cell_type": "code",
      "execution_count": 40,
      "metadata": {
        "colab": {
          "base_uri": "https://localhost:8080/",
          "height": 489
        },
        "id": "QBmabI_Og1jE",
        "outputId": "40ec0b86-6209-4b8c-dd21-14fb82d390d2"
      },
      "outputs": [
        {
          "data": {
            "text/plain": [
              "Text(0.5, 1.0, '3D-CNN - Mean Image')"
            ]
          },
          "execution_count": 40,
          "metadata": {},
          "output_type": "execute_result"
        },
        {
          "data": {
            "image/png": "[encoded data removed]",
            "text/plain": [
              "<Figure size 640x480 with 2 Axes>"
            ]
          },
          "metadata": {},
          "output_type": "display_data"
        }
      ],
      "source": [
        "# Creating the confusion matrix display\n",
        "confusion = mean_cm\n",
        "cmd = ConfusionMatrixDisplay(confusion_matrix=confusion, display_labels = ['TD', 'ASD'])\n",
        "\n",
        "cmd.plot(include_values=True, cmap='Blues', ax=None, xticks_rotation='horizontal')\n",
        "cmd.ax_.set_title(\"3D-CNN - Mean Image\")"
      ]
    },
    {
      "cell_type": "code",
      "execution_count": null,
      "metadata": {
        "colab": {
          "base_uri": "https://localhost:8080/"
        },
        "id": "ePm1y2qpg1jD",
        "outputId": "8c96a87a-8bf1-4947-f417-4da5900dbec3"
      },
      "outputs": [
        {
          "name": "stdout",
          "output_type": "stream",
          "text": [
            "Sensitivity ASD: 0.321\n",
            "Specificity TD: 0.673\n"
          ]
        }
      ],
      "source": [
        "# Calculating the mean sensitivity of the model\n",
        "sensitivity_asd = mean_cm[1][1]/(mean_cm[1][1] + mean_cm[1][0])\n",
        "\n",
        "print(\"Sensitivity ASD:\", np.round(sensitivity_asd, decimals = 3))\n",
        "\n",
        "# Calculating the mean specificity of the model\n",
        "specificity_td = mean_cm[0][0]/(mean_cm[0][0] + mean_cm[0][1])\n",
        "\n",
        "print(\"Specificity TD:\", np.round(specificity_td, decimals = 3))"
      ]
    }
  ],
  "metadata": {
    "accelerator": "GPU",
    "colab": {
      "gpuType": "T4",
      "provenance": []
    },
    "gpuClass": "standard",
    "kernelspec": {
      "display_name": "Python 3",
      "name": "python3"
    },
    "language_info": {
      "name": "python"
    }
  },
  "nbformat": 4,
  "nbformat_minor": 0
}
